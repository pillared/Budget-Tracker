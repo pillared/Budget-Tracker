{
 "cells": [
  {
   "cell_type": "code",
   "execution_count": 5,
   "metadata": {
    "scrolled": true
   },
   "outputs": [
    {
     "name": "stdout",
     "output_type": "stream",
     "text": [
      "Authenticating...\n",
      "\n",
      "\n",
      "Description of DataFrame:\n",
      "\n",
      "\n",
      "Food Purchase by Date:\n",
      "\n",
      "        Date  Check Number                       Description  Type  Charge  \\\n",
      "0     9/4/18             0   RACETRAC100                BRAD  Food    3.98   \n",
      "2     9/4/18             0   JOES EATS   SWEETS INC     BRAD  Food   10.00   \n",
      "3     9/5/18             0   MOE S SW GRILL 4991        ATLA  Food    5.43   \n",
      "4     9/6/18             0   CHECKERS 1135              DULU  Food    2.12   \n",
      "5     9/6/18             0   DUNKIN #310092 Q35         ATLA  Food    5.56   \n",
      "..       ...           ...                               ...   ...     ...   \n",
      "528  2/14/20             0   SQ *BARAKA SHAWARMA        ATLA  Food    9.16   \n",
      "529  2/18/20             0   REVELATOR ATL WESTSIDE     ATLA  Food    6.63   \n",
      "531  2/19/20             0   WILLYS GEORGIA STATE       ATLA  Food    1.20   \n",
      "532  2/19/20             0   GSU CHICK-FIL-A            ATLA  Food    4.35   \n",
      "534  2/20/20             0   SUBWAY        00046276     DULU  Food   13.74   \n",
      "\n",
      "     Debit  Credit  Running Balance  \n",
      "0     3.98     0.0          1179.30  \n",
      "2    10.00     0.0          1183.28  \n",
      "3     5.43     0.0          1167.87  \n",
      "4     2.12     0.0          1165.75  \n",
      "5     5.56     0.0          1160.19  \n",
      "..     ...     ...              ...  \n",
      "528   9.16     0.0          1377.08  \n",
      "529   6.63     0.0          1370.45  \n",
      "531   1.20     0.0          1519.25  \n",
      "532   4.35     0.0          1514.90  \n",
      "534  13.74     0.0           481.32  \n",
      "\n",
      "[224 rows x 8 columns]\n",
      "\n",
      "\n",
      "Charge Category Value:\n",
      "\n",
      "Food                         224\n",
      "Money Transfer - Debit        53\n",
      "Transportation                48\n",
      "Gasoline                      42\n",
      "Money Transfer - Credit       33\n",
      "Grocery                       19\n",
      "Entertainment                 18\n",
      "PayCheck Deposit - Zoes       13\n",
      "Ally Transfer - From          11\n",
      "Deposit                       11\n",
      "Mom Fund                       9\n",
      "CC BillPay                     8\n",
      "Housing - Rent                 7\n",
      "Housing - Repair               7\n",
      "Unknown                        7\n",
      "Ally Transfer - To             5\n",
      "PayCheck Deposit - Bocado      4\n",
      "Withdrawal                     4\n",
      "Refund                         3\n",
      "Other Fee                      3\n",
      "Mom Payment                    2\n",
      "Vehicle - Repair               1\n",
      "Medical                        1\n",
      "Fashion                        1\n",
      "Gift Deposit                   1\n",
      "Name: Type, dtype: int64\n",
      "                           Type\n",
      "Food                        224\n",
      "Money Transfer - Debit       53\n",
      "Transportation               48\n",
      "Gasoline                     42\n",
      "Money Transfer - Credit      33\n",
      "Grocery                      19\n",
      "Entertainment                18\n",
      "PayCheck Deposit - Zoes      13\n",
      "Ally Transfer - From         11\n",
      "Deposit                      11\n",
      "Mom Fund                      9\n",
      "CC BillPay                    8\n",
      "Housing - Rent                7\n",
      "Housing - Repair              7\n",
      "Unknown                       7\n",
      "Ally Transfer - To            5\n",
      "PayCheck Deposit - Bocado     4\n",
      "Withdrawal                    4\n",
      "Refund                        3\n",
      "Other Fee                     3\n",
      "Mom Payment                   2\n",
      "Vehicle - Repair              1\n",
      "Medical                       1\n",
      "Fashion                       1\n",
      "Gift Deposit                  1\n"
     ]
    },
    {
     "data": {
      "application/vnd.plotly.v1+json": {
       "config": {
        "plotlyServerURL": "https://plot.ly"
       },
       "data": [
        {
         "alignmentgroup": "True",
         "hoverlabel": {
          "namelength": 0
         },
         "hovertemplate": "Category=%{x}<br>Frequency =%{y}",
         "legendgroup": "",
         "marker": {
          "color": "#636efa"
         },
         "name": "",
         "offsetgroup": "",
         "orientation": "v",
         "showlegend": false,
         "textposition": "auto",
         "type": "bar",
         "x": [
          "Food",
          "Money Transfer - Debit",
          "Transportation",
          "Gasoline",
          "Money Transfer - Credit",
          "Grocery",
          "Entertainment",
          "PayCheck Deposit - Zoes",
          "Ally Transfer - From",
          "Deposit",
          "Mom Fund",
          "CC BillPay",
          "Housing - Rent",
          "Housing - Repair",
          "Unknown",
          "Ally Transfer - To",
          "PayCheck Deposit - Bocado",
          "Withdrawal",
          "Refund",
          "Other Fee",
          "Mom Payment",
          "Vehicle - Repair",
          "Medical",
          "Fashion",
          "Gift Deposit"
         ],
         "xaxis": "x",
         "y": [
          224,
          53,
          48,
          42,
          33,
          19,
          18,
          13,
          11,
          11,
          9,
          8,
          7,
          7,
          7,
          5,
          4,
          4,
          3,
          3,
          2,
          1,
          1,
          1,
          1
         ],
         "yaxis": "y"
        }
       ],
       "layout": {
        "barmode": "relative",
        "legend": {
         "tracegroupgap": 0
        },
        "template": {
         "data": {
          "bar": [
           {
            "error_x": {
             "color": "#2a3f5f"
            },
            "error_y": {
             "color": "#2a3f5f"
            },
            "marker": {
             "line": {
              "color": "#E5ECF6",
              "width": 0.5
             }
            },
            "type": "bar"
           }
          ],
          "barpolar": [
           {
            "marker": {
             "line": {
              "color": "#E5ECF6",
              "width": 0.5
             }
            },
            "type": "barpolar"
           }
          ],
          "carpet": [
           {
            "aaxis": {
             "endlinecolor": "#2a3f5f",
             "gridcolor": "white",
             "linecolor": "white",
             "minorgridcolor": "white",
             "startlinecolor": "#2a3f5f"
            },
            "baxis": {
             "endlinecolor": "#2a3f5f",
             "gridcolor": "white",
             "linecolor": "white",
             "minorgridcolor": "white",
             "startlinecolor": "#2a3f5f"
            },
            "type": "carpet"
           }
          ],
          "choropleth": [
           {
            "colorbar": {
             "outlinewidth": 0,
             "ticks": ""
            },
            "type": "choropleth"
           }
          ],
          "contour": [
           {
            "colorbar": {
             "outlinewidth": 0,
             "ticks": ""
            },
            "colorscale": [
             [
              0,
              "#0d0887"
             ],
             [
              0.1111111111111111,
              "#46039f"
             ],
             [
              0.2222222222222222,
              "#7201a8"
             ],
             [
              0.3333333333333333,
              "#9c179e"
             ],
             [
              0.4444444444444444,
              "#bd3786"
             ],
             [
              0.5555555555555556,
              "#d8576b"
             ],
             [
              0.6666666666666666,
              "#ed7953"
             ],
             [
              0.7777777777777778,
              "#fb9f3a"
             ],
             [
              0.8888888888888888,
              "#fdca26"
             ],
             [
              1,
              "#f0f921"
             ]
            ],
            "type": "contour"
           }
          ],
          "contourcarpet": [
           {
            "colorbar": {
             "outlinewidth": 0,
             "ticks": ""
            },
            "type": "contourcarpet"
           }
          ],
          "heatmap": [
           {
            "colorbar": {
             "outlinewidth": 0,
             "ticks": ""
            },
            "colorscale": [
             [
              0,
              "#0d0887"
             ],
             [
              0.1111111111111111,
              "#46039f"
             ],
             [
              0.2222222222222222,
              "#7201a8"
             ],
             [
              0.3333333333333333,
              "#9c179e"
             ],
             [
              0.4444444444444444,
              "#bd3786"
             ],
             [
              0.5555555555555556,
              "#d8576b"
             ],
             [
              0.6666666666666666,
              "#ed7953"
             ],
             [
              0.7777777777777778,
              "#fb9f3a"
             ],
             [
              0.8888888888888888,
              "#fdca26"
             ],
             [
              1,
              "#f0f921"
             ]
            ],
            "type": "heatmap"
           }
          ],
          "heatmapgl": [
           {
            "colorbar": {
             "outlinewidth": 0,
             "ticks": ""
            },
            "colorscale": [
             [
              0,
              "#0d0887"
             ],
             [
              0.1111111111111111,
              "#46039f"
             ],
             [
              0.2222222222222222,
              "#7201a8"
             ],
             [
              0.3333333333333333,
              "#9c179e"
             ],
             [
              0.4444444444444444,
              "#bd3786"
             ],
             [
              0.5555555555555556,
              "#d8576b"
             ],
             [
              0.6666666666666666,
              "#ed7953"
             ],
             [
              0.7777777777777778,
              "#fb9f3a"
             ],
             [
              0.8888888888888888,
              "#fdca26"
             ],
             [
              1,
              "#f0f921"
             ]
            ],
            "type": "heatmapgl"
           }
          ],
          "histogram": [
           {
            "marker": {
             "colorbar": {
              "outlinewidth": 0,
              "ticks": ""
             }
            },
            "type": "histogram"
           }
          ],
          "histogram2d": [
           {
            "colorbar": {
             "outlinewidth": 0,
             "ticks": ""
            },
            "colorscale": [
             [
              0,
              "#0d0887"
             ],
             [
              0.1111111111111111,
              "#46039f"
             ],
             [
              0.2222222222222222,
              "#7201a8"
             ],
             [
              0.3333333333333333,
              "#9c179e"
             ],
             [
              0.4444444444444444,
              "#bd3786"
             ],
             [
              0.5555555555555556,
              "#d8576b"
             ],
             [
              0.6666666666666666,
              "#ed7953"
             ],
             [
              0.7777777777777778,
              "#fb9f3a"
             ],
             [
              0.8888888888888888,
              "#fdca26"
             ],
             [
              1,
              "#f0f921"
             ]
            ],
            "type": "histogram2d"
           }
          ],
          "histogram2dcontour": [
           {
            "colorbar": {
             "outlinewidth": 0,
             "ticks": ""
            },
            "colorscale": [
             [
              0,
              "#0d0887"
             ],
             [
              0.1111111111111111,
              "#46039f"
             ],
             [
              0.2222222222222222,
              "#7201a8"
             ],
             [
              0.3333333333333333,
              "#9c179e"
             ],
             [
              0.4444444444444444,
              "#bd3786"
             ],
             [
              0.5555555555555556,
              "#d8576b"
             ],
             [
              0.6666666666666666,
              "#ed7953"
             ],
             [
              0.7777777777777778,
              "#fb9f3a"
             ],
             [
              0.8888888888888888,
              "#fdca26"
             ],
             [
              1,
              "#f0f921"
             ]
            ],
            "type": "histogram2dcontour"
           }
          ],
          "mesh3d": [
           {
            "colorbar": {
             "outlinewidth": 0,
             "ticks": ""
            },
            "type": "mesh3d"
           }
          ],
          "parcoords": [
           {
            "line": {
             "colorbar": {
              "outlinewidth": 0,
              "ticks": ""
             }
            },
            "type": "parcoords"
           }
          ],
          "pie": [
           {
            "automargin": true,
            "type": "pie"
           }
          ],
          "scatter": [
           {
            "marker": {
             "colorbar": {
              "outlinewidth": 0,
              "ticks": ""
             }
            },
            "type": "scatter"
           }
          ],
          "scatter3d": [
           {
            "line": {
             "colorbar": {
              "outlinewidth": 0,
              "ticks": ""
             }
            },
            "marker": {
             "colorbar": {
              "outlinewidth": 0,
              "ticks": ""
             }
            },
            "type": "scatter3d"
           }
          ],
          "scattercarpet": [
           {
            "marker": {
             "colorbar": {
              "outlinewidth": 0,
              "ticks": ""
             }
            },
            "type": "scattercarpet"
           }
          ],
          "scattergeo": [
           {
            "marker": {
             "colorbar": {
              "outlinewidth": 0,
              "ticks": ""
             }
            },
            "type": "scattergeo"
           }
          ],
          "scattergl": [
           {
            "marker": {
             "colorbar": {
              "outlinewidth": 0,
              "ticks": ""
             }
            },
            "type": "scattergl"
           }
          ],
          "scattermapbox": [
           {
            "marker": {
             "colorbar": {
              "outlinewidth": 0,
              "ticks": ""
             }
            },
            "type": "scattermapbox"
           }
          ],
          "scatterpolar": [
           {
            "marker": {
             "colorbar": {
              "outlinewidth": 0,
              "ticks": ""
             }
            },
            "type": "scatterpolar"
           }
          ],
          "scatterpolargl": [
           {
            "marker": {
             "colorbar": {
              "outlinewidth": 0,
              "ticks": ""
             }
            },
            "type": "scatterpolargl"
           }
          ],
          "scatterternary": [
           {
            "marker": {
             "colorbar": {
              "outlinewidth": 0,
              "ticks": ""
             }
            },
            "type": "scatterternary"
           }
          ],
          "surface": [
           {
            "colorbar": {
             "outlinewidth": 0,
             "ticks": ""
            },
            "colorscale": [
             [
              0,
              "#0d0887"
             ],
             [
              0.1111111111111111,
              "#46039f"
             ],
             [
              0.2222222222222222,
              "#7201a8"
             ],
             [
              0.3333333333333333,
              "#9c179e"
             ],
             [
              0.4444444444444444,
              "#bd3786"
             ],
             [
              0.5555555555555556,
              "#d8576b"
             ],
             [
              0.6666666666666666,
              "#ed7953"
             ],
             [
              0.7777777777777778,
              "#fb9f3a"
             ],
             [
              0.8888888888888888,
              "#fdca26"
             ],
             [
              1,
              "#f0f921"
             ]
            ],
            "type": "surface"
           }
          ],
          "table": [
           {
            "cells": {
             "fill": {
              "color": "#EBF0F8"
             },
             "line": {
              "color": "white"
             }
            },
            "header": {
             "fill": {
              "color": "#C8D4E3"
             },
             "line": {
              "color": "white"
             }
            },
            "type": "table"
           }
          ]
         },
         "layout": {
          "annotationdefaults": {
           "arrowcolor": "#2a3f5f",
           "arrowhead": 0,
           "arrowwidth": 1
          },
          "coloraxis": {
           "colorbar": {
            "outlinewidth": 0,
            "ticks": ""
           }
          },
          "colorscale": {
           "diverging": [
            [
             0,
             "#8e0152"
            ],
            [
             0.1,
             "#c51b7d"
            ],
            [
             0.2,
             "#de77ae"
            ],
            [
             0.3,
             "#f1b6da"
            ],
            [
             0.4,
             "#fde0ef"
            ],
            [
             0.5,
             "#f7f7f7"
            ],
            [
             0.6,
             "#e6f5d0"
            ],
            [
             0.7,
             "#b8e186"
            ],
            [
             0.8,
             "#7fbc41"
            ],
            [
             0.9,
             "#4d9221"
            ],
            [
             1,
             "#276419"
            ]
           ],
           "sequential": [
            [
             0,
             "#0d0887"
            ],
            [
             0.1111111111111111,
             "#46039f"
            ],
            [
             0.2222222222222222,
             "#7201a8"
            ],
            [
             0.3333333333333333,
             "#9c179e"
            ],
            [
             0.4444444444444444,
             "#bd3786"
            ],
            [
             0.5555555555555556,
             "#d8576b"
            ],
            [
             0.6666666666666666,
             "#ed7953"
            ],
            [
             0.7777777777777778,
             "#fb9f3a"
            ],
            [
             0.8888888888888888,
             "#fdca26"
            ],
            [
             1,
             "#f0f921"
            ]
           ],
           "sequentialminus": [
            [
             0,
             "#0d0887"
            ],
            [
             0.1111111111111111,
             "#46039f"
            ],
            [
             0.2222222222222222,
             "#7201a8"
            ],
            [
             0.3333333333333333,
             "#9c179e"
            ],
            [
             0.4444444444444444,
             "#bd3786"
            ],
            [
             0.5555555555555556,
             "#d8576b"
            ],
            [
             0.6666666666666666,
             "#ed7953"
            ],
            [
             0.7777777777777778,
             "#fb9f3a"
            ],
            [
             0.8888888888888888,
             "#fdca26"
            ],
            [
             1,
             "#f0f921"
            ]
           ]
          },
          "colorway": [
           "#636efa",
           "#EF553B",
           "#00cc96",
           "#ab63fa",
           "#FFA15A",
           "#19d3f3",
           "#FF6692",
           "#B6E880",
           "#FF97FF",
           "#FECB52"
          ],
          "font": {
           "color": "#2a3f5f"
          },
          "geo": {
           "bgcolor": "white",
           "lakecolor": "white",
           "landcolor": "#E5ECF6",
           "showlakes": true,
           "showland": true,
           "subunitcolor": "white"
          },
          "hoverlabel": {
           "align": "left"
          },
          "hovermode": "closest",
          "mapbox": {
           "style": "light"
          },
          "paper_bgcolor": "white",
          "plot_bgcolor": "#E5ECF6",
          "polar": {
           "angularaxis": {
            "gridcolor": "white",
            "linecolor": "white",
            "ticks": ""
           },
           "bgcolor": "#E5ECF6",
           "radialaxis": {
            "gridcolor": "white",
            "linecolor": "white",
            "ticks": ""
           }
          },
          "scene": {
           "xaxis": {
            "backgroundcolor": "#E5ECF6",
            "gridcolor": "white",
            "gridwidth": 2,
            "linecolor": "white",
            "showbackground": true,
            "ticks": "",
            "zerolinecolor": "white"
           },
           "yaxis": {
            "backgroundcolor": "#E5ECF6",
            "gridcolor": "white",
            "gridwidth": 2,
            "linecolor": "white",
            "showbackground": true,
            "ticks": "",
            "zerolinecolor": "white"
           },
           "zaxis": {
            "backgroundcolor": "#E5ECF6",
            "gridcolor": "white",
            "gridwidth": 2,
            "linecolor": "white",
            "showbackground": true,
            "ticks": "",
            "zerolinecolor": "white"
           }
          },
          "shapedefaults": {
           "line": {
            "color": "#2a3f5f"
           }
          },
          "ternary": {
           "aaxis": {
            "gridcolor": "white",
            "linecolor": "white",
            "ticks": ""
           },
           "baxis": {
            "gridcolor": "white",
            "linecolor": "white",
            "ticks": ""
           },
           "bgcolor": "#E5ECF6",
           "caxis": {
            "gridcolor": "white",
            "linecolor": "white",
            "ticks": ""
           }
          },
          "title": {
           "x": 0.05
          },
          "xaxis": {
           "automargin": true,
           "gridcolor": "white",
           "linecolor": "white",
           "ticks": "",
           "title": {
            "standoff": 15
           },
           "zerolinecolor": "white",
           "zerolinewidth": 2
          },
          "yaxis": {
           "automargin": true,
           "gridcolor": "white",
           "linecolor": "white",
           "ticks": "",
           "title": {
            "standoff": 15
           },
           "zerolinecolor": "white",
           "zerolinewidth": 2
          }
         }
        },
        "title": {
         "text": "Amount of Items Purchases per Category"
        },
        "xaxis": {
         "anchor": "y",
         "domain": [
          0,
          1
         ],
         "title": {
          "text": "Category"
         }
        },
        "yaxis": {
         "anchor": "x",
         "domain": [
          0,
          1
         ],
         "title": {
          "text": "Frequency "
         }
        }
       }
      },
      "text/html": [
       "<div>\n",
       "        \n",
       "        \n",
       "            <div id=\"a22eccc4-cd48-43c4-a878-86ddfec6dccb\" class=\"plotly-graph-div\" style=\"height:525px; width:100%;\"></div>\n",
       "            <script type=\"text/javascript\">\n",
       "                require([\"plotly\"], function(Plotly) {\n",
       "                    window.PLOTLYENV=window.PLOTLYENV || {};\n",
       "                    \n",
       "                if (document.getElementById(\"a22eccc4-cd48-43c4-a878-86ddfec6dccb\")) {\n",
       "                    Plotly.newPlot(\n",
       "                        'a22eccc4-cd48-43c4-a878-86ddfec6dccb',\n",
       "                        [{\"alignmentgroup\": \"True\", \"hoverlabel\": {\"namelength\": 0}, \"hovertemplate\": \"Category=%{x}<br>Frequency =%{y}\", \"legendgroup\": \"\", \"marker\": {\"color\": \"#636efa\"}, \"name\": \"\", \"offsetgroup\": \"\", \"orientation\": \"v\", \"showlegend\": false, \"textposition\": \"auto\", \"type\": \"bar\", \"x\": [\"Food\", \"Money Transfer - Debit\", \"Transportation\", \"Gasoline\", \"Money Transfer - Credit\", \"Grocery\", \"Entertainment\", \"PayCheck Deposit - Zoes\", \"Ally Transfer - From\", \"Deposit\", \"Mom Fund\", \"CC BillPay\", \"Housing - Rent\", \"Housing - Repair\", \"Unknown\", \"Ally Transfer - To\", \"PayCheck Deposit - Bocado\", \"Withdrawal\", \"Refund\", \"Other Fee\", \"Mom Payment\", \"Vehicle - Repair\", \"Medical\", \"Fashion\", \"Gift Deposit\"], \"xaxis\": \"x\", \"y\": [224, 53, 48, 42, 33, 19, 18, 13, 11, 11, 9, 8, 7, 7, 7, 5, 4, 4, 3, 3, 2, 1, 1, 1, 1], \"yaxis\": \"y\"}],\n",
       "                        {\"barmode\": \"relative\", \"legend\": {\"tracegroupgap\": 0}, \"template\": {\"data\": {\"bar\": [{\"error_x\": {\"color\": \"#2a3f5f\"}, \"error_y\": {\"color\": \"#2a3f5f\"}, \"marker\": {\"line\": {\"color\": \"#E5ECF6\", \"width\": 0.5}}, \"type\": \"bar\"}], \"barpolar\": [{\"marker\": {\"line\": {\"color\": \"#E5ECF6\", \"width\": 0.5}}, \"type\": \"barpolar\"}], \"carpet\": [{\"aaxis\": {\"endlinecolor\": \"#2a3f5f\", \"gridcolor\": \"white\", \"linecolor\": \"white\", \"minorgridcolor\": \"white\", \"startlinecolor\": \"#2a3f5f\"}, \"baxis\": {\"endlinecolor\": \"#2a3f5f\", \"gridcolor\": \"white\", \"linecolor\": \"white\", \"minorgridcolor\": \"white\", \"startlinecolor\": \"#2a3f5f\"}, \"type\": \"carpet\"}], \"choropleth\": [{\"colorbar\": {\"outlinewidth\": 0, \"ticks\": \"\"}, \"type\": \"choropleth\"}], \"contour\": [{\"colorbar\": {\"outlinewidth\": 0, \"ticks\": \"\"}, \"colorscale\": [[0.0, \"#0d0887\"], [0.1111111111111111, \"#46039f\"], [0.2222222222222222, \"#7201a8\"], [0.3333333333333333, \"#9c179e\"], [0.4444444444444444, \"#bd3786\"], [0.5555555555555556, \"#d8576b\"], [0.6666666666666666, \"#ed7953\"], [0.7777777777777778, \"#fb9f3a\"], [0.8888888888888888, \"#fdca26\"], [1.0, \"#f0f921\"]], \"type\": \"contour\"}], \"contourcarpet\": [{\"colorbar\": {\"outlinewidth\": 0, \"ticks\": \"\"}, \"type\": \"contourcarpet\"}], \"heatmap\": [{\"colorbar\": {\"outlinewidth\": 0, \"ticks\": \"\"}, \"colorscale\": [[0.0, \"#0d0887\"], [0.1111111111111111, \"#46039f\"], [0.2222222222222222, \"#7201a8\"], [0.3333333333333333, \"#9c179e\"], [0.4444444444444444, \"#bd3786\"], [0.5555555555555556, \"#d8576b\"], [0.6666666666666666, \"#ed7953\"], [0.7777777777777778, \"#fb9f3a\"], [0.8888888888888888, \"#fdca26\"], [1.0, \"#f0f921\"]], \"type\": \"heatmap\"}], \"heatmapgl\": [{\"colorbar\": {\"outlinewidth\": 0, \"ticks\": \"\"}, \"colorscale\": [[0.0, \"#0d0887\"], [0.1111111111111111, \"#46039f\"], [0.2222222222222222, \"#7201a8\"], [0.3333333333333333, \"#9c179e\"], [0.4444444444444444, \"#bd3786\"], [0.5555555555555556, \"#d8576b\"], [0.6666666666666666, \"#ed7953\"], [0.7777777777777778, \"#fb9f3a\"], [0.8888888888888888, \"#fdca26\"], [1.0, \"#f0f921\"]], \"type\": \"heatmapgl\"}], \"histogram\": [{\"marker\": {\"colorbar\": {\"outlinewidth\": 0, \"ticks\": \"\"}}, \"type\": \"histogram\"}], \"histogram2d\": [{\"colorbar\": {\"outlinewidth\": 0, \"ticks\": \"\"}, \"colorscale\": [[0.0, \"#0d0887\"], [0.1111111111111111, \"#46039f\"], [0.2222222222222222, \"#7201a8\"], [0.3333333333333333, \"#9c179e\"], [0.4444444444444444, \"#bd3786\"], [0.5555555555555556, \"#d8576b\"], [0.6666666666666666, \"#ed7953\"], [0.7777777777777778, \"#fb9f3a\"], [0.8888888888888888, \"#fdca26\"], [1.0, \"#f0f921\"]], \"type\": \"histogram2d\"}], \"histogram2dcontour\": [{\"colorbar\": {\"outlinewidth\": 0, \"ticks\": \"\"}, \"colorscale\": [[0.0, \"#0d0887\"], [0.1111111111111111, \"#46039f\"], [0.2222222222222222, \"#7201a8\"], [0.3333333333333333, \"#9c179e\"], [0.4444444444444444, \"#bd3786\"], [0.5555555555555556, \"#d8576b\"], [0.6666666666666666, \"#ed7953\"], [0.7777777777777778, \"#fb9f3a\"], [0.8888888888888888, \"#fdca26\"], [1.0, \"#f0f921\"]], \"type\": \"histogram2dcontour\"}], \"mesh3d\": [{\"colorbar\": {\"outlinewidth\": 0, \"ticks\": \"\"}, \"type\": \"mesh3d\"}], \"parcoords\": [{\"line\": {\"colorbar\": {\"outlinewidth\": 0, \"ticks\": \"\"}}, \"type\": \"parcoords\"}], \"pie\": [{\"automargin\": true, \"type\": \"pie\"}], \"scatter\": [{\"marker\": {\"colorbar\": {\"outlinewidth\": 0, \"ticks\": \"\"}}, \"type\": \"scatter\"}], \"scatter3d\": [{\"line\": {\"colorbar\": {\"outlinewidth\": 0, \"ticks\": \"\"}}, \"marker\": {\"colorbar\": {\"outlinewidth\": 0, \"ticks\": \"\"}}, \"type\": \"scatter3d\"}], \"scattercarpet\": [{\"marker\": {\"colorbar\": {\"outlinewidth\": 0, \"ticks\": \"\"}}, \"type\": \"scattercarpet\"}], \"scattergeo\": [{\"marker\": {\"colorbar\": {\"outlinewidth\": 0, \"ticks\": \"\"}}, \"type\": \"scattergeo\"}], \"scattergl\": [{\"marker\": {\"colorbar\": {\"outlinewidth\": 0, \"ticks\": \"\"}}, \"type\": \"scattergl\"}], \"scattermapbox\": [{\"marker\": {\"colorbar\": {\"outlinewidth\": 0, \"ticks\": \"\"}}, \"type\": \"scattermapbox\"}], \"scatterpolar\": [{\"marker\": {\"colorbar\": {\"outlinewidth\": 0, \"ticks\": \"\"}}, \"type\": \"scatterpolar\"}], \"scatterpolargl\": [{\"marker\": {\"colorbar\": {\"outlinewidth\": 0, \"ticks\": \"\"}}, \"type\": \"scatterpolargl\"}], \"scatterternary\": [{\"marker\": {\"colorbar\": {\"outlinewidth\": 0, \"ticks\": \"\"}}, \"type\": \"scatterternary\"}], \"surface\": [{\"colorbar\": {\"outlinewidth\": 0, \"ticks\": \"\"}, \"colorscale\": [[0.0, \"#0d0887\"], [0.1111111111111111, \"#46039f\"], [0.2222222222222222, \"#7201a8\"], [0.3333333333333333, \"#9c179e\"], [0.4444444444444444, \"#bd3786\"], [0.5555555555555556, \"#d8576b\"], [0.6666666666666666, \"#ed7953\"], [0.7777777777777778, \"#fb9f3a\"], [0.8888888888888888, \"#fdca26\"], [1.0, \"#f0f921\"]], \"type\": \"surface\"}], \"table\": [{\"cells\": {\"fill\": {\"color\": \"#EBF0F8\"}, \"line\": {\"color\": \"white\"}}, \"header\": {\"fill\": {\"color\": \"#C8D4E3\"}, \"line\": {\"color\": \"white\"}}, \"type\": \"table\"}]}, \"layout\": {\"annotationdefaults\": {\"arrowcolor\": \"#2a3f5f\", \"arrowhead\": 0, \"arrowwidth\": 1}, \"coloraxis\": {\"colorbar\": {\"outlinewidth\": 0, \"ticks\": \"\"}}, \"colorscale\": {\"diverging\": [[0, \"#8e0152\"], [0.1, \"#c51b7d\"], [0.2, \"#de77ae\"], [0.3, \"#f1b6da\"], [0.4, \"#fde0ef\"], [0.5, \"#f7f7f7\"], [0.6, \"#e6f5d0\"], [0.7, \"#b8e186\"], [0.8, \"#7fbc41\"], [0.9, \"#4d9221\"], [1, \"#276419\"]], \"sequential\": [[0.0, \"#0d0887\"], [0.1111111111111111, \"#46039f\"], [0.2222222222222222, \"#7201a8\"], [0.3333333333333333, \"#9c179e\"], [0.4444444444444444, \"#bd3786\"], [0.5555555555555556, \"#d8576b\"], [0.6666666666666666, \"#ed7953\"], [0.7777777777777778, \"#fb9f3a\"], [0.8888888888888888, \"#fdca26\"], [1.0, \"#f0f921\"]], \"sequentialminus\": [[0.0, \"#0d0887\"], [0.1111111111111111, \"#46039f\"], [0.2222222222222222, \"#7201a8\"], [0.3333333333333333, \"#9c179e\"], [0.4444444444444444, \"#bd3786\"], [0.5555555555555556, \"#d8576b\"], [0.6666666666666666, \"#ed7953\"], [0.7777777777777778, \"#fb9f3a\"], [0.8888888888888888, \"#fdca26\"], [1.0, \"#f0f921\"]]}, \"colorway\": [\"#636efa\", \"#EF553B\", \"#00cc96\", \"#ab63fa\", \"#FFA15A\", \"#19d3f3\", \"#FF6692\", \"#B6E880\", \"#FF97FF\", \"#FECB52\"], \"font\": {\"color\": \"#2a3f5f\"}, \"geo\": {\"bgcolor\": \"white\", \"lakecolor\": \"white\", \"landcolor\": \"#E5ECF6\", \"showlakes\": true, \"showland\": true, \"subunitcolor\": \"white\"}, \"hoverlabel\": {\"align\": \"left\"}, \"hovermode\": \"closest\", \"mapbox\": {\"style\": \"light\"}, \"paper_bgcolor\": \"white\", \"plot_bgcolor\": \"#E5ECF6\", \"polar\": {\"angularaxis\": {\"gridcolor\": \"white\", \"linecolor\": \"white\", \"ticks\": \"\"}, \"bgcolor\": \"#E5ECF6\", \"radialaxis\": {\"gridcolor\": \"white\", \"linecolor\": \"white\", \"ticks\": \"\"}}, \"scene\": {\"xaxis\": {\"backgroundcolor\": \"#E5ECF6\", \"gridcolor\": \"white\", \"gridwidth\": 2, \"linecolor\": \"white\", \"showbackground\": true, \"ticks\": \"\", \"zerolinecolor\": \"white\"}, \"yaxis\": {\"backgroundcolor\": \"#E5ECF6\", \"gridcolor\": \"white\", \"gridwidth\": 2, \"linecolor\": \"white\", \"showbackground\": true, \"ticks\": \"\", \"zerolinecolor\": \"white\"}, \"zaxis\": {\"backgroundcolor\": \"#E5ECF6\", \"gridcolor\": \"white\", \"gridwidth\": 2, \"linecolor\": \"white\", \"showbackground\": true, \"ticks\": \"\", \"zerolinecolor\": \"white\"}}, \"shapedefaults\": {\"line\": {\"color\": \"#2a3f5f\"}}, \"ternary\": {\"aaxis\": {\"gridcolor\": \"white\", \"linecolor\": \"white\", \"ticks\": \"\"}, \"baxis\": {\"gridcolor\": \"white\", \"linecolor\": \"white\", \"ticks\": \"\"}, \"bgcolor\": \"#E5ECF6\", \"caxis\": {\"gridcolor\": \"white\", \"linecolor\": \"white\", \"ticks\": \"\"}}, \"title\": {\"x\": 0.05}, \"xaxis\": {\"automargin\": true, \"gridcolor\": \"white\", \"linecolor\": \"white\", \"ticks\": \"\", \"title\": {\"standoff\": 15}, \"zerolinecolor\": \"white\", \"zerolinewidth\": 2}, \"yaxis\": {\"automargin\": true, \"gridcolor\": \"white\", \"linecolor\": \"white\", \"ticks\": \"\", \"title\": {\"standoff\": 15}, \"zerolinecolor\": \"white\", \"zerolinewidth\": 2}}}, \"title\": {\"text\": \"Amount of Items Purchases per Category\"}, \"xaxis\": {\"anchor\": \"y\", \"domain\": [0.0, 1.0], \"title\": {\"text\": \"Category\"}}, \"yaxis\": {\"anchor\": \"x\", \"domain\": [0.0, 1.0], \"title\": {\"text\": \"Frequency \"}}},\n",
       "                        {\"responsive\": true}\n",
       "                    ).then(function(){\n",
       "                            \n",
       "var gd = document.getElementById('a22eccc4-cd48-43c4-a878-86ddfec6dccb');\n",
       "var x = new MutationObserver(function (mutations, observer) {{\n",
       "        var display = window.getComputedStyle(gd).display;\n",
       "        if (!display || display === 'none') {{\n",
       "            console.log([gd, 'removed!']);\n",
       "            Plotly.purge(gd);\n",
       "            observer.disconnect();\n",
       "        }}\n",
       "}});\n",
       "\n",
       "// Listen for the removal of the full notebook cells\n",
       "var notebookContainer = gd.closest('#notebook-container');\n",
       "if (notebookContainer) {{\n",
       "    x.observe(notebookContainer, {childList: true});\n",
       "}}\n",
       "\n",
       "// Listen for the clearing of the current output cell\n",
       "var outputEl = gd.closest('.output');\n",
       "if (outputEl) {{\n",
       "    x.observe(outputEl, {childList: true});\n",
       "}}\n",
       "\n",
       "                        })\n",
       "                };\n",
       "                });\n",
       "            </script>\n",
       "        </div>"
      ]
     },
     "metadata": {},
     "output_type": "display_data"
    },
    {
     "name": "stdout",
     "output_type": "stream",
     "text": [
      "\n",
      "\n",
      "Sum of Items per Charge Category:\n",
      "\n",
      "Type\n",
      "Housing - Rent               5529.65\n",
      "Ally Transfer - From         5245.00\n",
      "PayCheck Deposit - Bocado    3896.14\n",
      "CC BillPay                   2934.63\n",
      "Ally Transfer - To           2700.00\n",
      "Deposit                      1837.93\n",
      "Money Transfer - Credit      1800.28\n",
      "PayCheck Deposit - Zoes      1728.17\n",
      "Mom Fund                     1580.00\n",
      "Food                         1410.30\n",
      "Money Transfer - Debit       1373.35\n",
      "Grocery                       840.61\n",
      "Gasoline                      833.85\n",
      "Mom Payment                   413.43\n",
      "Entertainment                 386.22\n",
      "Transportation                312.55\n",
      "Gift Deposit                  300.00\n",
      "Refund                        286.50\n",
      "Unknown                       162.57\n",
      "Housing - Repair              159.41\n",
      "Vehicle - Repair              133.66\n",
      "Withdrawal                    130.00\n",
      "Fashion                        36.75\n",
      "Medical                        20.00\n",
      "Other Fee                       9.00\n",
      "Name: Charge, dtype: float64\n"
     ]
    },
    {
     "data": {
      "application/vnd.plotly.v1+json": {
       "config": {
        "plotlyServerURL": "https://plot.ly"
       },
       "data": [
        {
         "alignmentgroup": "True",
         "hoverlabel": {
          "namelength": 0
         },
         "hovertemplate": "Category=%{x}<br>Sum of Items (USD)=%{y}",
         "legendgroup": "",
         "marker": {
          "color": "#636efa"
         },
         "name": "",
         "offsetgroup": "",
         "orientation": "v",
         "showlegend": false,
         "textposition": "auto",
         "type": "bar",
         "x": [
          "Housing - Rent",
          "Ally Transfer - From",
          "PayCheck Deposit - Bocado",
          "CC BillPay",
          "Ally Transfer - To",
          "Deposit",
          "Money Transfer - Credit",
          "PayCheck Deposit - Zoes",
          "Mom Fund",
          "Food",
          "Money Transfer - Debit",
          "Grocery",
          "Gasoline",
          "Mom Payment",
          "Entertainment",
          "Transportation",
          "Gift Deposit",
          "Refund",
          "Unknown",
          "Housing - Repair",
          "Vehicle - Repair",
          "Withdrawal",
          "Fashion",
          "Medical",
          "Other Fee"
         ],
         "xaxis": "x",
         "y": [
          5529.65,
          5245,
          3896.14,
          2934.63,
          2700,
          1837.9299999999998,
          1800.28,
          1728.1699999999996,
          1580,
          1410.2999999999995,
          1373.35,
          840.6100000000001,
          833.8499999999999,
          413.43,
          386.22,
          312.55,
          300,
          286.5,
          162.57,
          159.41,
          133.66,
          130,
          36.75,
          20,
          9
         ],
         "yaxis": "y"
        }
       ],
       "layout": {
        "barmode": "relative",
        "legend": {
         "tracegroupgap": 0
        },
        "template": {
         "data": {
          "bar": [
           {
            "error_x": {
             "color": "#2a3f5f"
            },
            "error_y": {
             "color": "#2a3f5f"
            },
            "marker": {
             "line": {
              "color": "#E5ECF6",
              "width": 0.5
             }
            },
            "type": "bar"
           }
          ],
          "barpolar": [
           {
            "marker": {
             "line": {
              "color": "#E5ECF6",
              "width": 0.5
             }
            },
            "type": "barpolar"
           }
          ],
          "carpet": [
           {
            "aaxis": {
             "endlinecolor": "#2a3f5f",
             "gridcolor": "white",
             "linecolor": "white",
             "minorgridcolor": "white",
             "startlinecolor": "#2a3f5f"
            },
            "baxis": {
             "endlinecolor": "#2a3f5f",
             "gridcolor": "white",
             "linecolor": "white",
             "minorgridcolor": "white",
             "startlinecolor": "#2a3f5f"
            },
            "type": "carpet"
           }
          ],
          "choropleth": [
           {
            "colorbar": {
             "outlinewidth": 0,
             "ticks": ""
            },
            "type": "choropleth"
           }
          ],
          "contour": [
           {
            "colorbar": {
             "outlinewidth": 0,
             "ticks": ""
            },
            "colorscale": [
             [
              0,
              "#0d0887"
             ],
             [
              0.1111111111111111,
              "#46039f"
             ],
             [
              0.2222222222222222,
              "#7201a8"
             ],
             [
              0.3333333333333333,
              "#9c179e"
             ],
             [
              0.4444444444444444,
              "#bd3786"
             ],
             [
              0.5555555555555556,
              "#d8576b"
             ],
             [
              0.6666666666666666,
              "#ed7953"
             ],
             [
              0.7777777777777778,
              "#fb9f3a"
             ],
             [
              0.8888888888888888,
              "#fdca26"
             ],
             [
              1,
              "#f0f921"
             ]
            ],
            "type": "contour"
           }
          ],
          "contourcarpet": [
           {
            "colorbar": {
             "outlinewidth": 0,
             "ticks": ""
            },
            "type": "contourcarpet"
           }
          ],
          "heatmap": [
           {
            "colorbar": {
             "outlinewidth": 0,
             "ticks": ""
            },
            "colorscale": [
             [
              0,
              "#0d0887"
             ],
             [
              0.1111111111111111,
              "#46039f"
             ],
             [
              0.2222222222222222,
              "#7201a8"
             ],
             [
              0.3333333333333333,
              "#9c179e"
             ],
             [
              0.4444444444444444,
              "#bd3786"
             ],
             [
              0.5555555555555556,
              "#d8576b"
             ],
             [
              0.6666666666666666,
              "#ed7953"
             ],
             [
              0.7777777777777778,
              "#fb9f3a"
             ],
             [
              0.8888888888888888,
              "#fdca26"
             ],
             [
              1,
              "#f0f921"
             ]
            ],
            "type": "heatmap"
           }
          ],
          "heatmapgl": [
           {
            "colorbar": {
             "outlinewidth": 0,
             "ticks": ""
            },
            "colorscale": [
             [
              0,
              "#0d0887"
             ],
             [
              0.1111111111111111,
              "#46039f"
             ],
             [
              0.2222222222222222,
              "#7201a8"
             ],
             [
              0.3333333333333333,
              "#9c179e"
             ],
             [
              0.4444444444444444,
              "#bd3786"
             ],
             [
              0.5555555555555556,
              "#d8576b"
             ],
             [
              0.6666666666666666,
              "#ed7953"
             ],
             [
              0.7777777777777778,
              "#fb9f3a"
             ],
             [
              0.8888888888888888,
              "#fdca26"
             ],
             [
              1,
              "#f0f921"
             ]
            ],
            "type": "heatmapgl"
           }
          ],
          "histogram": [
           {
            "marker": {
             "colorbar": {
              "outlinewidth": 0,
              "ticks": ""
             }
            },
            "type": "histogram"
           }
          ],
          "histogram2d": [
           {
            "colorbar": {
             "outlinewidth": 0,
             "ticks": ""
            },
            "colorscale": [
             [
              0,
              "#0d0887"
             ],
             [
              0.1111111111111111,
              "#46039f"
             ],
             [
              0.2222222222222222,
              "#7201a8"
             ],
             [
              0.3333333333333333,
              "#9c179e"
             ],
             [
              0.4444444444444444,
              "#bd3786"
             ],
             [
              0.5555555555555556,
              "#d8576b"
             ],
             [
              0.6666666666666666,
              "#ed7953"
             ],
             [
              0.7777777777777778,
              "#fb9f3a"
             ],
             [
              0.8888888888888888,
              "#fdca26"
             ],
             [
              1,
              "#f0f921"
             ]
            ],
            "type": "histogram2d"
           }
          ],
          "histogram2dcontour": [
           {
            "colorbar": {
             "outlinewidth": 0,
             "ticks": ""
            },
            "colorscale": [
             [
              0,
              "#0d0887"
             ],
             [
              0.1111111111111111,
              "#46039f"
             ],
             [
              0.2222222222222222,
              "#7201a8"
             ],
             [
              0.3333333333333333,
              "#9c179e"
             ],
             [
              0.4444444444444444,
              "#bd3786"
             ],
             [
              0.5555555555555556,
              "#d8576b"
             ],
             [
              0.6666666666666666,
              "#ed7953"
             ],
             [
              0.7777777777777778,
              "#fb9f3a"
             ],
             [
              0.8888888888888888,
              "#fdca26"
             ],
             [
              1,
              "#f0f921"
             ]
            ],
            "type": "histogram2dcontour"
           }
          ],
          "mesh3d": [
           {
            "colorbar": {
             "outlinewidth": 0,
             "ticks": ""
            },
            "type": "mesh3d"
           }
          ],
          "parcoords": [
           {
            "line": {
             "colorbar": {
              "outlinewidth": 0,
              "ticks": ""
             }
            },
            "type": "parcoords"
           }
          ],
          "pie": [
           {
            "automargin": true,
            "type": "pie"
           }
          ],
          "scatter": [
           {
            "marker": {
             "colorbar": {
              "outlinewidth": 0,
              "ticks": ""
             }
            },
            "type": "scatter"
           }
          ],
          "scatter3d": [
           {
            "line": {
             "colorbar": {
              "outlinewidth": 0,
              "ticks": ""
             }
            },
            "marker": {
             "colorbar": {
              "outlinewidth": 0,
              "ticks": ""
             }
            },
            "type": "scatter3d"
           }
          ],
          "scattercarpet": [
           {
            "marker": {
             "colorbar": {
              "outlinewidth": 0,
              "ticks": ""
             }
            },
            "type": "scattercarpet"
           }
          ],
          "scattergeo": [
           {
            "marker": {
             "colorbar": {
              "outlinewidth": 0,
              "ticks": ""
             }
            },
            "type": "scattergeo"
           }
          ],
          "scattergl": [
           {
            "marker": {
             "colorbar": {
              "outlinewidth": 0,
              "ticks": ""
             }
            },
            "type": "scattergl"
           }
          ],
          "scattermapbox": [
           {
            "marker": {
             "colorbar": {
              "outlinewidth": 0,
              "ticks": ""
             }
            },
            "type": "scattermapbox"
           }
          ],
          "scatterpolar": [
           {
            "marker": {
             "colorbar": {
              "outlinewidth": 0,
              "ticks": ""
             }
            },
            "type": "scatterpolar"
           }
          ],
          "scatterpolargl": [
           {
            "marker": {
             "colorbar": {
              "outlinewidth": 0,
              "ticks": ""
             }
            },
            "type": "scatterpolargl"
           }
          ],
          "scatterternary": [
           {
            "marker": {
             "colorbar": {
              "outlinewidth": 0,
              "ticks": ""
             }
            },
            "type": "scatterternary"
           }
          ],
          "surface": [
           {
            "colorbar": {
             "outlinewidth": 0,
             "ticks": ""
            },
            "colorscale": [
             [
              0,
              "#0d0887"
             ],
             [
              0.1111111111111111,
              "#46039f"
             ],
             [
              0.2222222222222222,
              "#7201a8"
             ],
             [
              0.3333333333333333,
              "#9c179e"
             ],
             [
              0.4444444444444444,
              "#bd3786"
             ],
             [
              0.5555555555555556,
              "#d8576b"
             ],
             [
              0.6666666666666666,
              "#ed7953"
             ],
             [
              0.7777777777777778,
              "#fb9f3a"
             ],
             [
              0.8888888888888888,
              "#fdca26"
             ],
             [
              1,
              "#f0f921"
             ]
            ],
            "type": "surface"
           }
          ],
          "table": [
           {
            "cells": {
             "fill": {
              "color": "#EBF0F8"
             },
             "line": {
              "color": "white"
             }
            },
            "header": {
             "fill": {
              "color": "#C8D4E3"
             },
             "line": {
              "color": "white"
             }
            },
            "type": "table"
           }
          ]
         },
         "layout": {
          "annotationdefaults": {
           "arrowcolor": "#2a3f5f",
           "arrowhead": 0,
           "arrowwidth": 1
          },
          "coloraxis": {
           "colorbar": {
            "outlinewidth": 0,
            "ticks": ""
           }
          },
          "colorscale": {
           "diverging": [
            [
             0,
             "#8e0152"
            ],
            [
             0.1,
             "#c51b7d"
            ],
            [
             0.2,
             "#de77ae"
            ],
            [
             0.3,
             "#f1b6da"
            ],
            [
             0.4,
             "#fde0ef"
            ],
            [
             0.5,
             "#f7f7f7"
            ],
            [
             0.6,
             "#e6f5d0"
            ],
            [
             0.7,
             "#b8e186"
            ],
            [
             0.8,
             "#7fbc41"
            ],
            [
             0.9,
             "#4d9221"
            ],
            [
             1,
             "#276419"
            ]
           ],
           "sequential": [
            [
             0,
             "#0d0887"
            ],
            [
             0.1111111111111111,
             "#46039f"
            ],
            [
             0.2222222222222222,
             "#7201a8"
            ],
            [
             0.3333333333333333,
             "#9c179e"
            ],
            [
             0.4444444444444444,
             "#bd3786"
            ],
            [
             0.5555555555555556,
             "#d8576b"
            ],
            [
             0.6666666666666666,
             "#ed7953"
            ],
            [
             0.7777777777777778,
             "#fb9f3a"
            ],
            [
             0.8888888888888888,
             "#fdca26"
            ],
            [
             1,
             "#f0f921"
            ]
           ],
           "sequentialminus": [
            [
             0,
             "#0d0887"
            ],
            [
             0.1111111111111111,
             "#46039f"
            ],
            [
             0.2222222222222222,
             "#7201a8"
            ],
            [
             0.3333333333333333,
             "#9c179e"
            ],
            [
             0.4444444444444444,
             "#bd3786"
            ],
            [
             0.5555555555555556,
             "#d8576b"
            ],
            [
             0.6666666666666666,
             "#ed7953"
            ],
            [
             0.7777777777777778,
             "#fb9f3a"
            ],
            [
             0.8888888888888888,
             "#fdca26"
            ],
            [
             1,
             "#f0f921"
            ]
           ]
          },
          "colorway": [
           "#636efa",
           "#EF553B",
           "#00cc96",
           "#ab63fa",
           "#FFA15A",
           "#19d3f3",
           "#FF6692",
           "#B6E880",
           "#FF97FF",
           "#FECB52"
          ],
          "font": {
           "color": "#2a3f5f"
          },
          "geo": {
           "bgcolor": "white",
           "lakecolor": "white",
           "landcolor": "#E5ECF6",
           "showlakes": true,
           "showland": true,
           "subunitcolor": "white"
          },
          "hoverlabel": {
           "align": "left"
          },
          "hovermode": "closest",
          "mapbox": {
           "style": "light"
          },
          "paper_bgcolor": "white",
          "plot_bgcolor": "#E5ECF6",
          "polar": {
           "angularaxis": {
            "gridcolor": "white",
            "linecolor": "white",
            "ticks": ""
           },
           "bgcolor": "#E5ECF6",
           "radialaxis": {
            "gridcolor": "white",
            "linecolor": "white",
            "ticks": ""
           }
          },
          "scene": {
           "xaxis": {
            "backgroundcolor": "#E5ECF6",
            "gridcolor": "white",
            "gridwidth": 2,
            "linecolor": "white",
            "showbackground": true,
            "ticks": "",
            "zerolinecolor": "white"
           },
           "yaxis": {
            "backgroundcolor": "#E5ECF6",
            "gridcolor": "white",
            "gridwidth": 2,
            "linecolor": "white",
            "showbackground": true,
            "ticks": "",
            "zerolinecolor": "white"
           },
           "zaxis": {
            "backgroundcolor": "#E5ECF6",
            "gridcolor": "white",
            "gridwidth": 2,
            "linecolor": "white",
            "showbackground": true,
            "ticks": "",
            "zerolinecolor": "white"
           }
          },
          "shapedefaults": {
           "line": {
            "color": "#2a3f5f"
           }
          },
          "ternary": {
           "aaxis": {
            "gridcolor": "white",
            "linecolor": "white",
            "ticks": ""
           },
           "baxis": {
            "gridcolor": "white",
            "linecolor": "white",
            "ticks": ""
           },
           "bgcolor": "#E5ECF6",
           "caxis": {
            "gridcolor": "white",
            "linecolor": "white",
            "ticks": ""
           }
          },
          "title": {
           "x": 0.05
          },
          "xaxis": {
           "automargin": true,
           "gridcolor": "white",
           "linecolor": "white",
           "ticks": "",
           "title": {
            "standoff": 15
           },
           "zerolinecolor": "white",
           "zerolinewidth": 2
          },
          "yaxis": {
           "automargin": true,
           "gridcolor": "white",
           "linecolor": "white",
           "ticks": "",
           "title": {
            "standoff": 15
           },
           "zerolinecolor": "white",
           "zerolinewidth": 2
          }
         }
        },
        "title": {
         "text": "Sum of Items per Charge Category"
        },
        "xaxis": {
         "anchor": "y",
         "domain": [
          0,
          1
         ],
         "title": {
          "text": "Category"
         }
        },
        "yaxis": {
         "anchor": "x",
         "domain": [
          0,
          1
         ],
         "title": {
          "text": "Sum of Items (USD)"
         }
        }
       }
      },
      "text/html": [
       "<div>\n",
       "        \n",
       "        \n",
       "            <div id=\"2bfae1cc-aef9-4bfc-a6a8-850295e226f2\" class=\"plotly-graph-div\" style=\"height:525px; width:100%;\"></div>\n",
       "            <script type=\"text/javascript\">\n",
       "                require([\"plotly\"], function(Plotly) {\n",
       "                    window.PLOTLYENV=window.PLOTLYENV || {};\n",
       "                    \n",
       "                if (document.getElementById(\"2bfae1cc-aef9-4bfc-a6a8-850295e226f2\")) {\n",
       "                    Plotly.newPlot(\n",
       "                        '2bfae1cc-aef9-4bfc-a6a8-850295e226f2',\n",
       "                        [{\"alignmentgroup\": \"True\", \"hoverlabel\": {\"namelength\": 0}, \"hovertemplate\": \"Category=%{x}<br>Sum of Items (USD)=%{y}\", \"legendgroup\": \"\", \"marker\": {\"color\": \"#636efa\"}, \"name\": \"\", \"offsetgroup\": \"\", \"orientation\": \"v\", \"showlegend\": false, \"textposition\": \"auto\", \"type\": \"bar\", \"x\": [\"Housing - Rent\", \"Ally Transfer - From\", \"PayCheck Deposit - Bocado\", \"CC BillPay\", \"Ally Transfer - To\", \"Deposit\", \"Money Transfer - Credit\", \"PayCheck Deposit - Zoes\", \"Mom Fund\", \"Food\", \"Money Transfer - Debit\", \"Grocery\", \"Gasoline\", \"Mom Payment\", \"Entertainment\", \"Transportation\", \"Gift Deposit\", \"Refund\", \"Unknown\", \"Housing - Repair\", \"Vehicle - Repair\", \"Withdrawal\", \"Fashion\", \"Medical\", \"Other Fee\"], \"xaxis\": \"x\", \"y\": [5529.65, 5245.0, 3896.14, 2934.63, 2700.0, 1837.9299999999998, 1800.28, 1728.1699999999996, 1580.0, 1410.2999999999995, 1373.35, 840.6100000000001, 833.8499999999999, 413.43, 386.22, 312.55, 300.0, 286.5, 162.57, 159.41, 133.66, 130.0, 36.75, 20.0, 9.0], \"yaxis\": \"y\"}],\n",
       "                        {\"barmode\": \"relative\", \"legend\": {\"tracegroupgap\": 0}, \"template\": {\"data\": {\"bar\": [{\"error_x\": {\"color\": \"#2a3f5f\"}, \"error_y\": {\"color\": \"#2a3f5f\"}, \"marker\": {\"line\": {\"color\": \"#E5ECF6\", \"width\": 0.5}}, \"type\": \"bar\"}], \"barpolar\": [{\"marker\": {\"line\": {\"color\": \"#E5ECF6\", \"width\": 0.5}}, \"type\": \"barpolar\"}], \"carpet\": [{\"aaxis\": {\"endlinecolor\": \"#2a3f5f\", \"gridcolor\": \"white\", \"linecolor\": \"white\", \"minorgridcolor\": \"white\", \"startlinecolor\": \"#2a3f5f\"}, \"baxis\": {\"endlinecolor\": \"#2a3f5f\", \"gridcolor\": \"white\", \"linecolor\": \"white\", \"minorgridcolor\": \"white\", \"startlinecolor\": \"#2a3f5f\"}, \"type\": \"carpet\"}], \"choropleth\": [{\"colorbar\": {\"outlinewidth\": 0, \"ticks\": \"\"}, \"type\": \"choropleth\"}], \"contour\": [{\"colorbar\": {\"outlinewidth\": 0, \"ticks\": \"\"}, \"colorscale\": [[0.0, \"#0d0887\"], [0.1111111111111111, \"#46039f\"], [0.2222222222222222, \"#7201a8\"], [0.3333333333333333, \"#9c179e\"], [0.4444444444444444, \"#bd3786\"], [0.5555555555555556, \"#d8576b\"], [0.6666666666666666, \"#ed7953\"], [0.7777777777777778, \"#fb9f3a\"], [0.8888888888888888, \"#fdca26\"], [1.0, \"#f0f921\"]], \"type\": \"contour\"}], \"contourcarpet\": [{\"colorbar\": {\"outlinewidth\": 0, \"ticks\": \"\"}, \"type\": \"contourcarpet\"}], \"heatmap\": [{\"colorbar\": {\"outlinewidth\": 0, \"ticks\": \"\"}, \"colorscale\": [[0.0, \"#0d0887\"], [0.1111111111111111, \"#46039f\"], [0.2222222222222222, \"#7201a8\"], [0.3333333333333333, \"#9c179e\"], [0.4444444444444444, \"#bd3786\"], [0.5555555555555556, \"#d8576b\"], [0.6666666666666666, \"#ed7953\"], [0.7777777777777778, \"#fb9f3a\"], [0.8888888888888888, \"#fdca26\"], [1.0, \"#f0f921\"]], \"type\": \"heatmap\"}], \"heatmapgl\": [{\"colorbar\": {\"outlinewidth\": 0, \"ticks\": \"\"}, \"colorscale\": [[0.0, \"#0d0887\"], [0.1111111111111111, \"#46039f\"], [0.2222222222222222, \"#7201a8\"], [0.3333333333333333, \"#9c179e\"], [0.4444444444444444, \"#bd3786\"], [0.5555555555555556, \"#d8576b\"], [0.6666666666666666, \"#ed7953\"], [0.7777777777777778, \"#fb9f3a\"], [0.8888888888888888, \"#fdca26\"], [1.0, \"#f0f921\"]], \"type\": \"heatmapgl\"}], \"histogram\": [{\"marker\": {\"colorbar\": {\"outlinewidth\": 0, \"ticks\": \"\"}}, \"type\": \"histogram\"}], \"histogram2d\": [{\"colorbar\": {\"outlinewidth\": 0, \"ticks\": \"\"}, \"colorscale\": [[0.0, \"#0d0887\"], [0.1111111111111111, \"#46039f\"], [0.2222222222222222, \"#7201a8\"], [0.3333333333333333, \"#9c179e\"], [0.4444444444444444, \"#bd3786\"], [0.5555555555555556, \"#d8576b\"], [0.6666666666666666, \"#ed7953\"], [0.7777777777777778, \"#fb9f3a\"], [0.8888888888888888, \"#fdca26\"], [1.0, \"#f0f921\"]], \"type\": \"histogram2d\"}], \"histogram2dcontour\": [{\"colorbar\": {\"outlinewidth\": 0, \"ticks\": \"\"}, \"colorscale\": [[0.0, \"#0d0887\"], [0.1111111111111111, \"#46039f\"], [0.2222222222222222, \"#7201a8\"], [0.3333333333333333, \"#9c179e\"], [0.4444444444444444, \"#bd3786\"], [0.5555555555555556, \"#d8576b\"], [0.6666666666666666, \"#ed7953\"], [0.7777777777777778, \"#fb9f3a\"], [0.8888888888888888, \"#fdca26\"], [1.0, \"#f0f921\"]], \"type\": \"histogram2dcontour\"}], \"mesh3d\": [{\"colorbar\": {\"outlinewidth\": 0, \"ticks\": \"\"}, \"type\": \"mesh3d\"}], \"parcoords\": [{\"line\": {\"colorbar\": {\"outlinewidth\": 0, \"ticks\": \"\"}}, \"type\": \"parcoords\"}], \"pie\": [{\"automargin\": true, \"type\": \"pie\"}], \"scatter\": [{\"marker\": {\"colorbar\": {\"outlinewidth\": 0, \"ticks\": \"\"}}, \"type\": \"scatter\"}], \"scatter3d\": [{\"line\": {\"colorbar\": {\"outlinewidth\": 0, \"ticks\": \"\"}}, \"marker\": {\"colorbar\": {\"outlinewidth\": 0, \"ticks\": \"\"}}, \"type\": \"scatter3d\"}], \"scattercarpet\": [{\"marker\": {\"colorbar\": {\"outlinewidth\": 0, \"ticks\": \"\"}}, \"type\": \"scattercarpet\"}], \"scattergeo\": [{\"marker\": {\"colorbar\": {\"outlinewidth\": 0, \"ticks\": \"\"}}, \"type\": \"scattergeo\"}], \"scattergl\": [{\"marker\": {\"colorbar\": {\"outlinewidth\": 0, \"ticks\": \"\"}}, \"type\": \"scattergl\"}], \"scattermapbox\": [{\"marker\": {\"colorbar\": {\"outlinewidth\": 0, \"ticks\": \"\"}}, \"type\": \"scattermapbox\"}], \"scatterpolar\": [{\"marker\": {\"colorbar\": {\"outlinewidth\": 0, \"ticks\": \"\"}}, \"type\": \"scatterpolar\"}], \"scatterpolargl\": [{\"marker\": {\"colorbar\": {\"outlinewidth\": 0, \"ticks\": \"\"}}, \"type\": \"scatterpolargl\"}], \"scatterternary\": [{\"marker\": {\"colorbar\": {\"outlinewidth\": 0, \"ticks\": \"\"}}, \"type\": \"scatterternary\"}], \"surface\": [{\"colorbar\": {\"outlinewidth\": 0, \"ticks\": \"\"}, \"colorscale\": [[0.0, \"#0d0887\"], [0.1111111111111111, \"#46039f\"], [0.2222222222222222, \"#7201a8\"], [0.3333333333333333, \"#9c179e\"], [0.4444444444444444, \"#bd3786\"], [0.5555555555555556, \"#d8576b\"], [0.6666666666666666, \"#ed7953\"], [0.7777777777777778, \"#fb9f3a\"], [0.8888888888888888, \"#fdca26\"], [1.0, \"#f0f921\"]], \"type\": \"surface\"}], \"table\": [{\"cells\": {\"fill\": {\"color\": \"#EBF0F8\"}, \"line\": {\"color\": \"white\"}}, \"header\": {\"fill\": {\"color\": \"#C8D4E3\"}, \"line\": {\"color\": \"white\"}}, \"type\": \"table\"}]}, \"layout\": {\"annotationdefaults\": {\"arrowcolor\": \"#2a3f5f\", \"arrowhead\": 0, \"arrowwidth\": 1}, \"coloraxis\": {\"colorbar\": {\"outlinewidth\": 0, \"ticks\": \"\"}}, \"colorscale\": {\"diverging\": [[0, \"#8e0152\"], [0.1, \"#c51b7d\"], [0.2, \"#de77ae\"], [0.3, \"#f1b6da\"], [0.4, \"#fde0ef\"], [0.5, \"#f7f7f7\"], [0.6, \"#e6f5d0\"], [0.7, \"#b8e186\"], [0.8, \"#7fbc41\"], [0.9, \"#4d9221\"], [1, \"#276419\"]], \"sequential\": [[0.0, \"#0d0887\"], [0.1111111111111111, \"#46039f\"], [0.2222222222222222, \"#7201a8\"], [0.3333333333333333, \"#9c179e\"], [0.4444444444444444, \"#bd3786\"], [0.5555555555555556, \"#d8576b\"], [0.6666666666666666, \"#ed7953\"], [0.7777777777777778, \"#fb9f3a\"], [0.8888888888888888, \"#fdca26\"], [1.0, \"#f0f921\"]], \"sequentialminus\": [[0.0, \"#0d0887\"], [0.1111111111111111, \"#46039f\"], [0.2222222222222222, \"#7201a8\"], [0.3333333333333333, \"#9c179e\"], [0.4444444444444444, \"#bd3786\"], [0.5555555555555556, \"#d8576b\"], [0.6666666666666666, \"#ed7953\"], [0.7777777777777778, \"#fb9f3a\"], [0.8888888888888888, \"#fdca26\"], [1.0, \"#f0f921\"]]}, \"colorway\": [\"#636efa\", \"#EF553B\", \"#00cc96\", \"#ab63fa\", \"#FFA15A\", \"#19d3f3\", \"#FF6692\", \"#B6E880\", \"#FF97FF\", \"#FECB52\"], \"font\": {\"color\": \"#2a3f5f\"}, \"geo\": {\"bgcolor\": \"white\", \"lakecolor\": \"white\", \"landcolor\": \"#E5ECF6\", \"showlakes\": true, \"showland\": true, \"subunitcolor\": \"white\"}, \"hoverlabel\": {\"align\": \"left\"}, \"hovermode\": \"closest\", \"mapbox\": {\"style\": \"light\"}, \"paper_bgcolor\": \"white\", \"plot_bgcolor\": \"#E5ECF6\", \"polar\": {\"angularaxis\": {\"gridcolor\": \"white\", \"linecolor\": \"white\", \"ticks\": \"\"}, \"bgcolor\": \"#E5ECF6\", \"radialaxis\": {\"gridcolor\": \"white\", \"linecolor\": \"white\", \"ticks\": \"\"}}, \"scene\": {\"xaxis\": {\"backgroundcolor\": \"#E5ECF6\", \"gridcolor\": \"white\", \"gridwidth\": 2, \"linecolor\": \"white\", \"showbackground\": true, \"ticks\": \"\", \"zerolinecolor\": \"white\"}, \"yaxis\": {\"backgroundcolor\": \"#E5ECF6\", \"gridcolor\": \"white\", \"gridwidth\": 2, \"linecolor\": \"white\", \"showbackground\": true, \"ticks\": \"\", \"zerolinecolor\": \"white\"}, \"zaxis\": {\"backgroundcolor\": \"#E5ECF6\", \"gridcolor\": \"white\", \"gridwidth\": 2, \"linecolor\": \"white\", \"showbackground\": true, \"ticks\": \"\", \"zerolinecolor\": \"white\"}}, \"shapedefaults\": {\"line\": {\"color\": \"#2a3f5f\"}}, \"ternary\": {\"aaxis\": {\"gridcolor\": \"white\", \"linecolor\": \"white\", \"ticks\": \"\"}, \"baxis\": {\"gridcolor\": \"white\", \"linecolor\": \"white\", \"ticks\": \"\"}, \"bgcolor\": \"#E5ECF6\", \"caxis\": {\"gridcolor\": \"white\", \"linecolor\": \"white\", \"ticks\": \"\"}}, \"title\": {\"x\": 0.05}, \"xaxis\": {\"automargin\": true, \"gridcolor\": \"white\", \"linecolor\": \"white\", \"ticks\": \"\", \"title\": {\"standoff\": 15}, \"zerolinecolor\": \"white\", \"zerolinewidth\": 2}, \"yaxis\": {\"automargin\": true, \"gridcolor\": \"white\", \"linecolor\": \"white\", \"ticks\": \"\", \"title\": {\"standoff\": 15}, \"zerolinecolor\": \"white\", \"zerolinewidth\": 2}}}, \"title\": {\"text\": \"Sum of Items per Charge Category\"}, \"xaxis\": {\"anchor\": \"y\", \"domain\": [0.0, 1.0], \"title\": {\"text\": \"Category\"}}, \"yaxis\": {\"anchor\": \"x\", \"domain\": [0.0, 1.0], \"title\": {\"text\": \"Sum of Items (USD)\"}}},\n",
       "                        {\"responsive\": true}\n",
       "                    ).then(function(){\n",
       "                            \n",
       "var gd = document.getElementById('2bfae1cc-aef9-4bfc-a6a8-850295e226f2');\n",
       "var x = new MutationObserver(function (mutations, observer) {{\n",
       "        var display = window.getComputedStyle(gd).display;\n",
       "        if (!display || display === 'none') {{\n",
       "            console.log([gd, 'removed!']);\n",
       "            Plotly.purge(gd);\n",
       "            observer.disconnect();\n",
       "        }}\n",
       "}});\n",
       "\n",
       "// Listen for the removal of the full notebook cells\n",
       "var notebookContainer = gd.closest('#notebook-container');\n",
       "if (notebookContainer) {{\n",
       "    x.observe(notebookContainer, {childList: true});\n",
       "}}\n",
       "\n",
       "// Listen for the clearing of the current output cell\n",
       "var outputEl = gd.closest('.output');\n",
       "if (outputEl) {{\n",
       "    x.observe(outputEl, {childList: true});\n",
       "}}\n",
       "\n",
       "                        })\n",
       "                };\n",
       "                });\n",
       "            </script>\n",
       "        </div>"
      ]
     },
     "metadata": {},
     "output_type": "display_data"
    },
    {
     "name": "stdout",
     "output_type": "stream",
     "text": [
      "\n",
      "\n",
      "Sum of Items per Charge Category:\n",
      "\n",
      "Type\n",
      "Housing - Rent               5529.65\n",
      "Ally Transfer - From         5245.00\n",
      "PayCheck Deposit - Bocado    3896.14\n",
      "CC BillPay                   2934.63\n",
      "Ally Transfer - To           2700.00\n",
      "Deposit                      1837.93\n",
      "Money Transfer - Credit      1800.28\n",
      "PayCheck Deposit - Zoes      1728.17\n",
      "Mom Fund                     1580.00\n",
      "Food                         1410.30\n",
      "Money Transfer - Debit       1373.35\n",
      "Grocery                       840.61\n",
      "Gasoline                      833.85\n",
      "Mom Payment                   413.43\n",
      "Entertainment                 386.22\n",
      "Transportation                312.55\n",
      "Gift Deposit                  300.00\n",
      "Refund                        286.50\n",
      "Unknown                       162.57\n",
      "Housing - Repair              159.41\n",
      "Vehicle - Repair              133.66\n",
      "Withdrawal                    130.00\n",
      "Fashion                        36.75\n",
      "Medical                        20.00\n",
      "Other Fee                       9.00\n",
      "Name: Charge, dtype: float64\n"
     ]
    },
    {
     "data": {
      "application/vnd.plotly.v1+json": {
       "config": {
        "plotlyServerURL": "https://plot.ly"
       },
       "data": [
        {
         "alignmentgroup": "True",
         "hoverlabel": {
          "namelength": 0
         },
         "hovertemplate": "Category=%{x}<br>Sum of Items (USD)=%{y}",
         "legendgroup": "",
         "marker": {
          "color": "#636efa"
         },
         "name": "",
         "offsetgroup": "",
         "orientation": "v",
         "showlegend": false,
         "textposition": "auto",
         "type": "bar",
         "x": [
          "Housing - Rent",
          "Ally Transfer - From",
          "PayCheck Deposit - Bocado",
          "CC BillPay",
          "Ally Transfer - To",
          "Deposit",
          "Money Transfer - Credit",
          "PayCheck Deposit - Zoes",
          "Mom Fund",
          "Food",
          "Money Transfer - Debit",
          "Grocery",
          "Gasoline",
          "Mom Payment",
          "Entertainment",
          "Transportation",
          "Gift Deposit",
          "Refund",
          "Unknown",
          "Housing - Repair",
          "Vehicle - Repair",
          "Withdrawal",
          "Fashion",
          "Medical",
          "Other Fee"
         ],
         "xaxis": "x",
         "y": [
          5529.65,
          5245,
          3896.14,
          2934.63,
          2700,
          1837.9299999999998,
          1800.28,
          1728.1699999999996,
          1580,
          1410.2999999999995,
          1373.35,
          840.6100000000001,
          833.8499999999999,
          413.43,
          386.22,
          312.55,
          300,
          286.5,
          162.57,
          159.41,
          133.66,
          130,
          36.75,
          20,
          9
         ],
         "yaxis": "y"
        }
       ],
       "layout": {
        "barmode": "relative",
        "legend": {
         "tracegroupgap": 0
        },
        "template": {
         "data": {
          "bar": [
           {
            "error_x": {
             "color": "#2a3f5f"
            },
            "error_y": {
             "color": "#2a3f5f"
            },
            "marker": {
             "line": {
              "color": "#E5ECF6",
              "width": 0.5
             }
            },
            "type": "bar"
           }
          ],
          "barpolar": [
           {
            "marker": {
             "line": {
              "color": "#E5ECF6",
              "width": 0.5
             }
            },
            "type": "barpolar"
           }
          ],
          "carpet": [
           {
            "aaxis": {
             "endlinecolor": "#2a3f5f",
             "gridcolor": "white",
             "linecolor": "white",
             "minorgridcolor": "white",
             "startlinecolor": "#2a3f5f"
            },
            "baxis": {
             "endlinecolor": "#2a3f5f",
             "gridcolor": "white",
             "linecolor": "white",
             "minorgridcolor": "white",
             "startlinecolor": "#2a3f5f"
            },
            "type": "carpet"
           }
          ],
          "choropleth": [
           {
            "colorbar": {
             "outlinewidth": 0,
             "ticks": ""
            },
            "type": "choropleth"
           }
          ],
          "contour": [
           {
            "colorbar": {
             "outlinewidth": 0,
             "ticks": ""
            },
            "colorscale": [
             [
              0,
              "#0d0887"
             ],
             [
              0.1111111111111111,
              "#46039f"
             ],
             [
              0.2222222222222222,
              "#7201a8"
             ],
             [
              0.3333333333333333,
              "#9c179e"
             ],
             [
              0.4444444444444444,
              "#bd3786"
             ],
             [
              0.5555555555555556,
              "#d8576b"
             ],
             [
              0.6666666666666666,
              "#ed7953"
             ],
             [
              0.7777777777777778,
              "#fb9f3a"
             ],
             [
              0.8888888888888888,
              "#fdca26"
             ],
             [
              1,
              "#f0f921"
             ]
            ],
            "type": "contour"
           }
          ],
          "contourcarpet": [
           {
            "colorbar": {
             "outlinewidth": 0,
             "ticks": ""
            },
            "type": "contourcarpet"
           }
          ],
          "heatmap": [
           {
            "colorbar": {
             "outlinewidth": 0,
             "ticks": ""
            },
            "colorscale": [
             [
              0,
              "#0d0887"
             ],
             [
              0.1111111111111111,
              "#46039f"
             ],
             [
              0.2222222222222222,
              "#7201a8"
             ],
             [
              0.3333333333333333,
              "#9c179e"
             ],
             [
              0.4444444444444444,
              "#bd3786"
             ],
             [
              0.5555555555555556,
              "#d8576b"
             ],
             [
              0.6666666666666666,
              "#ed7953"
             ],
             [
              0.7777777777777778,
              "#fb9f3a"
             ],
             [
              0.8888888888888888,
              "#fdca26"
             ],
             [
              1,
              "#f0f921"
             ]
            ],
            "type": "heatmap"
           }
          ],
          "heatmapgl": [
           {
            "colorbar": {
             "outlinewidth": 0,
             "ticks": ""
            },
            "colorscale": [
             [
              0,
              "#0d0887"
             ],
             [
              0.1111111111111111,
              "#46039f"
             ],
             [
              0.2222222222222222,
              "#7201a8"
             ],
             [
              0.3333333333333333,
              "#9c179e"
             ],
             [
              0.4444444444444444,
              "#bd3786"
             ],
             [
              0.5555555555555556,
              "#d8576b"
             ],
             [
              0.6666666666666666,
              "#ed7953"
             ],
             [
              0.7777777777777778,
              "#fb9f3a"
             ],
             [
              0.8888888888888888,
              "#fdca26"
             ],
             [
              1,
              "#f0f921"
             ]
            ],
            "type": "heatmapgl"
           }
          ],
          "histogram": [
           {
            "marker": {
             "colorbar": {
              "outlinewidth": 0,
              "ticks": ""
             }
            },
            "type": "histogram"
           }
          ],
          "histogram2d": [
           {
            "colorbar": {
             "outlinewidth": 0,
             "ticks": ""
            },
            "colorscale": [
             [
              0,
              "#0d0887"
             ],
             [
              0.1111111111111111,
              "#46039f"
             ],
             [
              0.2222222222222222,
              "#7201a8"
             ],
             [
              0.3333333333333333,
              "#9c179e"
             ],
             [
              0.4444444444444444,
              "#bd3786"
             ],
             [
              0.5555555555555556,
              "#d8576b"
             ],
             [
              0.6666666666666666,
              "#ed7953"
             ],
             [
              0.7777777777777778,
              "#fb9f3a"
             ],
             [
              0.8888888888888888,
              "#fdca26"
             ],
             [
              1,
              "#f0f921"
             ]
            ],
            "type": "histogram2d"
           }
          ],
          "histogram2dcontour": [
           {
            "colorbar": {
             "outlinewidth": 0,
             "ticks": ""
            },
            "colorscale": [
             [
              0,
              "#0d0887"
             ],
             [
              0.1111111111111111,
              "#46039f"
             ],
             [
              0.2222222222222222,
              "#7201a8"
             ],
             [
              0.3333333333333333,
              "#9c179e"
             ],
             [
              0.4444444444444444,
              "#bd3786"
             ],
             [
              0.5555555555555556,
              "#d8576b"
             ],
             [
              0.6666666666666666,
              "#ed7953"
             ],
             [
              0.7777777777777778,
              "#fb9f3a"
             ],
             [
              0.8888888888888888,
              "#fdca26"
             ],
             [
              1,
              "#f0f921"
             ]
            ],
            "type": "histogram2dcontour"
           }
          ],
          "mesh3d": [
           {
            "colorbar": {
             "outlinewidth": 0,
             "ticks": ""
            },
            "type": "mesh3d"
           }
          ],
          "parcoords": [
           {
            "line": {
             "colorbar": {
              "outlinewidth": 0,
              "ticks": ""
             }
            },
            "type": "parcoords"
           }
          ],
          "pie": [
           {
            "automargin": true,
            "type": "pie"
           }
          ],
          "scatter": [
           {
            "marker": {
             "colorbar": {
              "outlinewidth": 0,
              "ticks": ""
             }
            },
            "type": "scatter"
           }
          ],
          "scatter3d": [
           {
            "line": {
             "colorbar": {
              "outlinewidth": 0,
              "ticks": ""
             }
            },
            "marker": {
             "colorbar": {
              "outlinewidth": 0,
              "ticks": ""
             }
            },
            "type": "scatter3d"
           }
          ],
          "scattercarpet": [
           {
            "marker": {
             "colorbar": {
              "outlinewidth": 0,
              "ticks": ""
             }
            },
            "type": "scattercarpet"
           }
          ],
          "scattergeo": [
           {
            "marker": {
             "colorbar": {
              "outlinewidth": 0,
              "ticks": ""
             }
            },
            "type": "scattergeo"
           }
          ],
          "scattergl": [
           {
            "marker": {
             "colorbar": {
              "outlinewidth": 0,
              "ticks": ""
             }
            },
            "type": "scattergl"
           }
          ],
          "scattermapbox": [
           {
            "marker": {
             "colorbar": {
              "outlinewidth": 0,
              "ticks": ""
             }
            },
            "type": "scattermapbox"
           }
          ],
          "scatterpolar": [
           {
            "marker": {
             "colorbar": {
              "outlinewidth": 0,
              "ticks": ""
             }
            },
            "type": "scatterpolar"
           }
          ],
          "scatterpolargl": [
           {
            "marker": {
             "colorbar": {
              "outlinewidth": 0,
              "ticks": ""
             }
            },
            "type": "scatterpolargl"
           }
          ],
          "scatterternary": [
           {
            "marker": {
             "colorbar": {
              "outlinewidth": 0,
              "ticks": ""
             }
            },
            "type": "scatterternary"
           }
          ],
          "surface": [
           {
            "colorbar": {
             "outlinewidth": 0,
             "ticks": ""
            },
            "colorscale": [
             [
              0,
              "#0d0887"
             ],
             [
              0.1111111111111111,
              "#46039f"
             ],
             [
              0.2222222222222222,
              "#7201a8"
             ],
             [
              0.3333333333333333,
              "#9c179e"
             ],
             [
              0.4444444444444444,
              "#bd3786"
             ],
             [
              0.5555555555555556,
              "#d8576b"
             ],
             [
              0.6666666666666666,
              "#ed7953"
             ],
             [
              0.7777777777777778,
              "#fb9f3a"
             ],
             [
              0.8888888888888888,
              "#fdca26"
             ],
             [
              1,
              "#f0f921"
             ]
            ],
            "type": "surface"
           }
          ],
          "table": [
           {
            "cells": {
             "fill": {
              "color": "#EBF0F8"
             },
             "line": {
              "color": "white"
             }
            },
            "header": {
             "fill": {
              "color": "#C8D4E3"
             },
             "line": {
              "color": "white"
             }
            },
            "type": "table"
           }
          ]
         },
         "layout": {
          "annotationdefaults": {
           "arrowcolor": "#2a3f5f",
           "arrowhead": 0,
           "arrowwidth": 1
          },
          "coloraxis": {
           "colorbar": {
            "outlinewidth": 0,
            "ticks": ""
           }
          },
          "colorscale": {
           "diverging": [
            [
             0,
             "#8e0152"
            ],
            [
             0.1,
             "#c51b7d"
            ],
            [
             0.2,
             "#de77ae"
            ],
            [
             0.3,
             "#f1b6da"
            ],
            [
             0.4,
             "#fde0ef"
            ],
            [
             0.5,
             "#f7f7f7"
            ],
            [
             0.6,
             "#e6f5d0"
            ],
            [
             0.7,
             "#b8e186"
            ],
            [
             0.8,
             "#7fbc41"
            ],
            [
             0.9,
             "#4d9221"
            ],
            [
             1,
             "#276419"
            ]
           ],
           "sequential": [
            [
             0,
             "#0d0887"
            ],
            [
             0.1111111111111111,
             "#46039f"
            ],
            [
             0.2222222222222222,
             "#7201a8"
            ],
            [
             0.3333333333333333,
             "#9c179e"
            ],
            [
             0.4444444444444444,
             "#bd3786"
            ],
            [
             0.5555555555555556,
             "#d8576b"
            ],
            [
             0.6666666666666666,
             "#ed7953"
            ],
            [
             0.7777777777777778,
             "#fb9f3a"
            ],
            [
             0.8888888888888888,
             "#fdca26"
            ],
            [
             1,
             "#f0f921"
            ]
           ],
           "sequentialminus": [
            [
             0,
             "#0d0887"
            ],
            [
             0.1111111111111111,
             "#46039f"
            ],
            [
             0.2222222222222222,
             "#7201a8"
            ],
            [
             0.3333333333333333,
             "#9c179e"
            ],
            [
             0.4444444444444444,
             "#bd3786"
            ],
            [
             0.5555555555555556,
             "#d8576b"
            ],
            [
             0.6666666666666666,
             "#ed7953"
            ],
            [
             0.7777777777777778,
             "#fb9f3a"
            ],
            [
             0.8888888888888888,
             "#fdca26"
            ],
            [
             1,
             "#f0f921"
            ]
           ]
          },
          "colorway": [
           "#636efa",
           "#EF553B",
           "#00cc96",
           "#ab63fa",
           "#FFA15A",
           "#19d3f3",
           "#FF6692",
           "#B6E880",
           "#FF97FF",
           "#FECB52"
          ],
          "font": {
           "color": "#2a3f5f"
          },
          "geo": {
           "bgcolor": "white",
           "lakecolor": "white",
           "landcolor": "#E5ECF6",
           "showlakes": true,
           "showland": true,
           "subunitcolor": "white"
          },
          "hoverlabel": {
           "align": "left"
          },
          "hovermode": "closest",
          "mapbox": {
           "style": "light"
          },
          "paper_bgcolor": "white",
          "plot_bgcolor": "#E5ECF6",
          "polar": {
           "angularaxis": {
            "gridcolor": "white",
            "linecolor": "white",
            "ticks": ""
           },
           "bgcolor": "#E5ECF6",
           "radialaxis": {
            "gridcolor": "white",
            "linecolor": "white",
            "ticks": ""
           }
          },
          "scene": {
           "xaxis": {
            "backgroundcolor": "#E5ECF6",
            "gridcolor": "white",
            "gridwidth": 2,
            "linecolor": "white",
            "showbackground": true,
            "ticks": "",
            "zerolinecolor": "white"
           },
           "yaxis": {
            "backgroundcolor": "#E5ECF6",
            "gridcolor": "white",
            "gridwidth": 2,
            "linecolor": "white",
            "showbackground": true,
            "ticks": "",
            "zerolinecolor": "white"
           },
           "zaxis": {
            "backgroundcolor": "#E5ECF6",
            "gridcolor": "white",
            "gridwidth": 2,
            "linecolor": "white",
            "showbackground": true,
            "ticks": "",
            "zerolinecolor": "white"
           }
          },
          "shapedefaults": {
           "line": {
            "color": "#2a3f5f"
           }
          },
          "ternary": {
           "aaxis": {
            "gridcolor": "white",
            "linecolor": "white",
            "ticks": ""
           },
           "baxis": {
            "gridcolor": "white",
            "linecolor": "white",
            "ticks": ""
           },
           "bgcolor": "#E5ECF6",
           "caxis": {
            "gridcolor": "white",
            "linecolor": "white",
            "ticks": ""
           }
          },
          "title": {
           "x": 0.05
          },
          "xaxis": {
           "automargin": true,
           "gridcolor": "white",
           "linecolor": "white",
           "ticks": "",
           "title": {
            "standoff": 15
           },
           "zerolinecolor": "white",
           "zerolinewidth": 2
          },
          "yaxis": {
           "automargin": true,
           "gridcolor": "white",
           "linecolor": "white",
           "ticks": "",
           "title": {
            "standoff": 15
           },
           "zerolinecolor": "white",
           "zerolinewidth": 2
          }
         }
        },
        "title": {
         "text": "Sum of Items per Charge Category"
        },
        "xaxis": {
         "anchor": "y",
         "domain": [
          0,
          1
         ],
         "title": {
          "text": "Category"
         }
        },
        "yaxis": {
         "anchor": "x",
         "domain": [
          0,
          1
         ],
         "title": {
          "text": "Sum of Items (USD)"
         }
        }
       }
      },
      "text/html": [
       "<div>\n",
       "        \n",
       "        \n",
       "            <div id=\"4a92dce0-47c4-4fc1-8dff-7b547d7041e6\" class=\"plotly-graph-div\" style=\"height:525px; width:100%;\"></div>\n",
       "            <script type=\"text/javascript\">\n",
       "                require([\"plotly\"], function(Plotly) {\n",
       "                    window.PLOTLYENV=window.PLOTLYENV || {};\n",
       "                    \n",
       "                if (document.getElementById(\"4a92dce0-47c4-4fc1-8dff-7b547d7041e6\")) {\n",
       "                    Plotly.newPlot(\n",
       "                        '4a92dce0-47c4-4fc1-8dff-7b547d7041e6',\n",
       "                        [{\"alignmentgroup\": \"True\", \"hoverlabel\": {\"namelength\": 0}, \"hovertemplate\": \"Category=%{x}<br>Sum of Items (USD)=%{y}\", \"legendgroup\": \"\", \"marker\": {\"color\": \"#636efa\"}, \"name\": \"\", \"offsetgroup\": \"\", \"orientation\": \"v\", \"showlegend\": false, \"textposition\": \"auto\", \"type\": \"bar\", \"x\": [\"Housing - Rent\", \"Ally Transfer - From\", \"PayCheck Deposit - Bocado\", \"CC BillPay\", \"Ally Transfer - To\", \"Deposit\", \"Money Transfer - Credit\", \"PayCheck Deposit - Zoes\", \"Mom Fund\", \"Food\", \"Money Transfer - Debit\", \"Grocery\", \"Gasoline\", \"Mom Payment\", \"Entertainment\", \"Transportation\", \"Gift Deposit\", \"Refund\", \"Unknown\", \"Housing - Repair\", \"Vehicle - Repair\", \"Withdrawal\", \"Fashion\", \"Medical\", \"Other Fee\"], \"xaxis\": \"x\", \"y\": [5529.65, 5245.0, 3896.14, 2934.63, 2700.0, 1837.9299999999998, 1800.28, 1728.1699999999996, 1580.0, 1410.2999999999995, 1373.35, 840.6100000000001, 833.8499999999999, 413.43, 386.22, 312.55, 300.0, 286.5, 162.57, 159.41, 133.66, 130.0, 36.75, 20.0, 9.0], \"yaxis\": \"y\"}],\n",
       "                        {\"barmode\": \"relative\", \"legend\": {\"tracegroupgap\": 0}, \"template\": {\"data\": {\"bar\": [{\"error_x\": {\"color\": \"#2a3f5f\"}, \"error_y\": {\"color\": \"#2a3f5f\"}, \"marker\": {\"line\": {\"color\": \"#E5ECF6\", \"width\": 0.5}}, \"type\": \"bar\"}], \"barpolar\": [{\"marker\": {\"line\": {\"color\": \"#E5ECF6\", \"width\": 0.5}}, \"type\": \"barpolar\"}], \"carpet\": [{\"aaxis\": {\"endlinecolor\": \"#2a3f5f\", \"gridcolor\": \"white\", \"linecolor\": \"white\", \"minorgridcolor\": \"white\", \"startlinecolor\": \"#2a3f5f\"}, \"baxis\": {\"endlinecolor\": \"#2a3f5f\", \"gridcolor\": \"white\", \"linecolor\": \"white\", \"minorgridcolor\": \"white\", \"startlinecolor\": \"#2a3f5f\"}, \"type\": \"carpet\"}], \"choropleth\": [{\"colorbar\": {\"outlinewidth\": 0, \"ticks\": \"\"}, \"type\": \"choropleth\"}], \"contour\": [{\"colorbar\": {\"outlinewidth\": 0, \"ticks\": \"\"}, \"colorscale\": [[0.0, \"#0d0887\"], [0.1111111111111111, \"#46039f\"], [0.2222222222222222, \"#7201a8\"], [0.3333333333333333, \"#9c179e\"], [0.4444444444444444, \"#bd3786\"], [0.5555555555555556, \"#d8576b\"], [0.6666666666666666, \"#ed7953\"], [0.7777777777777778, \"#fb9f3a\"], [0.8888888888888888, \"#fdca26\"], [1.0, \"#f0f921\"]], \"type\": \"contour\"}], \"contourcarpet\": [{\"colorbar\": {\"outlinewidth\": 0, \"ticks\": \"\"}, \"type\": \"contourcarpet\"}], \"heatmap\": [{\"colorbar\": {\"outlinewidth\": 0, \"ticks\": \"\"}, \"colorscale\": [[0.0, \"#0d0887\"], [0.1111111111111111, \"#46039f\"], [0.2222222222222222, \"#7201a8\"], [0.3333333333333333, \"#9c179e\"], [0.4444444444444444, \"#bd3786\"], [0.5555555555555556, \"#d8576b\"], [0.6666666666666666, \"#ed7953\"], [0.7777777777777778, \"#fb9f3a\"], [0.8888888888888888, \"#fdca26\"], [1.0, \"#f0f921\"]], \"type\": \"heatmap\"}], \"heatmapgl\": [{\"colorbar\": {\"outlinewidth\": 0, \"ticks\": \"\"}, \"colorscale\": [[0.0, \"#0d0887\"], [0.1111111111111111, \"#46039f\"], [0.2222222222222222, \"#7201a8\"], [0.3333333333333333, \"#9c179e\"], [0.4444444444444444, \"#bd3786\"], [0.5555555555555556, \"#d8576b\"], [0.6666666666666666, \"#ed7953\"], [0.7777777777777778, \"#fb9f3a\"], [0.8888888888888888, \"#fdca26\"], [1.0, \"#f0f921\"]], \"type\": \"heatmapgl\"}], \"histogram\": [{\"marker\": {\"colorbar\": {\"outlinewidth\": 0, \"ticks\": \"\"}}, \"type\": \"histogram\"}], \"histogram2d\": [{\"colorbar\": {\"outlinewidth\": 0, \"ticks\": \"\"}, \"colorscale\": [[0.0, \"#0d0887\"], [0.1111111111111111, \"#46039f\"], [0.2222222222222222, \"#7201a8\"], [0.3333333333333333, \"#9c179e\"], [0.4444444444444444, \"#bd3786\"], [0.5555555555555556, \"#d8576b\"], [0.6666666666666666, \"#ed7953\"], [0.7777777777777778, \"#fb9f3a\"], [0.8888888888888888, \"#fdca26\"], [1.0, \"#f0f921\"]], \"type\": \"histogram2d\"}], \"histogram2dcontour\": [{\"colorbar\": {\"outlinewidth\": 0, \"ticks\": \"\"}, \"colorscale\": [[0.0, \"#0d0887\"], [0.1111111111111111, \"#46039f\"], [0.2222222222222222, \"#7201a8\"], [0.3333333333333333, \"#9c179e\"], [0.4444444444444444, \"#bd3786\"], [0.5555555555555556, \"#d8576b\"], [0.6666666666666666, \"#ed7953\"], [0.7777777777777778, \"#fb9f3a\"], [0.8888888888888888, \"#fdca26\"], [1.0, \"#f0f921\"]], \"type\": \"histogram2dcontour\"}], \"mesh3d\": [{\"colorbar\": {\"outlinewidth\": 0, \"ticks\": \"\"}, \"type\": \"mesh3d\"}], \"parcoords\": [{\"line\": {\"colorbar\": {\"outlinewidth\": 0, \"ticks\": \"\"}}, \"type\": \"parcoords\"}], \"pie\": [{\"automargin\": true, \"type\": \"pie\"}], \"scatter\": [{\"marker\": {\"colorbar\": {\"outlinewidth\": 0, \"ticks\": \"\"}}, \"type\": \"scatter\"}], \"scatter3d\": [{\"line\": {\"colorbar\": {\"outlinewidth\": 0, \"ticks\": \"\"}}, \"marker\": {\"colorbar\": {\"outlinewidth\": 0, \"ticks\": \"\"}}, \"type\": \"scatter3d\"}], \"scattercarpet\": [{\"marker\": {\"colorbar\": {\"outlinewidth\": 0, \"ticks\": \"\"}}, \"type\": \"scattercarpet\"}], \"scattergeo\": [{\"marker\": {\"colorbar\": {\"outlinewidth\": 0, \"ticks\": \"\"}}, \"type\": \"scattergeo\"}], \"scattergl\": [{\"marker\": {\"colorbar\": {\"outlinewidth\": 0, \"ticks\": \"\"}}, \"type\": \"scattergl\"}], \"scattermapbox\": [{\"marker\": {\"colorbar\": {\"outlinewidth\": 0, \"ticks\": \"\"}}, \"type\": \"scattermapbox\"}], \"scatterpolar\": [{\"marker\": {\"colorbar\": {\"outlinewidth\": 0, \"ticks\": \"\"}}, \"type\": \"scatterpolar\"}], \"scatterpolargl\": [{\"marker\": {\"colorbar\": {\"outlinewidth\": 0, \"ticks\": \"\"}}, \"type\": \"scatterpolargl\"}], \"scatterternary\": [{\"marker\": {\"colorbar\": {\"outlinewidth\": 0, \"ticks\": \"\"}}, \"type\": \"scatterternary\"}], \"surface\": [{\"colorbar\": {\"outlinewidth\": 0, \"ticks\": \"\"}, \"colorscale\": [[0.0, \"#0d0887\"], [0.1111111111111111, \"#46039f\"], [0.2222222222222222, \"#7201a8\"], [0.3333333333333333, \"#9c179e\"], [0.4444444444444444, \"#bd3786\"], [0.5555555555555556, \"#d8576b\"], [0.6666666666666666, \"#ed7953\"], [0.7777777777777778, \"#fb9f3a\"], [0.8888888888888888, \"#fdca26\"], [1.0, \"#f0f921\"]], \"type\": \"surface\"}], \"table\": [{\"cells\": {\"fill\": {\"color\": \"#EBF0F8\"}, \"line\": {\"color\": \"white\"}}, \"header\": {\"fill\": {\"color\": \"#C8D4E3\"}, \"line\": {\"color\": \"white\"}}, \"type\": \"table\"}]}, \"layout\": {\"annotationdefaults\": {\"arrowcolor\": \"#2a3f5f\", \"arrowhead\": 0, \"arrowwidth\": 1}, \"coloraxis\": {\"colorbar\": {\"outlinewidth\": 0, \"ticks\": \"\"}}, \"colorscale\": {\"diverging\": [[0, \"#8e0152\"], [0.1, \"#c51b7d\"], [0.2, \"#de77ae\"], [0.3, \"#f1b6da\"], [0.4, \"#fde0ef\"], [0.5, \"#f7f7f7\"], [0.6, \"#e6f5d0\"], [0.7, \"#b8e186\"], [0.8, \"#7fbc41\"], [0.9, \"#4d9221\"], [1, \"#276419\"]], \"sequential\": [[0.0, \"#0d0887\"], [0.1111111111111111, \"#46039f\"], [0.2222222222222222, \"#7201a8\"], [0.3333333333333333, \"#9c179e\"], [0.4444444444444444, \"#bd3786\"], [0.5555555555555556, \"#d8576b\"], [0.6666666666666666, \"#ed7953\"], [0.7777777777777778, \"#fb9f3a\"], [0.8888888888888888, \"#fdca26\"], [1.0, \"#f0f921\"]], \"sequentialminus\": [[0.0, \"#0d0887\"], [0.1111111111111111, \"#46039f\"], [0.2222222222222222, \"#7201a8\"], [0.3333333333333333, \"#9c179e\"], [0.4444444444444444, \"#bd3786\"], [0.5555555555555556, \"#d8576b\"], [0.6666666666666666, \"#ed7953\"], [0.7777777777777778, \"#fb9f3a\"], [0.8888888888888888, \"#fdca26\"], [1.0, \"#f0f921\"]]}, \"colorway\": [\"#636efa\", \"#EF553B\", \"#00cc96\", \"#ab63fa\", \"#FFA15A\", \"#19d3f3\", \"#FF6692\", \"#B6E880\", \"#FF97FF\", \"#FECB52\"], \"font\": {\"color\": \"#2a3f5f\"}, \"geo\": {\"bgcolor\": \"white\", \"lakecolor\": \"white\", \"landcolor\": \"#E5ECF6\", \"showlakes\": true, \"showland\": true, \"subunitcolor\": \"white\"}, \"hoverlabel\": {\"align\": \"left\"}, \"hovermode\": \"closest\", \"mapbox\": {\"style\": \"light\"}, \"paper_bgcolor\": \"white\", \"plot_bgcolor\": \"#E5ECF6\", \"polar\": {\"angularaxis\": {\"gridcolor\": \"white\", \"linecolor\": \"white\", \"ticks\": \"\"}, \"bgcolor\": \"#E5ECF6\", \"radialaxis\": {\"gridcolor\": \"white\", \"linecolor\": \"white\", \"ticks\": \"\"}}, \"scene\": {\"xaxis\": {\"backgroundcolor\": \"#E5ECF6\", \"gridcolor\": \"white\", \"gridwidth\": 2, \"linecolor\": \"white\", \"showbackground\": true, \"ticks\": \"\", \"zerolinecolor\": \"white\"}, \"yaxis\": {\"backgroundcolor\": \"#E5ECF6\", \"gridcolor\": \"white\", \"gridwidth\": 2, \"linecolor\": \"white\", \"showbackground\": true, \"ticks\": \"\", \"zerolinecolor\": \"white\"}, \"zaxis\": {\"backgroundcolor\": \"#E5ECF6\", \"gridcolor\": \"white\", \"gridwidth\": 2, \"linecolor\": \"white\", \"showbackground\": true, \"ticks\": \"\", \"zerolinecolor\": \"white\"}}, \"shapedefaults\": {\"line\": {\"color\": \"#2a3f5f\"}}, \"ternary\": {\"aaxis\": {\"gridcolor\": \"white\", \"linecolor\": \"white\", \"ticks\": \"\"}, \"baxis\": {\"gridcolor\": \"white\", \"linecolor\": \"white\", \"ticks\": \"\"}, \"bgcolor\": \"#E5ECF6\", \"caxis\": {\"gridcolor\": \"white\", \"linecolor\": \"white\", \"ticks\": \"\"}}, \"title\": {\"x\": 0.05}, \"xaxis\": {\"automargin\": true, \"gridcolor\": \"white\", \"linecolor\": \"white\", \"ticks\": \"\", \"title\": {\"standoff\": 15}, \"zerolinecolor\": \"white\", \"zerolinewidth\": 2}, \"yaxis\": {\"automargin\": true, \"gridcolor\": \"white\", \"linecolor\": \"white\", \"ticks\": \"\", \"title\": {\"standoff\": 15}, \"zerolinecolor\": \"white\", \"zerolinewidth\": 2}}}, \"title\": {\"text\": \"Sum of Items per Charge Category\"}, \"xaxis\": {\"anchor\": \"y\", \"domain\": [0.0, 1.0], \"title\": {\"text\": \"Category\"}}, \"yaxis\": {\"anchor\": \"x\", \"domain\": [0.0, 1.0], \"title\": {\"text\": \"Sum of Items (USD)\"}}},\n",
       "                        {\"responsive\": true}\n",
       "                    ).then(function(){\n",
       "                            \n",
       "var gd = document.getElementById('4a92dce0-47c4-4fc1-8dff-7b547d7041e6');\n",
       "var x = new MutationObserver(function (mutations, observer) {{\n",
       "        var display = window.getComputedStyle(gd).display;\n",
       "        if (!display || display === 'none') {{\n",
       "            console.log([gd, 'removed!']);\n",
       "            Plotly.purge(gd);\n",
       "            observer.disconnect();\n",
       "        }}\n",
       "}});\n",
       "\n",
       "// Listen for the removal of the full notebook cells\n",
       "var notebookContainer = gd.closest('#notebook-container');\n",
       "if (notebookContainer) {{\n",
       "    x.observe(notebookContainer, {childList: true});\n",
       "}}\n",
       "\n",
       "// Listen for the clearing of the current output cell\n",
       "var outputEl = gd.closest('.output');\n",
       "if (outputEl) {{\n",
       "    x.observe(outputEl, {childList: true});\n",
       "}}\n",
       "\n",
       "                        })\n",
       "                };\n",
       "                });\n",
       "            </script>\n",
       "        </div>"
      ]
     },
     "metadata": {},
     "output_type": "display_data"
    },
    {
     "data": {
      "application/vnd.plotly.v1+json": {
       "config": {
        "plotlyServerURL": "https://plot.ly"
       },
       "data": [
        {
         "hoverlabel": {
          "namelength": 0
         },
         "hovertemplate": "Date=%{x}<br>Running Balance=%{y}",
         "legendgroup": "",
         "line": {
          "color": "#636efa",
          "dash": "solid"
         },
         "mode": "lines",
         "name": "",
         "showlegend": false,
         "type": "scatter",
         "x": [
          "9/4/18",
          "9/4/18",
          "9/4/18",
          "9/5/18",
          "9/6/18",
          "9/6/18",
          "9/7/18",
          "9/7/18",
          "9/7/18",
          "9/10/18",
          "9/10/18",
          "9/11/18",
          "9/11/18",
          "9/12/18",
          "9/12/18",
          "9/13/18",
          "9/13/18",
          "9/13/18",
          "9/14/18",
          "9/17/18",
          "9/17/18",
          "9/17/18",
          "9/18/18",
          "9/18/18",
          "9/18/18",
          "9/18/18",
          "9/20/18",
          "9/24/18",
          "9/24/18",
          "9/24/18",
          "9/24/18",
          "9/25/18",
          "9/26/18",
          "9/27/18",
          "9/27/18",
          "9/27/18",
          "9/27/18",
          "9/28/18",
          "9/28/18",
          "9/28/18",
          "10/1/18",
          "10/1/18",
          "10/1/18",
          "10/1/18",
          "10/1/18",
          "10/1/18",
          "10/1/18",
          "10/2/18",
          "10/3/18",
          "10/3/18",
          "10/4/18",
          "10/4/18",
          "10/4/18",
          "10/4/18",
          "10/5/18",
          "10/9/18",
          "10/9/18",
          "10/9/18",
          "10/9/18",
          "10/10/18",
          "10/11/18",
          "10/11/18",
          "10/11/18",
          "10/11/18",
          "10/12/18",
          "10/15/18",
          "10/15/18",
          "10/15/18",
          "10/15/18",
          "10/16/18",
          "10/17/18",
          "10/17/18",
          "10/18/18",
          "10/18/18",
          "10/19/18",
          "10/19/18",
          "10/19/18",
          "10/19/18",
          "10/23/18",
          "10/23/18",
          "10/24/18",
          "10/24/18",
          "10/24/18",
          "10/24/18",
          "10/25/18",
          "10/26/18",
          "10/26/18",
          "10/26/18",
          "10/26/18",
          "10/26/18",
          "10/26/18",
          "10/29/18",
          "10/29/18",
          "10/29/18",
          "10/29/18",
          "10/29/18",
          "10/29/18",
          "10/29/18",
          "10/30/18",
          "10/31/18",
          "11/1/18",
          "11/2/18",
          "11/5/18",
          "11/6/18",
          "11/6/18",
          "11/6/18",
          "11/7/18",
          "11/7/18",
          "11/8/18",
          "11/9/18",
          "11/9/18",
          "11/14/18",
          "11/15/18",
          "11/16/18",
          "11/19/18",
          "11/19/18",
          "11/20/18",
          "11/23/18",
          "11/23/18",
          "11/27/18",
          "11/27/18",
          "11/28/18",
          "11/28/18",
          "11/28/18",
          "11/28/18",
          "11/29/18",
          "11/29/18",
          "11/30/18",
          "11/30/18",
          "11/30/18",
          "11/30/18",
          "11/30/18",
          "12/3/18",
          "12/5/18",
          "12/5/18",
          "12/5/18",
          "12/6/18",
          "12/7/18",
          "12/7/18",
          "12/7/18",
          "12/7/18",
          "12/10/18",
          "12/10/18",
          "12/12/18",
          "12/12/18",
          "12/14/18",
          "12/14/18",
          "12/14/18",
          "12/17/18",
          "12/17/18",
          "12/17/18",
          "12/18/18",
          "12/18/18",
          "12/18/18",
          "12/18/18",
          "12/18/18",
          "12/18/18",
          "12/19/18",
          "12/19/18",
          "12/20/18",
          "12/21/18",
          "12/24/18",
          "12/24/18",
          "12/24/18",
          "12/28/18",
          "12/28/18",
          "12/31/18",
          "1/2/19",
          "1/2/19",
          "1/4/19",
          "1/7/19",
          "1/8/19",
          "1/10/19",
          "1/10/19",
          "1/10/19",
          "1/10/19",
          "1/14/19",
          "1/14/19",
          "1/14/19",
          "1/15/19",
          "1/15/19",
          "1/15/19",
          "1/16/19",
          "1/17/19",
          "1/17/19",
          "1/18/19",
          "1/22/19",
          "1/23/19",
          "1/24/19",
          "1/24/19",
          "1/24/19",
          "1/25/19",
          "1/25/19",
          "1/28/19",
          "1/29/19",
          "1/29/19",
          "1/29/19",
          "1/30/19",
          "1/31/19",
          "2/1/19",
          "2/1/19",
          "2/1/19",
          "2/1/19",
          "2/1/19",
          "2/1/19",
          "2/1/19",
          "2/1/19",
          "2/4/19",
          "2/5/19",
          "2/6/19",
          "2/6/19",
          "2/7/19",
          "2/7/19",
          "2/8/19",
          "2/11/19",
          "2/11/19",
          "2/12/19",
          "2/13/19",
          "2/14/19",
          "2/14/19",
          "2/14/19",
          "2/14/19",
          "2/15/19",
          "2/15/19",
          "2/15/19",
          "2/19/19",
          "2/19/19",
          "2/19/19",
          "2/19/19",
          "2/19/19",
          "2/20/19",
          "2/20/19",
          "2/22/19",
          "2/25/19",
          "2/26/19",
          "2/27/19",
          "2/27/19",
          "2/28/19",
          "2/28/19",
          "2/28/19",
          "2/28/19",
          "3/1/19",
          "3/4/19",
          "3/4/19",
          "3/4/19",
          "3/5/19",
          "3/6/19",
          "3/6/19",
          "3/6/19",
          "3/6/19",
          "3/6/19",
          "3/7/19",
          "3/7/19",
          "3/7/19",
          "3/7/19",
          "3/8/19",
          "3/11/19",
          "3/11/19",
          "3/11/19",
          "3/11/19",
          "3/12/19",
          "3/12/19",
          "3/12/19",
          "3/12/19",
          "3/12/19",
          "3/12/19",
          "3/13/19",
          "3/13/19",
          "3/13/19",
          "3/13/19",
          "3/13/19",
          "3/13/19",
          "3/14/19",
          "3/15/19",
          "3/15/19",
          "3/15/19",
          "3/15/19",
          "3/18/19",
          "3/18/19",
          "3/18/19",
          "3/18/19",
          "3/18/19",
          "3/18/19",
          "3/18/19",
          "3/18/19",
          "3/18/19",
          "3/18/19",
          "3/18/19",
          "3/18/19",
          "3/18/19",
          "3/18/19",
          "3/20/19",
          "3/20/19",
          "3/20/19",
          "3/21/19",
          "3/25/19",
          "3/25/19",
          "3/25/19",
          "3/25/19",
          "3/25/19",
          "3/26/19",
          "3/26/19",
          "3/26/19",
          "3/26/19",
          "3/27/19",
          "3/27/19",
          "3/27/19",
          "3/28/19",
          "3/28/19",
          "3/29/19",
          "3/29/19",
          "3/29/19",
          "3/29/19",
          "4/1/19",
          "4/1/19",
          "4/2/19",
          "4/2/19",
          "4/2/19",
          "4/3/19",
          "4/4/19",
          "4/4/19",
          "4/4/19",
          "4/5/19",
          "4/5/19",
          "4/5/19",
          "4/5/19",
          "4/8/19",
          "4/8/19",
          "4/8/19",
          "4/8/19",
          "4/9/19",
          "4/9/19",
          "4/10/19",
          "4/11/19",
          "4/11/19",
          "4/12/19",
          "4/12/19",
          "4/15/19",
          "4/22/19",
          "4/24/19",
          "4/26/19",
          "4/26/19",
          "4/26/19",
          "4/29/19",
          "4/30/19",
          "4/30/19",
          "5/1/19",
          "5/1/19",
          "5/2/19",
          "5/3/19",
          "5/6/19",
          "5/6/19",
          "5/6/19",
          "5/6/19",
          "5/7/19",
          "5/10/19",
          "5/13/19",
          "5/13/19",
          "5/21/19",
          "5/22/19",
          "5/23/19",
          "5/28/19",
          "5/30/19",
          "5/31/19",
          "6/3/19",
          "6/6/19",
          "6/6/19",
          "6/6/19",
          "6/10/19",
          "6/10/19",
          "6/11/19",
          "6/12/19",
          "6/12/19",
          "6/12/19",
          "6/14/19",
          "6/14/19",
          "6/17/19",
          "6/17/19",
          "6/17/19",
          "6/17/19",
          "6/18/19",
          "6/18/19",
          "6/19/19",
          "6/19/19",
          "6/19/19",
          "6/19/19",
          "6/19/19",
          "6/19/19",
          "6/20/19",
          "6/20/19",
          "6/20/19",
          "6/21/19",
          "6/21/19",
          "6/26/19",
          "7/5/19",
          "7/5/19",
          "7/9/19",
          "7/10/19",
          "7/10/19",
          "7/19/19",
          "7/29/19",
          "7/31/19",
          "8/2/19",
          "8/6/19",
          "8/6/19",
          "8/13/19",
          "8/14/19",
          "8/15/19",
          "8/16/19",
          "8/16/19",
          "8/19/19",
          "8/19/19",
          "8/21/19",
          "8/26/19",
          "8/26/19",
          "8/27/19",
          "8/27/19",
          "8/27/19",
          "8/28/19",
          "8/28/19",
          "8/29/19",
          "8/29/19",
          "8/29/19",
          "8/29/19",
          "8/30/19",
          "9/3/19",
          "9/3/19",
          "9/3/19",
          "9/4/19",
          "9/5/19",
          "9/11/19",
          "9/12/19",
          "9/12/19",
          "9/12/19",
          "9/16/19",
          "9/25/19",
          "9/25/19",
          "9/26/19",
          "9/26/19",
          "9/27/19",
          "9/30/19",
          "10/1/19",
          "10/1/19",
          "10/1/19",
          "10/2/19",
          "10/2/19",
          "10/2/19",
          "10/2/19",
          "10/2/19",
          "10/2/19",
          "10/2/19",
          "10/3/19",
          "10/7/19",
          "10/10/19",
          "10/10/19",
          "10/11/19",
          "10/15/19",
          "10/15/19",
          "10/16/19",
          "10/28/19",
          "10/29/19",
          "10/30/19",
          "11/1/19",
          "11/5/19",
          "11/6/19",
          "11/12/19",
          "11/13/19",
          "11/13/19",
          "11/14/19",
          "11/14/19",
          "11/15/19",
          "11/18/19",
          "11/18/19",
          "11/25/19",
          "12/2/19",
          "12/2/19",
          "12/2/19",
          "12/2/19",
          "12/3/19",
          "12/3/19",
          "12/12/19",
          "12/12/19",
          "12/12/19",
          "12/12/19",
          "12/13/19",
          "12/13/19",
          "12/16/19",
          "12/16/19",
          "12/20/19",
          "12/23/19",
          "12/23/19",
          "12/24/19",
          "12/26/19",
          "12/27/19",
          "1/2/20",
          "1/2/20",
          "1/2/20",
          "1/3/20",
          "1/6/20",
          "1/6/20",
          "1/7/20",
          "1/7/20",
          "1/7/20",
          "1/21/20",
          "1/27/20",
          "1/27/20",
          "1/28/20",
          "1/28/20",
          "1/29/20",
          "2/3/20",
          "2/3/20",
          "2/4/20",
          "2/5/20",
          "2/5/20",
          "2/5/20",
          "2/7/20",
          "2/7/20",
          "2/7/20",
          "2/7/20",
          "2/7/20",
          "2/10/20",
          "2/10/20",
          "2/11/20",
          "2/11/20",
          "2/12/20",
          "2/12/20",
          "2/12/20",
          "2/12/20",
          "2/14/20",
          "2/18/20",
          "2/19/20",
          "2/19/20",
          "2/19/20",
          "2/19/20",
          "2/20/20"
         ],
         "xaxis": "x",
         "y": [
          1179.3,
          1173.3,
          1183.28,
          1167.87,
          1165.75,
          1160.19,
          1137,
          1139.5,
          1145.13,
          1116.82,
          1121.82,
          1114.77,
          1078.02,
          1063.36,
          1068.36,
          1056.05,
          1059.56,
          897.62,
          861.48,
          860.32,
          850.26,
          830.26,
          826.07,
          826.31,
          828.26,
          822,
          818.49,
          1021.99,
          1018.4,
          1011.05,
          811.05,
          761.05,
          759.02,
          752.14,
          756.74,
          753.23,
          747.14,
          744.95,
          742.75,
          738.94,
          709.75,
          694.36,
          638.09,
          685.48,
          699.75,
          712.45,
          646.79,
          636.56,
          619.75,
          627.26,
          608.93,
          617.79,
          609.68,
          613.49,
          590.93,
          558.43,
          575.17,
          580.94,
          562.17,
          550.68,
          536.36,
          537.45,
          543.73,
          519.69,
          512.7,
          497.74,
          466.07,
          500.7,
          471.08,
          463.07,
          455.5,
          430.24,
          428.28,
          393.95,
          403.94,
          390.74,
          392.94,
          363.41,
          362.89,
          337.89,
          321.41,
          334.3,
          324.56,
          271.41,
          269.66,
          196.01,
          189.01,
          199.06,
          256.6,
          207.81,
          228.79,
          144.17,
          145.17,
          154.32,
          183.01,
          146.17,
          131.17,
          159.41,
          121.89,
          115.58,
          92.12,
          59.12,
          37,
          35.95,
          30.96,
          32.05,
          45.96,
          35.34,
          26.06,
          526.06,
          522.99,
          500.42,
          495.72,
          184.32,
          195.32,
          179.19,
          162.54,
          172.54,
          122.54,
          115.68,
          119.03,
          111.63,
          113.04,
          106.43,
          81.43,
          74.36,
          53.53,
          553.53,
          546.83,
          547.99,
          544.39,
          549.99,
          538.89,
          530.61,
          532.36,
          534.11,
          528.17,
          524.17,
          505.48,
          510.47,
          483.93,
          456.49,
          461.49,
          442.17,
          448.47,
          596.71,
          546.71,
          590.15,
          555.9,
          579.46,
          562.46,
          228.65,
          233.44,
          515.9,
          148.09,
          388.73,
          238.73,
          124.63,
          129.81,
          123.05,
          103.83,
          101.06,
          59.06,
          9.06,
          193.97,
          158.97,
          183.97,
          139.27,
          158.79,
          180.36,
          175.33,
          167.81,
          112.93,
          102.93,
          92.25,
          121.82,
          86.25,
          43.72,
          64.92,
          20.29,
          41.28,
          21.57,
          220.29,
          214.09,
          215.29,
          368.3,
          361.51,
          356.44,
          353.26,
          348.91,
          327.08,
          301.22,
          307.08,
          300.05,
          295.01,
          292.51,
          296.89,
          291.36,
          285.11,
          429.92,
          420.8,
          391.56,
          410.08,
          414.39,
          422.92,
          394.61,
          311.56,
          302.94,
          291.06,
          280.38,
          281.62,
          276.19,
          267.27,
          265.15,
          277.15,
          258.14,
          251.26,
          220.26,
          225.26,
          217.26,
          207.26,
          177.26,
          336.41,
          327.67,
          305.39,
          282.01,
          290.01,
          285.01,
          294.13,
          265.3,
          257.03,
          237.33,
          233.74,
          253.74,
          249.04,
          236.7,
          242.6,
          221.51,
          225.7,
          230.7,
          211.94,
          314.08,
          301.08,
          306.08,
          291.08,
          286.98,
          275.73,
          274.23,
          276.98,
          232.68,
          249.35,
          202.37,
          227.37,
          217.37,
          207.37,
          197.37,
          189.44,
          157.34,
          190.52,
          162.34,
          355.34,
          345.73,
          343.73,
          347.23,
          333.73,
          310.82,
          392.82,
          592.82,
          454.56,
          456.31,
          451.56,
          459.16,
          446.56,
          438.68,
          440.03,
          419.94,
          428.33,
          355.12,
          305.13,
          356.11,
          285.51,
          389.75,
          280.51,
          414.5,
          359.27,
          367.51,
          375.93,
          289.51,
          394.24,
          308.13,
          331.13,
          213.16,
          257.01,
          233.16,
          173.16,
          173.26,
          173.45,
          273.45,
          263.06,
          263.35,
          254.96,
          260.35,
          257.46,
          229.96,
          218.81,
          225.73,
          220.73,
          216.36,
          206.33,
          193.39,
          201.33,
          195.14,
          166.98,
          164.98,
          137.98,
          129.18,
          132.98,
          117.69,
          115.69,
          101.23,
          104.12,
          109.12,
          80.9,
          93.34,
          96.23,
          82.9,
          63.26,
          70.88,
          33.92,
          47.92,
          29.24,
          31.11,
          24.24,
          19.24,
          9.23,
          39.23,
          34.19,
          84.19,
          24.19,
          21.15,
          169.8,
          67.99,
          153.8,
          164.95,
          161.15,
          152.87,
          143.33,
          146.67,
          139.96,
          136.4,
          132.01,
          61.71,
          105.96,
          68.07,
          211.71,
          239.71,
          264.71,
          145.39,
          138.83,
          111.83,
          318.83,
          298.83,
          294.25,
          290.66,
          288.63,
          303.63,
          293.63,
          298.63,
          278.53,
          285.41,
          98.13,
          119.63,
          113.71,
          115.88,
          90.68,
          98.68,
          89.64,
          77.63,
          80.17,
          47.63,
          43.81,
          33.81,
          58.81,
          108.81,
          158.81,
          258.81,
          358.81,
          354.62,
          348.52,
          346.92,
          349.62,
          587.54,
          583.09,
          1009.67,
          1187.06,
          932.06,
          1029.84,
          989.84,
          857.62,
          1044.21,
          1042.17,
          1094.17,
          1194.24,
          1331.14,
          1083.14,
          1652.14,
          1632.14,
          1622.78,
          1305.6,
          515.65,
          492.59,
          467.59,
          446.76,
          481.76,
          398.91,
          1186.91,
          1173.05,
          1176.91,
          1153.05,
          1125.67,
          1107.51,
          1112.51,
          1117.52,
          1097.51,
          1077.51,
          1277.51,
          1260.01,
          1267.51,
          470.06,
          460.06,
          440.06,
          697.73,
          669.73,
          368.45,
          343.45,
          323.45,
          333.45,
          343.45,
          323.45,
          338.45,
          403.45,
          623.45,
          603.45,
          1423.45,
          1420.62,
          1420.62,
          1421.7,
          1417.62,
          1352.12,
          1355.12,
          562.17,
          559.79,
          558.75,
          538.75,
          548.75,
          69.44,
          569.44,
          517.8,
          515.78,
          503.78,
          1303.78,
          1283.78,
          1483.78,
          693.83,
          683.83,
          945.83,
          984.83,
          1984.83,
          1982.25,
          1977,
          1935.45,
          1928.27,
          1913.27,
          1903.27,
          2117.27,
          2103.27,
          2102.27,
          2075.32,
          2135.32,
          1345.37,
          2483.52,
          2473.52,
          2478.52,
          2443.52,
          2374.2,
          1909.94,
          1889.94,
          1899.94,
          2189.94,
          2186.94,
          2136.94,
          2177.94,
          2152.94,
          2970.11,
          3170.11,
          3149.64,
          3159.64,
          2359.69,
          2459.69,
          2452.69,
          2462.69,
          3319.2,
          3310.94,
          810.94,
          785.96,
          758.5,
          1008.5,
          948.5,
          944.15,
          1144.15,
          1140.55,
          350.6,
          347.34,
          339.06,
          326.1,
          332.6,
          321.99,
          310.35,
          315.49,
          322.99,
          328.35,
          323.64,
          330.64,
          326.68,
          1410.99,
          1409.79,
          1401.51,
          1386.24,
          1377.08,
          1370.45,
          1520.45,
          1519.25,
          1514.9,
          495.06,
          481.32
         ],
         "yaxis": "y"
        }
       ],
       "layout": {
        "legend": {
         "tracegroupgap": 0
        },
        "template": {
         "data": {
          "bar": [
           {
            "error_x": {
             "color": "#2a3f5f"
            },
            "error_y": {
             "color": "#2a3f5f"
            },
            "marker": {
             "line": {
              "color": "#E5ECF6",
              "width": 0.5
             }
            },
            "type": "bar"
           }
          ],
          "barpolar": [
           {
            "marker": {
             "line": {
              "color": "#E5ECF6",
              "width": 0.5
             }
            },
            "type": "barpolar"
           }
          ],
          "carpet": [
           {
            "aaxis": {
             "endlinecolor": "#2a3f5f",
             "gridcolor": "white",
             "linecolor": "white",
             "minorgridcolor": "white",
             "startlinecolor": "#2a3f5f"
            },
            "baxis": {
             "endlinecolor": "#2a3f5f",
             "gridcolor": "white",
             "linecolor": "white",
             "minorgridcolor": "white",
             "startlinecolor": "#2a3f5f"
            },
            "type": "carpet"
           }
          ],
          "choropleth": [
           {
            "colorbar": {
             "outlinewidth": 0,
             "ticks": ""
            },
            "type": "choropleth"
           }
          ],
          "contour": [
           {
            "colorbar": {
             "outlinewidth": 0,
             "ticks": ""
            },
            "colorscale": [
             [
              0,
              "#0d0887"
             ],
             [
              0.1111111111111111,
              "#46039f"
             ],
             [
              0.2222222222222222,
              "#7201a8"
             ],
             [
              0.3333333333333333,
              "#9c179e"
             ],
             [
              0.4444444444444444,
              "#bd3786"
             ],
             [
              0.5555555555555556,
              "#d8576b"
             ],
             [
              0.6666666666666666,
              "#ed7953"
             ],
             [
              0.7777777777777778,
              "#fb9f3a"
             ],
             [
              0.8888888888888888,
              "#fdca26"
             ],
             [
              1,
              "#f0f921"
             ]
            ],
            "type": "contour"
           }
          ],
          "contourcarpet": [
           {
            "colorbar": {
             "outlinewidth": 0,
             "ticks": ""
            },
            "type": "contourcarpet"
           }
          ],
          "heatmap": [
           {
            "colorbar": {
             "outlinewidth": 0,
             "ticks": ""
            },
            "colorscale": [
             [
              0,
              "#0d0887"
             ],
             [
              0.1111111111111111,
              "#46039f"
             ],
             [
              0.2222222222222222,
              "#7201a8"
             ],
             [
              0.3333333333333333,
              "#9c179e"
             ],
             [
              0.4444444444444444,
              "#bd3786"
             ],
             [
              0.5555555555555556,
              "#d8576b"
             ],
             [
              0.6666666666666666,
              "#ed7953"
             ],
             [
              0.7777777777777778,
              "#fb9f3a"
             ],
             [
              0.8888888888888888,
              "#fdca26"
             ],
             [
              1,
              "#f0f921"
             ]
            ],
            "type": "heatmap"
           }
          ],
          "heatmapgl": [
           {
            "colorbar": {
             "outlinewidth": 0,
             "ticks": ""
            },
            "colorscale": [
             [
              0,
              "#0d0887"
             ],
             [
              0.1111111111111111,
              "#46039f"
             ],
             [
              0.2222222222222222,
              "#7201a8"
             ],
             [
              0.3333333333333333,
              "#9c179e"
             ],
             [
              0.4444444444444444,
              "#bd3786"
             ],
             [
              0.5555555555555556,
              "#d8576b"
             ],
             [
              0.6666666666666666,
              "#ed7953"
             ],
             [
              0.7777777777777778,
              "#fb9f3a"
             ],
             [
              0.8888888888888888,
              "#fdca26"
             ],
             [
              1,
              "#f0f921"
             ]
            ],
            "type": "heatmapgl"
           }
          ],
          "histogram": [
           {
            "marker": {
             "colorbar": {
              "outlinewidth": 0,
              "ticks": ""
             }
            },
            "type": "histogram"
           }
          ],
          "histogram2d": [
           {
            "colorbar": {
             "outlinewidth": 0,
             "ticks": ""
            },
            "colorscale": [
             [
              0,
              "#0d0887"
             ],
             [
              0.1111111111111111,
              "#46039f"
             ],
             [
              0.2222222222222222,
              "#7201a8"
             ],
             [
              0.3333333333333333,
              "#9c179e"
             ],
             [
              0.4444444444444444,
              "#bd3786"
             ],
             [
              0.5555555555555556,
              "#d8576b"
             ],
             [
              0.6666666666666666,
              "#ed7953"
             ],
             [
              0.7777777777777778,
              "#fb9f3a"
             ],
             [
              0.8888888888888888,
              "#fdca26"
             ],
             [
              1,
              "#f0f921"
             ]
            ],
            "type": "histogram2d"
           }
          ],
          "histogram2dcontour": [
           {
            "colorbar": {
             "outlinewidth": 0,
             "ticks": ""
            },
            "colorscale": [
             [
              0,
              "#0d0887"
             ],
             [
              0.1111111111111111,
              "#46039f"
             ],
             [
              0.2222222222222222,
              "#7201a8"
             ],
             [
              0.3333333333333333,
              "#9c179e"
             ],
             [
              0.4444444444444444,
              "#bd3786"
             ],
             [
              0.5555555555555556,
              "#d8576b"
             ],
             [
              0.6666666666666666,
              "#ed7953"
             ],
             [
              0.7777777777777778,
              "#fb9f3a"
             ],
             [
              0.8888888888888888,
              "#fdca26"
             ],
             [
              1,
              "#f0f921"
             ]
            ],
            "type": "histogram2dcontour"
           }
          ],
          "mesh3d": [
           {
            "colorbar": {
             "outlinewidth": 0,
             "ticks": ""
            },
            "type": "mesh3d"
           }
          ],
          "parcoords": [
           {
            "line": {
             "colorbar": {
              "outlinewidth": 0,
              "ticks": ""
             }
            },
            "type": "parcoords"
           }
          ],
          "pie": [
           {
            "automargin": true,
            "type": "pie"
           }
          ],
          "scatter": [
           {
            "marker": {
             "colorbar": {
              "outlinewidth": 0,
              "ticks": ""
             }
            },
            "type": "scatter"
           }
          ],
          "scatter3d": [
           {
            "line": {
             "colorbar": {
              "outlinewidth": 0,
              "ticks": ""
             }
            },
            "marker": {
             "colorbar": {
              "outlinewidth": 0,
              "ticks": ""
             }
            },
            "type": "scatter3d"
           }
          ],
          "scattercarpet": [
           {
            "marker": {
             "colorbar": {
              "outlinewidth": 0,
              "ticks": ""
             }
            },
            "type": "scattercarpet"
           }
          ],
          "scattergeo": [
           {
            "marker": {
             "colorbar": {
              "outlinewidth": 0,
              "ticks": ""
             }
            },
            "type": "scattergeo"
           }
          ],
          "scattergl": [
           {
            "marker": {
             "colorbar": {
              "outlinewidth": 0,
              "ticks": ""
             }
            },
            "type": "scattergl"
           }
          ],
          "scattermapbox": [
           {
            "marker": {
             "colorbar": {
              "outlinewidth": 0,
              "ticks": ""
             }
            },
            "type": "scattermapbox"
           }
          ],
          "scatterpolar": [
           {
            "marker": {
             "colorbar": {
              "outlinewidth": 0,
              "ticks": ""
             }
            },
            "type": "scatterpolar"
           }
          ],
          "scatterpolargl": [
           {
            "marker": {
             "colorbar": {
              "outlinewidth": 0,
              "ticks": ""
             }
            },
            "type": "scatterpolargl"
           }
          ],
          "scatterternary": [
           {
            "marker": {
             "colorbar": {
              "outlinewidth": 0,
              "ticks": ""
             }
            },
            "type": "scatterternary"
           }
          ],
          "surface": [
           {
            "colorbar": {
             "outlinewidth": 0,
             "ticks": ""
            },
            "colorscale": [
             [
              0,
              "#0d0887"
             ],
             [
              0.1111111111111111,
              "#46039f"
             ],
             [
              0.2222222222222222,
              "#7201a8"
             ],
             [
              0.3333333333333333,
              "#9c179e"
             ],
             [
              0.4444444444444444,
              "#bd3786"
             ],
             [
              0.5555555555555556,
              "#d8576b"
             ],
             [
              0.6666666666666666,
              "#ed7953"
             ],
             [
              0.7777777777777778,
              "#fb9f3a"
             ],
             [
              0.8888888888888888,
              "#fdca26"
             ],
             [
              1,
              "#f0f921"
             ]
            ],
            "type": "surface"
           }
          ],
          "table": [
           {
            "cells": {
             "fill": {
              "color": "#EBF0F8"
             },
             "line": {
              "color": "white"
             }
            },
            "header": {
             "fill": {
              "color": "#C8D4E3"
             },
             "line": {
              "color": "white"
             }
            },
            "type": "table"
           }
          ]
         },
         "layout": {
          "annotationdefaults": {
           "arrowcolor": "#2a3f5f",
           "arrowhead": 0,
           "arrowwidth": 1
          },
          "coloraxis": {
           "colorbar": {
            "outlinewidth": 0,
            "ticks": ""
           }
          },
          "colorscale": {
           "diverging": [
            [
             0,
             "#8e0152"
            ],
            [
             0.1,
             "#c51b7d"
            ],
            [
             0.2,
             "#de77ae"
            ],
            [
             0.3,
             "#f1b6da"
            ],
            [
             0.4,
             "#fde0ef"
            ],
            [
             0.5,
             "#f7f7f7"
            ],
            [
             0.6,
             "#e6f5d0"
            ],
            [
             0.7,
             "#b8e186"
            ],
            [
             0.8,
             "#7fbc41"
            ],
            [
             0.9,
             "#4d9221"
            ],
            [
             1,
             "#276419"
            ]
           ],
           "sequential": [
            [
             0,
             "#0d0887"
            ],
            [
             0.1111111111111111,
             "#46039f"
            ],
            [
             0.2222222222222222,
             "#7201a8"
            ],
            [
             0.3333333333333333,
             "#9c179e"
            ],
            [
             0.4444444444444444,
             "#bd3786"
            ],
            [
             0.5555555555555556,
             "#d8576b"
            ],
            [
             0.6666666666666666,
             "#ed7953"
            ],
            [
             0.7777777777777778,
             "#fb9f3a"
            ],
            [
             0.8888888888888888,
             "#fdca26"
            ],
            [
             1,
             "#f0f921"
            ]
           ],
           "sequentialminus": [
            [
             0,
             "#0d0887"
            ],
            [
             0.1111111111111111,
             "#46039f"
            ],
            [
             0.2222222222222222,
             "#7201a8"
            ],
            [
             0.3333333333333333,
             "#9c179e"
            ],
            [
             0.4444444444444444,
             "#bd3786"
            ],
            [
             0.5555555555555556,
             "#d8576b"
            ],
            [
             0.6666666666666666,
             "#ed7953"
            ],
            [
             0.7777777777777778,
             "#fb9f3a"
            ],
            [
             0.8888888888888888,
             "#fdca26"
            ],
            [
             1,
             "#f0f921"
            ]
           ]
          },
          "colorway": [
           "#636efa",
           "#EF553B",
           "#00cc96",
           "#ab63fa",
           "#FFA15A",
           "#19d3f3",
           "#FF6692",
           "#B6E880",
           "#FF97FF",
           "#FECB52"
          ],
          "font": {
           "color": "#2a3f5f"
          },
          "geo": {
           "bgcolor": "white",
           "lakecolor": "white",
           "landcolor": "#E5ECF6",
           "showlakes": true,
           "showland": true,
           "subunitcolor": "white"
          },
          "hoverlabel": {
           "align": "left"
          },
          "hovermode": "closest",
          "mapbox": {
           "style": "light"
          },
          "paper_bgcolor": "white",
          "plot_bgcolor": "#E5ECF6",
          "polar": {
           "angularaxis": {
            "gridcolor": "white",
            "linecolor": "white",
            "ticks": ""
           },
           "bgcolor": "#E5ECF6",
           "radialaxis": {
            "gridcolor": "white",
            "linecolor": "white",
            "ticks": ""
           }
          },
          "scene": {
           "xaxis": {
            "backgroundcolor": "#E5ECF6",
            "gridcolor": "white",
            "gridwidth": 2,
            "linecolor": "white",
            "showbackground": true,
            "ticks": "",
            "zerolinecolor": "white"
           },
           "yaxis": {
            "backgroundcolor": "#E5ECF6",
            "gridcolor": "white",
            "gridwidth": 2,
            "linecolor": "white",
            "showbackground": true,
            "ticks": "",
            "zerolinecolor": "white"
           },
           "zaxis": {
            "backgroundcolor": "#E5ECF6",
            "gridcolor": "white",
            "gridwidth": 2,
            "linecolor": "white",
            "showbackground": true,
            "ticks": "",
            "zerolinecolor": "white"
           }
          },
          "shapedefaults": {
           "line": {
            "color": "#2a3f5f"
           }
          },
          "ternary": {
           "aaxis": {
            "gridcolor": "white",
            "linecolor": "white",
            "ticks": ""
           },
           "baxis": {
            "gridcolor": "white",
            "linecolor": "white",
            "ticks": ""
           },
           "bgcolor": "#E5ECF6",
           "caxis": {
            "gridcolor": "white",
            "linecolor": "white",
            "ticks": ""
           }
          },
          "title": {
           "x": 0.05
          },
          "xaxis": {
           "automargin": true,
           "gridcolor": "white",
           "linecolor": "white",
           "ticks": "",
           "title": {
            "standoff": 15
           },
           "zerolinecolor": "white",
           "zerolinewidth": 2
          },
          "yaxis": {
           "automargin": true,
           "gridcolor": "white",
           "linecolor": "white",
           "ticks": "",
           "title": {
            "standoff": 15
           },
           "zerolinecolor": "white",
           "zerolinewidth": 2
          }
         }
        },
        "title": {
         "text": "Total Balance over time (09/2018 - 02/2020)"
        },
        "xaxis": {
         "anchor": "y",
         "domain": [
          0,
          1
         ],
         "title": {
          "text": "Date"
         }
        },
        "yaxis": {
         "anchor": "x",
         "domain": [
          0,
          1
         ],
         "title": {
          "text": "Running Balance"
         }
        }
       }
      },
      "text/html": [
       "<div>\n",
       "        \n",
       "        \n",
       "            <div id=\"cc2ccae1-fbd3-4ff4-8ef3-460b4851184c\" class=\"plotly-graph-div\" style=\"height:525px; width:100%;\"></div>\n",
       "            <script type=\"text/javascript\">\n",
       "                require([\"plotly\"], function(Plotly) {\n",
       "                    window.PLOTLYENV=window.PLOTLYENV || {};\n",
       "                    \n",
       "                if (document.getElementById(\"cc2ccae1-fbd3-4ff4-8ef3-460b4851184c\")) {\n",
       "                    Plotly.newPlot(\n",
       "                        'cc2ccae1-fbd3-4ff4-8ef3-460b4851184c',\n",
       "                        [{\"hoverlabel\": {\"namelength\": 0}, \"hovertemplate\": \"Date=%{x}<br>Running Balance=%{y}\", \"legendgroup\": \"\", \"line\": {\"color\": \"#636efa\", \"dash\": \"solid\"}, \"mode\": \"lines\", \"name\": \"\", \"showlegend\": false, \"type\": \"scatter\", \"x\": [\"9/4/18\", \"9/4/18\", \"9/4/18\", \"9/5/18\", \"9/6/18\", \"9/6/18\", \"9/7/18\", \"9/7/18\", \"9/7/18\", \"9/10/18\", \"9/10/18\", \"9/11/18\", \"9/11/18\", \"9/12/18\", \"9/12/18\", \"9/13/18\", \"9/13/18\", \"9/13/18\", \"9/14/18\", \"9/17/18\", \"9/17/18\", \"9/17/18\", \"9/18/18\", \"9/18/18\", \"9/18/18\", \"9/18/18\", \"9/20/18\", \"9/24/18\", \"9/24/18\", \"9/24/18\", \"9/24/18\", \"9/25/18\", \"9/26/18\", \"9/27/18\", \"9/27/18\", \"9/27/18\", \"9/27/18\", \"9/28/18\", \"9/28/18\", \"9/28/18\", \"10/1/18\", \"10/1/18\", \"10/1/18\", \"10/1/18\", \"10/1/18\", \"10/1/18\", \"10/1/18\", \"10/2/18\", \"10/3/18\", \"10/3/18\", \"10/4/18\", \"10/4/18\", \"10/4/18\", \"10/4/18\", \"10/5/18\", \"10/9/18\", \"10/9/18\", \"10/9/18\", \"10/9/18\", \"10/10/18\", \"10/11/18\", \"10/11/18\", \"10/11/18\", \"10/11/18\", \"10/12/18\", \"10/15/18\", \"10/15/18\", \"10/15/18\", \"10/15/18\", \"10/16/18\", \"10/17/18\", \"10/17/18\", \"10/18/18\", \"10/18/18\", \"10/19/18\", \"10/19/18\", \"10/19/18\", \"10/19/18\", \"10/23/18\", \"10/23/18\", \"10/24/18\", \"10/24/18\", \"10/24/18\", \"10/24/18\", \"10/25/18\", \"10/26/18\", \"10/26/18\", \"10/26/18\", \"10/26/18\", \"10/26/18\", \"10/26/18\", \"10/29/18\", \"10/29/18\", \"10/29/18\", \"10/29/18\", \"10/29/18\", \"10/29/18\", \"10/29/18\", \"10/30/18\", \"10/31/18\", \"11/1/18\", \"11/2/18\", \"11/5/18\", \"11/6/18\", \"11/6/18\", \"11/6/18\", \"11/7/18\", \"11/7/18\", \"11/8/18\", \"11/9/18\", \"11/9/18\", \"11/14/18\", \"11/15/18\", \"11/16/18\", \"11/19/18\", \"11/19/18\", \"11/20/18\", \"11/23/18\", \"11/23/18\", \"11/27/18\", \"11/27/18\", \"11/28/18\", \"11/28/18\", \"11/28/18\", \"11/28/18\", \"11/29/18\", \"11/29/18\", \"11/30/18\", \"11/30/18\", \"11/30/18\", \"11/30/18\", \"11/30/18\", \"12/3/18\", \"12/5/18\", \"12/5/18\", \"12/5/18\", \"12/6/18\", \"12/7/18\", \"12/7/18\", \"12/7/18\", \"12/7/18\", \"12/10/18\", \"12/10/18\", \"12/12/18\", \"12/12/18\", \"12/14/18\", \"12/14/18\", \"12/14/18\", \"12/17/18\", \"12/17/18\", \"12/17/18\", \"12/18/18\", \"12/18/18\", \"12/18/18\", \"12/18/18\", \"12/18/18\", \"12/18/18\", \"12/19/18\", \"12/19/18\", \"12/20/18\", \"12/21/18\", \"12/24/18\", \"12/24/18\", \"12/24/18\", \"12/28/18\", \"12/28/18\", \"12/31/18\", \"1/2/19\", \"1/2/19\", \"1/4/19\", \"1/7/19\", \"1/8/19\", \"1/10/19\", \"1/10/19\", \"1/10/19\", \"1/10/19\", \"1/14/19\", \"1/14/19\", \"1/14/19\", \"1/15/19\", \"1/15/19\", \"1/15/19\", \"1/16/19\", \"1/17/19\", \"1/17/19\", \"1/18/19\", \"1/22/19\", \"1/23/19\", \"1/24/19\", \"1/24/19\", \"1/24/19\", \"1/25/19\", \"1/25/19\", \"1/28/19\", \"1/29/19\", \"1/29/19\", \"1/29/19\", \"1/30/19\", \"1/31/19\", \"2/1/19\", \"2/1/19\", \"2/1/19\", \"2/1/19\", \"2/1/19\", \"2/1/19\", \"2/1/19\", \"2/1/19\", \"2/4/19\", \"2/5/19\", \"2/6/19\", \"2/6/19\", \"2/7/19\", \"2/7/19\", \"2/8/19\", \"2/11/19\", \"2/11/19\", \"2/12/19\", \"2/13/19\", \"2/14/19\", \"2/14/19\", \"2/14/19\", \"2/14/19\", \"2/15/19\", \"2/15/19\", \"2/15/19\", \"2/19/19\", \"2/19/19\", \"2/19/19\", \"2/19/19\", \"2/19/19\", \"2/20/19\", \"2/20/19\", \"2/22/19\", \"2/25/19\", \"2/26/19\", \"2/27/19\", \"2/27/19\", \"2/28/19\", \"2/28/19\", \"2/28/19\", \"2/28/19\", \"3/1/19\", \"3/4/19\", \"3/4/19\", \"3/4/19\", \"3/5/19\", \"3/6/19\", \"3/6/19\", \"3/6/19\", \"3/6/19\", \"3/6/19\", \"3/7/19\", \"3/7/19\", \"3/7/19\", \"3/7/19\", \"3/8/19\", \"3/11/19\", \"3/11/19\", \"3/11/19\", \"3/11/19\", \"3/12/19\", \"3/12/19\", \"3/12/19\", \"3/12/19\", \"3/12/19\", \"3/12/19\", \"3/13/19\", \"3/13/19\", \"3/13/19\", \"3/13/19\", \"3/13/19\", \"3/13/19\", \"3/14/19\", \"3/15/19\", \"3/15/19\", \"3/15/19\", \"3/15/19\", \"3/18/19\", \"3/18/19\", \"3/18/19\", \"3/18/19\", \"3/18/19\", \"3/18/19\", \"3/18/19\", \"3/18/19\", \"3/18/19\", \"3/18/19\", \"3/18/19\", \"3/18/19\", \"3/18/19\", \"3/18/19\", \"3/20/19\", \"3/20/19\", \"3/20/19\", \"3/21/19\", \"3/25/19\", \"3/25/19\", \"3/25/19\", \"3/25/19\", \"3/25/19\", \"3/26/19\", \"3/26/19\", \"3/26/19\", \"3/26/19\", \"3/27/19\", \"3/27/19\", \"3/27/19\", \"3/28/19\", \"3/28/19\", \"3/29/19\", \"3/29/19\", \"3/29/19\", \"3/29/19\", \"4/1/19\", \"4/1/19\", \"4/2/19\", \"4/2/19\", \"4/2/19\", \"4/3/19\", \"4/4/19\", \"4/4/19\", \"4/4/19\", \"4/5/19\", \"4/5/19\", \"4/5/19\", \"4/5/19\", \"4/8/19\", \"4/8/19\", \"4/8/19\", \"4/8/19\", \"4/9/19\", \"4/9/19\", \"4/10/19\", \"4/11/19\", \"4/11/19\", \"4/12/19\", \"4/12/19\", \"4/15/19\", \"4/22/19\", \"4/24/19\", \"4/26/19\", \"4/26/19\", \"4/26/19\", \"4/29/19\", \"4/30/19\", \"4/30/19\", \"5/1/19\", \"5/1/19\", \"5/2/19\", \"5/3/19\", \"5/6/19\", \"5/6/19\", \"5/6/19\", \"5/6/19\", \"5/7/19\", \"5/10/19\", \"5/13/19\", \"5/13/19\", \"5/21/19\", \"5/22/19\", \"5/23/19\", \"5/28/19\", \"5/30/19\", \"5/31/19\", \"6/3/19\", \"6/6/19\", \"6/6/19\", \"6/6/19\", \"6/10/19\", \"6/10/19\", \"6/11/19\", \"6/12/19\", \"6/12/19\", \"6/12/19\", \"6/14/19\", \"6/14/19\", \"6/17/19\", \"6/17/19\", \"6/17/19\", \"6/17/19\", \"6/18/19\", \"6/18/19\", \"6/19/19\", \"6/19/19\", \"6/19/19\", \"6/19/19\", \"6/19/19\", \"6/19/19\", \"6/20/19\", \"6/20/19\", \"6/20/19\", \"6/21/19\", \"6/21/19\", \"6/26/19\", \"7/5/19\", \"7/5/19\", \"7/9/19\", \"7/10/19\", \"7/10/19\", \"7/19/19\", \"7/29/19\", \"7/31/19\", \"8/2/19\", \"8/6/19\", \"8/6/19\", \"8/13/19\", \"8/14/19\", \"8/15/19\", \"8/16/19\", \"8/16/19\", \"8/19/19\", \"8/19/19\", \"8/21/19\", \"8/26/19\", \"8/26/19\", \"8/27/19\", \"8/27/19\", \"8/27/19\", \"8/28/19\", \"8/28/19\", \"8/29/19\", \"8/29/19\", \"8/29/19\", \"8/29/19\", \"8/30/19\", \"9/3/19\", \"9/3/19\", \"9/3/19\", \"9/4/19\", \"9/5/19\", \"9/11/19\", \"9/12/19\", \"9/12/19\", \"9/12/19\", \"9/16/19\", \"9/25/19\", \"9/25/19\", \"9/26/19\", \"9/26/19\", \"9/27/19\", \"9/30/19\", \"10/1/19\", \"10/1/19\", \"10/1/19\", \"10/2/19\", \"10/2/19\", \"10/2/19\", \"10/2/19\", \"10/2/19\", \"10/2/19\", \"10/2/19\", \"10/3/19\", \"10/7/19\", \"10/10/19\", \"10/10/19\", \"10/11/19\", \"10/15/19\", \"10/15/19\", \"10/16/19\", \"10/28/19\", \"10/29/19\", \"10/30/19\", \"11/1/19\", \"11/5/19\", \"11/6/19\", \"11/12/19\", \"11/13/19\", \"11/13/19\", \"11/14/19\", \"11/14/19\", \"11/15/19\", \"11/18/19\", \"11/18/19\", \"11/25/19\", \"12/2/19\", \"12/2/19\", \"12/2/19\", \"12/2/19\", \"12/3/19\", \"12/3/19\", \"12/12/19\", \"12/12/19\", \"12/12/19\", \"12/12/19\", \"12/13/19\", \"12/13/19\", \"12/16/19\", \"12/16/19\", \"12/20/19\", \"12/23/19\", \"12/23/19\", \"12/24/19\", \"12/26/19\", \"12/27/19\", \"1/2/20\", \"1/2/20\", \"1/2/20\", \"1/3/20\", \"1/6/20\", \"1/6/20\", \"1/7/20\", \"1/7/20\", \"1/7/20\", \"1/21/20\", \"1/27/20\", \"1/27/20\", \"1/28/20\", \"1/28/20\", \"1/29/20\", \"2/3/20\", \"2/3/20\", \"2/4/20\", \"2/5/20\", \"2/5/20\", \"2/5/20\", \"2/7/20\", \"2/7/20\", \"2/7/20\", \"2/7/20\", \"2/7/20\", \"2/10/20\", \"2/10/20\", \"2/11/20\", \"2/11/20\", \"2/12/20\", \"2/12/20\", \"2/12/20\", \"2/12/20\", \"2/14/20\", \"2/18/20\", \"2/19/20\", \"2/19/20\", \"2/19/20\", \"2/19/20\", \"2/20/20\"], \"xaxis\": \"x\", \"y\": [1179.3, 1173.3, 1183.28, 1167.87, 1165.75, 1160.19, 1137.0, 1139.5, 1145.13, 1116.82, 1121.82, 1114.77, 1078.02, 1063.36, 1068.36, 1056.05, 1059.56, 897.62, 861.48, 860.32, 850.26, 830.26, 826.07, 826.31, 828.26, 822.0, 818.49, 1021.99, 1018.4, 1011.05, 811.05, 761.05, 759.02, 752.14, 756.74, 753.23, 747.14, 744.95, 742.75, 738.94, 709.75, 694.36, 638.09, 685.48, 699.75, 712.45, 646.79, 636.56, 619.75, 627.26, 608.93, 617.79, 609.68, 613.49, 590.93, 558.43, 575.17, 580.94, 562.17, 550.68, 536.36, 537.45, 543.73, 519.69, 512.7, 497.74, 466.07, 500.7, 471.08, 463.07, 455.5, 430.24, 428.28, 393.95, 403.94, 390.74, 392.94, 363.41, 362.89, 337.89, 321.41, 334.3, 324.56, 271.41, 269.66, 196.01, 189.01, 199.06, 256.6, 207.81, 228.79, 144.17, 145.17, 154.32, 183.01, 146.17, 131.17, 159.41, 121.89, 115.58, 92.12, 59.12, 37.0, 35.95, 30.96, 32.05, 45.96, 35.34, 26.06, 526.06, 522.99, 500.42, 495.72, 184.32, 195.32, 179.19, 162.54, 172.54, 122.54, 115.68, 119.03, 111.63, 113.04, 106.43, 81.43, 74.36, 53.53, 553.53, 546.83, 547.99, 544.39, 549.99, 538.89, 530.61, 532.36, 534.11, 528.17, 524.17, 505.48, 510.47, 483.93, 456.49, 461.49, 442.17, 448.47, 596.71, 546.71, 590.15, 555.9, 579.46, 562.46, 228.65, 233.44, 515.9, 148.09, 388.73, 238.73, 124.63, 129.81, 123.05, 103.83, 101.06, 59.06, 9.06, 193.97, 158.97, 183.97, 139.27, 158.79, 180.36, 175.33, 167.81, 112.93, 102.93, 92.25, 121.82, 86.25, 43.72, 64.92, 20.29, 41.28, 21.57, 220.29, 214.09, 215.29, 368.3, 361.51, 356.44, 353.26, 348.91, 327.08, 301.22, 307.08, 300.05, 295.01, 292.51, 296.89, 291.36, 285.11, 429.92, 420.8, 391.56, 410.08, 414.39, 422.92, 394.61, 311.56, 302.94, 291.06, 280.38, 281.62, 276.19, 267.27, 265.15, 277.15, 258.14, 251.26, 220.26, 225.26, 217.26, 207.26, 177.26, 336.41, 327.67, 305.39, 282.01, 290.01, 285.01, 294.13, 265.3, 257.03, 237.33, 233.74, 253.74, 249.04, 236.7, 242.6, 221.51, 225.7, 230.7, 211.94, 314.08, 301.08, 306.08, 291.08, 286.98, 275.73, 274.23, 276.98, 232.68, 249.35, 202.37, 227.37, 217.37, 207.37, 197.37, 189.44, 157.34, 190.52, 162.34, 355.34, 345.73, 343.73, 347.23, 333.73, 310.82, 392.82, 592.82, 454.56, 456.31, 451.56, 459.16, 446.56, 438.68, 440.03, 419.94, 428.33, 355.12, 305.13, 356.11, 285.51, 389.75, 280.51, 414.5, 359.27, 367.51, 375.93, 289.51, 394.24, 308.13, 331.13, 213.16, 257.01, 233.16, 173.16, 173.26, 173.45, 273.45, 263.06, 263.35, 254.96, 260.35, 257.46, 229.96, 218.81, 225.73, 220.73, 216.36, 206.33, 193.39, 201.33, 195.14, 166.98, 164.98, 137.98, 129.18, 132.98, 117.69, 115.69, 101.23, 104.12, 109.12, 80.9, 93.34, 96.23, 82.9, 63.26, 70.88, 33.92, 47.92, 29.24, 31.11, 24.24, 19.24, 9.23, 39.23, 34.19, 84.19, 24.19, 21.15, 169.8, 67.99, 153.8, 164.95, 161.15, 152.87, 143.33, 146.67, 139.96, 136.4, 132.01, 61.71, 105.96, 68.07, 211.71, 239.71, 264.71, 145.39, 138.83, 111.83, 318.83, 298.83, 294.25, 290.66, 288.63, 303.63, 293.63, 298.63, 278.53, 285.41, 98.13, 119.63, 113.71, 115.88, 90.68, 98.68, 89.64, 77.63, 80.17, 47.63, 43.81, 33.81, 58.81, 108.81, 158.81, 258.81, 358.81, 354.62, 348.52, 346.92, 349.62, 587.54, 583.09, 1009.67, 1187.06, 932.06, 1029.84, 989.84, 857.62, 1044.21, 1042.17, 1094.17, 1194.24, 1331.14, 1083.14, 1652.14, 1632.14, 1622.78, 1305.6, 515.65, 492.59, 467.59, 446.76, 481.76, 398.91, 1186.91, 1173.05, 1176.91, 1153.05, 1125.67, 1107.51, 1112.51, 1117.52, 1097.51, 1077.51, 1277.51, 1260.01, 1267.51, 470.06, 460.06, 440.06, 697.73, 669.73, 368.45, 343.45, 323.45, 333.45, 343.45, 323.45, 338.45, 403.45, 623.45, 603.45, 1423.45, 1420.62, 1420.62, 1421.7, 1417.62, 1352.12, 1355.12, 562.17, 559.79, 558.75, 538.75, 548.75, 69.44, 569.44, 517.8, 515.78, 503.78, 1303.78, 1283.78, 1483.78, 693.83, 683.83, 945.83, 984.83, 1984.83, 1982.25, 1977.0, 1935.45, 1928.27, 1913.27, 1903.27, 2117.27, 2103.27, 2102.27, 2075.32, 2135.32, 1345.37, 2483.52, 2473.52, 2478.52, 2443.52, 2374.2, 1909.94, 1889.94, 1899.94, 2189.94, 2186.94, 2136.94, 2177.94, 2152.94, 2970.11, 3170.11, 3149.64, 3159.64, 2359.69, 2459.69, 2452.69, 2462.69, 3319.2, 3310.94, 810.94, 785.96, 758.5, 1008.5, 948.5, 944.15, 1144.15, 1140.55, 350.6, 347.34, 339.06, 326.1, 332.6, 321.99, 310.35, 315.49, 322.99, 328.35, 323.64, 330.64, 326.68, 1410.99, 1409.79, 1401.51, 1386.24, 1377.08, 1370.45, 1520.45, 1519.25, 1514.9, 495.06, 481.32], \"yaxis\": \"y\"}],\n",
       "                        {\"legend\": {\"tracegroupgap\": 0}, \"template\": {\"data\": {\"bar\": [{\"error_x\": {\"color\": \"#2a3f5f\"}, \"error_y\": {\"color\": \"#2a3f5f\"}, \"marker\": {\"line\": {\"color\": \"#E5ECF6\", \"width\": 0.5}}, \"type\": \"bar\"}], \"barpolar\": [{\"marker\": {\"line\": {\"color\": \"#E5ECF6\", \"width\": 0.5}}, \"type\": \"barpolar\"}], \"carpet\": [{\"aaxis\": {\"endlinecolor\": \"#2a3f5f\", \"gridcolor\": \"white\", \"linecolor\": \"white\", \"minorgridcolor\": \"white\", \"startlinecolor\": \"#2a3f5f\"}, \"baxis\": {\"endlinecolor\": \"#2a3f5f\", \"gridcolor\": \"white\", \"linecolor\": \"white\", \"minorgridcolor\": \"white\", \"startlinecolor\": \"#2a3f5f\"}, \"type\": \"carpet\"}], \"choropleth\": [{\"colorbar\": {\"outlinewidth\": 0, \"ticks\": \"\"}, \"type\": \"choropleth\"}], \"contour\": [{\"colorbar\": {\"outlinewidth\": 0, \"ticks\": \"\"}, \"colorscale\": [[0.0, \"#0d0887\"], [0.1111111111111111, \"#46039f\"], [0.2222222222222222, \"#7201a8\"], [0.3333333333333333, \"#9c179e\"], [0.4444444444444444, \"#bd3786\"], [0.5555555555555556, \"#d8576b\"], [0.6666666666666666, \"#ed7953\"], [0.7777777777777778, \"#fb9f3a\"], [0.8888888888888888, \"#fdca26\"], [1.0, \"#f0f921\"]], \"type\": \"contour\"}], \"contourcarpet\": [{\"colorbar\": {\"outlinewidth\": 0, \"ticks\": \"\"}, \"type\": \"contourcarpet\"}], \"heatmap\": [{\"colorbar\": {\"outlinewidth\": 0, \"ticks\": \"\"}, \"colorscale\": [[0.0, \"#0d0887\"], [0.1111111111111111, \"#46039f\"], [0.2222222222222222, \"#7201a8\"], [0.3333333333333333, \"#9c179e\"], [0.4444444444444444, \"#bd3786\"], [0.5555555555555556, \"#d8576b\"], [0.6666666666666666, \"#ed7953\"], [0.7777777777777778, \"#fb9f3a\"], [0.8888888888888888, \"#fdca26\"], [1.0, \"#f0f921\"]], \"type\": \"heatmap\"}], \"heatmapgl\": [{\"colorbar\": {\"outlinewidth\": 0, \"ticks\": \"\"}, \"colorscale\": [[0.0, \"#0d0887\"], [0.1111111111111111, \"#46039f\"], [0.2222222222222222, \"#7201a8\"], [0.3333333333333333, \"#9c179e\"], [0.4444444444444444, \"#bd3786\"], [0.5555555555555556, \"#d8576b\"], [0.6666666666666666, \"#ed7953\"], [0.7777777777777778, \"#fb9f3a\"], [0.8888888888888888, \"#fdca26\"], [1.0, \"#f0f921\"]], \"type\": \"heatmapgl\"}], \"histogram\": [{\"marker\": {\"colorbar\": {\"outlinewidth\": 0, \"ticks\": \"\"}}, \"type\": \"histogram\"}], \"histogram2d\": [{\"colorbar\": {\"outlinewidth\": 0, \"ticks\": \"\"}, \"colorscale\": [[0.0, \"#0d0887\"], [0.1111111111111111, \"#46039f\"], [0.2222222222222222, \"#7201a8\"], [0.3333333333333333, \"#9c179e\"], [0.4444444444444444, \"#bd3786\"], [0.5555555555555556, \"#d8576b\"], [0.6666666666666666, \"#ed7953\"], [0.7777777777777778, \"#fb9f3a\"], [0.8888888888888888, \"#fdca26\"], [1.0, \"#f0f921\"]], \"type\": \"histogram2d\"}], \"histogram2dcontour\": [{\"colorbar\": {\"outlinewidth\": 0, \"ticks\": \"\"}, \"colorscale\": [[0.0, \"#0d0887\"], [0.1111111111111111, \"#46039f\"], [0.2222222222222222, \"#7201a8\"], [0.3333333333333333, \"#9c179e\"], [0.4444444444444444, \"#bd3786\"], [0.5555555555555556, \"#d8576b\"], [0.6666666666666666, \"#ed7953\"], [0.7777777777777778, \"#fb9f3a\"], [0.8888888888888888, \"#fdca26\"], [1.0, \"#f0f921\"]], \"type\": \"histogram2dcontour\"}], \"mesh3d\": [{\"colorbar\": {\"outlinewidth\": 0, \"ticks\": \"\"}, \"type\": \"mesh3d\"}], \"parcoords\": [{\"line\": {\"colorbar\": {\"outlinewidth\": 0, \"ticks\": \"\"}}, \"type\": \"parcoords\"}], \"pie\": [{\"automargin\": true, \"type\": \"pie\"}], \"scatter\": [{\"marker\": {\"colorbar\": {\"outlinewidth\": 0, \"ticks\": \"\"}}, \"type\": \"scatter\"}], \"scatter3d\": [{\"line\": {\"colorbar\": {\"outlinewidth\": 0, \"ticks\": \"\"}}, \"marker\": {\"colorbar\": {\"outlinewidth\": 0, \"ticks\": \"\"}}, \"type\": \"scatter3d\"}], \"scattercarpet\": [{\"marker\": {\"colorbar\": {\"outlinewidth\": 0, \"ticks\": \"\"}}, \"type\": \"scattercarpet\"}], \"scattergeo\": [{\"marker\": {\"colorbar\": {\"outlinewidth\": 0, \"ticks\": \"\"}}, \"type\": \"scattergeo\"}], \"scattergl\": [{\"marker\": {\"colorbar\": {\"outlinewidth\": 0, \"ticks\": \"\"}}, \"type\": \"scattergl\"}], \"scattermapbox\": [{\"marker\": {\"colorbar\": {\"outlinewidth\": 0, \"ticks\": \"\"}}, \"type\": \"scattermapbox\"}], \"scatterpolar\": [{\"marker\": {\"colorbar\": {\"outlinewidth\": 0, \"ticks\": \"\"}}, \"type\": \"scatterpolar\"}], \"scatterpolargl\": [{\"marker\": {\"colorbar\": {\"outlinewidth\": 0, \"ticks\": \"\"}}, \"type\": \"scatterpolargl\"}], \"scatterternary\": [{\"marker\": {\"colorbar\": {\"outlinewidth\": 0, \"ticks\": \"\"}}, \"type\": \"scatterternary\"}], \"surface\": [{\"colorbar\": {\"outlinewidth\": 0, \"ticks\": \"\"}, \"colorscale\": [[0.0, \"#0d0887\"], [0.1111111111111111, \"#46039f\"], [0.2222222222222222, \"#7201a8\"], [0.3333333333333333, \"#9c179e\"], [0.4444444444444444, \"#bd3786\"], [0.5555555555555556, \"#d8576b\"], [0.6666666666666666, \"#ed7953\"], [0.7777777777777778, \"#fb9f3a\"], [0.8888888888888888, \"#fdca26\"], [1.0, \"#f0f921\"]], \"type\": \"surface\"}], \"table\": [{\"cells\": {\"fill\": {\"color\": \"#EBF0F8\"}, \"line\": {\"color\": \"white\"}}, \"header\": {\"fill\": {\"color\": \"#C8D4E3\"}, \"line\": {\"color\": \"white\"}}, \"type\": \"table\"}]}, \"layout\": {\"annotationdefaults\": {\"arrowcolor\": \"#2a3f5f\", \"arrowhead\": 0, \"arrowwidth\": 1}, \"coloraxis\": {\"colorbar\": {\"outlinewidth\": 0, \"ticks\": \"\"}}, \"colorscale\": {\"diverging\": [[0, \"#8e0152\"], [0.1, \"#c51b7d\"], [0.2, \"#de77ae\"], [0.3, \"#f1b6da\"], [0.4, \"#fde0ef\"], [0.5, \"#f7f7f7\"], [0.6, \"#e6f5d0\"], [0.7, \"#b8e186\"], [0.8, \"#7fbc41\"], [0.9, \"#4d9221\"], [1, \"#276419\"]], \"sequential\": [[0.0, \"#0d0887\"], [0.1111111111111111, \"#46039f\"], [0.2222222222222222, \"#7201a8\"], [0.3333333333333333, \"#9c179e\"], [0.4444444444444444, \"#bd3786\"], [0.5555555555555556, \"#d8576b\"], [0.6666666666666666, \"#ed7953\"], [0.7777777777777778, \"#fb9f3a\"], [0.8888888888888888, \"#fdca26\"], [1.0, \"#f0f921\"]], \"sequentialminus\": [[0.0, \"#0d0887\"], [0.1111111111111111, \"#46039f\"], [0.2222222222222222, \"#7201a8\"], [0.3333333333333333, \"#9c179e\"], [0.4444444444444444, \"#bd3786\"], [0.5555555555555556, \"#d8576b\"], [0.6666666666666666, \"#ed7953\"], [0.7777777777777778, \"#fb9f3a\"], [0.8888888888888888, \"#fdca26\"], [1.0, \"#f0f921\"]]}, \"colorway\": [\"#636efa\", \"#EF553B\", \"#00cc96\", \"#ab63fa\", \"#FFA15A\", \"#19d3f3\", \"#FF6692\", \"#B6E880\", \"#FF97FF\", \"#FECB52\"], \"font\": {\"color\": \"#2a3f5f\"}, \"geo\": {\"bgcolor\": \"white\", \"lakecolor\": \"white\", \"landcolor\": \"#E5ECF6\", \"showlakes\": true, \"showland\": true, \"subunitcolor\": \"white\"}, \"hoverlabel\": {\"align\": \"left\"}, \"hovermode\": \"closest\", \"mapbox\": {\"style\": \"light\"}, \"paper_bgcolor\": \"white\", \"plot_bgcolor\": \"#E5ECF6\", \"polar\": {\"angularaxis\": {\"gridcolor\": \"white\", \"linecolor\": \"white\", \"ticks\": \"\"}, \"bgcolor\": \"#E5ECF6\", \"radialaxis\": {\"gridcolor\": \"white\", \"linecolor\": \"white\", \"ticks\": \"\"}}, \"scene\": {\"xaxis\": {\"backgroundcolor\": \"#E5ECF6\", \"gridcolor\": \"white\", \"gridwidth\": 2, \"linecolor\": \"white\", \"showbackground\": true, \"ticks\": \"\", \"zerolinecolor\": \"white\"}, \"yaxis\": {\"backgroundcolor\": \"#E5ECF6\", \"gridcolor\": \"white\", \"gridwidth\": 2, \"linecolor\": \"white\", \"showbackground\": true, \"ticks\": \"\", \"zerolinecolor\": \"white\"}, \"zaxis\": {\"backgroundcolor\": \"#E5ECF6\", \"gridcolor\": \"white\", \"gridwidth\": 2, \"linecolor\": \"white\", \"showbackground\": true, \"ticks\": \"\", \"zerolinecolor\": \"white\"}}, \"shapedefaults\": {\"line\": {\"color\": \"#2a3f5f\"}}, \"ternary\": {\"aaxis\": {\"gridcolor\": \"white\", \"linecolor\": \"white\", \"ticks\": \"\"}, \"baxis\": {\"gridcolor\": \"white\", \"linecolor\": \"white\", \"ticks\": \"\"}, \"bgcolor\": \"#E5ECF6\", \"caxis\": {\"gridcolor\": \"white\", \"linecolor\": \"white\", \"ticks\": \"\"}}, \"title\": {\"x\": 0.05}, \"xaxis\": {\"automargin\": true, \"gridcolor\": \"white\", \"linecolor\": \"white\", \"ticks\": \"\", \"title\": {\"standoff\": 15}, \"zerolinecolor\": \"white\", \"zerolinewidth\": 2}, \"yaxis\": {\"automargin\": true, \"gridcolor\": \"white\", \"linecolor\": \"white\", \"ticks\": \"\", \"title\": {\"standoff\": 15}, \"zerolinecolor\": \"white\", \"zerolinewidth\": 2}}}, \"title\": {\"text\": \"Total Balance over time (09/2018 - 02/2020)\"}, \"xaxis\": {\"anchor\": \"y\", \"domain\": [0.0, 1.0], \"title\": {\"text\": \"Date\"}}, \"yaxis\": {\"anchor\": \"x\", \"domain\": [0.0, 1.0], \"title\": {\"text\": \"Running Balance\"}}},\n",
       "                        {\"responsive\": true}\n",
       "                    ).then(function(){\n",
       "                            \n",
       "var gd = document.getElementById('cc2ccae1-fbd3-4ff4-8ef3-460b4851184c');\n",
       "var x = new MutationObserver(function (mutations, observer) {{\n",
       "        var display = window.getComputedStyle(gd).display;\n",
       "        if (!display || display === 'none') {{\n",
       "            console.log([gd, 'removed!']);\n",
       "            Plotly.purge(gd);\n",
       "            observer.disconnect();\n",
       "        }}\n",
       "}});\n",
       "\n",
       "// Listen for the removal of the full notebook cells\n",
       "var notebookContainer = gd.closest('#notebook-container');\n",
       "if (notebookContainer) {{\n",
       "    x.observe(notebookContainer, {childList: true});\n",
       "}}\n",
       "\n",
       "// Listen for the clearing of the current output cell\n",
       "var outputEl = gd.closest('.output');\n",
       "if (outputEl) {{\n",
       "    x.observe(outputEl, {childList: true});\n",
       "}}\n",
       "\n",
       "                        })\n",
       "                };\n",
       "                });\n",
       "            </script>\n",
       "        </div>"
      ]
     },
     "metadata": {},
     "output_type": "display_data"
    },
    {
     "data": {
      "text/html": [
       "<div>\n",
       "<style scoped>\n",
       "    .dataframe tbody tr th:only-of-type {\n",
       "        vertical-align: middle;\n",
       "    }\n",
       "\n",
       "    .dataframe tbody tr th {\n",
       "        vertical-align: top;\n",
       "    }\n",
       "\n",
       "    .dataframe thead th {\n",
       "        text-align: right;\n",
       "    }\n",
       "</style>\n",
       "<table border=\"1\" class=\"dataframe\">\n",
       "  <thead>\n",
       "    <tr style=\"text-align: right;\">\n",
       "      <th></th>\n",
       "      <th>Date</th>\n",
       "      <th>Check Number</th>\n",
       "      <th>Description</th>\n",
       "      <th>Type</th>\n",
       "      <th>Charge</th>\n",
       "      <th>Debit</th>\n",
       "      <th>Credit</th>\n",
       "      <th>Running Balance</th>\n",
       "      <th>Year</th>\n",
       "      <th>Month</th>\n",
       "      <th>MonthName</th>\n",
       "      <th>Day</th>\n",
       "      <th>DayName</th>\n",
       "      <th>DayCode</th>\n",
       "    </tr>\n",
       "  </thead>\n",
       "  <tbody>\n",
       "    <tr>\n",
       "      <td>0</td>\n",
       "      <td>9/4/18</td>\n",
       "      <td>0</td>\n",
       "      <td>RACETRAC100                BRAD</td>\n",
       "      <td>Food</td>\n",
       "      <td>3.98</td>\n",
       "      <td>3.98</td>\n",
       "      <td>0.0</td>\n",
       "      <td>1179.30</td>\n",
       "      <td>18</td>\n",
       "      <td>9</td>\n",
       "      <td>September</td>\n",
       "      <td>4</td>\n",
       "      <td>Tuesday</td>\n",
       "      <td>2</td>\n",
       "    </tr>\n",
       "    <tr>\n",
       "      <td>1</td>\n",
       "      <td>9/4/18</td>\n",
       "      <td>0</td>\n",
       "      <td>MARTA                      ATLA</td>\n",
       "      <td>Transportation</td>\n",
       "      <td>6.00</td>\n",
       "      <td>6.00</td>\n",
       "      <td>0.0</td>\n",
       "      <td>1173.30</td>\n",
       "      <td>18</td>\n",
       "      <td>9</td>\n",
       "      <td>September</td>\n",
       "      <td>4</td>\n",
       "      <td>Tuesday</td>\n",
       "      <td>2</td>\n",
       "    </tr>\n",
       "    <tr>\n",
       "      <td>2</td>\n",
       "      <td>9/4/18</td>\n",
       "      <td>0</td>\n",
       "      <td>JOES EATS   SWEETS INC     BRAD</td>\n",
       "      <td>Food</td>\n",
       "      <td>10.00</td>\n",
       "      <td>10.00</td>\n",
       "      <td>0.0</td>\n",
       "      <td>1183.28</td>\n",
       "      <td>18</td>\n",
       "      <td>9</td>\n",
       "      <td>September</td>\n",
       "      <td>4</td>\n",
       "      <td>Tuesday</td>\n",
       "      <td>2</td>\n",
       "    </tr>\n",
       "    <tr>\n",
       "      <td>3</td>\n",
       "      <td>9/5/18</td>\n",
       "      <td>0</td>\n",
       "      <td>MOE S SW GRILL 4991        ATLA</td>\n",
       "      <td>Food</td>\n",
       "      <td>5.43</td>\n",
       "      <td>5.43</td>\n",
       "      <td>0.0</td>\n",
       "      <td>1167.87</td>\n",
       "      <td>18</td>\n",
       "      <td>9</td>\n",
       "      <td>September</td>\n",
       "      <td>5</td>\n",
       "      <td>Wednesday</td>\n",
       "      <td>3</td>\n",
       "    </tr>\n",
       "    <tr>\n",
       "      <td>4</td>\n",
       "      <td>9/6/18</td>\n",
       "      <td>0</td>\n",
       "      <td>CHECKERS 1135              DULU</td>\n",
       "      <td>Food</td>\n",
       "      <td>2.12</td>\n",
       "      <td>2.12</td>\n",
       "      <td>0.0</td>\n",
       "      <td>1165.75</td>\n",
       "      <td>18</td>\n",
       "      <td>9</td>\n",
       "      <td>September</td>\n",
       "      <td>6</td>\n",
       "      <td>Thursday</td>\n",
       "      <td>4</td>\n",
       "    </tr>\n",
       "    <tr>\n",
       "      <td>...</td>\n",
       "      <td>...</td>\n",
       "      <td>...</td>\n",
       "      <td>...</td>\n",
       "      <td>...</td>\n",
       "      <td>...</td>\n",
       "      <td>...</td>\n",
       "      <td>...</td>\n",
       "      <td>...</td>\n",
       "      <td>...</td>\n",
       "      <td>...</td>\n",
       "      <td>...</td>\n",
       "      <td>...</td>\n",
       "      <td>...</td>\n",
       "      <td>...</td>\n",
       "    </tr>\n",
       "    <tr>\n",
       "      <td>530</td>\n",
       "      <td>2/19/20</td>\n",
       "      <td>0</td>\n",
       "      <td>FROM 0175 1000027445740</td>\n",
       "      <td>Mom Fund</td>\n",
       "      <td>150.00</td>\n",
       "      <td>0.00</td>\n",
       "      <td>150.0</td>\n",
       "      <td>1520.45</td>\n",
       "      <td>20</td>\n",
       "      <td>2</td>\n",
       "      <td>February</td>\n",
       "      <td>19</td>\n",
       "      <td>Wednesday</td>\n",
       "      <td>3</td>\n",
       "    </tr>\n",
       "    <tr>\n",
       "      <td>531</td>\n",
       "      <td>2/19/20</td>\n",
       "      <td>0</td>\n",
       "      <td>WILLYS GEORGIA STATE       ATLA</td>\n",
       "      <td>Food</td>\n",
       "      <td>1.20</td>\n",
       "      <td>1.20</td>\n",
       "      <td>0.0</td>\n",
       "      <td>1519.25</td>\n",
       "      <td>20</td>\n",
       "      <td>2</td>\n",
       "      <td>February</td>\n",
       "      <td>19</td>\n",
       "      <td>Wednesday</td>\n",
       "      <td>3</td>\n",
       "    </tr>\n",
       "    <tr>\n",
       "      <td>532</td>\n",
       "      <td>2/19/20</td>\n",
       "      <td>0</td>\n",
       "      <td>GSU CHICK-FIL-A            ATLA</td>\n",
       "      <td>Food</td>\n",
       "      <td>4.35</td>\n",
       "      <td>4.35</td>\n",
       "      <td>0.0</td>\n",
       "      <td>1514.90</td>\n",
       "      <td>20</td>\n",
       "      <td>2</td>\n",
       "      <td>February</td>\n",
       "      <td>19</td>\n",
       "      <td>Wednesday</td>\n",
       "      <td>3</td>\n",
       "    </tr>\n",
       "    <tr>\n",
       "      <td>533</td>\n",
       "      <td>2/19/20</td>\n",
       "      <td>0</td>\n",
       "      <td>TD BANK          PAYMENT    ANT</td>\n",
       "      <td>CC BillPay</td>\n",
       "      <td>1019.84</td>\n",
       "      <td>1019.84</td>\n",
       "      <td>0.0</td>\n",
       "      <td>495.06</td>\n",
       "      <td>20</td>\n",
       "      <td>2</td>\n",
       "      <td>February</td>\n",
       "      <td>19</td>\n",
       "      <td>Wednesday</td>\n",
       "      <td>3</td>\n",
       "    </tr>\n",
       "    <tr>\n",
       "      <td>534</td>\n",
       "      <td>2/20/20</td>\n",
       "      <td>0</td>\n",
       "      <td>SUBWAY        00046276     DULU</td>\n",
       "      <td>Food</td>\n",
       "      <td>13.74</td>\n",
       "      <td>13.74</td>\n",
       "      <td>0.0</td>\n",
       "      <td>481.32</td>\n",
       "      <td>20</td>\n",
       "      <td>2</td>\n",
       "      <td>February</td>\n",
       "      <td>20</td>\n",
       "      <td>Thursday</td>\n",
       "      <td>4</td>\n",
       "    </tr>\n",
       "  </tbody>\n",
       "</table>\n",
       "<p>535 rows × 14 columns</p>\n",
       "</div>"
      ],
      "text/plain": [
       "        Date  Check Number                       Description            Type  \\\n",
       "0     9/4/18             0   RACETRAC100                BRAD            Food   \n",
       "1     9/4/18             0   MARTA                      ATLA  Transportation   \n",
       "2     9/4/18             0   JOES EATS   SWEETS INC     BRAD            Food   \n",
       "3     9/5/18             0   MOE S SW GRILL 4991        ATLA            Food   \n",
       "4     9/6/18             0   CHECKERS 1135              DULU            Food   \n",
       "..       ...           ...                               ...             ...   \n",
       "530  2/19/20             0         FROM 0175 1000027445740          Mom Fund   \n",
       "531  2/19/20             0   WILLYS GEORGIA STATE       ATLA            Food   \n",
       "532  2/19/20             0   GSU CHICK-FIL-A            ATLA            Food   \n",
       "533  2/19/20             0   TD BANK          PAYMENT    ANT      CC BillPay   \n",
       "534  2/20/20             0   SUBWAY        00046276     DULU            Food   \n",
       "\n",
       "      Charge    Debit  Credit  Running Balance Year Month  MonthName Day  \\\n",
       "0       3.98     3.98     0.0          1179.30   18     9  September   4   \n",
       "1       6.00     6.00     0.0          1173.30   18     9  September   4   \n",
       "2      10.00    10.00     0.0          1183.28   18     9  September   4   \n",
       "3       5.43     5.43     0.0          1167.87   18     9  September   5   \n",
       "4       2.12     2.12     0.0          1165.75   18     9  September   6   \n",
       "..       ...      ...     ...              ...  ...   ...        ...  ..   \n",
       "530   150.00     0.00   150.0          1520.45   20     2   February  19   \n",
       "531     1.20     1.20     0.0          1519.25   20     2   February  19   \n",
       "532     4.35     4.35     0.0          1514.90   20     2   February  19   \n",
       "533  1019.84  1019.84     0.0           495.06   20     2   February  19   \n",
       "534    13.74    13.74     0.0           481.32   20     2   February  20   \n",
       "\n",
       "       DayName  DayCode  \n",
       "0      Tuesday        2  \n",
       "1      Tuesday        2  \n",
       "2      Tuesday        2  \n",
       "3    Wednesday        3  \n",
       "4     Thursday        4  \n",
       "..         ...      ...  \n",
       "530  Wednesday        3  \n",
       "531  Wednesday        3  \n",
       "532  Wednesday        3  \n",
       "533  Wednesday        3  \n",
       "534   Thursday        4  \n",
       "\n",
       "[535 rows x 14 columns]"
      ]
     },
     "metadata": {},
     "output_type": "display_data"
    },
    {
     "data": {
      "text/html": [
       "<div>\n",
       "<style scoped>\n",
       "    .dataframe tbody tr th:only-of-type {\n",
       "        vertical-align: middle;\n",
       "    }\n",
       "\n",
       "    .dataframe tbody tr th {\n",
       "        vertical-align: top;\n",
       "    }\n",
       "\n",
       "    .dataframe thead th {\n",
       "        text-align: right;\n",
       "    }\n",
       "</style>\n",
       "<table border=\"1\" class=\"dataframe\">\n",
       "  <thead>\n",
       "    <tr style=\"text-align: right;\">\n",
       "      <th></th>\n",
       "      <th>Date</th>\n",
       "      <th>Check Number</th>\n",
       "      <th>Description</th>\n",
       "      <th>Type</th>\n",
       "      <th>Charge</th>\n",
       "      <th>Debit</th>\n",
       "      <th>Credit</th>\n",
       "      <th>Running Balance</th>\n",
       "      <th>Year</th>\n",
       "      <th>Month</th>\n",
       "      <th>MonthName</th>\n",
       "      <th>Day</th>\n",
       "      <th>DayName</th>\n",
       "      <th>DayCode</th>\n",
       "    </tr>\n",
       "  </thead>\n",
       "  <tbody>\n",
       "    <tr>\n",
       "      <td>0</td>\n",
       "      <td>9/4/18</td>\n",
       "      <td>0</td>\n",
       "      <td>RACETRAC100                BRAD</td>\n",
       "      <td>Food</td>\n",
       "      <td>3.98</td>\n",
       "      <td>3.98</td>\n",
       "      <td>0.00</td>\n",
       "      <td>1179.30</td>\n",
       "      <td>18</td>\n",
       "      <td>9</td>\n",
       "      <td>September</td>\n",
       "      <td>4</td>\n",
       "      <td>Tuesday</td>\n",
       "      <td>2</td>\n",
       "    </tr>\n",
       "    <tr>\n",
       "      <td>1</td>\n",
       "      <td>9/4/18</td>\n",
       "      <td>0</td>\n",
       "      <td>MARTA                      ATLA</td>\n",
       "      <td>Transportation</td>\n",
       "      <td>6.00</td>\n",
       "      <td>6.00</td>\n",
       "      <td>0.00</td>\n",
       "      <td>1173.30</td>\n",
       "      <td>18</td>\n",
       "      <td>9</td>\n",
       "      <td>September</td>\n",
       "      <td>4</td>\n",
       "      <td>Tuesday</td>\n",
       "      <td>2</td>\n",
       "    </tr>\n",
       "    <tr>\n",
       "      <td>2</td>\n",
       "      <td>9/4/18</td>\n",
       "      <td>0</td>\n",
       "      <td>JOES EATS   SWEETS INC     BRAD</td>\n",
       "      <td>Food</td>\n",
       "      <td>10.00</td>\n",
       "      <td>10.00</td>\n",
       "      <td>0.00</td>\n",
       "      <td>1183.28</td>\n",
       "      <td>18</td>\n",
       "      <td>9</td>\n",
       "      <td>September</td>\n",
       "      <td>4</td>\n",
       "      <td>Tuesday</td>\n",
       "      <td>2</td>\n",
       "    </tr>\n",
       "    <tr>\n",
       "      <td>3</td>\n",
       "      <td>9/5/18</td>\n",
       "      <td>0</td>\n",
       "      <td>MOE S SW GRILL 4991        ATLA</td>\n",
       "      <td>Food</td>\n",
       "      <td>5.43</td>\n",
       "      <td>5.43</td>\n",
       "      <td>0.00</td>\n",
       "      <td>1167.87</td>\n",
       "      <td>18</td>\n",
       "      <td>9</td>\n",
       "      <td>September</td>\n",
       "      <td>5</td>\n",
       "      <td>Wednesday</td>\n",
       "      <td>3</td>\n",
       "    </tr>\n",
       "    <tr>\n",
       "      <td>4</td>\n",
       "      <td>9/6/18</td>\n",
       "      <td>0</td>\n",
       "      <td>CHECKERS 1135              DULU</td>\n",
       "      <td>Food</td>\n",
       "      <td>2.12</td>\n",
       "      <td>2.12</td>\n",
       "      <td>0.00</td>\n",
       "      <td>1165.75</td>\n",
       "      <td>18</td>\n",
       "      <td>9</td>\n",
       "      <td>September</td>\n",
       "      <td>6</td>\n",
       "      <td>Thursday</td>\n",
       "      <td>4</td>\n",
       "    </tr>\n",
       "    <tr>\n",
       "      <td>...</td>\n",
       "      <td>...</td>\n",
       "      <td>...</td>\n",
       "      <td>...</td>\n",
       "      <td>...</td>\n",
       "      <td>...</td>\n",
       "      <td>...</td>\n",
       "      <td>...</td>\n",
       "      <td>...</td>\n",
       "      <td>...</td>\n",
       "      <td>...</td>\n",
       "      <td>...</td>\n",
       "      <td>...</td>\n",
       "      <td>...</td>\n",
       "      <td>...</td>\n",
       "    </tr>\n",
       "    <tr>\n",
       "      <td>162</td>\n",
       "      <td>12/24/18</td>\n",
       "      <td>0</td>\n",
       "      <td>VENMO            PAYMENT    160</td>\n",
       "      <td>Money Transfer - Debit</td>\n",
       "      <td>42.00</td>\n",
       "      <td>42.00</td>\n",
       "      <td>0.00</td>\n",
       "      <td>59.06</td>\n",
       "      <td>18</td>\n",
       "      <td>12</td>\n",
       "      <td>December</td>\n",
       "      <td>24</td>\n",
       "      <td>Monday</td>\n",
       "      <td>1</td>\n",
       "    </tr>\n",
       "    <tr>\n",
       "      <td>163</td>\n",
       "      <td>12/24/18</td>\n",
       "      <td>0</td>\n",
       "      <td>ALLY BANK        $TRANSFER  145</td>\n",
       "      <td>Ally Transfer - To</td>\n",
       "      <td>50.00</td>\n",
       "      <td>50.00</td>\n",
       "      <td>0.00</td>\n",
       "      <td>9.06</td>\n",
       "      <td>18</td>\n",
       "      <td>12</td>\n",
       "      <td>December</td>\n",
       "      <td>24</td>\n",
       "      <td>Monday</td>\n",
       "      <td>1</td>\n",
       "    </tr>\n",
       "    <tr>\n",
       "      <td>164</td>\n",
       "      <td>12/28/18</td>\n",
       "      <td>0</td>\n",
       "      <td>ZOES AP          PAYROLL</td>\n",
       "      <td>PayCheck Deposit - Zoes</td>\n",
       "      <td>184.91</td>\n",
       "      <td>0.00</td>\n",
       "      <td>184.91</td>\n",
       "      <td>193.97</td>\n",
       "      <td>18</td>\n",
       "      <td>12</td>\n",
       "      <td>December</td>\n",
       "      <td>28</td>\n",
       "      <td>Friday</td>\n",
       "      <td>5</td>\n",
       "    </tr>\n",
       "    <tr>\n",
       "      <td>165</td>\n",
       "      <td>12/28/18</td>\n",
       "      <td>504</td>\n",
       "      <td>CHECK</td>\n",
       "      <td>Withdrawal</td>\n",
       "      <td>35.00</td>\n",
       "      <td>35.00</td>\n",
       "      <td>0.00</td>\n",
       "      <td>158.97</td>\n",
       "      <td>18</td>\n",
       "      <td>12</td>\n",
       "      <td>December</td>\n",
       "      <td>28</td>\n",
       "      <td>Friday</td>\n",
       "      <td>5</td>\n",
       "    </tr>\n",
       "    <tr>\n",
       "      <td>166</td>\n",
       "      <td>12/31/18</td>\n",
       "      <td>0</td>\n",
       "      <td>MOBILE CHECK DEPOSIT</td>\n",
       "      <td>Deposit</td>\n",
       "      <td>25.00</td>\n",
       "      <td>0.00</td>\n",
       "      <td>25.00</td>\n",
       "      <td>183.97</td>\n",
       "      <td>18</td>\n",
       "      <td>12</td>\n",
       "      <td>December</td>\n",
       "      <td>31</td>\n",
       "      <td>Monday</td>\n",
       "      <td>1</td>\n",
       "    </tr>\n",
       "  </tbody>\n",
       "</table>\n",
       "<p>167 rows × 14 columns</p>\n",
       "</div>"
      ],
      "text/plain": [
       "         Date  Check Number                       Description  \\\n",
       "0      9/4/18             0   RACETRAC100                BRAD   \n",
       "1      9/4/18             0   MARTA                      ATLA   \n",
       "2      9/4/18             0   JOES EATS   SWEETS INC     BRAD   \n",
       "3      9/5/18             0   MOE S SW GRILL 4991        ATLA   \n",
       "4      9/6/18             0   CHECKERS 1135              DULU   \n",
       "..        ...           ...                               ...   \n",
       "162  12/24/18             0   VENMO            PAYMENT    160   \n",
       "163  12/24/18             0   ALLY BANK        $TRANSFER  145   \n",
       "164  12/28/18             0   ZOES AP          PAYROLL          \n",
       "165  12/28/18           504                             CHECK   \n",
       "166  12/31/18             0              MOBILE CHECK DEPOSIT   \n",
       "\n",
       "                        Type  Charge  Debit  Credit  Running Balance Year  \\\n",
       "0                       Food    3.98   3.98    0.00          1179.30   18   \n",
       "1             Transportation    6.00   6.00    0.00          1173.30   18   \n",
       "2                       Food   10.00  10.00    0.00          1183.28   18   \n",
       "3                       Food    5.43   5.43    0.00          1167.87   18   \n",
       "4                       Food    2.12   2.12    0.00          1165.75   18   \n",
       "..                       ...     ...    ...     ...              ...  ...   \n",
       "162   Money Transfer - Debit   42.00  42.00    0.00            59.06   18   \n",
       "163       Ally Transfer - To   50.00  50.00    0.00             9.06   18   \n",
       "164  PayCheck Deposit - Zoes  184.91   0.00  184.91           193.97   18   \n",
       "165               Withdrawal   35.00  35.00    0.00           158.97   18   \n",
       "166                  Deposit   25.00   0.00   25.00           183.97   18   \n",
       "\n",
       "    Month  MonthName Day    DayName  DayCode  \n",
       "0       9  September   4    Tuesday        2  \n",
       "1       9  September   4    Tuesday        2  \n",
       "2       9  September   4    Tuesday        2  \n",
       "3       9  September   5  Wednesday        3  \n",
       "4       9  September   6   Thursday        4  \n",
       "..    ...        ...  ..        ...      ...  \n",
       "162    12   December  24     Monday        1  \n",
       "163    12   December  24     Monday        1  \n",
       "164    12   December  28     Friday        5  \n",
       "165    12   December  28     Friday        5  \n",
       "166    12   December  31     Monday        1  \n",
       "\n",
       "[167 rows x 14 columns]"
      ]
     },
     "metadata": {},
     "output_type": "display_data"
    },
    {
     "name": "stdout",
     "output_type": "stream",
     "text": [
      "18\n"
     ]
    },
    {
     "data": {
      "text/html": [
       "<div>\n",
       "<style scoped>\n",
       "    .dataframe tbody tr th:only-of-type {\n",
       "        vertical-align: middle;\n",
       "    }\n",
       "\n",
       "    .dataframe tbody tr th {\n",
       "        vertical-align: top;\n",
       "    }\n",
       "\n",
       "    .dataframe thead th {\n",
       "        text-align: right;\n",
       "    }\n",
       "</style>\n",
       "<table border=\"1\" class=\"dataframe\">\n",
       "  <thead>\n",
       "    <tr style=\"text-align: right;\">\n",
       "      <th></th>\n",
       "      <th>Date</th>\n",
       "      <th>Check Number</th>\n",
       "      <th>Description</th>\n",
       "      <th>Type</th>\n",
       "      <th>Charge</th>\n",
       "      <th>Debit</th>\n",
       "      <th>Credit</th>\n",
       "      <th>Running Balance</th>\n",
       "      <th>Year</th>\n",
       "      <th>Month</th>\n",
       "      <th>MonthName</th>\n",
       "      <th>Day</th>\n",
       "      <th>DayName</th>\n",
       "      <th>DayCode</th>\n",
       "    </tr>\n",
       "  </thead>\n",
       "  <tbody>\n",
       "    <tr>\n",
       "      <td>0</td>\n",
       "      <td>9/4/18</td>\n",
       "      <td>0</td>\n",
       "      <td>RACETRAC100                BRAD</td>\n",
       "      <td>Food</td>\n",
       "      <td>3.98</td>\n",
       "      <td>3.98</td>\n",
       "      <td>0.0</td>\n",
       "      <td>1179.30</td>\n",
       "      <td>18</td>\n",
       "      <td>9</td>\n",
       "      <td>September</td>\n",
       "      <td>4</td>\n",
       "      <td>Tuesday</td>\n",
       "      <td>2</td>\n",
       "    </tr>\n",
       "    <tr>\n",
       "      <td>1</td>\n",
       "      <td>9/4/18</td>\n",
       "      <td>0</td>\n",
       "      <td>MARTA                      ATLA</td>\n",
       "      <td>Transportation</td>\n",
       "      <td>6.00</td>\n",
       "      <td>6.00</td>\n",
       "      <td>0.0</td>\n",
       "      <td>1173.30</td>\n",
       "      <td>18</td>\n",
       "      <td>9</td>\n",
       "      <td>September</td>\n",
       "      <td>4</td>\n",
       "      <td>Tuesday</td>\n",
       "      <td>2</td>\n",
       "    </tr>\n",
       "    <tr>\n",
       "      <td>2</td>\n",
       "      <td>9/4/18</td>\n",
       "      <td>0</td>\n",
       "      <td>JOES EATS   SWEETS INC     BRAD</td>\n",
       "      <td>Food</td>\n",
       "      <td>10.00</td>\n",
       "      <td>10.00</td>\n",
       "      <td>0.0</td>\n",
       "      <td>1183.28</td>\n",
       "      <td>18</td>\n",
       "      <td>9</td>\n",
       "      <td>September</td>\n",
       "      <td>4</td>\n",
       "      <td>Tuesday</td>\n",
       "      <td>2</td>\n",
       "    </tr>\n",
       "    <tr>\n",
       "      <td>3</td>\n",
       "      <td>9/5/18</td>\n",
       "      <td>0</td>\n",
       "      <td>MOE S SW GRILL 4991        ATLA</td>\n",
       "      <td>Food</td>\n",
       "      <td>5.43</td>\n",
       "      <td>5.43</td>\n",
       "      <td>0.0</td>\n",
       "      <td>1167.87</td>\n",
       "      <td>18</td>\n",
       "      <td>9</td>\n",
       "      <td>September</td>\n",
       "      <td>5</td>\n",
       "      <td>Wednesday</td>\n",
       "      <td>3</td>\n",
       "    </tr>\n",
       "    <tr>\n",
       "      <td>4</td>\n",
       "      <td>9/6/18</td>\n",
       "      <td>0</td>\n",
       "      <td>CHECKERS 1135              DULU</td>\n",
       "      <td>Food</td>\n",
       "      <td>2.12</td>\n",
       "      <td>2.12</td>\n",
       "      <td>0.0</td>\n",
       "      <td>1165.75</td>\n",
       "      <td>18</td>\n",
       "      <td>9</td>\n",
       "      <td>September</td>\n",
       "      <td>6</td>\n",
       "      <td>Thursday</td>\n",
       "      <td>4</td>\n",
       "    </tr>\n",
       "    <tr>\n",
       "      <td>5</td>\n",
       "      <td>9/6/18</td>\n",
       "      <td>0</td>\n",
       "      <td>DUNKIN #310092 Q35         ATLA</td>\n",
       "      <td>Food</td>\n",
       "      <td>5.56</td>\n",
       "      <td>5.56</td>\n",
       "      <td>0.0</td>\n",
       "      <td>1160.19</td>\n",
       "      <td>18</td>\n",
       "      <td>9</td>\n",
       "      <td>September</td>\n",
       "      <td>6</td>\n",
       "      <td>Thursday</td>\n",
       "      <td>4</td>\n",
       "    </tr>\n",
       "    <tr>\n",
       "      <td>6</td>\n",
       "      <td>9/7/18</td>\n",
       "      <td>0</td>\n",
       "      <td>MARTA                      ATLA</td>\n",
       "      <td>Transportation</td>\n",
       "      <td>2.50</td>\n",
       "      <td>2.50</td>\n",
       "      <td>0.0</td>\n",
       "      <td>1137.00</td>\n",
       "      <td>18</td>\n",
       "      <td>9</td>\n",
       "      <td>September</td>\n",
       "      <td>7</td>\n",
       "      <td>Friday</td>\n",
       "      <td>5</td>\n",
       "    </tr>\n",
       "    <tr>\n",
       "      <td>7</td>\n",
       "      <td>9/7/18</td>\n",
       "      <td>0</td>\n",
       "      <td>SQUARE *SQ *ROLY POLY      ATLA</td>\n",
       "      <td>Food</td>\n",
       "      <td>5.63</td>\n",
       "      <td>5.63</td>\n",
       "      <td>0.0</td>\n",
       "      <td>1139.50</td>\n",
       "      <td>18</td>\n",
       "      <td>9</td>\n",
       "      <td>September</td>\n",
       "      <td>7</td>\n",
       "      <td>Friday</td>\n",
       "      <td>5</td>\n",
       "    </tr>\n",
       "    <tr>\n",
       "      <td>8</td>\n",
       "      <td>9/7/18</td>\n",
       "      <td>0</td>\n",
       "      <td>PHO HOUSE.                 DULU</td>\n",
       "      <td>Food</td>\n",
       "      <td>15.06</td>\n",
       "      <td>15.06</td>\n",
       "      <td>0.0</td>\n",
       "      <td>1145.13</td>\n",
       "      <td>18</td>\n",
       "      <td>9</td>\n",
       "      <td>September</td>\n",
       "      <td>7</td>\n",
       "      <td>Friday</td>\n",
       "      <td>5</td>\n",
       "    </tr>\n",
       "    <tr>\n",
       "      <td>9</td>\n",
       "      <td>9/10/18</td>\n",
       "      <td>0</td>\n",
       "      <td>MARTA                      ATLA</td>\n",
       "      <td>Transportation</td>\n",
       "      <td>5.00</td>\n",
       "      <td>5.00</td>\n",
       "      <td>0.0</td>\n",
       "      <td>1116.82</td>\n",
       "      <td>18</td>\n",
       "      <td>9</td>\n",
       "      <td>September</td>\n",
       "      <td>10</td>\n",
       "      <td>Monday</td>\n",
       "      <td>1</td>\n",
       "    </tr>\n",
       "    <tr>\n",
       "      <td>10</td>\n",
       "      <td>9/10/18</td>\n",
       "      <td>0</td>\n",
       "      <td>QUIKTRIP                   DULU</td>\n",
       "      <td>Gasoline</td>\n",
       "      <td>15.18</td>\n",
       "      <td>15.18</td>\n",
       "      <td>0.0</td>\n",
       "      <td>1121.82</td>\n",
       "      <td>18</td>\n",
       "      <td>9</td>\n",
       "      <td>September</td>\n",
       "      <td>10</td>\n",
       "      <td>Monday</td>\n",
       "      <td>1</td>\n",
       "    </tr>\n",
       "    <tr>\n",
       "      <td>11</td>\n",
       "      <td>9/11/18</td>\n",
       "      <td>0</td>\n",
       "      <td>DUNKIN #310092 Q35         ATLA</td>\n",
       "      <td>Food</td>\n",
       "      <td>2.05</td>\n",
       "      <td>2.05</td>\n",
       "      <td>0.0</td>\n",
       "      <td>1114.77</td>\n",
       "      <td>18</td>\n",
       "      <td>9</td>\n",
       "      <td>September</td>\n",
       "      <td>11</td>\n",
       "      <td>Tuesday</td>\n",
       "      <td>2</td>\n",
       "    </tr>\n",
       "    <tr>\n",
       "      <td>12</td>\n",
       "      <td>9/11/18</td>\n",
       "      <td>0</td>\n",
       "      <td>WALTERS CLOTHING           ATLA</td>\n",
       "      <td>Fashion</td>\n",
       "      <td>36.75</td>\n",
       "      <td>36.75</td>\n",
       "      <td>0.0</td>\n",
       "      <td>1078.02</td>\n",
       "      <td>18</td>\n",
       "      <td>9</td>\n",
       "      <td>September</td>\n",
       "      <td>11</td>\n",
       "      <td>Tuesday</td>\n",
       "      <td>2</td>\n",
       "    </tr>\n",
       "    <tr>\n",
       "      <td>13</td>\n",
       "      <td>9/12/18</td>\n",
       "      <td>0</td>\n",
       "      <td>MARTA                      ATLA</td>\n",
       "      <td>Transportation</td>\n",
       "      <td>5.00</td>\n",
       "      <td>5.00</td>\n",
       "      <td>0.0</td>\n",
       "      <td>1063.36</td>\n",
       "      <td>18</td>\n",
       "      <td>9</td>\n",
       "      <td>September</td>\n",
       "      <td>12</td>\n",
       "      <td>Wednesday</td>\n",
       "      <td>3</td>\n",
       "    </tr>\n",
       "    <tr>\n",
       "      <td>14</td>\n",
       "      <td>9/12/18</td>\n",
       "      <td>0</td>\n",
       "      <td>WILLYS GEORGIA STATE       ATLA</td>\n",
       "      <td>Food</td>\n",
       "      <td>9.66</td>\n",
       "      <td>9.66</td>\n",
       "      <td>0.0</td>\n",
       "      <td>1068.36</td>\n",
       "      <td>18</td>\n",
       "      <td>9</td>\n",
       "      <td>September</td>\n",
       "      <td>12</td>\n",
       "      <td>Wednesday</td>\n",
       "      <td>3</td>\n",
       "    </tr>\n",
       "    <tr>\n",
       "      <td>15</td>\n",
       "      <td>9/13/18</td>\n",
       "      <td>0</td>\n",
       "      <td>DUNKIN #310092 Q35         ATLA</td>\n",
       "      <td>Food</td>\n",
       "      <td>3.51</td>\n",
       "      <td>3.51</td>\n",
       "      <td>0.0</td>\n",
       "      <td>1056.05</td>\n",
       "      <td>18</td>\n",
       "      <td>9</td>\n",
       "      <td>September</td>\n",
       "      <td>13</td>\n",
       "      <td>Thursday</td>\n",
       "      <td>4</td>\n",
       "    </tr>\n",
       "    <tr>\n",
       "      <td>16</td>\n",
       "      <td>9/13/18</td>\n",
       "      <td>0</td>\n",
       "      <td>SUBWAY        00598474     ATLA</td>\n",
       "      <td>Food</td>\n",
       "      <td>3.80</td>\n",
       "      <td>3.80</td>\n",
       "      <td>0.0</td>\n",
       "      <td>1059.56</td>\n",
       "      <td>18</td>\n",
       "      <td>9</td>\n",
       "      <td>September</td>\n",
       "      <td>13</td>\n",
       "      <td>Thursday</td>\n",
       "      <td>4</td>\n",
       "    </tr>\n",
       "    <tr>\n",
       "      <td>17</td>\n",
       "      <td>9/13/18</td>\n",
       "      <td>0</td>\n",
       "      <td>TO 0175 1000027445740</td>\n",
       "      <td>Mom Payment</td>\n",
       "      <td>158.43</td>\n",
       "      <td>158.43</td>\n",
       "      <td>0.0</td>\n",
       "      <td>897.62</td>\n",
       "      <td>18</td>\n",
       "      <td>9</td>\n",
       "      <td>September</td>\n",
       "      <td>13</td>\n",
       "      <td>Thursday</td>\n",
       "      <td>4</td>\n",
       "    </tr>\n",
       "    <tr>\n",
       "      <td>18</td>\n",
       "      <td>9/14/18</td>\n",
       "      <td>0</td>\n",
       "      <td>QUIKTRIP                   DULU</td>\n",
       "      <td>Gasoline</td>\n",
       "      <td>36.14</td>\n",
       "      <td>36.14</td>\n",
       "      <td>0.0</td>\n",
       "      <td>861.48</td>\n",
       "      <td>18</td>\n",
       "      <td>9</td>\n",
       "      <td>September</td>\n",
       "      <td>14</td>\n",
       "      <td>Friday</td>\n",
       "      <td>5</td>\n",
       "    </tr>\n",
       "    <tr>\n",
       "      <td>19</td>\n",
       "      <td>9/17/18</td>\n",
       "      <td>0</td>\n",
       "      <td>QT 831        07008311     DULU</td>\n",
       "      <td>Food</td>\n",
       "      <td>1.16</td>\n",
       "      <td>1.16</td>\n",
       "      <td>0.0</td>\n",
       "      <td>860.32</td>\n",
       "      <td>18</td>\n",
       "      <td>9</td>\n",
       "      <td>September</td>\n",
       "      <td>17</td>\n",
       "      <td>Monday</td>\n",
       "      <td>1</td>\n",
       "    </tr>\n",
       "    <tr>\n",
       "      <td>20</td>\n",
       "      <td>9/17/18</td>\n",
       "      <td>0</td>\n",
       "      <td>COOK OUT PONCE DE LEON     ATLA</td>\n",
       "      <td>Food</td>\n",
       "      <td>10.06</td>\n",
       "      <td>10.06</td>\n",
       "      <td>0.0</td>\n",
       "      <td>850.26</td>\n",
       "      <td>18</td>\n",
       "      <td>9</td>\n",
       "      <td>September</td>\n",
       "      <td>17</td>\n",
       "      <td>Monday</td>\n",
       "      <td>1</td>\n",
       "    </tr>\n",
       "    <tr>\n",
       "      <td>21</td>\n",
       "      <td>9/17/18</td>\n",
       "      <td>0</td>\n",
       "      <td>MARTA                      ATLA</td>\n",
       "      <td>Transportation</td>\n",
       "      <td>20.00</td>\n",
       "      <td>20.00</td>\n",
       "      <td>0.0</td>\n",
       "      <td>830.26</td>\n",
       "      <td>18</td>\n",
       "      <td>9</td>\n",
       "      <td>September</td>\n",
       "      <td>17</td>\n",
       "      <td>Monday</td>\n",
       "      <td>1</td>\n",
       "    </tr>\n",
       "    <tr>\n",
       "      <td>22</td>\n",
       "      <td>9/18/18</td>\n",
       "      <td>0</td>\n",
       "      <td>DUNKIN #310092 Q35         ATLA</td>\n",
       "      <td>Food</td>\n",
       "      <td>0.24</td>\n",
       "      <td>0.24</td>\n",
       "      <td>0.0</td>\n",
       "      <td>826.07</td>\n",
       "      <td>18</td>\n",
       "      <td>9</td>\n",
       "      <td>September</td>\n",
       "      <td>18</td>\n",
       "      <td>Tuesday</td>\n",
       "      <td>2</td>\n",
       "    </tr>\n",
       "    <tr>\n",
       "      <td>23</td>\n",
       "      <td>9/18/18</td>\n",
       "      <td>0</td>\n",
       "      <td>DUNKIN #310092 Q35         ATLA</td>\n",
       "      <td>Food</td>\n",
       "      <td>1.95</td>\n",
       "      <td>1.95</td>\n",
       "      <td>0.0</td>\n",
       "      <td>826.31</td>\n",
       "      <td>18</td>\n",
       "      <td>9</td>\n",
       "      <td>September</td>\n",
       "      <td>18</td>\n",
       "      <td>Tuesday</td>\n",
       "      <td>2</td>\n",
       "    </tr>\n",
       "    <tr>\n",
       "      <td>24</td>\n",
       "      <td>9/18/18</td>\n",
       "      <td>0</td>\n",
       "      <td>CMSVEND*GEORGIA VENDIN     ALPH</td>\n",
       "      <td>Food</td>\n",
       "      <td>2.00</td>\n",
       "      <td>2.00</td>\n",
       "      <td>0.0</td>\n",
       "      <td>828.26</td>\n",
       "      <td>18</td>\n",
       "      <td>9</td>\n",
       "      <td>September</td>\n",
       "      <td>18</td>\n",
       "      <td>Tuesday</td>\n",
       "      <td>2</td>\n",
       "    </tr>\n",
       "    <tr>\n",
       "      <td>25</td>\n",
       "      <td>9/18/18</td>\n",
       "      <td>0</td>\n",
       "      <td>WALGREENS 25 P             ATLA</td>\n",
       "      <td>Food</td>\n",
       "      <td>4.07</td>\n",
       "      <td>4.07</td>\n",
       "      <td>0.0</td>\n",
       "      <td>822.00</td>\n",
       "      <td>18</td>\n",
       "      <td>9</td>\n",
       "      <td>September</td>\n",
       "      <td>18</td>\n",
       "      <td>Tuesday</td>\n",
       "      <td>2</td>\n",
       "    </tr>\n",
       "    <tr>\n",
       "      <td>26</td>\n",
       "      <td>9/20/18</td>\n",
       "      <td>0</td>\n",
       "      <td>DUNKIN #310092 Q35         ATLA</td>\n",
       "      <td>Food</td>\n",
       "      <td>3.51</td>\n",
       "      <td>3.51</td>\n",
       "      <td>0.0</td>\n",
       "      <td>818.49</td>\n",
       "      <td>18</td>\n",
       "      <td>9</td>\n",
       "      <td>September</td>\n",
       "      <td>20</td>\n",
       "      <td>Thursday</td>\n",
       "      <td>4</td>\n",
       "    </tr>\n",
       "    <tr>\n",
       "      <td>27</td>\n",
       "      <td>9/24/18</td>\n",
       "      <td>0</td>\n",
       "      <td>VENMO            CASHOUT</td>\n",
       "      <td>Money Transfer - Credit</td>\n",
       "      <td>203.50</td>\n",
       "      <td>0.00</td>\n",
       "      <td>203.5</td>\n",
       "      <td>1021.99</td>\n",
       "      <td>18</td>\n",
       "      <td>9</td>\n",
       "      <td>September</td>\n",
       "      <td>24</td>\n",
       "      <td>Monday</td>\n",
       "      <td>1</td>\n",
       "    </tr>\n",
       "    <tr>\n",
       "      <td>28</td>\n",
       "      <td>9/24/18</td>\n",
       "      <td>0</td>\n",
       "      <td>CHICK-FIL-A #00821         DULU</td>\n",
       "      <td>Food</td>\n",
       "      <td>3.59</td>\n",
       "      <td>3.59</td>\n",
       "      <td>0.0</td>\n",
       "      <td>1018.40</td>\n",
       "      <td>18</td>\n",
       "      <td>9</td>\n",
       "      <td>September</td>\n",
       "      <td>24</td>\n",
       "      <td>Monday</td>\n",
       "      <td>1</td>\n",
       "    </tr>\n",
       "    <tr>\n",
       "      <td>29</td>\n",
       "      <td>9/24/18</td>\n",
       "      <td>0</td>\n",
       "      <td>TACO MAC 21                DULU</td>\n",
       "      <td>Food</td>\n",
       "      <td>7.35</td>\n",
       "      <td>7.35</td>\n",
       "      <td>0.0</td>\n",
       "      <td>1011.05</td>\n",
       "      <td>18</td>\n",
       "      <td>9</td>\n",
       "      <td>September</td>\n",
       "      <td>24</td>\n",
       "      <td>Monday</td>\n",
       "      <td>1</td>\n",
       "    </tr>\n",
       "    <tr>\n",
       "      <td>30</td>\n",
       "      <td>9/24/18</td>\n",
       "      <td>0</td>\n",
       "      <td>VENMO            PAYMENT    136</td>\n",
       "      <td>Money Transfer - Debit</td>\n",
       "      <td>200.00</td>\n",
       "      <td>200.00</td>\n",
       "      <td>0.0</td>\n",
       "      <td>811.05</td>\n",
       "      <td>18</td>\n",
       "      <td>9</td>\n",
       "      <td>September</td>\n",
       "      <td>24</td>\n",
       "      <td>Monday</td>\n",
       "      <td>1</td>\n",
       "    </tr>\n",
       "    <tr>\n",
       "      <td>31</td>\n",
       "      <td>9/25/18</td>\n",
       "      <td>0</td>\n",
       "      <td>ALLY BANK        $TRANSFER  137</td>\n",
       "      <td>Ally Transfer - To</td>\n",
       "      <td>50.00</td>\n",
       "      <td>50.00</td>\n",
       "      <td>0.0</td>\n",
       "      <td>761.05</td>\n",
       "      <td>18</td>\n",
       "      <td>9</td>\n",
       "      <td>September</td>\n",
       "      <td>25</td>\n",
       "      <td>Tuesday</td>\n",
       "      <td>2</td>\n",
       "    </tr>\n",
       "    <tr>\n",
       "      <td>32</td>\n",
       "      <td>9/26/18</td>\n",
       "      <td>0</td>\n",
       "      <td>RACETRAC490                NORC</td>\n",
       "      <td>Food</td>\n",
       "      <td>2.03</td>\n",
       "      <td>2.03</td>\n",
       "      <td>0.0</td>\n",
       "      <td>759.02</td>\n",
       "      <td>18</td>\n",
       "      <td>9</td>\n",
       "      <td>September</td>\n",
       "      <td>26</td>\n",
       "      <td>Wednesday</td>\n",
       "      <td>3</td>\n",
       "    </tr>\n",
       "    <tr>\n",
       "      <td>33</td>\n",
       "      <td>9/27/18</td>\n",
       "      <td>0</td>\n",
       "      <td>WILLYS GEORGIA STATE       ATLA</td>\n",
       "      <td>Food</td>\n",
       "      <td>1.09</td>\n",
       "      <td>1.09</td>\n",
       "      <td>0.0</td>\n",
       "      <td>752.14</td>\n",
       "      <td>18</td>\n",
       "      <td>9</td>\n",
       "      <td>September</td>\n",
       "      <td>27</td>\n",
       "      <td>Thursday</td>\n",
       "      <td>4</td>\n",
       "    </tr>\n",
       "    <tr>\n",
       "      <td>34</td>\n",
       "      <td>9/27/18</td>\n",
       "      <td>0</td>\n",
       "      <td>DUNKIN #310092 Q35         ATLA</td>\n",
       "      <td>Food</td>\n",
       "      <td>2.28</td>\n",
       "      <td>2.28</td>\n",
       "      <td>0.0</td>\n",
       "      <td>756.74</td>\n",
       "      <td>18</td>\n",
       "      <td>9</td>\n",
       "      <td>September</td>\n",
       "      <td>27</td>\n",
       "      <td>Thursday</td>\n",
       "      <td>4</td>\n",
       "    </tr>\n",
       "    <tr>\n",
       "      <td>35</td>\n",
       "      <td>9/27/18</td>\n",
       "      <td>0</td>\n",
       "      <td>DUNKIN #310092 Q35         ATLA</td>\n",
       "      <td>Food</td>\n",
       "      <td>3.51</td>\n",
       "      <td>3.51</td>\n",
       "      <td>0.0</td>\n",
       "      <td>753.23</td>\n",
       "      <td>18</td>\n",
       "      <td>9</td>\n",
       "      <td>September</td>\n",
       "      <td>27</td>\n",
       "      <td>Thursday</td>\n",
       "      <td>4</td>\n",
       "    </tr>\n",
       "    <tr>\n",
       "      <td>36</td>\n",
       "      <td>9/27/18</td>\n",
       "      <td>0</td>\n",
       "      <td>MARTA                      ATLA</td>\n",
       "      <td>Transportation</td>\n",
       "      <td>5.00</td>\n",
       "      <td>5.00</td>\n",
       "      <td>0.0</td>\n",
       "      <td>747.14</td>\n",
       "      <td>18</td>\n",
       "      <td>9</td>\n",
       "      <td>September</td>\n",
       "      <td>27</td>\n",
       "      <td>Thursday</td>\n",
       "      <td>4</td>\n",
       "    </tr>\n",
       "    <tr>\n",
       "      <td>37</td>\n",
       "      <td>9/28/18</td>\n",
       "      <td>0</td>\n",
       "      <td>CHECKERS 1135              DULU</td>\n",
       "      <td>Food</td>\n",
       "      <td>2.19</td>\n",
       "      <td>2.19</td>\n",
       "      <td>0.0</td>\n",
       "      <td>744.95</td>\n",
       "      <td>18</td>\n",
       "      <td>9</td>\n",
       "      <td>September</td>\n",
       "      <td>28</td>\n",
       "      <td>Friday</td>\n",
       "      <td>5</td>\n",
       "    </tr>\n",
       "    <tr>\n",
       "      <td>38</td>\n",
       "      <td>9/28/18</td>\n",
       "      <td>0</td>\n",
       "      <td>SQU*SQ *BEST CAJUN ASI     ATLA</td>\n",
       "      <td>Money Transfer - Debit</td>\n",
       "      <td>2.20</td>\n",
       "      <td>2.20</td>\n",
       "      <td>0.0</td>\n",
       "      <td>742.75</td>\n",
       "      <td>18</td>\n",
       "      <td>9</td>\n",
       "      <td>September</td>\n",
       "      <td>28</td>\n",
       "      <td>Friday</td>\n",
       "      <td>5</td>\n",
       "    </tr>\n",
       "    <tr>\n",
       "      <td>39</td>\n",
       "      <td>9/28/18</td>\n",
       "      <td>0</td>\n",
       "      <td>WILLYS GEORGIA STATE       ATLA</td>\n",
       "      <td>Food</td>\n",
       "      <td>3.81</td>\n",
       "      <td>3.81</td>\n",
       "      <td>0.0</td>\n",
       "      <td>738.94</td>\n",
       "      <td>18</td>\n",
       "      <td>9</td>\n",
       "      <td>September</td>\n",
       "      <td>28</td>\n",
       "      <td>Friday</td>\n",
       "      <td>5</td>\n",
       "    </tr>\n",
       "  </tbody>\n",
       "</table>\n",
       "</div>"
      ],
      "text/plain": [
       "       Date  Check Number                       Description  \\\n",
       "0    9/4/18             0   RACETRAC100                BRAD   \n",
       "1    9/4/18             0   MARTA                      ATLA   \n",
       "2    9/4/18             0   JOES EATS   SWEETS INC     BRAD   \n",
       "3    9/5/18             0   MOE S SW GRILL 4991        ATLA   \n",
       "4    9/6/18             0   CHECKERS 1135              DULU   \n",
       "5    9/6/18             0   DUNKIN #310092 Q35         ATLA   \n",
       "6    9/7/18             0   MARTA                      ATLA   \n",
       "7    9/7/18             0   SQUARE *SQ *ROLY POLY      ATLA   \n",
       "8    9/7/18             0   PHO HOUSE.                 DULU   \n",
       "9   9/10/18             0   MARTA                      ATLA   \n",
       "10  9/10/18             0   QUIKTRIP                   DULU   \n",
       "11  9/11/18             0   DUNKIN #310092 Q35         ATLA   \n",
       "12  9/11/18             0   WALTERS CLOTHING           ATLA   \n",
       "13  9/12/18             0   MARTA                      ATLA   \n",
       "14  9/12/18             0   WILLYS GEORGIA STATE       ATLA   \n",
       "15  9/13/18             0   DUNKIN #310092 Q35         ATLA   \n",
       "16  9/13/18             0   SUBWAY        00598474     ATLA   \n",
       "17  9/13/18             0           TO 0175 1000027445740     \n",
       "18  9/14/18             0   QUIKTRIP                   DULU   \n",
       "19  9/17/18             0   QT 831        07008311     DULU   \n",
       "20  9/17/18             0   COOK OUT PONCE DE LEON     ATLA   \n",
       "21  9/17/18             0   MARTA                      ATLA   \n",
       "22  9/18/18             0   DUNKIN #310092 Q35         ATLA   \n",
       "23  9/18/18             0   DUNKIN #310092 Q35         ATLA   \n",
       "24  9/18/18             0   CMSVEND*GEORGIA VENDIN     ALPH   \n",
       "25  9/18/18             0   WALGREENS 25 P             ATLA   \n",
       "26  9/20/18             0   DUNKIN #310092 Q35         ATLA   \n",
       "27  9/24/18             0   VENMO            CASHOUT          \n",
       "28  9/24/18             0   CHICK-FIL-A #00821         DULU   \n",
       "29  9/24/18             0   TACO MAC 21                DULU   \n",
       "30  9/24/18             0   VENMO            PAYMENT    136   \n",
       "31  9/25/18             0   ALLY BANK        $TRANSFER  137   \n",
       "32  9/26/18             0   RACETRAC490                NORC   \n",
       "33  9/27/18             0   WILLYS GEORGIA STATE       ATLA   \n",
       "34  9/27/18             0   DUNKIN #310092 Q35         ATLA   \n",
       "35  9/27/18             0   DUNKIN #310092 Q35         ATLA   \n",
       "36  9/27/18             0   MARTA                      ATLA   \n",
       "37  9/28/18             0   CHECKERS 1135              DULU   \n",
       "38  9/28/18             0   SQU*SQ *BEST CAJUN ASI     ATLA   \n",
       "39  9/28/18             0   WILLYS GEORGIA STATE       ATLA   \n",
       "\n",
       "                       Type  Charge   Debit  Credit  Running Balance Year  \\\n",
       "0                      Food    3.98    3.98     0.0          1179.30   18   \n",
       "1            Transportation    6.00    6.00     0.0          1173.30   18   \n",
       "2                      Food   10.00   10.00     0.0          1183.28   18   \n",
       "3                      Food    5.43    5.43     0.0          1167.87   18   \n",
       "4                      Food    2.12    2.12     0.0          1165.75   18   \n",
       "5                      Food    5.56    5.56     0.0          1160.19   18   \n",
       "6            Transportation    2.50    2.50     0.0          1137.00   18   \n",
       "7                      Food    5.63    5.63     0.0          1139.50   18   \n",
       "8                      Food   15.06   15.06     0.0          1145.13   18   \n",
       "9            Transportation    5.00    5.00     0.0          1116.82   18   \n",
       "10                 Gasoline   15.18   15.18     0.0          1121.82   18   \n",
       "11                     Food    2.05    2.05     0.0          1114.77   18   \n",
       "12                  Fashion   36.75   36.75     0.0          1078.02   18   \n",
       "13           Transportation    5.00    5.00     0.0          1063.36   18   \n",
       "14                     Food    9.66    9.66     0.0          1068.36   18   \n",
       "15                     Food    3.51    3.51     0.0          1056.05   18   \n",
       "16                     Food    3.80    3.80     0.0          1059.56   18   \n",
       "17              Mom Payment  158.43  158.43     0.0           897.62   18   \n",
       "18                 Gasoline   36.14   36.14     0.0           861.48   18   \n",
       "19                     Food    1.16    1.16     0.0           860.32   18   \n",
       "20                     Food   10.06   10.06     0.0           850.26   18   \n",
       "21           Transportation   20.00   20.00     0.0           830.26   18   \n",
       "22                     Food    0.24    0.24     0.0           826.07   18   \n",
       "23                     Food    1.95    1.95     0.0           826.31   18   \n",
       "24                     Food    2.00    2.00     0.0           828.26   18   \n",
       "25                     Food    4.07    4.07     0.0           822.00   18   \n",
       "26                     Food    3.51    3.51     0.0           818.49   18   \n",
       "27  Money Transfer - Credit  203.50    0.00   203.5          1021.99   18   \n",
       "28                     Food    3.59    3.59     0.0          1018.40   18   \n",
       "29                     Food    7.35    7.35     0.0          1011.05   18   \n",
       "30   Money Transfer - Debit  200.00  200.00     0.0           811.05   18   \n",
       "31       Ally Transfer - To   50.00   50.00     0.0           761.05   18   \n",
       "32                     Food    2.03    2.03     0.0           759.02   18   \n",
       "33                     Food    1.09    1.09     0.0           752.14   18   \n",
       "34                     Food    2.28    2.28     0.0           756.74   18   \n",
       "35                     Food    3.51    3.51     0.0           753.23   18   \n",
       "36           Transportation    5.00    5.00     0.0           747.14   18   \n",
       "37                     Food    2.19    2.19     0.0           744.95   18   \n",
       "38   Money Transfer - Debit    2.20    2.20     0.0           742.75   18   \n",
       "39                     Food    3.81    3.81     0.0           738.94   18   \n",
       "\n",
       "   Month  MonthName Day    DayName  DayCode  \n",
       "0      9  September   4    Tuesday        2  \n",
       "1      9  September   4    Tuesday        2  \n",
       "2      9  September   4    Tuesday        2  \n",
       "3      9  September   5  Wednesday        3  \n",
       "4      9  September   6   Thursday        4  \n",
       "5      9  September   6   Thursday        4  \n",
       "6      9  September   7     Friday        5  \n",
       "7      9  September   7     Friday        5  \n",
       "8      9  September   7     Friday        5  \n",
       "9      9  September  10     Monday        1  \n",
       "10     9  September  10     Monday        1  \n",
       "11     9  September  11    Tuesday        2  \n",
       "12     9  September  11    Tuesday        2  \n",
       "13     9  September  12  Wednesday        3  \n",
       "14     9  September  12  Wednesday        3  \n",
       "15     9  September  13   Thursday        4  \n",
       "16     9  September  13   Thursday        4  \n",
       "17     9  September  13   Thursday        4  \n",
       "18     9  September  14     Friday        5  \n",
       "19     9  September  17     Monday        1  \n",
       "20     9  September  17     Monday        1  \n",
       "21     9  September  17     Monday        1  \n",
       "22     9  September  18    Tuesday        2  \n",
       "23     9  September  18    Tuesday        2  \n",
       "24     9  September  18    Tuesday        2  \n",
       "25     9  September  18    Tuesday        2  \n",
       "26     9  September  20   Thursday        4  \n",
       "27     9  September  24     Monday        1  \n",
       "28     9  September  24     Monday        1  \n",
       "29     9  September  24     Monday        1  \n",
       "30     9  September  24     Monday        1  \n",
       "31     9  September  25    Tuesday        2  \n",
       "32     9  September  26  Wednesday        3  \n",
       "33     9  September  27   Thursday        4  \n",
       "34     9  September  27   Thursday        4  \n",
       "35     9  September  27   Thursday        4  \n",
       "36     9  September  27   Thursday        4  \n",
       "37     9  September  28     Friday        5  \n",
       "38     9  September  28     Friday        5  \n",
       "39     9  September  28     Friday        5  "
      ]
     },
     "metadata": {},
     "output_type": "display_data"
    },
    {
     "data": {
      "text/html": [
       "<div>\n",
       "<style scoped>\n",
       "    .dataframe tbody tr th:only-of-type {\n",
       "        vertical-align: middle;\n",
       "    }\n",
       "\n",
       "    .dataframe tbody tr th {\n",
       "        vertical-align: top;\n",
       "    }\n",
       "\n",
       "    .dataframe thead th {\n",
       "        text-align: right;\n",
       "    }\n",
       "</style>\n",
       "<table border=\"1\" class=\"dataframe\">\n",
       "  <thead>\n",
       "    <tr style=\"text-align: right;\">\n",
       "      <th></th>\n",
       "      <th>Date</th>\n",
       "      <th>Check Number</th>\n",
       "      <th>Description</th>\n",
       "      <th>Type</th>\n",
       "      <th>Charge</th>\n",
       "      <th>Debit</th>\n",
       "      <th>Credit</th>\n",
       "      <th>Running Balance</th>\n",
       "      <th>Year</th>\n",
       "      <th>Month</th>\n",
       "      <th>MonthName</th>\n",
       "      <th>Day</th>\n",
       "      <th>DayName</th>\n",
       "      <th>DayCode</th>\n",
       "    </tr>\n",
       "  </thead>\n",
       "  <tbody>\n",
       "    <tr>\n",
       "      <td>40</td>\n",
       "      <td>10/1/18</td>\n",
       "      <td>0</td>\n",
       "      <td>SWEET HUT BAKERY   CAF     DULU</td>\n",
       "      <td>Food</td>\n",
       "      <td>2.70</td>\n",
       "      <td>2.70</td>\n",
       "      <td>0.00</td>\n",
       "      <td>709.75</td>\n",
       "      <td>18</td>\n",
       "      <td>10</td>\n",
       "      <td>October</td>\n",
       "      <td>1</td>\n",
       "      <td>Monday</td>\n",
       "      <td>1</td>\n",
       "    </tr>\n",
       "    <tr>\n",
       "      <td>41</td>\n",
       "      <td>10/1/18</td>\n",
       "      <td>0</td>\n",
       "      <td>COOK OUT TUCKER            TUCK</td>\n",
       "      <td>Food</td>\n",
       "      <td>5.39</td>\n",
       "      <td>5.39</td>\n",
       "      <td>0.00</td>\n",
       "      <td>694.36</td>\n",
       "      <td>18</td>\n",
       "      <td>10</td>\n",
       "      <td>October</td>\n",
       "      <td>1</td>\n",
       "      <td>Monday</td>\n",
       "      <td>1</td>\n",
       "    </tr>\n",
       "    <tr>\n",
       "      <td>42</td>\n",
       "      <td>10/1/18</td>\n",
       "      <td>0</td>\n",
       "      <td>WALGREENS 25 P             ATLA</td>\n",
       "      <td>Grocery</td>\n",
       "      <td>8.70</td>\n",
       "      <td>8.70</td>\n",
       "      <td>0.00</td>\n",
       "      <td>638.09</td>\n",
       "      <td>18</td>\n",
       "      <td>10</td>\n",
       "      <td>October</td>\n",
       "      <td>1</td>\n",
       "      <td>Monday</td>\n",
       "      <td>1</td>\n",
       "    </tr>\n",
       "    <tr>\n",
       "      <td>43</td>\n",
       "      <td>10/1/18</td>\n",
       "      <td>0</td>\n",
       "      <td>EINSTEIN BROS BAGELS31     DULU</td>\n",
       "      <td>Food</td>\n",
       "      <td>8.88</td>\n",
       "      <td>8.88</td>\n",
       "      <td>0.00</td>\n",
       "      <td>685.48</td>\n",
       "      <td>18</td>\n",
       "      <td>10</td>\n",
       "      <td>October</td>\n",
       "      <td>1</td>\n",
       "      <td>Monday</td>\n",
       "      <td>1</td>\n",
       "    </tr>\n",
       "    <tr>\n",
       "      <td>44</td>\n",
       "      <td>10/1/18</td>\n",
       "      <td>0</td>\n",
       "      <td>LANIER PARKING 2101170     ATLA</td>\n",
       "      <td>Transportation</td>\n",
       "      <td>10.00</td>\n",
       "      <td>10.00</td>\n",
       "      <td>0.00</td>\n",
       "      <td>699.75</td>\n",
       "      <td>18</td>\n",
       "      <td>10</td>\n",
       "      <td>October</td>\n",
       "      <td>1</td>\n",
       "      <td>Monday</td>\n",
       "      <td>1</td>\n",
       "    </tr>\n",
       "    <tr>\n",
       "      <td>45</td>\n",
       "      <td>10/1/18</td>\n",
       "      <td>0</td>\n",
       "      <td>QUIKTRIP                   DULU</td>\n",
       "      <td>Gasoline</td>\n",
       "      <td>26.49</td>\n",
       "      <td>26.49</td>\n",
       "      <td>0.00</td>\n",
       "      <td>712.45</td>\n",
       "      <td>18</td>\n",
       "      <td>10</td>\n",
       "      <td>October</td>\n",
       "      <td>1</td>\n",
       "      <td>Monday</td>\n",
       "      <td>1</td>\n",
       "    </tr>\n",
       "    <tr>\n",
       "      <td>46</td>\n",
       "      <td>10/1/18</td>\n",
       "      <td>0</td>\n",
       "      <td>QUIKTRIP                   DULU</td>\n",
       "      <td>Gasoline</td>\n",
       "      <td>38.69</td>\n",
       "      <td>38.69</td>\n",
       "      <td>0.00</td>\n",
       "      <td>646.79</td>\n",
       "      <td>18</td>\n",
       "      <td>10</td>\n",
       "      <td>October</td>\n",
       "      <td>1</td>\n",
       "      <td>Monday</td>\n",
       "      <td>1</td>\n",
       "    </tr>\n",
       "    <tr>\n",
       "      <td>47</td>\n",
       "      <td>10/2/18</td>\n",
       "      <td>0</td>\n",
       "      <td>KROGER 38 3455             DULU</td>\n",
       "      <td>Food</td>\n",
       "      <td>1.53</td>\n",
       "      <td>1.53</td>\n",
       "      <td>0.00</td>\n",
       "      <td>636.56</td>\n",
       "      <td>18</td>\n",
       "      <td>10</td>\n",
       "      <td>October</td>\n",
       "      <td>2</td>\n",
       "      <td>Tuesday</td>\n",
       "      <td>2</td>\n",
       "    </tr>\n",
       "    <tr>\n",
       "      <td>48</td>\n",
       "      <td>10/3/18</td>\n",
       "      <td>0</td>\n",
       "      <td>SQU*SQ *BLOSSOM TREE       ATLA</td>\n",
       "      <td>Food</td>\n",
       "      <td>7.51</td>\n",
       "      <td>7.51</td>\n",
       "      <td>0.00</td>\n",
       "      <td>619.75</td>\n",
       "      <td>18</td>\n",
       "      <td>10</td>\n",
       "      <td>October</td>\n",
       "      <td>3</td>\n",
       "      <td>Wednesday</td>\n",
       "      <td>3</td>\n",
       "    </tr>\n",
       "    <tr>\n",
       "      <td>49</td>\n",
       "      <td>10/3/18</td>\n",
       "      <td>0</td>\n",
       "      <td>SUBWAY        00202341     ATLA</td>\n",
       "      <td>Food</td>\n",
       "      <td>9.30</td>\n",
       "      <td>9.30</td>\n",
       "      <td>0.00</td>\n",
       "      <td>627.26</td>\n",
       "      <td>18</td>\n",
       "      <td>10</td>\n",
       "      <td>October</td>\n",
       "      <td>3</td>\n",
       "      <td>Wednesday</td>\n",
       "      <td>3</td>\n",
       "    </tr>\n",
       "    <tr>\n",
       "      <td>50</td>\n",
       "      <td>10/4/18</td>\n",
       "      <td>0</td>\n",
       "      <td>CMSVEND*GEORGIA VENDIN     ALPH</td>\n",
       "      <td>Food</td>\n",
       "      <td>0.75</td>\n",
       "      <td>0.75</td>\n",
       "      <td>0.00</td>\n",
       "      <td>608.93</td>\n",
       "      <td>18</td>\n",
       "      <td>10</td>\n",
       "      <td>October</td>\n",
       "      <td>4</td>\n",
       "      <td>Thursday</td>\n",
       "      <td>4</td>\n",
       "    </tr>\n",
       "    <tr>\n",
       "      <td>51</td>\n",
       "      <td>10/4/18</td>\n",
       "      <td>0</td>\n",
       "      <td>SAXBYS - GSU               ATLA</td>\n",
       "      <td>Food</td>\n",
       "      <td>1.96</td>\n",
       "      <td>1.96</td>\n",
       "      <td>0.00</td>\n",
       "      <td>617.79</td>\n",
       "      <td>18</td>\n",
       "      <td>10</td>\n",
       "      <td>October</td>\n",
       "      <td>4</td>\n",
       "      <td>Thursday</td>\n",
       "      <td>4</td>\n",
       "    </tr>\n",
       "    <tr>\n",
       "      <td>52</td>\n",
       "      <td>10/4/18</td>\n",
       "      <td>0</td>\n",
       "      <td>SQ *SQ *MAMA MIA PIZZA     ATLA</td>\n",
       "      <td>Food</td>\n",
       "      <td>3.81</td>\n",
       "      <td>3.81</td>\n",
       "      <td>0.00</td>\n",
       "      <td>609.68</td>\n",
       "      <td>18</td>\n",
       "      <td>10</td>\n",
       "      <td>October</td>\n",
       "      <td>4</td>\n",
       "      <td>Thursday</td>\n",
       "      <td>4</td>\n",
       "    </tr>\n",
       "    <tr>\n",
       "      <td>53</td>\n",
       "      <td>10/4/18</td>\n",
       "      <td>0</td>\n",
       "      <td>STARBUCKS STORE 08209      ATLA</td>\n",
       "      <td>Food</td>\n",
       "      <td>4.30</td>\n",
       "      <td>4.30</td>\n",
       "      <td>0.00</td>\n",
       "      <td>613.49</td>\n",
       "      <td>18</td>\n",
       "      <td>10</td>\n",
       "      <td>October</td>\n",
       "      <td>4</td>\n",
       "      <td>Thursday</td>\n",
       "      <td>4</td>\n",
       "    </tr>\n",
       "    <tr>\n",
       "      <td>54</td>\n",
       "      <td>10/5/18</td>\n",
       "      <td>0</td>\n",
       "      <td>VIP BILLIARDS              DULU</td>\n",
       "      <td>Entertainment</td>\n",
       "      <td>18.00</td>\n",
       "      <td>18.00</td>\n",
       "      <td>0.00</td>\n",
       "      <td>590.93</td>\n",
       "      <td>18</td>\n",
       "      <td>10</td>\n",
       "      <td>October</td>\n",
       "      <td>5</td>\n",
       "      <td>Friday</td>\n",
       "      <td>5</td>\n",
       "    </tr>\n",
       "    <tr>\n",
       "      <td>55</td>\n",
       "      <td>10/9/18</td>\n",
       "      <td>0</td>\n",
       "      <td>SQUARE *SQ *EZENTEA LL     CHAM</td>\n",
       "      <td>Money Transfer - Debit</td>\n",
       "      <td>3.74</td>\n",
       "      <td>3.74</td>\n",
       "      <td>0.00</td>\n",
       "      <td>558.43</td>\n",
       "      <td>18</td>\n",
       "      <td>10</td>\n",
       "      <td>October</td>\n",
       "      <td>9</td>\n",
       "      <td>Tuesday</td>\n",
       "      <td>2</td>\n",
       "    </tr>\n",
       "    <tr>\n",
       "      <td>56</td>\n",
       "      <td>10/9/18</td>\n",
       "      <td>0</td>\n",
       "      <td>QT 831        07008311     DULU</td>\n",
       "      <td>Food</td>\n",
       "      <td>5.77</td>\n",
       "      <td>5.77</td>\n",
       "      <td>0.00</td>\n",
       "      <td>575.17</td>\n",
       "      <td>18</td>\n",
       "      <td>10</td>\n",
       "      <td>October</td>\n",
       "      <td>9</td>\n",
       "      <td>Tuesday</td>\n",
       "      <td>2</td>\n",
       "    </tr>\n",
       "    <tr>\n",
       "      <td>57</td>\n",
       "      <td>10/9/18</td>\n",
       "      <td>0</td>\n",
       "      <td>EPC*FORTNITE               919-</td>\n",
       "      <td>Entertainment</td>\n",
       "      <td>9.99</td>\n",
       "      <td>9.99</td>\n",
       "      <td>0.00</td>\n",
       "      <td>580.94</td>\n",
       "      <td>18</td>\n",
       "      <td>10</td>\n",
       "      <td>October</td>\n",
       "      <td>9</td>\n",
       "      <td>Tuesday</td>\n",
       "      <td>2</td>\n",
       "    </tr>\n",
       "    <tr>\n",
       "      <td>58</td>\n",
       "      <td>10/9/18</td>\n",
       "      <td>0</td>\n",
       "      <td>VIP BILLIARDS              DULU</td>\n",
       "      <td>Entertainment</td>\n",
       "      <td>13.00</td>\n",
       "      <td>13.00</td>\n",
       "      <td>0.00</td>\n",
       "      <td>562.17</td>\n",
       "      <td>18</td>\n",
       "      <td>10</td>\n",
       "      <td>October</td>\n",
       "      <td>9</td>\n",
       "      <td>Tuesday</td>\n",
       "      <td>2</td>\n",
       "    </tr>\n",
       "    <tr>\n",
       "      <td>59</td>\n",
       "      <td>10/10/18</td>\n",
       "      <td>0</td>\n",
       "      <td>SQU*SQ *BEST CAJUN ASI     ATLA</td>\n",
       "      <td>Food</td>\n",
       "      <td>7.75</td>\n",
       "      <td>7.75</td>\n",
       "      <td>0.00</td>\n",
       "      <td>550.68</td>\n",
       "      <td>18</td>\n",
       "      <td>10</td>\n",
       "      <td>October</td>\n",
       "      <td>10</td>\n",
       "      <td>Wednesday</td>\n",
       "      <td>3</td>\n",
       "    </tr>\n",
       "    <tr>\n",
       "      <td>60</td>\n",
       "      <td>10/11/18</td>\n",
       "      <td>0</td>\n",
       "      <td>WILLYS GEORGIA STATE       ATLA</td>\n",
       "      <td>Food</td>\n",
       "      <td>1.09</td>\n",
       "      <td>1.09</td>\n",
       "      <td>0.00</td>\n",
       "      <td>536.36</td>\n",
       "      <td>18</td>\n",
       "      <td>10</td>\n",
       "      <td>October</td>\n",
       "      <td>11</td>\n",
       "      <td>Thursday</td>\n",
       "      <td>4</td>\n",
       "    </tr>\n",
       "    <tr>\n",
       "      <td>61</td>\n",
       "      <td>10/11/18</td>\n",
       "      <td>0</td>\n",
       "      <td>DUNKIN #310092 Q35         ATLA</td>\n",
       "      <td>Food</td>\n",
       "      <td>6.28</td>\n",
       "      <td>6.28</td>\n",
       "      <td>0.00</td>\n",
       "      <td>537.45</td>\n",
       "      <td>18</td>\n",
       "      <td>10</td>\n",
       "      <td>October</td>\n",
       "      <td>11</td>\n",
       "      <td>Thursday</td>\n",
       "      <td>4</td>\n",
       "    </tr>\n",
       "    <tr>\n",
       "      <td>62</td>\n",
       "      <td>10/11/18</td>\n",
       "      <td>0</td>\n",
       "      <td>SAXBYS - GSU               ATLA</td>\n",
       "      <td>Food</td>\n",
       "      <td>6.95</td>\n",
       "      <td>6.95</td>\n",
       "      <td>0.00</td>\n",
       "      <td>543.73</td>\n",
       "      <td>18</td>\n",
       "      <td>10</td>\n",
       "      <td>October</td>\n",
       "      <td>11</td>\n",
       "      <td>Thursday</td>\n",
       "      <td>4</td>\n",
       "    </tr>\n",
       "    <tr>\n",
       "      <td>63</td>\n",
       "      <td>10/11/18</td>\n",
       "      <td>0</td>\n",
       "      <td>MOE S SW GRILL 125 QPS     NORC</td>\n",
       "      <td>Food</td>\n",
       "      <td>16.67</td>\n",
       "      <td>16.67</td>\n",
       "      <td>0.00</td>\n",
       "      <td>519.69</td>\n",
       "      <td>18</td>\n",
       "      <td>10</td>\n",
       "      <td>October</td>\n",
       "      <td>11</td>\n",
       "      <td>Thursday</td>\n",
       "      <td>4</td>\n",
       "    </tr>\n",
       "    <tr>\n",
       "      <td>64</td>\n",
       "      <td>10/12/18</td>\n",
       "      <td>0</td>\n",
       "      <td>SQU*SQ *EBRIK COFFEE R     ATLA</td>\n",
       "      <td>Food</td>\n",
       "      <td>6.99</td>\n",
       "      <td>6.99</td>\n",
       "      <td>0.00</td>\n",
       "      <td>512.70</td>\n",
       "      <td>18</td>\n",
       "      <td>10</td>\n",
       "      <td>October</td>\n",
       "      <td>12</td>\n",
       "      <td>Friday</td>\n",
       "      <td>5</td>\n",
       "    </tr>\n",
       "    <tr>\n",
       "      <td>65</td>\n",
       "      <td>10/15/18</td>\n",
       "      <td>0</td>\n",
       "      <td>BURGER KING #6506  Q07     NORC</td>\n",
       "      <td>Food</td>\n",
       "      <td>2.96</td>\n",
       "      <td>2.96</td>\n",
       "      <td>0.00</td>\n",
       "      <td>497.74</td>\n",
       "      <td>18</td>\n",
       "      <td>10</td>\n",
       "      <td>October</td>\n",
       "      <td>15</td>\n",
       "      <td>Monday</td>\n",
       "      <td>1</td>\n",
       "    </tr>\n",
       "    <tr>\n",
       "      <td>66</td>\n",
       "      <td>10/15/18</td>\n",
       "      <td>0</td>\n",
       "      <td>CVS/PHARMACY #             ATLA</td>\n",
       "      <td>Grocery</td>\n",
       "      <td>5.01</td>\n",
       "      <td>5.01</td>\n",
       "      <td>0.00</td>\n",
       "      <td>466.07</td>\n",
       "      <td>18</td>\n",
       "      <td>10</td>\n",
       "      <td>October</td>\n",
       "      <td>15</td>\n",
       "      <td>Monday</td>\n",
       "      <td>1</td>\n",
       "    </tr>\n",
       "    <tr>\n",
       "      <td>67</td>\n",
       "      <td>10/15/18</td>\n",
       "      <td>0</td>\n",
       "      <td>LANIER PARKING 2101170     ATLA</td>\n",
       "      <td>Transportation</td>\n",
       "      <td>12.00</td>\n",
       "      <td>12.00</td>\n",
       "      <td>0.00</td>\n",
       "      <td>500.70</td>\n",
       "      <td>18</td>\n",
       "      <td>10</td>\n",
       "      <td>October</td>\n",
       "      <td>15</td>\n",
       "      <td>Monday</td>\n",
       "      <td>1</td>\n",
       "    </tr>\n",
       "    <tr>\n",
       "      <td>68</td>\n",
       "      <td>10/15/18</td>\n",
       "      <td>0</td>\n",
       "      <td>KROGER FU 3455             DULU</td>\n",
       "      <td>Gasoline</td>\n",
       "      <td>26.66</td>\n",
       "      <td>26.66</td>\n",
       "      <td>0.00</td>\n",
       "      <td>471.08</td>\n",
       "      <td>18</td>\n",
       "      <td>10</td>\n",
       "      <td>October</td>\n",
       "      <td>15</td>\n",
       "      <td>Monday</td>\n",
       "      <td>1</td>\n",
       "    </tr>\n",
       "    <tr>\n",
       "      <td>69</td>\n",
       "      <td>10/16/18</td>\n",
       "      <td>0</td>\n",
       "      <td>WAFFLE HOUSE 1890          ATLA</td>\n",
       "      <td>Food</td>\n",
       "      <td>3.00</td>\n",
       "      <td>3.00</td>\n",
       "      <td>0.00</td>\n",
       "      <td>463.07</td>\n",
       "      <td>18</td>\n",
       "      <td>10</td>\n",
       "      <td>October</td>\n",
       "      <td>16</td>\n",
       "      <td>Tuesday</td>\n",
       "      <td>2</td>\n",
       "    </tr>\n",
       "    <tr>\n",
       "      <td>70</td>\n",
       "      <td>10/17/18</td>\n",
       "      <td>0</td>\n",
       "      <td>WILLYS GEORGIA STATE       ATLA</td>\n",
       "      <td>Food</td>\n",
       "      <td>7.57</td>\n",
       "      <td>7.57</td>\n",
       "      <td>0.00</td>\n",
       "      <td>455.50</td>\n",
       "      <td>18</td>\n",
       "      <td>10</td>\n",
       "      <td>October</td>\n",
       "      <td>17</td>\n",
       "      <td>Wednesday</td>\n",
       "      <td>3</td>\n",
       "    </tr>\n",
       "    <tr>\n",
       "      <td>71</td>\n",
       "      <td>10/17/18</td>\n",
       "      <td>0</td>\n",
       "      <td>QUIKTRIP                   DULU</td>\n",
       "      <td>Gasoline</td>\n",
       "      <td>25.26</td>\n",
       "      <td>25.26</td>\n",
       "      <td>0.00</td>\n",
       "      <td>430.24</td>\n",
       "      <td>18</td>\n",
       "      <td>10</td>\n",
       "      <td>October</td>\n",
       "      <td>17</td>\n",
       "      <td>Wednesday</td>\n",
       "      <td>3</td>\n",
       "    </tr>\n",
       "    <tr>\n",
       "      <td>72</td>\n",
       "      <td>10/18/18</td>\n",
       "      <td>0</td>\n",
       "      <td>SAXBYS - GSU               ATLA</td>\n",
       "      <td>Food</td>\n",
       "      <td>1.96</td>\n",
       "      <td>1.96</td>\n",
       "      <td>0.00</td>\n",
       "      <td>428.28</td>\n",
       "      <td>18</td>\n",
       "      <td>10</td>\n",
       "      <td>October</td>\n",
       "      <td>18</td>\n",
       "      <td>Thursday</td>\n",
       "      <td>4</td>\n",
       "    </tr>\n",
       "    <tr>\n",
       "      <td>73</td>\n",
       "      <td>10/18/18</td>\n",
       "      <td>0</td>\n",
       "      <td>TACO MAC 21                DULU</td>\n",
       "      <td>Food</td>\n",
       "      <td>34.33</td>\n",
       "      <td>34.33</td>\n",
       "      <td>0.00</td>\n",
       "      <td>393.95</td>\n",
       "      <td>18</td>\n",
       "      <td>10</td>\n",
       "      <td>October</td>\n",
       "      <td>18</td>\n",
       "      <td>Thursday</td>\n",
       "      <td>4</td>\n",
       "    </tr>\n",
       "    <tr>\n",
       "      <td>74</td>\n",
       "      <td>10/19/18</td>\n",
       "      <td>0</td>\n",
       "      <td>VENMO            CASHOUT</td>\n",
       "      <td>Money Transfer - Credit</td>\n",
       "      <td>9.99</td>\n",
       "      <td>0.00</td>\n",
       "      <td>9.99</td>\n",
       "      <td>403.94</td>\n",
       "      <td>18</td>\n",
       "      <td>10</td>\n",
       "      <td>October</td>\n",
       "      <td>19</td>\n",
       "      <td>Friday</td>\n",
       "      <td>5</td>\n",
       "    </tr>\n",
       "    <tr>\n",
       "      <td>75</td>\n",
       "      <td>10/19/18</td>\n",
       "      <td>0</td>\n",
       "      <td>KROGER 38 3455             DULU</td>\n",
       "      <td>Food</td>\n",
       "      <td>2.20</td>\n",
       "      <td>2.20</td>\n",
       "      <td>0.00</td>\n",
       "      <td>390.74</td>\n",
       "      <td>18</td>\n",
       "      <td>10</td>\n",
       "      <td>October</td>\n",
       "      <td>19</td>\n",
       "      <td>Friday</td>\n",
       "      <td>5</td>\n",
       "    </tr>\n",
       "    <tr>\n",
       "      <td>76</td>\n",
       "      <td>10/19/18</td>\n",
       "      <td>0</td>\n",
       "      <td>VIP BILLIARDS              DULU</td>\n",
       "      <td>Entertainment</td>\n",
       "      <td>11.00</td>\n",
       "      <td>11.00</td>\n",
       "      <td>0.00</td>\n",
       "      <td>392.94</td>\n",
       "      <td>18</td>\n",
       "      <td>10</td>\n",
       "      <td>October</td>\n",
       "      <td>19</td>\n",
       "      <td>Friday</td>\n",
       "      <td>5</td>\n",
       "    </tr>\n",
       "    <tr>\n",
       "      <td>77</td>\n",
       "      <td>10/19/18</td>\n",
       "      <td>0</td>\n",
       "      <td>VENMO            PAYMENT    142</td>\n",
       "      <td>Money Transfer - Debit</td>\n",
       "      <td>27.33</td>\n",
       "      <td>27.33</td>\n",
       "      <td>0.00</td>\n",
       "      <td>363.41</td>\n",
       "      <td>18</td>\n",
       "      <td>10</td>\n",
       "      <td>October</td>\n",
       "      <td>19</td>\n",
       "      <td>Friday</td>\n",
       "      <td>5</td>\n",
       "    </tr>\n",
       "    <tr>\n",
       "      <td>78</td>\n",
       "      <td>10/23/18</td>\n",
       "      <td>0</td>\n",
       "      <td>QT 831        07008311     DULU</td>\n",
       "      <td>Food</td>\n",
       "      <td>0.52</td>\n",
       "      <td>0.52</td>\n",
       "      <td>0.00</td>\n",
       "      <td>362.89</td>\n",
       "      <td>18</td>\n",
       "      <td>10</td>\n",
       "      <td>October</td>\n",
       "      <td>23</td>\n",
       "      <td>Tuesday</td>\n",
       "      <td>2</td>\n",
       "    </tr>\n",
       "    <tr>\n",
       "      <td>79</td>\n",
       "      <td>10/23/18</td>\n",
       "      <td>506</td>\n",
       "      <td>CHECK</td>\n",
       "      <td>Withdrawal</td>\n",
       "      <td>25.00</td>\n",
       "      <td>25.00</td>\n",
       "      <td>0.00</td>\n",
       "      <td>337.89</td>\n",
       "      <td>18</td>\n",
       "      <td>10</td>\n",
       "      <td>October</td>\n",
       "      <td>23</td>\n",
       "      <td>Tuesday</td>\n",
       "      <td>2</td>\n",
       "    </tr>\n",
       "    <tr>\n",
       "      <td>80</td>\n",
       "      <td>10/24/18</td>\n",
       "      <td>0</td>\n",
       "      <td>WALGREENS STOR             ATLA</td>\n",
       "      <td>Food</td>\n",
       "      <td>3.15</td>\n",
       "      <td>3.15</td>\n",
       "      <td>0.00</td>\n",
       "      <td>321.41</td>\n",
       "      <td>18</td>\n",
       "      <td>10</td>\n",
       "      <td>October</td>\n",
       "      <td>24</td>\n",
       "      <td>Wednesday</td>\n",
       "      <td>3</td>\n",
       "    </tr>\n",
       "    <tr>\n",
       "      <td>81</td>\n",
       "      <td>10/24/18</td>\n",
       "      <td>0</td>\n",
       "      <td>CHICK-FIL-A #00821         DULU</td>\n",
       "      <td>Food</td>\n",
       "      <td>3.59</td>\n",
       "      <td>3.59</td>\n",
       "      <td>0.00</td>\n",
       "      <td>334.30</td>\n",
       "      <td>18</td>\n",
       "      <td>10</td>\n",
       "      <td>October</td>\n",
       "      <td>24</td>\n",
       "      <td>Wednesday</td>\n",
       "      <td>3</td>\n",
       "    </tr>\n",
       "    <tr>\n",
       "      <td>82</td>\n",
       "      <td>10/24/18</td>\n",
       "      <td>0</td>\n",
       "      <td>GSU PANTHER DINING RET     ATLA</td>\n",
       "      <td>Food</td>\n",
       "      <td>9.74</td>\n",
       "      <td>9.74</td>\n",
       "      <td>0.00</td>\n",
       "      <td>324.56</td>\n",
       "      <td>18</td>\n",
       "      <td>10</td>\n",
       "      <td>October</td>\n",
       "      <td>24</td>\n",
       "      <td>Wednesday</td>\n",
       "      <td>3</td>\n",
       "    </tr>\n",
       "    <tr>\n",
       "      <td>83</td>\n",
       "      <td>10/24/18</td>\n",
       "      <td>0</td>\n",
       "      <td>ALLY BANK        $TRANSFER  140</td>\n",
       "      <td>Ally Transfer - To</td>\n",
       "      <td>50.00</td>\n",
       "      <td>50.00</td>\n",
       "      <td>0.00</td>\n",
       "      <td>271.41</td>\n",
       "      <td>18</td>\n",
       "      <td>10</td>\n",
       "      <td>October</td>\n",
       "      <td>24</td>\n",
       "      <td>Wednesday</td>\n",
       "      <td>3</td>\n",
       "    </tr>\n",
       "    <tr>\n",
       "      <td>84</td>\n",
       "      <td>10/25/18</td>\n",
       "      <td>0</td>\n",
       "      <td>DUNKIN #310092 Q35         ATLA</td>\n",
       "      <td>Food</td>\n",
       "      <td>1.75</td>\n",
       "      <td>1.75</td>\n",
       "      <td>0.00</td>\n",
       "      <td>269.66</td>\n",
       "      <td>18</td>\n",
       "      <td>10</td>\n",
       "      <td>October</td>\n",
       "      <td>25</td>\n",
       "      <td>Thursday</td>\n",
       "      <td>4</td>\n",
       "    </tr>\n",
       "    <tr>\n",
       "      <td>85</td>\n",
       "      <td>10/26/18</td>\n",
       "      <td>0</td>\n",
       "      <td>CHEVRON/EAST MARIETTA      MARI</td>\n",
       "      <td>Food</td>\n",
       "      <td>3.05</td>\n",
       "      <td>3.05</td>\n",
       "      <td>0.00</td>\n",
       "      <td>196.01</td>\n",
       "      <td>18</td>\n",
       "      <td>10</td>\n",
       "      <td>October</td>\n",
       "      <td>26</td>\n",
       "      <td>Friday</td>\n",
       "      <td>5</td>\n",
       "    </tr>\n",
       "    <tr>\n",
       "      <td>86</td>\n",
       "      <td>10/26/18</td>\n",
       "      <td>0</td>\n",
       "      <td>038FBV STUDIO MOVIE GR     MARI</td>\n",
       "      <td>Entertainment</td>\n",
       "      <td>7.00</td>\n",
       "      <td>7.00</td>\n",
       "      <td>0.00</td>\n",
       "      <td>189.01</td>\n",
       "      <td>18</td>\n",
       "      <td>10</td>\n",
       "      <td>October</td>\n",
       "      <td>26</td>\n",
       "      <td>Friday</td>\n",
       "      <td>5</td>\n",
       "    </tr>\n",
       "    <tr>\n",
       "      <td>87</td>\n",
       "      <td>10/26/18</td>\n",
       "      <td>0</td>\n",
       "      <td>038BOX STUDIO MOVIE GR     MARI</td>\n",
       "      <td>Entertainment</td>\n",
       "      <td>8.75</td>\n",
       "      <td>8.75</td>\n",
       "      <td>0.00</td>\n",
       "      <td>199.06</td>\n",
       "      <td>18</td>\n",
       "      <td>10</td>\n",
       "      <td>October</td>\n",
       "      <td>26</td>\n",
       "      <td>Friday</td>\n",
       "      <td>5</td>\n",
       "    </tr>\n",
       "    <tr>\n",
       "      <td>88</td>\n",
       "      <td>10/26/18</td>\n",
       "      <td>0</td>\n",
       "      <td>PHO HOUSE.                 DULU</td>\n",
       "      <td>Food</td>\n",
       "      <td>13.06</td>\n",
       "      <td>13.06</td>\n",
       "      <td>0.00</td>\n",
       "      <td>256.60</td>\n",
       "      <td>18</td>\n",
       "      <td>10</td>\n",
       "      <td>October</td>\n",
       "      <td>26</td>\n",
       "      <td>Friday</td>\n",
       "      <td>5</td>\n",
       "    </tr>\n",
       "    <tr>\n",
       "      <td>89</td>\n",
       "      <td>10/26/18</td>\n",
       "      <td>0</td>\n",
       "      <td>QUIKTRIP                   DULU</td>\n",
       "      <td>Gasoline</td>\n",
       "      <td>20.98</td>\n",
       "      <td>20.98</td>\n",
       "      <td>0.00</td>\n",
       "      <td>207.81</td>\n",
       "      <td>18</td>\n",
       "      <td>10</td>\n",
       "      <td>October</td>\n",
       "      <td>26</td>\n",
       "      <td>Friday</td>\n",
       "      <td>5</td>\n",
       "    </tr>\n",
       "    <tr>\n",
       "      <td>90</td>\n",
       "      <td>10/26/18</td>\n",
       "      <td>0</td>\n",
       "      <td>PARTY CITY 143             DULU</td>\n",
       "      <td>Entertainment</td>\n",
       "      <td>27.81</td>\n",
       "      <td>27.81</td>\n",
       "      <td>0.00</td>\n",
       "      <td>228.79</td>\n",
       "      <td>18</td>\n",
       "      <td>10</td>\n",
       "      <td>October</td>\n",
       "      <td>26</td>\n",
       "      <td>Friday</td>\n",
       "      <td>5</td>\n",
       "    </tr>\n",
       "    <tr>\n",
       "      <td>91</td>\n",
       "      <td>10/29/18</td>\n",
       "      <td>0</td>\n",
       "      <td>VENMO            PAYMENT    145</td>\n",
       "      <td>Money Transfer - Debit</td>\n",
       "      <td>1.00</td>\n",
       "      <td>1.00</td>\n",
       "      <td>0.00</td>\n",
       "      <td>144.17</td>\n",
       "      <td>18</td>\n",
       "      <td>10</td>\n",
       "      <td>October</td>\n",
       "      <td>29</td>\n",
       "      <td>Monday</td>\n",
       "      <td>1</td>\n",
       "    </tr>\n",
       "    <tr>\n",
       "      <td>92</td>\n",
       "      <td>10/29/18</td>\n",
       "      <td>0</td>\n",
       "      <td>VENMO            PAYMENT    145</td>\n",
       "      <td>Money Transfer - Debit</td>\n",
       "      <td>1.00</td>\n",
       "      <td>1.00</td>\n",
       "      <td>0.00</td>\n",
       "      <td>145.17</td>\n",
       "      <td>18</td>\n",
       "      <td>10</td>\n",
       "      <td>October</td>\n",
       "      <td>29</td>\n",
       "      <td>Monday</td>\n",
       "      <td>1</td>\n",
       "    </tr>\n",
       "    <tr>\n",
       "      <td>93</td>\n",
       "      <td>10/29/18</td>\n",
       "      <td>0</td>\n",
       "      <td>KROGER 381                 DULU</td>\n",
       "      <td>Grocery</td>\n",
       "      <td>5.09</td>\n",
       "      <td>5.09</td>\n",
       "      <td>0.00</td>\n",
       "      <td>154.32</td>\n",
       "      <td>18</td>\n",
       "      <td>10</td>\n",
       "      <td>October</td>\n",
       "      <td>29</td>\n",
       "      <td>Monday</td>\n",
       "      <td>1</td>\n",
       "    </tr>\n",
       "    <tr>\n",
       "      <td>94</td>\n",
       "      <td>10/29/18</td>\n",
       "      <td>0</td>\n",
       "      <td>LANIER PARKING 2101170     ATLA</td>\n",
       "      <td>Transportation</td>\n",
       "      <td>6.00</td>\n",
       "      <td>6.00</td>\n",
       "      <td>0.00</td>\n",
       "      <td>183.01</td>\n",
       "      <td>18</td>\n",
       "      <td>10</td>\n",
       "      <td>October</td>\n",
       "      <td>29</td>\n",
       "      <td>Monday</td>\n",
       "      <td>1</td>\n",
       "    </tr>\n",
       "    <tr>\n",
       "      <td>95</td>\n",
       "      <td>10/29/18</td>\n",
       "      <td>0</td>\n",
       "      <td>CHICK-FIL-A #00821         DULU</td>\n",
       "      <td>Food</td>\n",
       "      <td>8.15</td>\n",
       "      <td>8.15</td>\n",
       "      <td>0.00</td>\n",
       "      <td>146.17</td>\n",
       "      <td>18</td>\n",
       "      <td>10</td>\n",
       "      <td>October</td>\n",
       "      <td>29</td>\n",
       "      <td>Monday</td>\n",
       "      <td>1</td>\n",
       "    </tr>\n",
       "    <tr>\n",
       "      <td>96</td>\n",
       "      <td>10/29/18</td>\n",
       "      <td>0</td>\n",
       "      <td>VENMO            PAYMENT    144</td>\n",
       "      <td>Money Transfer - Debit</td>\n",
       "      <td>13.00</td>\n",
       "      <td>13.00</td>\n",
       "      <td>0.00</td>\n",
       "      <td>131.17</td>\n",
       "      <td>18</td>\n",
       "      <td>10</td>\n",
       "      <td>October</td>\n",
       "      <td>29</td>\n",
       "      <td>Monday</td>\n",
       "      <td>1</td>\n",
       "    </tr>\n",
       "    <tr>\n",
       "      <td>97</td>\n",
       "      <td>10/29/18</td>\n",
       "      <td>0</td>\n",
       "      <td>DRY COUNTY BREWING         KENN</td>\n",
       "      <td>Entertainment</td>\n",
       "      <td>23.60</td>\n",
       "      <td>23.60</td>\n",
       "      <td>0.00</td>\n",
       "      <td>159.41</td>\n",
       "      <td>18</td>\n",
       "      <td>10</td>\n",
       "      <td>October</td>\n",
       "      <td>29</td>\n",
       "      <td>Monday</td>\n",
       "      <td>1</td>\n",
       "    </tr>\n",
       "    <tr>\n",
       "      <td>98</td>\n",
       "      <td>10/30/18</td>\n",
       "      <td>0</td>\n",
       "      <td>PARTY CITY 143             DULU</td>\n",
       "      <td>Entertainment</td>\n",
       "      <td>9.28</td>\n",
       "      <td>9.28</td>\n",
       "      <td>0.00</td>\n",
       "      <td>121.89</td>\n",
       "      <td>18</td>\n",
       "      <td>10</td>\n",
       "      <td>October</td>\n",
       "      <td>30</td>\n",
       "      <td>Tuesday</td>\n",
       "      <td>2</td>\n",
       "    </tr>\n",
       "    <tr>\n",
       "      <td>99</td>\n",
       "      <td>10/31/18</td>\n",
       "      <td>0</td>\n",
       "      <td>BURGER KING #9649  Q07     ATLA</td>\n",
       "      <td>Food</td>\n",
       "      <td>6.31</td>\n",
       "      <td>6.31</td>\n",
       "      <td>0.00</td>\n",
       "      <td>115.58</td>\n",
       "      <td>18</td>\n",
       "      <td>10</td>\n",
       "      <td>October</td>\n",
       "      <td>31</td>\n",
       "      <td>Wednesday</td>\n",
       "      <td>3</td>\n",
       "    </tr>\n",
       "  </tbody>\n",
       "</table>\n",
       "</div>"
      ],
      "text/plain": [
       "        Date  Check Number                       Description  \\\n",
       "40   10/1/18             0   SWEET HUT BAKERY   CAF     DULU   \n",
       "41   10/1/18             0   COOK OUT TUCKER            TUCK   \n",
       "42   10/1/18             0   WALGREENS 25 P             ATLA   \n",
       "43   10/1/18             0   EINSTEIN BROS BAGELS31     DULU   \n",
       "44   10/1/18             0   LANIER PARKING 2101170     ATLA   \n",
       "45   10/1/18             0   QUIKTRIP                   DULU   \n",
       "46   10/1/18             0   QUIKTRIP                   DULU   \n",
       "47   10/2/18             0   KROGER 38 3455             DULU   \n",
       "48   10/3/18             0   SQU*SQ *BLOSSOM TREE       ATLA   \n",
       "49   10/3/18             0   SUBWAY        00202341     ATLA   \n",
       "50   10/4/18             0   CMSVEND*GEORGIA VENDIN     ALPH   \n",
       "51   10/4/18             0   SAXBYS - GSU               ATLA   \n",
       "52   10/4/18             0   SQ *SQ *MAMA MIA PIZZA     ATLA   \n",
       "53   10/4/18             0   STARBUCKS STORE 08209      ATLA   \n",
       "54   10/5/18             0   VIP BILLIARDS              DULU   \n",
       "55   10/9/18             0   SQUARE *SQ *EZENTEA LL     CHAM   \n",
       "56   10/9/18             0   QT 831        07008311     DULU   \n",
       "57   10/9/18             0   EPC*FORTNITE               919-   \n",
       "58   10/9/18             0   VIP BILLIARDS              DULU   \n",
       "59  10/10/18             0   SQU*SQ *BEST CAJUN ASI     ATLA   \n",
       "60  10/11/18             0   WILLYS GEORGIA STATE       ATLA   \n",
       "61  10/11/18             0   DUNKIN #310092 Q35         ATLA   \n",
       "62  10/11/18             0   SAXBYS - GSU               ATLA   \n",
       "63  10/11/18             0   MOE S SW GRILL 125 QPS     NORC   \n",
       "64  10/12/18             0   SQU*SQ *EBRIK COFFEE R     ATLA   \n",
       "65  10/15/18             0   BURGER KING #6506  Q07     NORC   \n",
       "66  10/15/18             0   CVS/PHARMACY #             ATLA   \n",
       "67  10/15/18             0   LANIER PARKING 2101170     ATLA   \n",
       "68  10/15/18             0   KROGER FU 3455             DULU   \n",
       "69  10/16/18             0   WAFFLE HOUSE 1890          ATLA   \n",
       "70  10/17/18             0   WILLYS GEORGIA STATE       ATLA   \n",
       "71  10/17/18             0   QUIKTRIP                   DULU   \n",
       "72  10/18/18             0   SAXBYS - GSU               ATLA   \n",
       "73  10/18/18             0   TACO MAC 21                DULU   \n",
       "74  10/19/18             0   VENMO            CASHOUT          \n",
       "75  10/19/18             0   KROGER 38 3455             DULU   \n",
       "76  10/19/18             0   VIP BILLIARDS              DULU   \n",
       "77  10/19/18             0   VENMO            PAYMENT    142   \n",
       "78  10/23/18             0   QT 831        07008311     DULU   \n",
       "79  10/23/18           506                             CHECK   \n",
       "80  10/24/18             0   WALGREENS STOR             ATLA   \n",
       "81  10/24/18             0   CHICK-FIL-A #00821         DULU   \n",
       "82  10/24/18             0   GSU PANTHER DINING RET     ATLA   \n",
       "83  10/24/18             0   ALLY BANK        $TRANSFER  140   \n",
       "84  10/25/18             0   DUNKIN #310092 Q35         ATLA   \n",
       "85  10/26/18             0   CHEVRON/EAST MARIETTA      MARI   \n",
       "86  10/26/18             0   038FBV STUDIO MOVIE GR     MARI   \n",
       "87  10/26/18             0   038BOX STUDIO MOVIE GR     MARI   \n",
       "88  10/26/18             0   PHO HOUSE.                 DULU   \n",
       "89  10/26/18             0   QUIKTRIP                   DULU   \n",
       "90  10/26/18             0   PARTY CITY 143             DULU   \n",
       "91  10/29/18             0   VENMO            PAYMENT    145   \n",
       "92  10/29/18             0   VENMO            PAYMENT    145   \n",
       "93  10/29/18             0   KROGER 381                 DULU   \n",
       "94  10/29/18             0   LANIER PARKING 2101170     ATLA   \n",
       "95  10/29/18             0   CHICK-FIL-A #00821         DULU   \n",
       "96  10/29/18             0   VENMO            PAYMENT    144   \n",
       "97  10/29/18             0   DRY COUNTY BREWING         KENN   \n",
       "98  10/30/18             0   PARTY CITY 143             DULU   \n",
       "99  10/31/18             0   BURGER KING #9649  Q07     ATLA   \n",
       "\n",
       "                       Type  Charge  Debit  Credit  Running Balance Year  \\\n",
       "40                     Food    2.70   2.70    0.00           709.75   18   \n",
       "41                     Food    5.39   5.39    0.00           694.36   18   \n",
       "42                  Grocery    8.70   8.70    0.00           638.09   18   \n",
       "43                     Food    8.88   8.88    0.00           685.48   18   \n",
       "44           Transportation   10.00  10.00    0.00           699.75   18   \n",
       "45                 Gasoline   26.49  26.49    0.00           712.45   18   \n",
       "46                 Gasoline   38.69  38.69    0.00           646.79   18   \n",
       "47                     Food    1.53   1.53    0.00           636.56   18   \n",
       "48                     Food    7.51   7.51    0.00           619.75   18   \n",
       "49                     Food    9.30   9.30    0.00           627.26   18   \n",
       "50                     Food    0.75   0.75    0.00           608.93   18   \n",
       "51                     Food    1.96   1.96    0.00           617.79   18   \n",
       "52                     Food    3.81   3.81    0.00           609.68   18   \n",
       "53                     Food    4.30   4.30    0.00           613.49   18   \n",
       "54            Entertainment   18.00  18.00    0.00           590.93   18   \n",
       "55   Money Transfer - Debit    3.74   3.74    0.00           558.43   18   \n",
       "56                     Food    5.77   5.77    0.00           575.17   18   \n",
       "57            Entertainment    9.99   9.99    0.00           580.94   18   \n",
       "58            Entertainment   13.00  13.00    0.00           562.17   18   \n",
       "59                     Food    7.75   7.75    0.00           550.68   18   \n",
       "60                     Food    1.09   1.09    0.00           536.36   18   \n",
       "61                     Food    6.28   6.28    0.00           537.45   18   \n",
       "62                     Food    6.95   6.95    0.00           543.73   18   \n",
       "63                     Food   16.67  16.67    0.00           519.69   18   \n",
       "64                     Food    6.99   6.99    0.00           512.70   18   \n",
       "65                     Food    2.96   2.96    0.00           497.74   18   \n",
       "66                  Grocery    5.01   5.01    0.00           466.07   18   \n",
       "67           Transportation   12.00  12.00    0.00           500.70   18   \n",
       "68                 Gasoline   26.66  26.66    0.00           471.08   18   \n",
       "69                     Food    3.00   3.00    0.00           463.07   18   \n",
       "70                     Food    7.57   7.57    0.00           455.50   18   \n",
       "71                 Gasoline   25.26  25.26    0.00           430.24   18   \n",
       "72                     Food    1.96   1.96    0.00           428.28   18   \n",
       "73                     Food   34.33  34.33    0.00           393.95   18   \n",
       "74  Money Transfer - Credit    9.99   0.00    9.99           403.94   18   \n",
       "75                     Food    2.20   2.20    0.00           390.74   18   \n",
       "76            Entertainment   11.00  11.00    0.00           392.94   18   \n",
       "77   Money Transfer - Debit   27.33  27.33    0.00           363.41   18   \n",
       "78                     Food    0.52   0.52    0.00           362.89   18   \n",
       "79               Withdrawal   25.00  25.00    0.00           337.89   18   \n",
       "80                     Food    3.15   3.15    0.00           321.41   18   \n",
       "81                     Food    3.59   3.59    0.00           334.30   18   \n",
       "82                     Food    9.74   9.74    0.00           324.56   18   \n",
       "83       Ally Transfer - To   50.00  50.00    0.00           271.41   18   \n",
       "84                     Food    1.75   1.75    0.00           269.66   18   \n",
       "85                     Food    3.05   3.05    0.00           196.01   18   \n",
       "86            Entertainment    7.00   7.00    0.00           189.01   18   \n",
       "87            Entertainment    8.75   8.75    0.00           199.06   18   \n",
       "88                     Food   13.06  13.06    0.00           256.60   18   \n",
       "89                 Gasoline   20.98  20.98    0.00           207.81   18   \n",
       "90            Entertainment   27.81  27.81    0.00           228.79   18   \n",
       "91   Money Transfer - Debit    1.00   1.00    0.00           144.17   18   \n",
       "92   Money Transfer - Debit    1.00   1.00    0.00           145.17   18   \n",
       "93                  Grocery    5.09   5.09    0.00           154.32   18   \n",
       "94           Transportation    6.00   6.00    0.00           183.01   18   \n",
       "95                     Food    8.15   8.15    0.00           146.17   18   \n",
       "96   Money Transfer - Debit   13.00  13.00    0.00           131.17   18   \n",
       "97            Entertainment   23.60  23.60    0.00           159.41   18   \n",
       "98            Entertainment    9.28   9.28    0.00           121.89   18   \n",
       "99                     Food    6.31   6.31    0.00           115.58   18   \n",
       "\n",
       "   Month MonthName Day    DayName  DayCode  \n",
       "40    10   October   1     Monday        1  \n",
       "41    10   October   1     Monday        1  \n",
       "42    10   October   1     Monday        1  \n",
       "43    10   October   1     Monday        1  \n",
       "44    10   October   1     Monday        1  \n",
       "45    10   October   1     Monday        1  \n",
       "46    10   October   1     Monday        1  \n",
       "47    10   October   2    Tuesday        2  \n",
       "48    10   October   3  Wednesday        3  \n",
       "49    10   October   3  Wednesday        3  \n",
       "50    10   October   4   Thursday        4  \n",
       "51    10   October   4   Thursday        4  \n",
       "52    10   October   4   Thursday        4  \n",
       "53    10   October   4   Thursday        4  \n",
       "54    10   October   5     Friday        5  \n",
       "55    10   October   9    Tuesday        2  \n",
       "56    10   October   9    Tuesday        2  \n",
       "57    10   October   9    Tuesday        2  \n",
       "58    10   October   9    Tuesday        2  \n",
       "59    10   October  10  Wednesday        3  \n",
       "60    10   October  11   Thursday        4  \n",
       "61    10   October  11   Thursday        4  \n",
       "62    10   October  11   Thursday        4  \n",
       "63    10   October  11   Thursday        4  \n",
       "64    10   October  12     Friday        5  \n",
       "65    10   October  15     Monday        1  \n",
       "66    10   October  15     Monday        1  \n",
       "67    10   October  15     Monday        1  \n",
       "68    10   October  15     Monday        1  \n",
       "69    10   October  16    Tuesday        2  \n",
       "70    10   October  17  Wednesday        3  \n",
       "71    10   October  17  Wednesday        3  \n",
       "72    10   October  18   Thursday        4  \n",
       "73    10   October  18   Thursday        4  \n",
       "74    10   October  19     Friday        5  \n",
       "75    10   October  19     Friday        5  \n",
       "76    10   October  19     Friday        5  \n",
       "77    10   October  19     Friday        5  \n",
       "78    10   October  23    Tuesday        2  \n",
       "79    10   October  23    Tuesday        2  \n",
       "80    10   October  24  Wednesday        3  \n",
       "81    10   October  24  Wednesday        3  \n",
       "82    10   October  24  Wednesday        3  \n",
       "83    10   October  24  Wednesday        3  \n",
       "84    10   October  25   Thursday        4  \n",
       "85    10   October  26     Friday        5  \n",
       "86    10   October  26     Friday        5  \n",
       "87    10   October  26     Friday        5  \n",
       "88    10   October  26     Friday        5  \n",
       "89    10   October  26     Friday        5  \n",
       "90    10   October  26     Friday        5  \n",
       "91    10   October  29     Monday        1  \n",
       "92    10   October  29     Monday        1  \n",
       "93    10   October  29     Monday        1  \n",
       "94    10   October  29     Monday        1  \n",
       "95    10   October  29     Monday        1  \n",
       "96    10   October  29     Monday        1  \n",
       "97    10   October  29     Monday        1  \n",
       "98    10   October  30    Tuesday        2  \n",
       "99    10   October  31  Wednesday        3  "
      ]
     },
     "metadata": {},
     "output_type": "display_data"
    },
    {
     "data": {
      "text/html": [
       "<div>\n",
       "<style scoped>\n",
       "    .dataframe tbody tr th:only-of-type {\n",
       "        vertical-align: middle;\n",
       "    }\n",
       "\n",
       "    .dataframe tbody tr th {\n",
       "        vertical-align: top;\n",
       "    }\n",
       "\n",
       "    .dataframe thead th {\n",
       "        text-align: right;\n",
       "    }\n",
       "</style>\n",
       "<table border=\"1\" class=\"dataframe\">\n",
       "  <thead>\n",
       "    <tr style=\"text-align: right;\">\n",
       "      <th></th>\n",
       "      <th>Date</th>\n",
       "      <th>Check Number</th>\n",
       "      <th>Description</th>\n",
       "      <th>Type</th>\n",
       "      <th>Charge</th>\n",
       "      <th>Debit</th>\n",
       "      <th>Credit</th>\n",
       "      <th>Running Balance</th>\n",
       "      <th>Year</th>\n",
       "      <th>Month</th>\n",
       "      <th>MonthName</th>\n",
       "      <th>Day</th>\n",
       "      <th>DayName</th>\n",
       "      <th>DayCode</th>\n",
       "    </tr>\n",
       "  </thead>\n",
       "  <tbody>\n",
       "    <tr>\n",
       "      <td>100</td>\n",
       "      <td>11/1/18</td>\n",
       "      <td>0</td>\n",
       "      <td>KROGER FU 3455             DULU</td>\n",
       "      <td>Gasoline</td>\n",
       "      <td>23.46</td>\n",
       "      <td>23.46</td>\n",
       "      <td>0.0</td>\n",
       "      <td>92.12</td>\n",
       "      <td>18</td>\n",
       "      <td>11</td>\n",
       "      <td>November</td>\n",
       "      <td>1</td>\n",
       "      <td>Thursday</td>\n",
       "      <td>4</td>\n",
       "    </tr>\n",
       "    <tr>\n",
       "      <td>101</td>\n",
       "      <td>11/2/18</td>\n",
       "      <td>0</td>\n",
       "      <td>KURA REVOLVING SUSHI B     DORA</td>\n",
       "      <td>Food</td>\n",
       "      <td>33.00</td>\n",
       "      <td>33.00</td>\n",
       "      <td>0.0</td>\n",
       "      <td>59.12</td>\n",
       "      <td>18</td>\n",
       "      <td>11</td>\n",
       "      <td>November</td>\n",
       "      <td>2</td>\n",
       "      <td>Friday</td>\n",
       "      <td>5</td>\n",
       "    </tr>\n",
       "    <tr>\n",
       "      <td>102</td>\n",
       "      <td>11/5/18</td>\n",
       "      <td>0</td>\n",
       "      <td>RACETRAC 2409              DULU</td>\n",
       "      <td>Gasoline</td>\n",
       "      <td>22.12</td>\n",
       "      <td>22.12</td>\n",
       "      <td>0.0</td>\n",
       "      <td>37.00</td>\n",
       "      <td>18</td>\n",
       "      <td>11</td>\n",
       "      <td>November</td>\n",
       "      <td>5</td>\n",
       "      <td>Monday</td>\n",
       "      <td>1</td>\n",
       "    </tr>\n",
       "    <tr>\n",
       "      <td>103</td>\n",
       "      <td>11/6/18</td>\n",
       "      <td>0</td>\n",
       "      <td>BOJANGLES 200301020031     DULU</td>\n",
       "      <td>Food</td>\n",
       "      <td>1.05</td>\n",
       "      <td>1.05</td>\n",
       "      <td>0.0</td>\n",
       "      <td>35.95</td>\n",
       "      <td>18</td>\n",
       "      <td>11</td>\n",
       "      <td>November</td>\n",
       "      <td>6</td>\n",
       "      <td>Tuesday</td>\n",
       "      <td>2</td>\n",
       "    </tr>\n",
       "    <tr>\n",
       "      <td>104</td>\n",
       "      <td>11/6/18</td>\n",
       "      <td>0</td>\n",
       "      <td>WILLYS GEORGIA STATE       ATLA</td>\n",
       "      <td>Food</td>\n",
       "      <td>1.09</td>\n",
       "      <td>1.09</td>\n",
       "      <td>0.0</td>\n",
       "      <td>30.96</td>\n",
       "      <td>18</td>\n",
       "      <td>11</td>\n",
       "      <td>November</td>\n",
       "      <td>6</td>\n",
       "      <td>Tuesday</td>\n",
       "      <td>2</td>\n",
       "    </tr>\n",
       "    <tr>\n",
       "      <td>105</td>\n",
       "      <td>11/6/18</td>\n",
       "      <td>0</td>\n",
       "      <td>DUNKIN #310092 Q35         ATLA</td>\n",
       "      <td>Food</td>\n",
       "      <td>3.90</td>\n",
       "      <td>3.90</td>\n",
       "      <td>0.0</td>\n",
       "      <td>32.05</td>\n",
       "      <td>18</td>\n",
       "      <td>11</td>\n",
       "      <td>November</td>\n",
       "      <td>6</td>\n",
       "      <td>Tuesday</td>\n",
       "      <td>2</td>\n",
       "    </tr>\n",
       "    <tr>\n",
       "      <td>106</td>\n",
       "      <td>11/7/18</td>\n",
       "      <td>0</td>\n",
       "      <td>MOBILE APP TRANSFER FROM 100002</td>\n",
       "      <td>Money Transfer - Credit</td>\n",
       "      <td>15.00</td>\n",
       "      <td>0.00</td>\n",
       "      <td>15.0</td>\n",
       "      <td>45.96</td>\n",
       "      <td>18</td>\n",
       "      <td>11</td>\n",
       "      <td>November</td>\n",
       "      <td>7</td>\n",
       "      <td>Wednesday</td>\n",
       "      <td>3</td>\n",
       "    </tr>\n",
       "    <tr>\n",
       "      <td>107</td>\n",
       "      <td>11/7/18</td>\n",
       "      <td>0</td>\n",
       "      <td>SQU*SQ *DUA TAKE OUT O     ATLA</td>\n",
       "      <td>Money Transfer - Debit</td>\n",
       "      <td>10.62</td>\n",
       "      <td>10.62</td>\n",
       "      <td>0.0</td>\n",
       "      <td>35.34</td>\n",
       "      <td>18</td>\n",
       "      <td>11</td>\n",
       "      <td>November</td>\n",
       "      <td>7</td>\n",
       "      <td>Wednesday</td>\n",
       "      <td>3</td>\n",
       "    </tr>\n",
       "    <tr>\n",
       "      <td>108</td>\n",
       "      <td>11/8/18</td>\n",
       "      <td>0</td>\n",
       "      <td>LYFT   *RIDE WED 6PM       8552</td>\n",
       "      <td>Transportation</td>\n",
       "      <td>9.28</td>\n",
       "      <td>9.28</td>\n",
       "      <td>0.0</td>\n",
       "      <td>26.06</td>\n",
       "      <td>18</td>\n",
       "      <td>11</td>\n",
       "      <td>November</td>\n",
       "      <td>8</td>\n",
       "      <td>Thursday</td>\n",
       "      <td>4</td>\n",
       "    </tr>\n",
       "    <tr>\n",
       "      <td>109</td>\n",
       "      <td>11/9/18</td>\n",
       "      <td>0</td>\n",
       "      <td>ALLY BANK        P2P</td>\n",
       "      <td>Ally Transfer - From</td>\n",
       "      <td>500.00</td>\n",
       "      <td>0.00</td>\n",
       "      <td>500.0</td>\n",
       "      <td>526.06</td>\n",
       "      <td>18</td>\n",
       "      <td>11</td>\n",
       "      <td>November</td>\n",
       "      <td>9</td>\n",
       "      <td>Friday</td>\n",
       "      <td>5</td>\n",
       "    </tr>\n",
       "    <tr>\n",
       "      <td>110</td>\n",
       "      <td>11/9/18</td>\n",
       "      <td>0</td>\n",
       "      <td>LYFT   *RIDE WED 8PM       8552</td>\n",
       "      <td>Transportation</td>\n",
       "      <td>3.07</td>\n",
       "      <td>3.07</td>\n",
       "      <td>0.0</td>\n",
       "      <td>522.99</td>\n",
       "      <td>18</td>\n",
       "      <td>11</td>\n",
       "      <td>November</td>\n",
       "      <td>9</td>\n",
       "      <td>Friday</td>\n",
       "      <td>5</td>\n",
       "    </tr>\n",
       "    <tr>\n",
       "      <td>111</td>\n",
       "      <td>11/14/18</td>\n",
       "      <td>0</td>\n",
       "      <td>KROGER FU 3455             DULU</td>\n",
       "      <td>Gasoline</td>\n",
       "      <td>22.57</td>\n",
       "      <td>22.57</td>\n",
       "      <td>0.0</td>\n",
       "      <td>500.42</td>\n",
       "      <td>18</td>\n",
       "      <td>11</td>\n",
       "      <td>November</td>\n",
       "      <td>14</td>\n",
       "      <td>Wednesday</td>\n",
       "      <td>3</td>\n",
       "    </tr>\n",
       "    <tr>\n",
       "      <td>112</td>\n",
       "      <td>11/15/18</td>\n",
       "      <td>0</td>\n",
       "      <td>WALGREENS 25 P             ATLA</td>\n",
       "      <td>Food</td>\n",
       "      <td>4.70</td>\n",
       "      <td>4.70</td>\n",
       "      <td>0.0</td>\n",
       "      <td>495.72</td>\n",
       "      <td>18</td>\n",
       "      <td>11</td>\n",
       "      <td>November</td>\n",
       "      <td>15</td>\n",
       "      <td>Thursday</td>\n",
       "      <td>4</td>\n",
       "    </tr>\n",
       "    <tr>\n",
       "      <td>113</td>\n",
       "      <td>11/16/18</td>\n",
       "      <td>0</td>\n",
       "      <td>VENMO            PAYMENT    150</td>\n",
       "      <td>Money Transfer - Debit</td>\n",
       "      <td>311.40</td>\n",
       "      <td>311.40</td>\n",
       "      <td>0.0</td>\n",
       "      <td>184.32</td>\n",
       "      <td>18</td>\n",
       "      <td>11</td>\n",
       "      <td>November</td>\n",
       "      <td>16</td>\n",
       "      <td>Friday</td>\n",
       "      <td>5</td>\n",
       "    </tr>\n",
       "    <tr>\n",
       "      <td>114</td>\n",
       "      <td>11/19/18</td>\n",
       "      <td>0</td>\n",
       "      <td>SQUARE INC       ANTHO</td>\n",
       "      <td>Money Transfer - Credit</td>\n",
       "      <td>11.00</td>\n",
       "      <td>0.00</td>\n",
       "      <td>11.0</td>\n",
       "      <td>195.32</td>\n",
       "      <td>18</td>\n",
       "      <td>11</td>\n",
       "      <td>November</td>\n",
       "      <td>19</td>\n",
       "      <td>Monday</td>\n",
       "      <td>1</td>\n",
       "    </tr>\n",
       "    <tr>\n",
       "      <td>115</td>\n",
       "      <td>11/19/18</td>\n",
       "      <td>0</td>\n",
       "      <td>QUIKTRIP                   DULU</td>\n",
       "      <td>Gasoline</td>\n",
       "      <td>16.13</td>\n",
       "      <td>16.13</td>\n",
       "      <td>0.0</td>\n",
       "      <td>179.19</td>\n",
       "      <td>18</td>\n",
       "      <td>11</td>\n",
       "      <td>November</td>\n",
       "      <td>19</td>\n",
       "      <td>Monday</td>\n",
       "      <td>1</td>\n",
       "    </tr>\n",
       "    <tr>\n",
       "      <td>116</td>\n",
       "      <td>11/20/18</td>\n",
       "      <td>0</td>\n",
       "      <td>CYCLONE PODS               805-</td>\n",
       "      <td>Entertainment</td>\n",
       "      <td>16.65</td>\n",
       "      <td>16.65</td>\n",
       "      <td>0.0</td>\n",
       "      <td>162.54</td>\n",
       "      <td>18</td>\n",
       "      <td>11</td>\n",
       "      <td>November</td>\n",
       "      <td>20</td>\n",
       "      <td>Tuesday</td>\n",
       "      <td>2</td>\n",
       "    </tr>\n",
       "    <tr>\n",
       "      <td>117</td>\n",
       "      <td>11/23/18</td>\n",
       "      <td>0</td>\n",
       "      <td>VENMO            CASHOUT</td>\n",
       "      <td>Money Transfer - Credit</td>\n",
       "      <td>10.00</td>\n",
       "      <td>0.00</td>\n",
       "      <td>10.0</td>\n",
       "      <td>172.54</td>\n",
       "      <td>18</td>\n",
       "      <td>11</td>\n",
       "      <td>November</td>\n",
       "      <td>23</td>\n",
       "      <td>Friday</td>\n",
       "      <td>5</td>\n",
       "    </tr>\n",
       "    <tr>\n",
       "      <td>118</td>\n",
       "      <td>11/23/18</td>\n",
       "      <td>0</td>\n",
       "      <td>ALLY BANK        $TRANSFER  142</td>\n",
       "      <td>Ally Transfer - To</td>\n",
       "      <td>50.00</td>\n",
       "      <td>50.00</td>\n",
       "      <td>0.0</td>\n",
       "      <td>122.54</td>\n",
       "      <td>18</td>\n",
       "      <td>11</td>\n",
       "      <td>November</td>\n",
       "      <td>23</td>\n",
       "      <td>Friday</td>\n",
       "      <td>5</td>\n",
       "    </tr>\n",
       "    <tr>\n",
       "      <td>119</td>\n",
       "      <td>11/27/18</td>\n",
       "      <td>0</td>\n",
       "      <td>ARBYS #8080 ATLANTA        ATLA</td>\n",
       "      <td>Food</td>\n",
       "      <td>3.35</td>\n",
       "      <td>3.35</td>\n",
       "      <td>0.0</td>\n",
       "      <td>115.68</td>\n",
       "      <td>18</td>\n",
       "      <td>11</td>\n",
       "      <td>November</td>\n",
       "      <td>27</td>\n",
       "      <td>Tuesday</td>\n",
       "      <td>2</td>\n",
       "    </tr>\n",
       "    <tr>\n",
       "      <td>120</td>\n",
       "      <td>11/27/18</td>\n",
       "      <td>0</td>\n",
       "      <td>DUNKIN #310092 Q35         ATLA</td>\n",
       "      <td>Food</td>\n",
       "      <td>3.51</td>\n",
       "      <td>3.51</td>\n",
       "      <td>0.0</td>\n",
       "      <td>119.03</td>\n",
       "      <td>18</td>\n",
       "      <td>11</td>\n",
       "      <td>November</td>\n",
       "      <td>27</td>\n",
       "      <td>Tuesday</td>\n",
       "      <td>2</td>\n",
       "    </tr>\n",
       "    <tr>\n",
       "      <td>121</td>\n",
       "      <td>11/28/18</td>\n",
       "      <td>0</td>\n",
       "      <td>SUBWAY        00528034     ATLA</td>\n",
       "      <td>Food</td>\n",
       "      <td>1.41</td>\n",
       "      <td>1.41</td>\n",
       "      <td>0.0</td>\n",
       "      <td>111.63</td>\n",
       "      <td>18</td>\n",
       "      <td>11</td>\n",
       "      <td>November</td>\n",
       "      <td>28</td>\n",
       "      <td>Wednesday</td>\n",
       "      <td>3</td>\n",
       "    </tr>\n",
       "    <tr>\n",
       "      <td>122</td>\n",
       "      <td>11/28/18</td>\n",
       "      <td>0</td>\n",
       "      <td>DUNKIN #302564 Q35         DULU</td>\n",
       "      <td>Food</td>\n",
       "      <td>2.64</td>\n",
       "      <td>2.64</td>\n",
       "      <td>0.0</td>\n",
       "      <td>113.04</td>\n",
       "      <td>18</td>\n",
       "      <td>11</td>\n",
       "      <td>November</td>\n",
       "      <td>28</td>\n",
       "      <td>Wednesday</td>\n",
       "      <td>3</td>\n",
       "    </tr>\n",
       "    <tr>\n",
       "      <td>123</td>\n",
       "      <td>11/28/18</td>\n",
       "      <td>0</td>\n",
       "      <td>BIRD APP                   8662</td>\n",
       "      <td>Transportation</td>\n",
       "      <td>5.20</td>\n",
       "      <td>5.20</td>\n",
       "      <td>0.0</td>\n",
       "      <td>106.43</td>\n",
       "      <td>18</td>\n",
       "      <td>11</td>\n",
       "      <td>November</td>\n",
       "      <td>28</td>\n",
       "      <td>Wednesday</td>\n",
       "      <td>3</td>\n",
       "    </tr>\n",
       "    <tr>\n",
       "      <td>124</td>\n",
       "      <td>11/28/18</td>\n",
       "      <td>0</td>\n",
       "      <td>SQC*CULTUREDFRIEDCH        4153</td>\n",
       "      <td>Money Transfer - Debit</td>\n",
       "      <td>25.00</td>\n",
       "      <td>25.00</td>\n",
       "      <td>0.0</td>\n",
       "      <td>81.43</td>\n",
       "      <td>18</td>\n",
       "      <td>11</td>\n",
       "      <td>November</td>\n",
       "      <td>28</td>\n",
       "      <td>Wednesday</td>\n",
       "      <td>3</td>\n",
       "    </tr>\n",
       "    <tr>\n",
       "      <td>125</td>\n",
       "      <td>11/29/18</td>\n",
       "      <td>0</td>\n",
       "      <td>TJ S SANDWICHES            ATLA</td>\n",
       "      <td>Food</td>\n",
       "      <td>7.07</td>\n",
       "      <td>7.07</td>\n",
       "      <td>0.0</td>\n",
       "      <td>74.36</td>\n",
       "      <td>18</td>\n",
       "      <td>11</td>\n",
       "      <td>November</td>\n",
       "      <td>29</td>\n",
       "      <td>Thursday</td>\n",
       "      <td>4</td>\n",
       "    </tr>\n",
       "    <tr>\n",
       "      <td>126</td>\n",
       "      <td>11/29/18</td>\n",
       "      <td>0</td>\n",
       "      <td>QUIKTRIP                   DULU</td>\n",
       "      <td>Gasoline</td>\n",
       "      <td>20.83</td>\n",
       "      <td>20.83</td>\n",
       "      <td>0.0</td>\n",
       "      <td>53.53</td>\n",
       "      <td>18</td>\n",
       "      <td>11</td>\n",
       "      <td>November</td>\n",
       "      <td>29</td>\n",
       "      <td>Thursday</td>\n",
       "      <td>4</td>\n",
       "    </tr>\n",
       "    <tr>\n",
       "      <td>127</td>\n",
       "      <td>11/30/18</td>\n",
       "      <td>0</td>\n",
       "      <td>ALLY BANK        P2P</td>\n",
       "      <td>Ally Transfer - From</td>\n",
       "      <td>500.00</td>\n",
       "      <td>0.00</td>\n",
       "      <td>500.0</td>\n",
       "      <td>553.53</td>\n",
       "      <td>18</td>\n",
       "      <td>11</td>\n",
       "      <td>November</td>\n",
       "      <td>30</td>\n",
       "      <td>Friday</td>\n",
       "      <td>5</td>\n",
       "    </tr>\n",
       "    <tr>\n",
       "      <td>128</td>\n",
       "      <td>11/30/18</td>\n",
       "      <td>0</td>\n",
       "      <td>QT 831        07008311     DULU</td>\n",
       "      <td>Food</td>\n",
       "      <td>1.16</td>\n",
       "      <td>1.16</td>\n",
       "      <td>0.0</td>\n",
       "      <td>546.83</td>\n",
       "      <td>18</td>\n",
       "      <td>11</td>\n",
       "      <td>November</td>\n",
       "      <td>30</td>\n",
       "      <td>Friday</td>\n",
       "      <td>5</td>\n",
       "    </tr>\n",
       "    <tr>\n",
       "      <td>129</td>\n",
       "      <td>11/30/18</td>\n",
       "      <td>0</td>\n",
       "      <td>FELLINI S PIZZA-PONCE      ATLA</td>\n",
       "      <td>Food</td>\n",
       "      <td>2.00</td>\n",
       "      <td>2.00</td>\n",
       "      <td>0.0</td>\n",
       "      <td>547.99</td>\n",
       "      <td>18</td>\n",
       "      <td>11</td>\n",
       "      <td>November</td>\n",
       "      <td>30</td>\n",
       "      <td>Friday</td>\n",
       "      <td>5</td>\n",
       "    </tr>\n",
       "    <tr>\n",
       "      <td>130</td>\n",
       "      <td>11/30/18</td>\n",
       "      <td>0</td>\n",
       "      <td>DUNKIN #310092 Q35         ATLA</td>\n",
       "      <td>Food</td>\n",
       "      <td>2.44</td>\n",
       "      <td>2.44</td>\n",
       "      <td>0.0</td>\n",
       "      <td>544.39</td>\n",
       "      <td>18</td>\n",
       "      <td>11</td>\n",
       "      <td>November</td>\n",
       "      <td>30</td>\n",
       "      <td>Friday</td>\n",
       "      <td>5</td>\n",
       "    </tr>\n",
       "    <tr>\n",
       "      <td>131</td>\n",
       "      <td>11/30/18</td>\n",
       "      <td>0</td>\n",
       "      <td>FELLINI S PIZZA-PONCE      ATLA</td>\n",
       "      <td>Food</td>\n",
       "      <td>3.54</td>\n",
       "      <td>3.54</td>\n",
       "      <td>0.0</td>\n",
       "      <td>549.99</td>\n",
       "      <td>18</td>\n",
       "      <td>11</td>\n",
       "      <td>November</td>\n",
       "      <td>30</td>\n",
       "      <td>Friday</td>\n",
       "      <td>5</td>\n",
       "    </tr>\n",
       "  </tbody>\n",
       "</table>\n",
       "</div>"
      ],
      "text/plain": [
       "         Date  Check Number                       Description  \\\n",
       "100   11/1/18             0   KROGER FU 3455             DULU   \n",
       "101   11/2/18             0   KURA REVOLVING SUSHI B     DORA   \n",
       "102   11/5/18             0   RACETRAC 2409              DULU   \n",
       "103   11/6/18             0   BOJANGLES 200301020031     DULU   \n",
       "104   11/6/18             0   WILLYS GEORGIA STATE       ATLA   \n",
       "105   11/6/18             0   DUNKIN #310092 Q35         ATLA   \n",
       "106   11/7/18             0   MOBILE APP TRANSFER FROM 100002   \n",
       "107   11/7/18             0   SQU*SQ *DUA TAKE OUT O     ATLA   \n",
       "108   11/8/18             0   LYFT   *RIDE WED 6PM       8552   \n",
       "109   11/9/18             0   ALLY BANK        P2P              \n",
       "110   11/9/18             0   LYFT   *RIDE WED 8PM       8552   \n",
       "111  11/14/18             0   KROGER FU 3455             DULU   \n",
       "112  11/15/18             0   WALGREENS 25 P             ATLA   \n",
       "113  11/16/18             0   VENMO            PAYMENT    150   \n",
       "114  11/19/18             0   SQUARE INC       ANTHO            \n",
       "115  11/19/18             0   QUIKTRIP                   DULU   \n",
       "116  11/20/18             0   CYCLONE PODS               805-   \n",
       "117  11/23/18             0   VENMO            CASHOUT          \n",
       "118  11/23/18             0   ALLY BANK        $TRANSFER  142   \n",
       "119  11/27/18             0   ARBYS #8080 ATLANTA        ATLA   \n",
       "120  11/27/18             0   DUNKIN #310092 Q35         ATLA   \n",
       "121  11/28/18             0   SUBWAY        00528034     ATLA   \n",
       "122  11/28/18             0   DUNKIN #302564 Q35         DULU   \n",
       "123  11/28/18             0   BIRD APP                   8662   \n",
       "124  11/28/18             0   SQC*CULTUREDFRIEDCH        4153   \n",
       "125  11/29/18             0   TJ S SANDWICHES            ATLA   \n",
       "126  11/29/18             0   QUIKTRIP                   DULU   \n",
       "127  11/30/18             0   ALLY BANK        P2P              \n",
       "128  11/30/18             0   QT 831        07008311     DULU   \n",
       "129  11/30/18             0   FELLINI S PIZZA-PONCE      ATLA   \n",
       "130  11/30/18             0   DUNKIN #310092 Q35         ATLA   \n",
       "131  11/30/18             0   FELLINI S PIZZA-PONCE      ATLA   \n",
       "\n",
       "                        Type  Charge   Debit  Credit  Running Balance Year  \\\n",
       "100                 Gasoline   23.46   23.46     0.0            92.12   18   \n",
       "101                     Food   33.00   33.00     0.0            59.12   18   \n",
       "102                 Gasoline   22.12   22.12     0.0            37.00   18   \n",
       "103                     Food    1.05    1.05     0.0            35.95   18   \n",
       "104                     Food    1.09    1.09     0.0            30.96   18   \n",
       "105                     Food    3.90    3.90     0.0            32.05   18   \n",
       "106  Money Transfer - Credit   15.00    0.00    15.0            45.96   18   \n",
       "107   Money Transfer - Debit   10.62   10.62     0.0            35.34   18   \n",
       "108           Transportation    9.28    9.28     0.0            26.06   18   \n",
       "109     Ally Transfer - From  500.00    0.00   500.0           526.06   18   \n",
       "110           Transportation    3.07    3.07     0.0           522.99   18   \n",
       "111                 Gasoline   22.57   22.57     0.0           500.42   18   \n",
       "112                     Food    4.70    4.70     0.0           495.72   18   \n",
       "113   Money Transfer - Debit  311.40  311.40     0.0           184.32   18   \n",
       "114  Money Transfer - Credit   11.00    0.00    11.0           195.32   18   \n",
       "115                 Gasoline   16.13   16.13     0.0           179.19   18   \n",
       "116            Entertainment   16.65   16.65     0.0           162.54   18   \n",
       "117  Money Transfer - Credit   10.00    0.00    10.0           172.54   18   \n",
       "118       Ally Transfer - To   50.00   50.00     0.0           122.54   18   \n",
       "119                     Food    3.35    3.35     0.0           115.68   18   \n",
       "120                     Food    3.51    3.51     0.0           119.03   18   \n",
       "121                     Food    1.41    1.41     0.0           111.63   18   \n",
       "122                     Food    2.64    2.64     0.0           113.04   18   \n",
       "123           Transportation    5.20    5.20     0.0           106.43   18   \n",
       "124   Money Transfer - Debit   25.00   25.00     0.0            81.43   18   \n",
       "125                     Food    7.07    7.07     0.0            74.36   18   \n",
       "126                 Gasoline   20.83   20.83     0.0            53.53   18   \n",
       "127     Ally Transfer - From  500.00    0.00   500.0           553.53   18   \n",
       "128                     Food    1.16    1.16     0.0           546.83   18   \n",
       "129                     Food    2.00    2.00     0.0           547.99   18   \n",
       "130                     Food    2.44    2.44     0.0           544.39   18   \n",
       "131                     Food    3.54    3.54     0.0           549.99   18   \n",
       "\n",
       "    Month MonthName Day    DayName  DayCode  \n",
       "100    11  November   1   Thursday        4  \n",
       "101    11  November   2     Friday        5  \n",
       "102    11  November   5     Monday        1  \n",
       "103    11  November   6    Tuesday        2  \n",
       "104    11  November   6    Tuesday        2  \n",
       "105    11  November   6    Tuesday        2  \n",
       "106    11  November   7  Wednesday        3  \n",
       "107    11  November   7  Wednesday        3  \n",
       "108    11  November   8   Thursday        4  \n",
       "109    11  November   9     Friday        5  \n",
       "110    11  November   9     Friday        5  \n",
       "111    11  November  14  Wednesday        3  \n",
       "112    11  November  15   Thursday        4  \n",
       "113    11  November  16     Friday        5  \n",
       "114    11  November  19     Monday        1  \n",
       "115    11  November  19     Monday        1  \n",
       "116    11  November  20    Tuesday        2  \n",
       "117    11  November  23     Friday        5  \n",
       "118    11  November  23     Friday        5  \n",
       "119    11  November  27    Tuesday        2  \n",
       "120    11  November  27    Tuesday        2  \n",
       "121    11  November  28  Wednesday        3  \n",
       "122    11  November  28  Wednesday        3  \n",
       "123    11  November  28  Wednesday        3  \n",
       "124    11  November  28  Wednesday        3  \n",
       "125    11  November  29   Thursday        4  \n",
       "126    11  November  29   Thursday        4  \n",
       "127    11  November  30     Friday        5  \n",
       "128    11  November  30     Friday        5  \n",
       "129    11  November  30     Friday        5  \n",
       "130    11  November  30     Friday        5  \n",
       "131    11  November  30     Friday        5  "
      ]
     },
     "metadata": {},
     "output_type": "display_data"
    },
    {
     "data": {
      "text/html": [
       "<div>\n",
       "<style scoped>\n",
       "    .dataframe tbody tr th:only-of-type {\n",
       "        vertical-align: middle;\n",
       "    }\n",
       "\n",
       "    .dataframe tbody tr th {\n",
       "        vertical-align: top;\n",
       "    }\n",
       "\n",
       "    .dataframe thead th {\n",
       "        text-align: right;\n",
       "    }\n",
       "</style>\n",
       "<table border=\"1\" class=\"dataframe\">\n",
       "  <thead>\n",
       "    <tr style=\"text-align: right;\">\n",
       "      <th></th>\n",
       "      <th>Date</th>\n",
       "      <th>Check Number</th>\n",
       "      <th>Description</th>\n",
       "      <th>Type</th>\n",
       "      <th>Charge</th>\n",
       "      <th>Debit</th>\n",
       "      <th>Credit</th>\n",
       "      <th>Running Balance</th>\n",
       "      <th>Year</th>\n",
       "      <th>Month</th>\n",
       "      <th>MonthName</th>\n",
       "      <th>Day</th>\n",
       "      <th>DayName</th>\n",
       "      <th>DayCode</th>\n",
       "    </tr>\n",
       "  </thead>\n",
       "  <tbody>\n",
       "    <tr>\n",
       "      <td>132</td>\n",
       "      <td>12/3/18</td>\n",
       "      <td>0</td>\n",
       "      <td>26312 - CITY OF ATLANT     ATLA</td>\n",
       "      <td>Transportation</td>\n",
       "      <td>5.50</td>\n",
       "      <td>5.50</td>\n",
       "      <td>0.00</td>\n",
       "      <td>538.89</td>\n",
       "      <td>18</td>\n",
       "      <td>12</td>\n",
       "      <td>December</td>\n",
       "      <td>3</td>\n",
       "      <td>Monday</td>\n",
       "      <td>1</td>\n",
       "    </tr>\n",
       "    <tr>\n",
       "      <td>133</td>\n",
       "      <td>12/5/18</td>\n",
       "      <td>0</td>\n",
       "      <td>BIRD APP                   8662</td>\n",
       "      <td>Transportation</td>\n",
       "      <td>1.75</td>\n",
       "      <td>1.75</td>\n",
       "      <td>0.00</td>\n",
       "      <td>530.61</td>\n",
       "      <td>18</td>\n",
       "      <td>12</td>\n",
       "      <td>December</td>\n",
       "      <td>5</td>\n",
       "      <td>Wednesday</td>\n",
       "      <td>3</td>\n",
       "    </tr>\n",
       "    <tr>\n",
       "      <td>134</td>\n",
       "      <td>12/5/18</td>\n",
       "      <td>0</td>\n",
       "      <td>BIRD APP                   8662</td>\n",
       "      <td>Transportation</td>\n",
       "      <td>1.75</td>\n",
       "      <td>1.75</td>\n",
       "      <td>0.00</td>\n",
       "      <td>532.36</td>\n",
       "      <td>18</td>\n",
       "      <td>12</td>\n",
       "      <td>December</td>\n",
       "      <td>5</td>\n",
       "      <td>Wednesday</td>\n",
       "      <td>3</td>\n",
       "    </tr>\n",
       "    <tr>\n",
       "      <td>135</td>\n",
       "      <td>12/5/18</td>\n",
       "      <td>0</td>\n",
       "      <td>GSU PANTHER DINING RET     ATLA</td>\n",
       "      <td>Food</td>\n",
       "      <td>4.78</td>\n",
       "      <td>4.78</td>\n",
       "      <td>0.00</td>\n",
       "      <td>534.11</td>\n",
       "      <td>18</td>\n",
       "      <td>12</td>\n",
       "      <td>December</td>\n",
       "      <td>5</td>\n",
       "      <td>Wednesday</td>\n",
       "      <td>3</td>\n",
       "    </tr>\n",
       "    <tr>\n",
       "      <td>136</td>\n",
       "      <td>12/6/18</td>\n",
       "      <td>0</td>\n",
       "      <td>DUNKIN #310092 Q35         ATLA</td>\n",
       "      <td>Food</td>\n",
       "      <td>2.44</td>\n",
       "      <td>2.44</td>\n",
       "      <td>0.00</td>\n",
       "      <td>528.17</td>\n",
       "      <td>18</td>\n",
       "      <td>12</td>\n",
       "      <td>December</td>\n",
       "      <td>6</td>\n",
       "      <td>Thursday</td>\n",
       "      <td>4</td>\n",
       "    </tr>\n",
       "    <tr>\n",
       "      <td>137</td>\n",
       "      <td>12/7/18</td>\n",
       "      <td>0</td>\n",
       "      <td>26312 - CITY OF ATLANT     ATLA</td>\n",
       "      <td>Transportation</td>\n",
       "      <td>4.00</td>\n",
       "      <td>4.00</td>\n",
       "      <td>0.00</td>\n",
       "      <td>524.17</td>\n",
       "      <td>18</td>\n",
       "      <td>12</td>\n",
       "      <td>December</td>\n",
       "      <td>7</td>\n",
       "      <td>Friday</td>\n",
       "      <td>5</td>\n",
       "    </tr>\n",
       "    <tr>\n",
       "      <td>138</td>\n",
       "      <td>12/7/18</td>\n",
       "      <td>0</td>\n",
       "      <td>EPC*FORTNITE               919-</td>\n",
       "      <td>Entertainment</td>\n",
       "      <td>4.99</td>\n",
       "      <td>4.99</td>\n",
       "      <td>0.00</td>\n",
       "      <td>505.48</td>\n",
       "      <td>18</td>\n",
       "      <td>12</td>\n",
       "      <td>December</td>\n",
       "      <td>7</td>\n",
       "      <td>Friday</td>\n",
       "      <td>5</td>\n",
       "    </tr>\n",
       "    <tr>\n",
       "      <td>139</td>\n",
       "      <td>12/7/18</td>\n",
       "      <td>0</td>\n",
       "      <td>TACO MAC 21                DULU</td>\n",
       "      <td>Food</td>\n",
       "      <td>13.70</td>\n",
       "      <td>13.70</td>\n",
       "      <td>0.00</td>\n",
       "      <td>510.47</td>\n",
       "      <td>18</td>\n",
       "      <td>12</td>\n",
       "      <td>December</td>\n",
       "      <td>7</td>\n",
       "      <td>Friday</td>\n",
       "      <td>5</td>\n",
       "    </tr>\n",
       "    <tr>\n",
       "      <td>140</td>\n",
       "      <td>12/7/18</td>\n",
       "      <td>0</td>\n",
       "      <td>RACETRAC490                NORC</td>\n",
       "      <td>Gasoline</td>\n",
       "      <td>21.55</td>\n",
       "      <td>21.55</td>\n",
       "      <td>0.00</td>\n",
       "      <td>483.93</td>\n",
       "      <td>18</td>\n",
       "      <td>12</td>\n",
       "      <td>December</td>\n",
       "      <td>7</td>\n",
       "      <td>Friday</td>\n",
       "      <td>5</td>\n",
       "    </tr>\n",
       "    <tr>\n",
       "      <td>141</td>\n",
       "      <td>12/10/18</td>\n",
       "      <td>0</td>\n",
       "      <td>MARTA                      ATLA</td>\n",
       "      <td>Transportation</td>\n",
       "      <td>5.00</td>\n",
       "      <td>5.00</td>\n",
       "      <td>0.00</td>\n",
       "      <td>456.49</td>\n",
       "      <td>18</td>\n",
       "      <td>12</td>\n",
       "      <td>December</td>\n",
       "      <td>10</td>\n",
       "      <td>Monday</td>\n",
       "      <td>1</td>\n",
       "    </tr>\n",
       "    <tr>\n",
       "      <td>142</td>\n",
       "      <td>12/10/18</td>\n",
       "      <td>0</td>\n",
       "      <td>KURA REVOLVING SUSHI B     DORA</td>\n",
       "      <td>Food</td>\n",
       "      <td>22.44</td>\n",
       "      <td>22.44</td>\n",
       "      <td>0.00</td>\n",
       "      <td>461.49</td>\n",
       "      <td>18</td>\n",
       "      <td>12</td>\n",
       "      <td>December</td>\n",
       "      <td>10</td>\n",
       "      <td>Monday</td>\n",
       "      <td>1</td>\n",
       "    </tr>\n",
       "    <tr>\n",
       "      <td>143</td>\n",
       "      <td>12/12/18</td>\n",
       "      <td>0</td>\n",
       "      <td>THAI STAR                  NORC</td>\n",
       "      <td>Food</td>\n",
       "      <td>6.30</td>\n",
       "      <td>6.30</td>\n",
       "      <td>0.00</td>\n",
       "      <td>442.17</td>\n",
       "      <td>18</td>\n",
       "      <td>12</td>\n",
       "      <td>December</td>\n",
       "      <td>12</td>\n",
       "      <td>Wednesday</td>\n",
       "      <td>3</td>\n",
       "    </tr>\n",
       "    <tr>\n",
       "      <td>144</td>\n",
       "      <td>12/12/18</td>\n",
       "      <td>0</td>\n",
       "      <td>CHICK-FIL-A #00821         DULU</td>\n",
       "      <td>Food</td>\n",
       "      <td>8.02</td>\n",
       "      <td>8.02</td>\n",
       "      <td>0.00</td>\n",
       "      <td>448.47</td>\n",
       "      <td>18</td>\n",
       "      <td>12</td>\n",
       "      <td>December</td>\n",
       "      <td>12</td>\n",
       "      <td>Wednesday</td>\n",
       "      <td>3</td>\n",
       "    </tr>\n",
       "    <tr>\n",
       "      <td>145</td>\n",
       "      <td>12/14/18</td>\n",
       "      <td>0</td>\n",
       "      <td>VENMO            CASHOUT</td>\n",
       "      <td>Money Transfer - Credit</td>\n",
       "      <td>50.00</td>\n",
       "      <td>0.00</td>\n",
       "      <td>50.00</td>\n",
       "      <td>596.71</td>\n",
       "      <td>18</td>\n",
       "      <td>12</td>\n",
       "      <td>December</td>\n",
       "      <td>14</td>\n",
       "      <td>Friday</td>\n",
       "      <td>5</td>\n",
       "    </tr>\n",
       "    <tr>\n",
       "      <td>146</td>\n",
       "      <td>12/14/18</td>\n",
       "      <td>0</td>\n",
       "      <td>ZOES AP          PAYROLL</td>\n",
       "      <td>PayCheck Deposit - Zoes</td>\n",
       "      <td>104.54</td>\n",
       "      <td>0.00</td>\n",
       "      <td>104.54</td>\n",
       "      <td>546.71</td>\n",
       "      <td>18</td>\n",
       "      <td>12</td>\n",
       "      <td>December</td>\n",
       "      <td>14</td>\n",
       "      <td>Friday</td>\n",
       "      <td>5</td>\n",
       "    </tr>\n",
       "    <tr>\n",
       "      <td>147</td>\n",
       "      <td>12/14/18</td>\n",
       "      <td>0</td>\n",
       "      <td>CI CI S NORCROSS #         PEAC</td>\n",
       "      <td>Food</td>\n",
       "      <td>6.56</td>\n",
       "      <td>6.56</td>\n",
       "      <td>0.00</td>\n",
       "      <td>590.15</td>\n",
       "      <td>18</td>\n",
       "      <td>12</td>\n",
       "      <td>December</td>\n",
       "      <td>14</td>\n",
       "      <td>Friday</td>\n",
       "      <td>5</td>\n",
       "    </tr>\n",
       "    <tr>\n",
       "      <td>148</td>\n",
       "      <td>12/17/18</td>\n",
       "      <td>0</td>\n",
       "      <td>DUNKIN #353523 Q35         JOHN</td>\n",
       "      <td>Food</td>\n",
       "      <td>6.56</td>\n",
       "      <td>6.56</td>\n",
       "      <td>0.00</td>\n",
       "      <td>555.90</td>\n",
       "      <td>18</td>\n",
       "      <td>12</td>\n",
       "      <td>December</td>\n",
       "      <td>17</td>\n",
       "      <td>Monday</td>\n",
       "      <td>1</td>\n",
       "    </tr>\n",
       "    <tr>\n",
       "      <td>149</td>\n",
       "      <td>12/17/18</td>\n",
       "      <td>0</td>\n",
       "      <td>BURGER 21 JOHNS CREEK      JOHN</td>\n",
       "      <td>Food</td>\n",
       "      <td>10.69</td>\n",
       "      <td>10.69</td>\n",
       "      <td>0.00</td>\n",
       "      <td>579.46</td>\n",
       "      <td>18</td>\n",
       "      <td>12</td>\n",
       "      <td>December</td>\n",
       "      <td>17</td>\n",
       "      <td>Monday</td>\n",
       "      <td>1</td>\n",
       "    </tr>\n",
       "    <tr>\n",
       "      <td>150</td>\n",
       "      <td>12/17/18</td>\n",
       "      <td>0</td>\n",
       "      <td>IHOP                       DULU</td>\n",
       "      <td>Food</td>\n",
       "      <td>17.00</td>\n",
       "      <td>17.00</td>\n",
       "      <td>0.00</td>\n",
       "      <td>562.46</td>\n",
       "      <td>18</td>\n",
       "      <td>12</td>\n",
       "      <td>December</td>\n",
       "      <td>17</td>\n",
       "      <td>Monday</td>\n",
       "      <td>1</td>\n",
       "    </tr>\n",
       "    <tr>\n",
       "      <td>151</td>\n",
       "      <td>12/18/18</td>\n",
       "      <td>0</td>\n",
       "      <td>ZAXBY S #17501             NORC</td>\n",
       "      <td>Food</td>\n",
       "      <td>4.79</td>\n",
       "      <td>4.79</td>\n",
       "      <td>0.00</td>\n",
       "      <td>228.65</td>\n",
       "      <td>18</td>\n",
       "      <td>12</td>\n",
       "      <td>December</td>\n",
       "      <td>18</td>\n",
       "      <td>Tuesday</td>\n",
       "      <td>2</td>\n",
       "    </tr>\n",
       "    <tr>\n",
       "      <td>152</td>\n",
       "      <td>12/18/18</td>\n",
       "      <td>0</td>\n",
       "      <td>MICRO ELECTRON             DULU</td>\n",
       "      <td>Entertainment</td>\n",
       "      <td>5.29</td>\n",
       "      <td>5.29</td>\n",
       "      <td>0.00</td>\n",
       "      <td>233.44</td>\n",
       "      <td>18</td>\n",
       "      <td>12</td>\n",
       "      <td>December</td>\n",
       "      <td>18</td>\n",
       "      <td>Tuesday</td>\n",
       "      <td>2</td>\n",
       "    </tr>\n",
       "    <tr>\n",
       "      <td>153</td>\n",
       "      <td>12/18/18</td>\n",
       "      <td>0</td>\n",
       "      <td>UPSCALE NAILS              BERK</td>\n",
       "      <td>Withdrawal</td>\n",
       "      <td>40.00</td>\n",
       "      <td>40.00</td>\n",
       "      <td>0.00</td>\n",
       "      <td>515.90</td>\n",
       "      <td>18</td>\n",
       "      <td>12</td>\n",
       "      <td>December</td>\n",
       "      <td>18</td>\n",
       "      <td>Tuesday</td>\n",
       "      <td>2</td>\n",
       "    </tr>\n",
       "    <tr>\n",
       "      <td>154</td>\n",
       "      <td>12/18/18</td>\n",
       "      <td>0</td>\n",
       "      <td>THE HOME DEPOT             DULU</td>\n",
       "      <td>Housing - Repair</td>\n",
       "      <td>80.56</td>\n",
       "      <td>80.56</td>\n",
       "      <td>0.00</td>\n",
       "      <td>148.09</td>\n",
       "      <td>18</td>\n",
       "      <td>12</td>\n",
       "      <td>December</td>\n",
       "      <td>18</td>\n",
       "      <td>Tuesday</td>\n",
       "      <td>2</td>\n",
       "    </tr>\n",
       "    <tr>\n",
       "      <td>155</td>\n",
       "      <td>12/18/18</td>\n",
       "      <td>0</td>\n",
       "      <td>DICK S SPORTIN             NORC</td>\n",
       "      <td>Entertainment</td>\n",
       "      <td>127.17</td>\n",
       "      <td>127.17</td>\n",
       "      <td>0.00</td>\n",
       "      <td>388.73</td>\n",
       "      <td>18</td>\n",
       "      <td>12</td>\n",
       "      <td>December</td>\n",
       "      <td>18</td>\n",
       "      <td>Tuesday</td>\n",
       "      <td>2</td>\n",
       "    </tr>\n",
       "    <tr>\n",
       "      <td>156</td>\n",
       "      <td>12/18/18</td>\n",
       "      <td>0</td>\n",
       "      <td>KROGER 38 3455             DULU</td>\n",
       "      <td>Grocery</td>\n",
       "      <td>150.00</td>\n",
       "      <td>150.00</td>\n",
       "      <td>0.00</td>\n",
       "      <td>238.73</td>\n",
       "      <td>18</td>\n",
       "      <td>12</td>\n",
       "      <td>December</td>\n",
       "      <td>18</td>\n",
       "      <td>Tuesday</td>\n",
       "      <td>2</td>\n",
       "    </tr>\n",
       "    <tr>\n",
       "      <td>157</td>\n",
       "      <td>12/19/18</td>\n",
       "      <td>0</td>\n",
       "      <td>THE HOME DEPOT             DULU</td>\n",
       "      <td>Housing - Repair</td>\n",
       "      <td>5.18</td>\n",
       "      <td>5.18</td>\n",
       "      <td>0.00</td>\n",
       "      <td>124.63</td>\n",
       "      <td>18</td>\n",
       "      <td>12</td>\n",
       "      <td>December</td>\n",
       "      <td>19</td>\n",
       "      <td>Wednesday</td>\n",
       "      <td>3</td>\n",
       "    </tr>\n",
       "    <tr>\n",
       "      <td>158</td>\n",
       "      <td>12/19/18</td>\n",
       "      <td>0</td>\n",
       "      <td>KROGER FU 3455             DULU</td>\n",
       "      <td>Gasoline</td>\n",
       "      <td>18.28</td>\n",
       "      <td>18.28</td>\n",
       "      <td>0.00</td>\n",
       "      <td>129.81</td>\n",
       "      <td>18</td>\n",
       "      <td>12</td>\n",
       "      <td>December</td>\n",
       "      <td>19</td>\n",
       "      <td>Wednesday</td>\n",
       "      <td>3</td>\n",
       "    </tr>\n",
       "    <tr>\n",
       "      <td>159</td>\n",
       "      <td>12/20/18</td>\n",
       "      <td>0</td>\n",
       "      <td>BOJANGLES 200301020031     DULU</td>\n",
       "      <td>Food</td>\n",
       "      <td>1.58</td>\n",
       "      <td>1.58</td>\n",
       "      <td>0.00</td>\n",
       "      <td>123.05</td>\n",
       "      <td>18</td>\n",
       "      <td>12</td>\n",
       "      <td>December</td>\n",
       "      <td>20</td>\n",
       "      <td>Thursday</td>\n",
       "      <td>4</td>\n",
       "    </tr>\n",
       "    <tr>\n",
       "      <td>160</td>\n",
       "      <td>12/21/18</td>\n",
       "      <td>0</td>\n",
       "      <td>KROGER 38 3455             DULU</td>\n",
       "      <td>Grocery</td>\n",
       "      <td>19.22</td>\n",
       "      <td>19.22</td>\n",
       "      <td>0.00</td>\n",
       "      <td>103.83</td>\n",
       "      <td>18</td>\n",
       "      <td>12</td>\n",
       "      <td>December</td>\n",
       "      <td>21</td>\n",
       "      <td>Friday</td>\n",
       "      <td>5</td>\n",
       "    </tr>\n",
       "    <tr>\n",
       "      <td>161</td>\n",
       "      <td>12/24/18</td>\n",
       "      <td>0</td>\n",
       "      <td>BP#9785106INWOOD BP2       INWO</td>\n",
       "      <td>Food</td>\n",
       "      <td>2.77</td>\n",
       "      <td>2.77</td>\n",
       "      <td>0.00</td>\n",
       "      <td>101.06</td>\n",
       "      <td>18</td>\n",
       "      <td>12</td>\n",
       "      <td>December</td>\n",
       "      <td>24</td>\n",
       "      <td>Monday</td>\n",
       "      <td>1</td>\n",
       "    </tr>\n",
       "    <tr>\n",
       "      <td>162</td>\n",
       "      <td>12/24/18</td>\n",
       "      <td>0</td>\n",
       "      <td>VENMO            PAYMENT    160</td>\n",
       "      <td>Money Transfer - Debit</td>\n",
       "      <td>42.00</td>\n",
       "      <td>42.00</td>\n",
       "      <td>0.00</td>\n",
       "      <td>59.06</td>\n",
       "      <td>18</td>\n",
       "      <td>12</td>\n",
       "      <td>December</td>\n",
       "      <td>24</td>\n",
       "      <td>Monday</td>\n",
       "      <td>1</td>\n",
       "    </tr>\n",
       "    <tr>\n",
       "      <td>163</td>\n",
       "      <td>12/24/18</td>\n",
       "      <td>0</td>\n",
       "      <td>ALLY BANK        $TRANSFER  145</td>\n",
       "      <td>Ally Transfer - To</td>\n",
       "      <td>50.00</td>\n",
       "      <td>50.00</td>\n",
       "      <td>0.00</td>\n",
       "      <td>9.06</td>\n",
       "      <td>18</td>\n",
       "      <td>12</td>\n",
       "      <td>December</td>\n",
       "      <td>24</td>\n",
       "      <td>Monday</td>\n",
       "      <td>1</td>\n",
       "    </tr>\n",
       "    <tr>\n",
       "      <td>164</td>\n",
       "      <td>12/28/18</td>\n",
       "      <td>0</td>\n",
       "      <td>ZOES AP          PAYROLL</td>\n",
       "      <td>PayCheck Deposit - Zoes</td>\n",
       "      <td>184.91</td>\n",
       "      <td>0.00</td>\n",
       "      <td>184.91</td>\n",
       "      <td>193.97</td>\n",
       "      <td>18</td>\n",
       "      <td>12</td>\n",
       "      <td>December</td>\n",
       "      <td>28</td>\n",
       "      <td>Friday</td>\n",
       "      <td>5</td>\n",
       "    </tr>\n",
       "    <tr>\n",
       "      <td>165</td>\n",
       "      <td>12/28/18</td>\n",
       "      <td>504</td>\n",
       "      <td>CHECK</td>\n",
       "      <td>Withdrawal</td>\n",
       "      <td>35.00</td>\n",
       "      <td>35.00</td>\n",
       "      <td>0.00</td>\n",
       "      <td>158.97</td>\n",
       "      <td>18</td>\n",
       "      <td>12</td>\n",
       "      <td>December</td>\n",
       "      <td>28</td>\n",
       "      <td>Friday</td>\n",
       "      <td>5</td>\n",
       "    </tr>\n",
       "    <tr>\n",
       "      <td>166</td>\n",
       "      <td>12/31/18</td>\n",
       "      <td>0</td>\n",
       "      <td>MOBILE CHECK DEPOSIT</td>\n",
       "      <td>Deposit</td>\n",
       "      <td>25.00</td>\n",
       "      <td>0.00</td>\n",
       "      <td>25.00</td>\n",
       "      <td>183.97</td>\n",
       "      <td>18</td>\n",
       "      <td>12</td>\n",
       "      <td>December</td>\n",
       "      <td>31</td>\n",
       "      <td>Monday</td>\n",
       "      <td>1</td>\n",
       "    </tr>\n",
       "  </tbody>\n",
       "</table>\n",
       "</div>"
      ],
      "text/plain": [
       "         Date  Check Number                       Description  \\\n",
       "132   12/3/18             0   26312 - CITY OF ATLANT     ATLA   \n",
       "133   12/5/18             0   BIRD APP                   8662   \n",
       "134   12/5/18             0   BIRD APP                   8662   \n",
       "135   12/5/18             0   GSU PANTHER DINING RET     ATLA   \n",
       "136   12/6/18             0   DUNKIN #310092 Q35         ATLA   \n",
       "137   12/7/18             0   26312 - CITY OF ATLANT     ATLA   \n",
       "138   12/7/18             0   EPC*FORTNITE               919-   \n",
       "139   12/7/18             0   TACO MAC 21                DULU   \n",
       "140   12/7/18             0   RACETRAC490                NORC   \n",
       "141  12/10/18             0   MARTA                      ATLA   \n",
       "142  12/10/18             0   KURA REVOLVING SUSHI B     DORA   \n",
       "143  12/12/18             0   THAI STAR                  NORC   \n",
       "144  12/12/18             0   CHICK-FIL-A #00821         DULU   \n",
       "145  12/14/18             0   VENMO            CASHOUT          \n",
       "146  12/14/18             0   ZOES AP          PAYROLL          \n",
       "147  12/14/18             0   CI CI S NORCROSS #         PEAC   \n",
       "148  12/17/18             0   DUNKIN #353523 Q35         JOHN   \n",
       "149  12/17/18             0   BURGER 21 JOHNS CREEK      JOHN   \n",
       "150  12/17/18             0   IHOP                       DULU   \n",
       "151  12/18/18             0   ZAXBY S #17501             NORC   \n",
       "152  12/18/18             0   MICRO ELECTRON             DULU   \n",
       "153  12/18/18             0   UPSCALE NAILS              BERK   \n",
       "154  12/18/18             0   THE HOME DEPOT             DULU   \n",
       "155  12/18/18             0   DICK S SPORTIN             NORC   \n",
       "156  12/18/18             0   KROGER 38 3455             DULU   \n",
       "157  12/19/18             0   THE HOME DEPOT             DULU   \n",
       "158  12/19/18             0   KROGER FU 3455             DULU   \n",
       "159  12/20/18             0   BOJANGLES 200301020031     DULU   \n",
       "160  12/21/18             0   KROGER 38 3455             DULU   \n",
       "161  12/24/18             0   BP#9785106INWOOD BP2       INWO   \n",
       "162  12/24/18             0   VENMO            PAYMENT    160   \n",
       "163  12/24/18             0   ALLY BANK        $TRANSFER  145   \n",
       "164  12/28/18             0   ZOES AP          PAYROLL          \n",
       "165  12/28/18           504                             CHECK   \n",
       "166  12/31/18             0              MOBILE CHECK DEPOSIT   \n",
       "\n",
       "                        Type  Charge   Debit  Credit  Running Balance Year  \\\n",
       "132           Transportation    5.50    5.50    0.00           538.89   18   \n",
       "133           Transportation    1.75    1.75    0.00           530.61   18   \n",
       "134           Transportation    1.75    1.75    0.00           532.36   18   \n",
       "135                     Food    4.78    4.78    0.00           534.11   18   \n",
       "136                     Food    2.44    2.44    0.00           528.17   18   \n",
       "137           Transportation    4.00    4.00    0.00           524.17   18   \n",
       "138            Entertainment    4.99    4.99    0.00           505.48   18   \n",
       "139                     Food   13.70   13.70    0.00           510.47   18   \n",
       "140                 Gasoline   21.55   21.55    0.00           483.93   18   \n",
       "141           Transportation    5.00    5.00    0.00           456.49   18   \n",
       "142                     Food   22.44   22.44    0.00           461.49   18   \n",
       "143                     Food    6.30    6.30    0.00           442.17   18   \n",
       "144                     Food    8.02    8.02    0.00           448.47   18   \n",
       "145  Money Transfer - Credit   50.00    0.00   50.00           596.71   18   \n",
       "146  PayCheck Deposit - Zoes  104.54    0.00  104.54           546.71   18   \n",
       "147                     Food    6.56    6.56    0.00           590.15   18   \n",
       "148                     Food    6.56    6.56    0.00           555.90   18   \n",
       "149                     Food   10.69   10.69    0.00           579.46   18   \n",
       "150                     Food   17.00   17.00    0.00           562.46   18   \n",
       "151                     Food    4.79    4.79    0.00           228.65   18   \n",
       "152            Entertainment    5.29    5.29    0.00           233.44   18   \n",
       "153               Withdrawal   40.00   40.00    0.00           515.90   18   \n",
       "154         Housing - Repair   80.56   80.56    0.00           148.09   18   \n",
       "155            Entertainment  127.17  127.17    0.00           388.73   18   \n",
       "156                  Grocery  150.00  150.00    0.00           238.73   18   \n",
       "157         Housing - Repair    5.18    5.18    0.00           124.63   18   \n",
       "158                 Gasoline   18.28   18.28    0.00           129.81   18   \n",
       "159                     Food    1.58    1.58    0.00           123.05   18   \n",
       "160                  Grocery   19.22   19.22    0.00           103.83   18   \n",
       "161                     Food    2.77    2.77    0.00           101.06   18   \n",
       "162   Money Transfer - Debit   42.00   42.00    0.00            59.06   18   \n",
       "163       Ally Transfer - To   50.00   50.00    0.00             9.06   18   \n",
       "164  PayCheck Deposit - Zoes  184.91    0.00  184.91           193.97   18   \n",
       "165               Withdrawal   35.00   35.00    0.00           158.97   18   \n",
       "166                  Deposit   25.00    0.00   25.00           183.97   18   \n",
       "\n",
       "    Month MonthName Day    DayName  DayCode  \n",
       "132    12  December   3     Monday        1  \n",
       "133    12  December   5  Wednesday        3  \n",
       "134    12  December   5  Wednesday        3  \n",
       "135    12  December   5  Wednesday        3  \n",
       "136    12  December   6   Thursday        4  \n",
       "137    12  December   7     Friday        5  \n",
       "138    12  December   7     Friday        5  \n",
       "139    12  December   7     Friday        5  \n",
       "140    12  December   7     Friday        5  \n",
       "141    12  December  10     Monday        1  \n",
       "142    12  December  10     Monday        1  \n",
       "143    12  December  12  Wednesday        3  \n",
       "144    12  December  12  Wednesday        3  \n",
       "145    12  December  14     Friday        5  \n",
       "146    12  December  14     Friday        5  \n",
       "147    12  December  14     Friday        5  \n",
       "148    12  December  17     Monday        1  \n",
       "149    12  December  17     Monday        1  \n",
       "150    12  December  17     Monday        1  \n",
       "151    12  December  18    Tuesday        2  \n",
       "152    12  December  18    Tuesday        2  \n",
       "153    12  December  18    Tuesday        2  \n",
       "154    12  December  18    Tuesday        2  \n",
       "155    12  December  18    Tuesday        2  \n",
       "156    12  December  18    Tuesday        2  \n",
       "157    12  December  19  Wednesday        3  \n",
       "158    12  December  19  Wednesday        3  \n",
       "159    12  December  20   Thursday        4  \n",
       "160    12  December  21     Friday        5  \n",
       "161    12  December  24     Monday        1  \n",
       "162    12  December  24     Monday        1  \n",
       "163    12  December  24     Monday        1  \n",
       "164    12  December  28     Friday        5  \n",
       "165    12  December  28     Friday        5  \n",
       "166    12  December  31     Monday        1  "
      ]
     },
     "metadata": {},
     "output_type": "display_data"
    },
    {
     "data": {
      "text/html": [
       "<div>\n",
       "<style scoped>\n",
       "    .dataframe tbody tr th:only-of-type {\n",
       "        vertical-align: middle;\n",
       "    }\n",
       "\n",
       "    .dataframe tbody tr th {\n",
       "        vertical-align: top;\n",
       "    }\n",
       "\n",
       "    .dataframe thead th {\n",
       "        text-align: right;\n",
       "    }\n",
       "</style>\n",
       "<table border=\"1\" class=\"dataframe\">\n",
       "  <thead>\n",
       "    <tr style=\"text-align: right;\">\n",
       "      <th></th>\n",
       "      <th>Date</th>\n",
       "      <th>Check Number</th>\n",
       "      <th>Description</th>\n",
       "      <th>Type</th>\n",
       "      <th>Charge</th>\n",
       "      <th>Debit</th>\n",
       "      <th>Credit</th>\n",
       "      <th>Running Balance</th>\n",
       "      <th>Year</th>\n",
       "      <th>Month</th>\n",
       "      <th>MonthName</th>\n",
       "      <th>Day</th>\n",
       "      <th>DayName</th>\n",
       "      <th>DayCode</th>\n",
       "    </tr>\n",
       "  </thead>\n",
       "  <tbody>\n",
       "    <tr>\n",
       "      <td>167</td>\n",
       "      <td>1/2/19</td>\n",
       "      <td>0</td>\n",
       "      <td>QUIKTRIP                   DULU</td>\n",
       "      <td>Gasoline</td>\n",
       "      <td>19.52</td>\n",
       "      <td>19.52</td>\n",
       "      <td>0.00</td>\n",
       "      <td>139.27</td>\n",
       "      <td>19</td>\n",
       "      <td>1</td>\n",
       "      <td>January</td>\n",
       "      <td>2</td>\n",
       "      <td>Wednesday</td>\n",
       "      <td>3</td>\n",
       "    </tr>\n",
       "    <tr>\n",
       "      <td>168</td>\n",
       "      <td>1/2/19</td>\n",
       "      <td>0</td>\n",
       "      <td>PHO HOUSE.                 DULU</td>\n",
       "      <td>Food</td>\n",
       "      <td>25.18</td>\n",
       "      <td>25.18</td>\n",
       "      <td>0.00</td>\n",
       "      <td>158.79</td>\n",
       "      <td>19</td>\n",
       "      <td>1</td>\n",
       "      <td>January</td>\n",
       "      <td>2</td>\n",
       "      <td>Wednesday</td>\n",
       "      <td>3</td>\n",
       "    </tr>\n",
       "    <tr>\n",
       "      <td>169</td>\n",
       "      <td>1/4/19</td>\n",
       "      <td>0</td>\n",
       "      <td>ZOES AP          PAYROLL</td>\n",
       "      <td>PayCheck Deposit - Zoes</td>\n",
       "      <td>41.09</td>\n",
       "      <td>0.00</td>\n",
       "      <td>41.09</td>\n",
       "      <td>180.36</td>\n",
       "      <td>19</td>\n",
       "      <td>1</td>\n",
       "      <td>January</td>\n",
       "      <td>4</td>\n",
       "      <td>Friday</td>\n",
       "      <td>5</td>\n",
       "    </tr>\n",
       "    <tr>\n",
       "      <td>170</td>\n",
       "      <td>1/7/19</td>\n",
       "      <td>0</td>\n",
       "      <td>FELLINI S PIZZA-PONCE      ATLA</td>\n",
       "      <td>Food</td>\n",
       "      <td>5.03</td>\n",
       "      <td>5.03</td>\n",
       "      <td>0.00</td>\n",
       "      <td>175.33</td>\n",
       "      <td>19</td>\n",
       "      <td>1</td>\n",
       "      <td>January</td>\n",
       "      <td>7</td>\n",
       "      <td>Monday</td>\n",
       "      <td>1</td>\n",
       "    </tr>\n",
       "    <tr>\n",
       "      <td>171</td>\n",
       "      <td>1/8/19</td>\n",
       "      <td>0</td>\n",
       "      <td>LEAF GROCERY               CLEV</td>\n",
       "      <td>Grocery</td>\n",
       "      <td>7.52</td>\n",
       "      <td>7.52</td>\n",
       "      <td>0.00</td>\n",
       "      <td>167.81</td>\n",
       "      <td>19</td>\n",
       "      <td>1</td>\n",
       "      <td>January</td>\n",
       "      <td>8</td>\n",
       "      <td>Tuesday</td>\n",
       "      <td>2</td>\n",
       "    </tr>\n",
       "    <tr>\n",
       "      <td>...</td>\n",
       "      <td>...</td>\n",
       "      <td>...</td>\n",
       "      <td>...</td>\n",
       "      <td>...</td>\n",
       "      <td>...</td>\n",
       "      <td>...</td>\n",
       "      <td>...</td>\n",
       "      <td>...</td>\n",
       "      <td>...</td>\n",
       "      <td>...</td>\n",
       "      <td>...</td>\n",
       "      <td>...</td>\n",
       "      <td>...</td>\n",
       "      <td>...</td>\n",
       "    </tr>\n",
       "    <tr>\n",
       "      <td>489</td>\n",
       "      <td>12/23/19</td>\n",
       "      <td>0</td>\n",
       "      <td>VENMO            PAYMENT    289</td>\n",
       "      <td>Money Transfer - Debit</td>\n",
       "      <td>3.00</td>\n",
       "      <td>3.00</td>\n",
       "      <td>0.00</td>\n",
       "      <td>2186.94</td>\n",
       "      <td>19</td>\n",
       "      <td>12</td>\n",
       "      <td>December</td>\n",
       "      <td>23</td>\n",
       "      <td>Monday</td>\n",
       "      <td>1</td>\n",
       "    </tr>\n",
       "    <tr>\n",
       "      <td>490</td>\n",
       "      <td>12/23/19</td>\n",
       "      <td>0</td>\n",
       "      <td>VENMO            PAYMENT    288</td>\n",
       "      <td>Money Transfer - Debit</td>\n",
       "      <td>50.00</td>\n",
       "      <td>50.00</td>\n",
       "      <td>0.00</td>\n",
       "      <td>2136.94</td>\n",
       "      <td>19</td>\n",
       "      <td>12</td>\n",
       "      <td>December</td>\n",
       "      <td>23</td>\n",
       "      <td>Monday</td>\n",
       "      <td>1</td>\n",
       "    </tr>\n",
       "    <tr>\n",
       "      <td>491</td>\n",
       "      <td>12/24/19</td>\n",
       "      <td>0</td>\n",
       "      <td>SQUARE INC       * CASH APP</td>\n",
       "      <td>Money Transfer - Credit</td>\n",
       "      <td>41.00</td>\n",
       "      <td>0.00</td>\n",
       "      <td>41.00</td>\n",
       "      <td>2177.94</td>\n",
       "      <td>19</td>\n",
       "      <td>12</td>\n",
       "      <td>December</td>\n",
       "      <td>24</td>\n",
       "      <td>Tuesday</td>\n",
       "      <td>2</td>\n",
       "    </tr>\n",
       "    <tr>\n",
       "      <td>492</td>\n",
       "      <td>12/26/19</td>\n",
       "      <td>0</td>\n",
       "      <td>SQUARE INC       * CASH APP T20</td>\n",
       "      <td>Money Transfer - Debit</td>\n",
       "      <td>25.00</td>\n",
       "      <td>25.00</td>\n",
       "      <td>0.00</td>\n",
       "      <td>2152.94</td>\n",
       "      <td>19</td>\n",
       "      <td>12</td>\n",
       "      <td>December</td>\n",
       "      <td>26</td>\n",
       "      <td>Thursday</td>\n",
       "      <td>4</td>\n",
       "    </tr>\n",
       "    <tr>\n",
       "      <td>493</td>\n",
       "      <td>12/27/19</td>\n",
       "      <td>0</td>\n",
       "      <td>DEPOSIT</td>\n",
       "      <td>PayCheck Deposit - Bocado</td>\n",
       "      <td>817.17</td>\n",
       "      <td>0.00</td>\n",
       "      <td>817.17</td>\n",
       "      <td>2970.11</td>\n",
       "      <td>19</td>\n",
       "      <td>12</td>\n",
       "      <td>December</td>\n",
       "      <td>27</td>\n",
       "      <td>Friday</td>\n",
       "      <td>5</td>\n",
       "    </tr>\n",
       "  </tbody>\n",
       "</table>\n",
       "<p>327 rows × 14 columns</p>\n",
       "</div>"
      ],
      "text/plain": [
       "         Date  Check Number                       Description  \\\n",
       "167    1/2/19             0   QUIKTRIP                   DULU   \n",
       "168    1/2/19             0   PHO HOUSE.                 DULU   \n",
       "169    1/4/19             0   ZOES AP          PAYROLL          \n",
       "170    1/7/19             0   FELLINI S PIZZA-PONCE      ATLA   \n",
       "171    1/8/19             0   LEAF GROCERY               CLEV   \n",
       "..        ...           ...                               ...   \n",
       "489  12/23/19             0   VENMO            PAYMENT    289   \n",
       "490  12/23/19             0   VENMO            PAYMENT    288   \n",
       "491  12/24/19             0   SQUARE INC       * CASH APP       \n",
       "492  12/26/19             0   SQUARE INC       * CASH APP T20   \n",
       "493  12/27/19             0                           DEPOSIT   \n",
       "\n",
       "                          Type  Charge  Debit  Credit  Running Balance Year  \\\n",
       "167                   Gasoline   19.52  19.52    0.00           139.27   19   \n",
       "168                       Food   25.18  25.18    0.00           158.79   19   \n",
       "169    PayCheck Deposit - Zoes   41.09   0.00   41.09           180.36   19   \n",
       "170                       Food    5.03   5.03    0.00           175.33   19   \n",
       "171                    Grocery    7.52   7.52    0.00           167.81   19   \n",
       "..                         ...     ...    ...     ...              ...  ...   \n",
       "489     Money Transfer - Debit    3.00   3.00    0.00          2186.94   19   \n",
       "490     Money Transfer - Debit   50.00  50.00    0.00          2136.94   19   \n",
       "491    Money Transfer - Credit   41.00   0.00   41.00          2177.94   19   \n",
       "492     Money Transfer - Debit   25.00  25.00    0.00          2152.94   19   \n",
       "493  PayCheck Deposit - Bocado  817.17   0.00  817.17          2970.11   19   \n",
       "\n",
       "    Month MonthName Day    DayName  DayCode  \n",
       "167     1   January   2  Wednesday        3  \n",
       "168     1   January   2  Wednesday        3  \n",
       "169     1   January   4     Friday        5  \n",
       "170     1   January   7     Monday        1  \n",
       "171     1   January   8    Tuesday        2  \n",
       "..    ...       ...  ..        ...      ...  \n",
       "489    12  December  23     Monday        1  \n",
       "490    12  December  23     Monday        1  \n",
       "491    12  December  24    Tuesday        2  \n",
       "492    12  December  26   Thursday        4  \n",
       "493    12  December  27     Friday        5  \n",
       "\n",
       "[327 rows x 14 columns]"
      ]
     },
     "metadata": {},
     "output_type": "display_data"
    },
    {
     "name": "stdout",
     "output_type": "stream",
     "text": [
      "19\n"
     ]
    },
    {
     "data": {
      "text/html": [
       "<div>\n",
       "<style scoped>\n",
       "    .dataframe tbody tr th:only-of-type {\n",
       "        vertical-align: middle;\n",
       "    }\n",
       "\n",
       "    .dataframe tbody tr th {\n",
       "        vertical-align: top;\n",
       "    }\n",
       "\n",
       "    .dataframe thead th {\n",
       "        text-align: right;\n",
       "    }\n",
       "</style>\n",
       "<table border=\"1\" class=\"dataframe\">\n",
       "  <thead>\n",
       "    <tr style=\"text-align: right;\">\n",
       "      <th></th>\n",
       "      <th>Date</th>\n",
       "      <th>Check Number</th>\n",
       "      <th>Description</th>\n",
       "      <th>Type</th>\n",
       "      <th>Charge</th>\n",
       "      <th>Debit</th>\n",
       "      <th>Credit</th>\n",
       "      <th>Running Balance</th>\n",
       "      <th>Year</th>\n",
       "      <th>Month</th>\n",
       "      <th>MonthName</th>\n",
       "      <th>Day</th>\n",
       "      <th>DayName</th>\n",
       "      <th>DayCode</th>\n",
       "    </tr>\n",
       "  </thead>\n",
       "  <tbody>\n",
       "    <tr>\n",
       "      <td>167</td>\n",
       "      <td>1/2/19</td>\n",
       "      <td>0</td>\n",
       "      <td>QUIKTRIP                   DULU</td>\n",
       "      <td>Gasoline</td>\n",
       "      <td>19.52</td>\n",
       "      <td>19.52</td>\n",
       "      <td>0.00</td>\n",
       "      <td>139.27</td>\n",
       "      <td>19</td>\n",
       "      <td>1</td>\n",
       "      <td>January</td>\n",
       "      <td>2</td>\n",
       "      <td>Wednesday</td>\n",
       "      <td>3</td>\n",
       "    </tr>\n",
       "    <tr>\n",
       "      <td>168</td>\n",
       "      <td>1/2/19</td>\n",
       "      <td>0</td>\n",
       "      <td>PHO HOUSE.                 DULU</td>\n",
       "      <td>Food</td>\n",
       "      <td>25.18</td>\n",
       "      <td>25.18</td>\n",
       "      <td>0.00</td>\n",
       "      <td>158.79</td>\n",
       "      <td>19</td>\n",
       "      <td>1</td>\n",
       "      <td>January</td>\n",
       "      <td>2</td>\n",
       "      <td>Wednesday</td>\n",
       "      <td>3</td>\n",
       "    </tr>\n",
       "    <tr>\n",
       "      <td>169</td>\n",
       "      <td>1/4/19</td>\n",
       "      <td>0</td>\n",
       "      <td>ZOES AP          PAYROLL</td>\n",
       "      <td>PayCheck Deposit - Zoes</td>\n",
       "      <td>41.09</td>\n",
       "      <td>0.00</td>\n",
       "      <td>41.09</td>\n",
       "      <td>180.36</td>\n",
       "      <td>19</td>\n",
       "      <td>1</td>\n",
       "      <td>January</td>\n",
       "      <td>4</td>\n",
       "      <td>Friday</td>\n",
       "      <td>5</td>\n",
       "    </tr>\n",
       "    <tr>\n",
       "      <td>170</td>\n",
       "      <td>1/7/19</td>\n",
       "      <td>0</td>\n",
       "      <td>FELLINI S PIZZA-PONCE      ATLA</td>\n",
       "      <td>Food</td>\n",
       "      <td>5.03</td>\n",
       "      <td>5.03</td>\n",
       "      <td>0.00</td>\n",
       "      <td>175.33</td>\n",
       "      <td>19</td>\n",
       "      <td>1</td>\n",
       "      <td>January</td>\n",
       "      <td>7</td>\n",
       "      <td>Monday</td>\n",
       "      <td>1</td>\n",
       "    </tr>\n",
       "    <tr>\n",
       "      <td>171</td>\n",
       "      <td>1/8/19</td>\n",
       "      <td>0</td>\n",
       "      <td>LEAF GROCERY               CLEV</td>\n",
       "      <td>Grocery</td>\n",
       "      <td>7.52</td>\n",
       "      <td>7.52</td>\n",
       "      <td>0.00</td>\n",
       "      <td>167.81</td>\n",
       "      <td>19</td>\n",
       "      <td>1</td>\n",
       "      <td>January</td>\n",
       "      <td>8</td>\n",
       "      <td>Tuesday</td>\n",
       "      <td>2</td>\n",
       "    </tr>\n",
       "    <tr>\n",
       "      <td>172</td>\n",
       "      <td>1/10/19</td>\n",
       "      <td>0</td>\n",
       "      <td>HANSEL AND GRETEL CAND     HELE</td>\n",
       "      <td>Food</td>\n",
       "      <td>8.89</td>\n",
       "      <td>8.89</td>\n",
       "      <td>0.00</td>\n",
       "      <td>112.93</td>\n",
       "      <td>19</td>\n",
       "      <td>1</td>\n",
       "      <td>January</td>\n",
       "      <td>10</td>\n",
       "      <td>Thursday</td>\n",
       "      <td>4</td>\n",
       "    </tr>\n",
       "    <tr>\n",
       "      <td>173</td>\n",
       "      <td>1/10/19</td>\n",
       "      <td>0</td>\n",
       "      <td>BQ WINGS                   DULU</td>\n",
       "      <td>Food</td>\n",
       "      <td>10.00</td>\n",
       "      <td>10.00</td>\n",
       "      <td>0.00</td>\n",
       "      <td>102.93</td>\n",
       "      <td>19</td>\n",
       "      <td>1</td>\n",
       "      <td>January</td>\n",
       "      <td>10</td>\n",
       "      <td>Thursday</td>\n",
       "      <td>4</td>\n",
       "    </tr>\n",
       "    <tr>\n",
       "      <td>174</td>\n",
       "      <td>1/10/19</td>\n",
       "      <td>0</td>\n",
       "      <td>RITE AID STORE             ATLA</td>\n",
       "      <td>Grocery</td>\n",
       "      <td>10.68</td>\n",
       "      <td>10.68</td>\n",
       "      <td>0.00</td>\n",
       "      <td>92.25</td>\n",
       "      <td>19</td>\n",
       "      <td>1</td>\n",
       "      <td>January</td>\n",
       "      <td>10</td>\n",
       "      <td>Thursday</td>\n",
       "      <td>4</td>\n",
       "    </tr>\n",
       "    <tr>\n",
       "      <td>175</td>\n",
       "      <td>1/10/19</td>\n",
       "      <td>0</td>\n",
       "      <td>HOFBRAUHAUS                HELE</td>\n",
       "      <td>Food</td>\n",
       "      <td>45.99</td>\n",
       "      <td>45.99</td>\n",
       "      <td>0.00</td>\n",
       "      <td>121.82</td>\n",
       "      <td>19</td>\n",
       "      <td>1</td>\n",
       "      <td>January</td>\n",
       "      <td>10</td>\n",
       "      <td>Thursday</td>\n",
       "      <td>4</td>\n",
       "    </tr>\n",
       "    <tr>\n",
       "      <td>176</td>\n",
       "      <td>1/14/19</td>\n",
       "      <td>0</td>\n",
       "      <td>PROOF OF THE PUDDING A     DULU</td>\n",
       "      <td>Food</td>\n",
       "      <td>6.00</td>\n",
       "      <td>6.00</td>\n",
       "      <td>0.00</td>\n",
       "      <td>86.25</td>\n",
       "      <td>19</td>\n",
       "      <td>1</td>\n",
       "      <td>January</td>\n",
       "      <td>14</td>\n",
       "      <td>Monday</td>\n",
       "      <td>1</td>\n",
       "    </tr>\n",
       "    <tr>\n",
       "      <td>177</td>\n",
       "      <td>1/14/19</td>\n",
       "      <td>0</td>\n",
       "      <td>3 BROTHERS SMOKE SHOP      DULU</td>\n",
       "      <td>Entertainment</td>\n",
       "      <td>21.20</td>\n",
       "      <td>21.20</td>\n",
       "      <td>0.00</td>\n",
       "      <td>43.72</td>\n",
       "      <td>19</td>\n",
       "      <td>1</td>\n",
       "      <td>January</td>\n",
       "      <td>14</td>\n",
       "      <td>Monday</td>\n",
       "      <td>1</td>\n",
       "    </tr>\n",
       "    <tr>\n",
       "      <td>178</td>\n",
       "      <td>1/14/19</td>\n",
       "      <td>0</td>\n",
       "      <td>QUIKTRIP                   DULU</td>\n",
       "      <td>Gasoline</td>\n",
       "      <td>21.33</td>\n",
       "      <td>21.33</td>\n",
       "      <td>0.00</td>\n",
       "      <td>64.92</td>\n",
       "      <td>19</td>\n",
       "      <td>1</td>\n",
       "      <td>January</td>\n",
       "      <td>14</td>\n",
       "      <td>Monday</td>\n",
       "      <td>1</td>\n",
       "    </tr>\n",
       "    <tr>\n",
       "      <td>179</td>\n",
       "      <td>1/15/19</td>\n",
       "      <td>0</td>\n",
       "      <td>PUBLIX SUPER M             DULU</td>\n",
       "      <td>Food</td>\n",
       "      <td>1.28</td>\n",
       "      <td>1.28</td>\n",
       "      <td>0.00</td>\n",
       "      <td>20.29</td>\n",
       "      <td>19</td>\n",
       "      <td>1</td>\n",
       "      <td>January</td>\n",
       "      <td>15</td>\n",
       "      <td>Tuesday</td>\n",
       "      <td>2</td>\n",
       "    </tr>\n",
       "    <tr>\n",
       "      <td>180</td>\n",
       "      <td>1/15/19</td>\n",
       "      <td>0</td>\n",
       "      <td>DUNKIN #310092 Q35         ATLA</td>\n",
       "      <td>Food</td>\n",
       "      <td>2.44</td>\n",
       "      <td>2.44</td>\n",
       "      <td>0.00</td>\n",
       "      <td>41.28</td>\n",
       "      <td>19</td>\n",
       "      <td>1</td>\n",
       "      <td>January</td>\n",
       "      <td>15</td>\n",
       "      <td>Tuesday</td>\n",
       "      <td>2</td>\n",
       "    </tr>\n",
       "    <tr>\n",
       "      <td>181</td>\n",
       "      <td>1/15/19</td>\n",
       "      <td>0</td>\n",
       "      <td>WILLYS GEORGIA STATE       ATLA</td>\n",
       "      <td>Food</td>\n",
       "      <td>19.71</td>\n",
       "      <td>19.71</td>\n",
       "      <td>0.00</td>\n",
       "      <td>21.57</td>\n",
       "      <td>19</td>\n",
       "      <td>1</td>\n",
       "      <td>January</td>\n",
       "      <td>15</td>\n",
       "      <td>Tuesday</td>\n",
       "      <td>2</td>\n",
       "    </tr>\n",
       "    <tr>\n",
       "      <td>182</td>\n",
       "      <td>1/16/19</td>\n",
       "      <td>0</td>\n",
       "      <td>ALLY BANK        P2P</td>\n",
       "      <td>Mom Fund</td>\n",
       "      <td>200.00</td>\n",
       "      <td>0.00</td>\n",
       "      <td>200.00</td>\n",
       "      <td>220.29</td>\n",
       "      <td>19</td>\n",
       "      <td>1</td>\n",
       "      <td>January</td>\n",
       "      <td>16</td>\n",
       "      <td>Wednesday</td>\n",
       "      <td>3</td>\n",
       "    </tr>\n",
       "    <tr>\n",
       "      <td>183</td>\n",
       "      <td>1/17/19</td>\n",
       "      <td>0</td>\n",
       "      <td>WILLYS GEORGIA STATE       ATLA</td>\n",
       "      <td>Food</td>\n",
       "      <td>1.20</td>\n",
       "      <td>1.20</td>\n",
       "      <td>0.00</td>\n",
       "      <td>214.09</td>\n",
       "      <td>19</td>\n",
       "      <td>1</td>\n",
       "      <td>January</td>\n",
       "      <td>17</td>\n",
       "      <td>Thursday</td>\n",
       "      <td>4</td>\n",
       "    </tr>\n",
       "    <tr>\n",
       "      <td>184</td>\n",
       "      <td>1/17/19</td>\n",
       "      <td>0</td>\n",
       "      <td>AAA PARK 79 JOHN WESLE     ATLA</td>\n",
       "      <td>Transportation</td>\n",
       "      <td>5.00</td>\n",
       "      <td>5.00</td>\n",
       "      <td>0.00</td>\n",
       "      <td>215.29</td>\n",
       "      <td>19</td>\n",
       "      <td>1</td>\n",
       "      <td>January</td>\n",
       "      <td>17</td>\n",
       "      <td>Thursday</td>\n",
       "      <td>4</td>\n",
       "    </tr>\n",
       "    <tr>\n",
       "      <td>185</td>\n",
       "      <td>1/18/19</td>\n",
       "      <td>0</td>\n",
       "      <td>ZOES AP          PAYROLL</td>\n",
       "      <td>PayCheck Deposit - Zoes</td>\n",
       "      <td>154.21</td>\n",
       "      <td>0.00</td>\n",
       "      <td>154.21</td>\n",
       "      <td>368.30</td>\n",
       "      <td>19</td>\n",
       "      <td>1</td>\n",
       "      <td>January</td>\n",
       "      <td>18</td>\n",
       "      <td>Friday</td>\n",
       "      <td>5</td>\n",
       "    </tr>\n",
       "    <tr>\n",
       "      <td>186</td>\n",
       "      <td>1/22/19</td>\n",
       "      <td>0</td>\n",
       "      <td>SENSATIONAL SUBS           ATLA</td>\n",
       "      <td>Food</td>\n",
       "      <td>6.79</td>\n",
       "      <td>6.79</td>\n",
       "      <td>0.00</td>\n",
       "      <td>361.51</td>\n",
       "      <td>19</td>\n",
       "      <td>1</td>\n",
       "      <td>January</td>\n",
       "      <td>22</td>\n",
       "      <td>Tuesday</td>\n",
       "      <td>2</td>\n",
       "    </tr>\n",
       "    <tr>\n",
       "      <td>187</td>\n",
       "      <td>1/23/19</td>\n",
       "      <td>0</td>\n",
       "      <td>DUNKIN #302564 Q35         DULU</td>\n",
       "      <td>Food</td>\n",
       "      <td>5.07</td>\n",
       "      <td>5.07</td>\n",
       "      <td>0.00</td>\n",
       "      <td>356.44</td>\n",
       "      <td>19</td>\n",
       "      <td>1</td>\n",
       "      <td>January</td>\n",
       "      <td>23</td>\n",
       "      <td>Wednesday</td>\n",
       "      <td>3</td>\n",
       "    </tr>\n",
       "    <tr>\n",
       "      <td>188</td>\n",
       "      <td>1/24/19</td>\n",
       "      <td>0</td>\n",
       "      <td>SQU*SQ *EBRIK COFFEE R     ATLA</td>\n",
       "      <td>Food</td>\n",
       "      <td>3.18</td>\n",
       "      <td>3.18</td>\n",
       "      <td>0.00</td>\n",
       "      <td>353.26</td>\n",
       "      <td>19</td>\n",
       "      <td>1</td>\n",
       "      <td>January</td>\n",
       "      <td>24</td>\n",
       "      <td>Thursday</td>\n",
       "      <td>4</td>\n",
       "    </tr>\n",
       "    <tr>\n",
       "      <td>189</td>\n",
       "      <td>1/24/19</td>\n",
       "      <td>0</td>\n",
       "      <td>ARBYS #8080 ATLANTA        ATLA</td>\n",
       "      <td>Food</td>\n",
       "      <td>4.35</td>\n",
       "      <td>4.35</td>\n",
       "      <td>0.00</td>\n",
       "      <td>348.91</td>\n",
       "      <td>19</td>\n",
       "      <td>1</td>\n",
       "      <td>January</td>\n",
       "      <td>24</td>\n",
       "      <td>Thursday</td>\n",
       "      <td>4</td>\n",
       "    </tr>\n",
       "    <tr>\n",
       "      <td>190</td>\n",
       "      <td>1/24/19</td>\n",
       "      <td>0</td>\n",
       "      <td>QUIKTRIP                   DULU</td>\n",
       "      <td>Gasoline</td>\n",
       "      <td>21.83</td>\n",
       "      <td>21.83</td>\n",
       "      <td>0.00</td>\n",
       "      <td>327.08</td>\n",
       "      <td>19</td>\n",
       "      <td>1</td>\n",
       "      <td>January</td>\n",
       "      <td>24</td>\n",
       "      <td>Thursday</td>\n",
       "      <td>4</td>\n",
       "    </tr>\n",
       "    <tr>\n",
       "      <td>191</td>\n",
       "      <td>1/25/19</td>\n",
       "      <td>0</td>\n",
       "      <td>DUNKIN #310092 Q35         ATLA</td>\n",
       "      <td>Food</td>\n",
       "      <td>5.86</td>\n",
       "      <td>5.86</td>\n",
       "      <td>0.00</td>\n",
       "      <td>301.22</td>\n",
       "      <td>19</td>\n",
       "      <td>1</td>\n",
       "      <td>January</td>\n",
       "      <td>25</td>\n",
       "      <td>Friday</td>\n",
       "      <td>5</td>\n",
       "    </tr>\n",
       "    <tr>\n",
       "      <td>192</td>\n",
       "      <td>1/25/19</td>\n",
       "      <td>0</td>\n",
       "      <td>FLYING ROLL                DULU</td>\n",
       "      <td>Food</td>\n",
       "      <td>20.00</td>\n",
       "      <td>20.00</td>\n",
       "      <td>0.00</td>\n",
       "      <td>307.08</td>\n",
       "      <td>19</td>\n",
       "      <td>1</td>\n",
       "      <td>January</td>\n",
       "      <td>25</td>\n",
       "      <td>Friday</td>\n",
       "      <td>5</td>\n",
       "    </tr>\n",
       "    <tr>\n",
       "      <td>193</td>\n",
       "      <td>1/28/19</td>\n",
       "      <td>0</td>\n",
       "      <td>DUNKIN #353523 Q35         JOHN</td>\n",
       "      <td>Food</td>\n",
       "      <td>1.17</td>\n",
       "      <td>1.17</td>\n",
       "      <td>0.00</td>\n",
       "      <td>300.05</td>\n",
       "      <td>19</td>\n",
       "      <td>1</td>\n",
       "      <td>January</td>\n",
       "      <td>28</td>\n",
       "      <td>Monday</td>\n",
       "      <td>1</td>\n",
       "    </tr>\n",
       "    <tr>\n",
       "      <td>194</td>\n",
       "      <td>1/29/19</td>\n",
       "      <td>0</td>\n",
       "      <td>WALGREENS STOR             ATLA</td>\n",
       "      <td>Food</td>\n",
       "      <td>1.88</td>\n",
       "      <td>1.88</td>\n",
       "      <td>0.00</td>\n",
       "      <td>295.01</td>\n",
       "      <td>19</td>\n",
       "      <td>1</td>\n",
       "      <td>January</td>\n",
       "      <td>29</td>\n",
       "      <td>Tuesday</td>\n",
       "      <td>2</td>\n",
       "    </tr>\n",
       "    <tr>\n",
       "      <td>195</td>\n",
       "      <td>1/29/19</td>\n",
       "      <td>0</td>\n",
       "      <td>BIRD APP                   8662</td>\n",
       "      <td>Transportation</td>\n",
       "      <td>2.50</td>\n",
       "      <td>2.50</td>\n",
       "      <td>0.00</td>\n",
       "      <td>292.51</td>\n",
       "      <td>19</td>\n",
       "      <td>1</td>\n",
       "      <td>January</td>\n",
       "      <td>29</td>\n",
       "      <td>Tuesday</td>\n",
       "      <td>2</td>\n",
       "    </tr>\n",
       "    <tr>\n",
       "      <td>196</td>\n",
       "      <td>1/29/19</td>\n",
       "      <td>0</td>\n",
       "      <td>ROSAS PIZZA II             ATLA</td>\n",
       "      <td>Food</td>\n",
       "      <td>3.16</td>\n",
       "      <td>3.16</td>\n",
       "      <td>0.00</td>\n",
       "      <td>296.89</td>\n",
       "      <td>19</td>\n",
       "      <td>1</td>\n",
       "      <td>January</td>\n",
       "      <td>29</td>\n",
       "      <td>Tuesday</td>\n",
       "      <td>2</td>\n",
       "    </tr>\n",
       "    <tr>\n",
       "      <td>197</td>\n",
       "      <td>1/30/19</td>\n",
       "      <td>0</td>\n",
       "      <td>KRISPY KREME DOUGH         DULU</td>\n",
       "      <td>Food</td>\n",
       "      <td>1.15</td>\n",
       "      <td>1.15</td>\n",
       "      <td>0.00</td>\n",
       "      <td>291.36</td>\n",
       "      <td>19</td>\n",
       "      <td>1</td>\n",
       "      <td>January</td>\n",
       "      <td>30</td>\n",
       "      <td>Wednesday</td>\n",
       "      <td>3</td>\n",
       "    </tr>\n",
       "    <tr>\n",
       "      <td>198</td>\n",
       "      <td>1/31/19</td>\n",
       "      <td>0</td>\n",
       "      <td>GSU PANTHER DINING RET     ATLA</td>\n",
       "      <td>Food</td>\n",
       "      <td>6.25</td>\n",
       "      <td>6.25</td>\n",
       "      <td>0.00</td>\n",
       "      <td>285.11</td>\n",
       "      <td>19</td>\n",
       "      <td>1</td>\n",
       "      <td>January</td>\n",
       "      <td>31</td>\n",
       "      <td>Thursday</td>\n",
       "      <td>4</td>\n",
       "    </tr>\n",
       "  </tbody>\n",
       "</table>\n",
       "</div>"
      ],
      "text/plain": [
       "        Date  Check Number                       Description  \\\n",
       "167   1/2/19             0   QUIKTRIP                   DULU   \n",
       "168   1/2/19             0   PHO HOUSE.                 DULU   \n",
       "169   1/4/19             0   ZOES AP          PAYROLL          \n",
       "170   1/7/19             0   FELLINI S PIZZA-PONCE      ATLA   \n",
       "171   1/8/19             0   LEAF GROCERY               CLEV   \n",
       "172  1/10/19             0   HANSEL AND GRETEL CAND     HELE   \n",
       "173  1/10/19             0   BQ WINGS                   DULU   \n",
       "174  1/10/19             0   RITE AID STORE             ATLA   \n",
       "175  1/10/19             0   HOFBRAUHAUS                HELE   \n",
       "176  1/14/19             0   PROOF OF THE PUDDING A     DULU   \n",
       "177  1/14/19             0   3 BROTHERS SMOKE SHOP      DULU   \n",
       "178  1/14/19             0   QUIKTRIP                   DULU   \n",
       "179  1/15/19             0   PUBLIX SUPER M             DULU   \n",
       "180  1/15/19             0   DUNKIN #310092 Q35         ATLA   \n",
       "181  1/15/19             0   WILLYS GEORGIA STATE       ATLA   \n",
       "182  1/16/19             0   ALLY BANK        P2P              \n",
       "183  1/17/19             0   WILLYS GEORGIA STATE       ATLA   \n",
       "184  1/17/19             0   AAA PARK 79 JOHN WESLE     ATLA   \n",
       "185  1/18/19             0   ZOES AP          PAYROLL          \n",
       "186  1/22/19             0   SENSATIONAL SUBS           ATLA   \n",
       "187  1/23/19             0   DUNKIN #302564 Q35         DULU   \n",
       "188  1/24/19             0   SQU*SQ *EBRIK COFFEE R     ATLA   \n",
       "189  1/24/19             0   ARBYS #8080 ATLANTA        ATLA   \n",
       "190  1/24/19             0   QUIKTRIP                   DULU   \n",
       "191  1/25/19             0   DUNKIN #310092 Q35         ATLA   \n",
       "192  1/25/19             0   FLYING ROLL                DULU   \n",
       "193  1/28/19             0   DUNKIN #353523 Q35         JOHN   \n",
       "194  1/29/19             0   WALGREENS STOR             ATLA   \n",
       "195  1/29/19             0   BIRD APP                   8662   \n",
       "196  1/29/19             0   ROSAS PIZZA II             ATLA   \n",
       "197  1/30/19             0   KRISPY KREME DOUGH         DULU   \n",
       "198  1/31/19             0   GSU PANTHER DINING RET     ATLA   \n",
       "\n",
       "                        Type  Charge  Debit  Credit  Running Balance Year  \\\n",
       "167                 Gasoline   19.52  19.52    0.00           139.27   19   \n",
       "168                     Food   25.18  25.18    0.00           158.79   19   \n",
       "169  PayCheck Deposit - Zoes   41.09   0.00   41.09           180.36   19   \n",
       "170                     Food    5.03   5.03    0.00           175.33   19   \n",
       "171                  Grocery    7.52   7.52    0.00           167.81   19   \n",
       "172                     Food    8.89   8.89    0.00           112.93   19   \n",
       "173                     Food   10.00  10.00    0.00           102.93   19   \n",
       "174                  Grocery   10.68  10.68    0.00            92.25   19   \n",
       "175                     Food   45.99  45.99    0.00           121.82   19   \n",
       "176                     Food    6.00   6.00    0.00            86.25   19   \n",
       "177            Entertainment   21.20  21.20    0.00            43.72   19   \n",
       "178                 Gasoline   21.33  21.33    0.00            64.92   19   \n",
       "179                     Food    1.28   1.28    0.00            20.29   19   \n",
       "180                     Food    2.44   2.44    0.00            41.28   19   \n",
       "181                     Food   19.71  19.71    0.00            21.57   19   \n",
       "182                 Mom Fund  200.00   0.00  200.00           220.29   19   \n",
       "183                     Food    1.20   1.20    0.00           214.09   19   \n",
       "184           Transportation    5.00   5.00    0.00           215.29   19   \n",
       "185  PayCheck Deposit - Zoes  154.21   0.00  154.21           368.30   19   \n",
       "186                     Food    6.79   6.79    0.00           361.51   19   \n",
       "187                     Food    5.07   5.07    0.00           356.44   19   \n",
       "188                     Food    3.18   3.18    0.00           353.26   19   \n",
       "189                     Food    4.35   4.35    0.00           348.91   19   \n",
       "190                 Gasoline   21.83  21.83    0.00           327.08   19   \n",
       "191                     Food    5.86   5.86    0.00           301.22   19   \n",
       "192                     Food   20.00  20.00    0.00           307.08   19   \n",
       "193                     Food    1.17   1.17    0.00           300.05   19   \n",
       "194                     Food    1.88   1.88    0.00           295.01   19   \n",
       "195           Transportation    2.50   2.50    0.00           292.51   19   \n",
       "196                     Food    3.16   3.16    0.00           296.89   19   \n",
       "197                     Food    1.15   1.15    0.00           291.36   19   \n",
       "198                     Food    6.25   6.25    0.00           285.11   19   \n",
       "\n",
       "    Month MonthName Day    DayName  DayCode  \n",
       "167     1   January   2  Wednesday        3  \n",
       "168     1   January   2  Wednesday        3  \n",
       "169     1   January   4     Friday        5  \n",
       "170     1   January   7     Monday        1  \n",
       "171     1   January   8    Tuesday        2  \n",
       "172     1   January  10   Thursday        4  \n",
       "173     1   January  10   Thursday        4  \n",
       "174     1   January  10   Thursday        4  \n",
       "175     1   January  10   Thursday        4  \n",
       "176     1   January  14     Monday        1  \n",
       "177     1   January  14     Monday        1  \n",
       "178     1   January  14     Monday        1  \n",
       "179     1   January  15    Tuesday        2  \n",
       "180     1   January  15    Tuesday        2  \n",
       "181     1   January  15    Tuesday        2  \n",
       "182     1   January  16  Wednesday        3  \n",
       "183     1   January  17   Thursday        4  \n",
       "184     1   January  17   Thursday        4  \n",
       "185     1   January  18     Friday        5  \n",
       "186     1   January  22    Tuesday        2  \n",
       "187     1   January  23  Wednesday        3  \n",
       "188     1   January  24   Thursday        4  \n",
       "189     1   January  24   Thursday        4  \n",
       "190     1   January  24   Thursday        4  \n",
       "191     1   January  25     Friday        5  \n",
       "192     1   January  25     Friday        5  \n",
       "193     1   January  28     Monday        1  \n",
       "194     1   January  29    Tuesday        2  \n",
       "195     1   January  29    Tuesday        2  \n",
       "196     1   January  29    Tuesday        2  \n",
       "197     1   January  30  Wednesday        3  \n",
       "198     1   January  31   Thursday        4  "
      ]
     },
     "metadata": {},
     "output_type": "display_data"
    },
    {
     "data": {
      "text/html": [
       "<div>\n",
       "<style scoped>\n",
       "    .dataframe tbody tr th:only-of-type {\n",
       "        vertical-align: middle;\n",
       "    }\n",
       "\n",
       "    .dataframe tbody tr th {\n",
       "        vertical-align: top;\n",
       "    }\n",
       "\n",
       "    .dataframe thead th {\n",
       "        text-align: right;\n",
       "    }\n",
       "</style>\n",
       "<table border=\"1\" class=\"dataframe\">\n",
       "  <thead>\n",
       "    <tr style=\"text-align: right;\">\n",
       "      <th></th>\n",
       "      <th>Date</th>\n",
       "      <th>Check Number</th>\n",
       "      <th>Description</th>\n",
       "      <th>Type</th>\n",
       "      <th>Charge</th>\n",
       "      <th>Debit</th>\n",
       "      <th>Credit</th>\n",
       "      <th>Running Balance</th>\n",
       "      <th>Year</th>\n",
       "      <th>Month</th>\n",
       "      <th>MonthName</th>\n",
       "      <th>Day</th>\n",
       "      <th>DayName</th>\n",
       "      <th>DayCode</th>\n",
       "    </tr>\n",
       "  </thead>\n",
       "  <tbody>\n",
       "    <tr>\n",
       "      <td>199</td>\n",
       "      <td>2/1/19</td>\n",
       "      <td>0</td>\n",
       "      <td>ZOES AP          PAYROLL</td>\n",
       "      <td>PayCheck Deposit - Zoes</td>\n",
       "      <td>144.81</td>\n",
       "      <td>0.00</td>\n",
       "      <td>144.81</td>\n",
       "      <td>429.92</td>\n",
       "      <td>19</td>\n",
       "      <td>2</td>\n",
       "      <td>February</td>\n",
       "      <td>1</td>\n",
       "      <td>Friday</td>\n",
       "      <td>5</td>\n",
       "    </tr>\n",
       "    <tr>\n",
       "      <td>200</td>\n",
       "      <td>2/1/19</td>\n",
       "      <td>0</td>\n",
       "      <td>CHECKERS 1135              DULU</td>\n",
       "      <td>Food</td>\n",
       "      <td>2.12</td>\n",
       "      <td>2.12</td>\n",
       "      <td>0.00</td>\n",
       "      <td>420.80</td>\n",
       "      <td>19</td>\n",
       "      <td>2</td>\n",
       "      <td>February</td>\n",
       "      <td>1</td>\n",
       "      <td>Friday</td>\n",
       "      <td>5</td>\n",
       "    </tr>\n",
       "    <tr>\n",
       "      <td>201</td>\n",
       "      <td>2/1/19</td>\n",
       "      <td>0</td>\n",
       "      <td>KROGER 38 3455             DULU</td>\n",
       "      <td>Food</td>\n",
       "      <td>3.05</td>\n",
       "      <td>3.05</td>\n",
       "      <td>0.00</td>\n",
       "      <td>391.56</td>\n",
       "      <td>19</td>\n",
       "      <td>2</td>\n",
       "      <td>February</td>\n",
       "      <td>1</td>\n",
       "      <td>Friday</td>\n",
       "      <td>5</td>\n",
       "    </tr>\n",
       "    <tr>\n",
       "      <td>202</td>\n",
       "      <td>2/1/19</td>\n",
       "      <td>0</td>\n",
       "      <td>SQU*SQ *MAMA MIA PIZZA     ATLA</td>\n",
       "      <td>Food</td>\n",
       "      <td>4.31</td>\n",
       "      <td>4.31</td>\n",
       "      <td>0.00</td>\n",
       "      <td>410.08</td>\n",
       "      <td>19</td>\n",
       "      <td>2</td>\n",
       "      <td>February</td>\n",
       "      <td>1</td>\n",
       "      <td>Friday</td>\n",
       "      <td>5</td>\n",
       "    </tr>\n",
       "    <tr>\n",
       "      <td>203</td>\n",
       "      <td>2/1/19</td>\n",
       "      <td>0</td>\n",
       "      <td>SMOOTHIE KING #468         ATLA</td>\n",
       "      <td>Food</td>\n",
       "      <td>6.41</td>\n",
       "      <td>6.41</td>\n",
       "      <td>0.00</td>\n",
       "      <td>414.39</td>\n",
       "      <td>19</td>\n",
       "      <td>2</td>\n",
       "      <td>February</td>\n",
       "      <td>1</td>\n",
       "      <td>Friday</td>\n",
       "      <td>5</td>\n",
       "    </tr>\n",
       "    <tr>\n",
       "      <td>204</td>\n",
       "      <td>2/1/19</td>\n",
       "      <td>0</td>\n",
       "      <td>THAI STAR                  NORC</td>\n",
       "      <td>Food</td>\n",
       "      <td>7.00</td>\n",
       "      <td>7.00</td>\n",
       "      <td>0.00</td>\n",
       "      <td>422.92</td>\n",
       "      <td>19</td>\n",
       "      <td>2</td>\n",
       "      <td>February</td>\n",
       "      <td>1</td>\n",
       "      <td>Friday</td>\n",
       "      <td>5</td>\n",
       "    </tr>\n",
       "    <tr>\n",
       "      <td>205</td>\n",
       "      <td>2/1/19</td>\n",
       "      <td>0</td>\n",
       "      <td>KROGER FU 3455             DULU</td>\n",
       "      <td>Gasoline</td>\n",
       "      <td>15.47</td>\n",
       "      <td>15.47</td>\n",
       "      <td>0.00</td>\n",
       "      <td>394.61</td>\n",
       "      <td>19</td>\n",
       "      <td>2</td>\n",
       "      <td>February</td>\n",
       "      <td>1</td>\n",
       "      <td>Friday</td>\n",
       "      <td>5</td>\n",
       "    </tr>\n",
       "    <tr>\n",
       "      <td>206</td>\n",
       "      <td>2/1/19</td>\n",
       "      <td>0</td>\n",
       "      <td>VENMO            PAYMENT    171</td>\n",
       "      <td>Money Transfer - Debit</td>\n",
       "      <td>80.00</td>\n",
       "      <td>80.00</td>\n",
       "      <td>0.00</td>\n",
       "      <td>311.56</td>\n",
       "      <td>19</td>\n",
       "      <td>2</td>\n",
       "      <td>February</td>\n",
       "      <td>1</td>\n",
       "      <td>Friday</td>\n",
       "      <td>5</td>\n",
       "    </tr>\n",
       "    <tr>\n",
       "      <td>207</td>\n",
       "      <td>2/4/19</td>\n",
       "      <td>0</td>\n",
       "      <td>DAIRY QUEEN #41248         NORC</td>\n",
       "      <td>Food</td>\n",
       "      <td>8.62</td>\n",
       "      <td>8.62</td>\n",
       "      <td>0.00</td>\n",
       "      <td>302.94</td>\n",
       "      <td>19</td>\n",
       "      <td>2</td>\n",
       "      <td>February</td>\n",
       "      <td>4</td>\n",
       "      <td>Monday</td>\n",
       "      <td>1</td>\n",
       "    </tr>\n",
       "    <tr>\n",
       "      <td>208</td>\n",
       "      <td>2/5/19</td>\n",
       "      <td>0</td>\n",
       "      <td>SQU*SQ *CAFE HOT WING      ATLA</td>\n",
       "      <td>Food</td>\n",
       "      <td>11.88</td>\n",
       "      <td>11.88</td>\n",
       "      <td>0.00</td>\n",
       "      <td>291.06</td>\n",
       "      <td>19</td>\n",
       "      <td>2</td>\n",
       "      <td>February</td>\n",
       "      <td>5</td>\n",
       "      <td>Tuesday</td>\n",
       "      <td>2</td>\n",
       "    </tr>\n",
       "    <tr>\n",
       "      <td>209</td>\n",
       "      <td>2/6/19</td>\n",
       "      <td>0</td>\n",
       "      <td>WALGREENS STOR             ATLA</td>\n",
       "      <td>Food</td>\n",
       "      <td>1.24</td>\n",
       "      <td>1.24</td>\n",
       "      <td>0.00</td>\n",
       "      <td>280.38</td>\n",
       "      <td>19</td>\n",
       "      <td>2</td>\n",
       "      <td>February</td>\n",
       "      <td>6</td>\n",
       "      <td>Wednesday</td>\n",
       "      <td>3</td>\n",
       "    </tr>\n",
       "    <tr>\n",
       "      <td>210</td>\n",
       "      <td>2/6/19</td>\n",
       "      <td>0</td>\n",
       "      <td>SQUARE *SQ *ROLY POLY      ATLA</td>\n",
       "      <td>Food</td>\n",
       "      <td>9.44</td>\n",
       "      <td>9.44</td>\n",
       "      <td>0.00</td>\n",
       "      <td>281.62</td>\n",
       "      <td>19</td>\n",
       "      <td>2</td>\n",
       "      <td>February</td>\n",
       "      <td>6</td>\n",
       "      <td>Wednesday</td>\n",
       "      <td>3</td>\n",
       "    </tr>\n",
       "    <tr>\n",
       "      <td>211</td>\n",
       "      <td>2/7/19</td>\n",
       "      <td>0</td>\n",
       "      <td>STARBUCKS NO 47800         ATLA</td>\n",
       "      <td>Food</td>\n",
       "      <td>4.19</td>\n",
       "      <td>4.19</td>\n",
       "      <td>0.00</td>\n",
       "      <td>276.19</td>\n",
       "      <td>19</td>\n",
       "      <td>2</td>\n",
       "      <td>February</td>\n",
       "      <td>7</td>\n",
       "      <td>Thursday</td>\n",
       "      <td>4</td>\n",
       "    </tr>\n",
       "    <tr>\n",
       "      <td>212</td>\n",
       "      <td>2/7/19</td>\n",
       "      <td>0</td>\n",
       "      <td>GSU PANTHER DINING RET     ATLA</td>\n",
       "      <td>Food</td>\n",
       "      <td>8.92</td>\n",
       "      <td>8.92</td>\n",
       "      <td>0.00</td>\n",
       "      <td>267.27</td>\n",
       "      <td>19</td>\n",
       "      <td>2</td>\n",
       "      <td>February</td>\n",
       "      <td>7</td>\n",
       "      <td>Thursday</td>\n",
       "      <td>4</td>\n",
       "    </tr>\n",
       "    <tr>\n",
       "      <td>213</td>\n",
       "      <td>2/8/19</td>\n",
       "      <td>0</td>\n",
       "      <td>DUNKIN #354102 Q35         PEAC</td>\n",
       "      <td>Food</td>\n",
       "      <td>2.12</td>\n",
       "      <td>2.12</td>\n",
       "      <td>0.00</td>\n",
       "      <td>265.15</td>\n",
       "      <td>19</td>\n",
       "      <td>2</td>\n",
       "      <td>February</td>\n",
       "      <td>8</td>\n",
       "      <td>Friday</td>\n",
       "      <td>5</td>\n",
       "    </tr>\n",
       "    <tr>\n",
       "      <td>214</td>\n",
       "      <td>2/11/19</td>\n",
       "      <td>0</td>\n",
       "      <td>SQUARE INC       ANTHO</td>\n",
       "      <td>Money Transfer - Credit</td>\n",
       "      <td>12.00</td>\n",
       "      <td>0.00</td>\n",
       "      <td>12.00</td>\n",
       "      <td>277.15</td>\n",
       "      <td>19</td>\n",
       "      <td>2</td>\n",
       "      <td>February</td>\n",
       "      <td>11</td>\n",
       "      <td>Monday</td>\n",
       "      <td>1</td>\n",
       "    </tr>\n",
       "    <tr>\n",
       "      <td>215</td>\n",
       "      <td>2/11/19</td>\n",
       "      <td>0</td>\n",
       "      <td>KROGER FU 3455             DULU</td>\n",
       "      <td>Gasoline</td>\n",
       "      <td>19.01</td>\n",
       "      <td>19.01</td>\n",
       "      <td>0.00</td>\n",
       "      <td>258.14</td>\n",
       "      <td>19</td>\n",
       "      <td>2</td>\n",
       "      <td>February</td>\n",
       "      <td>11</td>\n",
       "      <td>Monday</td>\n",
       "      <td>1</td>\n",
       "    </tr>\n",
       "    <tr>\n",
       "      <td>216</td>\n",
       "      <td>2/12/19</td>\n",
       "      <td>0</td>\n",
       "      <td>POPEYES #12807             DULU</td>\n",
       "      <td>Food</td>\n",
       "      <td>6.88</td>\n",
       "      <td>6.88</td>\n",
       "      <td>0.00</td>\n",
       "      <td>251.26</td>\n",
       "      <td>19</td>\n",
       "      <td>2</td>\n",
       "      <td>February</td>\n",
       "      <td>12</td>\n",
       "      <td>Tuesday</td>\n",
       "      <td>2</td>\n",
       "    </tr>\n",
       "    <tr>\n",
       "      <td>217</td>\n",
       "      <td>2/13/19</td>\n",
       "      <td>0</td>\n",
       "      <td>FLIP BURGER BOUTIQUE       ATLA</td>\n",
       "      <td>Food</td>\n",
       "      <td>31.00</td>\n",
       "      <td>31.00</td>\n",
       "      <td>0.00</td>\n",
       "      <td>220.26</td>\n",
       "      <td>19</td>\n",
       "      <td>2</td>\n",
       "      <td>February</td>\n",
       "      <td>13</td>\n",
       "      <td>Wednesday</td>\n",
       "      <td>3</td>\n",
       "    </tr>\n",
       "    <tr>\n",
       "      <td>218</td>\n",
       "      <td>2/14/19</td>\n",
       "      <td>0</td>\n",
       "      <td>SQUARE INC       ANTHO</td>\n",
       "      <td>Money Transfer - Credit</td>\n",
       "      <td>5.00</td>\n",
       "      <td>0.00</td>\n",
       "      <td>5.00</td>\n",
       "      <td>225.26</td>\n",
       "      <td>19</td>\n",
       "      <td>2</td>\n",
       "      <td>February</td>\n",
       "      <td>14</td>\n",
       "      <td>Thursday</td>\n",
       "      <td>4</td>\n",
       "    </tr>\n",
       "    <tr>\n",
       "      <td>219</td>\n",
       "      <td>2/14/19</td>\n",
       "      <td>0</td>\n",
       "      <td>PCA ATLANTA LOT 30         ATLA</td>\n",
       "      <td>Transportation</td>\n",
       "      <td>8.00</td>\n",
       "      <td>8.00</td>\n",
       "      <td>0.00</td>\n",
       "      <td>217.26</td>\n",
       "      <td>19</td>\n",
       "      <td>2</td>\n",
       "      <td>February</td>\n",
       "      <td>14</td>\n",
       "      <td>Thursday</td>\n",
       "      <td>4</td>\n",
       "    </tr>\n",
       "    <tr>\n",
       "      <td>220</td>\n",
       "      <td>2/14/19</td>\n",
       "      <td>0</td>\n",
       "      <td>BIRD APP                   8662</td>\n",
       "      <td>Transportation</td>\n",
       "      <td>10.00</td>\n",
       "      <td>10.00</td>\n",
       "      <td>0.00</td>\n",
       "      <td>207.26</td>\n",
       "      <td>19</td>\n",
       "      <td>2</td>\n",
       "      <td>February</td>\n",
       "      <td>14</td>\n",
       "      <td>Thursday</td>\n",
       "      <td>4</td>\n",
       "    </tr>\n",
       "    <tr>\n",
       "      <td>221</td>\n",
       "      <td>2/14/19</td>\n",
       "      <td>0</td>\n",
       "      <td>SQU*SQ *SCHARITES MARV     AUGU</td>\n",
       "      <td>Money Transfer - Debit</td>\n",
       "      <td>30.00</td>\n",
       "      <td>30.00</td>\n",
       "      <td>0.00</td>\n",
       "      <td>177.26</td>\n",
       "      <td>19</td>\n",
       "      <td>2</td>\n",
       "      <td>February</td>\n",
       "      <td>14</td>\n",
       "      <td>Thursday</td>\n",
       "      <td>4</td>\n",
       "    </tr>\n",
       "    <tr>\n",
       "      <td>222</td>\n",
       "      <td>2/15/19</td>\n",
       "      <td>0</td>\n",
       "      <td>ZOES AP          PAYROLL</td>\n",
       "      <td>PayCheck Deposit - Zoes</td>\n",
       "      <td>159.15</td>\n",
       "      <td>0.00</td>\n",
       "      <td>159.15</td>\n",
       "      <td>336.41</td>\n",
       "      <td>19</td>\n",
       "      <td>2</td>\n",
       "      <td>February</td>\n",
       "      <td>15</td>\n",
       "      <td>Friday</td>\n",
       "      <td>5</td>\n",
       "    </tr>\n",
       "    <tr>\n",
       "      <td>223</td>\n",
       "      <td>2/15/19</td>\n",
       "      <td>0</td>\n",
       "      <td>SQU*SQ *CAFE HOT WING      ATLA</td>\n",
       "      <td>Food</td>\n",
       "      <td>8.74</td>\n",
       "      <td>8.74</td>\n",
       "      <td>0.00</td>\n",
       "      <td>327.67</td>\n",
       "      <td>19</td>\n",
       "      <td>2</td>\n",
       "      <td>February</td>\n",
       "      <td>15</td>\n",
       "      <td>Friday</td>\n",
       "      <td>5</td>\n",
       "    </tr>\n",
       "    <tr>\n",
       "      <td>224</td>\n",
       "      <td>2/15/19</td>\n",
       "      <td>0</td>\n",
       "      <td>KROGER FU 1094             ALPH</td>\n",
       "      <td>Gasoline</td>\n",
       "      <td>22.28</td>\n",
       "      <td>22.28</td>\n",
       "      <td>0.00</td>\n",
       "      <td>305.39</td>\n",
       "      <td>19</td>\n",
       "      <td>2</td>\n",
       "      <td>February</td>\n",
       "      <td>15</td>\n",
       "      <td>Friday</td>\n",
       "      <td>5</td>\n",
       "    </tr>\n",
       "    <tr>\n",
       "      <td>225</td>\n",
       "      <td>2/19/19</td>\n",
       "      <td>0</td>\n",
       "      <td>LANIER PARKING 11356       ATLA</td>\n",
       "      <td>Transportation</td>\n",
       "      <td>3.00</td>\n",
       "      <td>3.00</td>\n",
       "      <td>0.00</td>\n",
       "      <td>282.01</td>\n",
       "      <td>19</td>\n",
       "      <td>2</td>\n",
       "      <td>February</td>\n",
       "      <td>19</td>\n",
       "      <td>Tuesday</td>\n",
       "      <td>2</td>\n",
       "    </tr>\n",
       "    <tr>\n",
       "      <td>226</td>\n",
       "      <td>2/19/19</td>\n",
       "      <td>0</td>\n",
       "      <td>MCDONALD S F10647          NORC</td>\n",
       "      <td>Food</td>\n",
       "      <td>4.12</td>\n",
       "      <td>4.12</td>\n",
       "      <td>0.00</td>\n",
       "      <td>290.01</td>\n",
       "      <td>19</td>\n",
       "      <td>2</td>\n",
       "      <td>February</td>\n",
       "      <td>19</td>\n",
       "      <td>Tuesday</td>\n",
       "      <td>2</td>\n",
       "    </tr>\n",
       "    <tr>\n",
       "      <td>227</td>\n",
       "      <td>2/19/19</td>\n",
       "      <td>0</td>\n",
       "      <td>GSU PARKING DECK SKN       ATLA</td>\n",
       "      <td>Transportation</td>\n",
       "      <td>5.00</td>\n",
       "      <td>5.00</td>\n",
       "      <td>0.00</td>\n",
       "      <td>285.01</td>\n",
       "      <td>19</td>\n",
       "      <td>2</td>\n",
       "      <td>February</td>\n",
       "      <td>19</td>\n",
       "      <td>Tuesday</td>\n",
       "      <td>2</td>\n",
       "    </tr>\n",
       "    <tr>\n",
       "      <td>228</td>\n",
       "      <td>2/19/19</td>\n",
       "      <td>0</td>\n",
       "      <td>MANHATTAN NY DELI BAGE     NORC</td>\n",
       "      <td>Food</td>\n",
       "      <td>11.26</td>\n",
       "      <td>11.26</td>\n",
       "      <td>0.00</td>\n",
       "      <td>294.13</td>\n",
       "      <td>19</td>\n",
       "      <td>2</td>\n",
       "      <td>February</td>\n",
       "      <td>19</td>\n",
       "      <td>Tuesday</td>\n",
       "      <td>2</td>\n",
       "    </tr>\n",
       "    <tr>\n",
       "      <td>229</td>\n",
       "      <td>2/19/19</td>\n",
       "      <td>0</td>\n",
       "      <td>VARSITY NORTH AVENUE T     ATLA</td>\n",
       "      <td>Food</td>\n",
       "      <td>16.71</td>\n",
       "      <td>16.71</td>\n",
       "      <td>0.00</td>\n",
       "      <td>265.30</td>\n",
       "      <td>19</td>\n",
       "      <td>2</td>\n",
       "      <td>February</td>\n",
       "      <td>19</td>\n",
       "      <td>Tuesday</td>\n",
       "      <td>2</td>\n",
       "    </tr>\n",
       "    <tr>\n",
       "      <td>230</td>\n",
       "      <td>2/20/19</td>\n",
       "      <td>0</td>\n",
       "      <td>SUBWAY        00598474     ATLA</td>\n",
       "      <td>Food</td>\n",
       "      <td>8.27</td>\n",
       "      <td>8.27</td>\n",
       "      <td>0.00</td>\n",
       "      <td>257.03</td>\n",
       "      <td>19</td>\n",
       "      <td>2</td>\n",
       "      <td>February</td>\n",
       "      <td>20</td>\n",
       "      <td>Wednesday</td>\n",
       "      <td>3</td>\n",
       "    </tr>\n",
       "    <tr>\n",
       "      <td>231</td>\n",
       "      <td>2/20/19</td>\n",
       "      <td>0</td>\n",
       "      <td>QUIKTRIP                   DULU</td>\n",
       "      <td>Gasoline</td>\n",
       "      <td>19.70</td>\n",
       "      <td>19.70</td>\n",
       "      <td>0.00</td>\n",
       "      <td>237.33</td>\n",
       "      <td>19</td>\n",
       "      <td>2</td>\n",
       "      <td>February</td>\n",
       "      <td>20</td>\n",
       "      <td>Wednesday</td>\n",
       "      <td>3</td>\n",
       "    </tr>\n",
       "    <tr>\n",
       "      <td>232</td>\n",
       "      <td>2/22/19</td>\n",
       "      <td>0</td>\n",
       "      <td>CHICK-FIL-A #00821         DULU</td>\n",
       "      <td>Food</td>\n",
       "      <td>3.59</td>\n",
       "      <td>3.59</td>\n",
       "      <td>0.00</td>\n",
       "      <td>233.74</td>\n",
       "      <td>19</td>\n",
       "      <td>2</td>\n",
       "      <td>February</td>\n",
       "      <td>22</td>\n",
       "      <td>Friday</td>\n",
       "      <td>5</td>\n",
       "    </tr>\n",
       "    <tr>\n",
       "      <td>233</td>\n",
       "      <td>2/25/19</td>\n",
       "      <td>0</td>\n",
       "      <td>VENMO            CASHOUT</td>\n",
       "      <td>Money Transfer - Credit</td>\n",
       "      <td>20.00</td>\n",
       "      <td>0.00</td>\n",
       "      <td>20.00</td>\n",
       "      <td>253.74</td>\n",
       "      <td>19</td>\n",
       "      <td>2</td>\n",
       "      <td>February</td>\n",
       "      <td>25</td>\n",
       "      <td>Monday</td>\n",
       "      <td>1</td>\n",
       "    </tr>\n",
       "    <tr>\n",
       "      <td>234</td>\n",
       "      <td>2/26/19</td>\n",
       "      <td>0</td>\n",
       "      <td>HUDSONNEWS ST1002          SANT</td>\n",
       "      <td>Food</td>\n",
       "      <td>4.70</td>\n",
       "      <td>4.70</td>\n",
       "      <td>0.00</td>\n",
       "      <td>249.04</td>\n",
       "      <td>19</td>\n",
       "      <td>2</td>\n",
       "      <td>February</td>\n",
       "      <td>26</td>\n",
       "      <td>Tuesday</td>\n",
       "      <td>2</td>\n",
       "    </tr>\n",
       "    <tr>\n",
       "      <td>235</td>\n",
       "      <td>2/27/19</td>\n",
       "      <td>0</td>\n",
       "      <td>SQUARE *SQ *ROLY POLY      ATLA</td>\n",
       "      <td>Food</td>\n",
       "      <td>5.90</td>\n",
       "      <td>5.90</td>\n",
       "      <td>0.00</td>\n",
       "      <td>236.70</td>\n",
       "      <td>19</td>\n",
       "      <td>2</td>\n",
       "      <td>February</td>\n",
       "      <td>27</td>\n",
       "      <td>Wednesday</td>\n",
       "      <td>3</td>\n",
       "    </tr>\n",
       "    <tr>\n",
       "      <td>236</td>\n",
       "      <td>2/27/19</td>\n",
       "      <td>0</td>\n",
       "      <td>CHECKERS 1135              DULU</td>\n",
       "      <td>Food</td>\n",
       "      <td>6.44</td>\n",
       "      <td>6.44</td>\n",
       "      <td>0.00</td>\n",
       "      <td>242.60</td>\n",
       "      <td>19</td>\n",
       "      <td>2</td>\n",
       "      <td>February</td>\n",
       "      <td>27</td>\n",
       "      <td>Wednesday</td>\n",
       "      <td>3</td>\n",
       "    </tr>\n",
       "    <tr>\n",
       "      <td>237</td>\n",
       "      <td>2/28/19</td>\n",
       "      <td>0</td>\n",
       "      <td>STARBUCKS NO 47800         ATLA</td>\n",
       "      <td>Food</td>\n",
       "      <td>4.19</td>\n",
       "      <td>4.19</td>\n",
       "      <td>0.00</td>\n",
       "      <td>221.51</td>\n",
       "      <td>19</td>\n",
       "      <td>2</td>\n",
       "      <td>February</td>\n",
       "      <td>28</td>\n",
       "      <td>Thursday</td>\n",
       "      <td>4</td>\n",
       "    </tr>\n",
       "    <tr>\n",
       "      <td>238</td>\n",
       "      <td>2/28/19</td>\n",
       "      <td>0</td>\n",
       "      <td>GSU PARKING DECK SKN       ATLA</td>\n",
       "      <td>Transportation</td>\n",
       "      <td>5.00</td>\n",
       "      <td>5.00</td>\n",
       "      <td>0.00</td>\n",
       "      <td>225.70</td>\n",
       "      <td>19</td>\n",
       "      <td>2</td>\n",
       "      <td>February</td>\n",
       "      <td>28</td>\n",
       "      <td>Thursday</td>\n",
       "      <td>4</td>\n",
       "    </tr>\n",
       "    <tr>\n",
       "      <td>239</td>\n",
       "      <td>2/28/19</td>\n",
       "      <td>0</td>\n",
       "      <td>THAI STAR                  NORC</td>\n",
       "      <td>Food</td>\n",
       "      <td>6.00</td>\n",
       "      <td>6.00</td>\n",
       "      <td>0.00</td>\n",
       "      <td>230.70</td>\n",
       "      <td>19</td>\n",
       "      <td>2</td>\n",
       "      <td>February</td>\n",
       "      <td>28</td>\n",
       "      <td>Thursday</td>\n",
       "      <td>4</td>\n",
       "    </tr>\n",
       "    <tr>\n",
       "      <td>240</td>\n",
       "      <td>2/28/19</td>\n",
       "      <td>0</td>\n",
       "      <td>MOES SW GRILL 213          ATLA</td>\n",
       "      <td>Food</td>\n",
       "      <td>9.57</td>\n",
       "      <td>9.57</td>\n",
       "      <td>0.00</td>\n",
       "      <td>211.94</td>\n",
       "      <td>19</td>\n",
       "      <td>2</td>\n",
       "      <td>February</td>\n",
       "      <td>28</td>\n",
       "      <td>Thursday</td>\n",
       "      <td>4</td>\n",
       "    </tr>\n",
       "  </tbody>\n",
       "</table>\n",
       "</div>"
      ],
      "text/plain": [
       "        Date  Check Number                       Description  \\\n",
       "199   2/1/19             0   ZOES AP          PAYROLL          \n",
       "200   2/1/19             0   CHECKERS 1135              DULU   \n",
       "201   2/1/19             0   KROGER 38 3455             DULU   \n",
       "202   2/1/19             0   SQU*SQ *MAMA MIA PIZZA     ATLA   \n",
       "203   2/1/19             0   SMOOTHIE KING #468         ATLA   \n",
       "204   2/1/19             0   THAI STAR                  NORC   \n",
       "205   2/1/19             0   KROGER FU 3455             DULU   \n",
       "206   2/1/19             0   VENMO            PAYMENT    171   \n",
       "207   2/4/19             0   DAIRY QUEEN #41248         NORC   \n",
       "208   2/5/19             0   SQU*SQ *CAFE HOT WING      ATLA   \n",
       "209   2/6/19             0   WALGREENS STOR             ATLA   \n",
       "210   2/6/19             0   SQUARE *SQ *ROLY POLY      ATLA   \n",
       "211   2/7/19             0   STARBUCKS NO 47800         ATLA   \n",
       "212   2/7/19             0   GSU PANTHER DINING RET     ATLA   \n",
       "213   2/8/19             0   DUNKIN #354102 Q35         PEAC   \n",
       "214  2/11/19             0   SQUARE INC       ANTHO            \n",
       "215  2/11/19             0   KROGER FU 3455             DULU   \n",
       "216  2/12/19             0   POPEYES #12807             DULU   \n",
       "217  2/13/19             0   FLIP BURGER BOUTIQUE       ATLA   \n",
       "218  2/14/19             0   SQUARE INC       ANTHO            \n",
       "219  2/14/19             0   PCA ATLANTA LOT 30         ATLA   \n",
       "220  2/14/19             0   BIRD APP                   8662   \n",
       "221  2/14/19             0   SQU*SQ *SCHARITES MARV     AUGU   \n",
       "222  2/15/19             0   ZOES AP          PAYROLL          \n",
       "223  2/15/19             0   SQU*SQ *CAFE HOT WING      ATLA   \n",
       "224  2/15/19             0   KROGER FU 1094             ALPH   \n",
       "225  2/19/19             0   LANIER PARKING 11356       ATLA   \n",
       "226  2/19/19             0   MCDONALD S F10647          NORC   \n",
       "227  2/19/19             0   GSU PARKING DECK SKN       ATLA   \n",
       "228  2/19/19             0   MANHATTAN NY DELI BAGE     NORC   \n",
       "229  2/19/19             0   VARSITY NORTH AVENUE T     ATLA   \n",
       "230  2/20/19             0   SUBWAY        00598474     ATLA   \n",
       "231  2/20/19             0   QUIKTRIP                   DULU   \n",
       "232  2/22/19             0   CHICK-FIL-A #00821         DULU   \n",
       "233  2/25/19             0   VENMO            CASHOUT          \n",
       "234  2/26/19             0   HUDSONNEWS ST1002          SANT   \n",
       "235  2/27/19             0   SQUARE *SQ *ROLY POLY      ATLA   \n",
       "236  2/27/19             0   CHECKERS 1135              DULU   \n",
       "237  2/28/19             0   STARBUCKS NO 47800         ATLA   \n",
       "238  2/28/19             0   GSU PARKING DECK SKN       ATLA   \n",
       "239  2/28/19             0   THAI STAR                  NORC   \n",
       "240  2/28/19             0   MOES SW GRILL 213          ATLA   \n",
       "\n",
       "                        Type  Charge  Debit  Credit  Running Balance Year  \\\n",
       "199  PayCheck Deposit - Zoes  144.81   0.00  144.81           429.92   19   \n",
       "200                     Food    2.12   2.12    0.00           420.80   19   \n",
       "201                     Food    3.05   3.05    0.00           391.56   19   \n",
       "202                     Food    4.31   4.31    0.00           410.08   19   \n",
       "203                     Food    6.41   6.41    0.00           414.39   19   \n",
       "204                     Food    7.00   7.00    0.00           422.92   19   \n",
       "205                 Gasoline   15.47  15.47    0.00           394.61   19   \n",
       "206   Money Transfer - Debit   80.00  80.00    0.00           311.56   19   \n",
       "207                     Food    8.62   8.62    0.00           302.94   19   \n",
       "208                     Food   11.88  11.88    0.00           291.06   19   \n",
       "209                     Food    1.24   1.24    0.00           280.38   19   \n",
       "210                     Food    9.44   9.44    0.00           281.62   19   \n",
       "211                     Food    4.19   4.19    0.00           276.19   19   \n",
       "212                     Food    8.92   8.92    0.00           267.27   19   \n",
       "213                     Food    2.12   2.12    0.00           265.15   19   \n",
       "214  Money Transfer - Credit   12.00   0.00   12.00           277.15   19   \n",
       "215                 Gasoline   19.01  19.01    0.00           258.14   19   \n",
       "216                     Food    6.88   6.88    0.00           251.26   19   \n",
       "217                     Food   31.00  31.00    0.00           220.26   19   \n",
       "218  Money Transfer - Credit    5.00   0.00    5.00           225.26   19   \n",
       "219           Transportation    8.00   8.00    0.00           217.26   19   \n",
       "220           Transportation   10.00  10.00    0.00           207.26   19   \n",
       "221   Money Transfer - Debit   30.00  30.00    0.00           177.26   19   \n",
       "222  PayCheck Deposit - Zoes  159.15   0.00  159.15           336.41   19   \n",
       "223                     Food    8.74   8.74    0.00           327.67   19   \n",
       "224                 Gasoline   22.28  22.28    0.00           305.39   19   \n",
       "225           Transportation    3.00   3.00    0.00           282.01   19   \n",
       "226                     Food    4.12   4.12    0.00           290.01   19   \n",
       "227           Transportation    5.00   5.00    0.00           285.01   19   \n",
       "228                     Food   11.26  11.26    0.00           294.13   19   \n",
       "229                     Food   16.71  16.71    0.00           265.30   19   \n",
       "230                     Food    8.27   8.27    0.00           257.03   19   \n",
       "231                 Gasoline   19.70  19.70    0.00           237.33   19   \n",
       "232                     Food    3.59   3.59    0.00           233.74   19   \n",
       "233  Money Transfer - Credit   20.00   0.00   20.00           253.74   19   \n",
       "234                     Food    4.70   4.70    0.00           249.04   19   \n",
       "235                     Food    5.90   5.90    0.00           236.70   19   \n",
       "236                     Food    6.44   6.44    0.00           242.60   19   \n",
       "237                     Food    4.19   4.19    0.00           221.51   19   \n",
       "238           Transportation    5.00   5.00    0.00           225.70   19   \n",
       "239                     Food    6.00   6.00    0.00           230.70   19   \n",
       "240                     Food    9.57   9.57    0.00           211.94   19   \n",
       "\n",
       "    Month MonthName Day    DayName  DayCode  \n",
       "199     2  February   1     Friday        5  \n",
       "200     2  February   1     Friday        5  \n",
       "201     2  February   1     Friday        5  \n",
       "202     2  February   1     Friday        5  \n",
       "203     2  February   1     Friday        5  \n",
       "204     2  February   1     Friday        5  \n",
       "205     2  February   1     Friday        5  \n",
       "206     2  February   1     Friday        5  \n",
       "207     2  February   4     Monday        1  \n",
       "208     2  February   5    Tuesday        2  \n",
       "209     2  February   6  Wednesday        3  \n",
       "210     2  February   6  Wednesday        3  \n",
       "211     2  February   7   Thursday        4  \n",
       "212     2  February   7   Thursday        4  \n",
       "213     2  February   8     Friday        5  \n",
       "214     2  February  11     Monday        1  \n",
       "215     2  February  11     Monday        1  \n",
       "216     2  February  12    Tuesday        2  \n",
       "217     2  February  13  Wednesday        3  \n",
       "218     2  February  14   Thursday        4  \n",
       "219     2  February  14   Thursday        4  \n",
       "220     2  February  14   Thursday        4  \n",
       "221     2  February  14   Thursday        4  \n",
       "222     2  February  15     Friday        5  \n",
       "223     2  February  15     Friday        5  \n",
       "224     2  February  15     Friday        5  \n",
       "225     2  February  19    Tuesday        2  \n",
       "226     2  February  19    Tuesday        2  \n",
       "227     2  February  19    Tuesday        2  \n",
       "228     2  February  19    Tuesday        2  \n",
       "229     2  February  19    Tuesday        2  \n",
       "230     2  February  20  Wednesday        3  \n",
       "231     2  February  20  Wednesday        3  \n",
       "232     2  February  22     Friday        5  \n",
       "233     2  February  25     Monday        1  \n",
       "234     2  February  26    Tuesday        2  \n",
       "235     2  February  27  Wednesday        3  \n",
       "236     2  February  27  Wednesday        3  \n",
       "237     2  February  28   Thursday        4  \n",
       "238     2  February  28   Thursday        4  \n",
       "239     2  February  28   Thursday        4  \n",
       "240     2  February  28   Thursday        4  "
      ]
     },
     "metadata": {},
     "output_type": "display_data"
    },
    {
     "data": {
      "text/html": [
       "<div>\n",
       "<style scoped>\n",
       "    .dataframe tbody tr th:only-of-type {\n",
       "        vertical-align: middle;\n",
       "    }\n",
       "\n",
       "    .dataframe tbody tr th {\n",
       "        vertical-align: top;\n",
       "    }\n",
       "\n",
       "    .dataframe thead th {\n",
       "        text-align: right;\n",
       "    }\n",
       "</style>\n",
       "<table border=\"1\" class=\"dataframe\">\n",
       "  <thead>\n",
       "    <tr style=\"text-align: right;\">\n",
       "      <th></th>\n",
       "      <th>Date</th>\n",
       "      <th>Check Number</th>\n",
       "      <th>Description</th>\n",
       "      <th>Type</th>\n",
       "      <th>Charge</th>\n",
       "      <th>Debit</th>\n",
       "      <th>Credit</th>\n",
       "      <th>Running Balance</th>\n",
       "      <th>Year</th>\n",
       "      <th>Month</th>\n",
       "      <th>MonthName</th>\n",
       "      <th>Day</th>\n",
       "      <th>DayName</th>\n",
       "      <th>DayCode</th>\n",
       "    </tr>\n",
       "  </thead>\n",
       "  <tbody>\n",
       "    <tr>\n",
       "      <td>241</td>\n",
       "      <td>3/1/19</td>\n",
       "      <td>0</td>\n",
       "      <td>ZOES AP          PAYROLL</td>\n",
       "      <td>PayCheck Deposit - Zoes</td>\n",
       "      <td>102.14</td>\n",
       "      <td>0.00</td>\n",
       "      <td>102.14</td>\n",
       "      <td>314.08</td>\n",
       "      <td>19</td>\n",
       "      <td>3</td>\n",
       "      <td>March</td>\n",
       "      <td>1</td>\n",
       "      <td>Friday</td>\n",
       "      <td>5</td>\n",
       "    </tr>\n",
       "    <tr>\n",
       "      <td>242</td>\n",
       "      <td>3/4/19</td>\n",
       "      <td>0</td>\n",
       "      <td>GSU PARKING DECK SKN       ATLA</td>\n",
       "      <td>Transportation</td>\n",
       "      <td>5.00</td>\n",
       "      <td>5.00</td>\n",
       "      <td>0.00</td>\n",
       "      <td>301.08</td>\n",
       "      <td>19</td>\n",
       "      <td>3</td>\n",
       "      <td>March</td>\n",
       "      <td>4</td>\n",
       "      <td>Monday</td>\n",
       "      <td>1</td>\n",
       "    </tr>\n",
       "    <tr>\n",
       "      <td>243</td>\n",
       "      <td>3/4/19</td>\n",
       "      <td>0</td>\n",
       "      <td>PCA ATLANTA LOT 30         ATLA</td>\n",
       "      <td>Transportation</td>\n",
       "      <td>8.00</td>\n",
       "      <td>8.00</td>\n",
       "      <td>0.00</td>\n",
       "      <td>306.08</td>\n",
       "      <td>19</td>\n",
       "      <td>3</td>\n",
       "      <td>March</td>\n",
       "      <td>4</td>\n",
       "      <td>Monday</td>\n",
       "      <td>1</td>\n",
       "    </tr>\n",
       "    <tr>\n",
       "      <td>244</td>\n",
       "      <td>3/4/19</td>\n",
       "      <td>0</td>\n",
       "      <td>VALERO 7                   ATLA</td>\n",
       "      <td>Gasoline</td>\n",
       "      <td>10.00</td>\n",
       "      <td>10.00</td>\n",
       "      <td>0.00</td>\n",
       "      <td>291.08</td>\n",
       "      <td>19</td>\n",
       "      <td>3</td>\n",
       "      <td>March</td>\n",
       "      <td>4</td>\n",
       "      <td>Monday</td>\n",
       "      <td>1</td>\n",
       "    </tr>\n",
       "    <tr>\n",
       "      <td>245</td>\n",
       "      <td>3/5/19</td>\n",
       "      <td>0</td>\n",
       "      <td>VENMO            PAYMENT    181</td>\n",
       "      <td>Money Transfer - Debit</td>\n",
       "      <td>4.10</td>\n",
       "      <td>4.10</td>\n",
       "      <td>0.00</td>\n",
       "      <td>286.98</td>\n",
       "      <td>19</td>\n",
       "      <td>3</td>\n",
       "      <td>March</td>\n",
       "      <td>5</td>\n",
       "      <td>Tuesday</td>\n",
       "      <td>2</td>\n",
       "    </tr>\n",
       "    <tr>\n",
       "      <td>...</td>\n",
       "      <td>...</td>\n",
       "      <td>...</td>\n",
       "      <td>...</td>\n",
       "      <td>...</td>\n",
       "      <td>...</td>\n",
       "      <td>...</td>\n",
       "      <td>...</td>\n",
       "      <td>...</td>\n",
       "      <td>...</td>\n",
       "      <td>...</td>\n",
       "      <td>...</td>\n",
       "      <td>...</td>\n",
       "      <td>...</td>\n",
       "      <td>...</td>\n",
       "    </tr>\n",
       "    <tr>\n",
       "      <td>308</td>\n",
       "      <td>3/28/19</td>\n",
       "      <td>0</td>\n",
       "      <td>CHEVRON 0380929            ATLA</td>\n",
       "      <td>Gasoline</td>\n",
       "      <td>10.03</td>\n",
       "      <td>10.03</td>\n",
       "      <td>0.00</td>\n",
       "      <td>206.33</td>\n",
       "      <td>19</td>\n",
       "      <td>3</td>\n",
       "      <td>March</td>\n",
       "      <td>28</td>\n",
       "      <td>Thursday</td>\n",
       "      <td>4</td>\n",
       "    </tr>\n",
       "    <tr>\n",
       "      <td>309</td>\n",
       "      <td>3/29/19</td>\n",
       "      <td>0</td>\n",
       "      <td>CMSVEND*GEORGIA VENDIN     ALPH</td>\n",
       "      <td>Food</td>\n",
       "      <td>1.75</td>\n",
       "      <td>1.75</td>\n",
       "      <td>0.00</td>\n",
       "      <td>193.39</td>\n",
       "      <td>19</td>\n",
       "      <td>3</td>\n",
       "      <td>March</td>\n",
       "      <td>29</td>\n",
       "      <td>Friday</td>\n",
       "      <td>5</td>\n",
       "    </tr>\n",
       "    <tr>\n",
       "      <td>310</td>\n",
       "      <td>3/29/19</td>\n",
       "      <td>0</td>\n",
       "      <td>GSU PARKING DECK SKN       ATLA</td>\n",
       "      <td>Transportation</td>\n",
       "      <td>5.00</td>\n",
       "      <td>5.00</td>\n",
       "      <td>0.00</td>\n",
       "      <td>201.33</td>\n",
       "      <td>19</td>\n",
       "      <td>3</td>\n",
       "      <td>March</td>\n",
       "      <td>29</td>\n",
       "      <td>Friday</td>\n",
       "      <td>5</td>\n",
       "    </tr>\n",
       "    <tr>\n",
       "      <td>311</td>\n",
       "      <td>3/29/19</td>\n",
       "      <td>0</td>\n",
       "      <td>QUIZNOS #4562              ATLA</td>\n",
       "      <td>Food</td>\n",
       "      <td>6.19</td>\n",
       "      <td>6.19</td>\n",
       "      <td>0.00</td>\n",
       "      <td>195.14</td>\n",
       "      <td>19</td>\n",
       "      <td>3</td>\n",
       "      <td>March</td>\n",
       "      <td>29</td>\n",
       "      <td>Friday</td>\n",
       "      <td>5</td>\n",
       "    </tr>\n",
       "    <tr>\n",
       "      <td>312</td>\n",
       "      <td>3/29/19</td>\n",
       "      <td>0</td>\n",
       "      <td>QUIKTRIP                   DULU</td>\n",
       "      <td>Gasoline</td>\n",
       "      <td>26.41</td>\n",
       "      <td>26.41</td>\n",
       "      <td>0.00</td>\n",
       "      <td>166.98</td>\n",
       "      <td>19</td>\n",
       "      <td>3</td>\n",
       "      <td>March</td>\n",
       "      <td>29</td>\n",
       "      <td>Friday</td>\n",
       "      <td>5</td>\n",
       "    </tr>\n",
       "  </tbody>\n",
       "</table>\n",
       "<p>72 rows × 14 columns</p>\n",
       "</div>"
      ],
      "text/plain": [
       "        Date  Check Number                       Description  \\\n",
       "241   3/1/19             0   ZOES AP          PAYROLL          \n",
       "242   3/4/19             0   GSU PARKING DECK SKN       ATLA   \n",
       "243   3/4/19             0   PCA ATLANTA LOT 30         ATLA   \n",
       "244   3/4/19             0   VALERO 7                   ATLA   \n",
       "245   3/5/19             0   VENMO            PAYMENT    181   \n",
       "..       ...           ...                               ...   \n",
       "308  3/28/19             0   CHEVRON 0380929            ATLA   \n",
       "309  3/29/19             0   CMSVEND*GEORGIA VENDIN     ALPH   \n",
       "310  3/29/19             0   GSU PARKING DECK SKN       ATLA   \n",
       "311  3/29/19             0   QUIZNOS #4562              ATLA   \n",
       "312  3/29/19             0   QUIKTRIP                   DULU   \n",
       "\n",
       "                        Type  Charge  Debit  Credit  Running Balance Year  \\\n",
       "241  PayCheck Deposit - Zoes  102.14   0.00  102.14           314.08   19   \n",
       "242           Transportation    5.00   5.00    0.00           301.08   19   \n",
       "243           Transportation    8.00   8.00    0.00           306.08   19   \n",
       "244                 Gasoline   10.00  10.00    0.00           291.08   19   \n",
       "245   Money Transfer - Debit    4.10   4.10    0.00           286.98   19   \n",
       "..                       ...     ...    ...     ...              ...  ...   \n",
       "308                 Gasoline   10.03  10.03    0.00           206.33   19   \n",
       "309                     Food    1.75   1.75    0.00           193.39   19   \n",
       "310           Transportation    5.00   5.00    0.00           201.33   19   \n",
       "311                     Food    6.19   6.19    0.00           195.14   19   \n",
       "312                 Gasoline   26.41  26.41    0.00           166.98   19   \n",
       "\n",
       "    Month MonthName Day   DayName  DayCode  \n",
       "241     3     March   1    Friday        5  \n",
       "242     3     March   4    Monday        1  \n",
       "243     3     March   4    Monday        1  \n",
       "244     3     March   4    Monday        1  \n",
       "245     3     March   5   Tuesday        2  \n",
       "..    ...       ...  ..       ...      ...  \n",
       "308     3     March  28  Thursday        4  \n",
       "309     3     March  29    Friday        5  \n",
       "310     3     March  29    Friday        5  \n",
       "311     3     March  29    Friday        5  \n",
       "312     3     March  29    Friday        5  \n",
       "\n",
       "[72 rows x 14 columns]"
      ]
     },
     "metadata": {},
     "output_type": "display_data"
    },
    {
     "data": {
      "text/html": [
       "<div>\n",
       "<style scoped>\n",
       "    .dataframe tbody tr th:only-of-type {\n",
       "        vertical-align: middle;\n",
       "    }\n",
       "\n",
       "    .dataframe tbody tr th {\n",
       "        vertical-align: top;\n",
       "    }\n",
       "\n",
       "    .dataframe thead th {\n",
       "        text-align: right;\n",
       "    }\n",
       "</style>\n",
       "<table border=\"1\" class=\"dataframe\">\n",
       "  <thead>\n",
       "    <tr style=\"text-align: right;\">\n",
       "      <th></th>\n",
       "      <th>Date</th>\n",
       "      <th>Check Number</th>\n",
       "      <th>Description</th>\n",
       "      <th>Type</th>\n",
       "      <th>Charge</th>\n",
       "      <th>Debit</th>\n",
       "      <th>Credit</th>\n",
       "      <th>Running Balance</th>\n",
       "      <th>Year</th>\n",
       "      <th>Month</th>\n",
       "      <th>MonthName</th>\n",
       "      <th>Day</th>\n",
       "      <th>DayName</th>\n",
       "      <th>DayCode</th>\n",
       "    </tr>\n",
       "  </thead>\n",
       "  <tbody>\n",
       "    <tr>\n",
       "      <td>313</td>\n",
       "      <td>4/1/19</td>\n",
       "      <td>0</td>\n",
       "      <td>GSU PARKING DECK G         ATLA</td>\n",
       "      <td>Transportation</td>\n",
       "      <td>2.00</td>\n",
       "      <td>2.00</td>\n",
       "      <td>0.00</td>\n",
       "      <td>164.98</td>\n",
       "      <td>19</td>\n",
       "      <td>4</td>\n",
       "      <td>April</td>\n",
       "      <td>1</td>\n",
       "      <td>Monday</td>\n",
       "      <td>1</td>\n",
       "    </tr>\n",
       "    <tr>\n",
       "      <td>314</td>\n",
       "      <td>4/1/19</td>\n",
       "      <td>0</td>\n",
       "      <td>VIP BILLIARDS              DULU</td>\n",
       "      <td>Entertainment</td>\n",
       "      <td>27.00</td>\n",
       "      <td>27.00</td>\n",
       "      <td>0.00</td>\n",
       "      <td>137.98</td>\n",
       "      <td>19</td>\n",
       "      <td>4</td>\n",
       "      <td>April</td>\n",
       "      <td>1</td>\n",
       "      <td>Monday</td>\n",
       "      <td>1</td>\n",
       "    </tr>\n",
       "    <tr>\n",
       "      <td>315</td>\n",
       "      <td>4/2/19</td>\n",
       "      <td>0</td>\n",
       "      <td>GSU PANTHER DINING RET     ATLA</td>\n",
       "      <td>Food</td>\n",
       "      <td>3.80</td>\n",
       "      <td>3.80</td>\n",
       "      <td>0.00</td>\n",
       "      <td>129.18</td>\n",
       "      <td>19</td>\n",
       "      <td>4</td>\n",
       "      <td>April</td>\n",
       "      <td>2</td>\n",
       "      <td>Tuesday</td>\n",
       "      <td>2</td>\n",
       "    </tr>\n",
       "    <tr>\n",
       "      <td>316</td>\n",
       "      <td>4/2/19</td>\n",
       "      <td>0</td>\n",
       "      <td>GSU PARKING DECK SKN       ATLA</td>\n",
       "      <td>Transportation</td>\n",
       "      <td>5.00</td>\n",
       "      <td>5.00</td>\n",
       "      <td>0.00</td>\n",
       "      <td>132.98</td>\n",
       "      <td>19</td>\n",
       "      <td>4</td>\n",
       "      <td>April</td>\n",
       "      <td>2</td>\n",
       "      <td>Tuesday</td>\n",
       "      <td>2</td>\n",
       "    </tr>\n",
       "    <tr>\n",
       "      <td>317</td>\n",
       "      <td>4/2/19</td>\n",
       "      <td>0</td>\n",
       "      <td>SQU*SQ *THE TAQUERIA O     ATLA</td>\n",
       "      <td>Food</td>\n",
       "      <td>11.49</td>\n",
       "      <td>11.49</td>\n",
       "      <td>0.00</td>\n",
       "      <td>117.69</td>\n",
       "      <td>19</td>\n",
       "      <td>4</td>\n",
       "      <td>April</td>\n",
       "      <td>2</td>\n",
       "      <td>Tuesday</td>\n",
       "      <td>2</td>\n",
       "    </tr>\n",
       "    <tr>\n",
       "      <td>318</td>\n",
       "      <td>4/3/19</td>\n",
       "      <td>0</td>\n",
       "      <td>GSU PARKING DECK SKN       ATLA</td>\n",
       "      <td>Transportation</td>\n",
       "      <td>2.00</td>\n",
       "      <td>2.00</td>\n",
       "      <td>0.00</td>\n",
       "      <td>115.69</td>\n",
       "      <td>19</td>\n",
       "      <td>4</td>\n",
       "      <td>April</td>\n",
       "      <td>3</td>\n",
       "      <td>Wednesday</td>\n",
       "      <td>3</td>\n",
       "    </tr>\n",
       "    <tr>\n",
       "      <td>319</td>\n",
       "      <td>4/4/19</td>\n",
       "      <td>0</td>\n",
       "      <td>GSU PANTHER DINING RET     ATLA</td>\n",
       "      <td>Food</td>\n",
       "      <td>2.89</td>\n",
       "      <td>2.89</td>\n",
       "      <td>0.00</td>\n",
       "      <td>101.23</td>\n",
       "      <td>19</td>\n",
       "      <td>4</td>\n",
       "      <td>April</td>\n",
       "      <td>4</td>\n",
       "      <td>Thursday</td>\n",
       "      <td>4</td>\n",
       "    </tr>\n",
       "    <tr>\n",
       "      <td>320</td>\n",
       "      <td>4/4/19</td>\n",
       "      <td>0</td>\n",
       "      <td>GSU PARKING DECK SKN       ATLA</td>\n",
       "      <td>Transportation</td>\n",
       "      <td>5.00</td>\n",
       "      <td>5.00</td>\n",
       "      <td>0.00</td>\n",
       "      <td>104.12</td>\n",
       "      <td>19</td>\n",
       "      <td>4</td>\n",
       "      <td>April</td>\n",
       "      <td>4</td>\n",
       "      <td>Thursday</td>\n",
       "      <td>4</td>\n",
       "    </tr>\n",
       "    <tr>\n",
       "      <td>321</td>\n",
       "      <td>4/4/19</td>\n",
       "      <td>0</td>\n",
       "      <td>FELLINI S PIZZA-PONCE      ATLA</td>\n",
       "      <td>Food</td>\n",
       "      <td>6.57</td>\n",
       "      <td>6.57</td>\n",
       "      <td>0.00</td>\n",
       "      <td>109.12</td>\n",
       "      <td>19</td>\n",
       "      <td>4</td>\n",
       "      <td>April</td>\n",
       "      <td>4</td>\n",
       "      <td>Thursday</td>\n",
       "      <td>4</td>\n",
       "    </tr>\n",
       "    <tr>\n",
       "      <td>322</td>\n",
       "      <td>4/5/19</td>\n",
       "      <td>0</td>\n",
       "      <td>CMSVEND*GEORGIA VENDIN     ALPH</td>\n",
       "      <td>Food</td>\n",
       "      <td>2.00</td>\n",
       "      <td>2.00</td>\n",
       "      <td>0.00</td>\n",
       "      <td>80.90</td>\n",
       "      <td>19</td>\n",
       "      <td>4</td>\n",
       "      <td>April</td>\n",
       "      <td>5</td>\n",
       "      <td>Friday</td>\n",
       "      <td>5</td>\n",
       "    </tr>\n",
       "    <tr>\n",
       "      <td>323</td>\n",
       "      <td>4/5/19</td>\n",
       "      <td>0</td>\n",
       "      <td>GSU PANTHER DINING RET     ATLA</td>\n",
       "      <td>Food</td>\n",
       "      <td>2.89</td>\n",
       "      <td>2.89</td>\n",
       "      <td>0.00</td>\n",
       "      <td>93.34</td>\n",
       "      <td>19</td>\n",
       "      <td>4</td>\n",
       "      <td>April</td>\n",
       "      <td>5</td>\n",
       "      <td>Friday</td>\n",
       "      <td>5</td>\n",
       "    </tr>\n",
       "    <tr>\n",
       "      <td>324</td>\n",
       "      <td>4/5/19</td>\n",
       "      <td>0</td>\n",
       "      <td>GSU PARKING DECK SKN       ATLA</td>\n",
       "      <td>Transportation</td>\n",
       "      <td>5.00</td>\n",
       "      <td>5.00</td>\n",
       "      <td>0.00</td>\n",
       "      <td>96.23</td>\n",
       "      <td>19</td>\n",
       "      <td>4</td>\n",
       "      <td>April</td>\n",
       "      <td>5</td>\n",
       "      <td>Friday</td>\n",
       "      <td>5</td>\n",
       "    </tr>\n",
       "    <tr>\n",
       "      <td>325</td>\n",
       "      <td>4/5/19</td>\n",
       "      <td>0</td>\n",
       "      <td>SQU*SQ *THE TAQUERIA O     ATLA</td>\n",
       "      <td>Food</td>\n",
       "      <td>10.44</td>\n",
       "      <td>10.44</td>\n",
       "      <td>0.00</td>\n",
       "      <td>82.90</td>\n",
       "      <td>19</td>\n",
       "      <td>4</td>\n",
       "      <td>April</td>\n",
       "      <td>5</td>\n",
       "      <td>Friday</td>\n",
       "      <td>5</td>\n",
       "    </tr>\n",
       "    <tr>\n",
       "      <td>326</td>\n",
       "      <td>4/8/19</td>\n",
       "      <td>0</td>\n",
       "      <td>DAIRY QUEEN #41248         NORC</td>\n",
       "      <td>Food</td>\n",
       "      <td>7.62</td>\n",
       "      <td>7.62</td>\n",
       "      <td>0.00</td>\n",
       "      <td>63.26</td>\n",
       "      <td>19</td>\n",
       "      <td>4</td>\n",
       "      <td>April</td>\n",
       "      <td>8</td>\n",
       "      <td>Monday</td>\n",
       "      <td>1</td>\n",
       "    </tr>\n",
       "    <tr>\n",
       "      <td>327</td>\n",
       "      <td>4/8/19</td>\n",
       "      <td>0</td>\n",
       "      <td>PEACHTREE INDUSTRIAL       DULU</td>\n",
       "      <td>Unknown</td>\n",
       "      <td>10.02</td>\n",
       "      <td>10.02</td>\n",
       "      <td>0.00</td>\n",
       "      <td>70.88</td>\n",
       "      <td>19</td>\n",
       "      <td>4</td>\n",
       "      <td>April</td>\n",
       "      <td>8</td>\n",
       "      <td>Monday</td>\n",
       "      <td>1</td>\n",
       "    </tr>\n",
       "    <tr>\n",
       "      <td>328</td>\n",
       "      <td>4/8/19</td>\n",
       "      <td>0</td>\n",
       "      <td>VIP BILLIARDS              DULU</td>\n",
       "      <td>Entertainment</td>\n",
       "      <td>14.00</td>\n",
       "      <td>14.00</td>\n",
       "      <td>0.00</td>\n",
       "      <td>33.92</td>\n",
       "      <td>19</td>\n",
       "      <td>4</td>\n",
       "      <td>April</td>\n",
       "      <td>8</td>\n",
       "      <td>Monday</td>\n",
       "      <td>1</td>\n",
       "    </tr>\n",
       "    <tr>\n",
       "      <td>329</td>\n",
       "      <td>4/8/19</td>\n",
       "      <td>0</td>\n",
       "      <td>KROGER 38 3455             DULU</td>\n",
       "      <td>Gasoline</td>\n",
       "      <td>15.34</td>\n",
       "      <td>15.34</td>\n",
       "      <td>0.00</td>\n",
       "      <td>47.92</td>\n",
       "      <td>19</td>\n",
       "      <td>4</td>\n",
       "      <td>April</td>\n",
       "      <td>8</td>\n",
       "      <td>Monday</td>\n",
       "      <td>1</td>\n",
       "    </tr>\n",
       "    <tr>\n",
       "      <td>330</td>\n",
       "      <td>4/9/19</td>\n",
       "      <td>0</td>\n",
       "      <td>WALGREENS 25 P             ATLA</td>\n",
       "      <td>Food</td>\n",
       "      <td>1.87</td>\n",
       "      <td>1.87</td>\n",
       "      <td>0.00</td>\n",
       "      <td>29.24</td>\n",
       "      <td>19</td>\n",
       "      <td>4</td>\n",
       "      <td>April</td>\n",
       "      <td>9</td>\n",
       "      <td>Tuesday</td>\n",
       "      <td>2</td>\n",
       "    </tr>\n",
       "    <tr>\n",
       "      <td>331</td>\n",
       "      <td>4/9/19</td>\n",
       "      <td>0</td>\n",
       "      <td>WALGREENS 25 P             ATLA</td>\n",
       "      <td>Food</td>\n",
       "      <td>2.81</td>\n",
       "      <td>2.81</td>\n",
       "      <td>0.00</td>\n",
       "      <td>31.11</td>\n",
       "      <td>19</td>\n",
       "      <td>4</td>\n",
       "      <td>April</td>\n",
       "      <td>9</td>\n",
       "      <td>Tuesday</td>\n",
       "      <td>2</td>\n",
       "    </tr>\n",
       "    <tr>\n",
       "      <td>332</td>\n",
       "      <td>4/10/19</td>\n",
       "      <td>0</td>\n",
       "      <td>GSU PARKING DECK SKN       ATLA</td>\n",
       "      <td>Transportation</td>\n",
       "      <td>5.00</td>\n",
       "      <td>5.00</td>\n",
       "      <td>0.00</td>\n",
       "      <td>24.24</td>\n",
       "      <td>19</td>\n",
       "      <td>4</td>\n",
       "      <td>April</td>\n",
       "      <td>10</td>\n",
       "      <td>Wednesday</td>\n",
       "      <td>3</td>\n",
       "    </tr>\n",
       "    <tr>\n",
       "      <td>333</td>\n",
       "      <td>4/11/19</td>\n",
       "      <td>0</td>\n",
       "      <td>GSU PARKING DECK SKN       ATLA</td>\n",
       "      <td>Transportation</td>\n",
       "      <td>5.00</td>\n",
       "      <td>5.00</td>\n",
       "      <td>0.00</td>\n",
       "      <td>19.24</td>\n",
       "      <td>19</td>\n",
       "      <td>4</td>\n",
       "      <td>April</td>\n",
       "      <td>11</td>\n",
       "      <td>Thursday</td>\n",
       "      <td>4</td>\n",
       "    </tr>\n",
       "    <tr>\n",
       "      <td>334</td>\n",
       "      <td>4/11/19</td>\n",
       "      <td>0</td>\n",
       "      <td>QUIKTRIP                   DULU</td>\n",
       "      <td>Gasoline</td>\n",
       "      <td>10.01</td>\n",
       "      <td>10.01</td>\n",
       "      <td>0.00</td>\n",
       "      <td>9.23</td>\n",
       "      <td>19</td>\n",
       "      <td>4</td>\n",
       "      <td>April</td>\n",
       "      <td>11</td>\n",
       "      <td>Thursday</td>\n",
       "      <td>4</td>\n",
       "    </tr>\n",
       "    <tr>\n",
       "      <td>335</td>\n",
       "      <td>4/12/19</td>\n",
       "      <td>0</td>\n",
       "      <td>FROM 0175 1000027445740</td>\n",
       "      <td>Mom Fund</td>\n",
       "      <td>30.00</td>\n",
       "      <td>0.00</td>\n",
       "      <td>30.00</td>\n",
       "      <td>39.23</td>\n",
       "      <td>19</td>\n",
       "      <td>4</td>\n",
       "      <td>April</td>\n",
       "      <td>12</td>\n",
       "      <td>Friday</td>\n",
       "      <td>5</td>\n",
       "    </tr>\n",
       "    <tr>\n",
       "      <td>336</td>\n",
       "      <td>4/12/19</td>\n",
       "      <td>0</td>\n",
       "      <td>PEACHTREE INDUSTRIAL       DULU</td>\n",
       "      <td>Unknown</td>\n",
       "      <td>5.04</td>\n",
       "      <td>5.04</td>\n",
       "      <td>0.00</td>\n",
       "      <td>34.19</td>\n",
       "      <td>19</td>\n",
       "      <td>4</td>\n",
       "      <td>April</td>\n",
       "      <td>12</td>\n",
       "      <td>Friday</td>\n",
       "      <td>5</td>\n",
       "    </tr>\n",
       "    <tr>\n",
       "      <td>337</td>\n",
       "      <td>4/15/19</td>\n",
       "      <td>0</td>\n",
       "      <td>ALLY BANK        P2P</td>\n",
       "      <td>Ally Transfer - From</td>\n",
       "      <td>50.00</td>\n",
       "      <td>0.00</td>\n",
       "      <td>50.00</td>\n",
       "      <td>84.19</td>\n",
       "      <td>19</td>\n",
       "      <td>4</td>\n",
       "      <td>April</td>\n",
       "      <td>15</td>\n",
       "      <td>Monday</td>\n",
       "      <td>1</td>\n",
       "    </tr>\n",
       "    <tr>\n",
       "      <td>338</td>\n",
       "      <td>4/22/19</td>\n",
       "      <td>0</td>\n",
       "      <td>LAUREL SPRING #2           SUWA</td>\n",
       "      <td>Unknown</td>\n",
       "      <td>60.00</td>\n",
       "      <td>60.00</td>\n",
       "      <td>0.00</td>\n",
       "      <td>24.19</td>\n",
       "      <td>19</td>\n",
       "      <td>4</td>\n",
       "      <td>April</td>\n",
       "      <td>22</td>\n",
       "      <td>Monday</td>\n",
       "      <td>1</td>\n",
       "    </tr>\n",
       "    <tr>\n",
       "      <td>339</td>\n",
       "      <td>4/24/19</td>\n",
       "      <td>0</td>\n",
       "      <td>SAXBYS - GSU               ATLA</td>\n",
       "      <td>Food</td>\n",
       "      <td>3.04</td>\n",
       "      <td>3.04</td>\n",
       "      <td>0.00</td>\n",
       "      <td>21.15</td>\n",
       "      <td>19</td>\n",
       "      <td>4</td>\n",
       "      <td>April</td>\n",
       "      <td>24</td>\n",
       "      <td>Wednesday</td>\n",
       "      <td>3</td>\n",
       "    </tr>\n",
       "    <tr>\n",
       "      <td>340</td>\n",
       "      <td>4/26/19</td>\n",
       "      <td>0</td>\n",
       "      <td>SQUARE INC       ANTHO</td>\n",
       "      <td>Money Transfer - Credit</td>\n",
       "      <td>16.00</td>\n",
       "      <td>0.00</td>\n",
       "      <td>16.00</td>\n",
       "      <td>169.80</td>\n",
       "      <td>19</td>\n",
       "      <td>4</td>\n",
       "      <td>April</td>\n",
       "      <td>26</td>\n",
       "      <td>Friday</td>\n",
       "      <td>5</td>\n",
       "    </tr>\n",
       "    <tr>\n",
       "      <td>341</td>\n",
       "      <td>4/26/19</td>\n",
       "      <td>0</td>\n",
       "      <td>ZOES AP          PAYROLL</td>\n",
       "      <td>PayCheck Deposit - Zoes</td>\n",
       "      <td>46.84</td>\n",
       "      <td>0.00</td>\n",
       "      <td>46.84</td>\n",
       "      <td>67.99</td>\n",
       "      <td>19</td>\n",
       "      <td>4</td>\n",
       "      <td>April</td>\n",
       "      <td>26</td>\n",
       "      <td>Friday</td>\n",
       "      <td>5</td>\n",
       "    </tr>\n",
       "    <tr>\n",
       "      <td>342</td>\n",
       "      <td>4/26/19</td>\n",
       "      <td>0</td>\n",
       "      <td>ZOES AP          PAYROLL</td>\n",
       "      <td>PayCheck Deposit - Zoes</td>\n",
       "      <td>85.81</td>\n",
       "      <td>0.00</td>\n",
       "      <td>85.81</td>\n",
       "      <td>153.80</td>\n",
       "      <td>19</td>\n",
       "      <td>4</td>\n",
       "      <td>April</td>\n",
       "      <td>26</td>\n",
       "      <td>Friday</td>\n",
       "      <td>5</td>\n",
       "    </tr>\n",
       "    <tr>\n",
       "      <td>343</td>\n",
       "      <td>4/29/19</td>\n",
       "      <td>0</td>\n",
       "      <td>COOK OUT TUCKER            TUCK</td>\n",
       "      <td>Food</td>\n",
       "      <td>4.85</td>\n",
       "      <td>4.85</td>\n",
       "      <td>0.00</td>\n",
       "      <td>164.95</td>\n",
       "      <td>19</td>\n",
       "      <td>4</td>\n",
       "      <td>April</td>\n",
       "      <td>29</td>\n",
       "      <td>Monday</td>\n",
       "      <td>1</td>\n",
       "    </tr>\n",
       "    <tr>\n",
       "      <td>344</td>\n",
       "      <td>4/30/19</td>\n",
       "      <td>0</td>\n",
       "      <td>GSU PANTHER DINING RET     ATLA</td>\n",
       "      <td>Food</td>\n",
       "      <td>3.80</td>\n",
       "      <td>3.80</td>\n",
       "      <td>0.00</td>\n",
       "      <td>161.15</td>\n",
       "      <td>19</td>\n",
       "      <td>4</td>\n",
       "      <td>April</td>\n",
       "      <td>30</td>\n",
       "      <td>Tuesday</td>\n",
       "      <td>2</td>\n",
       "    </tr>\n",
       "    <tr>\n",
       "      <td>345</td>\n",
       "      <td>4/30/19</td>\n",
       "      <td>0</td>\n",
       "      <td>PANDA EXPRESS #3101        ATLA</td>\n",
       "      <td>Food</td>\n",
       "      <td>8.28</td>\n",
       "      <td>8.28</td>\n",
       "      <td>0.00</td>\n",
       "      <td>152.87</td>\n",
       "      <td>19</td>\n",
       "      <td>4</td>\n",
       "      <td>April</td>\n",
       "      <td>30</td>\n",
       "      <td>Tuesday</td>\n",
       "      <td>2</td>\n",
       "    </tr>\n",
       "  </tbody>\n",
       "</table>\n",
       "</div>"
      ],
      "text/plain": [
       "        Date  Check Number                       Description  \\\n",
       "313   4/1/19             0   GSU PARKING DECK G         ATLA   \n",
       "314   4/1/19             0   VIP BILLIARDS              DULU   \n",
       "315   4/2/19             0   GSU PANTHER DINING RET     ATLA   \n",
       "316   4/2/19             0   GSU PARKING DECK SKN       ATLA   \n",
       "317   4/2/19             0   SQU*SQ *THE TAQUERIA O     ATLA   \n",
       "318   4/3/19             0   GSU PARKING DECK SKN       ATLA   \n",
       "319   4/4/19             0   GSU PANTHER DINING RET     ATLA   \n",
       "320   4/4/19             0   GSU PARKING DECK SKN       ATLA   \n",
       "321   4/4/19             0   FELLINI S PIZZA-PONCE      ATLA   \n",
       "322   4/5/19             0   CMSVEND*GEORGIA VENDIN     ALPH   \n",
       "323   4/5/19             0   GSU PANTHER DINING RET     ATLA   \n",
       "324   4/5/19             0   GSU PARKING DECK SKN       ATLA   \n",
       "325   4/5/19             0   SQU*SQ *THE TAQUERIA O     ATLA   \n",
       "326   4/8/19             0   DAIRY QUEEN #41248         NORC   \n",
       "327   4/8/19             0   PEACHTREE INDUSTRIAL       DULU   \n",
       "328   4/8/19             0   VIP BILLIARDS              DULU   \n",
       "329   4/8/19             0   KROGER 38 3455             DULU   \n",
       "330   4/9/19             0   WALGREENS 25 P             ATLA   \n",
       "331   4/9/19             0   WALGREENS 25 P             ATLA   \n",
       "332  4/10/19             0   GSU PARKING DECK SKN       ATLA   \n",
       "333  4/11/19             0   GSU PARKING DECK SKN       ATLA   \n",
       "334  4/11/19             0   QUIKTRIP                   DULU   \n",
       "335  4/12/19             0         FROM 0175 1000027445740     \n",
       "336  4/12/19             0   PEACHTREE INDUSTRIAL       DULU   \n",
       "337  4/15/19             0   ALLY BANK        P2P              \n",
       "338  4/22/19             0   LAUREL SPRING #2           SUWA   \n",
       "339  4/24/19             0   SAXBYS - GSU               ATLA   \n",
       "340  4/26/19             0   SQUARE INC       ANTHO            \n",
       "341  4/26/19             0   ZOES AP          PAYROLL          \n",
       "342  4/26/19             0   ZOES AP          PAYROLL          \n",
       "343  4/29/19             0   COOK OUT TUCKER            TUCK   \n",
       "344  4/30/19             0   GSU PANTHER DINING RET     ATLA   \n",
       "345  4/30/19             0   PANDA EXPRESS #3101        ATLA   \n",
       "\n",
       "                        Type  Charge  Debit  Credit  Running Balance Year  \\\n",
       "313           Transportation    2.00   2.00    0.00           164.98   19   \n",
       "314            Entertainment   27.00  27.00    0.00           137.98   19   \n",
       "315                     Food    3.80   3.80    0.00           129.18   19   \n",
       "316           Transportation    5.00   5.00    0.00           132.98   19   \n",
       "317                     Food   11.49  11.49    0.00           117.69   19   \n",
       "318           Transportation    2.00   2.00    0.00           115.69   19   \n",
       "319                     Food    2.89   2.89    0.00           101.23   19   \n",
       "320           Transportation    5.00   5.00    0.00           104.12   19   \n",
       "321                     Food    6.57   6.57    0.00           109.12   19   \n",
       "322                     Food    2.00   2.00    0.00            80.90   19   \n",
       "323                     Food    2.89   2.89    0.00            93.34   19   \n",
       "324           Transportation    5.00   5.00    0.00            96.23   19   \n",
       "325                     Food   10.44  10.44    0.00            82.90   19   \n",
       "326                     Food    7.62   7.62    0.00            63.26   19   \n",
       "327                  Unknown   10.02  10.02    0.00            70.88   19   \n",
       "328            Entertainment   14.00  14.00    0.00            33.92   19   \n",
       "329                 Gasoline   15.34  15.34    0.00            47.92   19   \n",
       "330                     Food    1.87   1.87    0.00            29.24   19   \n",
       "331                     Food    2.81   2.81    0.00            31.11   19   \n",
       "332           Transportation    5.00   5.00    0.00            24.24   19   \n",
       "333           Transportation    5.00   5.00    0.00            19.24   19   \n",
       "334                 Gasoline   10.01  10.01    0.00             9.23   19   \n",
       "335                 Mom Fund   30.00   0.00   30.00            39.23   19   \n",
       "336                  Unknown    5.04   5.04    0.00            34.19   19   \n",
       "337     Ally Transfer - From   50.00   0.00   50.00            84.19   19   \n",
       "338                  Unknown   60.00  60.00    0.00            24.19   19   \n",
       "339                     Food    3.04   3.04    0.00            21.15   19   \n",
       "340  Money Transfer - Credit   16.00   0.00   16.00           169.80   19   \n",
       "341  PayCheck Deposit - Zoes   46.84   0.00   46.84            67.99   19   \n",
       "342  PayCheck Deposit - Zoes   85.81   0.00   85.81           153.80   19   \n",
       "343                     Food    4.85   4.85    0.00           164.95   19   \n",
       "344                     Food    3.80   3.80    0.00           161.15   19   \n",
       "345                     Food    8.28   8.28    0.00           152.87   19   \n",
       "\n",
       "    Month MonthName Day    DayName  DayCode  \n",
       "313     4     April   1     Monday        1  \n",
       "314     4     April   1     Monday        1  \n",
       "315     4     April   2    Tuesday        2  \n",
       "316     4     April   2    Tuesday        2  \n",
       "317     4     April   2    Tuesday        2  \n",
       "318     4     April   3  Wednesday        3  \n",
       "319     4     April   4   Thursday        4  \n",
       "320     4     April   4   Thursday        4  \n",
       "321     4     April   4   Thursday        4  \n",
       "322     4     April   5     Friday        5  \n",
       "323     4     April   5     Friday        5  \n",
       "324     4     April   5     Friday        5  \n",
       "325     4     April   5     Friday        5  \n",
       "326     4     April   8     Monday        1  \n",
       "327     4     April   8     Monday        1  \n",
       "328     4     April   8     Monday        1  \n",
       "329     4     April   8     Monday        1  \n",
       "330     4     April   9    Tuesday        2  \n",
       "331     4     April   9    Tuesday        2  \n",
       "332     4     April  10  Wednesday        3  \n",
       "333     4     April  11   Thursday        4  \n",
       "334     4     April  11   Thursday        4  \n",
       "335     4     April  12     Friday        5  \n",
       "336     4     April  12     Friday        5  \n",
       "337     4     April  15     Monday        1  \n",
       "338     4     April  22     Monday        1  \n",
       "339     4     April  24  Wednesday        3  \n",
       "340     4     April  26     Friday        5  \n",
       "341     4     April  26     Friday        5  \n",
       "342     4     April  26     Friday        5  \n",
       "343     4     April  29     Monday        1  \n",
       "344     4     April  30    Tuesday        2  \n",
       "345     4     April  30    Tuesday        2  "
      ]
     },
     "metadata": {},
     "output_type": "display_data"
    },
    {
     "data": {
      "text/html": [
       "<div>\n",
       "<style scoped>\n",
       "    .dataframe tbody tr th:only-of-type {\n",
       "        vertical-align: middle;\n",
       "    }\n",
       "\n",
       "    .dataframe tbody tr th {\n",
       "        vertical-align: top;\n",
       "    }\n",
       "\n",
       "    .dataframe thead th {\n",
       "        text-align: right;\n",
       "    }\n",
       "</style>\n",
       "<table border=\"1\" class=\"dataframe\">\n",
       "  <thead>\n",
       "    <tr style=\"text-align: right;\">\n",
       "      <th></th>\n",
       "      <th>Date</th>\n",
       "      <th>Check Number</th>\n",
       "      <th>Description</th>\n",
       "      <th>Type</th>\n",
       "      <th>Charge</th>\n",
       "      <th>Debit</th>\n",
       "      <th>Credit</th>\n",
       "      <th>Running Balance</th>\n",
       "      <th>Year</th>\n",
       "      <th>Month</th>\n",
       "      <th>MonthName</th>\n",
       "      <th>Day</th>\n",
       "      <th>DayName</th>\n",
       "      <th>DayCode</th>\n",
       "    </tr>\n",
       "  </thead>\n",
       "  <tbody>\n",
       "    <tr>\n",
       "      <td>346</td>\n",
       "      <td>5/1/19</td>\n",
       "      <td>0</td>\n",
       "      <td>WALGREENS 25 P             ATLA</td>\n",
       "      <td>Food</td>\n",
       "      <td>3.34</td>\n",
       "      <td>3.34</td>\n",
       "      <td>0.0</td>\n",
       "      <td>143.33</td>\n",
       "      <td>19</td>\n",
       "      <td>5</td>\n",
       "      <td>May</td>\n",
       "      <td>1</td>\n",
       "      <td>Wednesday</td>\n",
       "      <td>3</td>\n",
       "    </tr>\n",
       "    <tr>\n",
       "      <td>347</td>\n",
       "      <td>5/1/19</td>\n",
       "      <td>0</td>\n",
       "      <td>SMOOTHIE KING #468-GEO     ATLA</td>\n",
       "      <td>Food</td>\n",
       "      <td>6.20</td>\n",
       "      <td>6.20</td>\n",
       "      <td>0.0</td>\n",
       "      <td>146.67</td>\n",
       "      <td>19</td>\n",
       "      <td>5</td>\n",
       "      <td>May</td>\n",
       "      <td>1</td>\n",
       "      <td>Wednesday</td>\n",
       "      <td>3</td>\n",
       "    </tr>\n",
       "    <tr>\n",
       "      <td>348</td>\n",
       "      <td>5/2/19</td>\n",
       "      <td>0</td>\n",
       "      <td>GSU PANTHER DINING RET     ATLA</td>\n",
       "      <td>Food</td>\n",
       "      <td>3.37</td>\n",
       "      <td>3.37</td>\n",
       "      <td>0.0</td>\n",
       "      <td>139.96</td>\n",
       "      <td>19</td>\n",
       "      <td>5</td>\n",
       "      <td>May</td>\n",
       "      <td>2</td>\n",
       "      <td>Thursday</td>\n",
       "      <td>4</td>\n",
       "    </tr>\n",
       "    <tr>\n",
       "      <td>349</td>\n",
       "      <td>5/3/19</td>\n",
       "      <td>0</td>\n",
       "      <td>KROGER 38 3455             DULU</td>\n",
       "      <td>Food</td>\n",
       "      <td>3.56</td>\n",
       "      <td>3.56</td>\n",
       "      <td>0.0</td>\n",
       "      <td>136.40</td>\n",
       "      <td>19</td>\n",
       "      <td>5</td>\n",
       "      <td>May</td>\n",
       "      <td>3</td>\n",
       "      <td>Friday</td>\n",
       "      <td>5</td>\n",
       "    </tr>\n",
       "    <tr>\n",
       "      <td>350</td>\n",
       "      <td>5/6/19</td>\n",
       "      <td>0</td>\n",
       "      <td>SAXBYS - GSU               ATLA</td>\n",
       "      <td>Food</td>\n",
       "      <td>4.39</td>\n",
       "      <td>4.39</td>\n",
       "      <td>0.0</td>\n",
       "      <td>132.01</td>\n",
       "      <td>19</td>\n",
       "      <td>5</td>\n",
       "      <td>May</td>\n",
       "      <td>6</td>\n",
       "      <td>Monday</td>\n",
       "      <td>1</td>\n",
       "    </tr>\n",
       "    <tr>\n",
       "      <td>351</td>\n",
       "      <td>5/6/19</td>\n",
       "      <td>0</td>\n",
       "      <td>LITTLE CAESARS 1391-00     NORC</td>\n",
       "      <td>Food</td>\n",
       "      <td>6.36</td>\n",
       "      <td>6.36</td>\n",
       "      <td>0.0</td>\n",
       "      <td>61.71</td>\n",
       "      <td>19</td>\n",
       "      <td>5</td>\n",
       "      <td>May</td>\n",
       "      <td>6</td>\n",
       "      <td>Monday</td>\n",
       "      <td>1</td>\n",
       "    </tr>\n",
       "    <tr>\n",
       "      <td>352</td>\n",
       "      <td>5/6/19</td>\n",
       "      <td>0</td>\n",
       "      <td>KROGER 38 3455             DULU</td>\n",
       "      <td>Gasoline</td>\n",
       "      <td>26.05</td>\n",
       "      <td>26.05</td>\n",
       "      <td>0.0</td>\n",
       "      <td>105.96</td>\n",
       "      <td>19</td>\n",
       "      <td>5</td>\n",
       "      <td>May</td>\n",
       "      <td>6</td>\n",
       "      <td>Monday</td>\n",
       "      <td>1</td>\n",
       "    </tr>\n",
       "    <tr>\n",
       "      <td>353</td>\n",
       "      <td>5/6/19</td>\n",
       "      <td>0</td>\n",
       "      <td>803 BOWLERO 8003425263     NORC</td>\n",
       "      <td>Entertainment</td>\n",
       "      <td>37.89</td>\n",
       "      <td>37.89</td>\n",
       "      <td>0.0</td>\n",
       "      <td>68.07</td>\n",
       "      <td>19</td>\n",
       "      <td>5</td>\n",
       "      <td>May</td>\n",
       "      <td>6</td>\n",
       "      <td>Monday</td>\n",
       "      <td>1</td>\n",
       "    </tr>\n",
       "    <tr>\n",
       "      <td>354</td>\n",
       "      <td>5/7/19</td>\n",
       "      <td>0</td>\n",
       "      <td>ALLY BANK        $TRANSFER</td>\n",
       "      <td>Ally Transfer - From</td>\n",
       "      <td>150.00</td>\n",
       "      <td>0.00</td>\n",
       "      <td>150.0</td>\n",
       "      <td>211.71</td>\n",
       "      <td>19</td>\n",
       "      <td>5</td>\n",
       "      <td>May</td>\n",
       "      <td>7</td>\n",
       "      <td>Tuesday</td>\n",
       "      <td>2</td>\n",
       "    </tr>\n",
       "    <tr>\n",
       "      <td>355</td>\n",
       "      <td>5/10/19</td>\n",
       "      <td>0</td>\n",
       "      <td>SQUARE INC       * CASH APP</td>\n",
       "      <td>Money Transfer - Credit</td>\n",
       "      <td>28.00</td>\n",
       "      <td>0.00</td>\n",
       "      <td>28.0</td>\n",
       "      <td>239.71</td>\n",
       "      <td>19</td>\n",
       "      <td>5</td>\n",
       "      <td>May</td>\n",
       "      <td>10</td>\n",
       "      <td>Friday</td>\n",
       "      <td>5</td>\n",
       "    </tr>\n",
       "    <tr>\n",
       "      <td>356</td>\n",
       "      <td>5/13/19</td>\n",
       "      <td>0</td>\n",
       "      <td>SQUARE INC       * CASH APP</td>\n",
       "      <td>Money Transfer - Credit</td>\n",
       "      <td>25.00</td>\n",
       "      <td>0.00</td>\n",
       "      <td>25.0</td>\n",
       "      <td>264.71</td>\n",
       "      <td>19</td>\n",
       "      <td>5</td>\n",
       "      <td>May</td>\n",
       "      <td>13</td>\n",
       "      <td>Monday</td>\n",
       "      <td>1</td>\n",
       "    </tr>\n",
       "    <tr>\n",
       "      <td>357</td>\n",
       "      <td>5/13/19</td>\n",
       "      <td>0</td>\n",
       "      <td>ALLY CASHBACK CC ONLINE PMT CKF</td>\n",
       "      <td>CC BillPay</td>\n",
       "      <td>119.32</td>\n",
       "      <td>119.32</td>\n",
       "      <td>0.0</td>\n",
       "      <td>145.39</td>\n",
       "      <td>19</td>\n",
       "      <td>5</td>\n",
       "      <td>May</td>\n",
       "      <td>13</td>\n",
       "      <td>Monday</td>\n",
       "      <td>1</td>\n",
       "    </tr>\n",
       "    <tr>\n",
       "      <td>358</td>\n",
       "      <td>5/21/19</td>\n",
       "      <td>0</td>\n",
       "      <td>CI CI S NORCROSS #         PEAC</td>\n",
       "      <td>Food</td>\n",
       "      <td>6.56</td>\n",
       "      <td>6.56</td>\n",
       "      <td>0.0</td>\n",
       "      <td>138.83</td>\n",
       "      <td>19</td>\n",
       "      <td>5</td>\n",
       "      <td>May</td>\n",
       "      <td>21</td>\n",
       "      <td>Tuesday</td>\n",
       "      <td>2</td>\n",
       "    </tr>\n",
       "    <tr>\n",
       "      <td>359</td>\n",
       "      <td>5/22/19</td>\n",
       "      <td>0</td>\n",
       "      <td>VENMO            PAYMENT    207</td>\n",
       "      <td>Money Transfer - Debit</td>\n",
       "      <td>27.00</td>\n",
       "      <td>27.00</td>\n",
       "      <td>0.0</td>\n",
       "      <td>111.83</td>\n",
       "      <td>19</td>\n",
       "      <td>5</td>\n",
       "      <td>May</td>\n",
       "      <td>22</td>\n",
       "      <td>Wednesday</td>\n",
       "      <td>3</td>\n",
       "    </tr>\n",
       "    <tr>\n",
       "      <td>360</td>\n",
       "      <td>5/23/19</td>\n",
       "      <td>0</td>\n",
       "      <td>ALLY BANK        P2P</td>\n",
       "      <td>Ally Transfer - From</td>\n",
       "      <td>207.00</td>\n",
       "      <td>0.00</td>\n",
       "      <td>207.0</td>\n",
       "      <td>318.83</td>\n",
       "      <td>19</td>\n",
       "      <td>5</td>\n",
       "      <td>May</td>\n",
       "      <td>23</td>\n",
       "      <td>Thursday</td>\n",
       "      <td>4</td>\n",
       "    </tr>\n",
       "    <tr>\n",
       "      <td>361</td>\n",
       "      <td>5/28/19</td>\n",
       "      <td>0</td>\n",
       "      <td>BERKLEY LAKE               NORC</td>\n",
       "      <td>Unknown</td>\n",
       "      <td>20.00</td>\n",
       "      <td>20.00</td>\n",
       "      <td>0.0</td>\n",
       "      <td>298.83</td>\n",
       "      <td>19</td>\n",
       "      <td>5</td>\n",
       "      <td>May</td>\n",
       "      <td>28</td>\n",
       "      <td>Tuesday</td>\n",
       "      <td>2</td>\n",
       "    </tr>\n",
       "    <tr>\n",
       "      <td>362</td>\n",
       "      <td>5/30/19</td>\n",
       "      <td>0</td>\n",
       "      <td>KROGER #6 3093             DULU</td>\n",
       "      <td>Food</td>\n",
       "      <td>4.58</td>\n",
       "      <td>4.58</td>\n",
       "      <td>0.0</td>\n",
       "      <td>294.25</td>\n",
       "      <td>19</td>\n",
       "      <td>5</td>\n",
       "      <td>May</td>\n",
       "      <td>30</td>\n",
       "      <td>Thursday</td>\n",
       "      <td>4</td>\n",
       "    </tr>\n",
       "    <tr>\n",
       "      <td>363</td>\n",
       "      <td>5/31/19</td>\n",
       "      <td>0</td>\n",
       "      <td>CHICK-FIL-A #00821         DULU</td>\n",
       "      <td>Food</td>\n",
       "      <td>3.59</td>\n",
       "      <td>3.59</td>\n",
       "      <td>0.0</td>\n",
       "      <td>290.66</td>\n",
       "      <td>19</td>\n",
       "      <td>5</td>\n",
       "      <td>May</td>\n",
       "      <td>31</td>\n",
       "      <td>Friday</td>\n",
       "      <td>5</td>\n",
       "    </tr>\n",
       "  </tbody>\n",
       "</table>\n",
       "</div>"
      ],
      "text/plain": [
       "        Date  Check Number                       Description  \\\n",
       "346   5/1/19             0   WALGREENS 25 P             ATLA   \n",
       "347   5/1/19             0   SMOOTHIE KING #468-GEO     ATLA   \n",
       "348   5/2/19             0   GSU PANTHER DINING RET     ATLA   \n",
       "349   5/3/19             0   KROGER 38 3455             DULU   \n",
       "350   5/6/19             0   SAXBYS - GSU               ATLA   \n",
       "351   5/6/19             0   LITTLE CAESARS 1391-00     NORC   \n",
       "352   5/6/19             0   KROGER 38 3455             DULU   \n",
       "353   5/6/19             0   803 BOWLERO 8003425263     NORC   \n",
       "354   5/7/19             0   ALLY BANK        $TRANSFER        \n",
       "355  5/10/19             0   SQUARE INC       * CASH APP       \n",
       "356  5/13/19             0   SQUARE INC       * CASH APP       \n",
       "357  5/13/19             0   ALLY CASHBACK CC ONLINE PMT CKF   \n",
       "358  5/21/19             0   CI CI S NORCROSS #         PEAC   \n",
       "359  5/22/19             0   VENMO            PAYMENT    207   \n",
       "360  5/23/19             0   ALLY BANK        P2P              \n",
       "361  5/28/19             0   BERKLEY LAKE               NORC   \n",
       "362  5/30/19             0   KROGER #6 3093             DULU   \n",
       "363  5/31/19             0   CHICK-FIL-A #00821         DULU   \n",
       "\n",
       "                        Type  Charge   Debit  Credit  Running Balance Year  \\\n",
       "346                     Food    3.34    3.34     0.0           143.33   19   \n",
       "347                     Food    6.20    6.20     0.0           146.67   19   \n",
       "348                     Food    3.37    3.37     0.0           139.96   19   \n",
       "349                     Food    3.56    3.56     0.0           136.40   19   \n",
       "350                     Food    4.39    4.39     0.0           132.01   19   \n",
       "351                     Food    6.36    6.36     0.0            61.71   19   \n",
       "352                 Gasoline   26.05   26.05     0.0           105.96   19   \n",
       "353            Entertainment   37.89   37.89     0.0            68.07   19   \n",
       "354     Ally Transfer - From  150.00    0.00   150.0           211.71   19   \n",
       "355  Money Transfer - Credit   28.00    0.00    28.0           239.71   19   \n",
       "356  Money Transfer - Credit   25.00    0.00    25.0           264.71   19   \n",
       "357               CC BillPay  119.32  119.32     0.0           145.39   19   \n",
       "358                     Food    6.56    6.56     0.0           138.83   19   \n",
       "359   Money Transfer - Debit   27.00   27.00     0.0           111.83   19   \n",
       "360     Ally Transfer - From  207.00    0.00   207.0           318.83   19   \n",
       "361                  Unknown   20.00   20.00     0.0           298.83   19   \n",
       "362                     Food    4.58    4.58     0.0           294.25   19   \n",
       "363                     Food    3.59    3.59     0.0           290.66   19   \n",
       "\n",
       "    Month MonthName Day    DayName  DayCode  \n",
       "346     5       May   1  Wednesday        3  \n",
       "347     5       May   1  Wednesday        3  \n",
       "348     5       May   2   Thursday        4  \n",
       "349     5       May   3     Friday        5  \n",
       "350     5       May   6     Monday        1  \n",
       "351     5       May   6     Monday        1  \n",
       "352     5       May   6     Monday        1  \n",
       "353     5       May   6     Monday        1  \n",
       "354     5       May   7    Tuesday        2  \n",
       "355     5       May  10     Friday        5  \n",
       "356     5       May  13     Monday        1  \n",
       "357     5       May  13     Monday        1  \n",
       "358     5       May  21    Tuesday        2  \n",
       "359     5       May  22  Wednesday        3  \n",
       "360     5       May  23   Thursday        4  \n",
       "361     5       May  28    Tuesday        2  \n",
       "362     5       May  30   Thursday        4  \n",
       "363     5       May  31     Friday        5  "
      ]
     },
     "metadata": {},
     "output_type": "display_data"
    },
    {
     "data": {
      "text/html": [
       "<div>\n",
       "<style scoped>\n",
       "    .dataframe tbody tr th:only-of-type {\n",
       "        vertical-align: middle;\n",
       "    }\n",
       "\n",
       "    .dataframe tbody tr th {\n",
       "        vertical-align: top;\n",
       "    }\n",
       "\n",
       "    .dataframe thead th {\n",
       "        text-align: right;\n",
       "    }\n",
       "</style>\n",
       "<table border=\"1\" class=\"dataframe\">\n",
       "  <thead>\n",
       "    <tr style=\"text-align: right;\">\n",
       "      <th></th>\n",
       "      <th>Date</th>\n",
       "      <th>Check Number</th>\n",
       "      <th>Description</th>\n",
       "      <th>Type</th>\n",
       "      <th>Charge</th>\n",
       "      <th>Debit</th>\n",
       "      <th>Credit</th>\n",
       "      <th>Running Balance</th>\n",
       "      <th>Year</th>\n",
       "      <th>Month</th>\n",
       "      <th>MonthName</th>\n",
       "      <th>Day</th>\n",
       "      <th>DayName</th>\n",
       "      <th>DayCode</th>\n",
       "    </tr>\n",
       "  </thead>\n",
       "  <tbody>\n",
       "    <tr>\n",
       "      <td>364</td>\n",
       "      <td>6/3/19</td>\n",
       "      <td>0</td>\n",
       "      <td>QT 831        07008311     DULU</td>\n",
       "      <td>Food</td>\n",
       "      <td>2.03</td>\n",
       "      <td>2.03</td>\n",
       "      <td>0.00</td>\n",
       "      <td>288.63</td>\n",
       "      <td>19</td>\n",
       "      <td>6</td>\n",
       "      <td>June</td>\n",
       "      <td>3</td>\n",
       "      <td>Monday</td>\n",
       "      <td>1</td>\n",
       "    </tr>\n",
       "    <tr>\n",
       "      <td>365</td>\n",
       "      <td>6/6/19</td>\n",
       "      <td>0</td>\n",
       "      <td>SQUARE INC       * CASH APP</td>\n",
       "      <td>Money Transfer - Credit</td>\n",
       "      <td>15.00</td>\n",
       "      <td>0.00</td>\n",
       "      <td>15.00</td>\n",
       "      <td>303.63</td>\n",
       "      <td>19</td>\n",
       "      <td>6</td>\n",
       "      <td>June</td>\n",
       "      <td>6</td>\n",
       "      <td>Thursday</td>\n",
       "      <td>4</td>\n",
       "    </tr>\n",
       "    <tr>\n",
       "      <td>366</td>\n",
       "      <td>6/6/19</td>\n",
       "      <td>0</td>\n",
       "      <td>SQUARE INC       * CASH APP T20</td>\n",
       "      <td>Money Transfer - Debit</td>\n",
       "      <td>5.00</td>\n",
       "      <td>5.00</td>\n",
       "      <td>0.00</td>\n",
       "      <td>293.63</td>\n",
       "      <td>19</td>\n",
       "      <td>6</td>\n",
       "      <td>June</td>\n",
       "      <td>6</td>\n",
       "      <td>Thursday</td>\n",
       "      <td>4</td>\n",
       "    </tr>\n",
       "    <tr>\n",
       "      <td>367</td>\n",
       "      <td>6/6/19</td>\n",
       "      <td>0</td>\n",
       "      <td>SQUARE INC       * CASH APP T20</td>\n",
       "      <td>Money Transfer - Debit</td>\n",
       "      <td>5.00</td>\n",
       "      <td>5.00</td>\n",
       "      <td>0.00</td>\n",
       "      <td>298.63</td>\n",
       "      <td>19</td>\n",
       "      <td>6</td>\n",
       "      <td>June</td>\n",
       "      <td>6</td>\n",
       "      <td>Thursday</td>\n",
       "      <td>4</td>\n",
       "    </tr>\n",
       "    <tr>\n",
       "      <td>368</td>\n",
       "      <td>6/10/19</td>\n",
       "      <td>0</td>\n",
       "      <td>POPEYES #12807             DULU</td>\n",
       "      <td>Food</td>\n",
       "      <td>6.88</td>\n",
       "      <td>6.88</td>\n",
       "      <td>0.00</td>\n",
       "      <td>278.53</td>\n",
       "      <td>19</td>\n",
       "      <td>6</td>\n",
       "      <td>June</td>\n",
       "      <td>10</td>\n",
       "      <td>Monday</td>\n",
       "      <td>1</td>\n",
       "    </tr>\n",
       "    <tr>\n",
       "      <td>369</td>\n",
       "      <td>6/10/19</td>\n",
       "      <td>0</td>\n",
       "      <td>SUBLIME DRUIDHILLS         ATLA</td>\n",
       "      <td>Food</td>\n",
       "      <td>8.22</td>\n",
       "      <td>8.22</td>\n",
       "      <td>0.00</td>\n",
       "      <td>285.41</td>\n",
       "      <td>19</td>\n",
       "      <td>6</td>\n",
       "      <td>June</td>\n",
       "      <td>10</td>\n",
       "      <td>Monday</td>\n",
       "      <td>1</td>\n",
       "    </tr>\n",
       "    <tr>\n",
       "      <td>370</td>\n",
       "      <td>6/11/19</td>\n",
       "      <td>0</td>\n",
       "      <td>ALLY CASHBACK CC ONLINE PMT CKF</td>\n",
       "      <td>CC BillPay</td>\n",
       "      <td>180.40</td>\n",
       "      <td>180.40</td>\n",
       "      <td>0.00</td>\n",
       "      <td>98.13</td>\n",
       "      <td>19</td>\n",
       "      <td>6</td>\n",
       "      <td>June</td>\n",
       "      <td>11</td>\n",
       "      <td>Tuesday</td>\n",
       "      <td>2</td>\n",
       "    </tr>\n",
       "    <tr>\n",
       "      <td>371</td>\n",
       "      <td>6/12/19</td>\n",
       "      <td>0</td>\n",
       "      <td>VENMO            CASHOUT</td>\n",
       "      <td>Money Transfer - Credit</td>\n",
       "      <td>21.50</td>\n",
       "      <td>0.00</td>\n",
       "      <td>21.50</td>\n",
       "      <td>119.63</td>\n",
       "      <td>19</td>\n",
       "      <td>6</td>\n",
       "      <td>June</td>\n",
       "      <td>12</td>\n",
       "      <td>Wednesday</td>\n",
       "      <td>3</td>\n",
       "    </tr>\n",
       "    <tr>\n",
       "      <td>372</td>\n",
       "      <td>6/12/19</td>\n",
       "      <td>0</td>\n",
       "      <td>GSU PANTHER DINING RET     ATLA</td>\n",
       "      <td>Food</td>\n",
       "      <td>2.17</td>\n",
       "      <td>2.17</td>\n",
       "      <td>0.00</td>\n",
       "      <td>113.71</td>\n",
       "      <td>19</td>\n",
       "      <td>6</td>\n",
       "      <td>June</td>\n",
       "      <td>12</td>\n",
       "      <td>Wednesday</td>\n",
       "      <td>3</td>\n",
       "    </tr>\n",
       "    <tr>\n",
       "      <td>373</td>\n",
       "      <td>6/12/19</td>\n",
       "      <td>0</td>\n",
       "      <td>COOK OUT MORELAND AVE      ATLA</td>\n",
       "      <td>Food</td>\n",
       "      <td>3.75</td>\n",
       "      <td>3.75</td>\n",
       "      <td>0.00</td>\n",
       "      <td>115.88</td>\n",
       "      <td>19</td>\n",
       "      <td>6</td>\n",
       "      <td>June</td>\n",
       "      <td>12</td>\n",
       "      <td>Wednesday</td>\n",
       "      <td>3</td>\n",
       "    </tr>\n",
       "    <tr>\n",
       "      <td>374</td>\n",
       "      <td>6/14/19</td>\n",
       "      <td>0</td>\n",
       "      <td>SQUARE INC       * CASH APP T20</td>\n",
       "      <td>Money Transfer - Debit</td>\n",
       "      <td>8.00</td>\n",
       "      <td>8.00</td>\n",
       "      <td>0.00</td>\n",
       "      <td>90.68</td>\n",
       "      <td>19</td>\n",
       "      <td>6</td>\n",
       "      <td>June</td>\n",
       "      <td>14</td>\n",
       "      <td>Friday</td>\n",
       "      <td>5</td>\n",
       "    </tr>\n",
       "    <tr>\n",
       "      <td>375</td>\n",
       "      <td>6/14/19</td>\n",
       "      <td>0</td>\n",
       "      <td>JERSEY MIKES 5020          ATLA</td>\n",
       "      <td>Food</td>\n",
       "      <td>15.03</td>\n",
       "      <td>15.03</td>\n",
       "      <td>0.00</td>\n",
       "      <td>98.68</td>\n",
       "      <td>19</td>\n",
       "      <td>6</td>\n",
       "      <td>June</td>\n",
       "      <td>14</td>\n",
       "      <td>Friday</td>\n",
       "      <td>5</td>\n",
       "    </tr>\n",
       "    <tr>\n",
       "      <td>376</td>\n",
       "      <td>6/17/19</td>\n",
       "      <td>0</td>\n",
       "      <td>QT 729        07007297     ATLA</td>\n",
       "      <td>Food</td>\n",
       "      <td>1.04</td>\n",
       "      <td>1.04</td>\n",
       "      <td>0.00</td>\n",
       "      <td>89.64</td>\n",
       "      <td>19</td>\n",
       "      <td>6</td>\n",
       "      <td>June</td>\n",
       "      <td>17</td>\n",
       "      <td>Monday</td>\n",
       "      <td>1</td>\n",
       "    </tr>\n",
       "    <tr>\n",
       "      <td>377</td>\n",
       "      <td>6/17/19</td>\n",
       "      <td>0</td>\n",
       "      <td>KROGER #2 3300             ATLA</td>\n",
       "      <td>Food</td>\n",
       "      <td>2.54</td>\n",
       "      <td>2.54</td>\n",
       "      <td>0.00</td>\n",
       "      <td>77.63</td>\n",
       "      <td>19</td>\n",
       "      <td>6</td>\n",
       "      <td>June</td>\n",
       "      <td>17</td>\n",
       "      <td>Monday</td>\n",
       "      <td>1</td>\n",
       "    </tr>\n",
       "    <tr>\n",
       "      <td>378</td>\n",
       "      <td>6/17/19</td>\n",
       "      <td>0</td>\n",
       "      <td>BQ WINGS                   DULU</td>\n",
       "      <td>Food</td>\n",
       "      <td>9.47</td>\n",
       "      <td>9.47</td>\n",
       "      <td>0.00</td>\n",
       "      <td>80.17</td>\n",
       "      <td>19</td>\n",
       "      <td>6</td>\n",
       "      <td>June</td>\n",
       "      <td>17</td>\n",
       "      <td>Monday</td>\n",
       "      <td>1</td>\n",
       "    </tr>\n",
       "    <tr>\n",
       "      <td>379</td>\n",
       "      <td>6/17/19</td>\n",
       "      <td>507</td>\n",
       "      <td>CHECK</td>\n",
       "      <td>Withdrawal</td>\n",
       "      <td>30.00</td>\n",
       "      <td>30.00</td>\n",
       "      <td>0.00</td>\n",
       "      <td>47.63</td>\n",
       "      <td>19</td>\n",
       "      <td>6</td>\n",
       "      <td>June</td>\n",
       "      <td>17</td>\n",
       "      <td>Monday</td>\n",
       "      <td>1</td>\n",
       "    </tr>\n",
       "    <tr>\n",
       "      <td>380</td>\n",
       "      <td>6/18/19</td>\n",
       "      <td>0</td>\n",
       "      <td>QT 1702       91017020     SMYR</td>\n",
       "      <td>Food</td>\n",
       "      <td>3.82</td>\n",
       "      <td>3.82</td>\n",
       "      <td>0.00</td>\n",
       "      <td>43.81</td>\n",
       "      <td>19</td>\n",
       "      <td>6</td>\n",
       "      <td>June</td>\n",
       "      <td>18</td>\n",
       "      <td>Tuesday</td>\n",
       "      <td>2</td>\n",
       "    </tr>\n",
       "    <tr>\n",
       "      <td>381</td>\n",
       "      <td>6/18/19</td>\n",
       "      <td>0</td>\n",
       "      <td>WAFFLE HOUSE 1890          ATLA</td>\n",
       "      <td>Food</td>\n",
       "      <td>10.00</td>\n",
       "      <td>10.00</td>\n",
       "      <td>0.00</td>\n",
       "      <td>33.81</td>\n",
       "      <td>19</td>\n",
       "      <td>6</td>\n",
       "      <td>June</td>\n",
       "      <td>18</td>\n",
       "      <td>Tuesday</td>\n",
       "      <td>2</td>\n",
       "    </tr>\n",
       "    <tr>\n",
       "      <td>382</td>\n",
       "      <td>6/19/19</td>\n",
       "      <td>0</td>\n",
       "      <td>MOBILE CHECK DEPOSIT</td>\n",
       "      <td>Deposit</td>\n",
       "      <td>25.00</td>\n",
       "      <td>0.00</td>\n",
       "      <td>25.00</td>\n",
       "      <td>58.81</td>\n",
       "      <td>19</td>\n",
       "      <td>6</td>\n",
       "      <td>June</td>\n",
       "      <td>19</td>\n",
       "      <td>Wednesday</td>\n",
       "      <td>3</td>\n",
       "    </tr>\n",
       "    <tr>\n",
       "      <td>383</td>\n",
       "      <td>6/19/19</td>\n",
       "      <td>0</td>\n",
       "      <td>MOBILE CHECK DEPOSIT</td>\n",
       "      <td>Deposit</td>\n",
       "      <td>50.00</td>\n",
       "      <td>0.00</td>\n",
       "      <td>50.00</td>\n",
       "      <td>108.81</td>\n",
       "      <td>19</td>\n",
       "      <td>6</td>\n",
       "      <td>June</td>\n",
       "      <td>19</td>\n",
       "      <td>Wednesday</td>\n",
       "      <td>3</td>\n",
       "    </tr>\n",
       "    <tr>\n",
       "      <td>384</td>\n",
       "      <td>6/19/19</td>\n",
       "      <td>0</td>\n",
       "      <td>MOBILE CHECK DEPOSIT</td>\n",
       "      <td>Deposit</td>\n",
       "      <td>50.00</td>\n",
       "      <td>0.00</td>\n",
       "      <td>50.00</td>\n",
       "      <td>158.81</td>\n",
       "      <td>19</td>\n",
       "      <td>6</td>\n",
       "      <td>June</td>\n",
       "      <td>19</td>\n",
       "      <td>Wednesday</td>\n",
       "      <td>3</td>\n",
       "    </tr>\n",
       "    <tr>\n",
       "      <td>385</td>\n",
       "      <td>6/19/19</td>\n",
       "      <td>0</td>\n",
       "      <td>MOBILE CHECK DEPOSIT</td>\n",
       "      <td>Deposit</td>\n",
       "      <td>100.00</td>\n",
       "      <td>0.00</td>\n",
       "      <td>100.00</td>\n",
       "      <td>258.81</td>\n",
       "      <td>19</td>\n",
       "      <td>6</td>\n",
       "      <td>June</td>\n",
       "      <td>19</td>\n",
       "      <td>Wednesday</td>\n",
       "      <td>3</td>\n",
       "    </tr>\n",
       "    <tr>\n",
       "      <td>386</td>\n",
       "      <td>6/19/19</td>\n",
       "      <td>0</td>\n",
       "      <td>MOBILE CHECK DEPOSIT</td>\n",
       "      <td>Deposit</td>\n",
       "      <td>100.00</td>\n",
       "      <td>0.00</td>\n",
       "      <td>100.00</td>\n",
       "      <td>358.81</td>\n",
       "      <td>19</td>\n",
       "      <td>6</td>\n",
       "      <td>June</td>\n",
       "      <td>19</td>\n",
       "      <td>Wednesday</td>\n",
       "      <td>3</td>\n",
       "    </tr>\n",
       "    <tr>\n",
       "      <td>387</td>\n",
       "      <td>6/19/19</td>\n",
       "      <td>0</td>\n",
       "      <td>GSU PANTHER DINING RET     ATLA</td>\n",
       "      <td>Food</td>\n",
       "      <td>4.19</td>\n",
       "      <td>4.19</td>\n",
       "      <td>0.00</td>\n",
       "      <td>354.62</td>\n",
       "      <td>19</td>\n",
       "      <td>6</td>\n",
       "      <td>June</td>\n",
       "      <td>19</td>\n",
       "      <td>Wednesday</td>\n",
       "      <td>3</td>\n",
       "    </tr>\n",
       "    <tr>\n",
       "      <td>388</td>\n",
       "      <td>6/20/19</td>\n",
       "      <td>0</td>\n",
       "      <td>USA*VENDING                ALPH</td>\n",
       "      <td>Food</td>\n",
       "      <td>1.10</td>\n",
       "      <td>1.10</td>\n",
       "      <td>0.00</td>\n",
       "      <td>348.52</td>\n",
       "      <td>19</td>\n",
       "      <td>6</td>\n",
       "      <td>June</td>\n",
       "      <td>20</td>\n",
       "      <td>Thursday</td>\n",
       "      <td>4</td>\n",
       "    </tr>\n",
       "    <tr>\n",
       "      <td>389</td>\n",
       "      <td>6/20/19</td>\n",
       "      <td>0</td>\n",
       "      <td>USA*VENDING                ALPH</td>\n",
       "      <td>Food</td>\n",
       "      <td>1.60</td>\n",
       "      <td>1.60</td>\n",
       "      <td>0.00</td>\n",
       "      <td>346.92</td>\n",
       "      <td>19</td>\n",
       "      <td>6</td>\n",
       "      <td>June</td>\n",
       "      <td>20</td>\n",
       "      <td>Thursday</td>\n",
       "      <td>4</td>\n",
       "    </tr>\n",
       "    <tr>\n",
       "      <td>390</td>\n",
       "      <td>6/20/19</td>\n",
       "      <td>0</td>\n",
       "      <td>GSU PARKING DECK SKN       ATLA</td>\n",
       "      <td>Transportation</td>\n",
       "      <td>5.00</td>\n",
       "      <td>5.00</td>\n",
       "      <td>0.00</td>\n",
       "      <td>349.62</td>\n",
       "      <td>19</td>\n",
       "      <td>6</td>\n",
       "      <td>June</td>\n",
       "      <td>20</td>\n",
       "      <td>Thursday</td>\n",
       "      <td>4</td>\n",
       "    </tr>\n",
       "    <tr>\n",
       "      <td>391</td>\n",
       "      <td>6/21/19</td>\n",
       "      <td>0</td>\n",
       "      <td>ZOES AP          PAYROLL</td>\n",
       "      <td>PayCheck Deposit - Zoes</td>\n",
       "      <td>240.62</td>\n",
       "      <td>0.00</td>\n",
       "      <td>240.62</td>\n",
       "      <td>587.54</td>\n",
       "      <td>19</td>\n",
       "      <td>6</td>\n",
       "      <td>June</td>\n",
       "      <td>21</td>\n",
       "      <td>Friday</td>\n",
       "      <td>5</td>\n",
       "    </tr>\n",
       "    <tr>\n",
       "      <td>392</td>\n",
       "      <td>6/21/19</td>\n",
       "      <td>0</td>\n",
       "      <td>GSU PANTHER DINING RET     ATLA</td>\n",
       "      <td>Food</td>\n",
       "      <td>4.45</td>\n",
       "      <td>4.45</td>\n",
       "      <td>0.00</td>\n",
       "      <td>583.09</td>\n",
       "      <td>19</td>\n",
       "      <td>6</td>\n",
       "      <td>June</td>\n",
       "      <td>21</td>\n",
       "      <td>Friday</td>\n",
       "      <td>5</td>\n",
       "    </tr>\n",
       "    <tr>\n",
       "      <td>393</td>\n",
       "      <td>6/26/19</td>\n",
       "      <td>0</td>\n",
       "      <td>DEPOSIT</td>\n",
       "      <td>Deposit</td>\n",
       "      <td>426.58</td>\n",
       "      <td>0.00</td>\n",
       "      <td>426.58</td>\n",
       "      <td>1009.67</td>\n",
       "      <td>19</td>\n",
       "      <td>6</td>\n",
       "      <td>June</td>\n",
       "      <td>26</td>\n",
       "      <td>Wednesday</td>\n",
       "      <td>3</td>\n",
       "    </tr>\n",
       "  </tbody>\n",
       "</table>\n",
       "</div>"
      ],
      "text/plain": [
       "        Date  Check Number                       Description  \\\n",
       "364   6/3/19             0   QT 831        07008311     DULU   \n",
       "365   6/6/19             0   SQUARE INC       * CASH APP       \n",
       "366   6/6/19             0   SQUARE INC       * CASH APP T20   \n",
       "367   6/6/19             0   SQUARE INC       * CASH APP T20   \n",
       "368  6/10/19             0   POPEYES #12807             DULU   \n",
       "369  6/10/19             0   SUBLIME DRUIDHILLS         ATLA   \n",
       "370  6/11/19             0   ALLY CASHBACK CC ONLINE PMT CKF   \n",
       "371  6/12/19             0   VENMO            CASHOUT          \n",
       "372  6/12/19             0   GSU PANTHER DINING RET     ATLA   \n",
       "373  6/12/19             0   COOK OUT MORELAND AVE      ATLA   \n",
       "374  6/14/19             0   SQUARE INC       * CASH APP T20   \n",
       "375  6/14/19             0   JERSEY MIKES 5020          ATLA   \n",
       "376  6/17/19             0   QT 729        07007297     ATLA   \n",
       "377  6/17/19             0   KROGER #2 3300             ATLA   \n",
       "378  6/17/19             0   BQ WINGS                   DULU   \n",
       "379  6/17/19           507                             CHECK   \n",
       "380  6/18/19             0   QT 1702       91017020     SMYR   \n",
       "381  6/18/19             0   WAFFLE HOUSE 1890          ATLA   \n",
       "382  6/19/19             0              MOBILE CHECK DEPOSIT   \n",
       "383  6/19/19             0              MOBILE CHECK DEPOSIT   \n",
       "384  6/19/19             0              MOBILE CHECK DEPOSIT   \n",
       "385  6/19/19             0              MOBILE CHECK DEPOSIT   \n",
       "386  6/19/19             0              MOBILE CHECK DEPOSIT   \n",
       "387  6/19/19             0   GSU PANTHER DINING RET     ATLA   \n",
       "388  6/20/19             0   USA*VENDING                ALPH   \n",
       "389  6/20/19             0   USA*VENDING                ALPH   \n",
       "390  6/20/19             0   GSU PARKING DECK SKN       ATLA   \n",
       "391  6/21/19             0   ZOES AP          PAYROLL          \n",
       "392  6/21/19             0   GSU PANTHER DINING RET     ATLA   \n",
       "393  6/26/19             0                           DEPOSIT   \n",
       "\n",
       "                        Type  Charge   Debit  Credit  Running Balance Year  \\\n",
       "364                     Food    2.03    2.03    0.00           288.63   19   \n",
       "365  Money Transfer - Credit   15.00    0.00   15.00           303.63   19   \n",
       "366   Money Transfer - Debit    5.00    5.00    0.00           293.63   19   \n",
       "367   Money Transfer - Debit    5.00    5.00    0.00           298.63   19   \n",
       "368                     Food    6.88    6.88    0.00           278.53   19   \n",
       "369                     Food    8.22    8.22    0.00           285.41   19   \n",
       "370               CC BillPay  180.40  180.40    0.00            98.13   19   \n",
       "371  Money Transfer - Credit   21.50    0.00   21.50           119.63   19   \n",
       "372                     Food    2.17    2.17    0.00           113.71   19   \n",
       "373                     Food    3.75    3.75    0.00           115.88   19   \n",
       "374   Money Transfer - Debit    8.00    8.00    0.00            90.68   19   \n",
       "375                     Food   15.03   15.03    0.00            98.68   19   \n",
       "376                     Food    1.04    1.04    0.00            89.64   19   \n",
       "377                     Food    2.54    2.54    0.00            77.63   19   \n",
       "378                     Food    9.47    9.47    0.00            80.17   19   \n",
       "379               Withdrawal   30.00   30.00    0.00            47.63   19   \n",
       "380                     Food    3.82    3.82    0.00            43.81   19   \n",
       "381                     Food   10.00   10.00    0.00            33.81   19   \n",
       "382                  Deposit   25.00    0.00   25.00            58.81   19   \n",
       "383                  Deposit   50.00    0.00   50.00           108.81   19   \n",
       "384                  Deposit   50.00    0.00   50.00           158.81   19   \n",
       "385                  Deposit  100.00    0.00  100.00           258.81   19   \n",
       "386                  Deposit  100.00    0.00  100.00           358.81   19   \n",
       "387                     Food    4.19    4.19    0.00           354.62   19   \n",
       "388                     Food    1.10    1.10    0.00           348.52   19   \n",
       "389                     Food    1.60    1.60    0.00           346.92   19   \n",
       "390           Transportation    5.00    5.00    0.00           349.62   19   \n",
       "391  PayCheck Deposit - Zoes  240.62    0.00  240.62           587.54   19   \n",
       "392                     Food    4.45    4.45    0.00           583.09   19   \n",
       "393                  Deposit  426.58    0.00  426.58          1009.67   19   \n",
       "\n",
       "    Month MonthName Day    DayName  DayCode  \n",
       "364     6      June   3     Monday        1  \n",
       "365     6      June   6   Thursday        4  \n",
       "366     6      June   6   Thursday        4  \n",
       "367     6      June   6   Thursday        4  \n",
       "368     6      June  10     Monday        1  \n",
       "369     6      June  10     Monday        1  \n",
       "370     6      June  11    Tuesday        2  \n",
       "371     6      June  12  Wednesday        3  \n",
       "372     6      June  12  Wednesday        3  \n",
       "373     6      June  12  Wednesday        3  \n",
       "374     6      June  14     Friday        5  \n",
       "375     6      June  14     Friday        5  \n",
       "376     6      June  17     Monday        1  \n",
       "377     6      June  17     Monday        1  \n",
       "378     6      June  17     Monday        1  \n",
       "379     6      June  17     Monday        1  \n",
       "380     6      June  18    Tuesday        2  \n",
       "381     6      June  18    Tuesday        2  \n",
       "382     6      June  19  Wednesday        3  \n",
       "383     6      June  19  Wednesday        3  \n",
       "384     6      June  19  Wednesday        3  \n",
       "385     6      June  19  Wednesday        3  \n",
       "386     6      June  19  Wednesday        3  \n",
       "387     6      June  19  Wednesday        3  \n",
       "388     6      June  20   Thursday        4  \n",
       "389     6      June  20   Thursday        4  \n",
       "390     6      June  20   Thursday        4  \n",
       "391     6      June  21     Friday        5  \n",
       "392     6      June  21     Friday        5  \n",
       "393     6      June  26  Wednesday        3  "
      ]
     },
     "metadata": {},
     "output_type": "display_data"
    },
    {
     "data": {
      "text/html": [
       "<div>\n",
       "<style scoped>\n",
       "    .dataframe tbody tr th:only-of-type {\n",
       "        vertical-align: middle;\n",
       "    }\n",
       "\n",
       "    .dataframe tbody tr th {\n",
       "        vertical-align: top;\n",
       "    }\n",
       "\n",
       "    .dataframe thead th {\n",
       "        text-align: right;\n",
       "    }\n",
       "</style>\n",
       "<table border=\"1\" class=\"dataframe\">\n",
       "  <thead>\n",
       "    <tr style=\"text-align: right;\">\n",
       "      <th></th>\n",
       "      <th>Date</th>\n",
       "      <th>Check Number</th>\n",
       "      <th>Description</th>\n",
       "      <th>Type</th>\n",
       "      <th>Charge</th>\n",
       "      <th>Debit</th>\n",
       "      <th>Credit</th>\n",
       "      <th>Running Balance</th>\n",
       "      <th>Year</th>\n",
       "      <th>Month</th>\n",
       "      <th>MonthName</th>\n",
       "      <th>Day</th>\n",
       "      <th>DayName</th>\n",
       "      <th>DayCode</th>\n",
       "    </tr>\n",
       "  </thead>\n",
       "  <tbody>\n",
       "    <tr>\n",
       "      <td>394</td>\n",
       "      <td>7/5/19</td>\n",
       "      <td>0</td>\n",
       "      <td>ZOES AP          PAYROLL</td>\n",
       "      <td>PayCheck Deposit - Zoes</td>\n",
       "      <td>177.39</td>\n",
       "      <td>0.00</td>\n",
       "      <td>177.39</td>\n",
       "      <td>1187.06</td>\n",
       "      <td>19</td>\n",
       "      <td>7</td>\n",
       "      <td>July</td>\n",
       "      <td>5</td>\n",
       "      <td>Friday</td>\n",
       "      <td>5</td>\n",
       "    </tr>\n",
       "    <tr>\n",
       "      <td>395</td>\n",
       "      <td>7/5/19</td>\n",
       "      <td>0</td>\n",
       "      <td>MOBILE APP TRANSFER TO 10000274</td>\n",
       "      <td>Mom Payment</td>\n",
       "      <td>255.00</td>\n",
       "      <td>255.00</td>\n",
       "      <td>0.00</td>\n",
       "      <td>932.06</td>\n",
       "      <td>19</td>\n",
       "      <td>7</td>\n",
       "      <td>July</td>\n",
       "      <td>5</td>\n",
       "      <td>Friday</td>\n",
       "      <td>5</td>\n",
       "    </tr>\n",
       "    <tr>\n",
       "      <td>396</td>\n",
       "      <td>7/9/19</td>\n",
       "      <td>0</td>\n",
       "      <td>MOBILE CHECK DEPOSIT</td>\n",
       "      <td>Deposit</td>\n",
       "      <td>97.78</td>\n",
       "      <td>0.00</td>\n",
       "      <td>97.78</td>\n",
       "      <td>1029.84</td>\n",
       "      <td>19</td>\n",
       "      <td>7</td>\n",
       "      <td>July</td>\n",
       "      <td>9</td>\n",
       "      <td>Tuesday</td>\n",
       "      <td>2</td>\n",
       "    </tr>\n",
       "    <tr>\n",
       "      <td>397</td>\n",
       "      <td>7/10/19</td>\n",
       "      <td>0</td>\n",
       "      <td>SQUARE INC       * CASH APP T20</td>\n",
       "      <td>Money Transfer - Debit</td>\n",
       "      <td>40.00</td>\n",
       "      <td>40.00</td>\n",
       "      <td>0.00</td>\n",
       "      <td>989.84</td>\n",
       "      <td>19</td>\n",
       "      <td>7</td>\n",
       "      <td>July</td>\n",
       "      <td>10</td>\n",
       "      <td>Wednesday</td>\n",
       "      <td>3</td>\n",
       "    </tr>\n",
       "    <tr>\n",
       "      <td>398</td>\n",
       "      <td>7/10/19</td>\n",
       "      <td>0</td>\n",
       "      <td>ALLY CASHBACK CC ONLINE PMT CKF</td>\n",
       "      <td>CC BillPay</td>\n",
       "      <td>132.22</td>\n",
       "      <td>132.22</td>\n",
       "      <td>0.00</td>\n",
       "      <td>857.62</td>\n",
       "      <td>19</td>\n",
       "      <td>7</td>\n",
       "      <td>July</td>\n",
       "      <td>10</td>\n",
       "      <td>Wednesday</td>\n",
       "      <td>3</td>\n",
       "    </tr>\n",
       "    <tr>\n",
       "      <td>399</td>\n",
       "      <td>7/19/19</td>\n",
       "      <td>0</td>\n",
       "      <td>ZOES AP          PAYROLL</td>\n",
       "      <td>PayCheck Deposit - Zoes</td>\n",
       "      <td>186.59</td>\n",
       "      <td>0.00</td>\n",
       "      <td>186.59</td>\n",
       "      <td>1044.21</td>\n",
       "      <td>19</td>\n",
       "      <td>7</td>\n",
       "      <td>July</td>\n",
       "      <td>19</td>\n",
       "      <td>Friday</td>\n",
       "      <td>5</td>\n",
       "    </tr>\n",
       "    <tr>\n",
       "      <td>400</td>\n",
       "      <td>7/29/19</td>\n",
       "      <td>0</td>\n",
       "      <td>KROGER 38 3455             DULU</td>\n",
       "      <td>Grocery</td>\n",
       "      <td>2.04</td>\n",
       "      <td>2.04</td>\n",
       "      <td>0.00</td>\n",
       "      <td>1042.17</td>\n",
       "      <td>19</td>\n",
       "      <td>7</td>\n",
       "      <td>July</td>\n",
       "      <td>29</td>\n",
       "      <td>Monday</td>\n",
       "      <td>1</td>\n",
       "    </tr>\n",
       "    <tr>\n",
       "      <td>401</td>\n",
       "      <td>7/31/19</td>\n",
       "      <td>0</td>\n",
       "      <td>SQUARE INC       * CASH APP</td>\n",
       "      <td>Money Transfer - Credit</td>\n",
       "      <td>52.00</td>\n",
       "      <td>0.00</td>\n",
       "      <td>52.00</td>\n",
       "      <td>1094.17</td>\n",
       "      <td>19</td>\n",
       "      <td>7</td>\n",
       "      <td>July</td>\n",
       "      <td>31</td>\n",
       "      <td>Wednesday</td>\n",
       "      <td>3</td>\n",
       "    </tr>\n",
       "  </tbody>\n",
       "</table>\n",
       "</div>"
      ],
      "text/plain": [
       "        Date  Check Number                       Description  \\\n",
       "394   7/5/19             0   ZOES AP          PAYROLL          \n",
       "395   7/5/19             0   MOBILE APP TRANSFER TO 10000274   \n",
       "396   7/9/19             0              MOBILE CHECK DEPOSIT   \n",
       "397  7/10/19             0   SQUARE INC       * CASH APP T20   \n",
       "398  7/10/19             0   ALLY CASHBACK CC ONLINE PMT CKF   \n",
       "399  7/19/19             0   ZOES AP          PAYROLL          \n",
       "400  7/29/19             0   KROGER 38 3455             DULU   \n",
       "401  7/31/19             0   SQUARE INC       * CASH APP       \n",
       "\n",
       "                        Type  Charge   Debit  Credit  Running Balance Year  \\\n",
       "394  PayCheck Deposit - Zoes  177.39    0.00  177.39          1187.06   19   \n",
       "395              Mom Payment  255.00  255.00    0.00           932.06   19   \n",
       "396                  Deposit   97.78    0.00   97.78          1029.84   19   \n",
       "397   Money Transfer - Debit   40.00   40.00    0.00           989.84   19   \n",
       "398               CC BillPay  132.22  132.22    0.00           857.62   19   \n",
       "399  PayCheck Deposit - Zoes  186.59    0.00  186.59          1044.21   19   \n",
       "400                  Grocery    2.04    2.04    0.00          1042.17   19   \n",
       "401  Money Transfer - Credit   52.00    0.00   52.00          1094.17   19   \n",
       "\n",
       "    Month MonthName Day    DayName  DayCode  \n",
       "394     7      July   5     Friday        5  \n",
       "395     7      July   5     Friday        5  \n",
       "396     7      July   9    Tuesday        2  \n",
       "397     7      July  10  Wednesday        3  \n",
       "398     7      July  10  Wednesday        3  \n",
       "399     7      July  19     Friday        5  \n",
       "400     7      July  29     Monday        1  \n",
       "401     7      July  31  Wednesday        3  "
      ]
     },
     "metadata": {},
     "output_type": "display_data"
    },
    {
     "data": {
      "text/html": [
       "<div>\n",
       "<style scoped>\n",
       "    .dataframe tbody tr th:only-of-type {\n",
       "        vertical-align: middle;\n",
       "    }\n",
       "\n",
       "    .dataframe tbody tr th {\n",
       "        vertical-align: top;\n",
       "    }\n",
       "\n",
       "    .dataframe thead th {\n",
       "        text-align: right;\n",
       "    }\n",
       "</style>\n",
       "<table border=\"1\" class=\"dataframe\">\n",
       "  <thead>\n",
       "    <tr style=\"text-align: right;\">\n",
       "      <th></th>\n",
       "      <th>Date</th>\n",
       "      <th>Check Number</th>\n",
       "      <th>Description</th>\n",
       "      <th>Type</th>\n",
       "      <th>Charge</th>\n",
       "      <th>Debit</th>\n",
       "      <th>Credit</th>\n",
       "      <th>Running Balance</th>\n",
       "      <th>Year</th>\n",
       "      <th>Month</th>\n",
       "      <th>MonthName</th>\n",
       "      <th>Day</th>\n",
       "      <th>DayName</th>\n",
       "      <th>DayCode</th>\n",
       "    </tr>\n",
       "  </thead>\n",
       "  <tbody>\n",
       "    <tr>\n",
       "      <td>402</td>\n",
       "      <td>8/2/19</td>\n",
       "      <td>0</td>\n",
       "      <td>ZOES AP          PAYROLL</td>\n",
       "      <td>PayCheck Deposit - Zoes</td>\n",
       "      <td>100.07</td>\n",
       "      <td>0.00</td>\n",
       "      <td>100.07</td>\n",
       "      <td>1194.24</td>\n",
       "      <td>19</td>\n",
       "      <td>8</td>\n",
       "      <td>August</td>\n",
       "      <td>2</td>\n",
       "      <td>Friday</td>\n",
       "      <td>5</td>\n",
       "    </tr>\n",
       "    <tr>\n",
       "      <td>403</td>\n",
       "      <td>8/6/19</td>\n",
       "      <td>0</td>\n",
       "      <td>MOBILE CHECK DEPOSIT</td>\n",
       "      <td>Deposit</td>\n",
       "      <td>136.90</td>\n",
       "      <td>0.00</td>\n",
       "      <td>136.90</td>\n",
       "      <td>1331.14</td>\n",
       "      <td>19</td>\n",
       "      <td>8</td>\n",
       "      <td>August</td>\n",
       "      <td>6</td>\n",
       "      <td>Tuesday</td>\n",
       "      <td>2</td>\n",
       "    </tr>\n",
       "    <tr>\n",
       "      <td>404</td>\n",
       "      <td>8/6/19</td>\n",
       "      <td>0</td>\n",
       "      <td>ALLY CASHBACK CC ONLINE PMT CKF</td>\n",
       "      <td>CC BillPay</td>\n",
       "      <td>248.00</td>\n",
       "      <td>248.00</td>\n",
       "      <td>0.00</td>\n",
       "      <td>1083.14</td>\n",
       "      <td>19</td>\n",
       "      <td>8</td>\n",
       "      <td>August</td>\n",
       "      <td>6</td>\n",
       "      <td>Tuesday</td>\n",
       "      <td>2</td>\n",
       "    </tr>\n",
       "    <tr>\n",
       "      <td>405</td>\n",
       "      <td>8/13/19</td>\n",
       "      <td>0</td>\n",
       "      <td>DEPOSIT</td>\n",
       "      <td>Deposit</td>\n",
       "      <td>569.00</td>\n",
       "      <td>0.00</td>\n",
       "      <td>569.00</td>\n",
       "      <td>1652.14</td>\n",
       "      <td>19</td>\n",
       "      <td>8</td>\n",
       "      <td>August</td>\n",
       "      <td>13</td>\n",
       "      <td>Tuesday</td>\n",
       "      <td>2</td>\n",
       "    </tr>\n",
       "    <tr>\n",
       "      <td>406</td>\n",
       "      <td>8/14/19</td>\n",
       "      <td>0</td>\n",
       "      <td>SQUARE INC       * CASH APP T20</td>\n",
       "      <td>Money Transfer - Debit</td>\n",
       "      <td>20.00</td>\n",
       "      <td>20.00</td>\n",
       "      <td>0.00</td>\n",
       "      <td>1632.14</td>\n",
       "      <td>19</td>\n",
       "      <td>8</td>\n",
       "      <td>August</td>\n",
       "      <td>14</td>\n",
       "      <td>Wednesday</td>\n",
       "      <td>3</td>\n",
       "    </tr>\n",
       "    <tr>\n",
       "      <td>407</td>\n",
       "      <td>8/15/19</td>\n",
       "      <td>0</td>\n",
       "      <td>CHICK-FIL-A #00807         MARI</td>\n",
       "      <td>Food</td>\n",
       "      <td>9.36</td>\n",
       "      <td>9.36</td>\n",
       "      <td>0.00</td>\n",
       "      <td>1622.78</td>\n",
       "      <td>19</td>\n",
       "      <td>8</td>\n",
       "      <td>August</td>\n",
       "      <td>15</td>\n",
       "      <td>Thursday</td>\n",
       "      <td>4</td>\n",
       "    </tr>\n",
       "    <tr>\n",
       "      <td>408</td>\n",
       "      <td>8/16/19</td>\n",
       "      <td>0</td>\n",
       "      <td>WM SUPERCENTER #           ATLA</td>\n",
       "      <td>Grocery</td>\n",
       "      <td>317.18</td>\n",
       "      <td>317.18</td>\n",
       "      <td>0.00</td>\n",
       "      <td>1305.60</td>\n",
       "      <td>19</td>\n",
       "      <td>8</td>\n",
       "      <td>August</td>\n",
       "      <td>16</td>\n",
       "      <td>Friday</td>\n",
       "      <td>5</td>\n",
       "    </tr>\n",
       "    <tr>\n",
       "      <td>409</td>\n",
       "      <td>8/16/19</td>\n",
       "      <td>0</td>\n",
       "      <td>S068AC1          RENT       993</td>\n",
       "      <td>Housing - Rent</td>\n",
       "      <td>789.95</td>\n",
       "      <td>789.95</td>\n",
       "      <td>0.00</td>\n",
       "      <td>515.65</td>\n",
       "      <td>19</td>\n",
       "      <td>8</td>\n",
       "      <td>August</td>\n",
       "      <td>16</td>\n",
       "      <td>Friday</td>\n",
       "      <td>5</td>\n",
       "    </tr>\n",
       "    <tr>\n",
       "      <td>410</td>\n",
       "      <td>8/19/19</td>\n",
       "      <td>0</td>\n",
       "      <td>TACO MAC 22                KENN</td>\n",
       "      <td>Food</td>\n",
       "      <td>23.06</td>\n",
       "      <td>23.06</td>\n",
       "      <td>0.00</td>\n",
       "      <td>492.59</td>\n",
       "      <td>19</td>\n",
       "      <td>8</td>\n",
       "      <td>August</td>\n",
       "      <td>19</td>\n",
       "      <td>Monday</td>\n",
       "      <td>1</td>\n",
       "    </tr>\n",
       "    <tr>\n",
       "      <td>411</td>\n",
       "      <td>8/19/19</td>\n",
       "      <td>0</td>\n",
       "      <td>VENMO            PAYMENT    239</td>\n",
       "      <td>Money Transfer - Debit</td>\n",
       "      <td>25.00</td>\n",
       "      <td>25.00</td>\n",
       "      <td>0.00</td>\n",
       "      <td>467.59</td>\n",
       "      <td>19</td>\n",
       "      <td>8</td>\n",
       "      <td>August</td>\n",
       "      <td>19</td>\n",
       "      <td>Monday</td>\n",
       "      <td>1</td>\n",
       "    </tr>\n",
       "    <tr>\n",
       "      <td>412</td>\n",
       "      <td>8/21/19</td>\n",
       "      <td>0</td>\n",
       "      <td>PUBLIX SUPER MAR           ATLA</td>\n",
       "      <td>Grocery</td>\n",
       "      <td>20.83</td>\n",
       "      <td>20.83</td>\n",
       "      <td>0.00</td>\n",
       "      <td>446.76</td>\n",
       "      <td>19</td>\n",
       "      <td>8</td>\n",
       "      <td>August</td>\n",
       "      <td>21</td>\n",
       "      <td>Wednesday</td>\n",
       "      <td>3</td>\n",
       "    </tr>\n",
       "    <tr>\n",
       "      <td>413</td>\n",
       "      <td>8/26/19</td>\n",
       "      <td>0</td>\n",
       "      <td>SQUARE INC       * CASH APP</td>\n",
       "      <td>Money Transfer - Credit</td>\n",
       "      <td>35.00</td>\n",
       "      <td>0.00</td>\n",
       "      <td>35.00</td>\n",
       "      <td>481.76</td>\n",
       "      <td>19</td>\n",
       "      <td>8</td>\n",
       "      <td>August</td>\n",
       "      <td>26</td>\n",
       "      <td>Monday</td>\n",
       "      <td>1</td>\n",
       "    </tr>\n",
       "    <tr>\n",
       "      <td>414</td>\n",
       "      <td>8/26/19</td>\n",
       "      <td>0</td>\n",
       "      <td>WAL-MART #3775             ATLA</td>\n",
       "      <td>Grocery</td>\n",
       "      <td>82.85</td>\n",
       "      <td>82.85</td>\n",
       "      <td>0.00</td>\n",
       "      <td>398.91</td>\n",
       "      <td>19</td>\n",
       "      <td>8</td>\n",
       "      <td>August</td>\n",
       "      <td>26</td>\n",
       "      <td>Monday</td>\n",
       "      <td>1</td>\n",
       "    </tr>\n",
       "    <tr>\n",
       "      <td>415</td>\n",
       "      <td>8/27/19</td>\n",
       "      <td>0</td>\n",
       "      <td>ALLY BANK        P2P</td>\n",
       "      <td>Ally Transfer - From</td>\n",
       "      <td>788.00</td>\n",
       "      <td>0.00</td>\n",
       "      <td>788.00</td>\n",
       "      <td>1186.91</td>\n",
       "      <td>19</td>\n",
       "      <td>8</td>\n",
       "      <td>August</td>\n",
       "      <td>27</td>\n",
       "      <td>Tuesday</td>\n",
       "      <td>2</td>\n",
       "    </tr>\n",
       "    <tr>\n",
       "      <td>416</td>\n",
       "      <td>8/27/19</td>\n",
       "      <td>0</td>\n",
       "      <td>WALGREENS 25 P             ATLA</td>\n",
       "      <td>Food</td>\n",
       "      <td>3.86</td>\n",
       "      <td>3.86</td>\n",
       "      <td>0.00</td>\n",
       "      <td>1173.05</td>\n",
       "      <td>19</td>\n",
       "      <td>8</td>\n",
       "      <td>August</td>\n",
       "      <td>27</td>\n",
       "      <td>Tuesday</td>\n",
       "      <td>2</td>\n",
       "    </tr>\n",
       "    <tr>\n",
       "      <td>417</td>\n",
       "      <td>8/27/19</td>\n",
       "      <td>0</td>\n",
       "      <td>TEXACO 0302534             ATLA</td>\n",
       "      <td>Gasoline</td>\n",
       "      <td>10.00</td>\n",
       "      <td>10.00</td>\n",
       "      <td>0.00</td>\n",
       "      <td>1176.91</td>\n",
       "      <td>19</td>\n",
       "      <td>8</td>\n",
       "      <td>August</td>\n",
       "      <td>27</td>\n",
       "      <td>Tuesday</td>\n",
       "      <td>2</td>\n",
       "    </tr>\n",
       "    <tr>\n",
       "      <td>418</td>\n",
       "      <td>8/28/19</td>\n",
       "      <td>0</td>\n",
       "      <td>COOPER PEDIATRICS          DULU</td>\n",
       "      <td>Medical</td>\n",
       "      <td>20.00</td>\n",
       "      <td>20.00</td>\n",
       "      <td>0.00</td>\n",
       "      <td>1153.05</td>\n",
       "      <td>19</td>\n",
       "      <td>8</td>\n",
       "      <td>August</td>\n",
       "      <td>28</td>\n",
       "      <td>Wednesday</td>\n",
       "      <td>3</td>\n",
       "    </tr>\n",
       "    <tr>\n",
       "      <td>419</td>\n",
       "      <td>8/28/19</td>\n",
       "      <td>0</td>\n",
       "      <td>KROGER 38 3455             DULU</td>\n",
       "      <td>Gasoline</td>\n",
       "      <td>27.38</td>\n",
       "      <td>27.38</td>\n",
       "      <td>0.00</td>\n",
       "      <td>1125.67</td>\n",
       "      <td>19</td>\n",
       "      <td>8</td>\n",
       "      <td>August</td>\n",
       "      <td>28</td>\n",
       "      <td>Wednesday</td>\n",
       "      <td>3</td>\n",
       "    </tr>\n",
       "    <tr>\n",
       "      <td>420</td>\n",
       "      <td>8/29/19</td>\n",
       "      <td>0</td>\n",
       "      <td>GSU PARKING DECK SKN       ATLA</td>\n",
       "      <td>Transportation</td>\n",
       "      <td>5.00</td>\n",
       "      <td>5.00</td>\n",
       "      <td>0.00</td>\n",
       "      <td>1107.51</td>\n",
       "      <td>19</td>\n",
       "      <td>8</td>\n",
       "      <td>August</td>\n",
       "      <td>29</td>\n",
       "      <td>Thursday</td>\n",
       "      <td>4</td>\n",
       "    </tr>\n",
       "    <tr>\n",
       "      <td>421</td>\n",
       "      <td>8/29/19</td>\n",
       "      <td>0</td>\n",
       "      <td>PEACHTREE INDUSTRIAL       DULU</td>\n",
       "      <td>Unknown</td>\n",
       "      <td>5.01</td>\n",
       "      <td>5.01</td>\n",
       "      <td>0.00</td>\n",
       "      <td>1112.51</td>\n",
       "      <td>19</td>\n",
       "      <td>8</td>\n",
       "      <td>August</td>\n",
       "      <td>29</td>\n",
       "      <td>Thursday</td>\n",
       "      <td>4</td>\n",
       "    </tr>\n",
       "    <tr>\n",
       "      <td>422</td>\n",
       "      <td>8/29/19</td>\n",
       "      <td>0</td>\n",
       "      <td>CHICK-FIL-A #00821         DULU</td>\n",
       "      <td>Food</td>\n",
       "      <td>8.15</td>\n",
       "      <td>8.15</td>\n",
       "      <td>0.00</td>\n",
       "      <td>1117.52</td>\n",
       "      <td>19</td>\n",
       "      <td>8</td>\n",
       "      <td>August</td>\n",
       "      <td>29</td>\n",
       "      <td>Thursday</td>\n",
       "      <td>4</td>\n",
       "    </tr>\n",
       "    <tr>\n",
       "      <td>423</td>\n",
       "      <td>8/29/19</td>\n",
       "      <td>0</td>\n",
       "      <td>SQU*SQ *CAFE HOT WING      ATLA</td>\n",
       "      <td>Food</td>\n",
       "      <td>10.00</td>\n",
       "      <td>10.00</td>\n",
       "      <td>0.00</td>\n",
       "      <td>1097.51</td>\n",
       "      <td>19</td>\n",
       "      <td>8</td>\n",
       "      <td>August</td>\n",
       "      <td>29</td>\n",
       "      <td>Thursday</td>\n",
       "      <td>4</td>\n",
       "    </tr>\n",
       "    <tr>\n",
       "      <td>424</td>\n",
       "      <td>8/30/19</td>\n",
       "      <td>0</td>\n",
       "      <td>BIRD APP                   8662</td>\n",
       "      <td>Transportation</td>\n",
       "      <td>20.00</td>\n",
       "      <td>20.00</td>\n",
       "      <td>0.00</td>\n",
       "      <td>1077.51</td>\n",
       "      <td>19</td>\n",
       "      <td>8</td>\n",
       "      <td>August</td>\n",
       "      <td>30</td>\n",
       "      <td>Friday</td>\n",
       "      <td>5</td>\n",
       "    </tr>\n",
       "  </tbody>\n",
       "</table>\n",
       "</div>"
      ],
      "text/plain": [
       "        Date  Check Number                       Description  \\\n",
       "402   8/2/19             0   ZOES AP          PAYROLL          \n",
       "403   8/6/19             0              MOBILE CHECK DEPOSIT   \n",
       "404   8/6/19             0   ALLY CASHBACK CC ONLINE PMT CKF   \n",
       "405  8/13/19             0                           DEPOSIT   \n",
       "406  8/14/19             0   SQUARE INC       * CASH APP T20   \n",
       "407  8/15/19             0   CHICK-FIL-A #00807         MARI   \n",
       "408  8/16/19             0   WM SUPERCENTER #           ATLA   \n",
       "409  8/16/19             0   S068AC1          RENT       993   \n",
       "410  8/19/19             0   TACO MAC 22                KENN   \n",
       "411  8/19/19             0   VENMO            PAYMENT    239   \n",
       "412  8/21/19             0   PUBLIX SUPER MAR           ATLA   \n",
       "413  8/26/19             0   SQUARE INC       * CASH APP       \n",
       "414  8/26/19             0   WAL-MART #3775             ATLA   \n",
       "415  8/27/19             0   ALLY BANK        P2P              \n",
       "416  8/27/19             0   WALGREENS 25 P             ATLA   \n",
       "417  8/27/19             0   TEXACO 0302534             ATLA   \n",
       "418  8/28/19             0   COOPER PEDIATRICS          DULU   \n",
       "419  8/28/19             0   KROGER 38 3455             DULU   \n",
       "420  8/29/19             0   GSU PARKING DECK SKN       ATLA   \n",
       "421  8/29/19             0   PEACHTREE INDUSTRIAL       DULU   \n",
       "422  8/29/19             0   CHICK-FIL-A #00821         DULU   \n",
       "423  8/29/19             0   SQU*SQ *CAFE HOT WING      ATLA   \n",
       "424  8/30/19             0   BIRD APP                   8662   \n",
       "\n",
       "                        Type  Charge   Debit  Credit  Running Balance Year  \\\n",
       "402  PayCheck Deposit - Zoes  100.07    0.00  100.07          1194.24   19   \n",
       "403                  Deposit  136.90    0.00  136.90          1331.14   19   \n",
       "404               CC BillPay  248.00  248.00    0.00          1083.14   19   \n",
       "405                  Deposit  569.00    0.00  569.00          1652.14   19   \n",
       "406   Money Transfer - Debit   20.00   20.00    0.00          1632.14   19   \n",
       "407                     Food    9.36    9.36    0.00          1622.78   19   \n",
       "408                  Grocery  317.18  317.18    0.00          1305.60   19   \n",
       "409           Housing - Rent  789.95  789.95    0.00           515.65   19   \n",
       "410                     Food   23.06   23.06    0.00           492.59   19   \n",
       "411   Money Transfer - Debit   25.00   25.00    0.00           467.59   19   \n",
       "412                  Grocery   20.83   20.83    0.00           446.76   19   \n",
       "413  Money Transfer - Credit   35.00    0.00   35.00           481.76   19   \n",
       "414                  Grocery   82.85   82.85    0.00           398.91   19   \n",
       "415     Ally Transfer - From  788.00    0.00  788.00          1186.91   19   \n",
       "416                     Food    3.86    3.86    0.00          1173.05   19   \n",
       "417                 Gasoline   10.00   10.00    0.00          1176.91   19   \n",
       "418                  Medical   20.00   20.00    0.00          1153.05   19   \n",
       "419                 Gasoline   27.38   27.38    0.00          1125.67   19   \n",
       "420           Transportation    5.00    5.00    0.00          1107.51   19   \n",
       "421                  Unknown    5.01    5.01    0.00          1112.51   19   \n",
       "422                     Food    8.15    8.15    0.00          1117.52   19   \n",
       "423                     Food   10.00   10.00    0.00          1097.51   19   \n",
       "424           Transportation   20.00   20.00    0.00          1077.51   19   \n",
       "\n",
       "    Month MonthName Day    DayName  DayCode  \n",
       "402     8    August   2     Friday        5  \n",
       "403     8    August   6    Tuesday        2  \n",
       "404     8    August   6    Tuesday        2  \n",
       "405     8    August  13    Tuesday        2  \n",
       "406     8    August  14  Wednesday        3  \n",
       "407     8    August  15   Thursday        4  \n",
       "408     8    August  16     Friday        5  \n",
       "409     8    August  16     Friday        5  \n",
       "410     8    August  19     Monday        1  \n",
       "411     8    August  19     Monday        1  \n",
       "412     8    August  21  Wednesday        3  \n",
       "413     8    August  26     Monday        1  \n",
       "414     8    August  26     Monday        1  \n",
       "415     8    August  27    Tuesday        2  \n",
       "416     8    August  27    Tuesday        2  \n",
       "417     8    August  27    Tuesday        2  \n",
       "418     8    August  28  Wednesday        3  \n",
       "419     8    August  28  Wednesday        3  \n",
       "420     8    August  29   Thursday        4  \n",
       "421     8    August  29   Thursday        4  \n",
       "422     8    August  29   Thursday        4  \n",
       "423     8    August  29   Thursday        4  \n",
       "424     8    August  30     Friday        5  "
      ]
     },
     "metadata": {},
     "output_type": "display_data"
    },
    {
     "data": {
      "text/html": [
       "<div>\n",
       "<style scoped>\n",
       "    .dataframe tbody tr th:only-of-type {\n",
       "        vertical-align: middle;\n",
       "    }\n",
       "\n",
       "    .dataframe tbody tr th {\n",
       "        vertical-align: top;\n",
       "    }\n",
       "\n",
       "    .dataframe thead th {\n",
       "        text-align: right;\n",
       "    }\n",
       "</style>\n",
       "<table border=\"1\" class=\"dataframe\">\n",
       "  <thead>\n",
       "    <tr style=\"text-align: right;\">\n",
       "      <th></th>\n",
       "      <th>Date</th>\n",
       "      <th>Check Number</th>\n",
       "      <th>Description</th>\n",
       "      <th>Type</th>\n",
       "      <th>Charge</th>\n",
       "      <th>Debit</th>\n",
       "      <th>Credit</th>\n",
       "      <th>Running Balance</th>\n",
       "      <th>Year</th>\n",
       "      <th>Month</th>\n",
       "      <th>MonthName</th>\n",
       "      <th>Day</th>\n",
       "      <th>DayName</th>\n",
       "      <th>DayCode</th>\n",
       "    </tr>\n",
       "  </thead>\n",
       "  <tbody>\n",
       "    <tr>\n",
       "      <td>425</td>\n",
       "      <td>9/3/19</td>\n",
       "      <td>0</td>\n",
       "      <td>MOBILE APP TRANSFER FROM 100002</td>\n",
       "      <td>Mom Fund</td>\n",
       "      <td>200.00</td>\n",
       "      <td>0.00</td>\n",
       "      <td>200.00</td>\n",
       "      <td>1277.51</td>\n",
       "      <td>19</td>\n",
       "      <td>9</td>\n",
       "      <td>September</td>\n",
       "      <td>3</td>\n",
       "      <td>Tuesday</td>\n",
       "      <td>2</td>\n",
       "    </tr>\n",
       "    <tr>\n",
       "      <td>426</td>\n",
       "      <td>9/3/19</td>\n",
       "      <td>0</td>\n",
       "      <td>VENMO            PAYMENT    243</td>\n",
       "      <td>Money Transfer - Debit</td>\n",
       "      <td>7.50</td>\n",
       "      <td>7.50</td>\n",
       "      <td>0.00</td>\n",
       "      <td>1260.01</td>\n",
       "      <td>19</td>\n",
       "      <td>9</td>\n",
       "      <td>September</td>\n",
       "      <td>3</td>\n",
       "      <td>Tuesday</td>\n",
       "      <td>2</td>\n",
       "    </tr>\n",
       "    <tr>\n",
       "      <td>427</td>\n",
       "      <td>9/3/19</td>\n",
       "      <td>0</td>\n",
       "      <td>CASH APP*DENZELLE T        4153</td>\n",
       "      <td>Money Transfer - Debit</td>\n",
       "      <td>10.00</td>\n",
       "      <td>10.00</td>\n",
       "      <td>0.00</td>\n",
       "      <td>1267.51</td>\n",
       "      <td>19</td>\n",
       "      <td>9</td>\n",
       "      <td>September</td>\n",
       "      <td>3</td>\n",
       "      <td>Tuesday</td>\n",
       "      <td>2</td>\n",
       "    </tr>\n",
       "    <tr>\n",
       "      <td>428</td>\n",
       "      <td>9/4/19</td>\n",
       "      <td>0</td>\n",
       "      <td>S068AC1          RENT       997</td>\n",
       "      <td>Housing - Rent</td>\n",
       "      <td>789.95</td>\n",
       "      <td>789.95</td>\n",
       "      <td>0.00</td>\n",
       "      <td>470.06</td>\n",
       "      <td>19</td>\n",
       "      <td>9</td>\n",
       "      <td>September</td>\n",
       "      <td>4</td>\n",
       "      <td>Wednesday</td>\n",
       "      <td>3</td>\n",
       "    </tr>\n",
       "    <tr>\n",
       "      <td>429</td>\n",
       "      <td>9/5/19</td>\n",
       "      <td>0</td>\n",
       "      <td>CASH APP*DENZELLE T        4153</td>\n",
       "      <td>Money Transfer - Debit</td>\n",
       "      <td>10.00</td>\n",
       "      <td>10.00</td>\n",
       "      <td>0.00</td>\n",
       "      <td>460.06</td>\n",
       "      <td>19</td>\n",
       "      <td>9</td>\n",
       "      <td>September</td>\n",
       "      <td>5</td>\n",
       "      <td>Thursday</td>\n",
       "      <td>4</td>\n",
       "    </tr>\n",
       "    <tr>\n",
       "      <td>430</td>\n",
       "      <td>9/11/19</td>\n",
       "      <td>0</td>\n",
       "      <td>SQUARE INC       * CASH APP T20</td>\n",
       "      <td>Money Transfer - Debit</td>\n",
       "      <td>20.00</td>\n",
       "      <td>20.00</td>\n",
       "      <td>0.00</td>\n",
       "      <td>440.06</td>\n",
       "      <td>19</td>\n",
       "      <td>9</td>\n",
       "      <td>September</td>\n",
       "      <td>11</td>\n",
       "      <td>Wednesday</td>\n",
       "      <td>3</td>\n",
       "    </tr>\n",
       "    <tr>\n",
       "      <td>431</td>\n",
       "      <td>9/12/19</td>\n",
       "      <td>0</td>\n",
       "      <td>DEPOSIT</td>\n",
       "      <td>Deposit</td>\n",
       "      <td>257.67</td>\n",
       "      <td>0.00</td>\n",
       "      <td>257.67</td>\n",
       "      <td>697.73</td>\n",
       "      <td>19</td>\n",
       "      <td>9</td>\n",
       "      <td>September</td>\n",
       "      <td>12</td>\n",
       "      <td>Thursday</td>\n",
       "      <td>4</td>\n",
       "    </tr>\n",
       "    <tr>\n",
       "      <td>432</td>\n",
       "      <td>9/12/19</td>\n",
       "      <td>0</td>\n",
       "      <td>VENMO            PAYMENT    248</td>\n",
       "      <td>Money Transfer - Debit</td>\n",
       "      <td>28.00</td>\n",
       "      <td>28.00</td>\n",
       "      <td>0.00</td>\n",
       "      <td>669.73</td>\n",
       "      <td>19</td>\n",
       "      <td>9</td>\n",
       "      <td>September</td>\n",
       "      <td>12</td>\n",
       "      <td>Thursday</td>\n",
       "      <td>4</td>\n",
       "    </tr>\n",
       "    <tr>\n",
       "      <td>433</td>\n",
       "      <td>9/12/19</td>\n",
       "      <td>0</td>\n",
       "      <td>ALLY CASHBACK CC ONLINE PMT CKF</td>\n",
       "      <td>CC BillPay</td>\n",
       "      <td>301.28</td>\n",
       "      <td>301.28</td>\n",
       "      <td>0.00</td>\n",
       "      <td>368.45</td>\n",
       "      <td>19</td>\n",
       "      <td>9</td>\n",
       "      <td>September</td>\n",
       "      <td>12</td>\n",
       "      <td>Thursday</td>\n",
       "      <td>4</td>\n",
       "    </tr>\n",
       "    <tr>\n",
       "      <td>434</td>\n",
       "      <td>9/16/19</td>\n",
       "      <td>0</td>\n",
       "      <td>VENMO            PAYMENT    249</td>\n",
       "      <td>Money Transfer - Debit</td>\n",
       "      <td>25.00</td>\n",
       "      <td>25.00</td>\n",
       "      <td>0.00</td>\n",
       "      <td>343.45</td>\n",
       "      <td>19</td>\n",
       "      <td>9</td>\n",
       "      <td>September</td>\n",
       "      <td>16</td>\n",
       "      <td>Monday</td>\n",
       "      <td>1</td>\n",
       "    </tr>\n",
       "    <tr>\n",
       "      <td>435</td>\n",
       "      <td>9/25/19</td>\n",
       "      <td>0</td>\n",
       "      <td>BIRD APP                   8662</td>\n",
       "      <td>Transportation</td>\n",
       "      <td>10.00</td>\n",
       "      <td>10.00</td>\n",
       "      <td>0.00</td>\n",
       "      <td>323.45</td>\n",
       "      <td>19</td>\n",
       "      <td>9</td>\n",
       "      <td>September</td>\n",
       "      <td>25</td>\n",
       "      <td>Wednesday</td>\n",
       "      <td>3</td>\n",
       "    </tr>\n",
       "    <tr>\n",
       "      <td>436</td>\n",
       "      <td>9/25/19</td>\n",
       "      <td>0</td>\n",
       "      <td>BIRD APP                   8662</td>\n",
       "      <td>Transportation</td>\n",
       "      <td>10.00</td>\n",
       "      <td>10.00</td>\n",
       "      <td>0.00</td>\n",
       "      <td>333.45</td>\n",
       "      <td>19</td>\n",
       "      <td>9</td>\n",
       "      <td>September</td>\n",
       "      <td>25</td>\n",
       "      <td>Wednesday</td>\n",
       "      <td>3</td>\n",
       "    </tr>\n",
       "    <tr>\n",
       "      <td>437</td>\n",
       "      <td>9/26/19</td>\n",
       "      <td>0</td>\n",
       "      <td>VENMO            CASHOUT</td>\n",
       "      <td>Money Transfer - Credit</td>\n",
       "      <td>20.00</td>\n",
       "      <td>0.00</td>\n",
       "      <td>20.00</td>\n",
       "      <td>343.45</td>\n",
       "      <td>19</td>\n",
       "      <td>9</td>\n",
       "      <td>September</td>\n",
       "      <td>26</td>\n",
       "      <td>Thursday</td>\n",
       "      <td>4</td>\n",
       "    </tr>\n",
       "    <tr>\n",
       "      <td>438</td>\n",
       "      <td>9/26/19</td>\n",
       "      <td>0</td>\n",
       "      <td>SQUARE INC       * CASH APP T20</td>\n",
       "      <td>Money Transfer - Debit</td>\n",
       "      <td>20.00</td>\n",
       "      <td>20.00</td>\n",
       "      <td>0.00</td>\n",
       "      <td>323.45</td>\n",
       "      <td>19</td>\n",
       "      <td>9</td>\n",
       "      <td>September</td>\n",
       "      <td>26</td>\n",
       "      <td>Thursday</td>\n",
       "      <td>4</td>\n",
       "    </tr>\n",
       "    <tr>\n",
       "      <td>439</td>\n",
       "      <td>9/27/19</td>\n",
       "      <td>0</td>\n",
       "      <td>SQUARE INC       * CASH APP</td>\n",
       "      <td>Money Transfer - Credit</td>\n",
       "      <td>15.00</td>\n",
       "      <td>0.00</td>\n",
       "      <td>15.00</td>\n",
       "      <td>338.45</td>\n",
       "      <td>19</td>\n",
       "      <td>9</td>\n",
       "      <td>September</td>\n",
       "      <td>27</td>\n",
       "      <td>Friday</td>\n",
       "      <td>5</td>\n",
       "    </tr>\n",
       "    <tr>\n",
       "      <td>440</td>\n",
       "      <td>9/30/19</td>\n",
       "      <td>0</td>\n",
       "      <td>VENMO            CASHOUT</td>\n",
       "      <td>Money Transfer - Credit</td>\n",
       "      <td>65.00</td>\n",
       "      <td>0.00</td>\n",
       "      <td>65.00</td>\n",
       "      <td>403.45</td>\n",
       "      <td>19</td>\n",
       "      <td>9</td>\n",
       "      <td>September</td>\n",
       "      <td>30</td>\n",
       "      <td>Monday</td>\n",
       "      <td>1</td>\n",
       "    </tr>\n",
       "  </tbody>\n",
       "</table>\n",
       "</div>"
      ],
      "text/plain": [
       "        Date  Check Number                       Description  \\\n",
       "425   9/3/19             0   MOBILE APP TRANSFER FROM 100002   \n",
       "426   9/3/19             0   VENMO            PAYMENT    243   \n",
       "427   9/3/19             0   CASH APP*DENZELLE T        4153   \n",
       "428   9/4/19             0   S068AC1          RENT       997   \n",
       "429   9/5/19             0   CASH APP*DENZELLE T        4153   \n",
       "430  9/11/19             0   SQUARE INC       * CASH APP T20   \n",
       "431  9/12/19             0                           DEPOSIT   \n",
       "432  9/12/19             0   VENMO            PAYMENT    248   \n",
       "433  9/12/19             0   ALLY CASHBACK CC ONLINE PMT CKF   \n",
       "434  9/16/19             0   VENMO            PAYMENT    249   \n",
       "435  9/25/19             0   BIRD APP                   8662   \n",
       "436  9/25/19             0   BIRD APP                   8662   \n",
       "437  9/26/19             0   VENMO            CASHOUT          \n",
       "438  9/26/19             0   SQUARE INC       * CASH APP T20   \n",
       "439  9/27/19             0   SQUARE INC       * CASH APP       \n",
       "440  9/30/19             0   VENMO            CASHOUT          \n",
       "\n",
       "                        Type  Charge   Debit  Credit  Running Balance Year  \\\n",
       "425                 Mom Fund  200.00    0.00  200.00          1277.51   19   \n",
       "426   Money Transfer - Debit    7.50    7.50    0.00          1260.01   19   \n",
       "427   Money Transfer - Debit   10.00   10.00    0.00          1267.51   19   \n",
       "428           Housing - Rent  789.95  789.95    0.00           470.06   19   \n",
       "429   Money Transfer - Debit   10.00   10.00    0.00           460.06   19   \n",
       "430   Money Transfer - Debit   20.00   20.00    0.00           440.06   19   \n",
       "431                  Deposit  257.67    0.00  257.67           697.73   19   \n",
       "432   Money Transfer - Debit   28.00   28.00    0.00           669.73   19   \n",
       "433               CC BillPay  301.28  301.28    0.00           368.45   19   \n",
       "434   Money Transfer - Debit   25.00   25.00    0.00           343.45   19   \n",
       "435           Transportation   10.00   10.00    0.00           323.45   19   \n",
       "436           Transportation   10.00   10.00    0.00           333.45   19   \n",
       "437  Money Transfer - Credit   20.00    0.00   20.00           343.45   19   \n",
       "438   Money Transfer - Debit   20.00   20.00    0.00           323.45   19   \n",
       "439  Money Transfer - Credit   15.00    0.00   15.00           338.45   19   \n",
       "440  Money Transfer - Credit   65.00    0.00   65.00           403.45   19   \n",
       "\n",
       "    Month  MonthName Day    DayName  DayCode  \n",
       "425     9  September   3    Tuesday        2  \n",
       "426     9  September   3    Tuesday        2  \n",
       "427     9  September   3    Tuesday        2  \n",
       "428     9  September   4  Wednesday        3  \n",
       "429     9  September   5   Thursday        4  \n",
       "430     9  September  11  Wednesday        3  \n",
       "431     9  September  12   Thursday        4  \n",
       "432     9  September  12   Thursday        4  \n",
       "433     9  September  12   Thursday        4  \n",
       "434     9  September  16     Monday        1  \n",
       "435     9  September  25  Wednesday        3  \n",
       "436     9  September  25  Wednesday        3  \n",
       "437     9  September  26   Thursday        4  \n",
       "438     9  September  26   Thursday        4  \n",
       "439     9  September  27     Friday        5  \n",
       "440     9  September  30     Monday        1  "
      ]
     },
     "metadata": {},
     "output_type": "display_data"
    },
    {
     "data": {
      "text/html": [
       "<div>\n",
       "<style scoped>\n",
       "    .dataframe tbody tr th:only-of-type {\n",
       "        vertical-align: middle;\n",
       "    }\n",
       "\n",
       "    .dataframe tbody tr th {\n",
       "        vertical-align: top;\n",
       "    }\n",
       "\n",
       "    .dataframe thead th {\n",
       "        text-align: right;\n",
       "    }\n",
       "</style>\n",
       "<table border=\"1\" class=\"dataframe\">\n",
       "  <thead>\n",
       "    <tr style=\"text-align: right;\">\n",
       "      <th></th>\n",
       "      <th>Date</th>\n",
       "      <th>Check Number</th>\n",
       "      <th>Description</th>\n",
       "      <th>Type</th>\n",
       "      <th>Charge</th>\n",
       "      <th>Debit</th>\n",
       "      <th>Credit</th>\n",
       "      <th>Running Balance</th>\n",
       "      <th>Year</th>\n",
       "      <th>Month</th>\n",
       "      <th>MonthName</th>\n",
       "      <th>Day</th>\n",
       "      <th>DayName</th>\n",
       "      <th>DayCode</th>\n",
       "    </tr>\n",
       "  </thead>\n",
       "  <tbody>\n",
       "    <tr>\n",
       "      <td>441</td>\n",
       "      <td>10/1/19</td>\n",
       "      <td>0</td>\n",
       "      <td>SQUARE INC       * CASH APP</td>\n",
       "      <td>Money Transfer - Credit</td>\n",
       "      <td>20.00</td>\n",
       "      <td>0.00</td>\n",
       "      <td>20.0</td>\n",
       "      <td>623.45</td>\n",
       "      <td>19</td>\n",
       "      <td>10</td>\n",
       "      <td>October</td>\n",
       "      <td>1</td>\n",
       "      <td>Tuesday</td>\n",
       "      <td>2</td>\n",
       "    </tr>\n",
       "    <tr>\n",
       "      <td>442</td>\n",
       "      <td>10/1/19</td>\n",
       "      <td>0</td>\n",
       "      <td>MOBILE APP TRANSFER FROM 100002</td>\n",
       "      <td>Mom Fund</td>\n",
       "      <td>200.00</td>\n",
       "      <td>0.00</td>\n",
       "      <td>200.0</td>\n",
       "      <td>603.45</td>\n",
       "      <td>19</td>\n",
       "      <td>10</td>\n",
       "      <td>October</td>\n",
       "      <td>1</td>\n",
       "      <td>Tuesday</td>\n",
       "      <td>2</td>\n",
       "    </tr>\n",
       "    <tr>\n",
       "      <td>443</td>\n",
       "      <td>10/1/19</td>\n",
       "      <td>0</td>\n",
       "      <td>ALLY BANK        P2P</td>\n",
       "      <td>Ally Transfer - From</td>\n",
       "      <td>800.00</td>\n",
       "      <td>0.00</td>\n",
       "      <td>800.0</td>\n",
       "      <td>1423.45</td>\n",
       "      <td>19</td>\n",
       "      <td>10</td>\n",
       "      <td>October</td>\n",
       "      <td>1</td>\n",
       "      <td>Tuesday</td>\n",
       "      <td>2</td>\n",
       "    </tr>\n",
       "    <tr>\n",
       "      <td>444</td>\n",
       "      <td>10/2/19</td>\n",
       "      <td>0</td>\n",
       "      <td>1001 00004683         000021300</td>\n",
       "      <td>Unknown</td>\n",
       "      <td>0.00</td>\n",
       "      <td>0.00</td>\n",
       "      <td>0.0</td>\n",
       "      <td>1420.62</td>\n",
       "      <td>19</td>\n",
       "      <td>10</td>\n",
       "      <td>October</td>\n",
       "      <td>2</td>\n",
       "      <td>Wednesday</td>\n",
       "      <td>3</td>\n",
       "    </tr>\n",
       "    <tr>\n",
       "      <td>445</td>\n",
       "      <td>10/2/19</td>\n",
       "      <td>0</td>\n",
       "      <td>RACETRAC 2421              ATLA</td>\n",
       "      <td>Gasoline</td>\n",
       "      <td>1.08</td>\n",
       "      <td>1.08</td>\n",
       "      <td>0.0</td>\n",
       "      <td>1420.62</td>\n",
       "      <td>19</td>\n",
       "      <td>10</td>\n",
       "      <td>October</td>\n",
       "      <td>2</td>\n",
       "      <td>Wednesday</td>\n",
       "      <td>3</td>\n",
       "    </tr>\n",
       "    <tr>\n",
       "      <td>446</td>\n",
       "      <td>10/2/19</td>\n",
       "      <td>0</td>\n",
       "      <td>KROGER 34 1715             ATLA</td>\n",
       "      <td>Food</td>\n",
       "      <td>1.75</td>\n",
       "      <td>1.75</td>\n",
       "      <td>0.0</td>\n",
       "      <td>1421.70</td>\n",
       "      <td>19</td>\n",
       "      <td>10</td>\n",
       "      <td>October</td>\n",
       "      <td>2</td>\n",
       "      <td>Wednesday</td>\n",
       "      <td>3</td>\n",
       "    </tr>\n",
       "    <tr>\n",
       "      <td>447</td>\n",
       "      <td>10/2/19</td>\n",
       "      <td>0</td>\n",
       "      <td>ATM BALANCE INQUIRY FEE</td>\n",
       "      <td>Other Fee</td>\n",
       "      <td>3.00</td>\n",
       "      <td>3.00</td>\n",
       "      <td>0.0</td>\n",
       "      <td>1417.62</td>\n",
       "      <td>19</td>\n",
       "      <td>10</td>\n",
       "      <td>October</td>\n",
       "      <td>2</td>\n",
       "      <td>Wednesday</td>\n",
       "      <td>3</td>\n",
       "    </tr>\n",
       "    <tr>\n",
       "      <td>448</td>\n",
       "      <td>10/2/19</td>\n",
       "      <td>0</td>\n",
       "      <td>ATM CASH WITHDRAWAL FEE</td>\n",
       "      <td>Other Fee</td>\n",
       "      <td>3.00</td>\n",
       "      <td>3.00</td>\n",
       "      <td>0.0</td>\n",
       "      <td>1352.12</td>\n",
       "      <td>19</td>\n",
       "      <td>10</td>\n",
       "      <td>October</td>\n",
       "      <td>2</td>\n",
       "      <td>Wednesday</td>\n",
       "      <td>3</td>\n",
       "    </tr>\n",
       "    <tr>\n",
       "      <td>449</td>\n",
       "      <td>10/2/19</td>\n",
       "      <td>0</td>\n",
       "      <td>1001 00004683         000021400</td>\n",
       "      <td>Unknown</td>\n",
       "      <td>62.50</td>\n",
       "      <td>62.50</td>\n",
       "      <td>0.0</td>\n",
       "      <td>1355.12</td>\n",
       "      <td>19</td>\n",
       "      <td>10</td>\n",
       "      <td>October</td>\n",
       "      <td>2</td>\n",
       "      <td>Wednesday</td>\n",
       "      <td>3</td>\n",
       "    </tr>\n",
       "    <tr>\n",
       "      <td>450</td>\n",
       "      <td>10/2/19</td>\n",
       "      <td>0</td>\n",
       "      <td>S068AC1          RENT       100</td>\n",
       "      <td>Housing - Rent</td>\n",
       "      <td>789.95</td>\n",
       "      <td>789.95</td>\n",
       "      <td>0.0</td>\n",
       "      <td>562.17</td>\n",
       "      <td>19</td>\n",
       "      <td>10</td>\n",
       "      <td>October</td>\n",
       "      <td>2</td>\n",
       "      <td>Wednesday</td>\n",
       "      <td>3</td>\n",
       "    </tr>\n",
       "    <tr>\n",
       "      <td>451</td>\n",
       "      <td>10/3/19</td>\n",
       "      <td>0</td>\n",
       "      <td>GSU CHICK-FIL-A            ATLA</td>\n",
       "      <td>Food</td>\n",
       "      <td>2.38</td>\n",
       "      <td>2.38</td>\n",
       "      <td>0.0</td>\n",
       "      <td>559.79</td>\n",
       "      <td>19</td>\n",
       "      <td>10</td>\n",
       "      <td>October</td>\n",
       "      <td>3</td>\n",
       "      <td>Thursday</td>\n",
       "      <td>4</td>\n",
       "    </tr>\n",
       "    <tr>\n",
       "      <td>452</td>\n",
       "      <td>10/7/19</td>\n",
       "      <td>0</td>\n",
       "      <td>QT 729        07007297     ATLA</td>\n",
       "      <td>Gasoline</td>\n",
       "      <td>1.04</td>\n",
       "      <td>1.04</td>\n",
       "      <td>0.0</td>\n",
       "      <td>558.75</td>\n",
       "      <td>19</td>\n",
       "      <td>10</td>\n",
       "      <td>October</td>\n",
       "      <td>7</td>\n",
       "      <td>Monday</td>\n",
       "      <td>1</td>\n",
       "    </tr>\n",
       "    <tr>\n",
       "      <td>453</td>\n",
       "      <td>10/10/19</td>\n",
       "      <td>0</td>\n",
       "      <td>BIRD APP                   8662</td>\n",
       "      <td>Transportation</td>\n",
       "      <td>10.00</td>\n",
       "      <td>10.00</td>\n",
       "      <td>0.0</td>\n",
       "      <td>538.75</td>\n",
       "      <td>19</td>\n",
       "      <td>10</td>\n",
       "      <td>October</td>\n",
       "      <td>10</td>\n",
       "      <td>Thursday</td>\n",
       "      <td>4</td>\n",
       "    </tr>\n",
       "    <tr>\n",
       "      <td>454</td>\n",
       "      <td>10/10/19</td>\n",
       "      <td>0</td>\n",
       "      <td>BIRD APP                   8662</td>\n",
       "      <td>Transportation</td>\n",
       "      <td>10.00</td>\n",
       "      <td>10.00</td>\n",
       "      <td>0.0</td>\n",
       "      <td>548.75</td>\n",
       "      <td>19</td>\n",
       "      <td>10</td>\n",
       "      <td>October</td>\n",
       "      <td>10</td>\n",
       "      <td>Thursday</td>\n",
       "      <td>4</td>\n",
       "    </tr>\n",
       "    <tr>\n",
       "      <td>455</td>\n",
       "      <td>10/11/19</td>\n",
       "      <td>0</td>\n",
       "      <td>ALLY CASHBACK CC ONLINE PMT CKF</td>\n",
       "      <td>CC BillPay</td>\n",
       "      <td>469.31</td>\n",
       "      <td>469.31</td>\n",
       "      <td>0.0</td>\n",
       "      <td>69.44</td>\n",
       "      <td>19</td>\n",
       "      <td>10</td>\n",
       "      <td>October</td>\n",
       "      <td>11</td>\n",
       "      <td>Friday</td>\n",
       "      <td>5</td>\n",
       "    </tr>\n",
       "    <tr>\n",
       "      <td>456</td>\n",
       "      <td>10/15/19</td>\n",
       "      <td>0</td>\n",
       "      <td>VENMO            CASHOUT</td>\n",
       "      <td>Money Transfer - Credit</td>\n",
       "      <td>500.00</td>\n",
       "      <td>0.00</td>\n",
       "      <td>500.0</td>\n",
       "      <td>569.44</td>\n",
       "      <td>19</td>\n",
       "      <td>10</td>\n",
       "      <td>October</td>\n",
       "      <td>15</td>\n",
       "      <td>Tuesday</td>\n",
       "      <td>2</td>\n",
       "    </tr>\n",
       "    <tr>\n",
       "      <td>457</td>\n",
       "      <td>10/15/19</td>\n",
       "      <td>0</td>\n",
       "      <td>WM SUPERCENTER #           ATLA</td>\n",
       "      <td>Grocery</td>\n",
       "      <td>51.64</td>\n",
       "      <td>51.64</td>\n",
       "      <td>0.0</td>\n",
       "      <td>517.80</td>\n",
       "      <td>19</td>\n",
       "      <td>10</td>\n",
       "      <td>October</td>\n",
       "      <td>15</td>\n",
       "      <td>Tuesday</td>\n",
       "      <td>2</td>\n",
       "    </tr>\n",
       "    <tr>\n",
       "      <td>458</td>\n",
       "      <td>10/16/19</td>\n",
       "      <td>0</td>\n",
       "      <td>WM SUPERCENTER #           ALPH</td>\n",
       "      <td>Grocery</td>\n",
       "      <td>2.02</td>\n",
       "      <td>2.02</td>\n",
       "      <td>0.0</td>\n",
       "      <td>515.78</td>\n",
       "      <td>19</td>\n",
       "      <td>10</td>\n",
       "      <td>October</td>\n",
       "      <td>16</td>\n",
       "      <td>Wednesday</td>\n",
       "      <td>3</td>\n",
       "    </tr>\n",
       "    <tr>\n",
       "      <td>459</td>\n",
       "      <td>10/28/19</td>\n",
       "      <td>0</td>\n",
       "      <td>SQUARE INC       * CASH APP T20</td>\n",
       "      <td>Money Transfer - Debit</td>\n",
       "      <td>12.00</td>\n",
       "      <td>12.00</td>\n",
       "      <td>0.0</td>\n",
       "      <td>503.78</td>\n",
       "      <td>19</td>\n",
       "      <td>10</td>\n",
       "      <td>October</td>\n",
       "      <td>28</td>\n",
       "      <td>Monday</td>\n",
       "      <td>1</td>\n",
       "    </tr>\n",
       "    <tr>\n",
       "      <td>460</td>\n",
       "      <td>10/29/19</td>\n",
       "      <td>0</td>\n",
       "      <td>ALLY BANK        P2P</td>\n",
       "      <td>Ally Transfer - From</td>\n",
       "      <td>800.00</td>\n",
       "      <td>0.00</td>\n",
       "      <td>800.0</td>\n",
       "      <td>1303.78</td>\n",
       "      <td>19</td>\n",
       "      <td>10</td>\n",
       "      <td>October</td>\n",
       "      <td>29</td>\n",
       "      <td>Tuesday</td>\n",
       "      <td>2</td>\n",
       "    </tr>\n",
       "    <tr>\n",
       "      <td>461</td>\n",
       "      <td>10/30/19</td>\n",
       "      <td>0</td>\n",
       "      <td>SQUARE INC       * CASH APP T20</td>\n",
       "      <td>Money Transfer - Debit</td>\n",
       "      <td>20.00</td>\n",
       "      <td>20.00</td>\n",
       "      <td>0.0</td>\n",
       "      <td>1283.78</td>\n",
       "      <td>19</td>\n",
       "      <td>10</td>\n",
       "      <td>October</td>\n",
       "      <td>30</td>\n",
       "      <td>Wednesday</td>\n",
       "      <td>3</td>\n",
       "    </tr>\n",
       "  </tbody>\n",
       "</table>\n",
       "</div>"
      ],
      "text/plain": [
       "         Date  Check Number                       Description  \\\n",
       "441   10/1/19             0   SQUARE INC       * CASH APP       \n",
       "442   10/1/19             0   MOBILE APP TRANSFER FROM 100002   \n",
       "443   10/1/19             0   ALLY BANK        P2P              \n",
       "444   10/2/19             0   1001 00004683         000021300   \n",
       "445   10/2/19             0   RACETRAC 2421              ATLA   \n",
       "446   10/2/19             0   KROGER 34 1715             ATLA   \n",
       "447   10/2/19             0         ATM BALANCE INQUIRY FEE     \n",
       "448   10/2/19             0         ATM CASH WITHDRAWAL FEE     \n",
       "449   10/2/19             0   1001 00004683         000021400   \n",
       "450   10/2/19             0   S068AC1          RENT       100   \n",
       "451   10/3/19             0   GSU CHICK-FIL-A            ATLA   \n",
       "452   10/7/19             0   QT 729        07007297     ATLA   \n",
       "453  10/10/19             0   BIRD APP                   8662   \n",
       "454  10/10/19             0   BIRD APP                   8662   \n",
       "455  10/11/19             0   ALLY CASHBACK CC ONLINE PMT CKF   \n",
       "456  10/15/19             0   VENMO            CASHOUT          \n",
       "457  10/15/19             0   WM SUPERCENTER #           ATLA   \n",
       "458  10/16/19             0   WM SUPERCENTER #           ALPH   \n",
       "459  10/28/19             0   SQUARE INC       * CASH APP T20   \n",
       "460  10/29/19             0   ALLY BANK        P2P              \n",
       "461  10/30/19             0   SQUARE INC       * CASH APP T20   \n",
       "\n",
       "                        Type  Charge   Debit  Credit  Running Balance Year  \\\n",
       "441  Money Transfer - Credit   20.00    0.00    20.0           623.45   19   \n",
       "442                 Mom Fund  200.00    0.00   200.0           603.45   19   \n",
       "443     Ally Transfer - From  800.00    0.00   800.0          1423.45   19   \n",
       "444                  Unknown    0.00    0.00     0.0          1420.62   19   \n",
       "445                 Gasoline    1.08    1.08     0.0          1420.62   19   \n",
       "446                     Food    1.75    1.75     0.0          1421.70   19   \n",
       "447                Other Fee    3.00    3.00     0.0          1417.62   19   \n",
       "448                Other Fee    3.00    3.00     0.0          1352.12   19   \n",
       "449                  Unknown   62.50   62.50     0.0          1355.12   19   \n",
       "450           Housing - Rent  789.95  789.95     0.0           562.17   19   \n",
       "451                     Food    2.38    2.38     0.0           559.79   19   \n",
       "452                 Gasoline    1.04    1.04     0.0           558.75   19   \n",
       "453           Transportation   10.00   10.00     0.0           538.75   19   \n",
       "454           Transportation   10.00   10.00     0.0           548.75   19   \n",
       "455               CC BillPay  469.31  469.31     0.0            69.44   19   \n",
       "456  Money Transfer - Credit  500.00    0.00   500.0           569.44   19   \n",
       "457                  Grocery   51.64   51.64     0.0           517.80   19   \n",
       "458                  Grocery    2.02    2.02     0.0           515.78   19   \n",
       "459   Money Transfer - Debit   12.00   12.00     0.0           503.78   19   \n",
       "460     Ally Transfer - From  800.00    0.00   800.0          1303.78   19   \n",
       "461   Money Transfer - Debit   20.00   20.00     0.0          1283.78   19   \n",
       "\n",
       "    Month MonthName Day    DayName  DayCode  \n",
       "441    10   October   1    Tuesday        2  \n",
       "442    10   October   1    Tuesday        2  \n",
       "443    10   October   1    Tuesday        2  \n",
       "444    10   October   2  Wednesday        3  \n",
       "445    10   October   2  Wednesday        3  \n",
       "446    10   October   2  Wednesday        3  \n",
       "447    10   October   2  Wednesday        3  \n",
       "448    10   October   2  Wednesday        3  \n",
       "449    10   October   2  Wednesday        3  \n",
       "450    10   October   2  Wednesday        3  \n",
       "451    10   October   3   Thursday        4  \n",
       "452    10   October   7     Monday        1  \n",
       "453    10   October  10   Thursday        4  \n",
       "454    10   October  10   Thursday        4  \n",
       "455    10   October  11     Friday        5  \n",
       "456    10   October  15    Tuesday        2  \n",
       "457    10   October  15    Tuesday        2  \n",
       "458    10   October  16  Wednesday        3  \n",
       "459    10   October  28     Monday        1  \n",
       "460    10   October  29    Tuesday        2  \n",
       "461    10   October  30  Wednesday        3  "
      ]
     },
     "metadata": {},
     "output_type": "display_data"
    },
    {
     "data": {
      "text/html": [
       "<div>\n",
       "<style scoped>\n",
       "    .dataframe tbody tr th:only-of-type {\n",
       "        vertical-align: middle;\n",
       "    }\n",
       "\n",
       "    .dataframe tbody tr th {\n",
       "        vertical-align: top;\n",
       "    }\n",
       "\n",
       "    .dataframe thead th {\n",
       "        text-align: right;\n",
       "    }\n",
       "</style>\n",
       "<table border=\"1\" class=\"dataframe\">\n",
       "  <thead>\n",
       "    <tr style=\"text-align: right;\">\n",
       "      <th></th>\n",
       "      <th>Date</th>\n",
       "      <th>Check Number</th>\n",
       "      <th>Description</th>\n",
       "      <th>Type</th>\n",
       "      <th>Charge</th>\n",
       "      <th>Debit</th>\n",
       "      <th>Credit</th>\n",
       "      <th>Running Balance</th>\n",
       "      <th>Year</th>\n",
       "      <th>Month</th>\n",
       "      <th>MonthName</th>\n",
       "      <th>Day</th>\n",
       "      <th>DayName</th>\n",
       "      <th>DayCode</th>\n",
       "    </tr>\n",
       "  </thead>\n",
       "  <tbody>\n",
       "    <tr>\n",
       "      <td>462</td>\n",
       "      <td>11/1/19</td>\n",
       "      <td>0</td>\n",
       "      <td>MOBILE APP TRANSFER FROM 100002</td>\n",
       "      <td>Mom Fund</td>\n",
       "      <td>200.00</td>\n",
       "      <td>0.00</td>\n",
       "      <td>200.0</td>\n",
       "      <td>1483.78</td>\n",
       "      <td>19</td>\n",
       "      <td>11</td>\n",
       "      <td>November</td>\n",
       "      <td>1</td>\n",
       "      <td>Friday</td>\n",
       "      <td>5</td>\n",
       "    </tr>\n",
       "    <tr>\n",
       "      <td>463</td>\n",
       "      <td>11/5/19</td>\n",
       "      <td>0</td>\n",
       "      <td>S068AC1          RENT       102</td>\n",
       "      <td>Housing - Rent</td>\n",
       "      <td>789.95</td>\n",
       "      <td>789.95</td>\n",
       "      <td>0.0</td>\n",
       "      <td>693.83</td>\n",
       "      <td>19</td>\n",
       "      <td>11</td>\n",
       "      <td>November</td>\n",
       "      <td>5</td>\n",
       "      <td>Tuesday</td>\n",
       "      <td>2</td>\n",
       "    </tr>\n",
       "    <tr>\n",
       "      <td>464</td>\n",
       "      <td>11/6/19</td>\n",
       "      <td>0</td>\n",
       "      <td>SQUARE INC       * CASH APP T20</td>\n",
       "      <td>Money Transfer - Debit</td>\n",
       "      <td>10.00</td>\n",
       "      <td>10.00</td>\n",
       "      <td>0.0</td>\n",
       "      <td>683.83</td>\n",
       "      <td>19</td>\n",
       "      <td>11</td>\n",
       "      <td>November</td>\n",
       "      <td>6</td>\n",
       "      <td>Wednesday</td>\n",
       "      <td>3</td>\n",
       "    </tr>\n",
       "    <tr>\n",
       "      <td>465</td>\n",
       "      <td>11/12/19</td>\n",
       "      <td>0</td>\n",
       "      <td>VENMO            CASHOUT</td>\n",
       "      <td>Money Transfer - Credit</td>\n",
       "      <td>262.00</td>\n",
       "      <td>0.00</td>\n",
       "      <td>262.0</td>\n",
       "      <td>945.83</td>\n",
       "      <td>19</td>\n",
       "      <td>11</td>\n",
       "      <td>November</td>\n",
       "      <td>12</td>\n",
       "      <td>Tuesday</td>\n",
       "      <td>2</td>\n",
       "    </tr>\n",
       "    <tr>\n",
       "      <td>466</td>\n",
       "      <td>11/13/19</td>\n",
       "      <td>0</td>\n",
       "      <td>SQUARE INC       * CASH APP</td>\n",
       "      <td>Money Transfer - Credit</td>\n",
       "      <td>39.00</td>\n",
       "      <td>0.00</td>\n",
       "      <td>39.0</td>\n",
       "      <td>984.83</td>\n",
       "      <td>19</td>\n",
       "      <td>11</td>\n",
       "      <td>November</td>\n",
       "      <td>13</td>\n",
       "      <td>Wednesday</td>\n",
       "      <td>3</td>\n",
       "    </tr>\n",
       "    <tr>\n",
       "      <td>467</td>\n",
       "      <td>11/13/19</td>\n",
       "      <td>0</td>\n",
       "      <td>ALLY BANK        P2P</td>\n",
       "      <td>Ally Transfer - From</td>\n",
       "      <td>1000.00</td>\n",
       "      <td>0.00</td>\n",
       "      <td>1000.0</td>\n",
       "      <td>1984.83</td>\n",
       "      <td>19</td>\n",
       "      <td>11</td>\n",
       "      <td>November</td>\n",
       "      <td>13</td>\n",
       "      <td>Wednesday</td>\n",
       "      <td>3</td>\n",
       "    </tr>\n",
       "    <tr>\n",
       "      <td>468</td>\n",
       "      <td>11/14/19</td>\n",
       "      <td>0</td>\n",
       "      <td>BOCADO                     ATLA</td>\n",
       "      <td>Food</td>\n",
       "      <td>2.58</td>\n",
       "      <td>2.58</td>\n",
       "      <td>0.0</td>\n",
       "      <td>1982.25</td>\n",
       "      <td>19</td>\n",
       "      <td>11</td>\n",
       "      <td>November</td>\n",
       "      <td>14</td>\n",
       "      <td>Thursday</td>\n",
       "      <td>4</td>\n",
       "    </tr>\n",
       "    <tr>\n",
       "      <td>469</td>\n",
       "      <td>11/14/19</td>\n",
       "      <td>0</td>\n",
       "      <td>KROGER 34 1715             ATLA</td>\n",
       "      <td>Food</td>\n",
       "      <td>5.25</td>\n",
       "      <td>5.25</td>\n",
       "      <td>0.0</td>\n",
       "      <td>1977.00</td>\n",
       "      <td>19</td>\n",
       "      <td>11</td>\n",
       "      <td>November</td>\n",
       "      <td>14</td>\n",
       "      <td>Thursday</td>\n",
       "      <td>4</td>\n",
       "    </tr>\n",
       "    <tr>\n",
       "      <td>470</td>\n",
       "      <td>11/15/19</td>\n",
       "      <td>0</td>\n",
       "      <td>KROGER 34 1715             ATLA</td>\n",
       "      <td>Grocery</td>\n",
       "      <td>41.55</td>\n",
       "      <td>41.55</td>\n",
       "      <td>0.0</td>\n",
       "      <td>1935.45</td>\n",
       "      <td>19</td>\n",
       "      <td>11</td>\n",
       "      <td>November</td>\n",
       "      <td>15</td>\n",
       "      <td>Friday</td>\n",
       "      <td>5</td>\n",
       "    </tr>\n",
       "    <tr>\n",
       "      <td>471</td>\n",
       "      <td>11/18/19</td>\n",
       "      <td>0</td>\n",
       "      <td>POPEYES 4522               ATLA</td>\n",
       "      <td>Food</td>\n",
       "      <td>7.18</td>\n",
       "      <td>7.18</td>\n",
       "      <td>0.0</td>\n",
       "      <td>1928.27</td>\n",
       "      <td>19</td>\n",
       "      <td>11</td>\n",
       "      <td>November</td>\n",
       "      <td>18</td>\n",
       "      <td>Monday</td>\n",
       "      <td>1</td>\n",
       "    </tr>\n",
       "    <tr>\n",
       "      <td>472</td>\n",
       "      <td>11/18/19</td>\n",
       "      <td>0</td>\n",
       "      <td>SQUARE INC       * CASH APP T20</td>\n",
       "      <td>Money Transfer - Debit</td>\n",
       "      <td>15.00</td>\n",
       "      <td>15.00</td>\n",
       "      <td>0.0</td>\n",
       "      <td>1913.27</td>\n",
       "      <td>19</td>\n",
       "      <td>11</td>\n",
       "      <td>November</td>\n",
       "      <td>18</td>\n",
       "      <td>Monday</td>\n",
       "      <td>1</td>\n",
       "    </tr>\n",
       "    <tr>\n",
       "      <td>473</td>\n",
       "      <td>11/25/19</td>\n",
       "      <td>0</td>\n",
       "      <td>SQUARE INC       * CASH APP T20</td>\n",
       "      <td>Money Transfer - Debit</td>\n",
       "      <td>10.00</td>\n",
       "      <td>10.00</td>\n",
       "      <td>0.0</td>\n",
       "      <td>1903.27</td>\n",
       "      <td>19</td>\n",
       "      <td>11</td>\n",
       "      <td>November</td>\n",
       "      <td>25</td>\n",
       "      <td>Monday</td>\n",
       "      <td>1</td>\n",
       "    </tr>\n",
       "  </tbody>\n",
       "</table>\n",
       "</div>"
      ],
      "text/plain": [
       "         Date  Check Number                       Description  \\\n",
       "462   11/1/19             0   MOBILE APP TRANSFER FROM 100002   \n",
       "463   11/5/19             0   S068AC1          RENT       102   \n",
       "464   11/6/19             0   SQUARE INC       * CASH APP T20   \n",
       "465  11/12/19             0   VENMO            CASHOUT          \n",
       "466  11/13/19             0   SQUARE INC       * CASH APP       \n",
       "467  11/13/19             0   ALLY BANK        P2P              \n",
       "468  11/14/19             0   BOCADO                     ATLA   \n",
       "469  11/14/19             0   KROGER 34 1715             ATLA   \n",
       "470  11/15/19             0   KROGER 34 1715             ATLA   \n",
       "471  11/18/19             0   POPEYES 4522               ATLA   \n",
       "472  11/18/19             0   SQUARE INC       * CASH APP T20   \n",
       "473  11/25/19             0   SQUARE INC       * CASH APP T20   \n",
       "\n",
       "                        Type   Charge   Debit  Credit  Running Balance Year  \\\n",
       "462                 Mom Fund   200.00    0.00   200.0          1483.78   19   \n",
       "463           Housing - Rent   789.95  789.95     0.0           693.83   19   \n",
       "464   Money Transfer - Debit    10.00   10.00     0.0           683.83   19   \n",
       "465  Money Transfer - Credit   262.00    0.00   262.0           945.83   19   \n",
       "466  Money Transfer - Credit    39.00    0.00    39.0           984.83   19   \n",
       "467     Ally Transfer - From  1000.00    0.00  1000.0          1984.83   19   \n",
       "468                     Food     2.58    2.58     0.0          1982.25   19   \n",
       "469                     Food     5.25    5.25     0.0          1977.00   19   \n",
       "470                  Grocery    41.55   41.55     0.0          1935.45   19   \n",
       "471                     Food     7.18    7.18     0.0          1928.27   19   \n",
       "472   Money Transfer - Debit    15.00   15.00     0.0          1913.27   19   \n",
       "473   Money Transfer - Debit    10.00   10.00     0.0          1903.27   19   \n",
       "\n",
       "    Month MonthName Day    DayName  DayCode  \n",
       "462    11  November   1     Friday        5  \n",
       "463    11  November   5    Tuesday        2  \n",
       "464    11  November   6  Wednesday        3  \n",
       "465    11  November  12    Tuesday        2  \n",
       "466    11  November  13  Wednesday        3  \n",
       "467    11  November  13  Wednesday        3  \n",
       "468    11  November  14   Thursday        4  \n",
       "469    11  November  14   Thursday        4  \n",
       "470    11  November  15     Friday        5  \n",
       "471    11  November  18     Monday        1  \n",
       "472    11  November  18     Monday        1  \n",
       "473    11  November  25     Monday        1  "
      ]
     },
     "metadata": {},
     "output_type": "display_data"
    },
    {
     "data": {
      "text/html": [
       "<div>\n",
       "<style scoped>\n",
       "    .dataframe tbody tr th:only-of-type {\n",
       "        vertical-align: middle;\n",
       "    }\n",
       "\n",
       "    .dataframe tbody tr th {\n",
       "        vertical-align: top;\n",
       "    }\n",
       "\n",
       "    .dataframe thead th {\n",
       "        text-align: right;\n",
       "    }\n",
       "</style>\n",
       "<table border=\"1\" class=\"dataframe\">\n",
       "  <thead>\n",
       "    <tr style=\"text-align: right;\">\n",
       "      <th></th>\n",
       "      <th>Date</th>\n",
       "      <th>Check Number</th>\n",
       "      <th>Description</th>\n",
       "      <th>Type</th>\n",
       "      <th>Charge</th>\n",
       "      <th>Debit</th>\n",
       "      <th>Credit</th>\n",
       "      <th>Running Balance</th>\n",
       "      <th>Year</th>\n",
       "      <th>Month</th>\n",
       "      <th>MonthName</th>\n",
       "      <th>Day</th>\n",
       "      <th>DayName</th>\n",
       "      <th>DayCode</th>\n",
       "    </tr>\n",
       "  </thead>\n",
       "  <tbody>\n",
       "    <tr>\n",
       "      <td>474</td>\n",
       "      <td>12/2/19</td>\n",
       "      <td>0</td>\n",
       "      <td>VENMO            CASHOUT</td>\n",
       "      <td>Money Transfer - Credit</td>\n",
       "      <td>14.00</td>\n",
       "      <td>0.00</td>\n",
       "      <td>14.00</td>\n",
       "      <td>2117.27</td>\n",
       "      <td>19</td>\n",
       "      <td>12</td>\n",
       "      <td>December</td>\n",
       "      <td>2</td>\n",
       "      <td>Monday</td>\n",
       "      <td>1</td>\n",
       "    </tr>\n",
       "    <tr>\n",
       "      <td>475</td>\n",
       "      <td>12/2/19</td>\n",
       "      <td>0</td>\n",
       "      <td>MOBILE APP TRANSFER FROM 100002</td>\n",
       "      <td>Mom Fund</td>\n",
       "      <td>200.00</td>\n",
       "      <td>0.00</td>\n",
       "      <td>200.00</td>\n",
       "      <td>2103.27</td>\n",
       "      <td>19</td>\n",
       "      <td>12</td>\n",
       "      <td>December</td>\n",
       "      <td>2</td>\n",
       "      <td>Monday</td>\n",
       "      <td>1</td>\n",
       "    </tr>\n",
       "    <tr>\n",
       "      <td>476</td>\n",
       "      <td>12/2/19</td>\n",
       "      <td>0</td>\n",
       "      <td>VENMO            PAYMENT    280</td>\n",
       "      <td>Money Transfer - Debit</td>\n",
       "      <td>15.00</td>\n",
       "      <td>15.00</td>\n",
       "      <td>0.00</td>\n",
       "      <td>2102.27</td>\n",
       "      <td>19</td>\n",
       "      <td>12</td>\n",
       "      <td>December</td>\n",
       "      <td>2</td>\n",
       "      <td>Monday</td>\n",
       "      <td>1</td>\n",
       "    </tr>\n",
       "    <tr>\n",
       "      <td>477</td>\n",
       "      <td>12/2/19</td>\n",
       "      <td>0</td>\n",
       "      <td>S068AC1          RENT       102</td>\n",
       "      <td>Housing - Repair</td>\n",
       "      <td>26.95</td>\n",
       "      <td>26.95</td>\n",
       "      <td>0.00</td>\n",
       "      <td>2075.32</td>\n",
       "      <td>19</td>\n",
       "      <td>12</td>\n",
       "      <td>December</td>\n",
       "      <td>2</td>\n",
       "      <td>Monday</td>\n",
       "      <td>1</td>\n",
       "    </tr>\n",
       "    <tr>\n",
       "      <td>478</td>\n",
       "      <td>12/3/19</td>\n",
       "      <td>0</td>\n",
       "      <td>SQUARE INC       * CASH APP</td>\n",
       "      <td>Money Transfer - Credit</td>\n",
       "      <td>60.00</td>\n",
       "      <td>0.00</td>\n",
       "      <td>60.00</td>\n",
       "      <td>2135.32</td>\n",
       "      <td>19</td>\n",
       "      <td>12</td>\n",
       "      <td>December</td>\n",
       "      <td>3</td>\n",
       "      <td>Tuesday</td>\n",
       "      <td>2</td>\n",
       "    </tr>\n",
       "    <tr>\n",
       "      <td>479</td>\n",
       "      <td>12/3/19</td>\n",
       "      <td>0</td>\n",
       "      <td>S068AC1          RENT       103</td>\n",
       "      <td>Housing - Rent</td>\n",
       "      <td>789.95</td>\n",
       "      <td>789.95</td>\n",
       "      <td>0.00</td>\n",
       "      <td>1345.37</td>\n",
       "      <td>19</td>\n",
       "      <td>12</td>\n",
       "      <td>December</td>\n",
       "      <td>3</td>\n",
       "      <td>Tuesday</td>\n",
       "      <td>2</td>\n",
       "    </tr>\n",
       "    <tr>\n",
       "      <td>480</td>\n",
       "      <td>12/12/19</td>\n",
       "      <td>0</td>\n",
       "      <td>DEPOSIT</td>\n",
       "      <td>PayCheck Deposit - Bocado</td>\n",
       "      <td>1138.15</td>\n",
       "      <td>0.00</td>\n",
       "      <td>1138.15</td>\n",
       "      <td>2483.52</td>\n",
       "      <td>19</td>\n",
       "      <td>12</td>\n",
       "      <td>December</td>\n",
       "      <td>12</td>\n",
       "      <td>Thursday</td>\n",
       "      <td>4</td>\n",
       "    </tr>\n",
       "    <tr>\n",
       "      <td>481</td>\n",
       "      <td>12/12/19</td>\n",
       "      <td>0</td>\n",
       "      <td>SQUARE INC       * CASH APP T20</td>\n",
       "      <td>Money Transfer - Debit</td>\n",
       "      <td>5.00</td>\n",
       "      <td>5.00</td>\n",
       "      <td>0.00</td>\n",
       "      <td>2473.52</td>\n",
       "      <td>19</td>\n",
       "      <td>12</td>\n",
       "      <td>December</td>\n",
       "      <td>12</td>\n",
       "      <td>Thursday</td>\n",
       "      <td>4</td>\n",
       "    </tr>\n",
       "    <tr>\n",
       "      <td>482</td>\n",
       "      <td>12/12/19</td>\n",
       "      <td>0</td>\n",
       "      <td>VENMO            PAYMENT    284</td>\n",
       "      <td>Money Transfer - Debit</td>\n",
       "      <td>5.00</td>\n",
       "      <td>5.00</td>\n",
       "      <td>0.00</td>\n",
       "      <td>2478.52</td>\n",
       "      <td>19</td>\n",
       "      <td>12</td>\n",
       "      <td>December</td>\n",
       "      <td>12</td>\n",
       "      <td>Thursday</td>\n",
       "      <td>4</td>\n",
       "    </tr>\n",
       "    <tr>\n",
       "      <td>483</td>\n",
       "      <td>12/12/19</td>\n",
       "      <td>0</td>\n",
       "      <td>SQUARE INC       * CASH APP T20</td>\n",
       "      <td>Money Transfer - Debit</td>\n",
       "      <td>30.00</td>\n",
       "      <td>30.00</td>\n",
       "      <td>0.00</td>\n",
       "      <td>2443.52</td>\n",
       "      <td>19</td>\n",
       "      <td>12</td>\n",
       "      <td>December</td>\n",
       "      <td>12</td>\n",
       "      <td>Thursday</td>\n",
       "      <td>4</td>\n",
       "    </tr>\n",
       "    <tr>\n",
       "      <td>484</td>\n",
       "      <td>12/13/19</td>\n",
       "      <td>0</td>\n",
       "      <td>KROGER 34 1715             ATLA</td>\n",
       "      <td>Grocery</td>\n",
       "      <td>69.32</td>\n",
       "      <td>69.32</td>\n",
       "      <td>0.00</td>\n",
       "      <td>2374.20</td>\n",
       "      <td>19</td>\n",
       "      <td>12</td>\n",
       "      <td>December</td>\n",
       "      <td>13</td>\n",
       "      <td>Friday</td>\n",
       "      <td>5</td>\n",
       "    </tr>\n",
       "    <tr>\n",
       "      <td>485</td>\n",
       "      <td>12/13/19</td>\n",
       "      <td>0</td>\n",
       "      <td>ALLY CASHBACK CC ONLINE PMT CKF</td>\n",
       "      <td>CC BillPay</td>\n",
       "      <td>464.26</td>\n",
       "      <td>464.26</td>\n",
       "      <td>0.00</td>\n",
       "      <td>1909.94</td>\n",
       "      <td>19</td>\n",
       "      <td>12</td>\n",
       "      <td>December</td>\n",
       "      <td>13</td>\n",
       "      <td>Friday</td>\n",
       "      <td>5</td>\n",
       "    </tr>\n",
       "    <tr>\n",
       "      <td>486</td>\n",
       "      <td>12/16/19</td>\n",
       "      <td>0</td>\n",
       "      <td>CASH APP*PHILIP SEW        4153</td>\n",
       "      <td>Money Transfer - Debit</td>\n",
       "      <td>10.00</td>\n",
       "      <td>10.00</td>\n",
       "      <td>0.00</td>\n",
       "      <td>1889.94</td>\n",
       "      <td>19</td>\n",
       "      <td>12</td>\n",
       "      <td>December</td>\n",
       "      <td>16</td>\n",
       "      <td>Monday</td>\n",
       "      <td>1</td>\n",
       "    </tr>\n",
       "    <tr>\n",
       "      <td>487</td>\n",
       "      <td>12/16/19</td>\n",
       "      <td>0</td>\n",
       "      <td>CASH APP*PHILIP SEW        4153</td>\n",
       "      <td>Money Transfer - Debit</td>\n",
       "      <td>10.00</td>\n",
       "      <td>10.00</td>\n",
       "      <td>0.00</td>\n",
       "      <td>1899.94</td>\n",
       "      <td>19</td>\n",
       "      <td>12</td>\n",
       "      <td>December</td>\n",
       "      <td>16</td>\n",
       "      <td>Monday</td>\n",
       "      <td>1</td>\n",
       "    </tr>\n",
       "    <tr>\n",
       "      <td>488</td>\n",
       "      <td>12/20/19</td>\n",
       "      <td>0</td>\n",
       "      <td>DEPOSIT</td>\n",
       "      <td>Gift Deposit</td>\n",
       "      <td>300.00</td>\n",
       "      <td>0.00</td>\n",
       "      <td>300.00</td>\n",
       "      <td>2189.94</td>\n",
       "      <td>19</td>\n",
       "      <td>12</td>\n",
       "      <td>December</td>\n",
       "      <td>20</td>\n",
       "      <td>Friday</td>\n",
       "      <td>5</td>\n",
       "    </tr>\n",
       "    <tr>\n",
       "      <td>489</td>\n",
       "      <td>12/23/19</td>\n",
       "      <td>0</td>\n",
       "      <td>VENMO            PAYMENT    289</td>\n",
       "      <td>Money Transfer - Debit</td>\n",
       "      <td>3.00</td>\n",
       "      <td>3.00</td>\n",
       "      <td>0.00</td>\n",
       "      <td>2186.94</td>\n",
       "      <td>19</td>\n",
       "      <td>12</td>\n",
       "      <td>December</td>\n",
       "      <td>23</td>\n",
       "      <td>Monday</td>\n",
       "      <td>1</td>\n",
       "    </tr>\n",
       "    <tr>\n",
       "      <td>490</td>\n",
       "      <td>12/23/19</td>\n",
       "      <td>0</td>\n",
       "      <td>VENMO            PAYMENT    288</td>\n",
       "      <td>Money Transfer - Debit</td>\n",
       "      <td>50.00</td>\n",
       "      <td>50.00</td>\n",
       "      <td>0.00</td>\n",
       "      <td>2136.94</td>\n",
       "      <td>19</td>\n",
       "      <td>12</td>\n",
       "      <td>December</td>\n",
       "      <td>23</td>\n",
       "      <td>Monday</td>\n",
       "      <td>1</td>\n",
       "    </tr>\n",
       "    <tr>\n",
       "      <td>491</td>\n",
       "      <td>12/24/19</td>\n",
       "      <td>0</td>\n",
       "      <td>SQUARE INC       * CASH APP</td>\n",
       "      <td>Money Transfer - Credit</td>\n",
       "      <td>41.00</td>\n",
       "      <td>0.00</td>\n",
       "      <td>41.00</td>\n",
       "      <td>2177.94</td>\n",
       "      <td>19</td>\n",
       "      <td>12</td>\n",
       "      <td>December</td>\n",
       "      <td>24</td>\n",
       "      <td>Tuesday</td>\n",
       "      <td>2</td>\n",
       "    </tr>\n",
       "    <tr>\n",
       "      <td>492</td>\n",
       "      <td>12/26/19</td>\n",
       "      <td>0</td>\n",
       "      <td>SQUARE INC       * CASH APP T20</td>\n",
       "      <td>Money Transfer - Debit</td>\n",
       "      <td>25.00</td>\n",
       "      <td>25.00</td>\n",
       "      <td>0.00</td>\n",
       "      <td>2152.94</td>\n",
       "      <td>19</td>\n",
       "      <td>12</td>\n",
       "      <td>December</td>\n",
       "      <td>26</td>\n",
       "      <td>Thursday</td>\n",
       "      <td>4</td>\n",
       "    </tr>\n",
       "    <tr>\n",
       "      <td>493</td>\n",
       "      <td>12/27/19</td>\n",
       "      <td>0</td>\n",
       "      <td>DEPOSIT</td>\n",
       "      <td>PayCheck Deposit - Bocado</td>\n",
       "      <td>817.17</td>\n",
       "      <td>0.00</td>\n",
       "      <td>817.17</td>\n",
       "      <td>2970.11</td>\n",
       "      <td>19</td>\n",
       "      <td>12</td>\n",
       "      <td>December</td>\n",
       "      <td>27</td>\n",
       "      <td>Friday</td>\n",
       "      <td>5</td>\n",
       "    </tr>\n",
       "  </tbody>\n",
       "</table>\n",
       "</div>"
      ],
      "text/plain": [
       "         Date  Check Number                       Description  \\\n",
       "474   12/2/19             0   VENMO            CASHOUT          \n",
       "475   12/2/19             0   MOBILE APP TRANSFER FROM 100002   \n",
       "476   12/2/19             0   VENMO            PAYMENT    280   \n",
       "477   12/2/19             0   S068AC1          RENT       102   \n",
       "478   12/3/19             0   SQUARE INC       * CASH APP       \n",
       "479   12/3/19             0   S068AC1          RENT       103   \n",
       "480  12/12/19             0                           DEPOSIT   \n",
       "481  12/12/19             0   SQUARE INC       * CASH APP T20   \n",
       "482  12/12/19             0   VENMO            PAYMENT    284   \n",
       "483  12/12/19             0   SQUARE INC       * CASH APP T20   \n",
       "484  12/13/19             0   KROGER 34 1715             ATLA   \n",
       "485  12/13/19             0   ALLY CASHBACK CC ONLINE PMT CKF   \n",
       "486  12/16/19             0   CASH APP*PHILIP SEW        4153   \n",
       "487  12/16/19             0   CASH APP*PHILIP SEW        4153   \n",
       "488  12/20/19             0                           DEPOSIT   \n",
       "489  12/23/19             0   VENMO            PAYMENT    289   \n",
       "490  12/23/19             0   VENMO            PAYMENT    288   \n",
       "491  12/24/19             0   SQUARE INC       * CASH APP       \n",
       "492  12/26/19             0   SQUARE INC       * CASH APP T20   \n",
       "493  12/27/19             0                           DEPOSIT   \n",
       "\n",
       "                          Type   Charge   Debit   Credit  Running Balance  \\\n",
       "474    Money Transfer - Credit    14.00    0.00    14.00          2117.27   \n",
       "475                   Mom Fund   200.00    0.00   200.00          2103.27   \n",
       "476     Money Transfer - Debit    15.00   15.00     0.00          2102.27   \n",
       "477           Housing - Repair    26.95   26.95     0.00          2075.32   \n",
       "478    Money Transfer - Credit    60.00    0.00    60.00          2135.32   \n",
       "479             Housing - Rent   789.95  789.95     0.00          1345.37   \n",
       "480  PayCheck Deposit - Bocado  1138.15    0.00  1138.15          2483.52   \n",
       "481     Money Transfer - Debit     5.00    5.00     0.00          2473.52   \n",
       "482     Money Transfer - Debit     5.00    5.00     0.00          2478.52   \n",
       "483     Money Transfer - Debit    30.00   30.00     0.00          2443.52   \n",
       "484                    Grocery    69.32   69.32     0.00          2374.20   \n",
       "485                 CC BillPay   464.26  464.26     0.00          1909.94   \n",
       "486     Money Transfer - Debit    10.00   10.00     0.00          1889.94   \n",
       "487     Money Transfer - Debit    10.00   10.00     0.00          1899.94   \n",
       "488               Gift Deposit   300.00    0.00   300.00          2189.94   \n",
       "489     Money Transfer - Debit     3.00    3.00     0.00          2186.94   \n",
       "490     Money Transfer - Debit    50.00   50.00     0.00          2136.94   \n",
       "491    Money Transfer - Credit    41.00    0.00    41.00          2177.94   \n",
       "492     Money Transfer - Debit    25.00   25.00     0.00          2152.94   \n",
       "493  PayCheck Deposit - Bocado   817.17    0.00   817.17          2970.11   \n",
       "\n",
       "    Year Month MonthName Day   DayName  DayCode  \n",
       "474   19    12  December   2    Monday        1  \n",
       "475   19    12  December   2    Monday        1  \n",
       "476   19    12  December   2    Monday        1  \n",
       "477   19    12  December   2    Monday        1  \n",
       "478   19    12  December   3   Tuesday        2  \n",
       "479   19    12  December   3   Tuesday        2  \n",
       "480   19    12  December  12  Thursday        4  \n",
       "481   19    12  December  12  Thursday        4  \n",
       "482   19    12  December  12  Thursday        4  \n",
       "483   19    12  December  12  Thursday        4  \n",
       "484   19    12  December  13    Friday        5  \n",
       "485   19    12  December  13    Friday        5  \n",
       "486   19    12  December  16    Monday        1  \n",
       "487   19    12  December  16    Monday        1  \n",
       "488   19    12  December  20    Friday        5  \n",
       "489   19    12  December  23    Monday        1  \n",
       "490   19    12  December  23    Monday        1  \n",
       "491   19    12  December  24   Tuesday        2  \n",
       "492   19    12  December  26  Thursday        4  \n",
       "493   19    12  December  27    Friday        5  "
      ]
     },
     "metadata": {},
     "output_type": "display_data"
    },
    {
     "data": {
      "text/html": [
       "<div>\n",
       "<style scoped>\n",
       "    .dataframe tbody tr th:only-of-type {\n",
       "        vertical-align: middle;\n",
       "    }\n",
       "\n",
       "    .dataframe tbody tr th {\n",
       "        vertical-align: top;\n",
       "    }\n",
       "\n",
       "    .dataframe thead th {\n",
       "        text-align: right;\n",
       "    }\n",
       "</style>\n",
       "<table border=\"1\" class=\"dataframe\">\n",
       "  <thead>\n",
       "    <tr style=\"text-align: right;\">\n",
       "      <th></th>\n",
       "      <th>Date</th>\n",
       "      <th>Check Number</th>\n",
       "      <th>Description</th>\n",
       "      <th>Type</th>\n",
       "      <th>Charge</th>\n",
       "      <th>Debit</th>\n",
       "      <th>Credit</th>\n",
       "      <th>Running Balance</th>\n",
       "      <th>Year</th>\n",
       "      <th>Month</th>\n",
       "      <th>MonthName</th>\n",
       "      <th>Day</th>\n",
       "      <th>DayName</th>\n",
       "      <th>DayCode</th>\n",
       "    </tr>\n",
       "  </thead>\n",
       "  <tbody>\n",
       "    <tr>\n",
       "      <td>494</td>\n",
       "      <td>1/2/20</td>\n",
       "      <td>0</td>\n",
       "      <td>MOBILE APP TRANSFER FROM 100002</td>\n",
       "      <td>Mom Fund</td>\n",
       "      <td>200.00</td>\n",
       "      <td>0.00</td>\n",
       "      <td>200.00</td>\n",
       "      <td>3170.11</td>\n",
       "      <td>20</td>\n",
       "      <td>1</td>\n",
       "      <td>January</td>\n",
       "      <td>2</td>\n",
       "      <td>Thursday</td>\n",
       "      <td>4</td>\n",
       "    </tr>\n",
       "    <tr>\n",
       "      <td>495</td>\n",
       "      <td>1/2/20</td>\n",
       "      <td>0</td>\n",
       "      <td>SQUARE INC       * CASH APP T20</td>\n",
       "      <td>Money Transfer - Debit</td>\n",
       "      <td>10.00</td>\n",
       "      <td>10.00</td>\n",
       "      <td>0.00</td>\n",
       "      <td>3149.64</td>\n",
       "      <td>20</td>\n",
       "      <td>1</td>\n",
       "      <td>January</td>\n",
       "      <td>2</td>\n",
       "      <td>Thursday</td>\n",
       "      <td>4</td>\n",
       "    </tr>\n",
       "    <tr>\n",
       "      <td>496</td>\n",
       "      <td>1/2/20</td>\n",
       "      <td>0</td>\n",
       "      <td>KROGER 34 1715             ATLA</td>\n",
       "      <td>Grocery</td>\n",
       "      <td>10.47</td>\n",
       "      <td>10.47</td>\n",
       "      <td>0.00</td>\n",
       "      <td>3159.64</td>\n",
       "      <td>20</td>\n",
       "      <td>1</td>\n",
       "      <td>January</td>\n",
       "      <td>2</td>\n",
       "      <td>Thursday</td>\n",
       "      <td>4</td>\n",
       "    </tr>\n",
       "    <tr>\n",
       "      <td>497</td>\n",
       "      <td>1/3/20</td>\n",
       "      <td>0</td>\n",
       "      <td>S068AC1          RENT       106</td>\n",
       "      <td>Housing - Rent</td>\n",
       "      <td>789.95</td>\n",
       "      <td>789.95</td>\n",
       "      <td>0.00</td>\n",
       "      <td>2359.69</td>\n",
       "      <td>20</td>\n",
       "      <td>1</td>\n",
       "      <td>January</td>\n",
       "      <td>3</td>\n",
       "      <td>Friday</td>\n",
       "      <td>5</td>\n",
       "    </tr>\n",
       "    <tr>\n",
       "      <td>498</td>\n",
       "      <td>1/6/20</td>\n",
       "      <td>0</td>\n",
       "      <td>VENMO            CASHOUT</td>\n",
       "      <td>Money Transfer - Credit</td>\n",
       "      <td>100.00</td>\n",
       "      <td>0.00</td>\n",
       "      <td>100.00</td>\n",
       "      <td>2459.69</td>\n",
       "      <td>20</td>\n",
       "      <td>1</td>\n",
       "      <td>January</td>\n",
       "      <td>6</td>\n",
       "      <td>Monday</td>\n",
       "      <td>1</td>\n",
       "    </tr>\n",
       "    <tr>\n",
       "      <td>499</td>\n",
       "      <td>1/6/20</td>\n",
       "      <td>0</td>\n",
       "      <td>THAI STAR                  NORC</td>\n",
       "      <td>Food</td>\n",
       "      <td>7.00</td>\n",
       "      <td>7.00</td>\n",
       "      <td>0.00</td>\n",
       "      <td>2452.69</td>\n",
       "      <td>20</td>\n",
       "      <td>1</td>\n",
       "      <td>January</td>\n",
       "      <td>6</td>\n",
       "      <td>Monday</td>\n",
       "      <td>1</td>\n",
       "    </tr>\n",
       "    <tr>\n",
       "      <td>500</td>\n",
       "      <td>1/7/20</td>\n",
       "      <td>0</td>\n",
       "      <td>SQUARE INC       * CASH APP</td>\n",
       "      <td>Money Transfer - Credit</td>\n",
       "      <td>10.00</td>\n",
       "      <td>0.00</td>\n",
       "      <td>10.00</td>\n",
       "      <td>2462.69</td>\n",
       "      <td>20</td>\n",
       "      <td>1</td>\n",
       "      <td>January</td>\n",
       "      <td>7</td>\n",
       "      <td>Tuesday</td>\n",
       "      <td>2</td>\n",
       "    </tr>\n",
       "    <tr>\n",
       "      <td>501</td>\n",
       "      <td>1/7/20</td>\n",
       "      <td>0</td>\n",
       "      <td>DEPOSIT</td>\n",
       "      <td>PayCheck Deposit - Bocado</td>\n",
       "      <td>856.51</td>\n",
       "      <td>0.00</td>\n",
       "      <td>856.51</td>\n",
       "      <td>3319.20</td>\n",
       "      <td>20</td>\n",
       "      <td>1</td>\n",
       "      <td>January</td>\n",
       "      <td>7</td>\n",
       "      <td>Tuesday</td>\n",
       "      <td>2</td>\n",
       "    </tr>\n",
       "    <tr>\n",
       "      <td>502</td>\n",
       "      <td>1/7/20</td>\n",
       "      <td>0</td>\n",
       "      <td>KROGER 34 1715             ATLA</td>\n",
       "      <td>Grocery</td>\n",
       "      <td>8.26</td>\n",
       "      <td>8.26</td>\n",
       "      <td>0.00</td>\n",
       "      <td>3310.94</td>\n",
       "      <td>20</td>\n",
       "      <td>1</td>\n",
       "      <td>January</td>\n",
       "      <td>7</td>\n",
       "      <td>Tuesday</td>\n",
       "      <td>2</td>\n",
       "    </tr>\n",
       "    <tr>\n",
       "      <td>503</td>\n",
       "      <td>1/21/20</td>\n",
       "      <td>0</td>\n",
       "      <td>ALLY BANK        $TRANSFER  200</td>\n",
       "      <td>Ally Transfer - To</td>\n",
       "      <td>2500.00</td>\n",
       "      <td>2500.00</td>\n",
       "      <td>0.00</td>\n",
       "      <td>810.94</td>\n",
       "      <td>20</td>\n",
       "      <td>1</td>\n",
       "      <td>January</td>\n",
       "      <td>21</td>\n",
       "      <td>Tuesday</td>\n",
       "      <td>2</td>\n",
       "    </tr>\n",
       "    <tr>\n",
       "      <td>504</td>\n",
       "      <td>1/27/20</td>\n",
       "      <td>0</td>\n",
       "      <td>THE HOME DEPOT             ATLA</td>\n",
       "      <td>Housing - Repair</td>\n",
       "      <td>24.98</td>\n",
       "      <td>24.98</td>\n",
       "      <td>0.00</td>\n",
       "      <td>785.96</td>\n",
       "      <td>20</td>\n",
       "      <td>1</td>\n",
       "      <td>January</td>\n",
       "      <td>27</td>\n",
       "      <td>Monday</td>\n",
       "      <td>1</td>\n",
       "    </tr>\n",
       "    <tr>\n",
       "      <td>505</td>\n",
       "      <td>1/27/20</td>\n",
       "      <td>0</td>\n",
       "      <td>KROGER 34 1715             ATLA</td>\n",
       "      <td>Gasoline</td>\n",
       "      <td>27.46</td>\n",
       "      <td>27.46</td>\n",
       "      <td>0.00</td>\n",
       "      <td>758.50</td>\n",
       "      <td>20</td>\n",
       "      <td>1</td>\n",
       "      <td>January</td>\n",
       "      <td>27</td>\n",
       "      <td>Monday</td>\n",
       "      <td>1</td>\n",
       "    </tr>\n",
       "    <tr>\n",
       "      <td>506</td>\n",
       "      <td>1/28/20</td>\n",
       "      <td>0</td>\n",
       "      <td>ALLY BANK        P2P</td>\n",
       "      <td>Ally Transfer - From</td>\n",
       "      <td>250.00</td>\n",
       "      <td>0.00</td>\n",
       "      <td>250.00</td>\n",
       "      <td>1008.50</td>\n",
       "      <td>20</td>\n",
       "      <td>1</td>\n",
       "      <td>January</td>\n",
       "      <td>28</td>\n",
       "      <td>Tuesday</td>\n",
       "      <td>2</td>\n",
       "    </tr>\n",
       "    <tr>\n",
       "      <td>507</td>\n",
       "      <td>1/28/20</td>\n",
       "      <td>0</td>\n",
       "      <td>VENMO            PAYMENT    303</td>\n",
       "      <td>Money Transfer - Debit</td>\n",
       "      <td>60.00</td>\n",
       "      <td>60.00</td>\n",
       "      <td>0.00</td>\n",
       "      <td>948.50</td>\n",
       "      <td>20</td>\n",
       "      <td>1</td>\n",
       "      <td>January</td>\n",
       "      <td>28</td>\n",
       "      <td>Tuesday</td>\n",
       "      <td>2</td>\n",
       "    </tr>\n",
       "    <tr>\n",
       "      <td>508</td>\n",
       "      <td>1/29/20</td>\n",
       "      <td>0</td>\n",
       "      <td>GSU PANTHERS CLUB          ATLA</td>\n",
       "      <td>Food</td>\n",
       "      <td>4.35</td>\n",
       "      <td>4.35</td>\n",
       "      <td>0.00</td>\n",
       "      <td>944.15</td>\n",
       "      <td>20</td>\n",
       "      <td>1</td>\n",
       "      <td>January</td>\n",
       "      <td>29</td>\n",
       "      <td>Wednesday</td>\n",
       "      <td>3</td>\n",
       "    </tr>\n",
       "    <tr>\n",
       "      <td>509</td>\n",
       "      <td>2/3/20</td>\n",
       "      <td>0</td>\n",
       "      <td>MOBILE APP TRANSFER FROM 100002</td>\n",
       "      <td>Mom Fund</td>\n",
       "      <td>200.00</td>\n",
       "      <td>0.00</td>\n",
       "      <td>200.00</td>\n",
       "      <td>1144.15</td>\n",
       "      <td>20</td>\n",
       "      <td>2</td>\n",
       "      <td>February</td>\n",
       "      <td>3</td>\n",
       "      <td>Monday</td>\n",
       "      <td>1</td>\n",
       "    </tr>\n",
       "    <tr>\n",
       "      <td>510</td>\n",
       "      <td>2/3/20</td>\n",
       "      <td>0</td>\n",
       "      <td>ZUMIEZ #565                ATLA</td>\n",
       "      <td>Entertainment</td>\n",
       "      <td>3.60</td>\n",
       "      <td>3.60</td>\n",
       "      <td>0.00</td>\n",
       "      <td>1140.55</td>\n",
       "      <td>20</td>\n",
       "      <td>2</td>\n",
       "      <td>February</td>\n",
       "      <td>3</td>\n",
       "      <td>Monday</td>\n",
       "      <td>1</td>\n",
       "    </tr>\n",
       "    <tr>\n",
       "      <td>511</td>\n",
       "      <td>2/4/20</td>\n",
       "      <td>0</td>\n",
       "      <td>S068AC1          RENT       108</td>\n",
       "      <td>Housing - Rent</td>\n",
       "      <td>789.95</td>\n",
       "      <td>789.95</td>\n",
       "      <td>0.00</td>\n",
       "      <td>350.60</td>\n",
       "      <td>20</td>\n",
       "      <td>2</td>\n",
       "      <td>February</td>\n",
       "      <td>4</td>\n",
       "      <td>Tuesday</td>\n",
       "      <td>2</td>\n",
       "    </tr>\n",
       "    <tr>\n",
       "      <td>512</td>\n",
       "      <td>2/5/20</td>\n",
       "      <td>0</td>\n",
       "      <td>ARBYS #8080 ATLANTA        ATLA</td>\n",
       "      <td>Food</td>\n",
       "      <td>3.26</td>\n",
       "      <td>3.26</td>\n",
       "      <td>0.00</td>\n",
       "      <td>347.34</td>\n",
       "      <td>20</td>\n",
       "      <td>2</td>\n",
       "      <td>February</td>\n",
       "      <td>5</td>\n",
       "      <td>Wednesday</td>\n",
       "      <td>3</td>\n",
       "    </tr>\n",
       "    <tr>\n",
       "      <td>513</td>\n",
       "      <td>2/5/20</td>\n",
       "      <td>0</td>\n",
       "      <td>PANDA EXPRESS #3101        ATLA</td>\n",
       "      <td>Food</td>\n",
       "      <td>8.28</td>\n",
       "      <td>8.28</td>\n",
       "      <td>0.00</td>\n",
       "      <td>339.06</td>\n",
       "      <td>20</td>\n",
       "      <td>2</td>\n",
       "      <td>February</td>\n",
       "      <td>5</td>\n",
       "      <td>Wednesday</td>\n",
       "      <td>3</td>\n",
       "    </tr>\n",
       "    <tr>\n",
       "      <td>514</td>\n",
       "      <td>2/5/20</td>\n",
       "      <td>0</td>\n",
       "      <td>KROGER 34 1715             ATLA</td>\n",
       "      <td>Grocery</td>\n",
       "      <td>12.96</td>\n",
       "      <td>12.96</td>\n",
       "      <td>0.00</td>\n",
       "      <td>326.10</td>\n",
       "      <td>20</td>\n",
       "      <td>2</td>\n",
       "      <td>February</td>\n",
       "      <td>5</td>\n",
       "      <td>Wednesday</td>\n",
       "      <td>3</td>\n",
       "    </tr>\n",
       "    <tr>\n",
       "      <td>515</td>\n",
       "      <td>2/7/20</td>\n",
       "      <td>0</td>\n",
       "      <td>0206 06358318         000080862</td>\n",
       "      <td>Refund</td>\n",
       "      <td>6.50</td>\n",
       "      <td>0.00</td>\n",
       "      <td>6.50</td>\n",
       "      <td>332.60</td>\n",
       "      <td>20</td>\n",
       "      <td>2</td>\n",
       "      <td>February</td>\n",
       "      <td>7</td>\n",
       "      <td>Friday</td>\n",
       "      <td>5</td>\n",
       "    </tr>\n",
       "    <tr>\n",
       "      <td>516</td>\n",
       "      <td>2/7/20</td>\n",
       "      <td>0</td>\n",
       "      <td>STUDENT CENTER INFORMA     ATLA</td>\n",
       "      <td>Food</td>\n",
       "      <td>1.00</td>\n",
       "      <td>1.00</td>\n",
       "      <td>0.00</td>\n",
       "      <td>321.99</td>\n",
       "      <td>20</td>\n",
       "      <td>2</td>\n",
       "      <td>February</td>\n",
       "      <td>7</td>\n",
       "      <td>Friday</td>\n",
       "      <td>5</td>\n",
       "    </tr>\n",
       "    <tr>\n",
       "      <td>517</td>\n",
       "      <td>2/7/20</td>\n",
       "      <td>0</td>\n",
       "      <td>THE HOME DEPOT             ATLA</td>\n",
       "      <td>Housing - Repair</td>\n",
       "      <td>5.14</td>\n",
       "      <td>5.14</td>\n",
       "      <td>0.00</td>\n",
       "      <td>310.35</td>\n",
       "      <td>20</td>\n",
       "      <td>2</td>\n",
       "      <td>February</td>\n",
       "      <td>7</td>\n",
       "      <td>Friday</td>\n",
       "      <td>5</td>\n",
       "    </tr>\n",
       "    <tr>\n",
       "      <td>518</td>\n",
       "      <td>2/7/20</td>\n",
       "      <td>0</td>\n",
       "      <td>THE HOME DEPOT             ATLA</td>\n",
       "      <td>Housing - Repair</td>\n",
       "      <td>6.50</td>\n",
       "      <td>6.50</td>\n",
       "      <td>0.00</td>\n",
       "      <td>315.49</td>\n",
       "      <td>20</td>\n",
       "      <td>2</td>\n",
       "      <td>February</td>\n",
       "      <td>7</td>\n",
       "      <td>Friday</td>\n",
       "      <td>5</td>\n",
       "    </tr>\n",
       "    <tr>\n",
       "      <td>519</td>\n",
       "      <td>2/7/20</td>\n",
       "      <td>0</td>\n",
       "      <td>SQ *BARAKA SHAWARMA        ATLA</td>\n",
       "      <td>Food</td>\n",
       "      <td>9.61</td>\n",
       "      <td>9.61</td>\n",
       "      <td>0.00</td>\n",
       "      <td>322.99</td>\n",
       "      <td>20</td>\n",
       "      <td>2</td>\n",
       "      <td>February</td>\n",
       "      <td>7</td>\n",
       "      <td>Friday</td>\n",
       "      <td>5</td>\n",
       "    </tr>\n",
       "    <tr>\n",
       "      <td>520</td>\n",
       "      <td>2/10/20</td>\n",
       "      <td>0</td>\n",
       "      <td>VENMO            CASHOUT</td>\n",
       "      <td>Money Transfer - Credit</td>\n",
       "      <td>18.00</td>\n",
       "      <td>0.00</td>\n",
       "      <td>18.00</td>\n",
       "      <td>328.35</td>\n",
       "      <td>20</td>\n",
       "      <td>2</td>\n",
       "      <td>February</td>\n",
       "      <td>10</td>\n",
       "      <td>Monday</td>\n",
       "      <td>1</td>\n",
       "    </tr>\n",
       "    <tr>\n",
       "      <td>521</td>\n",
       "      <td>2/10/20</td>\n",
       "      <td>0</td>\n",
       "      <td>BOCADO                     ATLA</td>\n",
       "      <td>Food</td>\n",
       "      <td>4.71</td>\n",
       "      <td>4.71</td>\n",
       "      <td>0.00</td>\n",
       "      <td>323.64</td>\n",
       "      <td>20</td>\n",
       "      <td>2</td>\n",
       "      <td>February</td>\n",
       "      <td>10</td>\n",
       "      <td>Monday</td>\n",
       "      <td>1</td>\n",
       "    </tr>\n",
       "    <tr>\n",
       "      <td>522</td>\n",
       "      <td>2/11/20</td>\n",
       "      <td>0</td>\n",
       "      <td>SQUARE INC       * CASH APP</td>\n",
       "      <td>Money Transfer - Credit</td>\n",
       "      <td>7.00</td>\n",
       "      <td>0.00</td>\n",
       "      <td>7.00</td>\n",
       "      <td>330.64</td>\n",
       "      <td>20</td>\n",
       "      <td>2</td>\n",
       "      <td>February</td>\n",
       "      <td>11</td>\n",
       "      <td>Tuesday</td>\n",
       "      <td>2</td>\n",
       "    </tr>\n",
       "    <tr>\n",
       "      <td>523</td>\n",
       "      <td>2/11/20</td>\n",
       "      <td>0</td>\n",
       "      <td>QT 831                     DULU</td>\n",
       "      <td>Gasoline</td>\n",
       "      <td>3.96</td>\n",
       "      <td>3.96</td>\n",
       "      <td>0.00</td>\n",
       "      <td>326.68</td>\n",
       "      <td>20</td>\n",
       "      <td>2</td>\n",
       "      <td>February</td>\n",
       "      <td>11</td>\n",
       "      <td>Tuesday</td>\n",
       "      <td>2</td>\n",
       "    </tr>\n",
       "    <tr>\n",
       "      <td>524</td>\n",
       "      <td>2/12/20</td>\n",
       "      <td>0</td>\n",
       "      <td>DEPOSIT</td>\n",
       "      <td>PayCheck Deposit - Bocado</td>\n",
       "      <td>1084.31</td>\n",
       "      <td>0.00</td>\n",
       "      <td>1084.31</td>\n",
       "      <td>1410.99</td>\n",
       "      <td>20</td>\n",
       "      <td>2</td>\n",
       "      <td>February</td>\n",
       "      <td>12</td>\n",
       "      <td>Wednesday</td>\n",
       "      <td>3</td>\n",
       "    </tr>\n",
       "    <tr>\n",
       "      <td>525</td>\n",
       "      <td>2/12/20</td>\n",
       "      <td>0</td>\n",
       "      <td>WILLYS GEORGIA STATE       ATLA</td>\n",
       "      <td>Food</td>\n",
       "      <td>1.20</td>\n",
       "      <td>1.20</td>\n",
       "      <td>0.00</td>\n",
       "      <td>1409.79</td>\n",
       "      <td>20</td>\n",
       "      <td>2</td>\n",
       "      <td>February</td>\n",
       "      <td>12</td>\n",
       "      <td>Wednesday</td>\n",
       "      <td>3</td>\n",
       "    </tr>\n",
       "    <tr>\n",
       "      <td>526</td>\n",
       "      <td>2/12/20</td>\n",
       "      <td>0</td>\n",
       "      <td>PANDA EXPRESS #3101        ATLA</td>\n",
       "      <td>Food</td>\n",
       "      <td>8.28</td>\n",
       "      <td>8.28</td>\n",
       "      <td>0.00</td>\n",
       "      <td>1401.51</td>\n",
       "      <td>20</td>\n",
       "      <td>2</td>\n",
       "      <td>February</td>\n",
       "      <td>12</td>\n",
       "      <td>Wednesday</td>\n",
       "      <td>3</td>\n",
       "    </tr>\n",
       "    <tr>\n",
       "      <td>527</td>\n",
       "      <td>2/12/20</td>\n",
       "      <td>0</td>\n",
       "      <td>KROGER 34 1715             ATLA</td>\n",
       "      <td>Grocery</td>\n",
       "      <td>15.27</td>\n",
       "      <td>15.27</td>\n",
       "      <td>0.00</td>\n",
       "      <td>1386.24</td>\n",
       "      <td>20</td>\n",
       "      <td>2</td>\n",
       "      <td>February</td>\n",
       "      <td>12</td>\n",
       "      <td>Wednesday</td>\n",
       "      <td>3</td>\n",
       "    </tr>\n",
       "    <tr>\n",
       "      <td>528</td>\n",
       "      <td>2/14/20</td>\n",
       "      <td>0</td>\n",
       "      <td>SQ *BARAKA SHAWARMA        ATLA</td>\n",
       "      <td>Food</td>\n",
       "      <td>9.16</td>\n",
       "      <td>9.16</td>\n",
       "      <td>0.00</td>\n",
       "      <td>1377.08</td>\n",
       "      <td>20</td>\n",
       "      <td>2</td>\n",
       "      <td>February</td>\n",
       "      <td>14</td>\n",
       "      <td>Friday</td>\n",
       "      <td>5</td>\n",
       "    </tr>\n",
       "    <tr>\n",
       "      <td>529</td>\n",
       "      <td>2/18/20</td>\n",
       "      <td>0</td>\n",
       "      <td>REVELATOR ATL WESTSIDE     ATLA</td>\n",
       "      <td>Food</td>\n",
       "      <td>6.63</td>\n",
       "      <td>6.63</td>\n",
       "      <td>0.00</td>\n",
       "      <td>1370.45</td>\n",
       "      <td>20</td>\n",
       "      <td>2</td>\n",
       "      <td>February</td>\n",
       "      <td>18</td>\n",
       "      <td>Tuesday</td>\n",
       "      <td>2</td>\n",
       "    </tr>\n",
       "    <tr>\n",
       "      <td>530</td>\n",
       "      <td>2/19/20</td>\n",
       "      <td>0</td>\n",
       "      <td>FROM 0175 1000027445740</td>\n",
       "      <td>Mom Fund</td>\n",
       "      <td>150.00</td>\n",
       "      <td>0.00</td>\n",
       "      <td>150.00</td>\n",
       "      <td>1520.45</td>\n",
       "      <td>20</td>\n",
       "      <td>2</td>\n",
       "      <td>February</td>\n",
       "      <td>19</td>\n",
       "      <td>Wednesday</td>\n",
       "      <td>3</td>\n",
       "    </tr>\n",
       "    <tr>\n",
       "      <td>531</td>\n",
       "      <td>2/19/20</td>\n",
       "      <td>0</td>\n",
       "      <td>WILLYS GEORGIA STATE       ATLA</td>\n",
       "      <td>Food</td>\n",
       "      <td>1.20</td>\n",
       "      <td>1.20</td>\n",
       "      <td>0.00</td>\n",
       "      <td>1519.25</td>\n",
       "      <td>20</td>\n",
       "      <td>2</td>\n",
       "      <td>February</td>\n",
       "      <td>19</td>\n",
       "      <td>Wednesday</td>\n",
       "      <td>3</td>\n",
       "    </tr>\n",
       "    <tr>\n",
       "      <td>532</td>\n",
       "      <td>2/19/20</td>\n",
       "      <td>0</td>\n",
       "      <td>GSU CHICK-FIL-A            ATLA</td>\n",
       "      <td>Food</td>\n",
       "      <td>4.35</td>\n",
       "      <td>4.35</td>\n",
       "      <td>0.00</td>\n",
       "      <td>1514.90</td>\n",
       "      <td>20</td>\n",
       "      <td>2</td>\n",
       "      <td>February</td>\n",
       "      <td>19</td>\n",
       "      <td>Wednesday</td>\n",
       "      <td>3</td>\n",
       "    </tr>\n",
       "    <tr>\n",
       "      <td>533</td>\n",
       "      <td>2/19/20</td>\n",
       "      <td>0</td>\n",
       "      <td>TD BANK          PAYMENT    ANT</td>\n",
       "      <td>CC BillPay</td>\n",
       "      <td>1019.84</td>\n",
       "      <td>1019.84</td>\n",
       "      <td>0.00</td>\n",
       "      <td>495.06</td>\n",
       "      <td>20</td>\n",
       "      <td>2</td>\n",
       "      <td>February</td>\n",
       "      <td>19</td>\n",
       "      <td>Wednesday</td>\n",
       "      <td>3</td>\n",
       "    </tr>\n",
       "    <tr>\n",
       "      <td>534</td>\n",
       "      <td>2/20/20</td>\n",
       "      <td>0</td>\n",
       "      <td>SUBWAY        00046276     DULU</td>\n",
       "      <td>Food</td>\n",
       "      <td>13.74</td>\n",
       "      <td>13.74</td>\n",
       "      <td>0.00</td>\n",
       "      <td>481.32</td>\n",
       "      <td>20</td>\n",
       "      <td>2</td>\n",
       "      <td>February</td>\n",
       "      <td>20</td>\n",
       "      <td>Thursday</td>\n",
       "      <td>4</td>\n",
       "    </tr>\n",
       "  </tbody>\n",
       "</table>\n",
       "</div>"
      ],
      "text/plain": [
       "        Date  Check Number                       Description  \\\n",
       "494   1/2/20             0   MOBILE APP TRANSFER FROM 100002   \n",
       "495   1/2/20             0   SQUARE INC       * CASH APP T20   \n",
       "496   1/2/20             0   KROGER 34 1715             ATLA   \n",
       "497   1/3/20             0   S068AC1          RENT       106   \n",
       "498   1/6/20             0   VENMO            CASHOUT          \n",
       "499   1/6/20             0   THAI STAR                  NORC   \n",
       "500   1/7/20             0   SQUARE INC       * CASH APP       \n",
       "501   1/7/20             0                           DEPOSIT   \n",
       "502   1/7/20             0   KROGER 34 1715             ATLA   \n",
       "503  1/21/20             0   ALLY BANK        $TRANSFER  200   \n",
       "504  1/27/20             0   THE HOME DEPOT             ATLA   \n",
       "505  1/27/20             0   KROGER 34 1715             ATLA   \n",
       "506  1/28/20             0   ALLY BANK        P2P              \n",
       "507  1/28/20             0   VENMO            PAYMENT    303   \n",
       "508  1/29/20             0   GSU PANTHERS CLUB          ATLA   \n",
       "509   2/3/20             0   MOBILE APP TRANSFER FROM 100002   \n",
       "510   2/3/20             0   ZUMIEZ #565                ATLA   \n",
       "511   2/4/20             0   S068AC1          RENT       108   \n",
       "512   2/5/20             0   ARBYS #8080 ATLANTA        ATLA   \n",
       "513   2/5/20             0   PANDA EXPRESS #3101        ATLA   \n",
       "514   2/5/20             0   KROGER 34 1715             ATLA   \n",
       "515   2/7/20             0   0206 06358318         000080862   \n",
       "516   2/7/20             0   STUDENT CENTER INFORMA     ATLA   \n",
       "517   2/7/20             0   THE HOME DEPOT             ATLA   \n",
       "518   2/7/20             0   THE HOME DEPOT             ATLA   \n",
       "519   2/7/20             0   SQ *BARAKA SHAWARMA        ATLA   \n",
       "520  2/10/20             0   VENMO            CASHOUT          \n",
       "521  2/10/20             0   BOCADO                     ATLA   \n",
       "522  2/11/20             0   SQUARE INC       * CASH APP       \n",
       "523  2/11/20             0   QT 831                     DULU   \n",
       "524  2/12/20             0                           DEPOSIT   \n",
       "525  2/12/20             0   WILLYS GEORGIA STATE       ATLA   \n",
       "526  2/12/20             0   PANDA EXPRESS #3101        ATLA   \n",
       "527  2/12/20             0   KROGER 34 1715             ATLA   \n",
       "528  2/14/20             0   SQ *BARAKA SHAWARMA        ATLA   \n",
       "529  2/18/20             0   REVELATOR ATL WESTSIDE     ATLA   \n",
       "530  2/19/20             0         FROM 0175 1000027445740     \n",
       "531  2/19/20             0   WILLYS GEORGIA STATE       ATLA   \n",
       "532  2/19/20             0   GSU CHICK-FIL-A            ATLA   \n",
       "533  2/19/20             0   TD BANK          PAYMENT    ANT   \n",
       "534  2/20/20             0   SUBWAY        00046276     DULU   \n",
       "\n",
       "                          Type   Charge    Debit   Credit  Running Balance  \\\n",
       "494                   Mom Fund   200.00     0.00   200.00          3170.11   \n",
       "495     Money Transfer - Debit    10.00    10.00     0.00          3149.64   \n",
       "496                    Grocery    10.47    10.47     0.00          3159.64   \n",
       "497             Housing - Rent   789.95   789.95     0.00          2359.69   \n",
       "498    Money Transfer - Credit   100.00     0.00   100.00          2459.69   \n",
       "499                       Food     7.00     7.00     0.00          2452.69   \n",
       "500    Money Transfer - Credit    10.00     0.00    10.00          2462.69   \n",
       "501  PayCheck Deposit - Bocado   856.51     0.00   856.51          3319.20   \n",
       "502                    Grocery     8.26     8.26     0.00          3310.94   \n",
       "503         Ally Transfer - To  2500.00  2500.00     0.00           810.94   \n",
       "504           Housing - Repair    24.98    24.98     0.00           785.96   \n",
       "505                   Gasoline    27.46    27.46     0.00           758.50   \n",
       "506       Ally Transfer - From   250.00     0.00   250.00          1008.50   \n",
       "507     Money Transfer - Debit    60.00    60.00     0.00           948.50   \n",
       "508                       Food     4.35     4.35     0.00           944.15   \n",
       "509                   Mom Fund   200.00     0.00   200.00          1144.15   \n",
       "510              Entertainment     3.60     3.60     0.00          1140.55   \n",
       "511             Housing - Rent   789.95   789.95     0.00           350.60   \n",
       "512                       Food     3.26     3.26     0.00           347.34   \n",
       "513                       Food     8.28     8.28     0.00           339.06   \n",
       "514                    Grocery    12.96    12.96     0.00           326.10   \n",
       "515                     Refund     6.50     0.00     6.50           332.60   \n",
       "516                       Food     1.00     1.00     0.00           321.99   \n",
       "517           Housing - Repair     5.14     5.14     0.00           310.35   \n",
       "518           Housing - Repair     6.50     6.50     0.00           315.49   \n",
       "519                       Food     9.61     9.61     0.00           322.99   \n",
       "520    Money Transfer - Credit    18.00     0.00    18.00           328.35   \n",
       "521                       Food     4.71     4.71     0.00           323.64   \n",
       "522    Money Transfer - Credit     7.00     0.00     7.00           330.64   \n",
       "523                   Gasoline     3.96     3.96     0.00           326.68   \n",
       "524  PayCheck Deposit - Bocado  1084.31     0.00  1084.31          1410.99   \n",
       "525                       Food     1.20     1.20     0.00          1409.79   \n",
       "526                       Food     8.28     8.28     0.00          1401.51   \n",
       "527                    Grocery    15.27    15.27     0.00          1386.24   \n",
       "528                       Food     9.16     9.16     0.00          1377.08   \n",
       "529                       Food     6.63     6.63     0.00          1370.45   \n",
       "530                   Mom Fund   150.00     0.00   150.00          1520.45   \n",
       "531                       Food     1.20     1.20     0.00          1519.25   \n",
       "532                       Food     4.35     4.35     0.00          1514.90   \n",
       "533                 CC BillPay  1019.84  1019.84     0.00           495.06   \n",
       "534                       Food    13.74    13.74     0.00           481.32   \n",
       "\n",
       "    Year Month MonthName Day    DayName  DayCode  \n",
       "494   20     1   January   2   Thursday        4  \n",
       "495   20     1   January   2   Thursday        4  \n",
       "496   20     1   January   2   Thursday        4  \n",
       "497   20     1   January   3     Friday        5  \n",
       "498   20     1   January   6     Monday        1  \n",
       "499   20     1   January   6     Monday        1  \n",
       "500   20     1   January   7    Tuesday        2  \n",
       "501   20     1   January   7    Tuesday        2  \n",
       "502   20     1   January   7    Tuesday        2  \n",
       "503   20     1   January  21    Tuesday        2  \n",
       "504   20     1   January  27     Monday        1  \n",
       "505   20     1   January  27     Monday        1  \n",
       "506   20     1   January  28    Tuesday        2  \n",
       "507   20     1   January  28    Tuesday        2  \n",
       "508   20     1   January  29  Wednesday        3  \n",
       "509   20     2  February   3     Monday        1  \n",
       "510   20     2  February   3     Monday        1  \n",
       "511   20     2  February   4    Tuesday        2  \n",
       "512   20     2  February   5  Wednesday        3  \n",
       "513   20     2  February   5  Wednesday        3  \n",
       "514   20     2  February   5  Wednesday        3  \n",
       "515   20     2  February   7     Friday        5  \n",
       "516   20     2  February   7     Friday        5  \n",
       "517   20     2  February   7     Friday        5  \n",
       "518   20     2  February   7     Friday        5  \n",
       "519   20     2  February   7     Friday        5  \n",
       "520   20     2  February  10     Monday        1  \n",
       "521   20     2  February  10     Monday        1  \n",
       "522   20     2  February  11    Tuesday        2  \n",
       "523   20     2  February  11    Tuesday        2  \n",
       "524   20     2  February  12  Wednesday        3  \n",
       "525   20     2  February  12  Wednesday        3  \n",
       "526   20     2  February  12  Wednesday        3  \n",
       "527   20     2  February  12  Wednesday        3  \n",
       "528   20     2  February  14     Friday        5  \n",
       "529   20     2  February  18    Tuesday        2  \n",
       "530   20     2  February  19  Wednesday        3  \n",
       "531   20     2  February  19  Wednesday        3  \n",
       "532   20     2  February  19  Wednesday        3  \n",
       "533   20     2  February  19  Wednesday        3  \n",
       "534   20     2  February  20   Thursday        4  "
      ]
     },
     "metadata": {},
     "output_type": "display_data"
    },
    {
     "name": "stdout",
     "output_type": "stream",
     "text": [
      "20\n"
     ]
    },
    {
     "data": {
      "text/html": [
       "<div>\n",
       "<style scoped>\n",
       "    .dataframe tbody tr th:only-of-type {\n",
       "        vertical-align: middle;\n",
       "    }\n",
       "\n",
       "    .dataframe tbody tr th {\n",
       "        vertical-align: top;\n",
       "    }\n",
       "\n",
       "    .dataframe thead th {\n",
       "        text-align: right;\n",
       "    }\n",
       "</style>\n",
       "<table border=\"1\" class=\"dataframe\">\n",
       "  <thead>\n",
       "    <tr style=\"text-align: right;\">\n",
       "      <th></th>\n",
       "      <th>Date</th>\n",
       "      <th>Check Number</th>\n",
       "      <th>Description</th>\n",
       "      <th>Type</th>\n",
       "      <th>Charge</th>\n",
       "      <th>Debit</th>\n",
       "      <th>Credit</th>\n",
       "      <th>Running Balance</th>\n",
       "      <th>Year</th>\n",
       "      <th>Month</th>\n",
       "      <th>MonthName</th>\n",
       "      <th>Day</th>\n",
       "      <th>DayName</th>\n",
       "      <th>DayCode</th>\n",
       "    </tr>\n",
       "  </thead>\n",
       "  <tbody>\n",
       "    <tr>\n",
       "      <td>494</td>\n",
       "      <td>1/2/20</td>\n",
       "      <td>0</td>\n",
       "      <td>MOBILE APP TRANSFER FROM 100002</td>\n",
       "      <td>Mom Fund</td>\n",
       "      <td>200.00</td>\n",
       "      <td>0.00</td>\n",
       "      <td>200.00</td>\n",
       "      <td>3170.11</td>\n",
       "      <td>20</td>\n",
       "      <td>1</td>\n",
       "      <td>January</td>\n",
       "      <td>2</td>\n",
       "      <td>Thursday</td>\n",
       "      <td>4</td>\n",
       "    </tr>\n",
       "    <tr>\n",
       "      <td>495</td>\n",
       "      <td>1/2/20</td>\n",
       "      <td>0</td>\n",
       "      <td>SQUARE INC       * CASH APP T20</td>\n",
       "      <td>Money Transfer - Debit</td>\n",
       "      <td>10.00</td>\n",
       "      <td>10.00</td>\n",
       "      <td>0.00</td>\n",
       "      <td>3149.64</td>\n",
       "      <td>20</td>\n",
       "      <td>1</td>\n",
       "      <td>January</td>\n",
       "      <td>2</td>\n",
       "      <td>Thursday</td>\n",
       "      <td>4</td>\n",
       "    </tr>\n",
       "    <tr>\n",
       "      <td>496</td>\n",
       "      <td>1/2/20</td>\n",
       "      <td>0</td>\n",
       "      <td>KROGER 34 1715             ATLA</td>\n",
       "      <td>Grocery</td>\n",
       "      <td>10.47</td>\n",
       "      <td>10.47</td>\n",
       "      <td>0.00</td>\n",
       "      <td>3159.64</td>\n",
       "      <td>20</td>\n",
       "      <td>1</td>\n",
       "      <td>January</td>\n",
       "      <td>2</td>\n",
       "      <td>Thursday</td>\n",
       "      <td>4</td>\n",
       "    </tr>\n",
       "    <tr>\n",
       "      <td>497</td>\n",
       "      <td>1/3/20</td>\n",
       "      <td>0</td>\n",
       "      <td>S068AC1          RENT       106</td>\n",
       "      <td>Housing - Rent</td>\n",
       "      <td>789.95</td>\n",
       "      <td>789.95</td>\n",
       "      <td>0.00</td>\n",
       "      <td>2359.69</td>\n",
       "      <td>20</td>\n",
       "      <td>1</td>\n",
       "      <td>January</td>\n",
       "      <td>3</td>\n",
       "      <td>Friday</td>\n",
       "      <td>5</td>\n",
       "    </tr>\n",
       "    <tr>\n",
       "      <td>498</td>\n",
       "      <td>1/6/20</td>\n",
       "      <td>0</td>\n",
       "      <td>VENMO            CASHOUT</td>\n",
       "      <td>Money Transfer - Credit</td>\n",
       "      <td>100.00</td>\n",
       "      <td>0.00</td>\n",
       "      <td>100.00</td>\n",
       "      <td>2459.69</td>\n",
       "      <td>20</td>\n",
       "      <td>1</td>\n",
       "      <td>January</td>\n",
       "      <td>6</td>\n",
       "      <td>Monday</td>\n",
       "      <td>1</td>\n",
       "    </tr>\n",
       "    <tr>\n",
       "      <td>499</td>\n",
       "      <td>1/6/20</td>\n",
       "      <td>0</td>\n",
       "      <td>THAI STAR                  NORC</td>\n",
       "      <td>Food</td>\n",
       "      <td>7.00</td>\n",
       "      <td>7.00</td>\n",
       "      <td>0.00</td>\n",
       "      <td>2452.69</td>\n",
       "      <td>20</td>\n",
       "      <td>1</td>\n",
       "      <td>January</td>\n",
       "      <td>6</td>\n",
       "      <td>Monday</td>\n",
       "      <td>1</td>\n",
       "    </tr>\n",
       "    <tr>\n",
       "      <td>500</td>\n",
       "      <td>1/7/20</td>\n",
       "      <td>0</td>\n",
       "      <td>SQUARE INC       * CASH APP</td>\n",
       "      <td>Money Transfer - Credit</td>\n",
       "      <td>10.00</td>\n",
       "      <td>0.00</td>\n",
       "      <td>10.00</td>\n",
       "      <td>2462.69</td>\n",
       "      <td>20</td>\n",
       "      <td>1</td>\n",
       "      <td>January</td>\n",
       "      <td>7</td>\n",
       "      <td>Tuesday</td>\n",
       "      <td>2</td>\n",
       "    </tr>\n",
       "    <tr>\n",
       "      <td>501</td>\n",
       "      <td>1/7/20</td>\n",
       "      <td>0</td>\n",
       "      <td>DEPOSIT</td>\n",
       "      <td>PayCheck Deposit - Bocado</td>\n",
       "      <td>856.51</td>\n",
       "      <td>0.00</td>\n",
       "      <td>856.51</td>\n",
       "      <td>3319.20</td>\n",
       "      <td>20</td>\n",
       "      <td>1</td>\n",
       "      <td>January</td>\n",
       "      <td>7</td>\n",
       "      <td>Tuesday</td>\n",
       "      <td>2</td>\n",
       "    </tr>\n",
       "    <tr>\n",
       "      <td>502</td>\n",
       "      <td>1/7/20</td>\n",
       "      <td>0</td>\n",
       "      <td>KROGER 34 1715             ATLA</td>\n",
       "      <td>Grocery</td>\n",
       "      <td>8.26</td>\n",
       "      <td>8.26</td>\n",
       "      <td>0.00</td>\n",
       "      <td>3310.94</td>\n",
       "      <td>20</td>\n",
       "      <td>1</td>\n",
       "      <td>January</td>\n",
       "      <td>7</td>\n",
       "      <td>Tuesday</td>\n",
       "      <td>2</td>\n",
       "    </tr>\n",
       "    <tr>\n",
       "      <td>503</td>\n",
       "      <td>1/21/20</td>\n",
       "      <td>0</td>\n",
       "      <td>ALLY BANK        $TRANSFER  200</td>\n",
       "      <td>Ally Transfer - To</td>\n",
       "      <td>2500.00</td>\n",
       "      <td>2500.00</td>\n",
       "      <td>0.00</td>\n",
       "      <td>810.94</td>\n",
       "      <td>20</td>\n",
       "      <td>1</td>\n",
       "      <td>January</td>\n",
       "      <td>21</td>\n",
       "      <td>Tuesday</td>\n",
       "      <td>2</td>\n",
       "    </tr>\n",
       "    <tr>\n",
       "      <td>504</td>\n",
       "      <td>1/27/20</td>\n",
       "      <td>0</td>\n",
       "      <td>THE HOME DEPOT             ATLA</td>\n",
       "      <td>Housing - Repair</td>\n",
       "      <td>24.98</td>\n",
       "      <td>24.98</td>\n",
       "      <td>0.00</td>\n",
       "      <td>785.96</td>\n",
       "      <td>20</td>\n",
       "      <td>1</td>\n",
       "      <td>January</td>\n",
       "      <td>27</td>\n",
       "      <td>Monday</td>\n",
       "      <td>1</td>\n",
       "    </tr>\n",
       "    <tr>\n",
       "      <td>505</td>\n",
       "      <td>1/27/20</td>\n",
       "      <td>0</td>\n",
       "      <td>KROGER 34 1715             ATLA</td>\n",
       "      <td>Gasoline</td>\n",
       "      <td>27.46</td>\n",
       "      <td>27.46</td>\n",
       "      <td>0.00</td>\n",
       "      <td>758.50</td>\n",
       "      <td>20</td>\n",
       "      <td>1</td>\n",
       "      <td>January</td>\n",
       "      <td>27</td>\n",
       "      <td>Monday</td>\n",
       "      <td>1</td>\n",
       "    </tr>\n",
       "    <tr>\n",
       "      <td>506</td>\n",
       "      <td>1/28/20</td>\n",
       "      <td>0</td>\n",
       "      <td>ALLY BANK        P2P</td>\n",
       "      <td>Ally Transfer - From</td>\n",
       "      <td>250.00</td>\n",
       "      <td>0.00</td>\n",
       "      <td>250.00</td>\n",
       "      <td>1008.50</td>\n",
       "      <td>20</td>\n",
       "      <td>1</td>\n",
       "      <td>January</td>\n",
       "      <td>28</td>\n",
       "      <td>Tuesday</td>\n",
       "      <td>2</td>\n",
       "    </tr>\n",
       "    <tr>\n",
       "      <td>507</td>\n",
       "      <td>1/28/20</td>\n",
       "      <td>0</td>\n",
       "      <td>VENMO            PAYMENT    303</td>\n",
       "      <td>Money Transfer - Debit</td>\n",
       "      <td>60.00</td>\n",
       "      <td>60.00</td>\n",
       "      <td>0.00</td>\n",
       "      <td>948.50</td>\n",
       "      <td>20</td>\n",
       "      <td>1</td>\n",
       "      <td>January</td>\n",
       "      <td>28</td>\n",
       "      <td>Tuesday</td>\n",
       "      <td>2</td>\n",
       "    </tr>\n",
       "    <tr>\n",
       "      <td>508</td>\n",
       "      <td>1/29/20</td>\n",
       "      <td>0</td>\n",
       "      <td>GSU PANTHERS CLUB          ATLA</td>\n",
       "      <td>Food</td>\n",
       "      <td>4.35</td>\n",
       "      <td>4.35</td>\n",
       "      <td>0.00</td>\n",
       "      <td>944.15</td>\n",
       "      <td>20</td>\n",
       "      <td>1</td>\n",
       "      <td>January</td>\n",
       "      <td>29</td>\n",
       "      <td>Wednesday</td>\n",
       "      <td>3</td>\n",
       "    </tr>\n",
       "  </tbody>\n",
       "</table>\n",
       "</div>"
      ],
      "text/plain": [
       "        Date  Check Number                       Description  \\\n",
       "494   1/2/20             0   MOBILE APP TRANSFER FROM 100002   \n",
       "495   1/2/20             0   SQUARE INC       * CASH APP T20   \n",
       "496   1/2/20             0   KROGER 34 1715             ATLA   \n",
       "497   1/3/20             0   S068AC1          RENT       106   \n",
       "498   1/6/20             0   VENMO            CASHOUT          \n",
       "499   1/6/20             0   THAI STAR                  NORC   \n",
       "500   1/7/20             0   SQUARE INC       * CASH APP       \n",
       "501   1/7/20             0                           DEPOSIT   \n",
       "502   1/7/20             0   KROGER 34 1715             ATLA   \n",
       "503  1/21/20             0   ALLY BANK        $TRANSFER  200   \n",
       "504  1/27/20             0   THE HOME DEPOT             ATLA   \n",
       "505  1/27/20             0   KROGER 34 1715             ATLA   \n",
       "506  1/28/20             0   ALLY BANK        P2P              \n",
       "507  1/28/20             0   VENMO            PAYMENT    303   \n",
       "508  1/29/20             0   GSU PANTHERS CLUB          ATLA   \n",
       "\n",
       "                          Type   Charge    Debit  Credit  Running Balance  \\\n",
       "494                   Mom Fund   200.00     0.00  200.00          3170.11   \n",
       "495     Money Transfer - Debit    10.00    10.00    0.00          3149.64   \n",
       "496                    Grocery    10.47    10.47    0.00          3159.64   \n",
       "497             Housing - Rent   789.95   789.95    0.00          2359.69   \n",
       "498    Money Transfer - Credit   100.00     0.00  100.00          2459.69   \n",
       "499                       Food     7.00     7.00    0.00          2452.69   \n",
       "500    Money Transfer - Credit    10.00     0.00   10.00          2462.69   \n",
       "501  PayCheck Deposit - Bocado   856.51     0.00  856.51          3319.20   \n",
       "502                    Grocery     8.26     8.26    0.00          3310.94   \n",
       "503         Ally Transfer - To  2500.00  2500.00    0.00           810.94   \n",
       "504           Housing - Repair    24.98    24.98    0.00           785.96   \n",
       "505                   Gasoline    27.46    27.46    0.00           758.50   \n",
       "506       Ally Transfer - From   250.00     0.00  250.00          1008.50   \n",
       "507     Money Transfer - Debit    60.00    60.00    0.00           948.50   \n",
       "508                       Food     4.35     4.35    0.00           944.15   \n",
       "\n",
       "    Year Month MonthName Day    DayName  DayCode  \n",
       "494   20     1   January   2   Thursday        4  \n",
       "495   20     1   January   2   Thursday        4  \n",
       "496   20     1   January   2   Thursday        4  \n",
       "497   20     1   January   3     Friday        5  \n",
       "498   20     1   January   6     Monday        1  \n",
       "499   20     1   January   6     Monday        1  \n",
       "500   20     1   January   7    Tuesday        2  \n",
       "501   20     1   January   7    Tuesday        2  \n",
       "502   20     1   January   7    Tuesday        2  \n",
       "503   20     1   January  21    Tuesday        2  \n",
       "504   20     1   January  27     Monday        1  \n",
       "505   20     1   January  27     Monday        1  \n",
       "506   20     1   January  28    Tuesday        2  \n",
       "507   20     1   January  28    Tuesday        2  \n",
       "508   20     1   January  29  Wednesday        3  "
      ]
     },
     "metadata": {},
     "output_type": "display_data"
    },
    {
     "data": {
      "text/html": [
       "<div>\n",
       "<style scoped>\n",
       "    .dataframe tbody tr th:only-of-type {\n",
       "        vertical-align: middle;\n",
       "    }\n",
       "\n",
       "    .dataframe tbody tr th {\n",
       "        vertical-align: top;\n",
       "    }\n",
       "\n",
       "    .dataframe thead th {\n",
       "        text-align: right;\n",
       "    }\n",
       "</style>\n",
       "<table border=\"1\" class=\"dataframe\">\n",
       "  <thead>\n",
       "    <tr style=\"text-align: right;\">\n",
       "      <th></th>\n",
       "      <th>Date</th>\n",
       "      <th>Check Number</th>\n",
       "      <th>Description</th>\n",
       "      <th>Type</th>\n",
       "      <th>Charge</th>\n",
       "      <th>Debit</th>\n",
       "      <th>Credit</th>\n",
       "      <th>Running Balance</th>\n",
       "      <th>Year</th>\n",
       "      <th>Month</th>\n",
       "      <th>MonthName</th>\n",
       "      <th>Day</th>\n",
       "      <th>DayName</th>\n",
       "      <th>DayCode</th>\n",
       "    </tr>\n",
       "  </thead>\n",
       "  <tbody>\n",
       "    <tr>\n",
       "      <td>509</td>\n",
       "      <td>2/3/20</td>\n",
       "      <td>0</td>\n",
       "      <td>MOBILE APP TRANSFER FROM 100002</td>\n",
       "      <td>Mom Fund</td>\n",
       "      <td>200.00</td>\n",
       "      <td>0.00</td>\n",
       "      <td>200.00</td>\n",
       "      <td>1144.15</td>\n",
       "      <td>20</td>\n",
       "      <td>2</td>\n",
       "      <td>February</td>\n",
       "      <td>3</td>\n",
       "      <td>Monday</td>\n",
       "      <td>1</td>\n",
       "    </tr>\n",
       "    <tr>\n",
       "      <td>510</td>\n",
       "      <td>2/3/20</td>\n",
       "      <td>0</td>\n",
       "      <td>ZUMIEZ #565                ATLA</td>\n",
       "      <td>Entertainment</td>\n",
       "      <td>3.60</td>\n",
       "      <td>3.60</td>\n",
       "      <td>0.00</td>\n",
       "      <td>1140.55</td>\n",
       "      <td>20</td>\n",
       "      <td>2</td>\n",
       "      <td>February</td>\n",
       "      <td>3</td>\n",
       "      <td>Monday</td>\n",
       "      <td>1</td>\n",
       "    </tr>\n",
       "    <tr>\n",
       "      <td>511</td>\n",
       "      <td>2/4/20</td>\n",
       "      <td>0</td>\n",
       "      <td>S068AC1          RENT       108</td>\n",
       "      <td>Housing - Rent</td>\n",
       "      <td>789.95</td>\n",
       "      <td>789.95</td>\n",
       "      <td>0.00</td>\n",
       "      <td>350.60</td>\n",
       "      <td>20</td>\n",
       "      <td>2</td>\n",
       "      <td>February</td>\n",
       "      <td>4</td>\n",
       "      <td>Tuesday</td>\n",
       "      <td>2</td>\n",
       "    </tr>\n",
       "    <tr>\n",
       "      <td>512</td>\n",
       "      <td>2/5/20</td>\n",
       "      <td>0</td>\n",
       "      <td>ARBYS #8080 ATLANTA        ATLA</td>\n",
       "      <td>Food</td>\n",
       "      <td>3.26</td>\n",
       "      <td>3.26</td>\n",
       "      <td>0.00</td>\n",
       "      <td>347.34</td>\n",
       "      <td>20</td>\n",
       "      <td>2</td>\n",
       "      <td>February</td>\n",
       "      <td>5</td>\n",
       "      <td>Wednesday</td>\n",
       "      <td>3</td>\n",
       "    </tr>\n",
       "    <tr>\n",
       "      <td>513</td>\n",
       "      <td>2/5/20</td>\n",
       "      <td>0</td>\n",
       "      <td>PANDA EXPRESS #3101        ATLA</td>\n",
       "      <td>Food</td>\n",
       "      <td>8.28</td>\n",
       "      <td>8.28</td>\n",
       "      <td>0.00</td>\n",
       "      <td>339.06</td>\n",
       "      <td>20</td>\n",
       "      <td>2</td>\n",
       "      <td>February</td>\n",
       "      <td>5</td>\n",
       "      <td>Wednesday</td>\n",
       "      <td>3</td>\n",
       "    </tr>\n",
       "    <tr>\n",
       "      <td>514</td>\n",
       "      <td>2/5/20</td>\n",
       "      <td>0</td>\n",
       "      <td>KROGER 34 1715             ATLA</td>\n",
       "      <td>Grocery</td>\n",
       "      <td>12.96</td>\n",
       "      <td>12.96</td>\n",
       "      <td>0.00</td>\n",
       "      <td>326.10</td>\n",
       "      <td>20</td>\n",
       "      <td>2</td>\n",
       "      <td>February</td>\n",
       "      <td>5</td>\n",
       "      <td>Wednesday</td>\n",
       "      <td>3</td>\n",
       "    </tr>\n",
       "    <tr>\n",
       "      <td>515</td>\n",
       "      <td>2/7/20</td>\n",
       "      <td>0</td>\n",
       "      <td>0206 06358318         000080862</td>\n",
       "      <td>Refund</td>\n",
       "      <td>6.50</td>\n",
       "      <td>0.00</td>\n",
       "      <td>6.50</td>\n",
       "      <td>332.60</td>\n",
       "      <td>20</td>\n",
       "      <td>2</td>\n",
       "      <td>February</td>\n",
       "      <td>7</td>\n",
       "      <td>Friday</td>\n",
       "      <td>5</td>\n",
       "    </tr>\n",
       "    <tr>\n",
       "      <td>516</td>\n",
       "      <td>2/7/20</td>\n",
       "      <td>0</td>\n",
       "      <td>STUDENT CENTER INFORMA     ATLA</td>\n",
       "      <td>Food</td>\n",
       "      <td>1.00</td>\n",
       "      <td>1.00</td>\n",
       "      <td>0.00</td>\n",
       "      <td>321.99</td>\n",
       "      <td>20</td>\n",
       "      <td>2</td>\n",
       "      <td>February</td>\n",
       "      <td>7</td>\n",
       "      <td>Friday</td>\n",
       "      <td>5</td>\n",
       "    </tr>\n",
       "    <tr>\n",
       "      <td>517</td>\n",
       "      <td>2/7/20</td>\n",
       "      <td>0</td>\n",
       "      <td>THE HOME DEPOT             ATLA</td>\n",
       "      <td>Housing - Repair</td>\n",
       "      <td>5.14</td>\n",
       "      <td>5.14</td>\n",
       "      <td>0.00</td>\n",
       "      <td>310.35</td>\n",
       "      <td>20</td>\n",
       "      <td>2</td>\n",
       "      <td>February</td>\n",
       "      <td>7</td>\n",
       "      <td>Friday</td>\n",
       "      <td>5</td>\n",
       "    </tr>\n",
       "    <tr>\n",
       "      <td>518</td>\n",
       "      <td>2/7/20</td>\n",
       "      <td>0</td>\n",
       "      <td>THE HOME DEPOT             ATLA</td>\n",
       "      <td>Housing - Repair</td>\n",
       "      <td>6.50</td>\n",
       "      <td>6.50</td>\n",
       "      <td>0.00</td>\n",
       "      <td>315.49</td>\n",
       "      <td>20</td>\n",
       "      <td>2</td>\n",
       "      <td>February</td>\n",
       "      <td>7</td>\n",
       "      <td>Friday</td>\n",
       "      <td>5</td>\n",
       "    </tr>\n",
       "    <tr>\n",
       "      <td>519</td>\n",
       "      <td>2/7/20</td>\n",
       "      <td>0</td>\n",
       "      <td>SQ *BARAKA SHAWARMA        ATLA</td>\n",
       "      <td>Food</td>\n",
       "      <td>9.61</td>\n",
       "      <td>9.61</td>\n",
       "      <td>0.00</td>\n",
       "      <td>322.99</td>\n",
       "      <td>20</td>\n",
       "      <td>2</td>\n",
       "      <td>February</td>\n",
       "      <td>7</td>\n",
       "      <td>Friday</td>\n",
       "      <td>5</td>\n",
       "    </tr>\n",
       "    <tr>\n",
       "      <td>520</td>\n",
       "      <td>2/10/20</td>\n",
       "      <td>0</td>\n",
       "      <td>VENMO            CASHOUT</td>\n",
       "      <td>Money Transfer - Credit</td>\n",
       "      <td>18.00</td>\n",
       "      <td>0.00</td>\n",
       "      <td>18.00</td>\n",
       "      <td>328.35</td>\n",
       "      <td>20</td>\n",
       "      <td>2</td>\n",
       "      <td>February</td>\n",
       "      <td>10</td>\n",
       "      <td>Monday</td>\n",
       "      <td>1</td>\n",
       "    </tr>\n",
       "    <tr>\n",
       "      <td>521</td>\n",
       "      <td>2/10/20</td>\n",
       "      <td>0</td>\n",
       "      <td>BOCADO                     ATLA</td>\n",
       "      <td>Food</td>\n",
       "      <td>4.71</td>\n",
       "      <td>4.71</td>\n",
       "      <td>0.00</td>\n",
       "      <td>323.64</td>\n",
       "      <td>20</td>\n",
       "      <td>2</td>\n",
       "      <td>February</td>\n",
       "      <td>10</td>\n",
       "      <td>Monday</td>\n",
       "      <td>1</td>\n",
       "    </tr>\n",
       "    <tr>\n",
       "      <td>522</td>\n",
       "      <td>2/11/20</td>\n",
       "      <td>0</td>\n",
       "      <td>SQUARE INC       * CASH APP</td>\n",
       "      <td>Money Transfer - Credit</td>\n",
       "      <td>7.00</td>\n",
       "      <td>0.00</td>\n",
       "      <td>7.00</td>\n",
       "      <td>330.64</td>\n",
       "      <td>20</td>\n",
       "      <td>2</td>\n",
       "      <td>February</td>\n",
       "      <td>11</td>\n",
       "      <td>Tuesday</td>\n",
       "      <td>2</td>\n",
       "    </tr>\n",
       "    <tr>\n",
       "      <td>523</td>\n",
       "      <td>2/11/20</td>\n",
       "      <td>0</td>\n",
       "      <td>QT 831                     DULU</td>\n",
       "      <td>Gasoline</td>\n",
       "      <td>3.96</td>\n",
       "      <td>3.96</td>\n",
       "      <td>0.00</td>\n",
       "      <td>326.68</td>\n",
       "      <td>20</td>\n",
       "      <td>2</td>\n",
       "      <td>February</td>\n",
       "      <td>11</td>\n",
       "      <td>Tuesday</td>\n",
       "      <td>2</td>\n",
       "    </tr>\n",
       "    <tr>\n",
       "      <td>524</td>\n",
       "      <td>2/12/20</td>\n",
       "      <td>0</td>\n",
       "      <td>DEPOSIT</td>\n",
       "      <td>PayCheck Deposit - Bocado</td>\n",
       "      <td>1084.31</td>\n",
       "      <td>0.00</td>\n",
       "      <td>1084.31</td>\n",
       "      <td>1410.99</td>\n",
       "      <td>20</td>\n",
       "      <td>2</td>\n",
       "      <td>February</td>\n",
       "      <td>12</td>\n",
       "      <td>Wednesday</td>\n",
       "      <td>3</td>\n",
       "    </tr>\n",
       "    <tr>\n",
       "      <td>525</td>\n",
       "      <td>2/12/20</td>\n",
       "      <td>0</td>\n",
       "      <td>WILLYS GEORGIA STATE       ATLA</td>\n",
       "      <td>Food</td>\n",
       "      <td>1.20</td>\n",
       "      <td>1.20</td>\n",
       "      <td>0.00</td>\n",
       "      <td>1409.79</td>\n",
       "      <td>20</td>\n",
       "      <td>2</td>\n",
       "      <td>February</td>\n",
       "      <td>12</td>\n",
       "      <td>Wednesday</td>\n",
       "      <td>3</td>\n",
       "    </tr>\n",
       "    <tr>\n",
       "      <td>526</td>\n",
       "      <td>2/12/20</td>\n",
       "      <td>0</td>\n",
       "      <td>PANDA EXPRESS #3101        ATLA</td>\n",
       "      <td>Food</td>\n",
       "      <td>8.28</td>\n",
       "      <td>8.28</td>\n",
       "      <td>0.00</td>\n",
       "      <td>1401.51</td>\n",
       "      <td>20</td>\n",
       "      <td>2</td>\n",
       "      <td>February</td>\n",
       "      <td>12</td>\n",
       "      <td>Wednesday</td>\n",
       "      <td>3</td>\n",
       "    </tr>\n",
       "    <tr>\n",
       "      <td>527</td>\n",
       "      <td>2/12/20</td>\n",
       "      <td>0</td>\n",
       "      <td>KROGER 34 1715             ATLA</td>\n",
       "      <td>Grocery</td>\n",
       "      <td>15.27</td>\n",
       "      <td>15.27</td>\n",
       "      <td>0.00</td>\n",
       "      <td>1386.24</td>\n",
       "      <td>20</td>\n",
       "      <td>2</td>\n",
       "      <td>February</td>\n",
       "      <td>12</td>\n",
       "      <td>Wednesday</td>\n",
       "      <td>3</td>\n",
       "    </tr>\n",
       "    <tr>\n",
       "      <td>528</td>\n",
       "      <td>2/14/20</td>\n",
       "      <td>0</td>\n",
       "      <td>SQ *BARAKA SHAWARMA        ATLA</td>\n",
       "      <td>Food</td>\n",
       "      <td>9.16</td>\n",
       "      <td>9.16</td>\n",
       "      <td>0.00</td>\n",
       "      <td>1377.08</td>\n",
       "      <td>20</td>\n",
       "      <td>2</td>\n",
       "      <td>February</td>\n",
       "      <td>14</td>\n",
       "      <td>Friday</td>\n",
       "      <td>5</td>\n",
       "    </tr>\n",
       "    <tr>\n",
       "      <td>529</td>\n",
       "      <td>2/18/20</td>\n",
       "      <td>0</td>\n",
       "      <td>REVELATOR ATL WESTSIDE     ATLA</td>\n",
       "      <td>Food</td>\n",
       "      <td>6.63</td>\n",
       "      <td>6.63</td>\n",
       "      <td>0.00</td>\n",
       "      <td>1370.45</td>\n",
       "      <td>20</td>\n",
       "      <td>2</td>\n",
       "      <td>February</td>\n",
       "      <td>18</td>\n",
       "      <td>Tuesday</td>\n",
       "      <td>2</td>\n",
       "    </tr>\n",
       "    <tr>\n",
       "      <td>530</td>\n",
       "      <td>2/19/20</td>\n",
       "      <td>0</td>\n",
       "      <td>FROM 0175 1000027445740</td>\n",
       "      <td>Mom Fund</td>\n",
       "      <td>150.00</td>\n",
       "      <td>0.00</td>\n",
       "      <td>150.00</td>\n",
       "      <td>1520.45</td>\n",
       "      <td>20</td>\n",
       "      <td>2</td>\n",
       "      <td>February</td>\n",
       "      <td>19</td>\n",
       "      <td>Wednesday</td>\n",
       "      <td>3</td>\n",
       "    </tr>\n",
       "    <tr>\n",
       "      <td>531</td>\n",
       "      <td>2/19/20</td>\n",
       "      <td>0</td>\n",
       "      <td>WILLYS GEORGIA STATE       ATLA</td>\n",
       "      <td>Food</td>\n",
       "      <td>1.20</td>\n",
       "      <td>1.20</td>\n",
       "      <td>0.00</td>\n",
       "      <td>1519.25</td>\n",
       "      <td>20</td>\n",
       "      <td>2</td>\n",
       "      <td>February</td>\n",
       "      <td>19</td>\n",
       "      <td>Wednesday</td>\n",
       "      <td>3</td>\n",
       "    </tr>\n",
       "    <tr>\n",
       "      <td>532</td>\n",
       "      <td>2/19/20</td>\n",
       "      <td>0</td>\n",
       "      <td>GSU CHICK-FIL-A            ATLA</td>\n",
       "      <td>Food</td>\n",
       "      <td>4.35</td>\n",
       "      <td>4.35</td>\n",
       "      <td>0.00</td>\n",
       "      <td>1514.90</td>\n",
       "      <td>20</td>\n",
       "      <td>2</td>\n",
       "      <td>February</td>\n",
       "      <td>19</td>\n",
       "      <td>Wednesday</td>\n",
       "      <td>3</td>\n",
       "    </tr>\n",
       "    <tr>\n",
       "      <td>533</td>\n",
       "      <td>2/19/20</td>\n",
       "      <td>0</td>\n",
       "      <td>TD BANK          PAYMENT    ANT</td>\n",
       "      <td>CC BillPay</td>\n",
       "      <td>1019.84</td>\n",
       "      <td>1019.84</td>\n",
       "      <td>0.00</td>\n",
       "      <td>495.06</td>\n",
       "      <td>20</td>\n",
       "      <td>2</td>\n",
       "      <td>February</td>\n",
       "      <td>19</td>\n",
       "      <td>Wednesday</td>\n",
       "      <td>3</td>\n",
       "    </tr>\n",
       "    <tr>\n",
       "      <td>534</td>\n",
       "      <td>2/20/20</td>\n",
       "      <td>0</td>\n",
       "      <td>SUBWAY        00046276     DULU</td>\n",
       "      <td>Food</td>\n",
       "      <td>13.74</td>\n",
       "      <td>13.74</td>\n",
       "      <td>0.00</td>\n",
       "      <td>481.32</td>\n",
       "      <td>20</td>\n",
       "      <td>2</td>\n",
       "      <td>February</td>\n",
       "      <td>20</td>\n",
       "      <td>Thursday</td>\n",
       "      <td>4</td>\n",
       "    </tr>\n",
       "  </tbody>\n",
       "</table>\n",
       "</div>"
      ],
      "text/plain": [
       "        Date  Check Number                       Description  \\\n",
       "509   2/3/20             0   MOBILE APP TRANSFER FROM 100002   \n",
       "510   2/3/20             0   ZUMIEZ #565                ATLA   \n",
       "511   2/4/20             0   S068AC1          RENT       108   \n",
       "512   2/5/20             0   ARBYS #8080 ATLANTA        ATLA   \n",
       "513   2/5/20             0   PANDA EXPRESS #3101        ATLA   \n",
       "514   2/5/20             0   KROGER 34 1715             ATLA   \n",
       "515   2/7/20             0   0206 06358318         000080862   \n",
       "516   2/7/20             0   STUDENT CENTER INFORMA     ATLA   \n",
       "517   2/7/20             0   THE HOME DEPOT             ATLA   \n",
       "518   2/7/20             0   THE HOME DEPOT             ATLA   \n",
       "519   2/7/20             0   SQ *BARAKA SHAWARMA        ATLA   \n",
       "520  2/10/20             0   VENMO            CASHOUT          \n",
       "521  2/10/20             0   BOCADO                     ATLA   \n",
       "522  2/11/20             0   SQUARE INC       * CASH APP       \n",
       "523  2/11/20             0   QT 831                     DULU   \n",
       "524  2/12/20             0                           DEPOSIT   \n",
       "525  2/12/20             0   WILLYS GEORGIA STATE       ATLA   \n",
       "526  2/12/20             0   PANDA EXPRESS #3101        ATLA   \n",
       "527  2/12/20             0   KROGER 34 1715             ATLA   \n",
       "528  2/14/20             0   SQ *BARAKA SHAWARMA        ATLA   \n",
       "529  2/18/20             0   REVELATOR ATL WESTSIDE     ATLA   \n",
       "530  2/19/20             0         FROM 0175 1000027445740     \n",
       "531  2/19/20             0   WILLYS GEORGIA STATE       ATLA   \n",
       "532  2/19/20             0   GSU CHICK-FIL-A            ATLA   \n",
       "533  2/19/20             0   TD BANK          PAYMENT    ANT   \n",
       "534  2/20/20             0   SUBWAY        00046276     DULU   \n",
       "\n",
       "                          Type   Charge    Debit   Credit  Running Balance  \\\n",
       "509                   Mom Fund   200.00     0.00   200.00          1144.15   \n",
       "510              Entertainment     3.60     3.60     0.00          1140.55   \n",
       "511             Housing - Rent   789.95   789.95     0.00           350.60   \n",
       "512                       Food     3.26     3.26     0.00           347.34   \n",
       "513                       Food     8.28     8.28     0.00           339.06   \n",
       "514                    Grocery    12.96    12.96     0.00           326.10   \n",
       "515                     Refund     6.50     0.00     6.50           332.60   \n",
       "516                       Food     1.00     1.00     0.00           321.99   \n",
       "517           Housing - Repair     5.14     5.14     0.00           310.35   \n",
       "518           Housing - Repair     6.50     6.50     0.00           315.49   \n",
       "519                       Food     9.61     9.61     0.00           322.99   \n",
       "520    Money Transfer - Credit    18.00     0.00    18.00           328.35   \n",
       "521                       Food     4.71     4.71     0.00           323.64   \n",
       "522    Money Transfer - Credit     7.00     0.00     7.00           330.64   \n",
       "523                   Gasoline     3.96     3.96     0.00           326.68   \n",
       "524  PayCheck Deposit - Bocado  1084.31     0.00  1084.31          1410.99   \n",
       "525                       Food     1.20     1.20     0.00          1409.79   \n",
       "526                       Food     8.28     8.28     0.00          1401.51   \n",
       "527                    Grocery    15.27    15.27     0.00          1386.24   \n",
       "528                       Food     9.16     9.16     0.00          1377.08   \n",
       "529                       Food     6.63     6.63     0.00          1370.45   \n",
       "530                   Mom Fund   150.00     0.00   150.00          1520.45   \n",
       "531                       Food     1.20     1.20     0.00          1519.25   \n",
       "532                       Food     4.35     4.35     0.00          1514.90   \n",
       "533                 CC BillPay  1019.84  1019.84     0.00           495.06   \n",
       "534                       Food    13.74    13.74     0.00           481.32   \n",
       "\n",
       "    Year Month MonthName Day    DayName  DayCode  \n",
       "509   20     2  February   3     Monday        1  \n",
       "510   20     2  February   3     Monday        1  \n",
       "511   20     2  February   4    Tuesday        2  \n",
       "512   20     2  February   5  Wednesday        3  \n",
       "513   20     2  February   5  Wednesday        3  \n",
       "514   20     2  February   5  Wednesday        3  \n",
       "515   20     2  February   7     Friday        5  \n",
       "516   20     2  February   7     Friday        5  \n",
       "517   20     2  February   7     Friday        5  \n",
       "518   20     2  February   7     Friday        5  \n",
       "519   20     2  February   7     Friday        5  \n",
       "520   20     2  February  10     Monday        1  \n",
       "521   20     2  February  10     Monday        1  \n",
       "522   20     2  February  11    Tuesday        2  \n",
       "523   20     2  February  11    Tuesday        2  \n",
       "524   20     2  February  12  Wednesday        3  \n",
       "525   20     2  February  12  Wednesday        3  \n",
       "526   20     2  February  12  Wednesday        3  \n",
       "527   20     2  February  12  Wednesday        3  \n",
       "528   20     2  February  14     Friday        5  \n",
       "529   20     2  February  18    Tuesday        2  \n",
       "530   20     2  February  19  Wednesday        3  \n",
       "531   20     2  February  19  Wednesday        3  \n",
       "532   20     2  February  19  Wednesday        3  \n",
       "533   20     2  February  19  Wednesday        3  \n",
       "534   20     2  February  20   Thursday        4  "
      ]
     },
     "metadata": {},
     "output_type": "display_data"
    },
    {
     "name": "stdout",
     "output_type": "stream",
     "text": [
      "\n",
      "\n",
      "Sum of Items per Charge Category:\n",
      "\n",
      "MonthName\n",
      "December     724.87\n",
      "September    657.84\n",
      "October      633.35\n",
      "November     607.19\n",
      "Name: Debit, dtype: float64\n"
     ]
    },
    {
     "data": {
      "application/vnd.plotly.v1+json": {
       "config": {
        "plotlyServerURL": "https://plot.ly"
       },
       "data": [
        {
         "alignmentgroup": "True",
         "hoverlabel": {
          "namelength": 0
         },
         "hovertemplate": "Category=%{x}<br>Sum of Items (USD)=%{y}",
         "legendgroup": "",
         "marker": {
          "color": "#636efa"
         },
         "name": "",
         "offsetgroup": "",
         "orientation": "v",
         "showlegend": false,
         "textposition": "auto",
         "type": "bar",
         "x": [
          "December",
          "September",
          "October",
          "November"
         ],
         "xaxis": "x",
         "y": [
          724.8699999999999,
          657.84,
          633.3499999999998,
          607.19
         ],
         "yaxis": "y"
        }
       ],
       "layout": {
        "barmode": "relative",
        "legend": {
         "tracegroupgap": 0
        },
        "template": {
         "data": {
          "bar": [
           {
            "error_x": {
             "color": "#2a3f5f"
            },
            "error_y": {
             "color": "#2a3f5f"
            },
            "marker": {
             "line": {
              "color": "#E5ECF6",
              "width": 0.5
             }
            },
            "type": "bar"
           }
          ],
          "barpolar": [
           {
            "marker": {
             "line": {
              "color": "#E5ECF6",
              "width": 0.5
             }
            },
            "type": "barpolar"
           }
          ],
          "carpet": [
           {
            "aaxis": {
             "endlinecolor": "#2a3f5f",
             "gridcolor": "white",
             "linecolor": "white",
             "minorgridcolor": "white",
             "startlinecolor": "#2a3f5f"
            },
            "baxis": {
             "endlinecolor": "#2a3f5f",
             "gridcolor": "white",
             "linecolor": "white",
             "minorgridcolor": "white",
             "startlinecolor": "#2a3f5f"
            },
            "type": "carpet"
           }
          ],
          "choropleth": [
           {
            "colorbar": {
             "outlinewidth": 0,
             "ticks": ""
            },
            "type": "choropleth"
           }
          ],
          "contour": [
           {
            "colorbar": {
             "outlinewidth": 0,
             "ticks": ""
            },
            "colorscale": [
             [
              0,
              "#0d0887"
             ],
             [
              0.1111111111111111,
              "#46039f"
             ],
             [
              0.2222222222222222,
              "#7201a8"
             ],
             [
              0.3333333333333333,
              "#9c179e"
             ],
             [
              0.4444444444444444,
              "#bd3786"
             ],
             [
              0.5555555555555556,
              "#d8576b"
             ],
             [
              0.6666666666666666,
              "#ed7953"
             ],
             [
              0.7777777777777778,
              "#fb9f3a"
             ],
             [
              0.8888888888888888,
              "#fdca26"
             ],
             [
              1,
              "#f0f921"
             ]
            ],
            "type": "contour"
           }
          ],
          "contourcarpet": [
           {
            "colorbar": {
             "outlinewidth": 0,
             "ticks": ""
            },
            "type": "contourcarpet"
           }
          ],
          "heatmap": [
           {
            "colorbar": {
             "outlinewidth": 0,
             "ticks": ""
            },
            "colorscale": [
             [
              0,
              "#0d0887"
             ],
             [
              0.1111111111111111,
              "#46039f"
             ],
             [
              0.2222222222222222,
              "#7201a8"
             ],
             [
              0.3333333333333333,
              "#9c179e"
             ],
             [
              0.4444444444444444,
              "#bd3786"
             ],
             [
              0.5555555555555556,
              "#d8576b"
             ],
             [
              0.6666666666666666,
              "#ed7953"
             ],
             [
              0.7777777777777778,
              "#fb9f3a"
             ],
             [
              0.8888888888888888,
              "#fdca26"
             ],
             [
              1,
              "#f0f921"
             ]
            ],
            "type": "heatmap"
           }
          ],
          "heatmapgl": [
           {
            "colorbar": {
             "outlinewidth": 0,
             "ticks": ""
            },
            "colorscale": [
             [
              0,
              "#0d0887"
             ],
             [
              0.1111111111111111,
              "#46039f"
             ],
             [
              0.2222222222222222,
              "#7201a8"
             ],
             [
              0.3333333333333333,
              "#9c179e"
             ],
             [
              0.4444444444444444,
              "#bd3786"
             ],
             [
              0.5555555555555556,
              "#d8576b"
             ],
             [
              0.6666666666666666,
              "#ed7953"
             ],
             [
              0.7777777777777778,
              "#fb9f3a"
             ],
             [
              0.8888888888888888,
              "#fdca26"
             ],
             [
              1,
              "#f0f921"
             ]
            ],
            "type": "heatmapgl"
           }
          ],
          "histogram": [
           {
            "marker": {
             "colorbar": {
              "outlinewidth": 0,
              "ticks": ""
             }
            },
            "type": "histogram"
           }
          ],
          "histogram2d": [
           {
            "colorbar": {
             "outlinewidth": 0,
             "ticks": ""
            },
            "colorscale": [
             [
              0,
              "#0d0887"
             ],
             [
              0.1111111111111111,
              "#46039f"
             ],
             [
              0.2222222222222222,
              "#7201a8"
             ],
             [
              0.3333333333333333,
              "#9c179e"
             ],
             [
              0.4444444444444444,
              "#bd3786"
             ],
             [
              0.5555555555555556,
              "#d8576b"
             ],
             [
              0.6666666666666666,
              "#ed7953"
             ],
             [
              0.7777777777777778,
              "#fb9f3a"
             ],
             [
              0.8888888888888888,
              "#fdca26"
             ],
             [
              1,
              "#f0f921"
             ]
            ],
            "type": "histogram2d"
           }
          ],
          "histogram2dcontour": [
           {
            "colorbar": {
             "outlinewidth": 0,
             "ticks": ""
            },
            "colorscale": [
             [
              0,
              "#0d0887"
             ],
             [
              0.1111111111111111,
              "#46039f"
             ],
             [
              0.2222222222222222,
              "#7201a8"
             ],
             [
              0.3333333333333333,
              "#9c179e"
             ],
             [
              0.4444444444444444,
              "#bd3786"
             ],
             [
              0.5555555555555556,
              "#d8576b"
             ],
             [
              0.6666666666666666,
              "#ed7953"
             ],
             [
              0.7777777777777778,
              "#fb9f3a"
             ],
             [
              0.8888888888888888,
              "#fdca26"
             ],
             [
              1,
              "#f0f921"
             ]
            ],
            "type": "histogram2dcontour"
           }
          ],
          "mesh3d": [
           {
            "colorbar": {
             "outlinewidth": 0,
             "ticks": ""
            },
            "type": "mesh3d"
           }
          ],
          "parcoords": [
           {
            "line": {
             "colorbar": {
              "outlinewidth": 0,
              "ticks": ""
             }
            },
            "type": "parcoords"
           }
          ],
          "pie": [
           {
            "automargin": true,
            "type": "pie"
           }
          ],
          "scatter": [
           {
            "marker": {
             "colorbar": {
              "outlinewidth": 0,
              "ticks": ""
             }
            },
            "type": "scatter"
           }
          ],
          "scatter3d": [
           {
            "line": {
             "colorbar": {
              "outlinewidth": 0,
              "ticks": ""
             }
            },
            "marker": {
             "colorbar": {
              "outlinewidth": 0,
              "ticks": ""
             }
            },
            "type": "scatter3d"
           }
          ],
          "scattercarpet": [
           {
            "marker": {
             "colorbar": {
              "outlinewidth": 0,
              "ticks": ""
             }
            },
            "type": "scattercarpet"
           }
          ],
          "scattergeo": [
           {
            "marker": {
             "colorbar": {
              "outlinewidth": 0,
              "ticks": ""
             }
            },
            "type": "scattergeo"
           }
          ],
          "scattergl": [
           {
            "marker": {
             "colorbar": {
              "outlinewidth": 0,
              "ticks": ""
             }
            },
            "type": "scattergl"
           }
          ],
          "scattermapbox": [
           {
            "marker": {
             "colorbar": {
              "outlinewidth": 0,
              "ticks": ""
             }
            },
            "type": "scattermapbox"
           }
          ],
          "scatterpolar": [
           {
            "marker": {
             "colorbar": {
              "outlinewidth": 0,
              "ticks": ""
             }
            },
            "type": "scatterpolar"
           }
          ],
          "scatterpolargl": [
           {
            "marker": {
             "colorbar": {
              "outlinewidth": 0,
              "ticks": ""
             }
            },
            "type": "scatterpolargl"
           }
          ],
          "scatterternary": [
           {
            "marker": {
             "colorbar": {
              "outlinewidth": 0,
              "ticks": ""
             }
            },
            "type": "scatterternary"
           }
          ],
          "surface": [
           {
            "colorbar": {
             "outlinewidth": 0,
             "ticks": ""
            },
            "colorscale": [
             [
              0,
              "#0d0887"
             ],
             [
              0.1111111111111111,
              "#46039f"
             ],
             [
              0.2222222222222222,
              "#7201a8"
             ],
             [
              0.3333333333333333,
              "#9c179e"
             ],
             [
              0.4444444444444444,
              "#bd3786"
             ],
             [
              0.5555555555555556,
              "#d8576b"
             ],
             [
              0.6666666666666666,
              "#ed7953"
             ],
             [
              0.7777777777777778,
              "#fb9f3a"
             ],
             [
              0.8888888888888888,
              "#fdca26"
             ],
             [
              1,
              "#f0f921"
             ]
            ],
            "type": "surface"
           }
          ],
          "table": [
           {
            "cells": {
             "fill": {
              "color": "#EBF0F8"
             },
             "line": {
              "color": "white"
             }
            },
            "header": {
             "fill": {
              "color": "#C8D4E3"
             },
             "line": {
              "color": "white"
             }
            },
            "type": "table"
           }
          ]
         },
         "layout": {
          "annotationdefaults": {
           "arrowcolor": "#2a3f5f",
           "arrowhead": 0,
           "arrowwidth": 1
          },
          "coloraxis": {
           "colorbar": {
            "outlinewidth": 0,
            "ticks": ""
           }
          },
          "colorscale": {
           "diverging": [
            [
             0,
             "#8e0152"
            ],
            [
             0.1,
             "#c51b7d"
            ],
            [
             0.2,
             "#de77ae"
            ],
            [
             0.3,
             "#f1b6da"
            ],
            [
             0.4,
             "#fde0ef"
            ],
            [
             0.5,
             "#f7f7f7"
            ],
            [
             0.6,
             "#e6f5d0"
            ],
            [
             0.7,
             "#b8e186"
            ],
            [
             0.8,
             "#7fbc41"
            ],
            [
             0.9,
             "#4d9221"
            ],
            [
             1,
             "#276419"
            ]
           ],
           "sequential": [
            [
             0,
             "#0d0887"
            ],
            [
             0.1111111111111111,
             "#46039f"
            ],
            [
             0.2222222222222222,
             "#7201a8"
            ],
            [
             0.3333333333333333,
             "#9c179e"
            ],
            [
             0.4444444444444444,
             "#bd3786"
            ],
            [
             0.5555555555555556,
             "#d8576b"
            ],
            [
             0.6666666666666666,
             "#ed7953"
            ],
            [
             0.7777777777777778,
             "#fb9f3a"
            ],
            [
             0.8888888888888888,
             "#fdca26"
            ],
            [
             1,
             "#f0f921"
            ]
           ],
           "sequentialminus": [
            [
             0,
             "#0d0887"
            ],
            [
             0.1111111111111111,
             "#46039f"
            ],
            [
             0.2222222222222222,
             "#7201a8"
            ],
            [
             0.3333333333333333,
             "#9c179e"
            ],
            [
             0.4444444444444444,
             "#bd3786"
            ],
            [
             0.5555555555555556,
             "#d8576b"
            ],
            [
             0.6666666666666666,
             "#ed7953"
            ],
            [
             0.7777777777777778,
             "#fb9f3a"
            ],
            [
             0.8888888888888888,
             "#fdca26"
            ],
            [
             1,
             "#f0f921"
            ]
           ]
          },
          "colorway": [
           "#636efa",
           "#EF553B",
           "#00cc96",
           "#ab63fa",
           "#FFA15A",
           "#19d3f3",
           "#FF6692",
           "#B6E880",
           "#FF97FF",
           "#FECB52"
          ],
          "font": {
           "color": "#2a3f5f"
          },
          "geo": {
           "bgcolor": "white",
           "lakecolor": "white",
           "landcolor": "#E5ECF6",
           "showlakes": true,
           "showland": true,
           "subunitcolor": "white"
          },
          "hoverlabel": {
           "align": "left"
          },
          "hovermode": "closest",
          "mapbox": {
           "style": "light"
          },
          "paper_bgcolor": "white",
          "plot_bgcolor": "#E5ECF6",
          "polar": {
           "angularaxis": {
            "gridcolor": "white",
            "linecolor": "white",
            "ticks": ""
           },
           "bgcolor": "#E5ECF6",
           "radialaxis": {
            "gridcolor": "white",
            "linecolor": "white",
            "ticks": ""
           }
          },
          "scene": {
           "xaxis": {
            "backgroundcolor": "#E5ECF6",
            "gridcolor": "white",
            "gridwidth": 2,
            "linecolor": "white",
            "showbackground": true,
            "ticks": "",
            "zerolinecolor": "white"
           },
           "yaxis": {
            "backgroundcolor": "#E5ECF6",
            "gridcolor": "white",
            "gridwidth": 2,
            "linecolor": "white",
            "showbackground": true,
            "ticks": "",
            "zerolinecolor": "white"
           },
           "zaxis": {
            "backgroundcolor": "#E5ECF6",
            "gridcolor": "white",
            "gridwidth": 2,
            "linecolor": "white",
            "showbackground": true,
            "ticks": "",
            "zerolinecolor": "white"
           }
          },
          "shapedefaults": {
           "line": {
            "color": "#2a3f5f"
           }
          },
          "ternary": {
           "aaxis": {
            "gridcolor": "white",
            "linecolor": "white",
            "ticks": ""
           },
           "baxis": {
            "gridcolor": "white",
            "linecolor": "white",
            "ticks": ""
           },
           "bgcolor": "#E5ECF6",
           "caxis": {
            "gridcolor": "white",
            "linecolor": "white",
            "ticks": ""
           }
          },
          "title": {
           "x": 0.05
          },
          "xaxis": {
           "automargin": true,
           "gridcolor": "white",
           "linecolor": "white",
           "ticks": "",
           "title": {
            "standoff": 15
           },
           "zerolinecolor": "white",
           "zerolinewidth": 2
          },
          "yaxis": {
           "automargin": true,
           "gridcolor": "white",
           "linecolor": "white",
           "ticks": "",
           "title": {
            "standoff": 15
           },
           "zerolinecolor": "white",
           "zerolinewidth": 2
          }
         }
        },
        "title": {
         "text": "Most Money Spent per Month"
        },
        "xaxis": {
         "anchor": "y",
         "domain": [
          0,
          1
         ],
         "title": {
          "text": "Category"
         }
        },
        "yaxis": {
         "anchor": "x",
         "domain": [
          0,
          1
         ],
         "title": {
          "text": "Sum of Items (USD)"
         }
        }
       }
      },
      "text/html": [
       "<div>\n",
       "        \n",
       "        \n",
       "            <div id=\"95b2eae6-3964-4348-a77f-0c935c663179\" class=\"plotly-graph-div\" style=\"height:525px; width:100%;\"></div>\n",
       "            <script type=\"text/javascript\">\n",
       "                require([\"plotly\"], function(Plotly) {\n",
       "                    window.PLOTLYENV=window.PLOTLYENV || {};\n",
       "                    \n",
       "                if (document.getElementById(\"95b2eae6-3964-4348-a77f-0c935c663179\")) {\n",
       "                    Plotly.newPlot(\n",
       "                        '95b2eae6-3964-4348-a77f-0c935c663179',\n",
       "                        [{\"alignmentgroup\": \"True\", \"hoverlabel\": {\"namelength\": 0}, \"hovertemplate\": \"Category=%{x}<br>Sum of Items (USD)=%{y}\", \"legendgroup\": \"\", \"marker\": {\"color\": \"#636efa\"}, \"name\": \"\", \"offsetgroup\": \"\", \"orientation\": \"v\", \"showlegend\": false, \"textposition\": \"auto\", \"type\": \"bar\", \"x\": [\"December\", \"September\", \"October\", \"November\"], \"xaxis\": \"x\", \"y\": [724.8699999999999, 657.84, 633.3499999999998, 607.19], \"yaxis\": \"y\"}],\n",
       "                        {\"barmode\": \"relative\", \"legend\": {\"tracegroupgap\": 0}, \"template\": {\"data\": {\"bar\": [{\"error_x\": {\"color\": \"#2a3f5f\"}, \"error_y\": {\"color\": \"#2a3f5f\"}, \"marker\": {\"line\": {\"color\": \"#E5ECF6\", \"width\": 0.5}}, \"type\": \"bar\"}], \"barpolar\": [{\"marker\": {\"line\": {\"color\": \"#E5ECF6\", \"width\": 0.5}}, \"type\": \"barpolar\"}], \"carpet\": [{\"aaxis\": {\"endlinecolor\": \"#2a3f5f\", \"gridcolor\": \"white\", \"linecolor\": \"white\", \"minorgridcolor\": \"white\", \"startlinecolor\": \"#2a3f5f\"}, \"baxis\": {\"endlinecolor\": \"#2a3f5f\", \"gridcolor\": \"white\", \"linecolor\": \"white\", \"minorgridcolor\": \"white\", \"startlinecolor\": \"#2a3f5f\"}, \"type\": \"carpet\"}], \"choropleth\": [{\"colorbar\": {\"outlinewidth\": 0, \"ticks\": \"\"}, \"type\": \"choropleth\"}], \"contour\": [{\"colorbar\": {\"outlinewidth\": 0, \"ticks\": \"\"}, \"colorscale\": [[0.0, \"#0d0887\"], [0.1111111111111111, \"#46039f\"], [0.2222222222222222, \"#7201a8\"], [0.3333333333333333, \"#9c179e\"], [0.4444444444444444, \"#bd3786\"], [0.5555555555555556, \"#d8576b\"], [0.6666666666666666, \"#ed7953\"], [0.7777777777777778, \"#fb9f3a\"], [0.8888888888888888, \"#fdca26\"], [1.0, \"#f0f921\"]], \"type\": \"contour\"}], \"contourcarpet\": [{\"colorbar\": {\"outlinewidth\": 0, \"ticks\": \"\"}, \"type\": \"contourcarpet\"}], \"heatmap\": [{\"colorbar\": {\"outlinewidth\": 0, \"ticks\": \"\"}, \"colorscale\": [[0.0, \"#0d0887\"], [0.1111111111111111, \"#46039f\"], [0.2222222222222222, \"#7201a8\"], [0.3333333333333333, \"#9c179e\"], [0.4444444444444444, \"#bd3786\"], [0.5555555555555556, \"#d8576b\"], [0.6666666666666666, \"#ed7953\"], [0.7777777777777778, \"#fb9f3a\"], [0.8888888888888888, \"#fdca26\"], [1.0, \"#f0f921\"]], \"type\": \"heatmap\"}], \"heatmapgl\": [{\"colorbar\": {\"outlinewidth\": 0, \"ticks\": \"\"}, \"colorscale\": [[0.0, \"#0d0887\"], [0.1111111111111111, \"#46039f\"], [0.2222222222222222, \"#7201a8\"], [0.3333333333333333, \"#9c179e\"], [0.4444444444444444, \"#bd3786\"], [0.5555555555555556, \"#d8576b\"], [0.6666666666666666, \"#ed7953\"], [0.7777777777777778, \"#fb9f3a\"], [0.8888888888888888, \"#fdca26\"], [1.0, \"#f0f921\"]], \"type\": \"heatmapgl\"}], \"histogram\": [{\"marker\": {\"colorbar\": {\"outlinewidth\": 0, \"ticks\": \"\"}}, \"type\": \"histogram\"}], \"histogram2d\": [{\"colorbar\": {\"outlinewidth\": 0, \"ticks\": \"\"}, \"colorscale\": [[0.0, \"#0d0887\"], [0.1111111111111111, \"#46039f\"], [0.2222222222222222, \"#7201a8\"], [0.3333333333333333, \"#9c179e\"], [0.4444444444444444, \"#bd3786\"], [0.5555555555555556, \"#d8576b\"], [0.6666666666666666, \"#ed7953\"], [0.7777777777777778, \"#fb9f3a\"], [0.8888888888888888, \"#fdca26\"], [1.0, \"#f0f921\"]], \"type\": \"histogram2d\"}], \"histogram2dcontour\": [{\"colorbar\": {\"outlinewidth\": 0, \"ticks\": \"\"}, \"colorscale\": [[0.0, \"#0d0887\"], [0.1111111111111111, \"#46039f\"], [0.2222222222222222, \"#7201a8\"], [0.3333333333333333, \"#9c179e\"], [0.4444444444444444, \"#bd3786\"], [0.5555555555555556, \"#d8576b\"], [0.6666666666666666, \"#ed7953\"], [0.7777777777777778, \"#fb9f3a\"], [0.8888888888888888, \"#fdca26\"], [1.0, \"#f0f921\"]], \"type\": \"histogram2dcontour\"}], \"mesh3d\": [{\"colorbar\": {\"outlinewidth\": 0, \"ticks\": \"\"}, \"type\": \"mesh3d\"}], \"parcoords\": [{\"line\": {\"colorbar\": {\"outlinewidth\": 0, \"ticks\": \"\"}}, \"type\": \"parcoords\"}], \"pie\": [{\"automargin\": true, \"type\": \"pie\"}], \"scatter\": [{\"marker\": {\"colorbar\": {\"outlinewidth\": 0, \"ticks\": \"\"}}, \"type\": \"scatter\"}], \"scatter3d\": [{\"line\": {\"colorbar\": {\"outlinewidth\": 0, \"ticks\": \"\"}}, \"marker\": {\"colorbar\": {\"outlinewidth\": 0, \"ticks\": \"\"}}, \"type\": \"scatter3d\"}], \"scattercarpet\": [{\"marker\": {\"colorbar\": {\"outlinewidth\": 0, \"ticks\": \"\"}}, \"type\": \"scattercarpet\"}], \"scattergeo\": [{\"marker\": {\"colorbar\": {\"outlinewidth\": 0, \"ticks\": \"\"}}, \"type\": \"scattergeo\"}], \"scattergl\": [{\"marker\": {\"colorbar\": {\"outlinewidth\": 0, \"ticks\": \"\"}}, \"type\": \"scattergl\"}], \"scattermapbox\": [{\"marker\": {\"colorbar\": {\"outlinewidth\": 0, \"ticks\": \"\"}}, \"type\": \"scattermapbox\"}], \"scatterpolar\": [{\"marker\": {\"colorbar\": {\"outlinewidth\": 0, \"ticks\": \"\"}}, \"type\": \"scatterpolar\"}], \"scatterpolargl\": [{\"marker\": {\"colorbar\": {\"outlinewidth\": 0, \"ticks\": \"\"}}, \"type\": \"scatterpolargl\"}], \"scatterternary\": [{\"marker\": {\"colorbar\": {\"outlinewidth\": 0, \"ticks\": \"\"}}, \"type\": \"scatterternary\"}], \"surface\": [{\"colorbar\": {\"outlinewidth\": 0, \"ticks\": \"\"}, \"colorscale\": [[0.0, \"#0d0887\"], [0.1111111111111111, \"#46039f\"], [0.2222222222222222, \"#7201a8\"], [0.3333333333333333, \"#9c179e\"], [0.4444444444444444, \"#bd3786\"], [0.5555555555555556, \"#d8576b\"], [0.6666666666666666, \"#ed7953\"], [0.7777777777777778, \"#fb9f3a\"], [0.8888888888888888, \"#fdca26\"], [1.0, \"#f0f921\"]], \"type\": \"surface\"}], \"table\": [{\"cells\": {\"fill\": {\"color\": \"#EBF0F8\"}, \"line\": {\"color\": \"white\"}}, \"header\": {\"fill\": {\"color\": \"#C8D4E3\"}, \"line\": {\"color\": \"white\"}}, \"type\": \"table\"}]}, \"layout\": {\"annotationdefaults\": {\"arrowcolor\": \"#2a3f5f\", \"arrowhead\": 0, \"arrowwidth\": 1}, \"coloraxis\": {\"colorbar\": {\"outlinewidth\": 0, \"ticks\": \"\"}}, \"colorscale\": {\"diverging\": [[0, \"#8e0152\"], [0.1, \"#c51b7d\"], [0.2, \"#de77ae\"], [0.3, \"#f1b6da\"], [0.4, \"#fde0ef\"], [0.5, \"#f7f7f7\"], [0.6, \"#e6f5d0\"], [0.7, \"#b8e186\"], [0.8, \"#7fbc41\"], [0.9, \"#4d9221\"], [1, \"#276419\"]], \"sequential\": [[0.0, \"#0d0887\"], [0.1111111111111111, \"#46039f\"], [0.2222222222222222, \"#7201a8\"], [0.3333333333333333, \"#9c179e\"], [0.4444444444444444, \"#bd3786\"], [0.5555555555555556, \"#d8576b\"], [0.6666666666666666, \"#ed7953\"], [0.7777777777777778, \"#fb9f3a\"], [0.8888888888888888, \"#fdca26\"], [1.0, \"#f0f921\"]], \"sequentialminus\": [[0.0, \"#0d0887\"], [0.1111111111111111, \"#46039f\"], [0.2222222222222222, \"#7201a8\"], [0.3333333333333333, \"#9c179e\"], [0.4444444444444444, \"#bd3786\"], [0.5555555555555556, \"#d8576b\"], [0.6666666666666666, \"#ed7953\"], [0.7777777777777778, \"#fb9f3a\"], [0.8888888888888888, \"#fdca26\"], [1.0, \"#f0f921\"]]}, \"colorway\": [\"#636efa\", \"#EF553B\", \"#00cc96\", \"#ab63fa\", \"#FFA15A\", \"#19d3f3\", \"#FF6692\", \"#B6E880\", \"#FF97FF\", \"#FECB52\"], \"font\": {\"color\": \"#2a3f5f\"}, \"geo\": {\"bgcolor\": \"white\", \"lakecolor\": \"white\", \"landcolor\": \"#E5ECF6\", \"showlakes\": true, \"showland\": true, \"subunitcolor\": \"white\"}, \"hoverlabel\": {\"align\": \"left\"}, \"hovermode\": \"closest\", \"mapbox\": {\"style\": \"light\"}, \"paper_bgcolor\": \"white\", \"plot_bgcolor\": \"#E5ECF6\", \"polar\": {\"angularaxis\": {\"gridcolor\": \"white\", \"linecolor\": \"white\", \"ticks\": \"\"}, \"bgcolor\": \"#E5ECF6\", \"radialaxis\": {\"gridcolor\": \"white\", \"linecolor\": \"white\", \"ticks\": \"\"}}, \"scene\": {\"xaxis\": {\"backgroundcolor\": \"#E5ECF6\", \"gridcolor\": \"white\", \"gridwidth\": 2, \"linecolor\": \"white\", \"showbackground\": true, \"ticks\": \"\", \"zerolinecolor\": \"white\"}, \"yaxis\": {\"backgroundcolor\": \"#E5ECF6\", \"gridcolor\": \"white\", \"gridwidth\": 2, \"linecolor\": \"white\", \"showbackground\": true, \"ticks\": \"\", \"zerolinecolor\": \"white\"}, \"zaxis\": {\"backgroundcolor\": \"#E5ECF6\", \"gridcolor\": \"white\", \"gridwidth\": 2, \"linecolor\": \"white\", \"showbackground\": true, \"ticks\": \"\", \"zerolinecolor\": \"white\"}}, \"shapedefaults\": {\"line\": {\"color\": \"#2a3f5f\"}}, \"ternary\": {\"aaxis\": {\"gridcolor\": \"white\", \"linecolor\": \"white\", \"ticks\": \"\"}, \"baxis\": {\"gridcolor\": \"white\", \"linecolor\": \"white\", \"ticks\": \"\"}, \"bgcolor\": \"#E5ECF6\", \"caxis\": {\"gridcolor\": \"white\", \"linecolor\": \"white\", \"ticks\": \"\"}}, \"title\": {\"x\": 0.05}, \"xaxis\": {\"automargin\": true, \"gridcolor\": \"white\", \"linecolor\": \"white\", \"ticks\": \"\", \"title\": {\"standoff\": 15}, \"zerolinecolor\": \"white\", \"zerolinewidth\": 2}, \"yaxis\": {\"automargin\": true, \"gridcolor\": \"white\", \"linecolor\": \"white\", \"ticks\": \"\", \"title\": {\"standoff\": 15}, \"zerolinecolor\": \"white\", \"zerolinewidth\": 2}}}, \"title\": {\"text\": \"Most Money Spent per Month\"}, \"xaxis\": {\"anchor\": \"y\", \"domain\": [0.0, 1.0], \"title\": {\"text\": \"Category\"}}, \"yaxis\": {\"anchor\": \"x\", \"domain\": [0.0, 1.0], \"title\": {\"text\": \"Sum of Items (USD)\"}}},\n",
       "                        {\"responsive\": true}\n",
       "                    ).then(function(){\n",
       "                            \n",
       "var gd = document.getElementById('95b2eae6-3964-4348-a77f-0c935c663179');\n",
       "var x = new MutationObserver(function (mutations, observer) {{\n",
       "        var display = window.getComputedStyle(gd).display;\n",
       "        if (!display || display === 'none') {{\n",
       "            console.log([gd, 'removed!']);\n",
       "            Plotly.purge(gd);\n",
       "            observer.disconnect();\n",
       "        }}\n",
       "}});\n",
       "\n",
       "// Listen for the removal of the full notebook cells\n",
       "var notebookContainer = gd.closest('#notebook-container');\n",
       "if (notebookContainer) {{\n",
       "    x.observe(notebookContainer, {childList: true});\n",
       "}}\n",
       "\n",
       "// Listen for the clearing of the current output cell\n",
       "var outputEl = gd.closest('.output');\n",
       "if (outputEl) {{\n",
       "    x.observe(outputEl, {childList: true});\n",
       "}}\n",
       "\n",
       "                        })\n",
       "                };\n",
       "                });\n",
       "            </script>\n",
       "        </div>"
      ]
     },
     "metadata": {},
     "output_type": "display_data"
    },
    {
     "name": "stdout",
     "output_type": "stream",
     "text": [
      "MonthName\n",
      "December     724.87\n",
      "November     607.19\n",
      "October      633.35\n",
      "September    657.84\n",
      "Name: Debit, dtype: float64\n"
     ]
    },
    {
     "data": {
      "application/vnd.plotly.v1+json": {
       "config": {
        "plotlyServerURL": "https://plot.ly"
       },
       "data": [
        {
         "alignmentgroup": "True",
         "hoverlabel": {
          "namelength": 0
         },
         "hovertemplate": "Category=%{x}<br>Sum of Items (USD)=%{y}",
         "legendgroup": "",
         "marker": {
          "color": "#636efa"
         },
         "name": "",
         "offsetgroup": "",
         "orientation": "v",
         "showlegend": false,
         "textposition": "auto",
         "type": "bar",
         "x": [
          "December",
          "November",
          "October",
          "September"
         ],
         "xaxis": "x",
         "y": [
          724.8699999999999,
          607.19,
          633.3499999999998,
          657.84
         ],
         "yaxis": "y"
        }
       ],
       "layout": {
        "barmode": "relative",
        "legend": {
         "tracegroupgap": 0
        },
        "template": {
         "data": {
          "bar": [
           {
            "error_x": {
             "color": "#2a3f5f"
            },
            "error_y": {
             "color": "#2a3f5f"
            },
            "marker": {
             "line": {
              "color": "#E5ECF6",
              "width": 0.5
             }
            },
            "type": "bar"
           }
          ],
          "barpolar": [
           {
            "marker": {
             "line": {
              "color": "#E5ECF6",
              "width": 0.5
             }
            },
            "type": "barpolar"
           }
          ],
          "carpet": [
           {
            "aaxis": {
             "endlinecolor": "#2a3f5f",
             "gridcolor": "white",
             "linecolor": "white",
             "minorgridcolor": "white",
             "startlinecolor": "#2a3f5f"
            },
            "baxis": {
             "endlinecolor": "#2a3f5f",
             "gridcolor": "white",
             "linecolor": "white",
             "minorgridcolor": "white",
             "startlinecolor": "#2a3f5f"
            },
            "type": "carpet"
           }
          ],
          "choropleth": [
           {
            "colorbar": {
             "outlinewidth": 0,
             "ticks": ""
            },
            "type": "choropleth"
           }
          ],
          "contour": [
           {
            "colorbar": {
             "outlinewidth": 0,
             "ticks": ""
            },
            "colorscale": [
             [
              0,
              "#0d0887"
             ],
             [
              0.1111111111111111,
              "#46039f"
             ],
             [
              0.2222222222222222,
              "#7201a8"
             ],
             [
              0.3333333333333333,
              "#9c179e"
             ],
             [
              0.4444444444444444,
              "#bd3786"
             ],
             [
              0.5555555555555556,
              "#d8576b"
             ],
             [
              0.6666666666666666,
              "#ed7953"
             ],
             [
              0.7777777777777778,
              "#fb9f3a"
             ],
             [
              0.8888888888888888,
              "#fdca26"
             ],
             [
              1,
              "#f0f921"
             ]
            ],
            "type": "contour"
           }
          ],
          "contourcarpet": [
           {
            "colorbar": {
             "outlinewidth": 0,
             "ticks": ""
            },
            "type": "contourcarpet"
           }
          ],
          "heatmap": [
           {
            "colorbar": {
             "outlinewidth": 0,
             "ticks": ""
            },
            "colorscale": [
             [
              0,
              "#0d0887"
             ],
             [
              0.1111111111111111,
              "#46039f"
             ],
             [
              0.2222222222222222,
              "#7201a8"
             ],
             [
              0.3333333333333333,
              "#9c179e"
             ],
             [
              0.4444444444444444,
              "#bd3786"
             ],
             [
              0.5555555555555556,
              "#d8576b"
             ],
             [
              0.6666666666666666,
              "#ed7953"
             ],
             [
              0.7777777777777778,
              "#fb9f3a"
             ],
             [
              0.8888888888888888,
              "#fdca26"
             ],
             [
              1,
              "#f0f921"
             ]
            ],
            "type": "heatmap"
           }
          ],
          "heatmapgl": [
           {
            "colorbar": {
             "outlinewidth": 0,
             "ticks": ""
            },
            "colorscale": [
             [
              0,
              "#0d0887"
             ],
             [
              0.1111111111111111,
              "#46039f"
             ],
             [
              0.2222222222222222,
              "#7201a8"
             ],
             [
              0.3333333333333333,
              "#9c179e"
             ],
             [
              0.4444444444444444,
              "#bd3786"
             ],
             [
              0.5555555555555556,
              "#d8576b"
             ],
             [
              0.6666666666666666,
              "#ed7953"
             ],
             [
              0.7777777777777778,
              "#fb9f3a"
             ],
             [
              0.8888888888888888,
              "#fdca26"
             ],
             [
              1,
              "#f0f921"
             ]
            ],
            "type": "heatmapgl"
           }
          ],
          "histogram": [
           {
            "marker": {
             "colorbar": {
              "outlinewidth": 0,
              "ticks": ""
             }
            },
            "type": "histogram"
           }
          ],
          "histogram2d": [
           {
            "colorbar": {
             "outlinewidth": 0,
             "ticks": ""
            },
            "colorscale": [
             [
              0,
              "#0d0887"
             ],
             [
              0.1111111111111111,
              "#46039f"
             ],
             [
              0.2222222222222222,
              "#7201a8"
             ],
             [
              0.3333333333333333,
              "#9c179e"
             ],
             [
              0.4444444444444444,
              "#bd3786"
             ],
             [
              0.5555555555555556,
              "#d8576b"
             ],
             [
              0.6666666666666666,
              "#ed7953"
             ],
             [
              0.7777777777777778,
              "#fb9f3a"
             ],
             [
              0.8888888888888888,
              "#fdca26"
             ],
             [
              1,
              "#f0f921"
             ]
            ],
            "type": "histogram2d"
           }
          ],
          "histogram2dcontour": [
           {
            "colorbar": {
             "outlinewidth": 0,
             "ticks": ""
            },
            "colorscale": [
             [
              0,
              "#0d0887"
             ],
             [
              0.1111111111111111,
              "#46039f"
             ],
             [
              0.2222222222222222,
              "#7201a8"
             ],
             [
              0.3333333333333333,
              "#9c179e"
             ],
             [
              0.4444444444444444,
              "#bd3786"
             ],
             [
              0.5555555555555556,
              "#d8576b"
             ],
             [
              0.6666666666666666,
              "#ed7953"
             ],
             [
              0.7777777777777778,
              "#fb9f3a"
             ],
             [
              0.8888888888888888,
              "#fdca26"
             ],
             [
              1,
              "#f0f921"
             ]
            ],
            "type": "histogram2dcontour"
           }
          ],
          "mesh3d": [
           {
            "colorbar": {
             "outlinewidth": 0,
             "ticks": ""
            },
            "type": "mesh3d"
           }
          ],
          "parcoords": [
           {
            "line": {
             "colorbar": {
              "outlinewidth": 0,
              "ticks": ""
             }
            },
            "type": "parcoords"
           }
          ],
          "pie": [
           {
            "automargin": true,
            "type": "pie"
           }
          ],
          "scatter": [
           {
            "marker": {
             "colorbar": {
              "outlinewidth": 0,
              "ticks": ""
             }
            },
            "type": "scatter"
           }
          ],
          "scatter3d": [
           {
            "line": {
             "colorbar": {
              "outlinewidth": 0,
              "ticks": ""
             }
            },
            "marker": {
             "colorbar": {
              "outlinewidth": 0,
              "ticks": ""
             }
            },
            "type": "scatter3d"
           }
          ],
          "scattercarpet": [
           {
            "marker": {
             "colorbar": {
              "outlinewidth": 0,
              "ticks": ""
             }
            },
            "type": "scattercarpet"
           }
          ],
          "scattergeo": [
           {
            "marker": {
             "colorbar": {
              "outlinewidth": 0,
              "ticks": ""
             }
            },
            "type": "scattergeo"
           }
          ],
          "scattergl": [
           {
            "marker": {
             "colorbar": {
              "outlinewidth": 0,
              "ticks": ""
             }
            },
            "type": "scattergl"
           }
          ],
          "scattermapbox": [
           {
            "marker": {
             "colorbar": {
              "outlinewidth": 0,
              "ticks": ""
             }
            },
            "type": "scattermapbox"
           }
          ],
          "scatterpolar": [
           {
            "marker": {
             "colorbar": {
              "outlinewidth": 0,
              "ticks": ""
             }
            },
            "type": "scatterpolar"
           }
          ],
          "scatterpolargl": [
           {
            "marker": {
             "colorbar": {
              "outlinewidth": 0,
              "ticks": ""
             }
            },
            "type": "scatterpolargl"
           }
          ],
          "scatterternary": [
           {
            "marker": {
             "colorbar": {
              "outlinewidth": 0,
              "ticks": ""
             }
            },
            "type": "scatterternary"
           }
          ],
          "surface": [
           {
            "colorbar": {
             "outlinewidth": 0,
             "ticks": ""
            },
            "colorscale": [
             [
              0,
              "#0d0887"
             ],
             [
              0.1111111111111111,
              "#46039f"
             ],
             [
              0.2222222222222222,
              "#7201a8"
             ],
             [
              0.3333333333333333,
              "#9c179e"
             ],
             [
              0.4444444444444444,
              "#bd3786"
             ],
             [
              0.5555555555555556,
              "#d8576b"
             ],
             [
              0.6666666666666666,
              "#ed7953"
             ],
             [
              0.7777777777777778,
              "#fb9f3a"
             ],
             [
              0.8888888888888888,
              "#fdca26"
             ],
             [
              1,
              "#f0f921"
             ]
            ],
            "type": "surface"
           }
          ],
          "table": [
           {
            "cells": {
             "fill": {
              "color": "#EBF0F8"
             },
             "line": {
              "color": "white"
             }
            },
            "header": {
             "fill": {
              "color": "#C8D4E3"
             },
             "line": {
              "color": "white"
             }
            },
            "type": "table"
           }
          ]
         },
         "layout": {
          "annotationdefaults": {
           "arrowcolor": "#2a3f5f",
           "arrowhead": 0,
           "arrowwidth": 1
          },
          "coloraxis": {
           "colorbar": {
            "outlinewidth": 0,
            "ticks": ""
           }
          },
          "colorscale": {
           "diverging": [
            [
             0,
             "#8e0152"
            ],
            [
             0.1,
             "#c51b7d"
            ],
            [
             0.2,
             "#de77ae"
            ],
            [
             0.3,
             "#f1b6da"
            ],
            [
             0.4,
             "#fde0ef"
            ],
            [
             0.5,
             "#f7f7f7"
            ],
            [
             0.6,
             "#e6f5d0"
            ],
            [
             0.7,
             "#b8e186"
            ],
            [
             0.8,
             "#7fbc41"
            ],
            [
             0.9,
             "#4d9221"
            ],
            [
             1,
             "#276419"
            ]
           ],
           "sequential": [
            [
             0,
             "#0d0887"
            ],
            [
             0.1111111111111111,
             "#46039f"
            ],
            [
             0.2222222222222222,
             "#7201a8"
            ],
            [
             0.3333333333333333,
             "#9c179e"
            ],
            [
             0.4444444444444444,
             "#bd3786"
            ],
            [
             0.5555555555555556,
             "#d8576b"
            ],
            [
             0.6666666666666666,
             "#ed7953"
            ],
            [
             0.7777777777777778,
             "#fb9f3a"
            ],
            [
             0.8888888888888888,
             "#fdca26"
            ],
            [
             1,
             "#f0f921"
            ]
           ],
           "sequentialminus": [
            [
             0,
             "#0d0887"
            ],
            [
             0.1111111111111111,
             "#46039f"
            ],
            [
             0.2222222222222222,
             "#7201a8"
            ],
            [
             0.3333333333333333,
             "#9c179e"
            ],
            [
             0.4444444444444444,
             "#bd3786"
            ],
            [
             0.5555555555555556,
             "#d8576b"
            ],
            [
             0.6666666666666666,
             "#ed7953"
            ],
            [
             0.7777777777777778,
             "#fb9f3a"
            ],
            [
             0.8888888888888888,
             "#fdca26"
            ],
            [
             1,
             "#f0f921"
            ]
           ]
          },
          "colorway": [
           "#636efa",
           "#EF553B",
           "#00cc96",
           "#ab63fa",
           "#FFA15A",
           "#19d3f3",
           "#FF6692",
           "#B6E880",
           "#FF97FF",
           "#FECB52"
          ],
          "font": {
           "color": "#2a3f5f"
          },
          "geo": {
           "bgcolor": "white",
           "lakecolor": "white",
           "landcolor": "#E5ECF6",
           "showlakes": true,
           "showland": true,
           "subunitcolor": "white"
          },
          "hoverlabel": {
           "align": "left"
          },
          "hovermode": "closest",
          "mapbox": {
           "style": "light"
          },
          "paper_bgcolor": "white",
          "plot_bgcolor": "#E5ECF6",
          "polar": {
           "angularaxis": {
            "gridcolor": "white",
            "linecolor": "white",
            "ticks": ""
           },
           "bgcolor": "#E5ECF6",
           "radialaxis": {
            "gridcolor": "white",
            "linecolor": "white",
            "ticks": ""
           }
          },
          "scene": {
           "xaxis": {
            "backgroundcolor": "#E5ECF6",
            "gridcolor": "white",
            "gridwidth": 2,
            "linecolor": "white",
            "showbackground": true,
            "ticks": "",
            "zerolinecolor": "white"
           },
           "yaxis": {
            "backgroundcolor": "#E5ECF6",
            "gridcolor": "white",
            "gridwidth": 2,
            "linecolor": "white",
            "showbackground": true,
            "ticks": "",
            "zerolinecolor": "white"
           },
           "zaxis": {
            "backgroundcolor": "#E5ECF6",
            "gridcolor": "white",
            "gridwidth": 2,
            "linecolor": "white",
            "showbackground": true,
            "ticks": "",
            "zerolinecolor": "white"
           }
          },
          "shapedefaults": {
           "line": {
            "color": "#2a3f5f"
           }
          },
          "ternary": {
           "aaxis": {
            "gridcolor": "white",
            "linecolor": "white",
            "ticks": ""
           },
           "baxis": {
            "gridcolor": "white",
            "linecolor": "white",
            "ticks": ""
           },
           "bgcolor": "#E5ECF6",
           "caxis": {
            "gridcolor": "white",
            "linecolor": "white",
            "ticks": ""
           }
          },
          "title": {
           "x": 0.05
          },
          "xaxis": {
           "automargin": true,
           "gridcolor": "white",
           "linecolor": "white",
           "ticks": "",
           "title": {
            "standoff": 15
           },
           "zerolinecolor": "white",
           "zerolinewidth": 2
          },
          "yaxis": {
           "automargin": true,
           "gridcolor": "white",
           "linecolor": "white",
           "ticks": "",
           "title": {
            "standoff": 15
           },
           "zerolinecolor": "white",
           "zerolinewidth": 2
          }
         }
        },
        "title": {
         "text": "Money Spent per Month"
        },
        "xaxis": {
         "anchor": "y",
         "domain": [
          0,
          1
         ],
         "title": {
          "text": "Category"
         }
        },
        "yaxis": {
         "anchor": "x",
         "domain": [
          0,
          1
         ],
         "title": {
          "text": "Sum of Items (USD)"
         }
        }
       }
      },
      "text/html": [
       "<div>\n",
       "        \n",
       "        \n",
       "            <div id=\"4c578bc7-c6fc-445d-88fd-5424bdff5a7c\" class=\"plotly-graph-div\" style=\"height:525px; width:100%;\"></div>\n",
       "            <script type=\"text/javascript\">\n",
       "                require([\"plotly\"], function(Plotly) {\n",
       "                    window.PLOTLYENV=window.PLOTLYENV || {};\n",
       "                    \n",
       "                if (document.getElementById(\"4c578bc7-c6fc-445d-88fd-5424bdff5a7c\")) {\n",
       "                    Plotly.newPlot(\n",
       "                        '4c578bc7-c6fc-445d-88fd-5424bdff5a7c',\n",
       "                        [{\"alignmentgroup\": \"True\", \"hoverlabel\": {\"namelength\": 0}, \"hovertemplate\": \"Category=%{x}<br>Sum of Items (USD)=%{y}\", \"legendgroup\": \"\", \"marker\": {\"color\": \"#636efa\"}, \"name\": \"\", \"offsetgroup\": \"\", \"orientation\": \"v\", \"showlegend\": false, \"textposition\": \"auto\", \"type\": \"bar\", \"x\": [\"December\", \"November\", \"October\", \"September\"], \"xaxis\": \"x\", \"y\": [724.8699999999999, 607.19, 633.3499999999998, 657.84], \"yaxis\": \"y\"}],\n",
       "                        {\"barmode\": \"relative\", \"legend\": {\"tracegroupgap\": 0}, \"template\": {\"data\": {\"bar\": [{\"error_x\": {\"color\": \"#2a3f5f\"}, \"error_y\": {\"color\": \"#2a3f5f\"}, \"marker\": {\"line\": {\"color\": \"#E5ECF6\", \"width\": 0.5}}, \"type\": \"bar\"}], \"barpolar\": [{\"marker\": {\"line\": {\"color\": \"#E5ECF6\", \"width\": 0.5}}, \"type\": \"barpolar\"}], \"carpet\": [{\"aaxis\": {\"endlinecolor\": \"#2a3f5f\", \"gridcolor\": \"white\", \"linecolor\": \"white\", \"minorgridcolor\": \"white\", \"startlinecolor\": \"#2a3f5f\"}, \"baxis\": {\"endlinecolor\": \"#2a3f5f\", \"gridcolor\": \"white\", \"linecolor\": \"white\", \"minorgridcolor\": \"white\", \"startlinecolor\": \"#2a3f5f\"}, \"type\": \"carpet\"}], \"choropleth\": [{\"colorbar\": {\"outlinewidth\": 0, \"ticks\": \"\"}, \"type\": \"choropleth\"}], \"contour\": [{\"colorbar\": {\"outlinewidth\": 0, \"ticks\": \"\"}, \"colorscale\": [[0.0, \"#0d0887\"], [0.1111111111111111, \"#46039f\"], [0.2222222222222222, \"#7201a8\"], [0.3333333333333333, \"#9c179e\"], [0.4444444444444444, \"#bd3786\"], [0.5555555555555556, \"#d8576b\"], [0.6666666666666666, \"#ed7953\"], [0.7777777777777778, \"#fb9f3a\"], [0.8888888888888888, \"#fdca26\"], [1.0, \"#f0f921\"]], \"type\": \"contour\"}], \"contourcarpet\": [{\"colorbar\": {\"outlinewidth\": 0, \"ticks\": \"\"}, \"type\": \"contourcarpet\"}], \"heatmap\": [{\"colorbar\": {\"outlinewidth\": 0, \"ticks\": \"\"}, \"colorscale\": [[0.0, \"#0d0887\"], [0.1111111111111111, \"#46039f\"], [0.2222222222222222, \"#7201a8\"], [0.3333333333333333, \"#9c179e\"], [0.4444444444444444, \"#bd3786\"], [0.5555555555555556, \"#d8576b\"], [0.6666666666666666, \"#ed7953\"], [0.7777777777777778, \"#fb9f3a\"], [0.8888888888888888, \"#fdca26\"], [1.0, \"#f0f921\"]], \"type\": \"heatmap\"}], \"heatmapgl\": [{\"colorbar\": {\"outlinewidth\": 0, \"ticks\": \"\"}, \"colorscale\": [[0.0, \"#0d0887\"], [0.1111111111111111, \"#46039f\"], [0.2222222222222222, \"#7201a8\"], [0.3333333333333333, \"#9c179e\"], [0.4444444444444444, \"#bd3786\"], [0.5555555555555556, \"#d8576b\"], [0.6666666666666666, \"#ed7953\"], [0.7777777777777778, \"#fb9f3a\"], [0.8888888888888888, \"#fdca26\"], [1.0, \"#f0f921\"]], \"type\": \"heatmapgl\"}], \"histogram\": [{\"marker\": {\"colorbar\": {\"outlinewidth\": 0, \"ticks\": \"\"}}, \"type\": \"histogram\"}], \"histogram2d\": [{\"colorbar\": {\"outlinewidth\": 0, \"ticks\": \"\"}, \"colorscale\": [[0.0, \"#0d0887\"], [0.1111111111111111, \"#46039f\"], [0.2222222222222222, \"#7201a8\"], [0.3333333333333333, \"#9c179e\"], [0.4444444444444444, \"#bd3786\"], [0.5555555555555556, \"#d8576b\"], [0.6666666666666666, \"#ed7953\"], [0.7777777777777778, \"#fb9f3a\"], [0.8888888888888888, \"#fdca26\"], [1.0, \"#f0f921\"]], \"type\": \"histogram2d\"}], \"histogram2dcontour\": [{\"colorbar\": {\"outlinewidth\": 0, \"ticks\": \"\"}, \"colorscale\": [[0.0, \"#0d0887\"], [0.1111111111111111, \"#46039f\"], [0.2222222222222222, \"#7201a8\"], [0.3333333333333333, \"#9c179e\"], [0.4444444444444444, \"#bd3786\"], [0.5555555555555556, \"#d8576b\"], [0.6666666666666666, \"#ed7953\"], [0.7777777777777778, \"#fb9f3a\"], [0.8888888888888888, \"#fdca26\"], [1.0, \"#f0f921\"]], \"type\": \"histogram2dcontour\"}], \"mesh3d\": [{\"colorbar\": {\"outlinewidth\": 0, \"ticks\": \"\"}, \"type\": \"mesh3d\"}], \"parcoords\": [{\"line\": {\"colorbar\": {\"outlinewidth\": 0, \"ticks\": \"\"}}, \"type\": \"parcoords\"}], \"pie\": [{\"automargin\": true, \"type\": \"pie\"}], \"scatter\": [{\"marker\": {\"colorbar\": {\"outlinewidth\": 0, \"ticks\": \"\"}}, \"type\": \"scatter\"}], \"scatter3d\": [{\"line\": {\"colorbar\": {\"outlinewidth\": 0, \"ticks\": \"\"}}, \"marker\": {\"colorbar\": {\"outlinewidth\": 0, \"ticks\": \"\"}}, \"type\": \"scatter3d\"}], \"scattercarpet\": [{\"marker\": {\"colorbar\": {\"outlinewidth\": 0, \"ticks\": \"\"}}, \"type\": \"scattercarpet\"}], \"scattergeo\": [{\"marker\": {\"colorbar\": {\"outlinewidth\": 0, \"ticks\": \"\"}}, \"type\": \"scattergeo\"}], \"scattergl\": [{\"marker\": {\"colorbar\": {\"outlinewidth\": 0, \"ticks\": \"\"}}, \"type\": \"scattergl\"}], \"scattermapbox\": [{\"marker\": {\"colorbar\": {\"outlinewidth\": 0, \"ticks\": \"\"}}, \"type\": \"scattermapbox\"}], \"scatterpolar\": [{\"marker\": {\"colorbar\": {\"outlinewidth\": 0, \"ticks\": \"\"}}, \"type\": \"scatterpolar\"}], \"scatterpolargl\": [{\"marker\": {\"colorbar\": {\"outlinewidth\": 0, \"ticks\": \"\"}}, \"type\": \"scatterpolargl\"}], \"scatterternary\": [{\"marker\": {\"colorbar\": {\"outlinewidth\": 0, \"ticks\": \"\"}}, \"type\": \"scatterternary\"}], \"surface\": [{\"colorbar\": {\"outlinewidth\": 0, \"ticks\": \"\"}, \"colorscale\": [[0.0, \"#0d0887\"], [0.1111111111111111, \"#46039f\"], [0.2222222222222222, \"#7201a8\"], [0.3333333333333333, \"#9c179e\"], [0.4444444444444444, \"#bd3786\"], [0.5555555555555556, \"#d8576b\"], [0.6666666666666666, \"#ed7953\"], [0.7777777777777778, \"#fb9f3a\"], [0.8888888888888888, \"#fdca26\"], [1.0, \"#f0f921\"]], \"type\": \"surface\"}], \"table\": [{\"cells\": {\"fill\": {\"color\": \"#EBF0F8\"}, \"line\": {\"color\": \"white\"}}, \"header\": {\"fill\": {\"color\": \"#C8D4E3\"}, \"line\": {\"color\": \"white\"}}, \"type\": \"table\"}]}, \"layout\": {\"annotationdefaults\": {\"arrowcolor\": \"#2a3f5f\", \"arrowhead\": 0, \"arrowwidth\": 1}, \"coloraxis\": {\"colorbar\": {\"outlinewidth\": 0, \"ticks\": \"\"}}, \"colorscale\": {\"diverging\": [[0, \"#8e0152\"], [0.1, \"#c51b7d\"], [0.2, \"#de77ae\"], [0.3, \"#f1b6da\"], [0.4, \"#fde0ef\"], [0.5, \"#f7f7f7\"], [0.6, \"#e6f5d0\"], [0.7, \"#b8e186\"], [0.8, \"#7fbc41\"], [0.9, \"#4d9221\"], [1, \"#276419\"]], \"sequential\": [[0.0, \"#0d0887\"], [0.1111111111111111, \"#46039f\"], [0.2222222222222222, \"#7201a8\"], [0.3333333333333333, \"#9c179e\"], [0.4444444444444444, \"#bd3786\"], [0.5555555555555556, \"#d8576b\"], [0.6666666666666666, \"#ed7953\"], [0.7777777777777778, \"#fb9f3a\"], [0.8888888888888888, \"#fdca26\"], [1.0, \"#f0f921\"]], \"sequentialminus\": [[0.0, \"#0d0887\"], [0.1111111111111111, \"#46039f\"], [0.2222222222222222, \"#7201a8\"], [0.3333333333333333, \"#9c179e\"], [0.4444444444444444, \"#bd3786\"], [0.5555555555555556, \"#d8576b\"], [0.6666666666666666, \"#ed7953\"], [0.7777777777777778, \"#fb9f3a\"], [0.8888888888888888, \"#fdca26\"], [1.0, \"#f0f921\"]]}, \"colorway\": [\"#636efa\", \"#EF553B\", \"#00cc96\", \"#ab63fa\", \"#FFA15A\", \"#19d3f3\", \"#FF6692\", \"#B6E880\", \"#FF97FF\", \"#FECB52\"], \"font\": {\"color\": \"#2a3f5f\"}, \"geo\": {\"bgcolor\": \"white\", \"lakecolor\": \"white\", \"landcolor\": \"#E5ECF6\", \"showlakes\": true, \"showland\": true, \"subunitcolor\": \"white\"}, \"hoverlabel\": {\"align\": \"left\"}, \"hovermode\": \"closest\", \"mapbox\": {\"style\": \"light\"}, \"paper_bgcolor\": \"white\", \"plot_bgcolor\": \"#E5ECF6\", \"polar\": {\"angularaxis\": {\"gridcolor\": \"white\", \"linecolor\": \"white\", \"ticks\": \"\"}, \"bgcolor\": \"#E5ECF6\", \"radialaxis\": {\"gridcolor\": \"white\", \"linecolor\": \"white\", \"ticks\": \"\"}}, \"scene\": {\"xaxis\": {\"backgroundcolor\": \"#E5ECF6\", \"gridcolor\": \"white\", \"gridwidth\": 2, \"linecolor\": \"white\", \"showbackground\": true, \"ticks\": \"\", \"zerolinecolor\": \"white\"}, \"yaxis\": {\"backgroundcolor\": \"#E5ECF6\", \"gridcolor\": \"white\", \"gridwidth\": 2, \"linecolor\": \"white\", \"showbackground\": true, \"ticks\": \"\", \"zerolinecolor\": \"white\"}, \"zaxis\": {\"backgroundcolor\": \"#E5ECF6\", \"gridcolor\": \"white\", \"gridwidth\": 2, \"linecolor\": \"white\", \"showbackground\": true, \"ticks\": \"\", \"zerolinecolor\": \"white\"}}, \"shapedefaults\": {\"line\": {\"color\": \"#2a3f5f\"}}, \"ternary\": {\"aaxis\": {\"gridcolor\": \"white\", \"linecolor\": \"white\", \"ticks\": \"\"}, \"baxis\": {\"gridcolor\": \"white\", \"linecolor\": \"white\", \"ticks\": \"\"}, \"bgcolor\": \"#E5ECF6\", \"caxis\": {\"gridcolor\": \"white\", \"linecolor\": \"white\", \"ticks\": \"\"}}, \"title\": {\"x\": 0.05}, \"xaxis\": {\"automargin\": true, \"gridcolor\": \"white\", \"linecolor\": \"white\", \"ticks\": \"\", \"title\": {\"standoff\": 15}, \"zerolinecolor\": \"white\", \"zerolinewidth\": 2}, \"yaxis\": {\"automargin\": true, \"gridcolor\": \"white\", \"linecolor\": \"white\", \"ticks\": \"\", \"title\": {\"standoff\": 15}, \"zerolinecolor\": \"white\", \"zerolinewidth\": 2}}}, \"title\": {\"text\": \"Money Spent per Month\"}, \"xaxis\": {\"anchor\": \"y\", \"domain\": [0.0, 1.0], \"title\": {\"text\": \"Category\"}}, \"yaxis\": {\"anchor\": \"x\", \"domain\": [0.0, 1.0], \"title\": {\"text\": \"Sum of Items (USD)\"}}},\n",
       "                        {\"responsive\": true}\n",
       "                    ).then(function(){\n",
       "                            \n",
       "var gd = document.getElementById('4c578bc7-c6fc-445d-88fd-5424bdff5a7c');\n",
       "var x = new MutationObserver(function (mutations, observer) {{\n",
       "        var display = window.getComputedStyle(gd).display;\n",
       "        if (!display || display === 'none') {{\n",
       "            console.log([gd, 'removed!']);\n",
       "            Plotly.purge(gd);\n",
       "            observer.disconnect();\n",
       "        }}\n",
       "}});\n",
       "\n",
       "// Listen for the removal of the full notebook cells\n",
       "var notebookContainer = gd.closest('#notebook-container');\n",
       "if (notebookContainer) {{\n",
       "    x.observe(notebookContainer, {childList: true});\n",
       "}}\n",
       "\n",
       "// Listen for the clearing of the current output cell\n",
       "var outputEl = gd.closest('.output');\n",
       "if (outputEl) {{\n",
       "    x.observe(outputEl, {childList: true});\n",
       "}}\n",
       "\n",
       "                        })\n",
       "                };\n",
       "                });\n",
       "            </script>\n",
       "        </div>"
      ]
     },
     "metadata": {},
     "output_type": "display_data"
    },
    {
     "name": "stdout",
     "output_type": "stream",
     "text": [
      "MonthName\n",
      "August       1645.63\n",
      "December     1503.48\n",
      "October      1439.67\n",
      "September    1231.73\n",
      "November      881.51\n",
      "March         727.39\n",
      "July          429.26\n",
      "February      414.13\n",
      "June          309.69\n",
      "January       294.16\n",
      "May           272.21\n",
      "April         242.76\n",
      "Name: Debit, dtype: float64\n"
     ]
    },
    {
     "data": {
      "application/vnd.plotly.v1+json": {
       "config": {
        "plotlyServerURL": "https://plot.ly"
       },
       "data": [
        {
         "alignmentgroup": "True",
         "hoverlabel": {
          "namelength": 0
         },
         "hovertemplate": "Category=%{x}<br>Sum of Items (USD)=%{y}",
         "legendgroup": "",
         "marker": {
          "color": "#636efa"
         },
         "name": "",
         "offsetgroup": "",
         "orientation": "v",
         "showlegend": false,
         "textposition": "auto",
         "type": "bar",
         "x": [
          "August",
          "December",
          "October",
          "September",
          "November",
          "March",
          "July",
          "February",
          "June",
          "January",
          "May",
          "April"
         ],
         "xaxis": "x",
         "y": [
          1645.6299999999999,
          1503.48,
          1439.67,
          1231.73,
          881.51,
          727.3900000000001,
          429.26000000000005,
          414.1299999999998,
          309.69,
          294.15999999999997,
          272.2099999999999,
          242.76
         ],
         "yaxis": "y"
        }
       ],
       "layout": {
        "barmode": "relative",
        "legend": {
         "tracegroupgap": 0
        },
        "template": {
         "data": {
          "bar": [
           {
            "error_x": {
             "color": "#2a3f5f"
            },
            "error_y": {
             "color": "#2a3f5f"
            },
            "marker": {
             "line": {
              "color": "#E5ECF6",
              "width": 0.5
             }
            },
            "type": "bar"
           }
          ],
          "barpolar": [
           {
            "marker": {
             "line": {
              "color": "#E5ECF6",
              "width": 0.5
             }
            },
            "type": "barpolar"
           }
          ],
          "carpet": [
           {
            "aaxis": {
             "endlinecolor": "#2a3f5f",
             "gridcolor": "white",
             "linecolor": "white",
             "minorgridcolor": "white",
             "startlinecolor": "#2a3f5f"
            },
            "baxis": {
             "endlinecolor": "#2a3f5f",
             "gridcolor": "white",
             "linecolor": "white",
             "minorgridcolor": "white",
             "startlinecolor": "#2a3f5f"
            },
            "type": "carpet"
           }
          ],
          "choropleth": [
           {
            "colorbar": {
             "outlinewidth": 0,
             "ticks": ""
            },
            "type": "choropleth"
           }
          ],
          "contour": [
           {
            "colorbar": {
             "outlinewidth": 0,
             "ticks": ""
            },
            "colorscale": [
             [
              0,
              "#0d0887"
             ],
             [
              0.1111111111111111,
              "#46039f"
             ],
             [
              0.2222222222222222,
              "#7201a8"
             ],
             [
              0.3333333333333333,
              "#9c179e"
             ],
             [
              0.4444444444444444,
              "#bd3786"
             ],
             [
              0.5555555555555556,
              "#d8576b"
             ],
             [
              0.6666666666666666,
              "#ed7953"
             ],
             [
              0.7777777777777778,
              "#fb9f3a"
             ],
             [
              0.8888888888888888,
              "#fdca26"
             ],
             [
              1,
              "#f0f921"
             ]
            ],
            "type": "contour"
           }
          ],
          "contourcarpet": [
           {
            "colorbar": {
             "outlinewidth": 0,
             "ticks": ""
            },
            "type": "contourcarpet"
           }
          ],
          "heatmap": [
           {
            "colorbar": {
             "outlinewidth": 0,
             "ticks": ""
            },
            "colorscale": [
             [
              0,
              "#0d0887"
             ],
             [
              0.1111111111111111,
              "#46039f"
             ],
             [
              0.2222222222222222,
              "#7201a8"
             ],
             [
              0.3333333333333333,
              "#9c179e"
             ],
             [
              0.4444444444444444,
              "#bd3786"
             ],
             [
              0.5555555555555556,
              "#d8576b"
             ],
             [
              0.6666666666666666,
              "#ed7953"
             ],
             [
              0.7777777777777778,
              "#fb9f3a"
             ],
             [
              0.8888888888888888,
              "#fdca26"
             ],
             [
              1,
              "#f0f921"
             ]
            ],
            "type": "heatmap"
           }
          ],
          "heatmapgl": [
           {
            "colorbar": {
             "outlinewidth": 0,
             "ticks": ""
            },
            "colorscale": [
             [
              0,
              "#0d0887"
             ],
             [
              0.1111111111111111,
              "#46039f"
             ],
             [
              0.2222222222222222,
              "#7201a8"
             ],
             [
              0.3333333333333333,
              "#9c179e"
             ],
             [
              0.4444444444444444,
              "#bd3786"
             ],
             [
              0.5555555555555556,
              "#d8576b"
             ],
             [
              0.6666666666666666,
              "#ed7953"
             ],
             [
              0.7777777777777778,
              "#fb9f3a"
             ],
             [
              0.8888888888888888,
              "#fdca26"
             ],
             [
              1,
              "#f0f921"
             ]
            ],
            "type": "heatmapgl"
           }
          ],
          "histogram": [
           {
            "marker": {
             "colorbar": {
              "outlinewidth": 0,
              "ticks": ""
             }
            },
            "type": "histogram"
           }
          ],
          "histogram2d": [
           {
            "colorbar": {
             "outlinewidth": 0,
             "ticks": ""
            },
            "colorscale": [
             [
              0,
              "#0d0887"
             ],
             [
              0.1111111111111111,
              "#46039f"
             ],
             [
              0.2222222222222222,
              "#7201a8"
             ],
             [
              0.3333333333333333,
              "#9c179e"
             ],
             [
              0.4444444444444444,
              "#bd3786"
             ],
             [
              0.5555555555555556,
              "#d8576b"
             ],
             [
              0.6666666666666666,
              "#ed7953"
             ],
             [
              0.7777777777777778,
              "#fb9f3a"
             ],
             [
              0.8888888888888888,
              "#fdca26"
             ],
             [
              1,
              "#f0f921"
             ]
            ],
            "type": "histogram2d"
           }
          ],
          "histogram2dcontour": [
           {
            "colorbar": {
             "outlinewidth": 0,
             "ticks": ""
            },
            "colorscale": [
             [
              0,
              "#0d0887"
             ],
             [
              0.1111111111111111,
              "#46039f"
             ],
             [
              0.2222222222222222,
              "#7201a8"
             ],
             [
              0.3333333333333333,
              "#9c179e"
             ],
             [
              0.4444444444444444,
              "#bd3786"
             ],
             [
              0.5555555555555556,
              "#d8576b"
             ],
             [
              0.6666666666666666,
              "#ed7953"
             ],
             [
              0.7777777777777778,
              "#fb9f3a"
             ],
             [
              0.8888888888888888,
              "#fdca26"
             ],
             [
              1,
              "#f0f921"
             ]
            ],
            "type": "histogram2dcontour"
           }
          ],
          "mesh3d": [
           {
            "colorbar": {
             "outlinewidth": 0,
             "ticks": ""
            },
            "type": "mesh3d"
           }
          ],
          "parcoords": [
           {
            "line": {
             "colorbar": {
              "outlinewidth": 0,
              "ticks": ""
             }
            },
            "type": "parcoords"
           }
          ],
          "pie": [
           {
            "automargin": true,
            "type": "pie"
           }
          ],
          "scatter": [
           {
            "marker": {
             "colorbar": {
              "outlinewidth": 0,
              "ticks": ""
             }
            },
            "type": "scatter"
           }
          ],
          "scatter3d": [
           {
            "line": {
             "colorbar": {
              "outlinewidth": 0,
              "ticks": ""
             }
            },
            "marker": {
             "colorbar": {
              "outlinewidth": 0,
              "ticks": ""
             }
            },
            "type": "scatter3d"
           }
          ],
          "scattercarpet": [
           {
            "marker": {
             "colorbar": {
              "outlinewidth": 0,
              "ticks": ""
             }
            },
            "type": "scattercarpet"
           }
          ],
          "scattergeo": [
           {
            "marker": {
             "colorbar": {
              "outlinewidth": 0,
              "ticks": ""
             }
            },
            "type": "scattergeo"
           }
          ],
          "scattergl": [
           {
            "marker": {
             "colorbar": {
              "outlinewidth": 0,
              "ticks": ""
             }
            },
            "type": "scattergl"
           }
          ],
          "scattermapbox": [
           {
            "marker": {
             "colorbar": {
              "outlinewidth": 0,
              "ticks": ""
             }
            },
            "type": "scattermapbox"
           }
          ],
          "scatterpolar": [
           {
            "marker": {
             "colorbar": {
              "outlinewidth": 0,
              "ticks": ""
             }
            },
            "type": "scatterpolar"
           }
          ],
          "scatterpolargl": [
           {
            "marker": {
             "colorbar": {
              "outlinewidth": 0,
              "ticks": ""
             }
            },
            "type": "scatterpolargl"
           }
          ],
          "scatterternary": [
           {
            "marker": {
             "colorbar": {
              "outlinewidth": 0,
              "ticks": ""
             }
            },
            "type": "scatterternary"
           }
          ],
          "surface": [
           {
            "colorbar": {
             "outlinewidth": 0,
             "ticks": ""
            },
            "colorscale": [
             [
              0,
              "#0d0887"
             ],
             [
              0.1111111111111111,
              "#46039f"
             ],
             [
              0.2222222222222222,
              "#7201a8"
             ],
             [
              0.3333333333333333,
              "#9c179e"
             ],
             [
              0.4444444444444444,
              "#bd3786"
             ],
             [
              0.5555555555555556,
              "#d8576b"
             ],
             [
              0.6666666666666666,
              "#ed7953"
             ],
             [
              0.7777777777777778,
              "#fb9f3a"
             ],
             [
              0.8888888888888888,
              "#fdca26"
             ],
             [
              1,
              "#f0f921"
             ]
            ],
            "type": "surface"
           }
          ],
          "table": [
           {
            "cells": {
             "fill": {
              "color": "#EBF0F8"
             },
             "line": {
              "color": "white"
             }
            },
            "header": {
             "fill": {
              "color": "#C8D4E3"
             },
             "line": {
              "color": "white"
             }
            },
            "type": "table"
           }
          ]
         },
         "layout": {
          "annotationdefaults": {
           "arrowcolor": "#2a3f5f",
           "arrowhead": 0,
           "arrowwidth": 1
          },
          "coloraxis": {
           "colorbar": {
            "outlinewidth": 0,
            "ticks": ""
           }
          },
          "colorscale": {
           "diverging": [
            [
             0,
             "#8e0152"
            ],
            [
             0.1,
             "#c51b7d"
            ],
            [
             0.2,
             "#de77ae"
            ],
            [
             0.3,
             "#f1b6da"
            ],
            [
             0.4,
             "#fde0ef"
            ],
            [
             0.5,
             "#f7f7f7"
            ],
            [
             0.6,
             "#e6f5d0"
            ],
            [
             0.7,
             "#b8e186"
            ],
            [
             0.8,
             "#7fbc41"
            ],
            [
             0.9,
             "#4d9221"
            ],
            [
             1,
             "#276419"
            ]
           ],
           "sequential": [
            [
             0,
             "#0d0887"
            ],
            [
             0.1111111111111111,
             "#46039f"
            ],
            [
             0.2222222222222222,
             "#7201a8"
            ],
            [
             0.3333333333333333,
             "#9c179e"
            ],
            [
             0.4444444444444444,
             "#bd3786"
            ],
            [
             0.5555555555555556,
             "#d8576b"
            ],
            [
             0.6666666666666666,
             "#ed7953"
            ],
            [
             0.7777777777777778,
             "#fb9f3a"
            ],
            [
             0.8888888888888888,
             "#fdca26"
            ],
            [
             1,
             "#f0f921"
            ]
           ],
           "sequentialminus": [
            [
             0,
             "#0d0887"
            ],
            [
             0.1111111111111111,
             "#46039f"
            ],
            [
             0.2222222222222222,
             "#7201a8"
            ],
            [
             0.3333333333333333,
             "#9c179e"
            ],
            [
             0.4444444444444444,
             "#bd3786"
            ],
            [
             0.5555555555555556,
             "#d8576b"
            ],
            [
             0.6666666666666666,
             "#ed7953"
            ],
            [
             0.7777777777777778,
             "#fb9f3a"
            ],
            [
             0.8888888888888888,
             "#fdca26"
            ],
            [
             1,
             "#f0f921"
            ]
           ]
          },
          "colorway": [
           "#636efa",
           "#EF553B",
           "#00cc96",
           "#ab63fa",
           "#FFA15A",
           "#19d3f3",
           "#FF6692",
           "#B6E880",
           "#FF97FF",
           "#FECB52"
          ],
          "font": {
           "color": "#2a3f5f"
          },
          "geo": {
           "bgcolor": "white",
           "lakecolor": "white",
           "landcolor": "#E5ECF6",
           "showlakes": true,
           "showland": true,
           "subunitcolor": "white"
          },
          "hoverlabel": {
           "align": "left"
          },
          "hovermode": "closest",
          "mapbox": {
           "style": "light"
          },
          "paper_bgcolor": "white",
          "plot_bgcolor": "#E5ECF6",
          "polar": {
           "angularaxis": {
            "gridcolor": "white",
            "linecolor": "white",
            "ticks": ""
           },
           "bgcolor": "#E5ECF6",
           "radialaxis": {
            "gridcolor": "white",
            "linecolor": "white",
            "ticks": ""
           }
          },
          "scene": {
           "xaxis": {
            "backgroundcolor": "#E5ECF6",
            "gridcolor": "white",
            "gridwidth": 2,
            "linecolor": "white",
            "showbackground": true,
            "ticks": "",
            "zerolinecolor": "white"
           },
           "yaxis": {
            "backgroundcolor": "#E5ECF6",
            "gridcolor": "white",
            "gridwidth": 2,
            "linecolor": "white",
            "showbackground": true,
            "ticks": "",
            "zerolinecolor": "white"
           },
           "zaxis": {
            "backgroundcolor": "#E5ECF6",
            "gridcolor": "white",
            "gridwidth": 2,
            "linecolor": "white",
            "showbackground": true,
            "ticks": "",
            "zerolinecolor": "white"
           }
          },
          "shapedefaults": {
           "line": {
            "color": "#2a3f5f"
           }
          },
          "ternary": {
           "aaxis": {
            "gridcolor": "white",
            "linecolor": "white",
            "ticks": ""
           },
           "baxis": {
            "gridcolor": "white",
            "linecolor": "white",
            "ticks": ""
           },
           "bgcolor": "#E5ECF6",
           "caxis": {
            "gridcolor": "white",
            "linecolor": "white",
            "ticks": ""
           }
          },
          "title": {
           "x": 0.05
          },
          "xaxis": {
           "automargin": true,
           "gridcolor": "white",
           "linecolor": "white",
           "ticks": "",
           "title": {
            "standoff": 15
           },
           "zerolinecolor": "white",
           "zerolinewidth": 2
          },
          "yaxis": {
           "automargin": true,
           "gridcolor": "white",
           "linecolor": "white",
           "ticks": "",
           "title": {
            "standoff": 15
           },
           "zerolinecolor": "white",
           "zerolinewidth": 2
          }
         }
        },
        "title": {
         "text": "Most Money Spent per Month"
        },
        "xaxis": {
         "anchor": "y",
         "domain": [
          0,
          1
         ],
         "title": {
          "text": "Category"
         }
        },
        "yaxis": {
         "anchor": "x",
         "domain": [
          0,
          1
         ],
         "title": {
          "text": "Sum of Items (USD)"
         }
        }
       }
      },
      "text/html": [
       "<div>\n",
       "        \n",
       "        \n",
       "            <div id=\"1db6999f-e74f-4507-b79a-d8240b0526ef\" class=\"plotly-graph-div\" style=\"height:525px; width:100%;\"></div>\n",
       "            <script type=\"text/javascript\">\n",
       "                require([\"plotly\"], function(Plotly) {\n",
       "                    window.PLOTLYENV=window.PLOTLYENV || {};\n",
       "                    \n",
       "                if (document.getElementById(\"1db6999f-e74f-4507-b79a-d8240b0526ef\")) {\n",
       "                    Plotly.newPlot(\n",
       "                        '1db6999f-e74f-4507-b79a-d8240b0526ef',\n",
       "                        [{\"alignmentgroup\": \"True\", \"hoverlabel\": {\"namelength\": 0}, \"hovertemplate\": \"Category=%{x}<br>Sum of Items (USD)=%{y}\", \"legendgroup\": \"\", \"marker\": {\"color\": \"#636efa\"}, \"name\": \"\", \"offsetgroup\": \"\", \"orientation\": \"v\", \"showlegend\": false, \"textposition\": \"auto\", \"type\": \"bar\", \"x\": [\"August\", \"December\", \"October\", \"September\", \"November\", \"March\", \"July\", \"February\", \"June\", \"January\", \"May\", \"April\"], \"xaxis\": \"x\", \"y\": [1645.6299999999999, 1503.48, 1439.67, 1231.73, 881.51, 727.3900000000001, 429.26000000000005, 414.1299999999998, 309.69, 294.15999999999997, 272.2099999999999, 242.76], \"yaxis\": \"y\"}],\n",
       "                        {\"barmode\": \"relative\", \"legend\": {\"tracegroupgap\": 0}, \"template\": {\"data\": {\"bar\": [{\"error_x\": {\"color\": \"#2a3f5f\"}, \"error_y\": {\"color\": \"#2a3f5f\"}, \"marker\": {\"line\": {\"color\": \"#E5ECF6\", \"width\": 0.5}}, \"type\": \"bar\"}], \"barpolar\": [{\"marker\": {\"line\": {\"color\": \"#E5ECF6\", \"width\": 0.5}}, \"type\": \"barpolar\"}], \"carpet\": [{\"aaxis\": {\"endlinecolor\": \"#2a3f5f\", \"gridcolor\": \"white\", \"linecolor\": \"white\", \"minorgridcolor\": \"white\", \"startlinecolor\": \"#2a3f5f\"}, \"baxis\": {\"endlinecolor\": \"#2a3f5f\", \"gridcolor\": \"white\", \"linecolor\": \"white\", \"minorgridcolor\": \"white\", \"startlinecolor\": \"#2a3f5f\"}, \"type\": \"carpet\"}], \"choropleth\": [{\"colorbar\": {\"outlinewidth\": 0, \"ticks\": \"\"}, \"type\": \"choropleth\"}], \"contour\": [{\"colorbar\": {\"outlinewidth\": 0, \"ticks\": \"\"}, \"colorscale\": [[0.0, \"#0d0887\"], [0.1111111111111111, \"#46039f\"], [0.2222222222222222, \"#7201a8\"], [0.3333333333333333, \"#9c179e\"], [0.4444444444444444, \"#bd3786\"], [0.5555555555555556, \"#d8576b\"], [0.6666666666666666, \"#ed7953\"], [0.7777777777777778, \"#fb9f3a\"], [0.8888888888888888, \"#fdca26\"], [1.0, \"#f0f921\"]], \"type\": \"contour\"}], \"contourcarpet\": [{\"colorbar\": {\"outlinewidth\": 0, \"ticks\": \"\"}, \"type\": \"contourcarpet\"}], \"heatmap\": [{\"colorbar\": {\"outlinewidth\": 0, \"ticks\": \"\"}, \"colorscale\": [[0.0, \"#0d0887\"], [0.1111111111111111, \"#46039f\"], [0.2222222222222222, \"#7201a8\"], [0.3333333333333333, \"#9c179e\"], [0.4444444444444444, \"#bd3786\"], [0.5555555555555556, \"#d8576b\"], [0.6666666666666666, \"#ed7953\"], [0.7777777777777778, \"#fb9f3a\"], [0.8888888888888888, \"#fdca26\"], [1.0, \"#f0f921\"]], \"type\": \"heatmap\"}], \"heatmapgl\": [{\"colorbar\": {\"outlinewidth\": 0, \"ticks\": \"\"}, \"colorscale\": [[0.0, \"#0d0887\"], [0.1111111111111111, \"#46039f\"], [0.2222222222222222, \"#7201a8\"], [0.3333333333333333, \"#9c179e\"], [0.4444444444444444, \"#bd3786\"], [0.5555555555555556, \"#d8576b\"], [0.6666666666666666, \"#ed7953\"], [0.7777777777777778, \"#fb9f3a\"], [0.8888888888888888, \"#fdca26\"], [1.0, \"#f0f921\"]], \"type\": \"heatmapgl\"}], \"histogram\": [{\"marker\": {\"colorbar\": {\"outlinewidth\": 0, \"ticks\": \"\"}}, \"type\": \"histogram\"}], \"histogram2d\": [{\"colorbar\": {\"outlinewidth\": 0, \"ticks\": \"\"}, \"colorscale\": [[0.0, \"#0d0887\"], [0.1111111111111111, \"#46039f\"], [0.2222222222222222, \"#7201a8\"], [0.3333333333333333, \"#9c179e\"], [0.4444444444444444, \"#bd3786\"], [0.5555555555555556, \"#d8576b\"], [0.6666666666666666, \"#ed7953\"], [0.7777777777777778, \"#fb9f3a\"], [0.8888888888888888, \"#fdca26\"], [1.0, \"#f0f921\"]], \"type\": \"histogram2d\"}], \"histogram2dcontour\": [{\"colorbar\": {\"outlinewidth\": 0, \"ticks\": \"\"}, \"colorscale\": [[0.0, \"#0d0887\"], [0.1111111111111111, \"#46039f\"], [0.2222222222222222, \"#7201a8\"], [0.3333333333333333, \"#9c179e\"], [0.4444444444444444, \"#bd3786\"], [0.5555555555555556, \"#d8576b\"], [0.6666666666666666, \"#ed7953\"], [0.7777777777777778, \"#fb9f3a\"], [0.8888888888888888, \"#fdca26\"], [1.0, \"#f0f921\"]], \"type\": \"histogram2dcontour\"}], \"mesh3d\": [{\"colorbar\": {\"outlinewidth\": 0, \"ticks\": \"\"}, \"type\": \"mesh3d\"}], \"parcoords\": [{\"line\": {\"colorbar\": {\"outlinewidth\": 0, \"ticks\": \"\"}}, \"type\": \"parcoords\"}], \"pie\": [{\"automargin\": true, \"type\": \"pie\"}], \"scatter\": [{\"marker\": {\"colorbar\": {\"outlinewidth\": 0, \"ticks\": \"\"}}, \"type\": \"scatter\"}], \"scatter3d\": [{\"line\": {\"colorbar\": {\"outlinewidth\": 0, \"ticks\": \"\"}}, \"marker\": {\"colorbar\": {\"outlinewidth\": 0, \"ticks\": \"\"}}, \"type\": \"scatter3d\"}], \"scattercarpet\": [{\"marker\": {\"colorbar\": {\"outlinewidth\": 0, \"ticks\": \"\"}}, \"type\": \"scattercarpet\"}], \"scattergeo\": [{\"marker\": {\"colorbar\": {\"outlinewidth\": 0, \"ticks\": \"\"}}, \"type\": \"scattergeo\"}], \"scattergl\": [{\"marker\": {\"colorbar\": {\"outlinewidth\": 0, \"ticks\": \"\"}}, \"type\": \"scattergl\"}], \"scattermapbox\": [{\"marker\": {\"colorbar\": {\"outlinewidth\": 0, \"ticks\": \"\"}}, \"type\": \"scattermapbox\"}], \"scatterpolar\": [{\"marker\": {\"colorbar\": {\"outlinewidth\": 0, \"ticks\": \"\"}}, \"type\": \"scatterpolar\"}], \"scatterpolargl\": [{\"marker\": {\"colorbar\": {\"outlinewidth\": 0, \"ticks\": \"\"}}, \"type\": \"scatterpolargl\"}], \"scatterternary\": [{\"marker\": {\"colorbar\": {\"outlinewidth\": 0, \"ticks\": \"\"}}, \"type\": \"scatterternary\"}], \"surface\": [{\"colorbar\": {\"outlinewidth\": 0, \"ticks\": \"\"}, \"colorscale\": [[0.0, \"#0d0887\"], [0.1111111111111111, \"#46039f\"], [0.2222222222222222, \"#7201a8\"], [0.3333333333333333, \"#9c179e\"], [0.4444444444444444, \"#bd3786\"], [0.5555555555555556, \"#d8576b\"], [0.6666666666666666, \"#ed7953\"], [0.7777777777777778, \"#fb9f3a\"], [0.8888888888888888, \"#fdca26\"], [1.0, \"#f0f921\"]], \"type\": \"surface\"}], \"table\": [{\"cells\": {\"fill\": {\"color\": \"#EBF0F8\"}, \"line\": {\"color\": \"white\"}}, \"header\": {\"fill\": {\"color\": \"#C8D4E3\"}, \"line\": {\"color\": \"white\"}}, \"type\": \"table\"}]}, \"layout\": {\"annotationdefaults\": {\"arrowcolor\": \"#2a3f5f\", \"arrowhead\": 0, \"arrowwidth\": 1}, \"coloraxis\": {\"colorbar\": {\"outlinewidth\": 0, \"ticks\": \"\"}}, \"colorscale\": {\"diverging\": [[0, \"#8e0152\"], [0.1, \"#c51b7d\"], [0.2, \"#de77ae\"], [0.3, \"#f1b6da\"], [0.4, \"#fde0ef\"], [0.5, \"#f7f7f7\"], [0.6, \"#e6f5d0\"], [0.7, \"#b8e186\"], [0.8, \"#7fbc41\"], [0.9, \"#4d9221\"], [1, \"#276419\"]], \"sequential\": [[0.0, \"#0d0887\"], [0.1111111111111111, \"#46039f\"], [0.2222222222222222, \"#7201a8\"], [0.3333333333333333, \"#9c179e\"], [0.4444444444444444, \"#bd3786\"], [0.5555555555555556, \"#d8576b\"], [0.6666666666666666, \"#ed7953\"], [0.7777777777777778, \"#fb9f3a\"], [0.8888888888888888, \"#fdca26\"], [1.0, \"#f0f921\"]], \"sequentialminus\": [[0.0, \"#0d0887\"], [0.1111111111111111, \"#46039f\"], [0.2222222222222222, \"#7201a8\"], [0.3333333333333333, \"#9c179e\"], [0.4444444444444444, \"#bd3786\"], [0.5555555555555556, \"#d8576b\"], [0.6666666666666666, \"#ed7953\"], [0.7777777777777778, \"#fb9f3a\"], [0.8888888888888888, \"#fdca26\"], [1.0, \"#f0f921\"]]}, \"colorway\": [\"#636efa\", \"#EF553B\", \"#00cc96\", \"#ab63fa\", \"#FFA15A\", \"#19d3f3\", \"#FF6692\", \"#B6E880\", \"#FF97FF\", \"#FECB52\"], \"font\": {\"color\": \"#2a3f5f\"}, \"geo\": {\"bgcolor\": \"white\", \"lakecolor\": \"white\", \"landcolor\": \"#E5ECF6\", \"showlakes\": true, \"showland\": true, \"subunitcolor\": \"white\"}, \"hoverlabel\": {\"align\": \"left\"}, \"hovermode\": \"closest\", \"mapbox\": {\"style\": \"light\"}, \"paper_bgcolor\": \"white\", \"plot_bgcolor\": \"#E5ECF6\", \"polar\": {\"angularaxis\": {\"gridcolor\": \"white\", \"linecolor\": \"white\", \"ticks\": \"\"}, \"bgcolor\": \"#E5ECF6\", \"radialaxis\": {\"gridcolor\": \"white\", \"linecolor\": \"white\", \"ticks\": \"\"}}, \"scene\": {\"xaxis\": {\"backgroundcolor\": \"#E5ECF6\", \"gridcolor\": \"white\", \"gridwidth\": 2, \"linecolor\": \"white\", \"showbackground\": true, \"ticks\": \"\", \"zerolinecolor\": \"white\"}, \"yaxis\": {\"backgroundcolor\": \"#E5ECF6\", \"gridcolor\": \"white\", \"gridwidth\": 2, \"linecolor\": \"white\", \"showbackground\": true, \"ticks\": \"\", \"zerolinecolor\": \"white\"}, \"zaxis\": {\"backgroundcolor\": \"#E5ECF6\", \"gridcolor\": \"white\", \"gridwidth\": 2, \"linecolor\": \"white\", \"showbackground\": true, \"ticks\": \"\", \"zerolinecolor\": \"white\"}}, \"shapedefaults\": {\"line\": {\"color\": \"#2a3f5f\"}}, \"ternary\": {\"aaxis\": {\"gridcolor\": \"white\", \"linecolor\": \"white\", \"ticks\": \"\"}, \"baxis\": {\"gridcolor\": \"white\", \"linecolor\": \"white\", \"ticks\": \"\"}, \"bgcolor\": \"#E5ECF6\", \"caxis\": {\"gridcolor\": \"white\", \"linecolor\": \"white\", \"ticks\": \"\"}}, \"title\": {\"x\": 0.05}, \"xaxis\": {\"automargin\": true, \"gridcolor\": \"white\", \"linecolor\": \"white\", \"ticks\": \"\", \"title\": {\"standoff\": 15}, \"zerolinecolor\": \"white\", \"zerolinewidth\": 2}, \"yaxis\": {\"automargin\": true, \"gridcolor\": \"white\", \"linecolor\": \"white\", \"ticks\": \"\", \"title\": {\"standoff\": 15}, \"zerolinecolor\": \"white\", \"zerolinewidth\": 2}}}, \"title\": {\"text\": \"Most Money Spent per Month\"}, \"xaxis\": {\"anchor\": \"y\", \"domain\": [0.0, 1.0], \"title\": {\"text\": \"Category\"}}, \"yaxis\": {\"anchor\": \"x\", \"domain\": [0.0, 1.0], \"title\": {\"text\": \"Sum of Items (USD)\"}}},\n",
       "                        {\"responsive\": true}\n",
       "                    ).then(function(){\n",
       "                            \n",
       "var gd = document.getElementById('1db6999f-e74f-4507-b79a-d8240b0526ef');\n",
       "var x = new MutationObserver(function (mutations, observer) {{\n",
       "        var display = window.getComputedStyle(gd).display;\n",
       "        if (!display || display === 'none') {{\n",
       "            console.log([gd, 'removed!']);\n",
       "            Plotly.purge(gd);\n",
       "            observer.disconnect();\n",
       "        }}\n",
       "}});\n",
       "\n",
       "// Listen for the removal of the full notebook cells\n",
       "var notebookContainer = gd.closest('#notebook-container');\n",
       "if (notebookContainer) {{\n",
       "    x.observe(notebookContainer, {childList: true});\n",
       "}}\n",
       "\n",
       "// Listen for the clearing of the current output cell\n",
       "var outputEl = gd.closest('.output');\n",
       "if (outputEl) {{\n",
       "    x.observe(outputEl, {childList: true});\n",
       "}}\n",
       "\n",
       "                        })\n",
       "                };\n",
       "                });\n",
       "            </script>\n",
       "        </div>"
      ]
     },
     "metadata": {},
     "output_type": "display_data"
    },
    {
     "name": "stdout",
     "output_type": "stream",
     "text": [
      "MonthName\n",
      "April         242.76\n",
      "August       1645.63\n",
      "December     1503.48\n",
      "February      414.13\n",
      "January       294.16\n",
      "July          429.26\n",
      "June          309.69\n",
      "March         727.39\n",
      "May           272.21\n",
      "November      881.51\n",
      "October      1439.67\n",
      "September    1231.73\n",
      "Name: Debit, dtype: float64\n"
     ]
    },
    {
     "data": {
      "application/vnd.plotly.v1+json": {
       "config": {
        "plotlyServerURL": "https://plot.ly"
       },
       "data": [
        {
         "alignmentgroup": "True",
         "hoverlabel": {
          "namelength": 0
         },
         "hovertemplate": "Category=%{x}<br>Sum of Items (USD)=%{y}",
         "legendgroup": "",
         "marker": {
          "color": "#636efa"
         },
         "name": "",
         "offsetgroup": "",
         "orientation": "v",
         "showlegend": false,
         "textposition": "auto",
         "type": "bar",
         "x": [
          "April",
          "August",
          "December",
          "February",
          "January",
          "July",
          "June",
          "March",
          "May",
          "November",
          "October",
          "September"
         ],
         "xaxis": "x",
         "y": [
          242.76,
          1645.6299999999999,
          1503.48,
          414.1299999999998,
          294.15999999999997,
          429.26000000000005,
          309.69,
          727.3900000000001,
          272.2099999999999,
          881.51,
          1439.67,
          1231.73
         ],
         "yaxis": "y"
        }
       ],
       "layout": {
        "barmode": "relative",
        "legend": {
         "tracegroupgap": 0
        },
        "template": {
         "data": {
          "bar": [
           {
            "error_x": {
             "color": "#2a3f5f"
            },
            "error_y": {
             "color": "#2a3f5f"
            },
            "marker": {
             "line": {
              "color": "#E5ECF6",
              "width": 0.5
             }
            },
            "type": "bar"
           }
          ],
          "barpolar": [
           {
            "marker": {
             "line": {
              "color": "#E5ECF6",
              "width": 0.5
             }
            },
            "type": "barpolar"
           }
          ],
          "carpet": [
           {
            "aaxis": {
             "endlinecolor": "#2a3f5f",
             "gridcolor": "white",
             "linecolor": "white",
             "minorgridcolor": "white",
             "startlinecolor": "#2a3f5f"
            },
            "baxis": {
             "endlinecolor": "#2a3f5f",
             "gridcolor": "white",
             "linecolor": "white",
             "minorgridcolor": "white",
             "startlinecolor": "#2a3f5f"
            },
            "type": "carpet"
           }
          ],
          "choropleth": [
           {
            "colorbar": {
             "outlinewidth": 0,
             "ticks": ""
            },
            "type": "choropleth"
           }
          ],
          "contour": [
           {
            "colorbar": {
             "outlinewidth": 0,
             "ticks": ""
            },
            "colorscale": [
             [
              0,
              "#0d0887"
             ],
             [
              0.1111111111111111,
              "#46039f"
             ],
             [
              0.2222222222222222,
              "#7201a8"
             ],
             [
              0.3333333333333333,
              "#9c179e"
             ],
             [
              0.4444444444444444,
              "#bd3786"
             ],
             [
              0.5555555555555556,
              "#d8576b"
             ],
             [
              0.6666666666666666,
              "#ed7953"
             ],
             [
              0.7777777777777778,
              "#fb9f3a"
             ],
             [
              0.8888888888888888,
              "#fdca26"
             ],
             [
              1,
              "#f0f921"
             ]
            ],
            "type": "contour"
           }
          ],
          "contourcarpet": [
           {
            "colorbar": {
             "outlinewidth": 0,
             "ticks": ""
            },
            "type": "contourcarpet"
           }
          ],
          "heatmap": [
           {
            "colorbar": {
             "outlinewidth": 0,
             "ticks": ""
            },
            "colorscale": [
             [
              0,
              "#0d0887"
             ],
             [
              0.1111111111111111,
              "#46039f"
             ],
             [
              0.2222222222222222,
              "#7201a8"
             ],
             [
              0.3333333333333333,
              "#9c179e"
             ],
             [
              0.4444444444444444,
              "#bd3786"
             ],
             [
              0.5555555555555556,
              "#d8576b"
             ],
             [
              0.6666666666666666,
              "#ed7953"
             ],
             [
              0.7777777777777778,
              "#fb9f3a"
             ],
             [
              0.8888888888888888,
              "#fdca26"
             ],
             [
              1,
              "#f0f921"
             ]
            ],
            "type": "heatmap"
           }
          ],
          "heatmapgl": [
           {
            "colorbar": {
             "outlinewidth": 0,
             "ticks": ""
            },
            "colorscale": [
             [
              0,
              "#0d0887"
             ],
             [
              0.1111111111111111,
              "#46039f"
             ],
             [
              0.2222222222222222,
              "#7201a8"
             ],
             [
              0.3333333333333333,
              "#9c179e"
             ],
             [
              0.4444444444444444,
              "#bd3786"
             ],
             [
              0.5555555555555556,
              "#d8576b"
             ],
             [
              0.6666666666666666,
              "#ed7953"
             ],
             [
              0.7777777777777778,
              "#fb9f3a"
             ],
             [
              0.8888888888888888,
              "#fdca26"
             ],
             [
              1,
              "#f0f921"
             ]
            ],
            "type": "heatmapgl"
           }
          ],
          "histogram": [
           {
            "marker": {
             "colorbar": {
              "outlinewidth": 0,
              "ticks": ""
             }
            },
            "type": "histogram"
           }
          ],
          "histogram2d": [
           {
            "colorbar": {
             "outlinewidth": 0,
             "ticks": ""
            },
            "colorscale": [
             [
              0,
              "#0d0887"
             ],
             [
              0.1111111111111111,
              "#46039f"
             ],
             [
              0.2222222222222222,
              "#7201a8"
             ],
             [
              0.3333333333333333,
              "#9c179e"
             ],
             [
              0.4444444444444444,
              "#bd3786"
             ],
             [
              0.5555555555555556,
              "#d8576b"
             ],
             [
              0.6666666666666666,
              "#ed7953"
             ],
             [
              0.7777777777777778,
              "#fb9f3a"
             ],
             [
              0.8888888888888888,
              "#fdca26"
             ],
             [
              1,
              "#f0f921"
             ]
            ],
            "type": "histogram2d"
           }
          ],
          "histogram2dcontour": [
           {
            "colorbar": {
             "outlinewidth": 0,
             "ticks": ""
            },
            "colorscale": [
             [
              0,
              "#0d0887"
             ],
             [
              0.1111111111111111,
              "#46039f"
             ],
             [
              0.2222222222222222,
              "#7201a8"
             ],
             [
              0.3333333333333333,
              "#9c179e"
             ],
             [
              0.4444444444444444,
              "#bd3786"
             ],
             [
              0.5555555555555556,
              "#d8576b"
             ],
             [
              0.6666666666666666,
              "#ed7953"
             ],
             [
              0.7777777777777778,
              "#fb9f3a"
             ],
             [
              0.8888888888888888,
              "#fdca26"
             ],
             [
              1,
              "#f0f921"
             ]
            ],
            "type": "histogram2dcontour"
           }
          ],
          "mesh3d": [
           {
            "colorbar": {
             "outlinewidth": 0,
             "ticks": ""
            },
            "type": "mesh3d"
           }
          ],
          "parcoords": [
           {
            "line": {
             "colorbar": {
              "outlinewidth": 0,
              "ticks": ""
             }
            },
            "type": "parcoords"
           }
          ],
          "pie": [
           {
            "automargin": true,
            "type": "pie"
           }
          ],
          "scatter": [
           {
            "marker": {
             "colorbar": {
              "outlinewidth": 0,
              "ticks": ""
             }
            },
            "type": "scatter"
           }
          ],
          "scatter3d": [
           {
            "line": {
             "colorbar": {
              "outlinewidth": 0,
              "ticks": ""
             }
            },
            "marker": {
             "colorbar": {
              "outlinewidth": 0,
              "ticks": ""
             }
            },
            "type": "scatter3d"
           }
          ],
          "scattercarpet": [
           {
            "marker": {
             "colorbar": {
              "outlinewidth": 0,
              "ticks": ""
             }
            },
            "type": "scattercarpet"
           }
          ],
          "scattergeo": [
           {
            "marker": {
             "colorbar": {
              "outlinewidth": 0,
              "ticks": ""
             }
            },
            "type": "scattergeo"
           }
          ],
          "scattergl": [
           {
            "marker": {
             "colorbar": {
              "outlinewidth": 0,
              "ticks": ""
             }
            },
            "type": "scattergl"
           }
          ],
          "scattermapbox": [
           {
            "marker": {
             "colorbar": {
              "outlinewidth": 0,
              "ticks": ""
             }
            },
            "type": "scattermapbox"
           }
          ],
          "scatterpolar": [
           {
            "marker": {
             "colorbar": {
              "outlinewidth": 0,
              "ticks": ""
             }
            },
            "type": "scatterpolar"
           }
          ],
          "scatterpolargl": [
           {
            "marker": {
             "colorbar": {
              "outlinewidth": 0,
              "ticks": ""
             }
            },
            "type": "scatterpolargl"
           }
          ],
          "scatterternary": [
           {
            "marker": {
             "colorbar": {
              "outlinewidth": 0,
              "ticks": ""
             }
            },
            "type": "scatterternary"
           }
          ],
          "surface": [
           {
            "colorbar": {
             "outlinewidth": 0,
             "ticks": ""
            },
            "colorscale": [
             [
              0,
              "#0d0887"
             ],
             [
              0.1111111111111111,
              "#46039f"
             ],
             [
              0.2222222222222222,
              "#7201a8"
             ],
             [
              0.3333333333333333,
              "#9c179e"
             ],
             [
              0.4444444444444444,
              "#bd3786"
             ],
             [
              0.5555555555555556,
              "#d8576b"
             ],
             [
              0.6666666666666666,
              "#ed7953"
             ],
             [
              0.7777777777777778,
              "#fb9f3a"
             ],
             [
              0.8888888888888888,
              "#fdca26"
             ],
             [
              1,
              "#f0f921"
             ]
            ],
            "type": "surface"
           }
          ],
          "table": [
           {
            "cells": {
             "fill": {
              "color": "#EBF0F8"
             },
             "line": {
              "color": "white"
             }
            },
            "header": {
             "fill": {
              "color": "#C8D4E3"
             },
             "line": {
              "color": "white"
             }
            },
            "type": "table"
           }
          ]
         },
         "layout": {
          "annotationdefaults": {
           "arrowcolor": "#2a3f5f",
           "arrowhead": 0,
           "arrowwidth": 1
          },
          "coloraxis": {
           "colorbar": {
            "outlinewidth": 0,
            "ticks": ""
           }
          },
          "colorscale": {
           "diverging": [
            [
             0,
             "#8e0152"
            ],
            [
             0.1,
             "#c51b7d"
            ],
            [
             0.2,
             "#de77ae"
            ],
            [
             0.3,
             "#f1b6da"
            ],
            [
             0.4,
             "#fde0ef"
            ],
            [
             0.5,
             "#f7f7f7"
            ],
            [
             0.6,
             "#e6f5d0"
            ],
            [
             0.7,
             "#b8e186"
            ],
            [
             0.8,
             "#7fbc41"
            ],
            [
             0.9,
             "#4d9221"
            ],
            [
             1,
             "#276419"
            ]
           ],
           "sequential": [
            [
             0,
             "#0d0887"
            ],
            [
             0.1111111111111111,
             "#46039f"
            ],
            [
             0.2222222222222222,
             "#7201a8"
            ],
            [
             0.3333333333333333,
             "#9c179e"
            ],
            [
             0.4444444444444444,
             "#bd3786"
            ],
            [
             0.5555555555555556,
             "#d8576b"
            ],
            [
             0.6666666666666666,
             "#ed7953"
            ],
            [
             0.7777777777777778,
             "#fb9f3a"
            ],
            [
             0.8888888888888888,
             "#fdca26"
            ],
            [
             1,
             "#f0f921"
            ]
           ],
           "sequentialminus": [
            [
             0,
             "#0d0887"
            ],
            [
             0.1111111111111111,
             "#46039f"
            ],
            [
             0.2222222222222222,
             "#7201a8"
            ],
            [
             0.3333333333333333,
             "#9c179e"
            ],
            [
             0.4444444444444444,
             "#bd3786"
            ],
            [
             0.5555555555555556,
             "#d8576b"
            ],
            [
             0.6666666666666666,
             "#ed7953"
            ],
            [
             0.7777777777777778,
             "#fb9f3a"
            ],
            [
             0.8888888888888888,
             "#fdca26"
            ],
            [
             1,
             "#f0f921"
            ]
           ]
          },
          "colorway": [
           "#636efa",
           "#EF553B",
           "#00cc96",
           "#ab63fa",
           "#FFA15A",
           "#19d3f3",
           "#FF6692",
           "#B6E880",
           "#FF97FF",
           "#FECB52"
          ],
          "font": {
           "color": "#2a3f5f"
          },
          "geo": {
           "bgcolor": "white",
           "lakecolor": "white",
           "landcolor": "#E5ECF6",
           "showlakes": true,
           "showland": true,
           "subunitcolor": "white"
          },
          "hoverlabel": {
           "align": "left"
          },
          "hovermode": "closest",
          "mapbox": {
           "style": "light"
          },
          "paper_bgcolor": "white",
          "plot_bgcolor": "#E5ECF6",
          "polar": {
           "angularaxis": {
            "gridcolor": "white",
            "linecolor": "white",
            "ticks": ""
           },
           "bgcolor": "#E5ECF6",
           "radialaxis": {
            "gridcolor": "white",
            "linecolor": "white",
            "ticks": ""
           }
          },
          "scene": {
           "xaxis": {
            "backgroundcolor": "#E5ECF6",
            "gridcolor": "white",
            "gridwidth": 2,
            "linecolor": "white",
            "showbackground": true,
            "ticks": "",
            "zerolinecolor": "white"
           },
           "yaxis": {
            "backgroundcolor": "#E5ECF6",
            "gridcolor": "white",
            "gridwidth": 2,
            "linecolor": "white",
            "showbackground": true,
            "ticks": "",
            "zerolinecolor": "white"
           },
           "zaxis": {
            "backgroundcolor": "#E5ECF6",
            "gridcolor": "white",
            "gridwidth": 2,
            "linecolor": "white",
            "showbackground": true,
            "ticks": "",
            "zerolinecolor": "white"
           }
          },
          "shapedefaults": {
           "line": {
            "color": "#2a3f5f"
           }
          },
          "ternary": {
           "aaxis": {
            "gridcolor": "white",
            "linecolor": "white",
            "ticks": ""
           },
           "baxis": {
            "gridcolor": "white",
            "linecolor": "white",
            "ticks": ""
           },
           "bgcolor": "#E5ECF6",
           "caxis": {
            "gridcolor": "white",
            "linecolor": "white",
            "ticks": ""
           }
          },
          "title": {
           "x": 0.05
          },
          "xaxis": {
           "automargin": true,
           "gridcolor": "white",
           "linecolor": "white",
           "ticks": "",
           "title": {
            "standoff": 15
           },
           "zerolinecolor": "white",
           "zerolinewidth": 2
          },
          "yaxis": {
           "automargin": true,
           "gridcolor": "white",
           "linecolor": "white",
           "ticks": "",
           "title": {
            "standoff": 15
           },
           "zerolinecolor": "white",
           "zerolinewidth": 2
          }
         }
        },
        "title": {
         "text": "Money Spent per Month"
        },
        "xaxis": {
         "anchor": "y",
         "domain": [
          0,
          1
         ],
         "title": {
          "text": "Category"
         }
        },
        "yaxis": {
         "anchor": "x",
         "domain": [
          0,
          1
         ],
         "title": {
          "text": "Sum of Items (USD)"
         }
        }
       }
      },
      "text/html": [
       "<div>\n",
       "        \n",
       "        \n",
       "            <div id=\"5a875197-3b58-40c1-b10e-c7a877045d51\" class=\"plotly-graph-div\" style=\"height:525px; width:100%;\"></div>\n",
       "            <script type=\"text/javascript\">\n",
       "                require([\"plotly\"], function(Plotly) {\n",
       "                    window.PLOTLYENV=window.PLOTLYENV || {};\n",
       "                    \n",
       "                if (document.getElementById(\"5a875197-3b58-40c1-b10e-c7a877045d51\")) {\n",
       "                    Plotly.newPlot(\n",
       "                        '5a875197-3b58-40c1-b10e-c7a877045d51',\n",
       "                        [{\"alignmentgroup\": \"True\", \"hoverlabel\": {\"namelength\": 0}, \"hovertemplate\": \"Category=%{x}<br>Sum of Items (USD)=%{y}\", \"legendgroup\": \"\", \"marker\": {\"color\": \"#636efa\"}, \"name\": \"\", \"offsetgroup\": \"\", \"orientation\": \"v\", \"showlegend\": false, \"textposition\": \"auto\", \"type\": \"bar\", \"x\": [\"April\", \"August\", \"December\", \"February\", \"January\", \"July\", \"June\", \"March\", \"May\", \"November\", \"October\", \"September\"], \"xaxis\": \"x\", \"y\": [242.76, 1645.6299999999999, 1503.48, 414.1299999999998, 294.15999999999997, 429.26000000000005, 309.69, 727.3900000000001, 272.2099999999999, 881.51, 1439.67, 1231.73], \"yaxis\": \"y\"}],\n",
       "                        {\"barmode\": \"relative\", \"legend\": {\"tracegroupgap\": 0}, \"template\": {\"data\": {\"bar\": [{\"error_x\": {\"color\": \"#2a3f5f\"}, \"error_y\": {\"color\": \"#2a3f5f\"}, \"marker\": {\"line\": {\"color\": \"#E5ECF6\", \"width\": 0.5}}, \"type\": \"bar\"}], \"barpolar\": [{\"marker\": {\"line\": {\"color\": \"#E5ECF6\", \"width\": 0.5}}, \"type\": \"barpolar\"}], \"carpet\": [{\"aaxis\": {\"endlinecolor\": \"#2a3f5f\", \"gridcolor\": \"white\", \"linecolor\": \"white\", \"minorgridcolor\": \"white\", \"startlinecolor\": \"#2a3f5f\"}, \"baxis\": {\"endlinecolor\": \"#2a3f5f\", \"gridcolor\": \"white\", \"linecolor\": \"white\", \"minorgridcolor\": \"white\", \"startlinecolor\": \"#2a3f5f\"}, \"type\": \"carpet\"}], \"choropleth\": [{\"colorbar\": {\"outlinewidth\": 0, \"ticks\": \"\"}, \"type\": \"choropleth\"}], \"contour\": [{\"colorbar\": {\"outlinewidth\": 0, \"ticks\": \"\"}, \"colorscale\": [[0.0, \"#0d0887\"], [0.1111111111111111, \"#46039f\"], [0.2222222222222222, \"#7201a8\"], [0.3333333333333333, \"#9c179e\"], [0.4444444444444444, \"#bd3786\"], [0.5555555555555556, \"#d8576b\"], [0.6666666666666666, \"#ed7953\"], [0.7777777777777778, \"#fb9f3a\"], [0.8888888888888888, \"#fdca26\"], [1.0, \"#f0f921\"]], \"type\": \"contour\"}], \"contourcarpet\": [{\"colorbar\": {\"outlinewidth\": 0, \"ticks\": \"\"}, \"type\": \"contourcarpet\"}], \"heatmap\": [{\"colorbar\": {\"outlinewidth\": 0, \"ticks\": \"\"}, \"colorscale\": [[0.0, \"#0d0887\"], [0.1111111111111111, \"#46039f\"], [0.2222222222222222, \"#7201a8\"], [0.3333333333333333, \"#9c179e\"], [0.4444444444444444, \"#bd3786\"], [0.5555555555555556, \"#d8576b\"], [0.6666666666666666, \"#ed7953\"], [0.7777777777777778, \"#fb9f3a\"], [0.8888888888888888, \"#fdca26\"], [1.0, \"#f0f921\"]], \"type\": \"heatmap\"}], \"heatmapgl\": [{\"colorbar\": {\"outlinewidth\": 0, \"ticks\": \"\"}, \"colorscale\": [[0.0, \"#0d0887\"], [0.1111111111111111, \"#46039f\"], [0.2222222222222222, \"#7201a8\"], [0.3333333333333333, \"#9c179e\"], [0.4444444444444444, \"#bd3786\"], [0.5555555555555556, \"#d8576b\"], [0.6666666666666666, \"#ed7953\"], [0.7777777777777778, \"#fb9f3a\"], [0.8888888888888888, \"#fdca26\"], [1.0, \"#f0f921\"]], \"type\": \"heatmapgl\"}], \"histogram\": [{\"marker\": {\"colorbar\": {\"outlinewidth\": 0, \"ticks\": \"\"}}, \"type\": \"histogram\"}], \"histogram2d\": [{\"colorbar\": {\"outlinewidth\": 0, \"ticks\": \"\"}, \"colorscale\": [[0.0, \"#0d0887\"], [0.1111111111111111, \"#46039f\"], [0.2222222222222222, \"#7201a8\"], [0.3333333333333333, \"#9c179e\"], [0.4444444444444444, \"#bd3786\"], [0.5555555555555556, \"#d8576b\"], [0.6666666666666666, \"#ed7953\"], [0.7777777777777778, \"#fb9f3a\"], [0.8888888888888888, \"#fdca26\"], [1.0, \"#f0f921\"]], \"type\": \"histogram2d\"}], \"histogram2dcontour\": [{\"colorbar\": {\"outlinewidth\": 0, \"ticks\": \"\"}, \"colorscale\": [[0.0, \"#0d0887\"], [0.1111111111111111, \"#46039f\"], [0.2222222222222222, \"#7201a8\"], [0.3333333333333333, \"#9c179e\"], [0.4444444444444444, \"#bd3786\"], [0.5555555555555556, \"#d8576b\"], [0.6666666666666666, \"#ed7953\"], [0.7777777777777778, \"#fb9f3a\"], [0.8888888888888888, \"#fdca26\"], [1.0, \"#f0f921\"]], \"type\": \"histogram2dcontour\"}], \"mesh3d\": [{\"colorbar\": {\"outlinewidth\": 0, \"ticks\": \"\"}, \"type\": \"mesh3d\"}], \"parcoords\": [{\"line\": {\"colorbar\": {\"outlinewidth\": 0, \"ticks\": \"\"}}, \"type\": \"parcoords\"}], \"pie\": [{\"automargin\": true, \"type\": \"pie\"}], \"scatter\": [{\"marker\": {\"colorbar\": {\"outlinewidth\": 0, \"ticks\": \"\"}}, \"type\": \"scatter\"}], \"scatter3d\": [{\"line\": {\"colorbar\": {\"outlinewidth\": 0, \"ticks\": \"\"}}, \"marker\": {\"colorbar\": {\"outlinewidth\": 0, \"ticks\": \"\"}}, \"type\": \"scatter3d\"}], \"scattercarpet\": [{\"marker\": {\"colorbar\": {\"outlinewidth\": 0, \"ticks\": \"\"}}, \"type\": \"scattercarpet\"}], \"scattergeo\": [{\"marker\": {\"colorbar\": {\"outlinewidth\": 0, \"ticks\": \"\"}}, \"type\": \"scattergeo\"}], \"scattergl\": [{\"marker\": {\"colorbar\": {\"outlinewidth\": 0, \"ticks\": \"\"}}, \"type\": \"scattergl\"}], \"scattermapbox\": [{\"marker\": {\"colorbar\": {\"outlinewidth\": 0, \"ticks\": \"\"}}, \"type\": \"scattermapbox\"}], \"scatterpolar\": [{\"marker\": {\"colorbar\": {\"outlinewidth\": 0, \"ticks\": \"\"}}, \"type\": \"scatterpolar\"}], \"scatterpolargl\": [{\"marker\": {\"colorbar\": {\"outlinewidth\": 0, \"ticks\": \"\"}}, \"type\": \"scatterpolargl\"}], \"scatterternary\": [{\"marker\": {\"colorbar\": {\"outlinewidth\": 0, \"ticks\": \"\"}}, \"type\": \"scatterternary\"}], \"surface\": [{\"colorbar\": {\"outlinewidth\": 0, \"ticks\": \"\"}, \"colorscale\": [[0.0, \"#0d0887\"], [0.1111111111111111, \"#46039f\"], [0.2222222222222222, \"#7201a8\"], [0.3333333333333333, \"#9c179e\"], [0.4444444444444444, \"#bd3786\"], [0.5555555555555556, \"#d8576b\"], [0.6666666666666666, \"#ed7953\"], [0.7777777777777778, \"#fb9f3a\"], [0.8888888888888888, \"#fdca26\"], [1.0, \"#f0f921\"]], \"type\": \"surface\"}], \"table\": [{\"cells\": {\"fill\": {\"color\": \"#EBF0F8\"}, \"line\": {\"color\": \"white\"}}, \"header\": {\"fill\": {\"color\": \"#C8D4E3\"}, \"line\": {\"color\": \"white\"}}, \"type\": \"table\"}]}, \"layout\": {\"annotationdefaults\": {\"arrowcolor\": \"#2a3f5f\", \"arrowhead\": 0, \"arrowwidth\": 1}, \"coloraxis\": {\"colorbar\": {\"outlinewidth\": 0, \"ticks\": \"\"}}, \"colorscale\": {\"diverging\": [[0, \"#8e0152\"], [0.1, \"#c51b7d\"], [0.2, \"#de77ae\"], [0.3, \"#f1b6da\"], [0.4, \"#fde0ef\"], [0.5, \"#f7f7f7\"], [0.6, \"#e6f5d0\"], [0.7, \"#b8e186\"], [0.8, \"#7fbc41\"], [0.9, \"#4d9221\"], [1, \"#276419\"]], \"sequential\": [[0.0, \"#0d0887\"], [0.1111111111111111, \"#46039f\"], [0.2222222222222222, \"#7201a8\"], [0.3333333333333333, \"#9c179e\"], [0.4444444444444444, \"#bd3786\"], [0.5555555555555556, \"#d8576b\"], [0.6666666666666666, \"#ed7953\"], [0.7777777777777778, \"#fb9f3a\"], [0.8888888888888888, \"#fdca26\"], [1.0, \"#f0f921\"]], \"sequentialminus\": [[0.0, \"#0d0887\"], [0.1111111111111111, \"#46039f\"], [0.2222222222222222, \"#7201a8\"], [0.3333333333333333, \"#9c179e\"], [0.4444444444444444, \"#bd3786\"], [0.5555555555555556, \"#d8576b\"], [0.6666666666666666, \"#ed7953\"], [0.7777777777777778, \"#fb9f3a\"], [0.8888888888888888, \"#fdca26\"], [1.0, \"#f0f921\"]]}, \"colorway\": [\"#636efa\", \"#EF553B\", \"#00cc96\", \"#ab63fa\", \"#FFA15A\", \"#19d3f3\", \"#FF6692\", \"#B6E880\", \"#FF97FF\", \"#FECB52\"], \"font\": {\"color\": \"#2a3f5f\"}, \"geo\": {\"bgcolor\": \"white\", \"lakecolor\": \"white\", \"landcolor\": \"#E5ECF6\", \"showlakes\": true, \"showland\": true, \"subunitcolor\": \"white\"}, \"hoverlabel\": {\"align\": \"left\"}, \"hovermode\": \"closest\", \"mapbox\": {\"style\": \"light\"}, \"paper_bgcolor\": \"white\", \"plot_bgcolor\": \"#E5ECF6\", \"polar\": {\"angularaxis\": {\"gridcolor\": \"white\", \"linecolor\": \"white\", \"ticks\": \"\"}, \"bgcolor\": \"#E5ECF6\", \"radialaxis\": {\"gridcolor\": \"white\", \"linecolor\": \"white\", \"ticks\": \"\"}}, \"scene\": {\"xaxis\": {\"backgroundcolor\": \"#E5ECF6\", \"gridcolor\": \"white\", \"gridwidth\": 2, \"linecolor\": \"white\", \"showbackground\": true, \"ticks\": \"\", \"zerolinecolor\": \"white\"}, \"yaxis\": {\"backgroundcolor\": \"#E5ECF6\", \"gridcolor\": \"white\", \"gridwidth\": 2, \"linecolor\": \"white\", \"showbackground\": true, \"ticks\": \"\", \"zerolinecolor\": \"white\"}, \"zaxis\": {\"backgroundcolor\": \"#E5ECF6\", \"gridcolor\": \"white\", \"gridwidth\": 2, \"linecolor\": \"white\", \"showbackground\": true, \"ticks\": \"\", \"zerolinecolor\": \"white\"}}, \"shapedefaults\": {\"line\": {\"color\": \"#2a3f5f\"}}, \"ternary\": {\"aaxis\": {\"gridcolor\": \"white\", \"linecolor\": \"white\", \"ticks\": \"\"}, \"baxis\": {\"gridcolor\": \"white\", \"linecolor\": \"white\", \"ticks\": \"\"}, \"bgcolor\": \"#E5ECF6\", \"caxis\": {\"gridcolor\": \"white\", \"linecolor\": \"white\", \"ticks\": \"\"}}, \"title\": {\"x\": 0.05}, \"xaxis\": {\"automargin\": true, \"gridcolor\": \"white\", \"linecolor\": \"white\", \"ticks\": \"\", \"title\": {\"standoff\": 15}, \"zerolinecolor\": \"white\", \"zerolinewidth\": 2}, \"yaxis\": {\"automargin\": true, \"gridcolor\": \"white\", \"linecolor\": \"white\", \"ticks\": \"\", \"title\": {\"standoff\": 15}, \"zerolinecolor\": \"white\", \"zerolinewidth\": 2}}}, \"title\": {\"text\": \"Money Spent per Month\"}, \"xaxis\": {\"anchor\": \"y\", \"domain\": [0.0, 1.0], \"title\": {\"text\": \"Category\"}}, \"yaxis\": {\"anchor\": \"x\", \"domain\": [0.0, 1.0], \"title\": {\"text\": \"Sum of Items (USD)\"}}},\n",
       "                        {\"responsive\": true}\n",
       "                    ).then(function(){\n",
       "                            \n",
       "var gd = document.getElementById('5a875197-3b58-40c1-b10e-c7a877045d51');\n",
       "var x = new MutationObserver(function (mutations, observer) {{\n",
       "        var display = window.getComputedStyle(gd).display;\n",
       "        if (!display || display === 'none') {{\n",
       "            console.log([gd, 'removed!']);\n",
       "            Plotly.purge(gd);\n",
       "            observer.disconnect();\n",
       "        }}\n",
       "}});\n",
       "\n",
       "// Listen for the removal of the full notebook cells\n",
       "var notebookContainer = gd.closest('#notebook-container');\n",
       "if (notebookContainer) {{\n",
       "    x.observe(notebookContainer, {childList: true});\n",
       "}}\n",
       "\n",
       "// Listen for the clearing of the current output cell\n",
       "var outputEl = gd.closest('.output');\n",
       "if (outputEl) {{\n",
       "    x.observe(outputEl, {childList: true});\n",
       "}}\n",
       "\n",
       "                        })\n",
       "                };\n",
       "                });\n",
       "            </script>\n",
       "        </div>"
      ]
     },
     "metadata": {},
     "output_type": "display_data"
    },
    {
     "name": "stdout",
     "output_type": "stream",
     "text": [
      "MonthName\n",
      "January     3442.47\n",
      "February    1928.64\n",
      "Name: Debit, dtype: float64\n"
     ]
    },
    {
     "data": {
      "application/vnd.plotly.v1+json": {
       "config": {
        "plotlyServerURL": "https://plot.ly"
       },
       "data": [
        {
         "alignmentgroup": "True",
         "hoverlabel": {
          "namelength": 0
         },
         "hovertemplate": "Category=%{x}<br>Sum of Items (USD)=%{y}",
         "legendgroup": "",
         "marker": {
          "color": "#636efa"
         },
         "name": "",
         "offsetgroup": "",
         "orientation": "v",
         "showlegend": false,
         "textposition": "auto",
         "type": "bar",
         "x": [
          "January",
          "February"
         ],
         "xaxis": "x",
         "y": [
          3442.4700000000003,
          1928.64
         ],
         "yaxis": "y"
        }
       ],
       "layout": {
        "barmode": "relative",
        "legend": {
         "tracegroupgap": 0
        },
        "template": {
         "data": {
          "bar": [
           {
            "error_x": {
             "color": "#2a3f5f"
            },
            "error_y": {
             "color": "#2a3f5f"
            },
            "marker": {
             "line": {
              "color": "#E5ECF6",
              "width": 0.5
             }
            },
            "type": "bar"
           }
          ],
          "barpolar": [
           {
            "marker": {
             "line": {
              "color": "#E5ECF6",
              "width": 0.5
             }
            },
            "type": "barpolar"
           }
          ],
          "carpet": [
           {
            "aaxis": {
             "endlinecolor": "#2a3f5f",
             "gridcolor": "white",
             "linecolor": "white",
             "minorgridcolor": "white",
             "startlinecolor": "#2a3f5f"
            },
            "baxis": {
             "endlinecolor": "#2a3f5f",
             "gridcolor": "white",
             "linecolor": "white",
             "minorgridcolor": "white",
             "startlinecolor": "#2a3f5f"
            },
            "type": "carpet"
           }
          ],
          "choropleth": [
           {
            "colorbar": {
             "outlinewidth": 0,
             "ticks": ""
            },
            "type": "choropleth"
           }
          ],
          "contour": [
           {
            "colorbar": {
             "outlinewidth": 0,
             "ticks": ""
            },
            "colorscale": [
             [
              0,
              "#0d0887"
             ],
             [
              0.1111111111111111,
              "#46039f"
             ],
             [
              0.2222222222222222,
              "#7201a8"
             ],
             [
              0.3333333333333333,
              "#9c179e"
             ],
             [
              0.4444444444444444,
              "#bd3786"
             ],
             [
              0.5555555555555556,
              "#d8576b"
             ],
             [
              0.6666666666666666,
              "#ed7953"
             ],
             [
              0.7777777777777778,
              "#fb9f3a"
             ],
             [
              0.8888888888888888,
              "#fdca26"
             ],
             [
              1,
              "#f0f921"
             ]
            ],
            "type": "contour"
           }
          ],
          "contourcarpet": [
           {
            "colorbar": {
             "outlinewidth": 0,
             "ticks": ""
            },
            "type": "contourcarpet"
           }
          ],
          "heatmap": [
           {
            "colorbar": {
             "outlinewidth": 0,
             "ticks": ""
            },
            "colorscale": [
             [
              0,
              "#0d0887"
             ],
             [
              0.1111111111111111,
              "#46039f"
             ],
             [
              0.2222222222222222,
              "#7201a8"
             ],
             [
              0.3333333333333333,
              "#9c179e"
             ],
             [
              0.4444444444444444,
              "#bd3786"
             ],
             [
              0.5555555555555556,
              "#d8576b"
             ],
             [
              0.6666666666666666,
              "#ed7953"
             ],
             [
              0.7777777777777778,
              "#fb9f3a"
             ],
             [
              0.8888888888888888,
              "#fdca26"
             ],
             [
              1,
              "#f0f921"
             ]
            ],
            "type": "heatmap"
           }
          ],
          "heatmapgl": [
           {
            "colorbar": {
             "outlinewidth": 0,
             "ticks": ""
            },
            "colorscale": [
             [
              0,
              "#0d0887"
             ],
             [
              0.1111111111111111,
              "#46039f"
             ],
             [
              0.2222222222222222,
              "#7201a8"
             ],
             [
              0.3333333333333333,
              "#9c179e"
             ],
             [
              0.4444444444444444,
              "#bd3786"
             ],
             [
              0.5555555555555556,
              "#d8576b"
             ],
             [
              0.6666666666666666,
              "#ed7953"
             ],
             [
              0.7777777777777778,
              "#fb9f3a"
             ],
             [
              0.8888888888888888,
              "#fdca26"
             ],
             [
              1,
              "#f0f921"
             ]
            ],
            "type": "heatmapgl"
           }
          ],
          "histogram": [
           {
            "marker": {
             "colorbar": {
              "outlinewidth": 0,
              "ticks": ""
             }
            },
            "type": "histogram"
           }
          ],
          "histogram2d": [
           {
            "colorbar": {
             "outlinewidth": 0,
             "ticks": ""
            },
            "colorscale": [
             [
              0,
              "#0d0887"
             ],
             [
              0.1111111111111111,
              "#46039f"
             ],
             [
              0.2222222222222222,
              "#7201a8"
             ],
             [
              0.3333333333333333,
              "#9c179e"
             ],
             [
              0.4444444444444444,
              "#bd3786"
             ],
             [
              0.5555555555555556,
              "#d8576b"
             ],
             [
              0.6666666666666666,
              "#ed7953"
             ],
             [
              0.7777777777777778,
              "#fb9f3a"
             ],
             [
              0.8888888888888888,
              "#fdca26"
             ],
             [
              1,
              "#f0f921"
             ]
            ],
            "type": "histogram2d"
           }
          ],
          "histogram2dcontour": [
           {
            "colorbar": {
             "outlinewidth": 0,
             "ticks": ""
            },
            "colorscale": [
             [
              0,
              "#0d0887"
             ],
             [
              0.1111111111111111,
              "#46039f"
             ],
             [
              0.2222222222222222,
              "#7201a8"
             ],
             [
              0.3333333333333333,
              "#9c179e"
             ],
             [
              0.4444444444444444,
              "#bd3786"
             ],
             [
              0.5555555555555556,
              "#d8576b"
             ],
             [
              0.6666666666666666,
              "#ed7953"
             ],
             [
              0.7777777777777778,
              "#fb9f3a"
             ],
             [
              0.8888888888888888,
              "#fdca26"
             ],
             [
              1,
              "#f0f921"
             ]
            ],
            "type": "histogram2dcontour"
           }
          ],
          "mesh3d": [
           {
            "colorbar": {
             "outlinewidth": 0,
             "ticks": ""
            },
            "type": "mesh3d"
           }
          ],
          "parcoords": [
           {
            "line": {
             "colorbar": {
              "outlinewidth": 0,
              "ticks": ""
             }
            },
            "type": "parcoords"
           }
          ],
          "pie": [
           {
            "automargin": true,
            "type": "pie"
           }
          ],
          "scatter": [
           {
            "marker": {
             "colorbar": {
              "outlinewidth": 0,
              "ticks": ""
             }
            },
            "type": "scatter"
           }
          ],
          "scatter3d": [
           {
            "line": {
             "colorbar": {
              "outlinewidth": 0,
              "ticks": ""
             }
            },
            "marker": {
             "colorbar": {
              "outlinewidth": 0,
              "ticks": ""
             }
            },
            "type": "scatter3d"
           }
          ],
          "scattercarpet": [
           {
            "marker": {
             "colorbar": {
              "outlinewidth": 0,
              "ticks": ""
             }
            },
            "type": "scattercarpet"
           }
          ],
          "scattergeo": [
           {
            "marker": {
             "colorbar": {
              "outlinewidth": 0,
              "ticks": ""
             }
            },
            "type": "scattergeo"
           }
          ],
          "scattergl": [
           {
            "marker": {
             "colorbar": {
              "outlinewidth": 0,
              "ticks": ""
             }
            },
            "type": "scattergl"
           }
          ],
          "scattermapbox": [
           {
            "marker": {
             "colorbar": {
              "outlinewidth": 0,
              "ticks": ""
             }
            },
            "type": "scattermapbox"
           }
          ],
          "scatterpolar": [
           {
            "marker": {
             "colorbar": {
              "outlinewidth": 0,
              "ticks": ""
             }
            },
            "type": "scatterpolar"
           }
          ],
          "scatterpolargl": [
           {
            "marker": {
             "colorbar": {
              "outlinewidth": 0,
              "ticks": ""
             }
            },
            "type": "scatterpolargl"
           }
          ],
          "scatterternary": [
           {
            "marker": {
             "colorbar": {
              "outlinewidth": 0,
              "ticks": ""
             }
            },
            "type": "scatterternary"
           }
          ],
          "surface": [
           {
            "colorbar": {
             "outlinewidth": 0,
             "ticks": ""
            },
            "colorscale": [
             [
              0,
              "#0d0887"
             ],
             [
              0.1111111111111111,
              "#46039f"
             ],
             [
              0.2222222222222222,
              "#7201a8"
             ],
             [
              0.3333333333333333,
              "#9c179e"
             ],
             [
              0.4444444444444444,
              "#bd3786"
             ],
             [
              0.5555555555555556,
              "#d8576b"
             ],
             [
              0.6666666666666666,
              "#ed7953"
             ],
             [
              0.7777777777777778,
              "#fb9f3a"
             ],
             [
              0.8888888888888888,
              "#fdca26"
             ],
             [
              1,
              "#f0f921"
             ]
            ],
            "type": "surface"
           }
          ],
          "table": [
           {
            "cells": {
             "fill": {
              "color": "#EBF0F8"
             },
             "line": {
              "color": "white"
             }
            },
            "header": {
             "fill": {
              "color": "#C8D4E3"
             },
             "line": {
              "color": "white"
             }
            },
            "type": "table"
           }
          ]
         },
         "layout": {
          "annotationdefaults": {
           "arrowcolor": "#2a3f5f",
           "arrowhead": 0,
           "arrowwidth": 1
          },
          "coloraxis": {
           "colorbar": {
            "outlinewidth": 0,
            "ticks": ""
           }
          },
          "colorscale": {
           "diverging": [
            [
             0,
             "#8e0152"
            ],
            [
             0.1,
             "#c51b7d"
            ],
            [
             0.2,
             "#de77ae"
            ],
            [
             0.3,
             "#f1b6da"
            ],
            [
             0.4,
             "#fde0ef"
            ],
            [
             0.5,
             "#f7f7f7"
            ],
            [
             0.6,
             "#e6f5d0"
            ],
            [
             0.7,
             "#b8e186"
            ],
            [
             0.8,
             "#7fbc41"
            ],
            [
             0.9,
             "#4d9221"
            ],
            [
             1,
             "#276419"
            ]
           ],
           "sequential": [
            [
             0,
             "#0d0887"
            ],
            [
             0.1111111111111111,
             "#46039f"
            ],
            [
             0.2222222222222222,
             "#7201a8"
            ],
            [
             0.3333333333333333,
             "#9c179e"
            ],
            [
             0.4444444444444444,
             "#bd3786"
            ],
            [
             0.5555555555555556,
             "#d8576b"
            ],
            [
             0.6666666666666666,
             "#ed7953"
            ],
            [
             0.7777777777777778,
             "#fb9f3a"
            ],
            [
             0.8888888888888888,
             "#fdca26"
            ],
            [
             1,
             "#f0f921"
            ]
           ],
           "sequentialminus": [
            [
             0,
             "#0d0887"
            ],
            [
             0.1111111111111111,
             "#46039f"
            ],
            [
             0.2222222222222222,
             "#7201a8"
            ],
            [
             0.3333333333333333,
             "#9c179e"
            ],
            [
             0.4444444444444444,
             "#bd3786"
            ],
            [
             0.5555555555555556,
             "#d8576b"
            ],
            [
             0.6666666666666666,
             "#ed7953"
            ],
            [
             0.7777777777777778,
             "#fb9f3a"
            ],
            [
             0.8888888888888888,
             "#fdca26"
            ],
            [
             1,
             "#f0f921"
            ]
           ]
          },
          "colorway": [
           "#636efa",
           "#EF553B",
           "#00cc96",
           "#ab63fa",
           "#FFA15A",
           "#19d3f3",
           "#FF6692",
           "#B6E880",
           "#FF97FF",
           "#FECB52"
          ],
          "font": {
           "color": "#2a3f5f"
          },
          "geo": {
           "bgcolor": "white",
           "lakecolor": "white",
           "landcolor": "#E5ECF6",
           "showlakes": true,
           "showland": true,
           "subunitcolor": "white"
          },
          "hoverlabel": {
           "align": "left"
          },
          "hovermode": "closest",
          "mapbox": {
           "style": "light"
          },
          "paper_bgcolor": "white",
          "plot_bgcolor": "#E5ECF6",
          "polar": {
           "angularaxis": {
            "gridcolor": "white",
            "linecolor": "white",
            "ticks": ""
           },
           "bgcolor": "#E5ECF6",
           "radialaxis": {
            "gridcolor": "white",
            "linecolor": "white",
            "ticks": ""
           }
          },
          "scene": {
           "xaxis": {
            "backgroundcolor": "#E5ECF6",
            "gridcolor": "white",
            "gridwidth": 2,
            "linecolor": "white",
            "showbackground": true,
            "ticks": "",
            "zerolinecolor": "white"
           },
           "yaxis": {
            "backgroundcolor": "#E5ECF6",
            "gridcolor": "white",
            "gridwidth": 2,
            "linecolor": "white",
            "showbackground": true,
            "ticks": "",
            "zerolinecolor": "white"
           },
           "zaxis": {
            "backgroundcolor": "#E5ECF6",
            "gridcolor": "white",
            "gridwidth": 2,
            "linecolor": "white",
            "showbackground": true,
            "ticks": "",
            "zerolinecolor": "white"
           }
          },
          "shapedefaults": {
           "line": {
            "color": "#2a3f5f"
           }
          },
          "ternary": {
           "aaxis": {
            "gridcolor": "white",
            "linecolor": "white",
            "ticks": ""
           },
           "baxis": {
            "gridcolor": "white",
            "linecolor": "white",
            "ticks": ""
           },
           "bgcolor": "#E5ECF6",
           "caxis": {
            "gridcolor": "white",
            "linecolor": "white",
            "ticks": ""
           }
          },
          "title": {
           "x": 0.05
          },
          "xaxis": {
           "automargin": true,
           "gridcolor": "white",
           "linecolor": "white",
           "ticks": "",
           "title": {
            "standoff": 15
           },
           "zerolinecolor": "white",
           "zerolinewidth": 2
          },
          "yaxis": {
           "automargin": true,
           "gridcolor": "white",
           "linecolor": "white",
           "ticks": "",
           "title": {
            "standoff": 15
           },
           "zerolinecolor": "white",
           "zerolinewidth": 2
          }
         }
        },
        "title": {
         "text": "Most Money Spent per Month"
        },
        "xaxis": {
         "anchor": "y",
         "domain": [
          0,
          1
         ],
         "title": {
          "text": "Category"
         }
        },
        "yaxis": {
         "anchor": "x",
         "domain": [
          0,
          1
         ],
         "title": {
          "text": "Sum of Items (USD)"
         }
        }
       }
      },
      "text/html": [
       "<div>\n",
       "        \n",
       "        \n",
       "            <div id=\"4711027f-a16a-4983-810f-0cd950913686\" class=\"plotly-graph-div\" style=\"height:525px; width:100%;\"></div>\n",
       "            <script type=\"text/javascript\">\n",
       "                require([\"plotly\"], function(Plotly) {\n",
       "                    window.PLOTLYENV=window.PLOTLYENV || {};\n",
       "                    \n",
       "                if (document.getElementById(\"4711027f-a16a-4983-810f-0cd950913686\")) {\n",
       "                    Plotly.newPlot(\n",
       "                        '4711027f-a16a-4983-810f-0cd950913686',\n",
       "                        [{\"alignmentgroup\": \"True\", \"hoverlabel\": {\"namelength\": 0}, \"hovertemplate\": \"Category=%{x}<br>Sum of Items (USD)=%{y}\", \"legendgroup\": \"\", \"marker\": {\"color\": \"#636efa\"}, \"name\": \"\", \"offsetgroup\": \"\", \"orientation\": \"v\", \"showlegend\": false, \"textposition\": \"auto\", \"type\": \"bar\", \"x\": [\"January\", \"February\"], \"xaxis\": \"x\", \"y\": [3442.4700000000003, 1928.64], \"yaxis\": \"y\"}],\n",
       "                        {\"barmode\": \"relative\", \"legend\": {\"tracegroupgap\": 0}, \"template\": {\"data\": {\"bar\": [{\"error_x\": {\"color\": \"#2a3f5f\"}, \"error_y\": {\"color\": \"#2a3f5f\"}, \"marker\": {\"line\": {\"color\": \"#E5ECF6\", \"width\": 0.5}}, \"type\": \"bar\"}], \"barpolar\": [{\"marker\": {\"line\": {\"color\": \"#E5ECF6\", \"width\": 0.5}}, \"type\": \"barpolar\"}], \"carpet\": [{\"aaxis\": {\"endlinecolor\": \"#2a3f5f\", \"gridcolor\": \"white\", \"linecolor\": \"white\", \"minorgridcolor\": \"white\", \"startlinecolor\": \"#2a3f5f\"}, \"baxis\": {\"endlinecolor\": \"#2a3f5f\", \"gridcolor\": \"white\", \"linecolor\": \"white\", \"minorgridcolor\": \"white\", \"startlinecolor\": \"#2a3f5f\"}, \"type\": \"carpet\"}], \"choropleth\": [{\"colorbar\": {\"outlinewidth\": 0, \"ticks\": \"\"}, \"type\": \"choropleth\"}], \"contour\": [{\"colorbar\": {\"outlinewidth\": 0, \"ticks\": \"\"}, \"colorscale\": [[0.0, \"#0d0887\"], [0.1111111111111111, \"#46039f\"], [0.2222222222222222, \"#7201a8\"], [0.3333333333333333, \"#9c179e\"], [0.4444444444444444, \"#bd3786\"], [0.5555555555555556, \"#d8576b\"], [0.6666666666666666, \"#ed7953\"], [0.7777777777777778, \"#fb9f3a\"], [0.8888888888888888, \"#fdca26\"], [1.0, \"#f0f921\"]], \"type\": \"contour\"}], \"contourcarpet\": [{\"colorbar\": {\"outlinewidth\": 0, \"ticks\": \"\"}, \"type\": \"contourcarpet\"}], \"heatmap\": [{\"colorbar\": {\"outlinewidth\": 0, \"ticks\": \"\"}, \"colorscale\": [[0.0, \"#0d0887\"], [0.1111111111111111, \"#46039f\"], [0.2222222222222222, \"#7201a8\"], [0.3333333333333333, \"#9c179e\"], [0.4444444444444444, \"#bd3786\"], [0.5555555555555556, \"#d8576b\"], [0.6666666666666666, \"#ed7953\"], [0.7777777777777778, \"#fb9f3a\"], [0.8888888888888888, \"#fdca26\"], [1.0, \"#f0f921\"]], \"type\": \"heatmap\"}], \"heatmapgl\": [{\"colorbar\": {\"outlinewidth\": 0, \"ticks\": \"\"}, \"colorscale\": [[0.0, \"#0d0887\"], [0.1111111111111111, \"#46039f\"], [0.2222222222222222, \"#7201a8\"], [0.3333333333333333, \"#9c179e\"], [0.4444444444444444, \"#bd3786\"], [0.5555555555555556, \"#d8576b\"], [0.6666666666666666, \"#ed7953\"], [0.7777777777777778, \"#fb9f3a\"], [0.8888888888888888, \"#fdca26\"], [1.0, \"#f0f921\"]], \"type\": \"heatmapgl\"}], \"histogram\": [{\"marker\": {\"colorbar\": {\"outlinewidth\": 0, \"ticks\": \"\"}}, \"type\": \"histogram\"}], \"histogram2d\": [{\"colorbar\": {\"outlinewidth\": 0, \"ticks\": \"\"}, \"colorscale\": [[0.0, \"#0d0887\"], [0.1111111111111111, \"#46039f\"], [0.2222222222222222, \"#7201a8\"], [0.3333333333333333, \"#9c179e\"], [0.4444444444444444, \"#bd3786\"], [0.5555555555555556, \"#d8576b\"], [0.6666666666666666, \"#ed7953\"], [0.7777777777777778, \"#fb9f3a\"], [0.8888888888888888, \"#fdca26\"], [1.0, \"#f0f921\"]], \"type\": \"histogram2d\"}], \"histogram2dcontour\": [{\"colorbar\": {\"outlinewidth\": 0, \"ticks\": \"\"}, \"colorscale\": [[0.0, \"#0d0887\"], [0.1111111111111111, \"#46039f\"], [0.2222222222222222, \"#7201a8\"], [0.3333333333333333, \"#9c179e\"], [0.4444444444444444, \"#bd3786\"], [0.5555555555555556, \"#d8576b\"], [0.6666666666666666, \"#ed7953\"], [0.7777777777777778, \"#fb9f3a\"], [0.8888888888888888, \"#fdca26\"], [1.0, \"#f0f921\"]], \"type\": \"histogram2dcontour\"}], \"mesh3d\": [{\"colorbar\": {\"outlinewidth\": 0, \"ticks\": \"\"}, \"type\": \"mesh3d\"}], \"parcoords\": [{\"line\": {\"colorbar\": {\"outlinewidth\": 0, \"ticks\": \"\"}}, \"type\": \"parcoords\"}], \"pie\": [{\"automargin\": true, \"type\": \"pie\"}], \"scatter\": [{\"marker\": {\"colorbar\": {\"outlinewidth\": 0, \"ticks\": \"\"}}, \"type\": \"scatter\"}], \"scatter3d\": [{\"line\": {\"colorbar\": {\"outlinewidth\": 0, \"ticks\": \"\"}}, \"marker\": {\"colorbar\": {\"outlinewidth\": 0, \"ticks\": \"\"}}, \"type\": \"scatter3d\"}], \"scattercarpet\": [{\"marker\": {\"colorbar\": {\"outlinewidth\": 0, \"ticks\": \"\"}}, \"type\": \"scattercarpet\"}], \"scattergeo\": [{\"marker\": {\"colorbar\": {\"outlinewidth\": 0, \"ticks\": \"\"}}, \"type\": \"scattergeo\"}], \"scattergl\": [{\"marker\": {\"colorbar\": {\"outlinewidth\": 0, \"ticks\": \"\"}}, \"type\": \"scattergl\"}], \"scattermapbox\": [{\"marker\": {\"colorbar\": {\"outlinewidth\": 0, \"ticks\": \"\"}}, \"type\": \"scattermapbox\"}], \"scatterpolar\": [{\"marker\": {\"colorbar\": {\"outlinewidth\": 0, \"ticks\": \"\"}}, \"type\": \"scatterpolar\"}], \"scatterpolargl\": [{\"marker\": {\"colorbar\": {\"outlinewidth\": 0, \"ticks\": \"\"}}, \"type\": \"scatterpolargl\"}], \"scatterternary\": [{\"marker\": {\"colorbar\": {\"outlinewidth\": 0, \"ticks\": \"\"}}, \"type\": \"scatterternary\"}], \"surface\": [{\"colorbar\": {\"outlinewidth\": 0, \"ticks\": \"\"}, \"colorscale\": [[0.0, \"#0d0887\"], [0.1111111111111111, \"#46039f\"], [0.2222222222222222, \"#7201a8\"], [0.3333333333333333, \"#9c179e\"], [0.4444444444444444, \"#bd3786\"], [0.5555555555555556, \"#d8576b\"], [0.6666666666666666, \"#ed7953\"], [0.7777777777777778, \"#fb9f3a\"], [0.8888888888888888, \"#fdca26\"], [1.0, \"#f0f921\"]], \"type\": \"surface\"}], \"table\": [{\"cells\": {\"fill\": {\"color\": \"#EBF0F8\"}, \"line\": {\"color\": \"white\"}}, \"header\": {\"fill\": {\"color\": \"#C8D4E3\"}, \"line\": {\"color\": \"white\"}}, \"type\": \"table\"}]}, \"layout\": {\"annotationdefaults\": {\"arrowcolor\": \"#2a3f5f\", \"arrowhead\": 0, \"arrowwidth\": 1}, \"coloraxis\": {\"colorbar\": {\"outlinewidth\": 0, \"ticks\": \"\"}}, \"colorscale\": {\"diverging\": [[0, \"#8e0152\"], [0.1, \"#c51b7d\"], [0.2, \"#de77ae\"], [0.3, \"#f1b6da\"], [0.4, \"#fde0ef\"], [0.5, \"#f7f7f7\"], [0.6, \"#e6f5d0\"], [0.7, \"#b8e186\"], [0.8, \"#7fbc41\"], [0.9, \"#4d9221\"], [1, \"#276419\"]], \"sequential\": [[0.0, \"#0d0887\"], [0.1111111111111111, \"#46039f\"], [0.2222222222222222, \"#7201a8\"], [0.3333333333333333, \"#9c179e\"], [0.4444444444444444, \"#bd3786\"], [0.5555555555555556, \"#d8576b\"], [0.6666666666666666, \"#ed7953\"], [0.7777777777777778, \"#fb9f3a\"], [0.8888888888888888, \"#fdca26\"], [1.0, \"#f0f921\"]], \"sequentialminus\": [[0.0, \"#0d0887\"], [0.1111111111111111, \"#46039f\"], [0.2222222222222222, \"#7201a8\"], [0.3333333333333333, \"#9c179e\"], [0.4444444444444444, \"#bd3786\"], [0.5555555555555556, \"#d8576b\"], [0.6666666666666666, \"#ed7953\"], [0.7777777777777778, \"#fb9f3a\"], [0.8888888888888888, \"#fdca26\"], [1.0, \"#f0f921\"]]}, \"colorway\": [\"#636efa\", \"#EF553B\", \"#00cc96\", \"#ab63fa\", \"#FFA15A\", \"#19d3f3\", \"#FF6692\", \"#B6E880\", \"#FF97FF\", \"#FECB52\"], \"font\": {\"color\": \"#2a3f5f\"}, \"geo\": {\"bgcolor\": \"white\", \"lakecolor\": \"white\", \"landcolor\": \"#E5ECF6\", \"showlakes\": true, \"showland\": true, \"subunitcolor\": \"white\"}, \"hoverlabel\": {\"align\": \"left\"}, \"hovermode\": \"closest\", \"mapbox\": {\"style\": \"light\"}, \"paper_bgcolor\": \"white\", \"plot_bgcolor\": \"#E5ECF6\", \"polar\": {\"angularaxis\": {\"gridcolor\": \"white\", \"linecolor\": \"white\", \"ticks\": \"\"}, \"bgcolor\": \"#E5ECF6\", \"radialaxis\": {\"gridcolor\": \"white\", \"linecolor\": \"white\", \"ticks\": \"\"}}, \"scene\": {\"xaxis\": {\"backgroundcolor\": \"#E5ECF6\", \"gridcolor\": \"white\", \"gridwidth\": 2, \"linecolor\": \"white\", \"showbackground\": true, \"ticks\": \"\", \"zerolinecolor\": \"white\"}, \"yaxis\": {\"backgroundcolor\": \"#E5ECF6\", \"gridcolor\": \"white\", \"gridwidth\": 2, \"linecolor\": \"white\", \"showbackground\": true, \"ticks\": \"\", \"zerolinecolor\": \"white\"}, \"zaxis\": {\"backgroundcolor\": \"#E5ECF6\", \"gridcolor\": \"white\", \"gridwidth\": 2, \"linecolor\": \"white\", \"showbackground\": true, \"ticks\": \"\", \"zerolinecolor\": \"white\"}}, \"shapedefaults\": {\"line\": {\"color\": \"#2a3f5f\"}}, \"ternary\": {\"aaxis\": {\"gridcolor\": \"white\", \"linecolor\": \"white\", \"ticks\": \"\"}, \"baxis\": {\"gridcolor\": \"white\", \"linecolor\": \"white\", \"ticks\": \"\"}, \"bgcolor\": \"#E5ECF6\", \"caxis\": {\"gridcolor\": \"white\", \"linecolor\": \"white\", \"ticks\": \"\"}}, \"title\": {\"x\": 0.05}, \"xaxis\": {\"automargin\": true, \"gridcolor\": \"white\", \"linecolor\": \"white\", \"ticks\": \"\", \"title\": {\"standoff\": 15}, \"zerolinecolor\": \"white\", \"zerolinewidth\": 2}, \"yaxis\": {\"automargin\": true, \"gridcolor\": \"white\", \"linecolor\": \"white\", \"ticks\": \"\", \"title\": {\"standoff\": 15}, \"zerolinecolor\": \"white\", \"zerolinewidth\": 2}}}, \"title\": {\"text\": \"Most Money Spent per Month\"}, \"xaxis\": {\"anchor\": \"y\", \"domain\": [0.0, 1.0], \"title\": {\"text\": \"Category\"}}, \"yaxis\": {\"anchor\": \"x\", \"domain\": [0.0, 1.0], \"title\": {\"text\": \"Sum of Items (USD)\"}}},\n",
       "                        {\"responsive\": true}\n",
       "                    ).then(function(){\n",
       "                            \n",
       "var gd = document.getElementById('4711027f-a16a-4983-810f-0cd950913686');\n",
       "var x = new MutationObserver(function (mutations, observer) {{\n",
       "        var display = window.getComputedStyle(gd).display;\n",
       "        if (!display || display === 'none') {{\n",
       "            console.log([gd, 'removed!']);\n",
       "            Plotly.purge(gd);\n",
       "            observer.disconnect();\n",
       "        }}\n",
       "}});\n",
       "\n",
       "// Listen for the removal of the full notebook cells\n",
       "var notebookContainer = gd.closest('#notebook-container');\n",
       "if (notebookContainer) {{\n",
       "    x.observe(notebookContainer, {childList: true});\n",
       "}}\n",
       "\n",
       "// Listen for the clearing of the current output cell\n",
       "var outputEl = gd.closest('.output');\n",
       "if (outputEl) {{\n",
       "    x.observe(outputEl, {childList: true});\n",
       "}}\n",
       "\n",
       "                        })\n",
       "                };\n",
       "                });\n",
       "            </script>\n",
       "        </div>"
      ]
     },
     "metadata": {},
     "output_type": "display_data"
    },
    {
     "name": "stdout",
     "output_type": "stream",
     "text": [
      "MonthName\n",
      "February    1928.64\n",
      "January     3442.47\n",
      "Name: Debit, dtype: float64\n"
     ]
    },
    {
     "data": {
      "application/vnd.plotly.v1+json": {
       "config": {
        "plotlyServerURL": "https://plot.ly"
       },
       "data": [
        {
         "alignmentgroup": "True",
         "hoverlabel": {
          "namelength": 0
         },
         "hovertemplate": "Category=%{x}<br>Sum of Items (USD)=%{y}",
         "legendgroup": "",
         "marker": {
          "color": "#636efa"
         },
         "name": "",
         "offsetgroup": "",
         "orientation": "v",
         "showlegend": false,
         "textposition": "auto",
         "type": "bar",
         "x": [
          "February",
          "January"
         ],
         "xaxis": "x",
         "y": [
          1928.64,
          3442.4700000000003
         ],
         "yaxis": "y"
        }
       ],
       "layout": {
        "barmode": "relative",
        "legend": {
         "tracegroupgap": 0
        },
        "template": {
         "data": {
          "bar": [
           {
            "error_x": {
             "color": "#2a3f5f"
            },
            "error_y": {
             "color": "#2a3f5f"
            },
            "marker": {
             "line": {
              "color": "#E5ECF6",
              "width": 0.5
             }
            },
            "type": "bar"
           }
          ],
          "barpolar": [
           {
            "marker": {
             "line": {
              "color": "#E5ECF6",
              "width": 0.5
             }
            },
            "type": "barpolar"
           }
          ],
          "carpet": [
           {
            "aaxis": {
             "endlinecolor": "#2a3f5f",
             "gridcolor": "white",
             "linecolor": "white",
             "minorgridcolor": "white",
             "startlinecolor": "#2a3f5f"
            },
            "baxis": {
             "endlinecolor": "#2a3f5f",
             "gridcolor": "white",
             "linecolor": "white",
             "minorgridcolor": "white",
             "startlinecolor": "#2a3f5f"
            },
            "type": "carpet"
           }
          ],
          "choropleth": [
           {
            "colorbar": {
             "outlinewidth": 0,
             "ticks": ""
            },
            "type": "choropleth"
           }
          ],
          "contour": [
           {
            "colorbar": {
             "outlinewidth": 0,
             "ticks": ""
            },
            "colorscale": [
             [
              0,
              "#0d0887"
             ],
             [
              0.1111111111111111,
              "#46039f"
             ],
             [
              0.2222222222222222,
              "#7201a8"
             ],
             [
              0.3333333333333333,
              "#9c179e"
             ],
             [
              0.4444444444444444,
              "#bd3786"
             ],
             [
              0.5555555555555556,
              "#d8576b"
             ],
             [
              0.6666666666666666,
              "#ed7953"
             ],
             [
              0.7777777777777778,
              "#fb9f3a"
             ],
             [
              0.8888888888888888,
              "#fdca26"
             ],
             [
              1,
              "#f0f921"
             ]
            ],
            "type": "contour"
           }
          ],
          "contourcarpet": [
           {
            "colorbar": {
             "outlinewidth": 0,
             "ticks": ""
            },
            "type": "contourcarpet"
           }
          ],
          "heatmap": [
           {
            "colorbar": {
             "outlinewidth": 0,
             "ticks": ""
            },
            "colorscale": [
             [
              0,
              "#0d0887"
             ],
             [
              0.1111111111111111,
              "#46039f"
             ],
             [
              0.2222222222222222,
              "#7201a8"
             ],
             [
              0.3333333333333333,
              "#9c179e"
             ],
             [
              0.4444444444444444,
              "#bd3786"
             ],
             [
              0.5555555555555556,
              "#d8576b"
             ],
             [
              0.6666666666666666,
              "#ed7953"
             ],
             [
              0.7777777777777778,
              "#fb9f3a"
             ],
             [
              0.8888888888888888,
              "#fdca26"
             ],
             [
              1,
              "#f0f921"
             ]
            ],
            "type": "heatmap"
           }
          ],
          "heatmapgl": [
           {
            "colorbar": {
             "outlinewidth": 0,
             "ticks": ""
            },
            "colorscale": [
             [
              0,
              "#0d0887"
             ],
             [
              0.1111111111111111,
              "#46039f"
             ],
             [
              0.2222222222222222,
              "#7201a8"
             ],
             [
              0.3333333333333333,
              "#9c179e"
             ],
             [
              0.4444444444444444,
              "#bd3786"
             ],
             [
              0.5555555555555556,
              "#d8576b"
             ],
             [
              0.6666666666666666,
              "#ed7953"
             ],
             [
              0.7777777777777778,
              "#fb9f3a"
             ],
             [
              0.8888888888888888,
              "#fdca26"
             ],
             [
              1,
              "#f0f921"
             ]
            ],
            "type": "heatmapgl"
           }
          ],
          "histogram": [
           {
            "marker": {
             "colorbar": {
              "outlinewidth": 0,
              "ticks": ""
             }
            },
            "type": "histogram"
           }
          ],
          "histogram2d": [
           {
            "colorbar": {
             "outlinewidth": 0,
             "ticks": ""
            },
            "colorscale": [
             [
              0,
              "#0d0887"
             ],
             [
              0.1111111111111111,
              "#46039f"
             ],
             [
              0.2222222222222222,
              "#7201a8"
             ],
             [
              0.3333333333333333,
              "#9c179e"
             ],
             [
              0.4444444444444444,
              "#bd3786"
             ],
             [
              0.5555555555555556,
              "#d8576b"
             ],
             [
              0.6666666666666666,
              "#ed7953"
             ],
             [
              0.7777777777777778,
              "#fb9f3a"
             ],
             [
              0.8888888888888888,
              "#fdca26"
             ],
             [
              1,
              "#f0f921"
             ]
            ],
            "type": "histogram2d"
           }
          ],
          "histogram2dcontour": [
           {
            "colorbar": {
             "outlinewidth": 0,
             "ticks": ""
            },
            "colorscale": [
             [
              0,
              "#0d0887"
             ],
             [
              0.1111111111111111,
              "#46039f"
             ],
             [
              0.2222222222222222,
              "#7201a8"
             ],
             [
              0.3333333333333333,
              "#9c179e"
             ],
             [
              0.4444444444444444,
              "#bd3786"
             ],
             [
              0.5555555555555556,
              "#d8576b"
             ],
             [
              0.6666666666666666,
              "#ed7953"
             ],
             [
              0.7777777777777778,
              "#fb9f3a"
             ],
             [
              0.8888888888888888,
              "#fdca26"
             ],
             [
              1,
              "#f0f921"
             ]
            ],
            "type": "histogram2dcontour"
           }
          ],
          "mesh3d": [
           {
            "colorbar": {
             "outlinewidth": 0,
             "ticks": ""
            },
            "type": "mesh3d"
           }
          ],
          "parcoords": [
           {
            "line": {
             "colorbar": {
              "outlinewidth": 0,
              "ticks": ""
             }
            },
            "type": "parcoords"
           }
          ],
          "pie": [
           {
            "automargin": true,
            "type": "pie"
           }
          ],
          "scatter": [
           {
            "marker": {
             "colorbar": {
              "outlinewidth": 0,
              "ticks": ""
             }
            },
            "type": "scatter"
           }
          ],
          "scatter3d": [
           {
            "line": {
             "colorbar": {
              "outlinewidth": 0,
              "ticks": ""
             }
            },
            "marker": {
             "colorbar": {
              "outlinewidth": 0,
              "ticks": ""
             }
            },
            "type": "scatter3d"
           }
          ],
          "scattercarpet": [
           {
            "marker": {
             "colorbar": {
              "outlinewidth": 0,
              "ticks": ""
             }
            },
            "type": "scattercarpet"
           }
          ],
          "scattergeo": [
           {
            "marker": {
             "colorbar": {
              "outlinewidth": 0,
              "ticks": ""
             }
            },
            "type": "scattergeo"
           }
          ],
          "scattergl": [
           {
            "marker": {
             "colorbar": {
              "outlinewidth": 0,
              "ticks": ""
             }
            },
            "type": "scattergl"
           }
          ],
          "scattermapbox": [
           {
            "marker": {
             "colorbar": {
              "outlinewidth": 0,
              "ticks": ""
             }
            },
            "type": "scattermapbox"
           }
          ],
          "scatterpolar": [
           {
            "marker": {
             "colorbar": {
              "outlinewidth": 0,
              "ticks": ""
             }
            },
            "type": "scatterpolar"
           }
          ],
          "scatterpolargl": [
           {
            "marker": {
             "colorbar": {
              "outlinewidth": 0,
              "ticks": ""
             }
            },
            "type": "scatterpolargl"
           }
          ],
          "scatterternary": [
           {
            "marker": {
             "colorbar": {
              "outlinewidth": 0,
              "ticks": ""
             }
            },
            "type": "scatterternary"
           }
          ],
          "surface": [
           {
            "colorbar": {
             "outlinewidth": 0,
             "ticks": ""
            },
            "colorscale": [
             [
              0,
              "#0d0887"
             ],
             [
              0.1111111111111111,
              "#46039f"
             ],
             [
              0.2222222222222222,
              "#7201a8"
             ],
             [
              0.3333333333333333,
              "#9c179e"
             ],
             [
              0.4444444444444444,
              "#bd3786"
             ],
             [
              0.5555555555555556,
              "#d8576b"
             ],
             [
              0.6666666666666666,
              "#ed7953"
             ],
             [
              0.7777777777777778,
              "#fb9f3a"
             ],
             [
              0.8888888888888888,
              "#fdca26"
             ],
             [
              1,
              "#f0f921"
             ]
            ],
            "type": "surface"
           }
          ],
          "table": [
           {
            "cells": {
             "fill": {
              "color": "#EBF0F8"
             },
             "line": {
              "color": "white"
             }
            },
            "header": {
             "fill": {
              "color": "#C8D4E3"
             },
             "line": {
              "color": "white"
             }
            },
            "type": "table"
           }
          ]
         },
         "layout": {
          "annotationdefaults": {
           "arrowcolor": "#2a3f5f",
           "arrowhead": 0,
           "arrowwidth": 1
          },
          "coloraxis": {
           "colorbar": {
            "outlinewidth": 0,
            "ticks": ""
           }
          },
          "colorscale": {
           "diverging": [
            [
             0,
             "#8e0152"
            ],
            [
             0.1,
             "#c51b7d"
            ],
            [
             0.2,
             "#de77ae"
            ],
            [
             0.3,
             "#f1b6da"
            ],
            [
             0.4,
             "#fde0ef"
            ],
            [
             0.5,
             "#f7f7f7"
            ],
            [
             0.6,
             "#e6f5d0"
            ],
            [
             0.7,
             "#b8e186"
            ],
            [
             0.8,
             "#7fbc41"
            ],
            [
             0.9,
             "#4d9221"
            ],
            [
             1,
             "#276419"
            ]
           ],
           "sequential": [
            [
             0,
             "#0d0887"
            ],
            [
             0.1111111111111111,
             "#46039f"
            ],
            [
             0.2222222222222222,
             "#7201a8"
            ],
            [
             0.3333333333333333,
             "#9c179e"
            ],
            [
             0.4444444444444444,
             "#bd3786"
            ],
            [
             0.5555555555555556,
             "#d8576b"
            ],
            [
             0.6666666666666666,
             "#ed7953"
            ],
            [
             0.7777777777777778,
             "#fb9f3a"
            ],
            [
             0.8888888888888888,
             "#fdca26"
            ],
            [
             1,
             "#f0f921"
            ]
           ],
           "sequentialminus": [
            [
             0,
             "#0d0887"
            ],
            [
             0.1111111111111111,
             "#46039f"
            ],
            [
             0.2222222222222222,
             "#7201a8"
            ],
            [
             0.3333333333333333,
             "#9c179e"
            ],
            [
             0.4444444444444444,
             "#bd3786"
            ],
            [
             0.5555555555555556,
             "#d8576b"
            ],
            [
             0.6666666666666666,
             "#ed7953"
            ],
            [
             0.7777777777777778,
             "#fb9f3a"
            ],
            [
             0.8888888888888888,
             "#fdca26"
            ],
            [
             1,
             "#f0f921"
            ]
           ]
          },
          "colorway": [
           "#636efa",
           "#EF553B",
           "#00cc96",
           "#ab63fa",
           "#FFA15A",
           "#19d3f3",
           "#FF6692",
           "#B6E880",
           "#FF97FF",
           "#FECB52"
          ],
          "font": {
           "color": "#2a3f5f"
          },
          "geo": {
           "bgcolor": "white",
           "lakecolor": "white",
           "landcolor": "#E5ECF6",
           "showlakes": true,
           "showland": true,
           "subunitcolor": "white"
          },
          "hoverlabel": {
           "align": "left"
          },
          "hovermode": "closest",
          "mapbox": {
           "style": "light"
          },
          "paper_bgcolor": "white",
          "plot_bgcolor": "#E5ECF6",
          "polar": {
           "angularaxis": {
            "gridcolor": "white",
            "linecolor": "white",
            "ticks": ""
           },
           "bgcolor": "#E5ECF6",
           "radialaxis": {
            "gridcolor": "white",
            "linecolor": "white",
            "ticks": ""
           }
          },
          "scene": {
           "xaxis": {
            "backgroundcolor": "#E5ECF6",
            "gridcolor": "white",
            "gridwidth": 2,
            "linecolor": "white",
            "showbackground": true,
            "ticks": "",
            "zerolinecolor": "white"
           },
           "yaxis": {
            "backgroundcolor": "#E5ECF6",
            "gridcolor": "white",
            "gridwidth": 2,
            "linecolor": "white",
            "showbackground": true,
            "ticks": "",
            "zerolinecolor": "white"
           },
           "zaxis": {
            "backgroundcolor": "#E5ECF6",
            "gridcolor": "white",
            "gridwidth": 2,
            "linecolor": "white",
            "showbackground": true,
            "ticks": "",
            "zerolinecolor": "white"
           }
          },
          "shapedefaults": {
           "line": {
            "color": "#2a3f5f"
           }
          },
          "ternary": {
           "aaxis": {
            "gridcolor": "white",
            "linecolor": "white",
            "ticks": ""
           },
           "baxis": {
            "gridcolor": "white",
            "linecolor": "white",
            "ticks": ""
           },
           "bgcolor": "#E5ECF6",
           "caxis": {
            "gridcolor": "white",
            "linecolor": "white",
            "ticks": ""
           }
          },
          "title": {
           "x": 0.05
          },
          "xaxis": {
           "automargin": true,
           "gridcolor": "white",
           "linecolor": "white",
           "ticks": "",
           "title": {
            "standoff": 15
           },
           "zerolinecolor": "white",
           "zerolinewidth": 2
          },
          "yaxis": {
           "automargin": true,
           "gridcolor": "white",
           "linecolor": "white",
           "ticks": "",
           "title": {
            "standoff": 15
           },
           "zerolinecolor": "white",
           "zerolinewidth": 2
          }
         }
        },
        "title": {
         "text": "Money Spent per Month"
        },
        "xaxis": {
         "anchor": "y",
         "domain": [
          0,
          1
         ],
         "title": {
          "text": "Category"
         }
        },
        "yaxis": {
         "anchor": "x",
         "domain": [
          0,
          1
         ],
         "title": {
          "text": "Sum of Items (USD)"
         }
        }
       }
      },
      "text/html": [
       "<div>\n",
       "        \n",
       "        \n",
       "            <div id=\"554a30df-1607-49ad-8d57-728f32e1fcba\" class=\"plotly-graph-div\" style=\"height:525px; width:100%;\"></div>\n",
       "            <script type=\"text/javascript\">\n",
       "                require([\"plotly\"], function(Plotly) {\n",
       "                    window.PLOTLYENV=window.PLOTLYENV || {};\n",
       "                    \n",
       "                if (document.getElementById(\"554a30df-1607-49ad-8d57-728f32e1fcba\")) {\n",
       "                    Plotly.newPlot(\n",
       "                        '554a30df-1607-49ad-8d57-728f32e1fcba',\n",
       "                        [{\"alignmentgroup\": \"True\", \"hoverlabel\": {\"namelength\": 0}, \"hovertemplate\": \"Category=%{x}<br>Sum of Items (USD)=%{y}\", \"legendgroup\": \"\", \"marker\": {\"color\": \"#636efa\"}, \"name\": \"\", \"offsetgroup\": \"\", \"orientation\": \"v\", \"showlegend\": false, \"textposition\": \"auto\", \"type\": \"bar\", \"x\": [\"February\", \"January\"], \"xaxis\": \"x\", \"y\": [1928.64, 3442.4700000000003], \"yaxis\": \"y\"}],\n",
       "                        {\"barmode\": \"relative\", \"legend\": {\"tracegroupgap\": 0}, \"template\": {\"data\": {\"bar\": [{\"error_x\": {\"color\": \"#2a3f5f\"}, \"error_y\": {\"color\": \"#2a3f5f\"}, \"marker\": {\"line\": {\"color\": \"#E5ECF6\", \"width\": 0.5}}, \"type\": \"bar\"}], \"barpolar\": [{\"marker\": {\"line\": {\"color\": \"#E5ECF6\", \"width\": 0.5}}, \"type\": \"barpolar\"}], \"carpet\": [{\"aaxis\": {\"endlinecolor\": \"#2a3f5f\", \"gridcolor\": \"white\", \"linecolor\": \"white\", \"minorgridcolor\": \"white\", \"startlinecolor\": \"#2a3f5f\"}, \"baxis\": {\"endlinecolor\": \"#2a3f5f\", \"gridcolor\": \"white\", \"linecolor\": \"white\", \"minorgridcolor\": \"white\", \"startlinecolor\": \"#2a3f5f\"}, \"type\": \"carpet\"}], \"choropleth\": [{\"colorbar\": {\"outlinewidth\": 0, \"ticks\": \"\"}, \"type\": \"choropleth\"}], \"contour\": [{\"colorbar\": {\"outlinewidth\": 0, \"ticks\": \"\"}, \"colorscale\": [[0.0, \"#0d0887\"], [0.1111111111111111, \"#46039f\"], [0.2222222222222222, \"#7201a8\"], [0.3333333333333333, \"#9c179e\"], [0.4444444444444444, \"#bd3786\"], [0.5555555555555556, \"#d8576b\"], [0.6666666666666666, \"#ed7953\"], [0.7777777777777778, \"#fb9f3a\"], [0.8888888888888888, \"#fdca26\"], [1.0, \"#f0f921\"]], \"type\": \"contour\"}], \"contourcarpet\": [{\"colorbar\": {\"outlinewidth\": 0, \"ticks\": \"\"}, \"type\": \"contourcarpet\"}], \"heatmap\": [{\"colorbar\": {\"outlinewidth\": 0, \"ticks\": \"\"}, \"colorscale\": [[0.0, \"#0d0887\"], [0.1111111111111111, \"#46039f\"], [0.2222222222222222, \"#7201a8\"], [0.3333333333333333, \"#9c179e\"], [0.4444444444444444, \"#bd3786\"], [0.5555555555555556, \"#d8576b\"], [0.6666666666666666, \"#ed7953\"], [0.7777777777777778, \"#fb9f3a\"], [0.8888888888888888, \"#fdca26\"], [1.0, \"#f0f921\"]], \"type\": \"heatmap\"}], \"heatmapgl\": [{\"colorbar\": {\"outlinewidth\": 0, \"ticks\": \"\"}, \"colorscale\": [[0.0, \"#0d0887\"], [0.1111111111111111, \"#46039f\"], [0.2222222222222222, \"#7201a8\"], [0.3333333333333333, \"#9c179e\"], [0.4444444444444444, \"#bd3786\"], [0.5555555555555556, \"#d8576b\"], [0.6666666666666666, \"#ed7953\"], [0.7777777777777778, \"#fb9f3a\"], [0.8888888888888888, \"#fdca26\"], [1.0, \"#f0f921\"]], \"type\": \"heatmapgl\"}], \"histogram\": [{\"marker\": {\"colorbar\": {\"outlinewidth\": 0, \"ticks\": \"\"}}, \"type\": \"histogram\"}], \"histogram2d\": [{\"colorbar\": {\"outlinewidth\": 0, \"ticks\": \"\"}, \"colorscale\": [[0.0, \"#0d0887\"], [0.1111111111111111, \"#46039f\"], [0.2222222222222222, \"#7201a8\"], [0.3333333333333333, \"#9c179e\"], [0.4444444444444444, \"#bd3786\"], [0.5555555555555556, \"#d8576b\"], [0.6666666666666666, \"#ed7953\"], [0.7777777777777778, \"#fb9f3a\"], [0.8888888888888888, \"#fdca26\"], [1.0, \"#f0f921\"]], \"type\": \"histogram2d\"}], \"histogram2dcontour\": [{\"colorbar\": {\"outlinewidth\": 0, \"ticks\": \"\"}, \"colorscale\": [[0.0, \"#0d0887\"], [0.1111111111111111, \"#46039f\"], [0.2222222222222222, \"#7201a8\"], [0.3333333333333333, \"#9c179e\"], [0.4444444444444444, \"#bd3786\"], [0.5555555555555556, \"#d8576b\"], [0.6666666666666666, \"#ed7953\"], [0.7777777777777778, \"#fb9f3a\"], [0.8888888888888888, \"#fdca26\"], [1.0, \"#f0f921\"]], \"type\": \"histogram2dcontour\"}], \"mesh3d\": [{\"colorbar\": {\"outlinewidth\": 0, \"ticks\": \"\"}, \"type\": \"mesh3d\"}], \"parcoords\": [{\"line\": {\"colorbar\": {\"outlinewidth\": 0, \"ticks\": \"\"}}, \"type\": \"parcoords\"}], \"pie\": [{\"automargin\": true, \"type\": \"pie\"}], \"scatter\": [{\"marker\": {\"colorbar\": {\"outlinewidth\": 0, \"ticks\": \"\"}}, \"type\": \"scatter\"}], \"scatter3d\": [{\"line\": {\"colorbar\": {\"outlinewidth\": 0, \"ticks\": \"\"}}, \"marker\": {\"colorbar\": {\"outlinewidth\": 0, \"ticks\": \"\"}}, \"type\": \"scatter3d\"}], \"scattercarpet\": [{\"marker\": {\"colorbar\": {\"outlinewidth\": 0, \"ticks\": \"\"}}, \"type\": \"scattercarpet\"}], \"scattergeo\": [{\"marker\": {\"colorbar\": {\"outlinewidth\": 0, \"ticks\": \"\"}}, \"type\": \"scattergeo\"}], \"scattergl\": [{\"marker\": {\"colorbar\": {\"outlinewidth\": 0, \"ticks\": \"\"}}, \"type\": \"scattergl\"}], \"scattermapbox\": [{\"marker\": {\"colorbar\": {\"outlinewidth\": 0, \"ticks\": \"\"}}, \"type\": \"scattermapbox\"}], \"scatterpolar\": [{\"marker\": {\"colorbar\": {\"outlinewidth\": 0, \"ticks\": \"\"}}, \"type\": \"scatterpolar\"}], \"scatterpolargl\": [{\"marker\": {\"colorbar\": {\"outlinewidth\": 0, \"ticks\": \"\"}}, \"type\": \"scatterpolargl\"}], \"scatterternary\": [{\"marker\": {\"colorbar\": {\"outlinewidth\": 0, \"ticks\": \"\"}}, \"type\": \"scatterternary\"}], \"surface\": [{\"colorbar\": {\"outlinewidth\": 0, \"ticks\": \"\"}, \"colorscale\": [[0.0, \"#0d0887\"], [0.1111111111111111, \"#46039f\"], [0.2222222222222222, \"#7201a8\"], [0.3333333333333333, \"#9c179e\"], [0.4444444444444444, \"#bd3786\"], [0.5555555555555556, \"#d8576b\"], [0.6666666666666666, \"#ed7953\"], [0.7777777777777778, \"#fb9f3a\"], [0.8888888888888888, \"#fdca26\"], [1.0, \"#f0f921\"]], \"type\": \"surface\"}], \"table\": [{\"cells\": {\"fill\": {\"color\": \"#EBF0F8\"}, \"line\": {\"color\": \"white\"}}, \"header\": {\"fill\": {\"color\": \"#C8D4E3\"}, \"line\": {\"color\": \"white\"}}, \"type\": \"table\"}]}, \"layout\": {\"annotationdefaults\": {\"arrowcolor\": \"#2a3f5f\", \"arrowhead\": 0, \"arrowwidth\": 1}, \"coloraxis\": {\"colorbar\": {\"outlinewidth\": 0, \"ticks\": \"\"}}, \"colorscale\": {\"diverging\": [[0, \"#8e0152\"], [0.1, \"#c51b7d\"], [0.2, \"#de77ae\"], [0.3, \"#f1b6da\"], [0.4, \"#fde0ef\"], [0.5, \"#f7f7f7\"], [0.6, \"#e6f5d0\"], [0.7, \"#b8e186\"], [0.8, \"#7fbc41\"], [0.9, \"#4d9221\"], [1, \"#276419\"]], \"sequential\": [[0.0, \"#0d0887\"], [0.1111111111111111, \"#46039f\"], [0.2222222222222222, \"#7201a8\"], [0.3333333333333333, \"#9c179e\"], [0.4444444444444444, \"#bd3786\"], [0.5555555555555556, \"#d8576b\"], [0.6666666666666666, \"#ed7953\"], [0.7777777777777778, \"#fb9f3a\"], [0.8888888888888888, \"#fdca26\"], [1.0, \"#f0f921\"]], \"sequentialminus\": [[0.0, \"#0d0887\"], [0.1111111111111111, \"#46039f\"], [0.2222222222222222, \"#7201a8\"], [0.3333333333333333, \"#9c179e\"], [0.4444444444444444, \"#bd3786\"], [0.5555555555555556, \"#d8576b\"], [0.6666666666666666, \"#ed7953\"], [0.7777777777777778, \"#fb9f3a\"], [0.8888888888888888, \"#fdca26\"], [1.0, \"#f0f921\"]]}, \"colorway\": [\"#636efa\", \"#EF553B\", \"#00cc96\", \"#ab63fa\", \"#FFA15A\", \"#19d3f3\", \"#FF6692\", \"#B6E880\", \"#FF97FF\", \"#FECB52\"], \"font\": {\"color\": \"#2a3f5f\"}, \"geo\": {\"bgcolor\": \"white\", \"lakecolor\": \"white\", \"landcolor\": \"#E5ECF6\", \"showlakes\": true, \"showland\": true, \"subunitcolor\": \"white\"}, \"hoverlabel\": {\"align\": \"left\"}, \"hovermode\": \"closest\", \"mapbox\": {\"style\": \"light\"}, \"paper_bgcolor\": \"white\", \"plot_bgcolor\": \"#E5ECF6\", \"polar\": {\"angularaxis\": {\"gridcolor\": \"white\", \"linecolor\": \"white\", \"ticks\": \"\"}, \"bgcolor\": \"#E5ECF6\", \"radialaxis\": {\"gridcolor\": \"white\", \"linecolor\": \"white\", \"ticks\": \"\"}}, \"scene\": {\"xaxis\": {\"backgroundcolor\": \"#E5ECF6\", \"gridcolor\": \"white\", \"gridwidth\": 2, \"linecolor\": \"white\", \"showbackground\": true, \"ticks\": \"\", \"zerolinecolor\": \"white\"}, \"yaxis\": {\"backgroundcolor\": \"#E5ECF6\", \"gridcolor\": \"white\", \"gridwidth\": 2, \"linecolor\": \"white\", \"showbackground\": true, \"ticks\": \"\", \"zerolinecolor\": \"white\"}, \"zaxis\": {\"backgroundcolor\": \"#E5ECF6\", \"gridcolor\": \"white\", \"gridwidth\": 2, \"linecolor\": \"white\", \"showbackground\": true, \"ticks\": \"\", \"zerolinecolor\": \"white\"}}, \"shapedefaults\": {\"line\": {\"color\": \"#2a3f5f\"}}, \"ternary\": {\"aaxis\": {\"gridcolor\": \"white\", \"linecolor\": \"white\", \"ticks\": \"\"}, \"baxis\": {\"gridcolor\": \"white\", \"linecolor\": \"white\", \"ticks\": \"\"}, \"bgcolor\": \"#E5ECF6\", \"caxis\": {\"gridcolor\": \"white\", \"linecolor\": \"white\", \"ticks\": \"\"}}, \"title\": {\"x\": 0.05}, \"xaxis\": {\"automargin\": true, \"gridcolor\": \"white\", \"linecolor\": \"white\", \"ticks\": \"\", \"title\": {\"standoff\": 15}, \"zerolinecolor\": \"white\", \"zerolinewidth\": 2}, \"yaxis\": {\"automargin\": true, \"gridcolor\": \"white\", \"linecolor\": \"white\", \"ticks\": \"\", \"title\": {\"standoff\": 15}, \"zerolinecolor\": \"white\", \"zerolinewidth\": 2}}}, \"title\": {\"text\": \"Money Spent per Month\"}, \"xaxis\": {\"anchor\": \"y\", \"domain\": [0.0, 1.0], \"title\": {\"text\": \"Category\"}}, \"yaxis\": {\"anchor\": \"x\", \"domain\": [0.0, 1.0], \"title\": {\"text\": \"Sum of Items (USD)\"}}},\n",
       "                        {\"responsive\": true}\n",
       "                    ).then(function(){\n",
       "                            \n",
       "var gd = document.getElementById('554a30df-1607-49ad-8d57-728f32e1fcba');\n",
       "var x = new MutationObserver(function (mutations, observer) {{\n",
       "        var display = window.getComputedStyle(gd).display;\n",
       "        if (!display || display === 'none') {{\n",
       "            console.log([gd, 'removed!']);\n",
       "            Plotly.purge(gd);\n",
       "            observer.disconnect();\n",
       "        }}\n",
       "}});\n",
       "\n",
       "// Listen for the removal of the full notebook cells\n",
       "var notebookContainer = gd.closest('#notebook-container');\n",
       "if (notebookContainer) {{\n",
       "    x.observe(notebookContainer, {childList: true});\n",
       "}}\n",
       "\n",
       "// Listen for the clearing of the current output cell\n",
       "var outputEl = gd.closest('.output');\n",
       "if (outputEl) {{\n",
       "    x.observe(outputEl, {childList: true});\n",
       "}}\n",
       "\n",
       "                        })\n",
       "                };\n",
       "                });\n",
       "            </script>\n",
       "        </div>"
      ]
     },
     "metadata": {},
     "output_type": "display_data"
    },
    {
     "data": {
      "text/html": [
       "<div>\n",
       "<style scoped>\n",
       "    .dataframe tbody tr th:only-of-type {\n",
       "        vertical-align: middle;\n",
       "    }\n",
       "\n",
       "    .dataframe tbody tr th {\n",
       "        vertical-align: top;\n",
       "    }\n",
       "\n",
       "    .dataframe thead th {\n",
       "        text-align: right;\n",
       "    }\n",
       "</style>\n",
       "<table border=\"1\" class=\"dataframe\">\n",
       "  <thead>\n",
       "    <tr style=\"text-align: right;\">\n",
       "      <th></th>\n",
       "      <th>Date</th>\n",
       "      <th>Check Number</th>\n",
       "      <th>Description</th>\n",
       "      <th>Type</th>\n",
       "      <th>Charge</th>\n",
       "      <th>Debit</th>\n",
       "      <th>Credit</th>\n",
       "      <th>Running Balance</th>\n",
       "      <th>Year</th>\n",
       "      <th>Month</th>\n",
       "      <th>MonthName</th>\n",
       "      <th>Day</th>\n",
       "      <th>DayName</th>\n",
       "      <th>DayCode</th>\n",
       "      <th>WeekNum</th>\n",
       "      <th>wn</th>\n",
       "    </tr>\n",
       "  </thead>\n",
       "  <tbody>\n",
       "    <tr>\n",
       "      <td>0</td>\n",
       "      <td>9/4/18</td>\n",
       "      <td>0</td>\n",
       "      <td>RACETRAC100                BRAD</td>\n",
       "      <td>Food</td>\n",
       "      <td>3.98</td>\n",
       "      <td>3.98</td>\n",
       "      <td>0.0</td>\n",
       "      <td>1179.30</td>\n",
       "      <td>18</td>\n",
       "      <td>9</td>\n",
       "      <td>September</td>\n",
       "      <td>4</td>\n",
       "      <td>Tuesday</td>\n",
       "      <td>2</td>\n",
       "      <td>3</td>\n",
       "      <td>2</td>\n",
       "    </tr>\n",
       "    <tr>\n",
       "      <td>1</td>\n",
       "      <td>9/4/18</td>\n",
       "      <td>0</td>\n",
       "      <td>MARTA                      ATLA</td>\n",
       "      <td>Transportation</td>\n",
       "      <td>6.00</td>\n",
       "      <td>6.00</td>\n",
       "      <td>0.0</td>\n",
       "      <td>1173.30</td>\n",
       "      <td>18</td>\n",
       "      <td>9</td>\n",
       "      <td>September</td>\n",
       "      <td>4</td>\n",
       "      <td>Tuesday</td>\n",
       "      <td>2</td>\n",
       "      <td>3</td>\n",
       "      <td>3</td>\n",
       "    </tr>\n",
       "    <tr>\n",
       "      <td>2</td>\n",
       "      <td>9/4/18</td>\n",
       "      <td>0</td>\n",
       "      <td>JOES EATS   SWEETS INC     BRAD</td>\n",
       "      <td>Food</td>\n",
       "      <td>10.00</td>\n",
       "      <td>10.00</td>\n",
       "      <td>0.0</td>\n",
       "      <td>1183.28</td>\n",
       "      <td>18</td>\n",
       "      <td>9</td>\n",
       "      <td>September</td>\n",
       "      <td>4</td>\n",
       "      <td>Tuesday</td>\n",
       "      <td>2</td>\n",
       "      <td>3</td>\n",
       "      <td>4</td>\n",
       "    </tr>\n",
       "    <tr>\n",
       "      <td>3</td>\n",
       "      <td>9/5/18</td>\n",
       "      <td>0</td>\n",
       "      <td>MOE S SW GRILL 4991        ATLA</td>\n",
       "      <td>Food</td>\n",
       "      <td>5.43</td>\n",
       "      <td>5.43</td>\n",
       "      <td>0.0</td>\n",
       "      <td>1167.87</td>\n",
       "      <td>18</td>\n",
       "      <td>9</td>\n",
       "      <td>September</td>\n",
       "      <td>5</td>\n",
       "      <td>Wednesday</td>\n",
       "      <td>3</td>\n",
       "      <td>4</td>\n",
       "      <td>5</td>\n",
       "    </tr>\n",
       "    <tr>\n",
       "      <td>4</td>\n",
       "      <td>9/6/18</td>\n",
       "      <td>0</td>\n",
       "      <td>CHECKERS 1135              DULU</td>\n",
       "      <td>Food</td>\n",
       "      <td>2.12</td>\n",
       "      <td>2.12</td>\n",
       "      <td>0.0</td>\n",
       "      <td>1165.75</td>\n",
       "      <td>18</td>\n",
       "      <td>9</td>\n",
       "      <td>September</td>\n",
       "      <td>6</td>\n",
       "      <td>Thursday</td>\n",
       "      <td>4</td>\n",
       "      <td>5</td>\n",
       "      <td>6</td>\n",
       "    </tr>\n",
       "    <tr>\n",
       "      <td>...</td>\n",
       "      <td>...</td>\n",
       "      <td>...</td>\n",
       "      <td>...</td>\n",
       "      <td>...</td>\n",
       "      <td>...</td>\n",
       "      <td>...</td>\n",
       "      <td>...</td>\n",
       "      <td>...</td>\n",
       "      <td>...</td>\n",
       "      <td>...</td>\n",
       "      <td>...</td>\n",
       "      <td>...</td>\n",
       "      <td>...</td>\n",
       "      <td>...</td>\n",
       "      <td>...</td>\n",
       "      <td>...</td>\n",
       "    </tr>\n",
       "    <tr>\n",
       "      <td>530</td>\n",
       "      <td>2/19/20</td>\n",
       "      <td>0</td>\n",
       "      <td>FROM 0175 1000027445740</td>\n",
       "      <td>Mom Fund</td>\n",
       "      <td>150.00</td>\n",
       "      <td>0.00</td>\n",
       "      <td>150.0</td>\n",
       "      <td>1520.45</td>\n",
       "      <td>20</td>\n",
       "      <td>2</td>\n",
       "      <td>February</td>\n",
       "      <td>19</td>\n",
       "      <td>Wednesday</td>\n",
       "      <td>3</td>\n",
       "      <td>4</td>\n",
       "      <td>36</td>\n",
       "    </tr>\n",
       "    <tr>\n",
       "      <td>531</td>\n",
       "      <td>2/19/20</td>\n",
       "      <td>0</td>\n",
       "      <td>WILLYS GEORGIA STATE       ATLA</td>\n",
       "      <td>Food</td>\n",
       "      <td>1.20</td>\n",
       "      <td>1.20</td>\n",
       "      <td>0.0</td>\n",
       "      <td>1519.25</td>\n",
       "      <td>20</td>\n",
       "      <td>2</td>\n",
       "      <td>February</td>\n",
       "      <td>19</td>\n",
       "      <td>Wednesday</td>\n",
       "      <td>3</td>\n",
       "      <td>4</td>\n",
       "      <td>39</td>\n",
       "    </tr>\n",
       "    <tr>\n",
       "      <td>532</td>\n",
       "      <td>2/19/20</td>\n",
       "      <td>0</td>\n",
       "      <td>GSU CHICK-FIL-A            ATLA</td>\n",
       "      <td>Food</td>\n",
       "      <td>4.35</td>\n",
       "      <td>4.35</td>\n",
       "      <td>0.0</td>\n",
       "      <td>1514.90</td>\n",
       "      <td>20</td>\n",
       "      <td>2</td>\n",
       "      <td>February</td>\n",
       "      <td>19</td>\n",
       "      <td>Wednesday</td>\n",
       "      <td>3</td>\n",
       "      <td>4</td>\n",
       "      <td>42</td>\n",
       "    </tr>\n",
       "    <tr>\n",
       "      <td>533</td>\n",
       "      <td>2/19/20</td>\n",
       "      <td>0</td>\n",
       "      <td>TD BANK          PAYMENT    ANT</td>\n",
       "      <td>CC BillPay</td>\n",
       "      <td>1019.84</td>\n",
       "      <td>1019.84</td>\n",
       "      <td>0.0</td>\n",
       "      <td>495.06</td>\n",
       "      <td>20</td>\n",
       "      <td>2</td>\n",
       "      <td>February</td>\n",
       "      <td>19</td>\n",
       "      <td>Wednesday</td>\n",
       "      <td>3</td>\n",
       "      <td>4</td>\n",
       "      <td>45</td>\n",
       "    </tr>\n",
       "    <tr>\n",
       "      <td>534</td>\n",
       "      <td>2/20/20</td>\n",
       "      <td>0</td>\n",
       "      <td>SUBWAY        00046276     DULU</td>\n",
       "      <td>Food</td>\n",
       "      <td>13.74</td>\n",
       "      <td>13.74</td>\n",
       "      <td>0.0</td>\n",
       "      <td>481.32</td>\n",
       "      <td>20</td>\n",
       "      <td>2</td>\n",
       "      <td>February</td>\n",
       "      <td>20</td>\n",
       "      <td>Thursday</td>\n",
       "      <td>4</td>\n",
       "      <td>5</td>\n",
       "      <td>48</td>\n",
       "    </tr>\n",
       "  </tbody>\n",
       "</table>\n",
       "<p>535 rows × 16 columns</p>\n",
       "</div>"
      ],
      "text/plain": [
       "        Date  Check Number                       Description            Type  \\\n",
       "0     9/4/18             0   RACETRAC100                BRAD            Food   \n",
       "1     9/4/18             0   MARTA                      ATLA  Transportation   \n",
       "2     9/4/18             0   JOES EATS   SWEETS INC     BRAD            Food   \n",
       "3     9/5/18             0   MOE S SW GRILL 4991        ATLA            Food   \n",
       "4     9/6/18             0   CHECKERS 1135              DULU            Food   \n",
       "..       ...           ...                               ...             ...   \n",
       "530  2/19/20             0         FROM 0175 1000027445740          Mom Fund   \n",
       "531  2/19/20             0   WILLYS GEORGIA STATE       ATLA            Food   \n",
       "532  2/19/20             0   GSU CHICK-FIL-A            ATLA            Food   \n",
       "533  2/19/20             0   TD BANK          PAYMENT    ANT      CC BillPay   \n",
       "534  2/20/20             0   SUBWAY        00046276     DULU            Food   \n",
       "\n",
       "      Charge    Debit  Credit  Running Balance Year Month  MonthName Day  \\\n",
       "0       3.98     3.98     0.0          1179.30   18     9  September   4   \n",
       "1       6.00     6.00     0.0          1173.30   18     9  September   4   \n",
       "2      10.00    10.00     0.0          1183.28   18     9  September   4   \n",
       "3       5.43     5.43     0.0          1167.87   18     9  September   5   \n",
       "4       2.12     2.12     0.0          1165.75   18     9  September   6   \n",
       "..       ...      ...     ...              ...  ...   ...        ...  ..   \n",
       "530   150.00     0.00   150.0          1520.45   20     2   February  19   \n",
       "531     1.20     1.20     0.0          1519.25   20     2   February  19   \n",
       "532     4.35     4.35     0.0          1514.90   20     2   February  19   \n",
       "533  1019.84  1019.84     0.0           495.06   20     2   February  19   \n",
       "534    13.74    13.74     0.0           481.32   20     2   February  20   \n",
       "\n",
       "       DayName  DayCode  WeekNum  wn  \n",
       "0      Tuesday        2        3   2  \n",
       "1      Tuesday        2        3   3  \n",
       "2      Tuesday        2        3   4  \n",
       "3    Wednesday        3        4   5  \n",
       "4     Thursday        4        5   6  \n",
       "..         ...      ...      ...  ..  \n",
       "530  Wednesday        3        4  36  \n",
       "531  Wednesday        3        4  39  \n",
       "532  Wednesday        3        4  42  \n",
       "533  Wednesday        3        4  45  \n",
       "534   Thursday        4        5  48  \n",
       "\n",
       "[535 rows x 16 columns]"
      ]
     },
     "metadata": {},
     "output_type": "display_data"
    }
   ],
   "source": [
    "import queue\n",
    "import statistics\n",
    "from math import *\n",
    "from statistics import *\n",
    "import pandas as pd\n",
    "import numpy as np\n",
    "import time\n",
    "import plotly.express as px\n",
    "from plotly.subplots import make_subplots\n",
    "import plotly.graph_objects as go\n",
    "import matplotlib.pyplot as plt\n",
    "import seaborn as sns\n",
    "import os\n",
    "import re\n",
    "import datetime\n",
    "\n",
    "#Main Method That Provides Data Calculations and Visualizations\n",
    "def Main():\n",
    "    print(\"Authenticating...\")\n",
    "\n",
    "    # dataset\n",
    "    ds = pd.read_csv('./SUNTRUST_HISTORY/mySuntrustHistory.csv')\n",
    "    \n",
    "    #Description of DataFrame\n",
    "    print('\\n\\nDescription of DataFrame:')\n",
    "    ds.describe()\n",
    "    \n",
    "    #Food Purchase by Date\n",
    "    print('\\n\\nFood Purchase by Date:\\n')\n",
    "    print(ds.loc[ds[\"Type\"].isin([\"Food\"])])\n",
    "    \n",
    "    #Charge Category Value\n",
    "    print('\\n\\nCharge Category Value:\\n')\n",
    "    print(ds[\"Type\"].value_counts())\n",
    "    \n",
    "    ds4 = pd.DataFrame(ds[\"Type\"].value_counts())\n",
    "    print(ds4)\n",
    "    figa = px.bar(x=ds4.index.values, y=ds4['Type'].values, title=\"Amount of Items Purchases per Category\", labels={'x':'Category', 'y':'Frequency '})\n",
    "    figa.show()\n",
    "    figa.write_image(\"./Visualizations/a.png\")\n",
    "    \n",
    "    #Sum of Items per Charge Category\n",
    "    print('\\n\\nSum of Items per Charge Category:\\n')\n",
    "    print(ds.groupby(\"Type\")[\"Charge\"].sum().sort_values(ascending=False))\n",
    "    \n",
    "    ds5 = pd.DataFrame(ds.groupby(\"Type\")[\"Charge\"].sum().sort_values(ascending=False))\n",
    "    figa = px.bar(x=ds5.index.values, y=ds5['Charge'].values, title=\"Sum of Items per Charge Category\", labels={'x':'Category', 'y':'Sum of Items (USD)'})\n",
    "    figa.show()\n",
    "    figa.write_image(\"./Visualizations/b.png\")\n",
    "    \n",
    "    #Sum of Items per Charge Category\n",
    "    print('\\n\\nSum of Items per Charge Category:\\n')\n",
    "    print(ds.groupby(\"Type\")[\"Charge\"].sum().sort_values(ascending=False))\n",
    "    \n",
    "    ds5 = pd.DataFrame(ds.groupby(\"Type\")[\"Charge\"].sum().sort_values(ascending=False))\n",
    "    ds5.head()\n",
    "    figa = px.bar(x=ds5.index.values, y=ds5['Charge'].values, title=\"Sum of Items per Charge Category\", labels={'x':'Category', 'y':'Sum of Items (USD)'})\n",
    "    figa.show()\n",
    "    figa.write_image(\"./Visualizations/c.png\")\n",
    "    #Total Balance over time Graph\n",
    "    totalBal = px.line(ds, x = 'Date', y = 'Running Balance', title='Total Balance over time (09/2018 - 02/2020)')\n",
    "    totalBal.show()\n",
    "    totalBal.write_image(\"./Visualizations/d.png\")\n",
    "    \n",
    "    #for x in ds['Date']:\n",
    "    #    print(x)\n",
    "    \n",
    "    #totalBal2 = px.scatter(ds, x=\"Date\", y=\"Running Balance\", color=\"Type\", marginal_y=\"violin\",\n",
    "    #      marginal_x=\"box\", trendline=\"lowess\", title='Total Balance over time (09/2018 - 02/2020)')\n",
    "    \n",
    "    #totalBal2.show()\n",
    "    \n",
    "    #Month Date Year Insertion\n",
    "    #REGEX Extract '/' replace with ' ' for easier regex functions\n",
    "    arr = []    \n",
    "    regex0 = r\"/\"\n",
    "    subst0 = \" \"   \n",
    "    for date in enumerate(ds['Date']):\n",
    "        arr.insert(int(date[0]), re.sub(regex0, subst0, date[1], 0, re.MULTILINE))\n",
    "    \n",
    "    #REGEX Extract everthing except Year and replace with nothing hence trims the string and create new column\n",
    "    year = []     \n",
    "    regex1 = r\"[\\d]+ [\\d]+ \"\n",
    "    subst1 = \"\"\n",
    "    for each in enumerate(arr):\n",
    "        year.insert(int(each[0]), re.sub(regex1, subst1, each[1], 0, re.MULTILINE))\n",
    "    ds['Year'] = year\n",
    "    \n",
    "    #REGEX Extract everthing except Month and replace with nothing hence trims the string and create new column.\n",
    "    month = []     \n",
    "    regex2 = r\" [\\d]+ [\\d]+\"\n",
    "    subst2 = \"\"    \n",
    "    for each in enumerate(arr):\n",
    "        month.insert(int(each[0]), re.sub(regex2, subst2, each[1], 0, re.MULTILINE))\n",
    "    ds['Month'] = month\n",
    "    \n",
    "    #Get month name based on Value and create new column\n",
    "    monthName = []\n",
    "    for val in enumerate(month):\n",
    "        if(val[1] == \"1\"):\n",
    "            monthName.insert(int(val[0]), \"January\" )\n",
    "        elif(val[1] == \"2\"):\n",
    "            monthName.insert(int(val[0]), \"February\" )\n",
    "        elif(val[1] == \"3\"):\n",
    "            monthName.insert(int(val[0]), \"March\")\n",
    "        elif(val[1] == \"4\"):\n",
    "            monthName.insert(int(val[0]), \"April\")\n",
    "        elif(val[1] == \"5\"):\n",
    "            monthName.insert(int(val[0]), \"May\")\n",
    "        elif(val[1] == \"6\"):\n",
    "            monthName.insert(int(val[0]), \"June\")\n",
    "        elif(val[1] == \"7\"):\n",
    "            monthName.insert(int(val[0]), \"July\")\n",
    "        elif(val[1] == \"8\"):\n",
    "            monthName.insert(int(val[0]), \"August\")\n",
    "        elif(val[1] == \"9\"):\n",
    "            monthName.insert(int(val[0]), \"September\")\n",
    "        elif(val[1] == \"10\"):\n",
    "            monthName.insert(int(val[0]), \"October\")\n",
    "        elif(val[1] == \"11\"):\n",
    "            monthName.insert(int(val[0]), \"November\")\n",
    "        elif(val[1] == \"12\"):\n",
    "            monthName.insert(int(val[0]), \"December\")\n",
    "        else:  \n",
    "            monthName.insert(int(val[0]), \"N/A\")\n",
    "    ds['MonthName'] = monthName\n",
    "    \n",
    "    #REGEX Extract everthing before Day and replace with nothing hence trims the string with day and year\n",
    "    dayyr = []     \n",
    "    regex3 = r\"(^[\\d]+ )\"\n",
    "    subst3 = \"\"    \n",
    "    for each in enumerate(arr):\n",
    "        dayyr.insert(int(each[0]), re.sub(regex3, subst3, each[1], 0, re.MULTILINE))\n",
    "    \n",
    "    #REGEX Extract everthing after Day and replace with nothing hence trims the string with just day. add to data create new column\n",
    "    day = []\n",
    "    regex4 = r\"( [\\d]+$)\"\n",
    "    subst4 = \"\"\n",
    "    for each in enumerate(dayyr):\n",
    "        day.insert(int(each[0]), re.sub(regex4, subst4, each[1], 0, re.MULTILINE))\n",
    "    ds['Day'] = day\n",
    "    \n",
    "    #call datetime date function and return day of week for each date.\n",
    "    day_name = []\n",
    "    day_code = []\n",
    "    ROWS = range(0, int(ds.shape[0]))\n",
    "    for n in ROWS:  \n",
    "        today = datetime.date(2000 + int(ds.iloc[n]['Year']), int(ds.iloc[n]['Month']), int(ds.iloc[n]['Day']))\n",
    "        day_name.append(today.strftime(\"%A\"))\n",
    "        if(today.strftime(\"%A\") == \"Sunday\"):\n",
    "            day_code.append(0)\n",
    "        elif(today.strftime(\"%A\") == \"Monday\"):\n",
    "            day_code.append(1)\n",
    "        elif(today.strftime(\"%A\") == \"Tuesday\"):\n",
    "            day_code.append(2)\n",
    "        elif(today.strftime(\"%A\") == \"Wednesday\"):\n",
    "            day_code.append(3)\n",
    "        elif(today.strftime(\"%A\") == \"Thursday\"):\n",
    "            day_code.append(4)\n",
    "        elif(today.strftime(\"%A\") == \"Friday\"):\n",
    "            day_code.append(5)\n",
    "        elif(today.strftime(\"%A\") == \"Saturday\"):\n",
    "            day_code.append(6)\n",
    "        else:\n",
    "            day_code.append(None)\n",
    "    \n",
    "    ds['DayName'] = day_name\n",
    "    ds['DayCode'] = day_code\n",
    "    #print(day_name)\n",
    "    display(ds)\n",
    "    \n",
    "    def getNum(x):\n",
    "        if(x == \"Sunday\"):\n",
    "            return 0\n",
    "        if(x == \"Monday\"):\n",
    "            return 1\n",
    "        if(x == \"Tuesday\"):\n",
    "            return 2        \n",
    "        if(x == \"Wednesday\"):\n",
    "            return 3\n",
    "        if(x == \"Thursday\"):\n",
    "            return 4        \n",
    "        if(x == \"Friday\"):\n",
    "            return 5        \n",
    "        if(x == \"Saturday\"):\n",
    "            return 6    \n",
    "        else:\n",
    "            return None\n",
    "    #Retrieve weekcode and update in table\n",
    "    \n",
    "    #groupby each year month day day of week, etc for more data analysis... \n",
    "    #...most spent perday, per month, week, etc..\n",
    "    ##UNSUCCESSFUL because of leap years? date counter off..\n",
    "    wnum = None\n",
    "    dfwn = []\n",
    "    dfwn2 = []\n",
    "    for y in ds['Year'].unique():\n",
    "        #instantiate the current year scope\n",
    "        this_year = ds[ds['Year'] == y]\n",
    "        display(this_year)\n",
    "        #groupby month in current year\n",
    "        dfy = []\n",
    "        dfy2 = []\n",
    "        print(y)\n",
    "        for m in this_year['Month'].unique():\n",
    "            #instantiate the current month scope\n",
    "            this_month = this_year[this_year['Month'] == m]\n",
    "            display(this_month)\n",
    "            this_week = 1\n",
    "            #first day in dataset of this month\n",
    "            #print('Month: ' + m)\n",
    "            fom = datetime.date(2000 + int(y), int(m), 1)\n",
    "            t = fom.strftime(\"%A\")\n",
    "            weekdaynumoffirstofmonth = getNum(str(t))\n",
    "            month_vals = []\n",
    "            month_vals2 = []\n",
    "            count = 0\n",
    "            first = 1\n",
    "            wdnum = None\n",
    "            for d in this_month['Day']:\n",
    "                weekdaynumwewant = weekdaynumoffirstofmonth\n",
    "                start = 1\n",
    "                #print('First & Last')\n",
    "                #print(start)\n",
    "                #print(d)\n",
    "                while (start <= int(d)):\n",
    "                    if(weekdaynumwewant < 6):\n",
    "                        weekdaynumwewant += 1\n",
    "                    else: \n",
    "                        weekdaynumwewant = 0\n",
    "                        this_week  +=1\n",
    "                    start +=1\n",
    "                wdnum = weekdaynumwewant\n",
    "                wnum = this_week\n",
    "                #print('wnum = ' + str(wdnum) )\n",
    "                month_vals.insert(count, wdnum)\n",
    "                month_vals2.insert(count, wnum)\n",
    "                count+=1\n",
    "            \n",
    "            #print('\\nmonth_vals\\n')\n",
    "            #print(month_vals)\n",
    "            dfy += month_vals\n",
    "            dfy2 +=month_vals2\n",
    "            #print('\\nEDNOFMONTH\\n')  \n",
    "        \n",
    "        #print('\\year_vals\\n')\n",
    "        #print(dfy)\n",
    "        dfwn += dfy\n",
    "        dfwn2 += dfy2\n",
    "        #print('\\nENDOFYEAR\\n')\n",
    "    #print(\"\\nDOC_vals\\n\")   \n",
    "    #display(dfwn)\n",
    "    #display(dfwn2)\n",
    "    #print(\"\\nENDOFDOC\\n\")\n",
    "    \n",
    "    ds['WeekNum'] = dfwn\n",
    "    ds['wn'] = dfwn2\n",
    "    #heatmap fore each month based on what you spent the most on that day per week\n",
    "    #print(\"Daily Max Purchase per month\")\n",
    "    #for month in ds['Year'].unique():\n",
    "    #Total Money Spent Per Month (descending AND chronilogically)\n",
    "    print('\\n\\nSum of Items per Charge Category:\\n')\n",
    "    count = 0\n",
    "    for each in ds['Year'].unique():\n",
    "        df_sample = ds[ds['Year'] == each]\n",
    "        print(df_sample.groupby(\"MonthName\")[\"Debit\"].sum().sort_values(ascending=False))\n",
    "        ds5 = pd.DataFrame(df_sample.groupby(\"MonthName\")[\"Debit\"].sum().sort_values(ascending=False))\n",
    "        figa = px.bar(x=ds5.index.values, y=ds5['Debit'].values, title=\"Most Money Spent per Month\", labels={'x':'Category', 'y':'Sum of Items (USD)'})\n",
    "        figa.write_image(\"./Visualizations/\" + str(count) + \"aa.png\")\n",
    "        figa.show()\n",
    "        \n",
    "        print(df_sample.groupby(\"MonthName\")[\"Debit\"].sum())\n",
    "        ds6 = pd.DataFrame(df_sample.groupby(\"MonthName\")[\"Debit\"].sum())\n",
    "        figb = px.bar(x=ds6.index.values, y=ds6['Debit'].values, title=\"Money Spent per Month\", labels={'x':'Category', 'y':'Sum of Items (USD)'})\n",
    "        figb.write_image(\"./Visualizations/\" + str(count) + \"bb.png\")\n",
    "        figb.show()\n",
    "        \n",
    "        count+=1\n",
    "    display(ds)\n",
    "    \n",
    "#Caller    \n",
    "if __name__ == \"__main__\":\n",
    "    Main()\n"
   ]
  },
  {
   "cell_type": "code",
   "execution_count": null,
   "metadata": {},
   "outputs": [],
   "source": []
  }
 ],
 "metadata": {
  "kernelspec": {
   "display_name": "Python 3",
   "language": "python",
   "name": "python3"
  },
  "language_info": {
   "codemirror_mode": {
    "name": "ipython",
    "version": 3
   },
   "file_extension": ".py",
   "mimetype": "text/x-python",
   "name": "python",
   "nbconvert_exporter": "python",
   "pygments_lexer": "ipython3",
   "version": "3.7.4"
  }
 },
 "nbformat": 4,
 "nbformat_minor": 2
}
